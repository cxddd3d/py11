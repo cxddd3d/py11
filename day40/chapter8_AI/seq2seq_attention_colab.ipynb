{
  "cells": [
    {
      "cell_type": "code",
      "execution_count": 1,
      "id": "f2ff7f77",
      "metadata": {
        "colab": {
          "base_uri": "https://localhost:8080/"
        },
        "id": "f2ff7f77",
        "outputId": "381ee55d-5d75-4a67-acb2-f78bee5d845c"
      },
      "outputs": [
        {
          "output_type": "stream",
          "name": "stdout",
          "text": [
            "sys.version_info(major=3, minor=11, micro=13, releaselevel='final', serial=0)\n",
            "matplotlib 3.10.0\n",
            "numpy 2.0.2\n",
            "pandas 2.2.2\n",
            "sklearn 1.6.1\n",
            "torch 2.6.0+cu124\n",
            "cuda:0\n"
          ]
        }
      ],
      "source": [
        "import matplotlib as mpl\n",
        "import matplotlib.pyplot as plt\n",
        "%matplotlib inline\n",
        "import numpy as np\n",
        "import sklearn\n",
        "import pandas as pd\n",
        "import os\n",
        "import sys\n",
        "import time\n",
        "from tqdm.auto import tqdm\n",
        "import torch\n",
        "import torch.nn as nn\n",
        "import torch.nn.functional as F\n",
        "\n",
        "print(sys.version_info)\n",
        "for module in mpl, np, pd, sklearn, torch:\n",
        "    print(module.__name__, module.__version__)\n",
        "\n",
        "device = torch.device(\"cuda:0\") if torch.cuda.is_available() else torch.device(\"cpu\")\n",
        "print(device)\n",
        "\n",
        "seed = 42\n",
        "torch.manual_seed(seed)\n",
        "torch.cuda.manual_seed_all(seed)\n",
        "np.random.seed(seed)"
      ]
    },
    {
      "cell_type": "markdown",
      "id": "4a7fe48a",
      "metadata": {
        "id": "4a7fe48a"
      },
      "source": [
        "# 1. preprocessing data"
      ]
    },
    {
      "cell_type": "markdown",
      "id": "492f2369",
      "metadata": {
        "id": "492f2369"
      },
      "source": [
        "## 数据加载"
      ]
    },
    {
      "cell_type": "code",
      "execution_count": 2,
      "id": "initial_id",
      "metadata": {
        "colab": {
          "base_uri": "https://localhost:8080/"
        },
        "collapsed": true,
        "id": "initial_id",
        "outputId": "4cb905c4-c79a-49a1-85aa-689944496db2"
      },
      "outputs": [
        {
          "output_type": "stream",
          "name": "stdout",
          "text": [
            "May I borrow, this book?\n",
            "¿Puedo tomar prestado este libro?\n"
          ]
        }
      ],
      "source": [
        "import unicodedata\n",
        "import re\n",
        "\n",
        "\n",
        "#因为西班牙语有一些是特殊字符，所以我们需要unicode转ascii，\n",
        "# 这样值变小了，因为unicode太大\n",
        "def unicode_to_ascii(s):\n",
        "    #NFD是转换方法，把每一个字节拆开，Mn是重音，所以去除\n",
        "    return ''.join(c for c in unicodedata.normalize('NFD', s) if unicodedata.category(c) != 'Mn')\n",
        "\n",
        "#下面我们找个样本测试一下\n",
        "# 加u代表对字符串进行unicode编码\n",
        "en_sentence = u\"May I borrow, this book?\"\n",
        "sp_sentence = u\"¿Puedo tomar prestado este libro?\"\n",
        "\n",
        "print(unicode_to_ascii(en_sentence))\n",
        "print(unicode_to_ascii(sp_sentence))\n"
      ]
    },
    {
      "cell_type": "code",
      "execution_count": 3,
      "id": "ae160f03",
      "metadata": {
        "colab": {
          "base_uri": "https://localhost:8080/"
        },
        "id": "ae160f03",
        "outputId": "457a39ff-5a5a-455d-c7b2-31cb6baf9072"
      },
      "outputs": [
        {
          "output_type": "stream",
          "name": "stdout",
          "text": [
            "may i borrow , this book ?\n",
            "¿ puedo tomar prestado este libro ?\n",
            "b'\\xc2\\xbf puedo tomar prestado este libro ?'\n"
          ]
        }
      ],
      "source": [
        "def preprocess_sentence(w):\n",
        "    #变为小写，去掉多余的空格，变成小写，id少一些\n",
        "    w = unicode_to_ascii(w.lower().strip())\n",
        "\n",
        "    # 在单词与跟在其后的标点符号之间插入一个空格\n",
        "    # eg: \"he is a boy.\" => \"he is a boy . \"\n",
        "    # Reference:- https://stackoverflow.com/questions/3645931/python-padding-punctuation-with-white-spaces-keeping-punctuation\n",
        "    w = re.sub(r\"([?.!,¿])\", r\" \\1 \", w)\n",
        "    #因为可能有多余空格，替换为一个空格，所以处理一下\n",
        "    w = re.sub(r'[\" \"]+', \" \", w)\n",
        "\n",
        "    # 除了 (a-z, A-Z, \".\", \"?\", \"!\", \",\")，将所有字符替换为空格，你可以保留一些标点符号\n",
        "    w = re.sub(r\"[^a-zA-Z?.!,¿]+\", \" \", w)\n",
        "\n",
        "\n",
        "\n",
        "    w = w.strip() #strip是去掉两边的空格\n",
        "\n",
        "    return w\n",
        "\n",
        "print(preprocess_sentence(en_sentence))\n",
        "print(preprocess_sentence(sp_sentence))\n",
        "print(preprocess_sentence(sp_sentence).encode('utf-8'))  #¿是占用两个字节的"
      ]
    },
    {
      "cell_type": "code",
      "execution_count": 4,
      "id": "8ebb0b91",
      "metadata": {
        "colab": {
          "base_uri": "https://localhost:8080/"
        },
        "id": "8ebb0b91",
        "outputId": "a6205020-3064-440a-c194-3a6bc6a95953"
      },
      "outputs": [
        {
          "output_type": "execute_result",
          "data": {
            "text/plain": [
              "array(['train', 'test', 'train', 'train', 'train', 'train', 'train',\n",
              "       'train', 'train', 'train', 'train', 'test', 'train', 'train',\n",
              "       'train', 'train', 'train', 'train', 'train', 'train', 'train',\n",
              "       'train', 'train', 'train', 'train', 'train', 'train', 'train',\n",
              "       'train', 'train', 'train', 'train', 'train', 'test', 'test',\n",
              "       'train', 'train', 'train', 'train', 'train', 'train', 'train',\n",
              "       'train', 'test', 'train', 'train', 'train', 'train', 'train',\n",
              "       'train', 'test', 'train', 'test', 'train', 'train', 'test',\n",
              "       'train', 'train', 'train', 'train', 'train', 'train', 'train',\n",
              "       'train', 'train', 'train', 'train', 'train', 'train', 'test',\n",
              "       'train', 'train', 'train', 'train', 'train', 'train', 'train',\n",
              "       'train', 'train', 'train', 'train', 'train', 'train', 'train',\n",
              "       'train', 'train', 'train', 'train', 'train', 'train', 'train',\n",
              "       'train', 'train', 'train', 'train', 'train', 'train', 'train',\n",
              "       'train', 'train'], dtype='<U5')"
            ]
          },
          "metadata": {},
          "execution_count": 4
        }
      ],
      "source": [
        "#划分训练集和测试集的一个方法\n",
        "split_index1 = np.random.choice(a=[\"train\", \"test\"], replace=True, p=[0.9, 0.1], size=100)\n",
        "split_index1"
      ]
    },
    {
      "cell_type": "markdown",
      "id": "12de193a",
      "metadata": {
        "id": "12de193a"
      },
      "source": [
        "## Dataset"
      ]
    },
    {
      "cell_type": "code",
      "execution_count": 5,
      "id": "4165b75f",
      "metadata": {
        "colab": {
          "base_uri": "https://localhost:8080/"
        },
        "id": "4165b75f",
        "outputId": "ad00cc86-4579-4fcf-faf9-ce19ecbe20c6"
      },
      "outputs": [
        {
          "output_type": "stream",
          "name": "stdout",
          "text": [
            "从spa.txt读取数据并创建train数据集...\n",
            "从spa.txt读取数据并创建test数据集...\n"
          ]
        }
      ],
      "source": [
        "# 创建一个继承自torch.utils.data.Dataset的数据集类\n",
        "import torch\n",
        "from torch.utils.data import Dataset\n",
        "import os\n",
        "\n",
        "\n",
        "class TranslationDataset(Dataset):\n",
        "    def __init__(self, path, num_examples=None, split=None):\n",
        "        # 检查是否存在缓存文件\n",
        "        cache_file_en = f\"{split}_en_sentences.npy\" if split else \"all_en_sentences.npy\"\n",
        "        cache_file_sp = f\"{split}_sp_sentences.npy\" if split else \"all_sp_sentences.npy\"\n",
        "\n",
        "        # 如果缓存文件存在，直接加载\n",
        "        if os.path.exists(cache_file_en) and os.path.exists(cache_file_sp):\n",
        "            print(f\"从缓存文件加载{split}数据...\")\n",
        "            self.trg = np.load(cache_file_en)\n",
        "            self.src = np.load(cache_file_sp)\n",
        "        else:\n",
        "            print(f\"从{path}读取数据并创建{split}数据集...\")\n",
        "            # 读取文件\n",
        "            lines = open(path, encoding=\"UTF-8\").read().strip().split(\"\\n\")\n",
        "\n",
        "            # 创建空列表存储英语和西班牙语句子对\n",
        "            self.en_sentences = []\n",
        "            self.sp_sentences = []\n",
        "\n",
        "            # 生成训练集和测试集的索引,如果num_examples为None，则使用所有行，否则使用num_examples行\n",
        "            total_examples = (\n",
        "                len(lines) if num_examples is None else min(num_examples, len(lines))\n",
        "            )\n",
        "            split_index = np.random.choice(\n",
        "                a=[\"train\", \"test\"], replace=True, p=[0.9, 0.1], size=total_examples\n",
        "            )\n",
        "\n",
        "            # 遍历每一行，按tab分隔英语和西班牙语\n",
        "            for i, line in enumerate(lines[:total_examples]):\n",
        "                # 如果指定了split，则只保留对应的数据\n",
        "                if split is not None and split_index[i] != split:\n",
        "                    continue\n",
        "\n",
        "                # 按tab分隔\n",
        "                en, sp = line.split(\"\\t\")\n",
        "\n",
        "                # 预处理句子\n",
        "                en = preprocess_sentence(en)\n",
        "                sp = preprocess_sentence(sp)\n",
        "\n",
        "                # 添加到列表中\n",
        "                self.en_sentences.append(en)\n",
        "                self.sp_sentences.append(sp)\n",
        "\n",
        "            # 转换为numpy数组\n",
        "            self.trg = np.array(self.en_sentences)  # 英语\n",
        "            self.src = np.array(self.sp_sentences)  # 西班牙语\n",
        "\n",
        "            # 保存为numpy文件进行缓存\n",
        "            np.save(cache_file_en, self.trg)\n",
        "            np.save(cache_file_sp, self.src)\n",
        "\n",
        "    def __len__(self):\n",
        "        return len(self.trg)\n",
        "\n",
        "    def __getitem__(self, idx):\n",
        "        return self.src[idx], self.trg[idx]\n",
        "\n",
        "\n",
        "# 从spa.txt创建数据集\n",
        "train_dataset = TranslationDataset(\"spa.txt\", split=\"train\")\n",
        "test_dataset = TranslationDataset(\"spa.txt\", split=\"test\")"
      ]
    },
    {
      "cell_type": "code",
      "execution_count": 6,
      "id": "639e0829",
      "metadata": {
        "colab": {
          "base_uri": "https://localhost:8080/"
        },
        "id": "639e0829",
        "outputId": "a126472f-91cb-4400-faa8-2b74f0912304"
      },
      "outputs": [
        {
          "output_type": "stream",
          "name": "stdout",
          "text": [
            "source: si quieres sonar como un hablante nativo , debes estar dispuesto a practicar diciendo la misma frase una y otra vez de la misma manera en que un musico de banjo practica el mismo fraseo una y otra vez hasta que lo puedan tocar correctamente y en el tiempo esperado .\n",
            "target: if you want to sound like a native speaker , you must be willing to practice saying the same sentence over and over in the same way that banjo players practice the same phrase over and over until they can play it correctly and at the desired tempo .\n"
          ]
        }
      ],
      "source": [
        "print(\"source: {}\\ntarget: {}\".format(*train_dataset[-1]))"
      ]
    },
    {
      "cell_type": "markdown",
      "id": "066c556f",
      "metadata": {
        "id": "066c556f"
      },
      "source": [
        "### Tokenizer\n",
        "\n",
        "这里有两种处理方式，分别对应着 encoder 和 decoder 的 word embedding 是否共享，这里实现不共享的方案。"
      ]
    },
    {
      "cell_type": "code",
      "execution_count": 7,
      "id": "6f347923",
      "metadata": {
        "colab": {
          "base_uri": "https://localhost:8080/"
        },
        "id": "6f347923",
        "outputId": "bf4ec4d1-d02f-46a6-88e0-7a6f4edb7167"
      },
      "outputs": [
        {
          "output_type": "stream",
          "name": "stdout",
          "text": [
            "英语词典大小: 12504\n",
            "西班牙语词典大小: 23719\n"
          ]
        }
      ],
      "source": [
        "from collections import Counter\n",
        "import numpy as np\n",
        "\n",
        "\n",
        "# 构建英语和西班牙语的词典\n",
        "def build_vocab(sentences, min_freq=1):\n",
        "    # 初始化词典，包含特殊标记\n",
        "    word2idx = {\n",
        "        \"[PAD]\": 0,  # 填充 token\n",
        "        \"[BOS]\": 1,  # begin of sentence\n",
        "        \"[UNK]\": 2,  # 未知 token\n",
        "        \"[EOS]\": 3,  # end of sentence\n",
        "    }\n",
        "\n",
        "    # 使用Counter统计词频\n",
        "    counter = Counter()\n",
        "    for sentence in sentences:\n",
        "        counter.update(sentence.split())\n",
        "\n",
        "    # 按词频排序并添加到词典中\n",
        "    idx = len(word2idx)\n",
        "    # 返回计数最高的前 n 个元素及其计数，若未指定 n 则返回所有元素\n",
        "    for word, count in counter.most_common():\n",
        "        if count >= min_freq:\n",
        "            word2idx[word] = idx\n",
        "            idx += 1\n",
        "\n",
        "    return word2idx\n",
        "\n",
        "\n",
        "# 构建英语和西班牙语词典\n",
        "trg_word2idx = build_vocab(train_dataset.trg)  # 英语\n",
        "src_word2idx = build_vocab(train_dataset.src)  # 西班牙语\n",
        "\n",
        "# 创建反向映射（索引到词）\n",
        "trg_idx2word = {idx: word for word, idx in trg_word2idx.items()}\n",
        "src_idx2word = {idx: word for word, idx in src_word2idx.items()}\n",
        "\n",
        "# 打印词典大小\n",
        "print(f\"英语词典大小: {len(trg_word2idx)}\")\n",
        "print(f\"西班牙语词典大小: {len(src_word2idx)}\")"
      ]
    },
    {
      "cell_type": "markdown",
      "id": "8e3d95f7",
      "metadata": {
        "id": "8e3d95f7"
      },
      "source": [
        "# Tokenizer"
      ]
    },
    {
      "cell_type": "code",
      "execution_count": 8,
      "id": "f82f9095",
      "metadata": {
        "colab": {
          "base_uri": "https://localhost:8080/"
        },
        "id": "f82f9095",
        "outputId": "68a4a434-aacb-463f-a2fa-1ae4686436a0"
      },
      "outputs": [
        {
          "output_type": "stream",
          "name": "stdout",
          "text": [
            "batch_text----------\n",
            "['hello', 'world']\n",
            "['tokenize', 'text', 'datas', 'with', 'batch']\n",
            "['this', 'is', 'a', 'test']\n",
            "mask----------\n",
            "tensor([0, 0, 0, 0, 1, 1, 1])\n",
            "tensor([0, 0, 0, 0, 0, 0, 0])\n",
            "tensor([0, 0, 0, 0, 0, 0, 1])\n",
            "indices----------\n",
            "tensor([   1, 1745,  309,    3,    0,    0,    0])\n",
            "tensor([   1,    2, 2103,    2,   39,    2,    3])\n",
            "tensor([  1,  23,  12,  10, 924,   3,   0])\n"
          ]
        }
      ],
      "source": [
        "class Tokenizer:\n",
        "    def __init__(self, word2idx, idx2word, max_length=500, pad_idx=0, bos_idx=1, eos_idx=3, unk_idx=2):\n",
        "        self.word2idx = word2idx  # 词到索引的映射字典\n",
        "        self.idx2word = idx2word  # 索引到词的映射字典\n",
        "        self.max_length = max_length  # 序列的最大长度\n",
        "        self.pad_idx = pad_idx  # 填充标记的索引\n",
        "        self.bos_idx = bos_idx  # 句子开始标记的索引\n",
        "        self.eos_idx = eos_idx  # 句子结束标记的索引\n",
        "        self.unk_idx = unk_idx  # 未知词标记的索引\n",
        "\n",
        "    def encode(self, text_list, padding_first=False, add_bos=True, add_eos=True, return_mask=False):\n",
        "        \"\"\"如果padding_first == True，则padding加载前面，否则加载后面\n",
        "        return_mask: 是否返回mask(掩码），mask用于指示哪些是padding的，哪些是真实的token\n",
        "        \"\"\"\n",
        "        max_length = min(self.max_length, add_eos + add_bos + max([len(text) for text in text_list]))  # 计算实际需要的最大长度\n",
        "        indices_list = []  # 初始化索引列表\n",
        "        for text in text_list:  # 遍历每个文本\n",
        "            indices = [self.word2idx.get(word, self.unk_idx) for word in text[:max_length - add_bos - add_eos]]  # 将文本中的词转换为索引，如果词不在词表中则使用unk_idx\n",
        "            if add_bos:  # 如果需要添加句子开始标记\n",
        "                indices = [self.bos_idx] + indices  # 在序列开头添加BOS标记\n",
        "            if add_eos:  # 如果需要添加句子结束标记\n",
        "                indices = indices + [self.eos_idx]  # 在序列末尾添加EOS标记\n",
        "            if padding_first:  # 如果padding需要加在前面\n",
        "                indices = [self.pad_idx] * (max_length - len(indices)) + indices  # 在序列前面添加padding\n",
        "            else:  # 如果padding需要加在后面\n",
        "                indices = indices + [self.pad_idx] * (max_length - len(indices))  # 在序列后面添加padding\n",
        "            indices_list.append(indices)  # 将处理后的索引添加到列表中\n",
        "        input_ids = torch.tensor(indices_list)  # 将索引列表转换为tensor\n",
        "        masks = (input_ids == self.pad_idx).to(dtype=torch.int64)  # 创建mask，1表示padding位置，0表示实际token位置\n",
        "        return input_ids if not return_mask else (input_ids, masks)  # 根据return_mask参数决定返回值\n",
        "\n",
        "    def decode(self, indices_list, remove_bos=True, remove_eos=True, remove_pad=True, split=False):\n",
        "        text_list = []  # 初始化文本列表\n",
        "        for indices in indices_list:  # 遍历每个索引序列\n",
        "            text = []  # 初始化当前文本\n",
        "            for index in indices:  # 遍历序列中的每个索引\n",
        "                word = self.idx2word.get(index, \"[UNK]\")  # 将索引转换为词，如果索引不在词表中则使用\"[UNK]\"\n",
        "                if remove_bos and word == \"[BOS]\":  # 如果需要移除BOS标记且当前词是BOS\n",
        "                    continue  # 跳过这个词\n",
        "                if remove_eos and word == \"[EOS]\":  # 如果需要移除EOS标记且当前词是EOS\n",
        "                    break  # 结束当前序列的处理\n",
        "                if remove_pad and word == \"[PAD]\":  # 如果需要移除PAD标记且当前词是PAD\n",
        "                    break  # 结束当前序列的处理\n",
        "                text.append(word)  # 将词添加到当前文本中\n",
        "            text_list.append(\" \".join(text) if not split else text)  # 根据split参数决定返回连接后的字符串还是词列表\n",
        "        return text_list  # 返回处理后的文本列表\n",
        "\n",
        "# 两个相对于1个tokenizer的好处是embedding的参数量减少\n",
        "src_tokenizer = Tokenizer(word2idx=src_word2idx, idx2word=src_idx2word)  # 创建源语言(西班牙语)的tokenizer\n",
        "trg_tokenizer = Tokenizer(word2idx=trg_word2idx, idx2word=trg_idx2word)  # 创建目标语言(英语)的tokenizer\n",
        "\n",
        "batch_text = [\"hello world\".split(), \"tokenize text datas with batch\".split(), \"this is a test\".split()]\n",
        "indices,mask = trg_tokenizer.encode(batch_text, padding_first=False, add_bos=True, add_eos=True,return_mask=True)\n",
        "\n",
        "print(\"batch_text\"+'-'*10)\n",
        "for raw in batch_text:\n",
        "    print(raw)\n",
        "print(\"mask\"+'-'*10)\n",
        "for m in mask:\n",
        "    print(m)\n",
        "print(\"indices\"+'-'*10)\n",
        "for index in indices:\n",
        "    print(index)"
      ]
    },
    {
      "cell_type": "markdown",
      "id": "9eb52f7d",
      "metadata": {
        "id": "9eb52f7d"
      },
      "source": [
        "# DataLoader"
      ]
    },
    {
      "cell_type": "code",
      "execution_count": 9,
      "id": "d074472c",
      "metadata": {
        "id": "d074472c"
      },
      "outputs": [],
      "source": [
        "def collate_fn(batch):\n",
        "    \"\"\"\n",
        "    数据批处理函数\n",
        "\n",
        "    Args:\n",
        "        batch: 批次数据\n",
        "        src_tokenizer: 源语言tokenizer\n",
        "        trg_tokenizer: 目标语言tokenizer\n",
        "        device: 设备，如果指定则将tensor移至该设备\n",
        "\n",
        "    Returns:\n",
        "        包含编码后的tensor的字典\n",
        "    \"\"\"\n",
        "    src_texts = [pair[0].split() for pair in batch] #取batch内第0列进行分词，赋给src_words\n",
        "    trg_texts = [pair[1].split() for pair in batch] #取batch内第1列进行分词，赋给trg_words\n",
        "\n",
        "    # 编码源语言输入\n",
        "    encoder_inputs, encoder_inputs_mask = src_tokenizer.encode(\n",
        "        src_texts,\n",
        "        padding_first=True, #padding加在前面\n",
        "        add_bos=True,\n",
        "        add_eos=True,\n",
        "        return_mask=True\n",
        "    )\n",
        "\n",
        "    # 编码目标语言输入（用于训练时的teacher forcing）\n",
        "    decoder_inputs= trg_tokenizer.encode(\n",
        "        trg_texts,\n",
        "        padding_first=False, #padding加在后面\n",
        "        add_bos=True,\n",
        "        add_eos=False,\n",
        "        return_mask=False\n",
        "    )\n",
        "\n",
        "    # 编码目标语言标签（用于计算损失）\n",
        "    decoder_labels, decoder_labels_mask = trg_tokenizer.encode(\n",
        "        trg_texts,\n",
        "        padding_first=False,\n",
        "        add_bos=False,\n",
        "        add_eos=True,\n",
        "        return_mask=True\n",
        "    )\n",
        "\n",
        "    result = {\n",
        "        \"encoder_inputs\": encoder_inputs,\n",
        "        \"encoder_inputs_mask\": encoder_inputs_mask,\n",
        "        \"decoder_inputs\": decoder_inputs,\n",
        "        \"decoder_labels\": decoder_labels,\n",
        "        \"decoder_labels_mask\": decoder_labels_mask\n",
        "    }\n",
        "\n",
        "    # 如果指定了设备，将所有tensor移至该设备\n",
        "    if device is not None:\n",
        "        result = {k: v.to(device=device) for k, v in result.items()}\n",
        "\n",
        "    return result\n",
        "\n",
        "\n",
        "\n"
      ]
    },
    {
      "cell_type": "code",
      "execution_count": 10,
      "id": "8d33abe2",
      "metadata": {
        "colab": {
          "base_uri": "https://localhost:8080/"
        },
        "id": "8d33abe2",
        "outputId": "6b34a988-b16f-4df0-b6b5-a7f8f5bf5096"
      },
      "outputs": [
        {
          "output_type": "stream",
          "name": "stdout",
          "text": [
            "encoder_inputs\n",
            "tensor([[   0,    1,   17,    6,   72,   15,    7,    4,    3],\n",
            "        [   1,   10, 3919,    7, 1753,  142, 2999,    4,    3]],\n",
            "       device='cuda:0')\n",
            "encoder_inputs_mask\n",
            "tensor([[1, 0, 0, 0, 0, 0, 0, 0, 0],\n",
            "        [0, 0, 0, 0, 0, 0, 0, 0, 0]], device='cuda:0')\n",
            "decoder_inputs\n",
            "tensor([[   1,    5,   46,   91,   14,  494,   71,    4,    0],\n",
            "        [   1,    9, 2038,    6, 2008,  261,  373,   15,    4]],\n",
            "       device='cuda:0')\n",
            "decoder_labels\n",
            "tensor([[   5,   46,   91,   14,  494,   71,    4,    3,    0],\n",
            "        [   9, 2038,    6, 2008,  261,  373,   15,    4,    3]],\n",
            "       device='cuda:0')\n",
            "decoder_labels_mask\n",
            "tensor([[0, 0, 0, 0, 0, 0, 0, 0, 1],\n",
            "        [0, 0, 0, 0, 0, 0, 0, 0, 0]], device='cuda:0')\n"
          ]
        }
      ],
      "source": [
        "from torch.utils.data import DataLoader\n",
        "sample_dl = DataLoader(train_dataset, batch_size=2, shuffle=True, collate_fn=collate_fn)\n",
        "\n",
        "#两次执行这个代码效果不一样，因为每次执行都会shuffle\n",
        "for batch in sample_dl:\n",
        "    for key, value in batch.items():\n",
        "        print(key)\n",
        "        print(value)\n",
        "    break"
      ]
    },
    {
      "cell_type": "markdown",
      "id": "87714908",
      "metadata": {
        "id": "87714908"
      },
      "source": [
        "# 定义模型"
      ]
    },
    {
      "cell_type": "code",
      "execution_count": 11,
      "id": "806adc98",
      "metadata": {
        "id": "806adc98"
      },
      "outputs": [],
      "source": [
        "import torch\n",
        "import torch.nn as nn\n",
        "import torch.nn.functional as F\n",
        "\n",
        "class Encoder(nn.Module):\n",
        "    \"\"\"\n",
        "    序列到序列模型的编码器部分\n",
        "    \"\"\"\n",
        "    def __init__(self, vocab_size, embedding_dim, hidden_size, num_layers=1, dropout=0.0):\n",
        "        \"\"\"\n",
        "        初始化编码器\n",
        "\n",
        "        参数:\n",
        "        - vocab_size: 源语言词汇表大小\n",
        "        - embedding_dim: 词嵌入维度\n",
        "        - hidden_size: 隐藏状态维度\n",
        "        - num_layers: GRU层数\n",
        "        - dropout: Dropout比率\n",
        "        \"\"\"\n",
        "        super().__init__()\n",
        "\n",
        "        # 词嵌入层\n",
        "        self.embedding = nn.Embedding(vocab_size, embedding_dim)\n",
        "\n",
        "        # GRU层,batch_first=True表示输入的形状为[batch_size, seq_len]\n",
        "        self.gru = nn.GRU(\n",
        "            input_size=embedding_dim,\n",
        "            hidden_size=hidden_size,\n",
        "            num_layers=num_layers,\n",
        "            batch_first=True,\n",
        "            dropout=dropout if num_layers > 1 else 0\n",
        "        )\n",
        "\n",
        "        self.dropout = nn.Dropout(dropout)\n",
        "        self.hidden_size = hidden_size\n",
        "        self.num_layers = num_layers\n",
        "\n",
        "    def forward(self, src, src_mask=None, src_lengths=None):\n",
        "        \"\"\"\n",
        "        前向传播\n",
        "\n",
        "        参数:\n",
        "        - src: 源语言序列 [batch_size, seq_len]\n",
        "        - src_mask: 源语言序列的掩码 [batch_size, seq_len]\n",
        "        - src_lengths: 源语言序列的实际长度 [batch_size]\n",
        "\n",
        "        返回:\n",
        "        - encoder_outputs: 编码器所有时间步的输出 [batch_size, seq_len, hidden_size]\n",
        "        - hidden: 解码器初始隐藏状态 [num_layers, batch_size, hidden_size]\n",
        "        \"\"\"\n",
        "\n",
        "        # 词嵌入\n",
        "        embedded = self.dropout(self.embedding(src))  #[batch_size, seq_len] -> [batch_size, seq_len, embedding_dim]\n",
        "\n",
        "        # 通过GRU\n",
        "        #[batch_size, seq_len, embedding_dim]-> encoder_outputs [batch_size, seq_len, hidden_dim]\n",
        "        #[batch_size, seq_len, embedding_dim]-> hidden [num_layers, batch_size, hidden_dim]\n",
        "        encoder_outputs, hidden = self.gru(embedded)\n",
        "\n",
        "        # 返回编码器所有时间步的输出和解码器初始隐藏状态\n",
        "        return encoder_outputs, hidden\n"
      ]
    },
    {
      "cell_type": "code",
      "execution_count": 12,
      "id": "bb7290e4",
      "metadata": {
        "colab": {
          "base_uri": "https://localhost:8080/"
        },
        "id": "bb7290e4",
        "outputId": "814aa9f3-b236-4d13-c1c1-937d8ca653e2"
      },
      "outputs": [
        {
          "output_type": "stream",
          "name": "stdout",
          "text": [
            "源序列形状: torch.Size([64, 20])\n",
            "编码器输出形状: torch.Size([64, 20, 512])\n",
            "隐藏状态形状: torch.Size([2, 64, 512])\n",
            "Encoder测试通过!\n"
          ]
        }
      ],
      "source": [
        "# 测试Encoder\n",
        "import torch\n",
        "\n",
        "# 创建测试参数\n",
        "vocab_size = len(src_tokenizer.word2idx)\n",
        "embedding_dim = 256\n",
        "hidden_size = 512\n",
        "num_layers = 2\n",
        "dropout = 0.3\n",
        "batch_size = 64\n",
        "seq_len = 20\n",
        "\n",
        "# 实例化Encoder\n",
        "encoder = Encoder(vocab_size, embedding_dim, hidden_size, num_layers, dropout)\n",
        "\n",
        "# 创建测试输入\n",
        "src = torch.randint(0, vocab_size, (batch_size, seq_len))  # [batch_size, seq_len]\n",
        "\n",
        "# 前向传播\n",
        "encoder_outputs, hidden = encoder(src)\n",
        "\n",
        "# 打印输出形状\n",
        "print(f\"源序列形状: {src.shape}\")\n",
        "print(f\"编码器输出形状: {encoder_outputs.shape}\")\n",
        "print(f\"隐藏状态形状: {hidden.shape}\")\n",
        "\n",
        "# 验证输出维度是否符合预期\n",
        "assert encoder_outputs.shape == (batch_size, seq_len, hidden_size)\n",
        "assert hidden.shape == (num_layers, batch_size, hidden_size)\n",
        "\n",
        "print(\"Encoder测试通过!\")\n"
      ]
    },
    {
      "cell_type": "markdown",
      "id": "0d68b24b",
      "metadata": {
        "id": "0d68b24b"
      },
      "source": [
        "# Bahdanau注意力"
      ]
    },
    {
      "cell_type": "code",
      "execution_count": 13,
      "id": "8a86ea51",
      "metadata": {
        "colab": {
          "base_uri": "https://localhost:8080/"
        },
        "id": "8a86ea51",
        "outputId": "3b36741c-b3b8-4afe-f99e-f79d5cadeacd"
      },
      "outputs": [
        {
          "output_type": "execute_result",
          "data": {
            "text/plain": [
              "tensor([[-inf, -inf, 3., 4.]])"
            ]
          },
          "metadata": {},
          "execution_count": 13
        }
      ],
      "source": [
        "# 模拟 logits 和 mask\n",
        "logits = torch.tensor([[1.0, 2.0, 3.0, 4.0]])\n",
        "mask = torch.tensor([[1, 1, 0, 0]])  # 只让前两个位置有效\n",
        "\n",
        "# 把无效位置设为 -inf\n",
        "masked_logits = logits.masked_fill(mask == 1, float('-inf'))\n",
        "masked_logits"
      ]
    },
    {
      "cell_type": "code",
      "execution_count": 14,
      "id": "ce1b8f5f",
      "metadata": {
        "id": "ce1b8f5f"
      },
      "outputs": [],
      "source": [
        "class BahdanauAttention(nn.Module):\n",
        "    \"\"\"\n",
        "    Bahdanau注意力机制\n",
        "\n",
        "    参数:\n",
        "        hidden_size: 隐藏状态的维度\n",
        "        key_size: 键向量的维度（如果与隐藏状态不同）\n",
        "        value_size: 值向量的维度（如果与隐藏状态不同）\n",
        "    \"\"\"\n",
        "    def __init__(self, hidden_size, key_size=None):\n",
        "        super().__init__()\n",
        "\n",
        "        # 如果key_size和value_size未指定，则默认与hidden_size相同\n",
        "        if key_size is None:\n",
        "            key_size = hidden_size\n",
        "\n",
        "        # 定义注意力层\n",
        "        self.Wq = nn.Linear(hidden_size, hidden_size)\n",
        "        self.Wk = nn.Linear(key_size, hidden_size)\n",
        "        self.V = nn.Linear(hidden_size, 1, bias=False)\n",
        "\n",
        "    def forward(self, query, keys, values, attn_mask=None):\n",
        "        \"\"\"\n",
        "        参数:\n",
        "            query:decoder的隐藏状态 查询向量 [batch_size, hidden_size]\n",
        "            keys: EO 键向量 [batch_size, src_len, key_size]\n",
        "            values:EO  值向量 [batch_size, src_len, value_size]\n",
        "            attn_mask: 注意力掩码 [batch_size, src_len]\n",
        "\n",
        "        返回:\n",
        "            context: 上下文向量 [batch_size, value_size]\n",
        "            attention_weights: 注意力权重 [batch_size, src_len]\n",
        "        \"\"\"\n",
        "        src_len = keys.size(1)\n",
        "\n",
        "        # 将query从[batch_size, hidden_size]转换为[batch_size, 1, hidden_size]\n",
        "        query = self.Wq(query).unsqueeze(1).repeat(1, src_len, 1)\n",
        "\n",
        "        # 转换keys,shape=[batch_size, src_len, hidden_size]\n",
        "        keys = self.Wk(keys)\n",
        "\n",
        "        # 计算注意力分数\n",
        "        energy = torch.tanh(keys+query)\n",
        "        # [batch_size, src_len, hidden_size] -> [batch_size, src_len, 1] -> [batch_size, src_len]\n",
        "        attention = self.V(energy).squeeze(2)\n",
        "\n",
        "        # 应用注意力掩码（如果提供）\n",
        "        if attn_mask is not None:\n",
        "            attn_mask = attn_mask * -1e16\n",
        "            attention += attn_mask #加上一个负无穷，让padding部分经过softmax后为0\n",
        "\n",
        "        # 使用softmax归一化注意力权重  [batch_size, src_len]\n",
        "        attention_weights = F.softmax(attention, dim=1)\n",
        "\n",
        "        # 计算上下文向量,values是EO,shape=[batch_size, src_len, hidden_dim]\n",
        "        context_vector = torch.mul(attention_weights.unsqueeze(-1), values).sum(dim=1) #对每一个词的score和对应的value做乘法，然后在seq_len维度上求和，得到context_vector\n",
        "        # context_vector.shape = [batch size, hidden_dim]\n",
        "        #attention_weights用于最后的画图\n",
        "        return context_vector, attention_weights\n",
        "\n"
      ]
    },
    {
      "cell_type": "code",
      "execution_count": 15,
      "id": "520ba85e",
      "metadata": {
        "colab": {
          "base_uri": "https://localhost:8080/",
          "height": 521
        },
        "id": "520ba85e",
        "outputId": "66a24914-10f7-4dfb-979e-1ccbbcae6908"
      },
      "outputs": [
        {
          "output_type": "stream",
          "name": "stdout",
          "text": [
            "Query shape: torch.Size([2, 8])\n",
            "Keys shape: torch.Size([2, 4, 8])\n",
            "Values shape: torch.Size([2, 4, 8])\n",
            "Context vector shape: torch.Size([2, 8])\n",
            "Attention weights shape: torch.Size([2, 4])\n",
            "\n",
            "Attention weights:\n",
            "tensor([[0.0000, 0.3361, 0.2892, 0.3747],\n",
            "        [0.3570, 0.1988, 0.1800, 0.2642]], grad_fn=<SoftmaxBackward0>)\n"
          ]
        },
        {
          "output_type": "display_data",
          "data": {
            "text/plain": [
              "<Figure size 1000x400 with 2 Axes>"
            ],
            "image/png": "[encoded data removed]"
          },
          "metadata": {}
        }
      ],
      "source": [
        "# 测试BahdanauAttention\n",
        "def test_bahdanau_attention():\n",
        "    # 设置参数\n",
        "    batch_size = 2\n",
        "    hidden_size = 8\n",
        "    src_len = 4\n",
        "\n",
        "    # 创建输入数据\n",
        "    query = torch.randn(batch_size, hidden_size)  # Decoder的隐藏状态\n",
        "    keys = torch.randn(batch_size, src_len, hidden_size)  # Encoder输出\n",
        "    values = torch.randn(batch_size, src_len, hidden_size)  # 通常与keys相同\n",
        "\n",
        "    # 创建注意力掩码，模拟序列填充的情况\n",
        "    attn_mask = torch.zeros(batch_size, src_len)\n",
        "    attn_mask[0, 0] = 1  # 假设第一个样本的最后一个token是padding\n",
        "    # attn_mask[1, 2:] = 1  # 假设第二个样本的最后两个tokens是padding\n",
        "\n",
        "    # 初始化Bahdanau注意力机制\n",
        "    attention = BahdanauAttention(hidden_size, hidden_size)\n",
        "\n",
        "    # 前向传播\n",
        "    context, attn_weights = attention(query, keys, values, attn_mask)\n",
        "\n",
        "    # 打印结果\n",
        "    print(f\"Query shape: {query.shape}\")\n",
        "    print(f\"Keys shape: {keys.shape}\")\n",
        "    print(f\"Values shape: {values.shape}\")\n",
        "    print(f\"Context vector shape: {context.shape}\")\n",
        "    print(f\"Attention weights shape: {attn_weights.shape}\")\n",
        "\n",
        "    # 验证注意力权重是否在掩码位置接近于0\n",
        "    print(\"\\nAttention weights:\")\n",
        "    print(attn_weights)\n",
        "\n",
        "    # 可视化注意力权重\n",
        "    plt.figure(figsize=(10, 4))\n",
        "    plt.subplot(1, 2, 1)\n",
        "    plt.imshow(attn_weights.detach().numpy(), cmap='viridis')\n",
        "    plt.colorbar()\n",
        "    plt.title('Attention Weights')\n",
        "    plt.xlabel('Source Sequence Position')\n",
        "    plt.ylabel('Batch Sample')\n",
        "\n",
        "    return context, attn_weights\n",
        "\n",
        "# 运行测试\n",
        "context, attn_weights = test_bahdanau_attention()\n"
      ]
    },
    {
      "cell_type": "markdown",
      "id": "bd474a29",
      "metadata": {
        "id": "bd474a29"
      },
      "source": [
        "# Decoder 解码器"
      ]
    },
    {
      "cell_type": "code",
      "execution_count": 16,
      "id": "40c791bd",
      "metadata": {
        "id": "40c791bd"
      },
      "outputs": [],
      "source": [
        "class Decoder(nn.Module):\n",
        "    def __init__(\n",
        "        self,\n",
        "        vocab_size,\n",
        "        embedding_dim=256,\n",
        "        hidden_dim=1024,\n",
        "        num_layers=1,\n",
        "        ):\n",
        "        super().__init__()\n",
        "        self.embedding = nn.Embedding(vocab_size, embedding_dim)\n",
        "        self.gru = nn.GRU(embedding_dim + hidden_dim, hidden_dim, num_layers=num_layers, batch_first=True)\n",
        "        self.fc = nn.Linear(hidden_dim, vocab_size) #最后分类,词典大小是多少，就输出多少个分类\n",
        "        self.dropout = nn.Dropout(0.6) #0.6可以调整的超参数\n",
        "        self.attention = BahdanauAttention(hidden_dim) #注意力得到的context_vector\n",
        "\n",
        "    def forward(self, decoder_input, hidden, encoder_outputs, attn_mask=None):\n",
        "        \"\"\"\n",
        "        参数:\n",
        "            decoder_input: 解码器的输入，形状为 [batch_size, 1]\n",
        "            hidden: 解码器的隐藏状态，形状为 [batch_size, hidden_dim],第一次使用的是encoder的hidden\n",
        "            encoder_outputs: 编码器的输出，形状为 [batch_size, sequence_length, hidden_dim]\n",
        "            attn_mask: 注意力掩码，形状为 [batch_size, sequence_length],是encoder_inputs_mask\n",
        "\n",
        "        返回:\n",
        "            logits: 解码器的输出，形状为 [batch_size, 1, vocab_size]\n",
        "            hidden: 解码器的隐藏状态，形状为 [batch_size, hidden_dim]\n",
        "            attention_score: 注意力权重，形状为 [batch_size, sequence_length, 1]\n",
        "        \"\"\"\n",
        "        #断言，确保输入的形状是正确的\n",
        "        # decoder_input.shape = [batch size, 1]\n",
        "        assert len(decoder_input.shape) == 2 and decoder_input.shape[-1] == 1, f\"decoder_input.shape = {decoder_input.shape} is not valid\"\n",
        "        # hidden.shape = [num_layers, batch size, hidden_dim]，decoder_hidden,而第一次使用的是encoder的hidden\n",
        "        assert len(hidden.shape) == 3, f\"hidden.shape = {hidden.shape} is not valid\"\n",
        "        # encoder_outputs.shape = [batch size, sequence length, hidden_dim]\n",
        "        assert len(encoder_outputs.shape) == 3, f\"encoder_outputs.shape = {encoder_outputs.shape} is not valid\"\n",
        "        # context_vector.shape = [batch_size, hidden_dim]\n",
        "\n",
        "        # 注意力机制\n",
        "        context_vector, attention_score = self.attention(\n",
        "            query=hidden[-1], keys=encoder_outputs, values=encoder_outputs, attn_mask=attn_mask)\n",
        "        # decoder_input.shape = [batch size, 1]-->embeds.shape = [batch size, 1, embedding_dim]\n",
        "        embeds = self.embedding(decoder_input)\n",
        "\n",
        "        # context_vector.shape = [batch size, hidden_dim] -->unsqueeze(-2)增加维度 [batch size, 1, hidden_dim]\n",
        "        embeds = torch.cat([context_vector.unsqueeze(-2), embeds], dim=-1)\n",
        "        # 新的embeds.shape = [batch size, 1, embedding_dim + hidden_dim]\n",
        "        seq_output, hidden = self.gru(embeds) #这里可以把hidden去掉对比一下最终的bleu指标\n",
        "        # seq_output.shape = [batch size, 1, hidden_dim]\n",
        "        logits = self.fc(self.dropout(seq_output))\n",
        "        # logits.shape = [batch size, 1, vocab size]，attention_score = [batch size, sequence length, 1]\n",
        "        return logits, hidden, attention_score\n",
        "\n"
      ]
    },
    {
      "cell_type": "code",
      "execution_count": 17,
      "id": "16b56c8a",
      "metadata": {
        "colab": {
          "base_uri": "https://localhost:8080/"
        },
        "id": "16b56c8a",
        "outputId": "c24d8966-7bf9-4c0f-9a08-17d170d8c024"
      },
      "outputs": [
        {
          "output_type": "stream",
          "name": "stdout",
          "text": [
            "decoder_input.shape: torch.Size([2, 1])\n",
            "decoder_hidden.shape: torch.Size([1, 2, 32])\n",
            "encoder_outputs.shape: torch.Size([2, 5, 32])\n",
            "logits.shape: torch.Size([2, 1, 1000])\n",
            "hidden.shape: torch.Size([1, 2, 32])\n",
            "attention_score.shape: torch.Size([2, 5])\n"
          ]
        }
      ],
      "source": [
        "# 前向计算验证Decoder是否ok\n",
        "batch_size = 2\n",
        "seq_len = 5\n",
        "hidden_dim = 32\n",
        "vocab_size = 1000\n",
        "embedding_dim = 64\n",
        "num_layers = 1\n",
        "\n",
        "# 创建模拟数据\n",
        "decoder_input = torch.randint(0, vocab_size, (batch_size, 1))  # [batch_size, 1]\n",
        "decoder_hidden = torch.randn(num_layers, batch_size, hidden_dim)  # [num_layers, batch_size, hidden_dim]\n",
        "encoder_outputs = torch.randn(batch_size, seq_len, hidden_dim)  # [batch_size, seq_len, hidden_dim]\n",
        "attn_mask = torch.ones(batch_size, seq_len)  # [batch_size, seq_len]\n",
        "\n",
        "# 创建Decoder模型\n",
        "decoder = Decoder(vocab_size, embedding_dim, hidden_dim)\n",
        "\n",
        "# 前向计算\n",
        "logits, hidden, attention_score = decoder(decoder_input, decoder_hidden, encoder_outputs, attn_mask)\n",
        "\n",
        "# 打印输出形状\n",
        "print(f\"decoder_input.shape: {decoder_input.shape}\")\n",
        "print(f\"decoder_hidden.shape: {decoder_hidden.shape}\")\n",
        "print(f\"encoder_outputs.shape: {encoder_outputs.shape}\")\n",
        "print(f\"logits.shape: {logits.shape}\")\n",
        "print(f\"hidden.shape: {hidden.shape}\")\n",
        "print(f\"attention_score.shape: {attention_score.shape}\")\n"
      ]
    },
    {
      "cell_type": "markdown",
      "id": "df2a637a",
      "metadata": {
        "id": "df2a637a"
      },
      "source": [
        "# Sequence2Sequence"
      ]
    },
    {
      "cell_type": "code",
      "execution_count": 18,
      "id": "e7f01628",
      "metadata": {
        "id": "e7f01628"
      },
      "outputs": [],
      "source": [
        "class Seq2Seq(nn.Module):\n",
        "    def __init__(\n",
        "        self,\n",
        "        src_vocab_size, #输入词典大小\n",
        "        trg_vocab_size, #输出词典大小\n",
        "        encoder_embedding_dim=256,\n",
        "        encoder_hidden_dim=1024, #encoder_hidden_dim和decoder_hidden_dim必须相同，是因为BahdanauAttention设计的\n",
        "        encoder_num_layers=1,\n",
        "        decoder_embedding_dim=256,\n",
        "        decoder_hidden_dim=1024,\n",
        "        decoder_num_layers=1,\n",
        "        bos_idx=1,\n",
        "        eos_idx=3,\n",
        "        max_length=512,\n",
        "        device=None,\n",
        "        ):\n",
        "        super().__init__()\n",
        "        self.bos_idx = bos_idx\n",
        "        self.eos_idx = eos_idx\n",
        "        self.max_length = max_length\n",
        "        self.device = device\n",
        "        self.encoder = Encoder(\n",
        "            src_vocab_size,\n",
        "            embedding_dim=encoder_embedding_dim,\n",
        "            hidden_size=encoder_hidden_dim,\n",
        "            num_layers=encoder_num_layers,\n",
        "            )\n",
        "        self.decoder = Decoder(\n",
        "            trg_vocab_size,\n",
        "            embedding_dim=decoder_embedding_dim,\n",
        "            hidden_dim=decoder_hidden_dim,\n",
        "            num_layers=decoder_num_layers,\n",
        "            )\n",
        "\n",
        "    def forward(self, src, decoder_input, src_mask=None, teacher_forcing_ratio=0.5):\n",
        "        \"\"\"\n",
        "        训练时的前向传播\n",
        "\n",
        "        Args:\n",
        "            src: 源序列 [batch_size, src_len]\n",
        "            tgt: 目标序列 [batch_size, tgt_len]\n",
        "            src_mask: 源序列的mask [batch_size, src_len]\n",
        "            teacher_forcing_ratio: 使用teacher forcing的概率\n",
        "\n",
        "        Returns:\n",
        "            outputs: 所有时间步的输出 [batch_size, tgt_len, vocab_size]\n",
        "        \"\"\"\n",
        "        batch_size = src.shape[0]\n",
        "        tgt_len = decoder_input.shape[1]\n",
        "\n",
        "        # 编码器前向传播\n",
        "        encoder_outputs, hidden = self.encoder(src)\n",
        "\n",
        "        logits_list = []\n",
        "        scores_list = []\n",
        "        for t in range(tgt_len):\n",
        "            # 解码器前向传播,output.shape = [batch_size, 1, vocab_size]\n",
        "            #attention_scores.shape = [batch_size, src_len, 1]\n",
        "            logits, hidden, attention_scores = self.decoder(decoder_input[:, t:t+1], hidden, encoder_outputs, src_mask)\n",
        "\n",
        "            logits_list.append(logits)\n",
        "            scores_list.append(attention_scores)\n",
        "\n",
        "        # 返回输出和注意力分数\n",
        "        #logits_list.shape (batch_size, tgt_len, vocab_size)\n",
        "        #scores_list.shape (batch_size, src_len, tgt_len)\n",
        "        return torch.cat(logits_list, dim=-2), torch.cat(scores_list, dim=-1)\n",
        "\n",
        "    @torch.no_grad()\n",
        "    def infer(self, src, src_mask=None):\n",
        "        \"\"\"\n",
        "        推理时的前向传播\n",
        "\n",
        "        Args:\n",
        "            src: 源序列 [batch_size, src_len]\n",
        "            src_mask: 源序列的mask [batch_size, src_len],一个样本mask没有用，多个样本mask有用\n",
        "\n",
        "        Returns:\n",
        "            outputs: 生成的序列 [batch_size, max_len]\n",
        "            attention_scores: 注意力分数 [batch_size, src_len, max_len]\n",
        "        \"\"\"\n",
        "        batch_size = src.shape[0]\n",
        "        src_len = src.shape[1]\n",
        "\n",
        "        # 编码器前向传播\n",
        "        encoder_outputs, hidden = self.encoder(src)\n",
        "\n",
        "        # 存储生成的序列\n",
        "        outputs = torch.zeros(batch_size, self.max_length).long().to(self.device) #shape (bs, max_length)\n",
        "\n",
        "        # 第一个解码器输入是特殊的开始符号 shape (bs,1)\n",
        "        decoder_input = torch.tensor([[self.bos_idx]] * batch_size).to(self.device)\n",
        "\n",
        "        # 记录每个序列是否已经生成了结束符号，shape (bs,)，做结束标记用，如果为True，则表示该序列已经生成了结束符号\n",
        "        finished = torch.zeros(batch_size).bool().to(self.device)\n",
        "        score_list = [] #为了画图，记录注意力分数\n",
        "        for t in range(self.max_length):\n",
        "            # 解码器前向传播,output.shape = [batch_size, 1, vocab_size]\n",
        "            output, hidden, scores = self.decoder(decoder_input, hidden, encoder_outputs, src_mask)\n",
        "\n",
        "            # 存储注意力分数 scores.shape = [batch_size, src_len, 1]\n",
        "            score_list.append(scores)\n",
        "\n",
        "            # 获取最可能的单词索引\n",
        "            pred = output.argmax(dim=-1) #pred shape (bs,1)\n",
        "\n",
        "            # 保存预测\n",
        "            outputs[:, t] = pred.squeeze(1)\n",
        "\n",
        "            # 如果所有序列都生成了结束符号，则提前结束\n",
        "            finished = finished | (pred.squeeze(1) == self.eos_idx)\n",
        "            if finished.all():#finished.all()是判断finished是否全为True\n",
        "                break\n",
        "\n",
        "            # 使用当前预测作为下一个输入\n",
        "            decoder_input = pred\n",
        "\n",
        "        return outputs, torch.cat(score_list,dim=0)\n"
      ]
    },
    {
      "cell_type": "code",
      "execution_count": 19,
      "id": "5c4bb349",
      "metadata": {
        "colab": {
          "base_uri": "https://localhost:8080/"
        },
        "id": "5c4bb349",
        "outputId": "206aa51a-c764-4c38-a1fe-ddfa266314e0"
      },
      "outputs": [
        {
          "output_type": "stream",
          "name": "stdout",
          "text": [
            "torch.Size([2, 60, 12504])\n",
            "torch.Size([2, 3000])\n"
          ]
        }
      ],
      "source": [
        "model = Seq2Seq(src_vocab_size=len(src_word2idx), trg_vocab_size=len(trg_word2idx))\n",
        "#做model的前向传播，看看输出的shape\n",
        "encoder_inputs = torch.randint(0, 100, (2, 50)) #shape (bs, src_len) (2,50)\n",
        "decoder_inputs = torch.randint(0, 100, (2, 60)) #shape (bs, tgt_len) (2,60)\n",
        "attn_mask = torch.randint(0, 2, (2, 50)) #shape (bs, src_len) (2,50)\n",
        "logits, scores = model(src=encoder_inputs, decoder_input=decoder_inputs, src_mask=attn_mask)\n",
        "print(logits.shape)\n",
        "print(scores.shape)"
      ]
    },
    {
      "cell_type": "code",
      "execution_count": 20,
      "id": "b31eacff",
      "metadata": {
        "colab": {
          "base_uri": "https://localhost:8080/"
        },
        "id": "b31eacff",
        "outputId": "1d09bff2-dba4-4680-a9c0-e0065f75e0c1"
      },
      "outputs": [
        {
          "output_type": "stream",
          "name": "stdout",
          "text": [
            "模型总参数量: 35,212,248\n",
            "编码器参数量: 10,010,368 (28.43%)\n",
            "解码器参数量: 25,201,880 (71.57%)\n"
          ]
        }
      ],
      "source": [
        "# 计算模型的参数量\n",
        "def count_parameters(model):\n",
        "    return sum(p.numel() for p in model.parameters() if p.requires_grad)\n",
        "\n",
        "# 统计总参数量\n",
        "total_params = count_parameters(model)\n",
        "print(f\"模型总参数量: {total_params:,}\")\n",
        "\n",
        "# 统计每个组件的参数量\n",
        "encoder_params = count_parameters(model.encoder)\n",
        "decoder_params = count_parameters(model.decoder)\n",
        "\n",
        "print(f\"编码器参数量: {encoder_params:,} ({encoder_params/total_params:.2%})\")\n",
        "print(f\"解码器参数量: {decoder_params:,} ({decoder_params/total_params:.2%})\")\n"
      ]
    },
    {
      "cell_type": "code",
      "execution_count": 21,
      "id": "d355f8cc",
      "metadata": {
        "colab": {
          "base_uri": "https://localhost:8080/"
        },
        "id": "d355f8cc",
        "outputId": "14aee6cc-edcd-4dd8-924f-2cbb54f99bd2"
      },
      "outputs": [
        {
          "output_type": "stream",
          "name": "stdout",
          "text": [
            "4层模型总参数量: 72,997,848\n",
            "4层编码器参数量: 28,903,168 (39.59%)\n",
            "4层解码器参数量: 44,094,680 (60.41%)\n",
            "\n",
            "参数量增加: 37,785,600 (2.07倍)\n"
          ]
        }
      ],
      "source": [
        "# 创建具有4层的模型\n",
        "model_4layers = Seq2Seq(\n",
        "    src_vocab_size=len(src_word2idx),\n",
        "    trg_vocab_size=len(trg_word2idx),\n",
        "    encoder_num_layers=4,  # 编码器4层\n",
        "    decoder_num_layers=4   # 解码器4层\n",
        ")\n",
        "\n",
        "# 统计总参数量\n",
        "total_params_4layers = count_parameters(model_4layers)\n",
        "print(f\"4层模型总参数量: {total_params_4layers:,}\")\n",
        "\n",
        "# 统计每个组件的参数量\n",
        "encoder_params_4layers = count_parameters(model_4layers.encoder)\n",
        "decoder_params_4layers = count_parameters(model_4layers.decoder)\n",
        "\n",
        "print(f\"4层编码器参数量: {encoder_params_4layers:,} ({encoder_params_4layers/total_params_4layers:.2%})\")\n",
        "print(f\"4层解码器参数量: {decoder_params_4layers:,} ({decoder_params_4layers/total_params_4layers:.2%})\")\n",
        "\n",
        "# 与默认层数模型比较\n",
        "print(f\"\\n参数量增加: {total_params_4layers - total_params:,} ({total_params_4layers/total_params:.2f}倍)\")\n"
      ]
    },
    {
      "cell_type": "markdown",
      "id": "eda38413",
      "metadata": {
        "id": "eda38413"
      },
      "source": [
        "# 损失函数"
      ]
    },
    {
      "cell_type": "code",
      "execution_count": 22,
      "id": "c49591f6",
      "metadata": {
        "id": "c49591f6"
      },
      "outputs": [],
      "source": [
        "# 定义计算损失的函数，通过mask忽略特定位置\n",
        "def cross_entropy_with_padding(logits, labels, padding_mask=None):\n",
        "    # logits.shape = [batch size, sequence length, num of classes]\n",
        "    # labels.shape = [batch size, sequence length]\n",
        "    # padding_mask.shape = [batch size, sequence length] decoder_labels_mask\n",
        "    bs, seq_len, nc = logits.shape\n",
        "    loss = F.cross_entropy(logits.reshape(bs * seq_len, nc), labels.reshape(-1), reduce=False) #reduce=False表示不对batch求平均\n",
        "    if padding_mask is None:#如果没有padding_mask，就直接求平均\n",
        "        loss = loss.mean()\n",
        "    else:\n",
        "        # 如果提供了 padding_mask，则将padding填充部分的损失去除后计算有效损失的均值。首先，通过将 padding_mask reshape 成一维张量，并取 1 减去得到填充掩码。这样填充部分的掩码值变为 1，非填充部分变为 0。将损失张量与填充掩码相乘，这样填充部分的损失就会变为 0。然后，计算非填充部分的损失和（sum）以及非填充部分的掩码数量（sum）作为有效损失的均值计算。(因为上面我们设计的mask的token是0，所以这里是1-padding_mask)\n",
        "        padding_mask = 1 - padding_mask.reshape(-1) #将padding_mask reshape成一维张量，mask部分为0，非mask部分为1\n",
        "        loss = torch.mul(loss, padding_mask).sum() / padding_mask.sum()\n",
        "\n",
        "    return loss\n",
        "\n"
      ]
    },
    {
      "cell_type": "code",
      "execution_count": 23,
      "id": "453c6ce3",
      "metadata": {
        "id": "453c6ce3"
      },
      "outputs": [],
      "source": [
        "class SaveCheckpointsCallback:\n",
        "    def __init__(self, save_dir, save_step=5000, save_best_only=True):\n",
        "        \"\"\"\n",
        "        Save checkpoints each save_epoch epoch.\n",
        "        We save checkpoint by epoch in this implementation.\n",
        "        Usually, training scripts with pytorch evaluating model and save checkpoint by step.\n",
        "\n",
        "        Args:\n",
        "            save_dir (str): dir to save checkpoint\n",
        "            save_epoch (int, optional): the frequency to save checkpoint. Defaults to 1.\n",
        "            save_best_only (bool, optional): If True, only save the best model or save each model at every epoch.\n",
        "        \"\"\"\n",
        "        self.save_dir = save_dir\n",
        "        self.save_step = save_step\n",
        "        self.save_best_only = save_best_only\n",
        "        self.best_metrics = - np.inf\n",
        "\n",
        "        # mkdir\n",
        "        if not os.path.exists(self.save_dir):\n",
        "            os.mkdir(self.save_dir)\n",
        "\n",
        "    def __call__(self, step, state_dict, metric=None):\n",
        "        if step % self.save_step > 0:\n",
        "            return\n",
        "\n",
        "        if self.save_best_only:\n",
        "            assert metric is not None\n",
        "            if metric >= self.best_metrics:\n",
        "                # save checkpoints\n",
        "                torch.save(state_dict, os.path.join(self.save_dir, \"best.ckpt\"))\n",
        "                # update best metrics\n",
        "                self.best_metrics = metric\n",
        "        else:\n",
        "            torch.save(state_dict, os.path.join(self.save_dir, f\"{step}.ckpt\"))\n",
        "\n"
      ]
    },
    {
      "cell_type": "code",
      "execution_count": 24,
      "id": "9848a5f3",
      "metadata": {
        "id": "9848a5f3"
      },
      "outputs": [],
      "source": [
        "class EarlyStopCallback:\n",
        "    def __init__(self, patience=5, min_delta=0.01):\n",
        "        \"\"\"\n",
        "\n",
        "        Args:\n",
        "            patience (int, optional): Number of epochs with no improvement after which training will be stopped.. Defaults to 5.\n",
        "            min_delta (float, optional): Minimum change in the monitored quantity to qualify as an improvement, i.e. an absolute\n",
        "                change of less than min_delta, will count as no improvement. Defaults to 0.01.\n",
        "        \"\"\"\n",
        "        self.patience = patience\n",
        "        self.min_delta = min_delta\n",
        "        self.best_metric = -np.inf\n",
        "        self.counter = 0\n",
        "\n",
        "    def __call__(self, metric):\n",
        "        if metric >= self.best_metric + self.min_delta:\n",
        "            # update best metric\n",
        "            self.best_metric = metric\n",
        "            # reset counter\n",
        "            self.counter = 0\n",
        "        else:\n",
        "            self.counter += 1\n",
        "\n",
        "    @property #@property 装饰器将方法转换为属性，这样就可以通过实例.early_stop 来访问方法，而不是实例.early_stop()\n",
        "    def early_stop(self):\n",
        "        return self.counter >= self.patience\n"
      ]
    },
    {
      "cell_type": "markdown",
      "id": "4bf6c187",
      "metadata": {
        "id": "4bf6c187"
      },
      "source": [
        "# 训练与评估"
      ]
    },
    {
      "cell_type": "code",
      "execution_count": 25,
      "id": "b6d9e903",
      "metadata": {
        "id": "b6d9e903"
      },
      "outputs": [],
      "source": [
        "def evaluate(model, dataloader, loss_fct):\n",
        "    \"\"\"\n",
        "    Evaluate the model on the validation/test set\n",
        "\n",
        "    Args:\n",
        "        model: the seq2seq model with attention\n",
        "        dataloader: validation/test dataloader\n",
        "        loss_fct: loss function\n",
        "\n",
        "    Returns:\n",
        "        float: average loss on the dataset\n",
        "    \"\"\"\n",
        "    model.eval()\n",
        "    total_loss = 0\n",
        "\n",
        "    with torch.no_grad():\n",
        "        for batch in dataloader:\n",
        "            # Unpack the batch\n",
        "            encoder_inputs = batch[\"encoder_inputs\"]\n",
        "            encoder_inputs_mask = batch[\"encoder_inputs_mask\"]\n",
        "            decoder_inputs = batch[\"decoder_inputs\"]\n",
        "            decoder_labels = batch[\"decoder_labels\"]\n",
        "            decoder_labels_mask = batch[\"decoder_labels_mask\"]\n",
        "\n",
        "            # Forward pass\n",
        "            outputs,_ = model(\n",
        "                src=encoder_inputs,\n",
        "                src_mask=encoder_inputs_mask,\n",
        "                decoder_input=decoder_inputs\n",
        "            )\n",
        "\n",
        "            # Calculate loss\n",
        "            loss = loss_fct(\n",
        "                outputs,\n",
        "                decoder_labels,\n",
        "                decoder_labels_mask\n",
        "            )\n",
        "\n",
        "            # Update loss\n",
        "            total_loss += loss.item()\n",
        "\n",
        "    avg_loss = total_loss / len(dataloader)\n",
        "\n",
        "    model.train()\n",
        "    return avg_loss\n"
      ]
    },
    {
      "cell_type": "code",
      "execution_count": 26,
      "id": "786a6a82",
      "metadata": {
        "id": "786a6a82"
      },
      "outputs": [],
      "source": [
        "# 训练\n",
        "def training(\n",
        "    model,\n",
        "    train_loader,\n",
        "    val_loader,\n",
        "    epoch,\n",
        "    loss_fct,\n",
        "    optimizer,\n",
        "    save_ckpt_callback=None,\n",
        "    early_stop_callback=None,\n",
        "    eval_step=500,\n",
        "):\n",
        "    record_dict = {\"train\": [], \"val\": []}  # record_dict是字典，记录训练和验证的损失\n",
        "\n",
        "    global_step = 1\n",
        "    val_loss = 0\n",
        "    model.train()  # 切换到训练模式\n",
        "    with tqdm(total=epoch * len(train_loader)) as pbar:\n",
        "        for epoch_id in range(epoch):\n",
        "            # training\n",
        "            for batch in train_loader:\n",
        "                encoder_inputs = batch[\"encoder_inputs\"]\n",
        "                encoder_inputs_mask = batch[\"encoder_inputs_mask\"]\n",
        "                decoder_inputs = batch[\"decoder_inputs\"]\n",
        "                decoder_labels = batch[\"decoder_labels\"]\n",
        "                decoder_labels_mask = batch[\"decoder_labels_mask\"]\n",
        "\n",
        "                # 梯度清空\n",
        "                optimizer.zero_grad()\n",
        "\n",
        "                # 前向计算\n",
        "                logits, _ = model(\n",
        "                    src=encoder_inputs,\n",
        "                    src_mask=encoder_inputs_mask,\n",
        "                    decoder_input=decoder_inputs,\n",
        "                )\n",
        "                loss = loss_fct(\n",
        "                    logits, decoder_labels, decoder_labels_mask\n",
        "                )\n",
        "\n",
        "                # 梯度回传\n",
        "                loss.backward()\n",
        "\n",
        "                # 调整优化器，包括学习率的变动等\n",
        "                optimizer.step()\n",
        "\n",
        "                loss = loss.cpu().item()\n",
        "                # record\n",
        "                record_dict[\"train\"].append({\"loss\": loss, \"step\": global_step})\n",
        "\n",
        "                # evaluating\n",
        "                if global_step % eval_step == 0:\n",
        "                    val_loss = evaluate(model, val_loader, loss_fct) #evaluate是计算验证集的损失\n",
        "                    record_dict[\"val\"].append({\"loss\": val_loss, \"step\": global_step})\n",
        "\n",
        "\n",
        "                    # 2. 保存模型权重 save model checkpoint\n",
        "                    if save_ckpt_callback is not None:\n",
        "                        save_ckpt_callback(\n",
        "                            global_step, model.state_dict(), metric=-val_loss\n",
        "                        )\n",
        "\n",
        "                    # 3. 早停 Early Stop\n",
        "                    if early_stop_callback is not None:\n",
        "                        early_stop_callback(-val_loss)\n",
        "                        if early_stop_callback.early_stop:#early_stop_callback.early_stop是True，则早停\n",
        "                            print(\n",
        "                                f\"Early stop at epoch {epoch_id} / global_step {global_step}\"\n",
        "                            )\n",
        "                            return record_dict\n",
        "\n",
        "                # udate step\n",
        "                global_step += 1\n",
        "                pbar.update(1)\n",
        "                pbar.set_postfix(\n",
        "                    {\"epoch\": epoch_id,'global_step': global_step, \"loss\": loss, \"val_loss\": val_loss}\n",
        "                )  # 更新进度条\n",
        "\n",
        "    return record_dict\n",
        "\n",
        "\n",
        "epoch = 20\n",
        "batch_size = 64\n",
        "\n",
        "model = Seq2Seq(\n",
        "    src_vocab_size=len(src_word2idx),\n",
        "    trg_vocab_size=len(trg_word2idx),\n",
        "    encoder_num_layers=1,\n",
        "    decoder_num_layers=1,\n",
        ")\n",
        "\n",
        "# 为训练和验证数据创建DataLoader\n",
        "train_dl = DataLoader(train_dataset, batch_size=batch_size, shuffle=True, collate_fn=collate_fn)\n",
        "test_dl = DataLoader(test_dataset, batch_size=batch_size, shuffle=False, collate_fn=collate_fn)\n",
        "\n",
        "\n",
        "# 1. 定义损失函数 采用交叉熵损失\n",
        "loss_fct = cross_entropy_with_padding\n",
        "# 2. 定义优化器 采用 adam\n",
        "# Optimizers specified in the torch.optim package\n",
        "optimizer = torch.optim.Adam(model.parameters(), lr=0.001)\n",
        "\n",
        "\n",
        "# 3. save best\n",
        "if not os.path.exists(\"checkpoints\"):\n",
        "    os.makedirs(\"checkpoints\")\n",
        "save_ckpt_callback = SaveCheckpointsCallback(\n",
        "    f\"checkpoints\", save_step=200, save_best_only=True\n",
        ")\n",
        "# 4. early stop\n",
        "early_stop_callback = EarlyStopCallback(patience=5)\n",
        "\n",
        "model = model.to(device)"
      ]
    },
    {
      "cell_type": "code",
      "execution_count": 27,
      "id": "7f7cd9cb",
      "metadata": {
        "colab": {
          "base_uri": "https://localhost:8080/",
          "height": 125,
          "referenced_widgets": [
            "851f48b3d10341fc8a041871b314e300",
            "c15ff90f7ac3488096a16a264aeca219",
            "e749089d79c443c8a3e2ab713b4974a3",
            "91e9b5f9b1dc4dc8ac14076f855901ef",
            "74cb36244a094613b4dbc545015d52d9",
            "593e0a61f2074b9eb0f7fb6a83936b2f",
            "482224c2793848208f68cb8f863f9bbe",
            "cdfacdcebce44c778482052f5f60d15e",
            "1dfa650d2e8445ef972438b3778ce297",
            "2930bec448034e28864fadfc8b4a987d",
            "d00dc416d99d4a3e9ac8aea20833445c"
          ]
        },
        "id": "7f7cd9cb",
        "outputId": "ccb16dcb-9e51-47d8-e578-3ee8a8c33737"
      },
      "outputs": [
        {
          "output_type": "display_data",
          "data": {
            "text/plain": [
              "  0%|          | 0/33520 [00:00<?, ?it/s]"
            ],
            "application/vnd.jupyter.widget-view+json": {
              "version_major": 2,
              "version_minor": 0,
              "model_id": "851f48b3d10341fc8a041871b314e300"
            }
          },
          "metadata": {}
        },
        {
          "output_type": "stream",
          "name": "stderr",
          "text": [
            "/usr/local/lib/python3.11/dist-packages/torch/nn/_reduction.py:51: UserWarning: size_average and reduce args will be deprecated, please use reduction='none' instead.\n",
            "  warnings.warn(warning.format(ret))\n"
          ]
        },
        {
          "output_type": "stream",
          "name": "stdout",
          "text": [
            "Early stop at epoch 9 / global_step 16000\n"
          ]
        }
      ],
      "source": [
        "record = training(\n",
        "    model,\n",
        "    train_dl,\n",
        "    test_dl,\n",
        "    epoch,\n",
        "    loss_fct,\n",
        "    optimizer,\n",
        "    save_ckpt_callback=save_ckpt_callback,\n",
        "    early_stop_callback=early_stop_callback,\n",
        "    eval_step=200\n",
        "    )"
      ]
    },
    {
      "cell_type": "code",
      "execution_count": 28,
      "id": "OPLtqt2MRKFK",
      "metadata": {
        "colab": {
          "base_uri": "https://localhost:8080/",
          "height": 430
        },
        "id": "OPLtqt2MRKFK",
        "outputId": "6b73f1d1-3f8f-4db9-c45a-f77b8c51159b"
      },
      "outputs": [
        {
          "output_type": "display_data",
          "data": {
            "text/plain": [
              "<Figure size 640x480 with 1 Axes>"
            ],
            "image/png": "[encoded data removed]"
          },
          "metadata": {}
        }
      ],
      "source": [
        "plt.plot([i[\"step\"] for i in record[\"train\"]], [i[\"loss\"] for i in record[\"train\"]], label=\"train\")\n",
        "plt.plot([i[\"step\"] for i in record[\"val\"]], [i[\"loss\"] for i in record[\"val\"]], label=\"val\")\n",
        "plt.grid()\n",
        "plt.show()"
      ]
    },
    {
      "cell_type": "code",
      "execution_count": 29,
      "id": "6Qx7HJx7RWnb",
      "metadata": {
        "colab": {
          "base_uri": "https://localhost:8080/",
          "height": 549
        },
        "id": "6Qx7HJx7RWnb",
        "outputId": "0b8cfc59-4fb9-4f5f-b943-d40fd5e2d25f"
      },
      "outputs": [
        {
          "output_type": "stream",
          "name": "stdout",
          "text": [
            "['it', 's', 'fine', 'today', '.', '[EOS]']\n",
            "torch.Size([6, 7])\n",
            "6\n",
            "7\n",
            "(6, 7)\n"
          ]
        },
        {
          "output_type": "display_data",
          "data": {
            "text/plain": [
              "<Figure size 560x480 with 1 Axes>"
            ],
            "image/png": "[encoded data removed]"
          },
          "metadata": {}
        },
        {
          "output_type": "execute_result",
          "data": {
            "text/plain": [
              "'it s fine today .'"
            ],
            "application/vnd.google.colaboratory.intrinsic+json": {
              "type": "string"
            }
          },
          "metadata": {},
          "execution_count": 29
        }
      ],
      "source": [
        "# load checkpoints,如何上线,本地使用\n",
        "model = Seq2Seq(len(src_word2idx), len(trg_word2idx))\n",
        "model.load_state_dict(torch.load(f\"checkpoints/best.ckpt\", weights_only=True,map_location=\"cpu\"))\n",
        "\n",
        "class Translator:\n",
        "    def __init__(self, model, src_tokenizer, trg_tokenizer):\n",
        "        self.model = model\n",
        "        self.model.eval() # 切换到验证模式\n",
        "        self.src_tokenizer = src_tokenizer\n",
        "        self.trg_tokenizer = trg_tokenizer\n",
        "\n",
        "    def draw_attention_map(self, scores, src_words_list, trg_words_list):\n",
        "        \"\"\"绘制注意力热力图\n",
        "\n",
        "        Args:\n",
        "            - scores (numpy.ndarray): shape = [source sequence length, target sequence length]\n",
        "        \"\"\"\n",
        "        plt.matshow(scores, cmap='viridis') # 注意力矩阵,显示注意力分数值\n",
        "        # 获取当前的轴\n",
        "        ax = plt.gca()\n",
        "\n",
        "        # 设置热图中每个单元格的分数的文本\n",
        "        for i in range(scores.shape[0]): #shape[0]是src_len\n",
        "            for j in range(scores.shape[1]): #shape[1]是target_len\n",
        "                ax.text(j, i, f'{scores[i, j]:.2f}',  # 格式化数字显示\n",
        "                               ha='center', va='center', color='k')\n",
        "\n",
        "        # 设置x轴和y轴的刻度，src_words_list是源语言的单词列表，trg_words_list是目标语言的单词列表\n",
        "        print(len(trg_words_list))\n",
        "        print(len(src_words_list))\n",
        "        print(scores.shape)\n",
        "        plt.xticks(range(scores.shape[1]), src_words_list)\n",
        "        plt.yticks(range(scores.shape[0]), trg_words_list)\n",
        "        plt.show()\n",
        "\n",
        "    def __call__(self, sentence):\n",
        "        sentence = preprocess_sentence(sentence) # 预处理句子，标点符号处理等\n",
        "        encoder_input, attn_mask = self.src_tokenizer.encode(\n",
        "            [sentence.split()],\n",
        "            padding_first=True,\n",
        "            add_bos=True,\n",
        "            add_eos=True,\n",
        "            return_mask=True,\n",
        "            ) # 对输入进行编码，并返回encode_piadding_mask\n",
        "        encoder_input = torch.Tensor(encoder_input).to(dtype=torch.int64) # 转换成tensor\n",
        "\n",
        "        preds, scores = model.infer(src=encoder_input, src_mask=attn_mask) #预测\n",
        "        # print(preds)\n",
        "        # print(scores)\n",
        "        trg_sentence = self.trg_tokenizer.decode(preds.numpy(), split=True, remove_eos=False)[0] #通过tokenizer转换成文字\n",
        "        print(trg_sentence)\n",
        "        src_decoded = self.src_tokenizer.decode(\n",
        "            encoder_input.tolist(),\n",
        "            split=True,\n",
        "            remove_bos=False,\n",
        "            remove_eos=False\n",
        "            )[0] #对输入编码id进行解码，转换成文字,为了画图\n",
        "        print(scores.shape)\n",
        "        self.draw_attention_map(\n",
        "            scores.numpy(),\n",
        "            src_decoded, # 注意力图的源句子\n",
        "            trg_sentence # 注意力图的目标句子\n",
        "            )\n",
        "        return \" \".join(trg_sentence[:-1])\n",
        "\n",
        "translator = Translator(model.cpu(), src_tokenizer, trg_tokenizer)\n",
        "translator('Hoy hace buen tiempo.')\n",
        "\n"
      ]
    },
    {
      "cell_type": "code",
      "execution_count": 30,
      "id": "kOlJCnJVRrGT",
      "metadata": {
        "colab": {
          "base_uri": "https://localhost:8080/",
          "height": 549
        },
        "id": "kOlJCnJVRrGT",
        "outputId": "3ed56295-e3bc-405f-e391-6c6406bee971"
      },
      "outputs": [
        {
          "output_type": "stream",
          "name": "stdout",
          "text": [
            "['it', 's', 'been', 'very', 'cold', 'here', '.', '[EOS]']\n",
            "torch.Size([8, 7])\n",
            "8\n",
            "7\n",
            "(8, 7)\n"
          ]
        },
        {
          "output_type": "display_data",
          "data": {
            "text/plain": [
              "<Figure size 420x480 with 1 Axes>"
            ],
            "image/png": "[encoded data removed]"
          },
          "metadata": {}
        },
        {
          "output_type": "execute_result",
          "data": {
            "text/plain": [
              "'it s been very cold here .'"
            ],
            "application/vnd.google.colaboratory.intrinsic+json": {
              "type": "string"
            }
          },
          "metadata": {},
          "execution_count": 30
        }
      ],
      "source": [
        "translator('hace mucho frio aqui .')"
      ]
    },
    {
      "cell_type": "code",
      "source": [
        "!pip install nltk"
      ],
      "metadata": {
        "colab": {
          "base_uri": "https://localhost:8080/"
        },
        "id": "qHCBzhOlYXvn",
        "outputId": "abd257ac-f09b-449d-8276-16591c1d916a"
      },
      "id": "qHCBzhOlYXvn",
      "execution_count": 31,
      "outputs": [
        {
          "output_type": "stream",
          "name": "stdout",
          "text": [
            "Requirement already satisfied: nltk in /usr/local/lib/python3.11/dist-packages (3.9.1)\n",
            "Requirement already satisfied: click in /usr/local/lib/python3.11/dist-packages (from nltk) (8.2.1)\n",
            "Requirement already satisfied: joblib in /usr/local/lib/python3.11/dist-packages (from nltk) (1.5.1)\n",
            "Requirement already satisfied: regex>=2021.8.3 in /usr/local/lib/python3.11/dist-packages (from nltk) (2024.11.6)\n",
            "Requirement already satisfied: tqdm in /usr/local/lib/python3.11/dist-packages (from nltk) (4.67.1)\n"
          ]
        }
      ]
    },
    {
      "cell_type": "code",
      "source": [
        "model = Seq2Seq(len(src_word2idx), len(trg_word2idx))\n",
        "model.load_state_dict(torch.load(f\"./checkpoints/best.ckpt\", map_location=\"cpu\"))\n",
        "\n",
        "class Translator:\n",
        "    def __init__(self, model, src_tokenizer, trg_tokenizer):\n",
        "        self.model = model\n",
        "        self.model.eval() # 切换到验证模式\n",
        "        self.src_tokenizer = src_tokenizer\n",
        "        self.trg_tokenizer = trg_tokenizer\n",
        "\n",
        "    def __call__(self, sentence):\n",
        "        sentence = preprocess_sentence(sentence) # 预处理句子，标点符号处理等\n",
        "        encoder_input, attn_mask = self.src_tokenizer.encode(\n",
        "            [sentence.split()],\n",
        "            padding_first=True,\n",
        "            add_bos=True,\n",
        "            add_eos=True,\n",
        "            return_mask=True,\n",
        "            ) # 对输入进行编码，并返回encode_piadding_mask\n",
        "        encoder_input = torch.Tensor(encoder_input).to(dtype=torch.int64) # 转换成tensor\n",
        "\n",
        "        preds, scores = model.infer(src=encoder_input, src_mask=attn_mask) #预测\n",
        "\n",
        "        trg_sentence = self.trg_tokenizer.decode(preds.numpy(), split=True, remove_eos=False)[0] #通过tokenizer转换成文字\n",
        "        # print(trg_sentence)\n",
        "        return \" \".join(trg_sentence[:-1])\n",
        "\n",
        "from nltk.translate.bleu_score import sentence_bleu\n",
        "\n",
        "def evaluate_bleu_on_test_set(test_data, translator):\n",
        "    \"\"\"\n",
        "    在测试集上计算平均 BLEU 分数。\n",
        "    :param test_data: 测试集数据，格式为 [(src_sentence, [ref_translation1, ref_translation2, ...]), ...]\n",
        "    :param translator: 翻译器对象（Translator 类的实例）\n",
        "    :return: 平均 BLEU 分数\n",
        "    \"\"\"\n",
        "    total_bleu = 0.0\n",
        "    num_samples = len(test_data)\n",
        "    i=0\n",
        "    for src_sentence, ref_translations in test_data:\n",
        "        # 使用翻译器生成翻译结果\n",
        "        candidate_translation = translator(src_sentence)\n",
        "        # print(candidate_translation)\n",
        "        # 计算 BLEU 分数\n",
        "        bleu_score = sentence_bleu([ref_translations.split()], candidate_translation.split(),weights=(1, 0, 0, 0))\n",
        "        total_bleu += bleu_score\n",
        "\n",
        "        # 打印当前句子的 BLEU 分数（可选）\n",
        "        # print(f\"Source: {src_sentence}\")\n",
        "        # print(f\"Reference: {ref_translations}\")\n",
        "        # print(f\"Candidate: {candidate_translation}\")\n",
        "        # print(f\"BLEU: {bleu_score:.4f}\")\n",
        "        # print(\"-\" * 50)\n",
        "        # i+=1\n",
        "        # if i>10:\n",
        "        #   break\n",
        "    # 计算平均 BLEU 分数\n",
        "    avg_bleu = total_bleu / num_samples\n",
        "    return avg_bleu\n",
        "translator = Translator(model.cpu(), src_tokenizer, trg_tokenizer)\n",
        "evaluate_bleu_on_test_set(test_dataset, translator)"
      ],
      "metadata": {
        "colab": {
          "base_uri": "https://localhost:8080/"
        },
        "id": "obYaHMzLYYxZ",
        "outputId": "2ab0ace2-cca7-4ddc-c7f9-8643281c70d9"
      },
      "id": "obYaHMzLYYxZ",
      "execution_count": 42,
      "outputs": [
        {
          "output_type": "execute_result",
          "data": {
            "text/plain": [
              "0.8199116127533412"
            ]
          },
          "metadata": {},
          "execution_count": 42
        }
      ]
    }
  ],
  "metadata": {
    "colab": {
      "provenance": [],
      "gpuType": "T4"
    },
    "kernelspec": {
      "display_name": "Python 3",
      "name": "python3"
    },
    "language_info": {
      "codemirror_mode": {
        "name": "ipython",
        "version": 3
      },
      "file_extension": ".py",
      "mimetype": "text/x-python",
      "name": "python",
      "nbconvert_exporter": "python",
      "pygments_lexer": "ipython3",
      "version": "3.12.3"
    },
    "widgets": {
      "application/vnd.jupyter.widget-state+json": {
        "851f48b3d10341fc8a041871b314e300": {
          "model_module": "@jupyter-widgets/controls",
          "model_name": "HBoxModel",
          "model_module_version": "1.5.0",
          "state": {
            "_dom_classes": [],
            "_model_module": "@jupyter-widgets/controls",
            "_model_module_version": "1.5.0",
            "_model_name": "HBoxModel",
            "_view_count": null,
            "_view_module": "@jupyter-widgets/controls",
            "_view_module_version": "1.5.0",
            "_view_name": "HBoxView",
            "box_style": "",
            "children": [
              "IPY_MODEL_c15ff90f7ac3488096a16a264aeca219",
              "IPY_MODEL_e749089d79c443c8a3e2ab713b4974a3",
              "IPY_MODEL_91e9b5f9b1dc4dc8ac14076f855901ef"
            ],
            "layout": "IPY_MODEL_74cb36244a094613b4dbc545015d52d9"
          }
        },
        "c15ff90f7ac3488096a16a264aeca219": {
          "model_module": "@jupyter-widgets/controls",
          "model_name": "HTMLModel",
          "model_module_version": "1.5.0",
          "state": {
            "_dom_classes": [],
            "_model_module": "@jupyter-widgets/controls",
            "_model_module_version": "1.5.0",
            "_model_name": "HTMLModel",
            "_view_count": null,
            "_view_module": "@jupyter-widgets/controls",
            "_view_module_version": "1.5.0",
            "_view_name": "HTMLView",
            "description": "",
            "description_tooltip": null,
            "layout": "IPY_MODEL_593e0a61f2074b9eb0f7fb6a83936b2f",
            "placeholder": "​",
            "style": "IPY_MODEL_482224c2793848208f68cb8f863f9bbe",
            "value": " 48%"
          }
        },
        "e749089d79c443c8a3e2ab713b4974a3": {
          "model_module": "@jupyter-widgets/controls",
          "model_name": "FloatProgressModel",
          "model_module_version": "1.5.0",
          "state": {
            "_dom_classes": [],
            "_model_module": "@jupyter-widgets/controls",
            "_model_module_version": "1.5.0",
            "_model_name": "FloatProgressModel",
            "_view_count": null,
            "_view_module": "@jupyter-widgets/controls",
            "_view_module_version": "1.5.0",
            "_view_name": "ProgressView",
            "bar_style": "danger",
            "description": "",
            "description_tooltip": null,
            "layout": "IPY_MODEL_cdfacdcebce44c778482052f5f60d15e",
            "max": 33520,
            "min": 0,
            "orientation": "horizontal",
            "style": "IPY_MODEL_1dfa650d2e8445ef972438b3778ce297",
            "value": 15999
          }
        },
        "91e9b5f9b1dc4dc8ac14076f855901ef": {
          "model_module": "@jupyter-widgets/controls",
          "model_name": "HTMLModel",
          "model_module_version": "1.5.0",
          "state": {
            "_dom_classes": [],
            "_model_module": "@jupyter-widgets/controls",
            "_model_module_version": "1.5.0",
            "_model_name": "HTMLModel",
            "_view_count": null,
            "_view_module": "@jupyter-widgets/controls",
            "_view_module_version": "1.5.0",
            "_view_name": "HTMLView",
            "description": "",
            "description_tooltip": null,
            "layout": "IPY_MODEL_2930bec448034e28864fadfc8b4a987d",
            "placeholder": "​",
            "style": "IPY_MODEL_d00dc416d99d4a3e9ac8aea20833445c",
            "value": " 15999/33520 [44:58&lt;40:12,  7.26it/s, epoch=9, global_step=16000, loss=0.776, val_loss=0.455]"
          }
        },
        "74cb36244a094613b4dbc545015d52d9": {
          "model_module": "@jupyter-widgets/base",
          "model_name": "LayoutModel",
          "model_module_version": "1.2.0",
          "state": {
            "_model_module": "@jupyter-widgets/base",
            "_model_module_version": "1.2.0",
            "_model_name": "LayoutModel",
            "_view_count": null,
            "_view_module": "@jupyter-widgets/base",
            "_view_module_version": "1.2.0",
            "_view_name": "LayoutView",
            "align_content": null,
            "align_items": null,
            "align_self": null,
            "border": null,
            "bottom": null,
            "display": null,
            "flex": null,
            "flex_flow": null,
            "grid_area": null,
            "grid_auto_columns": null,
            "grid_auto_flow": null,
            "grid_auto_rows": null,
            "grid_column": null,
            "grid_gap": null,
            "grid_row": null,
            "grid_template_areas": null,
            "grid_template_columns": null,
            "grid_template_rows": null,
            "height": null,
            "justify_content": null,
            "justify_items": null,
            "left": null,
            "margin": null,
            "max_height": null,
            "max_width": null,
            "min_height": null,
            "min_width": null,
            "object_fit": null,
            "object_position": null,
            "order": null,
            "overflow": null,
            "overflow_x": null,
            "overflow_y": null,
            "padding": null,
            "right": null,
            "top": null,
            "visibility": null,
            "width": null
          }
        },
        "593e0a61f2074b9eb0f7fb6a83936b2f": {
          "model_module": "@jupyter-widgets/base",
          "model_name": "LayoutModel",
          "model_module_version": "1.2.0",
          "state": {
            "_model_module": "@jupyter-widgets/base",
            "_model_module_version": "1.2.0",
            "_model_name": "LayoutModel",
            "_view_count": null,
            "_view_module": "@jupyter-widgets/base",
            "_view_module_version": "1.2.0",
            "_view_name": "LayoutView",
            "align_content": null,
            "align_items": null,
            "align_self": null,
            "border": null,
            "bottom": null,
            "display": null,
            "flex": null,
            "flex_flow": null,
            "grid_area": null,
            "grid_auto_columns": null,
            "grid_auto_flow": null,
            "grid_auto_rows": null,
            "grid_column": null,
            "grid_gap": null,
            "grid_row": null,
            "grid_template_areas": null,
            "grid_template_columns": null,
            "grid_template_rows": null,
            "height": null,
            "justify_content": null,
            "justify_items": null,
            "left": null,
            "margin": null,
            "max_height": null,
            "max_width": null,
            "min_height": null,
            "min_width": null,
            "object_fit": null,
            "object_position": null,
            "order": null,
            "overflow": null,
            "overflow_x": null,
            "overflow_y": null,
            "padding": null,
            "right": null,
            "top": null,
            "visibility": null,
            "width": null
          }
        },
        "482224c2793848208f68cb8f863f9bbe": {
          "model_module": "@jupyter-widgets/controls",
          "model_name": "DescriptionStyleModel",
          "model_module_version": "1.5.0",
          "state": {
            "_model_module": "@jupyter-widgets/controls",
            "_model_module_version": "1.5.0",
            "_model_name": "DescriptionStyleModel",
            "_view_count": null,
            "_view_module": "@jupyter-widgets/base",
            "_view_module_version": "1.2.0",
            "_view_name": "StyleView",
            "description_width": ""
          }
        },
        "cdfacdcebce44c778482052f5f60d15e": {
          "model_module": "@jupyter-widgets/base",
          "model_name": "LayoutModel",
          "model_module_version": "1.2.0",
          "state": {
            "_model_module": "@jupyter-widgets/base",
            "_model_module_version": "1.2.0",
            "_model_name": "LayoutModel",
            "_view_count": null,
            "_view_module": "@jupyter-widgets/base",
            "_view_module_version": "1.2.0",
            "_view_name": "LayoutView",
            "align_content": null,
            "align_items": null,
            "align_self": null,
            "border": null,
            "bottom": null,
            "display": null,
            "flex": null,
            "flex_flow": null,
            "grid_area": null,
            "grid_auto_columns": null,
            "grid_auto_flow": null,
            "grid_auto_rows": null,
            "grid_column": null,
            "grid_gap": null,
            "grid_row": null,
            "grid_template_areas": null,
            "grid_template_columns": null,
            "grid_template_rows": null,
            "height": null,
            "justify_content": null,
            "justify_items": null,
            "left": null,
            "margin": null,
            "max_height": null,
            "max_width": null,
            "min_height": null,
            "min_width": null,
            "object_fit": null,
            "object_position": null,
            "order": null,
            "overflow": null,
            "overflow_x": null,
            "overflow_y": null,
            "padding": null,
            "right": null,
            "top": null,
            "visibility": null,
            "width": null
          }
        },
        "1dfa650d2e8445ef972438b3778ce297": {
          "model_module": "@jupyter-widgets/controls",
          "model_name": "ProgressStyleModel",
          "model_module_version": "1.5.0",
          "state": {
            "_model_module": "@jupyter-widgets/controls",
            "_model_module_version": "1.5.0",
            "_model_name": "ProgressStyleModel",
            "_view_count": null,
            "_view_module": "@jupyter-widgets/base",
            "_view_module_version": "1.2.0",
            "_view_name": "StyleView",
            "bar_color": null,
            "description_width": ""
          }
        },
        "2930bec448034e28864fadfc8b4a987d": {
          "model_module": "@jupyter-widgets/base",
          "model_name": "LayoutModel",
          "model_module_version": "1.2.0",
          "state": {
            "_model_module": "@jupyter-widgets/base",
            "_model_module_version": "1.2.0",
            "_model_name": "LayoutModel",
            "_view_count": null,
            "_view_module": "@jupyter-widgets/base",
            "_view_module_version": "1.2.0",
            "_view_name": "LayoutView",
            "align_content": null,
            "align_items": null,
            "align_self": null,
            "border": null,
            "bottom": null,
            "display": null,
            "flex": null,
            "flex_flow": null,
            "grid_area": null,
            "grid_auto_columns": null,
            "grid_auto_flow": null,
            "grid_auto_rows": null,
            "grid_column": null,
            "grid_gap": null,
            "grid_row": null,
            "grid_template_areas": null,
            "grid_template_columns": null,
            "grid_template_rows": null,
            "height": null,
            "justify_content": null,
            "justify_items": null,
            "left": null,
            "margin": null,
            "max_height": null,
            "max_width": null,
            "min_height": null,
            "min_width": null,
            "object_fit": null,
            "object_position": null,
            "order": null,
            "overflow": null,
            "overflow_x": null,
            "overflow_y": null,
            "padding": null,
            "right": null,
            "top": null,
            "visibility": null,
            "width": null
          }
        },
        "d00dc416d99d4a3e9ac8aea20833445c": {
          "model_module": "@jupyter-widgets/controls",
          "model_name": "DescriptionStyleModel",
          "model_module_version": "1.5.0",
          "state": {
            "_model_module": "@jupyter-widgets/controls",
            "_model_module_version": "1.5.0",
            "_model_name": "DescriptionStyleModel",
            "_view_count": null,
            "_view_module": "@jupyter-widgets/base",
            "_view_module_version": "1.2.0",
            "_view_name": "StyleView",
            "description_width": ""
          }
        }
      }
    },
    "accelerator": "GPU"
  },
  "nbformat": 4,
  "nbformat_minor": 5
}