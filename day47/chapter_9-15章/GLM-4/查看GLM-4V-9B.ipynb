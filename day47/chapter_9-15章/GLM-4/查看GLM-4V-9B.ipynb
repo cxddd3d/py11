{
 "cells": [
  {
   "cell_type": "code",
   "execution_count": null,
   "id": "initial_id",
   "metadata": {
    "collapsed": true
   },
   "outputs": [],
   "source": [
    "import torch.nn as nn\n",
    "\n"
   ]
  },
  {
   "metadata": {},
   "cell_type": "code",
   "outputs": [],
   "execution_count": null,
   "source": [
    "ChatGLMForConditionalGeneration(\n",
    "  (transformer): ChatGLMModel(\n",
    "    (embedding): Embedding(\n",
    "      (word_embeddings): Embedding(151552, 4096)\n",
    "    )\n",
    "    (rotary_pos_emb): RotaryEmbedding()\n",
    "    (encoder): GLMTransformer(\n",
    "      (layers): ModuleList(\n",
    "        (0-39): 40 x GLMBlock(\n",
    "          (input_layernorm): RMSNorm()\n",
    "          (self_attention): SelfAttention(\n",
    "            (query_key_value): Linear(in_features=4096, out_features=4608, bias=True)\n",
    "            (core_attention): CoreAttention(\n",
    "              (attention_dropout): Dropout(p=0.0, inplace=False)\n",
    "            )\n",
    "            (dense): Linear(in_features=4096, out_features=4096, bias=False)\n",
    "          )\n",
    "          (post_attention_layernorm): RMSNorm()\n",
    "          (mlp): MLP(\n",
    "            (dense_h_to_4h): Linear(in_features=4096, out_features=27392, bias=False)\n",
    "            (dense_4h_to_h): Linear(in_features=13696, out_features=4096, bias=False)\n",
    "          )\n",
    "        )\n",
    "      )\n",
    "      (final_layernorm): RMSNorm()\n",
    "    )\n",
    "    (output_layer): Linear(in_features=4096, out_features=151552, bias=False)\n",
    "    (vision): EVA2CLIPModel(\n",
    "      (patch_embedding): PatchEmbedding(\n",
    "        (proj): Conv2d(3, 1792, kernel_size=(14, 14), stride=(14, 14))\n",
    "        (position_embedding): Embedding(6401, 1792)\n",
    "      )\n",
    "      (transformer): Transformer(\n",
    "        (layers): ModuleList(\n",
    "          (0-62): 63 x TransformerLayer(\n",
    "            (input_layernorm): LayerNorm((1792,), eps=1e-06, elementwise_affine=True)\n",
    "            (attention): Attention(\n",
    "              (query_key_value): Linear(in_features=1792, out_features=5376, bias=True)\n",
    "              (dense): Linear(in_features=1792, out_features=1792, bias=True)\n",
    "              (output_dropout): Dropout(p=0.0, inplace=False)\n",
    "            )\n",
    "            (mlp): MLP(\n",
    "              (activation_fn): GELUActivation()\n",
    "              (fc1): Linear(in_features=1792, out_features=15360, bias=True)\n",
    "              (fc2): Linear(in_features=15360, out_features=1792, bias=True)\n",
    "            )\n",
    "            (post_attention_layernorm): LayerNorm((1792,), eps=1e-06, elementwise_affine=True)\n",
    "          )\n",
    "        )\n",
    "      )\n",
    "      (linear_proj): GLU(\n",
    "        (linear_proj): Linear(in_features=4096, out_features=4096, bias=False)\n",
    "        (norm1): LayerNorm((4096,), eps=1e-05, elementwise_affine=True)\n",
    "        (act1): GELU(approximate='none')\n",
    "        (dense_h_to_4h): Linear(in_features=4096, out_features=13696, bias=False)\n",
    "        (gate_proj): Linear(in_features=4096, out_features=13696, bias=False)\n",
    "        (dense_4h_to_h): Linear(in_features=13696, out_features=4096, bias=False)\n",
    "      )\n",
    "      (conv): Conv2d(1792, 4096, kernel_size=(2, 2), stride=(2, 2))\n",
    "    )\n",
    "  )\n",
    ")"
   ],
   "id": "5c9149c115a37da7"
  }
 ],
 "metadata": {
  "kernelspec": {
   "display_name": "Python 3",
   "language": "python",
   "name": "python3"
  },
  "language_info": {
   "codemirror_mode": {
    "name": "ipython",
    "version": 2
   },
   "file_extension": ".py",
   "mimetype": "text/x-python",
   "name": "python",
   "nbconvert_exporter": "python",
   "pygments_lexer": "ipython2",
   "version": "2.7.6"
  }
 },
 "nbformat": 4,
 "nbformat_minor": 5
}
