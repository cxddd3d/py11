{
 "cells": [
  {
   "cell_type": "code",
   "execution_count": 2,
   "metadata": {
    "ExecuteTime": {
     "end_time": "2025-06-27T13:27:27.764655Z",
     "start_time": "2025-06-27T13:27:24.662359Z"
    }
   },
   "outputs": [],
   "source": [
    "import numpy as np\n",
    "import pandas as pd\n",
    "import matplotlib.pyplot as plt\n",
    "from sklearn.datasets import fetch_california_housing\n",
    "from sklearn.model_selection import train_test_split\n",
    "from sklearn.preprocessing import StandardScaler\n",
    "import torch\n",
    "import torch.nn as nn\n",
    "from tqdm.auto import tqdm\n",
    "from torch.utils.data import DataLoader, Dataset\n",
    "from wangdao_deeplearning_train import EarlyStopping, ModelSaver\n",
    "from wangdao_deeplearning_train import plot_learning_loss_curves,train_regression_model,evaluate_regression_model\n",
    "import os"
   ]
  },
  {
   "cell_type": "code",
   "execution_count": 3,
   "metadata": {
    "ExecuteTime": {
     "end_time": "2025-06-27T13:27:27.790679Z",
     "start_time": "2025-06-27T13:27:27.765663Z"
    }
   },
   "outputs": [
    {
     "name": "stdout",
     "output_type": "stream",
     "text": [
      "训练集大小: 13209\n",
      "验证集大小: 3303\n",
      "测试集大小: 4128\n"
     ]
    }
   ],
   "source": [
    "# 加载加利福尼亚房价数据集\n",
    "housing = fetch_california_housing()\n",
    "X = housing.data\n",
    "y = housing.target\n",
    "\n",
    "# 数据拆分：训练集(60%)、验证集(20%)、测试集(20%)\n",
    "X_train_val, X_test, y_train_val, y_test = train_test_split(X, y, test_size=0.2, random_state=42)\n",
    "X_train, X_val, y_train, y_val = train_test_split(X_train_val, y_train_val, test_size=0.2, random_state=42)  # 0.25 x 0.8 = 0.2\n",
    "\n",
    "print(f\"训练集大小: {X_train.shape[0]}\")\n",
    "print(f\"验证集大小: {X_val.shape[0]}\")\n",
    "print(f\"测试集大小: {X_test.shape[0]}\")\n",
    "\n",
    "# 数据标准化\n",
    "scaler = StandardScaler()\n",
    "X_train_scaled = scaler.fit_transform(X_train)\n",
    "X_val_scaled = scaler.transform(X_val)\n",
    "X_test_scaled = scaler.transform(X_test)\n",
    "\n",
    "# 自定义数据集类\n",
    "class HousingDataset(Dataset):\n",
    "    def __init__(self, features, targets):\n",
    "        self.features = torch.FloatTensor(features)\n",
    "        self.targets = torch.FloatTensor(targets).view(-1, 1)\n",
    "        \n",
    "    def __len__(self):\n",
    "        return len(self.features) #返回样本数量\n",
    "    \n",
    "    def __getitem__(self, idx): #传入索引，返回对应索引样本的特征和目标\n",
    "        return (self.features[idx],self.features[idx][-2:]), self.targets[idx]\n",
    "\n",
    "# 创建数据集实例\n",
    "train_dataset = HousingDataset(X_train_scaled, y_train)\n",
    "val_dataset = HousingDataset(X_val_scaled, y_val)\n",
    "test_dataset = HousingDataset(X_test_scaled, y_test)\n",
    "\n",
    "# 创建数据加载器\n",
    "train_loader = DataLoader(train_dataset, batch_size=32, shuffle=True)\n",
    "val_loader = DataLoader(val_dataset, batch_size=32)\n",
    "test_loader = DataLoader(test_dataset, batch_size=32)"
   ]
  },
  {
   "cell_type": "code",
   "execution_count": 4,
   "metadata": {
    "ExecuteTime": {
     "end_time": "2025-06-27T13:27:27.801557Z",
     "start_time": "2025-06-27T13:27:27.790679Z"
    }
   },
   "outputs": [
    {
     "name": "stdout",
     "output_type": "stream",
     "text": [
      "<class 'list'>\n",
      "[tensor([[ 1.8522e+00, -2.8336e-01,  6.0165e-01, -1.8781e-01,  2.3047e-01,\n",
      "         -1.0421e-02,  7.8882e-01, -1.2152e+00],\n",
      "        [ 9.7737e-01, -1.9515e+00,  4.0831e-02,  1.4708e-02,  2.2187e+00,\n",
      "         -9.4974e-02, -6.5464e-01,  3.8565e-01],\n",
      "        [ 7.3815e-01, -4.5060e-02,  2.8460e-01, -2.4197e-01, -6.5880e-02,\n",
      "         -2.1392e-02, -8.4210e-01,  7.3973e-01],\n",
      "        [ 9.5282e-02, -7.5997e-01,  3.3098e-01, -3.2225e-02,  7.8975e-01,\n",
      "         -1.3603e-01,  5.5449e-01, -1.1306e-01],\n",
      "        [-5.1425e-01,  1.7025e+00,  4.1086e-02, -1.3789e-01, -2.7957e-01,\n",
      "          4.0974e-02, -7.5774e-01,  6.3002e-01],\n",
      "        [ 6.2533e-01, -1.1571e+00,  5.8349e-01, -2.1192e-01,  8.1174e-01,\n",
      "         -1.8694e-02, -1.0624e+00,  1.1886e+00],\n",
      "        [-3.8762e-01,  1.1381e-01,  6.6872e-01,  9.7540e-01, -2.9716e-01,\n",
      "         -5.6317e-02, -3.9219e-01,  3.1583e-01],\n",
      "        [-3.8963e-01, -1.2366e+00,  5.7954e-01,  4.7385e-02, -4.4137e-01,\n",
      "         -5.3036e-02,  7.9819e-01, -4.8223e-02],\n",
      "        [-1.2089e+00,  1.9324e-01, -8.5622e-01, -9.2517e-02, -4.6512e-01,\n",
      "         -1.5521e-01, -8.7491e-01,  6.9485e-01],\n",
      "        [-7.2437e-01,  2.7268e-01, -4.4054e-01, -1.9611e-01, -4.8798e-01,\n",
      "         -2.6212e-02,  2.4151e+00, -2.2725e+00],\n",
      "        [-8.6428e-01,  8.2872e-01, -1.1133e+00, -2.0152e-01, -3.3497e-01,\n",
      "          2.2721e-01, -7.6243e-01,  6.5994e-01],\n",
      "        [-2.7036e-01, -2.0393e-01, -5.5071e-01,  7.5210e-02,  2.5773e-01,\n",
      "         -1.7349e-01, -7.2494e-01,  6.1506e-01],\n",
      "        [-7.0008e-01, -5.2167e-01, -9.0053e-01, -2.2763e-01,  3.3160e-01,\n",
      "         -2.1975e-01,  1.0747e+00, -1.2302e+00],\n",
      "        [ 6.3136e-01, -2.8336e-01,  9.6303e-01,  2.6840e-01, -7.0782e-01,\n",
      "         -1.3429e-01,  4.4201e-01, -1.1703e+00],\n",
      "        [ 4.3457e-01, -1.4749e+00,  5.2581e-01,  8.4345e-02,  1.8035e-01,\n",
      "         -4.0438e-02,  1.4168e+00, -8.0626e-01],\n",
      "        [ 5.3432e-01,  3.5211e-01,  3.2290e-01, -1.5972e-01, -5.4448e-02,\n",
      "         -2.5341e-02, -4.4375e-01,  7.0981e-01],\n",
      "        [ 6.7237e-02,  5.9042e-01,  3.9502e-01, -1.4363e-01, -4.3082e-01,\n",
      "          9.1815e-03, -1.1100e-01,  3.0586e-01],\n",
      "        [ 3.4811e-01,  1.0670e+00, -1.7711e-01, -9.1955e-04, -7.7026e-01,\n",
      "         -1.3969e-01,  1.0513e+00, -1.3698e+00],\n",
      "        [ 1.1395e+00,  7.4928e-01, -1.5121e-01,  2.7729e-01, -1.2187e+00,\n",
      "          1.5610e-01, -8.6554e-01,  8.4446e-01],\n",
      "        [ 8.7414e-01,  5.1098e-01,  5.2472e-01,  6.4002e-03, -3.2969e-01,\n",
      "          1.7679e-01, -6.6870e-01,  5.3028e-01],\n",
      "        [-8.5444e-01,  1.1465e+00, -4.0859e-01, -1.0789e-01, -1.2568e-01,\n",
      "          8.2703e-02,  1.0044e+00, -1.3249e+00],\n",
      "        [ 1.1343e-01,  3.4374e-02, -1.7339e-01, -3.4029e-01, -4.8798e-01,\n",
      "          7.5576e-03, -7.8586e-01,  1.0240e+00],\n",
      "        [-5.0842e-01,  5.9042e-01, -1.5356e-01, -9.3193e-02, -2.7253e-01,\n",
      "         -7.3239e-02,  5.2637e-01, -1.1804e-01],\n",
      "        [ 6.9354e-02,  1.9324e-01, -2.0288e-01, -1.1253e-02, -6.5154e-01,\n",
      "          3.2333e-02, -7.9524e-01,  7.1480e-01],\n",
      "        [-1.3362e+00,  1.5436e+00, -7.4184e-01,  2.0118e-01, -1.6701e-01,\n",
      "         -5.1318e-02,  1.0841e+00, -8.5114e-01],\n",
      "        [ 9.7441e-01, -1.8721e+00,  5.2218e-01, -2.0973e-01,  8.5483e-01,\n",
      "          1.6728e-02,  1.0794e+00, -1.0756e+00],\n",
      "        [-3.7577e-01,  1.1381e-01, -6.3738e-01, -2.4756e-01, -6.1483e-02,\n",
      "          5.1704e-02, -6.3589e-01,  5.7017e-01],\n",
      "        [-5.1239e-02, -2.8336e-01, -6.6616e-01,  9.8213e-02,  2.5685e-01,\n",
      "         -1.9527e-01, -7.4837e-01,  5.6020e-01],\n",
      "        [-1.1631e+00,  1.1465e+00, -9.8900e-01, -8.4341e-03, -3.6399e-01,\n",
      "         -9.6616e-02,  7.9351e-01, -1.1504e+00],\n",
      "        [-6.0791e-01,  1.8614e+00, -2.2703e-01,  2.2584e-02,  2.5421e-01,\n",
      "          1.8222e-02, -6.9213e-01,  7.1978e-01],\n",
      "        [ 8.8118e-01, -1.5543e+00, -3.8213e-01, -4.8965e-01, -2.7781e-01,\n",
      "         -1.4284e-01, -9.4052e-01,  9.1428e-01],\n",
      "        [-5.4838e-01, -1.3954e+00, -4.0598e-01,  3.5750e-02,  2.1229e+00,\n",
      "         -9.6222e-02, -7.2494e-01,  9.4919e-01]]), tensor([[ 0.7888, -1.2152],\n",
      "        [-0.6546,  0.3857],\n",
      "        [-0.8421,  0.7397],\n",
      "        [ 0.5545, -0.1131],\n",
      "        [-0.7577,  0.6300],\n",
      "        [-1.0624,  1.1886],\n",
      "        [-0.3922,  0.3158],\n",
      "        [ 0.7982, -0.0482],\n",
      "        [-0.8749,  0.6948],\n",
      "        [ 2.4151, -2.2725],\n",
      "        [-0.7624,  0.6599],\n",
      "        [-0.7249,  0.6151],\n",
      "        [ 1.0747, -1.2302],\n",
      "        [ 0.4420, -1.1703],\n",
      "        [ 1.4168, -0.8063],\n",
      "        [-0.4437,  0.7098],\n",
      "        [-0.1110,  0.3059],\n",
      "        [ 1.0513, -1.3698],\n",
      "        [-0.8655,  0.8445],\n",
      "        [-0.6687,  0.5303],\n",
      "        [ 1.0044, -1.3249],\n",
      "        [-0.7859,  1.0240],\n",
      "        [ 0.5264, -0.1180],\n",
      "        [-0.7952,  0.7148],\n",
      "        [ 1.0841, -0.8511],\n",
      "        [ 1.0794, -1.0756],\n",
      "        [-0.6359,  0.5702],\n",
      "        [-0.7484,  0.5602],\n",
      "        [ 0.7935, -1.1504],\n",
      "        [-0.6921,  0.7198],\n",
      "        [-0.9405,  0.9143],\n",
      "        [-0.7249,  0.9492]])]\n"
     ]
    }
   ],
   "source": [
    "for i,j in train_loader:\n",
    "    print(type(i))\n",
    "    print(i)\n",
    "    break"
   ]
  },
  {
   "cell_type": "markdown",
   "metadata": {},
   "source": [
    "# 加载数据，构建模型"
   ]
  },
  {
   "cell_type": "code",
   "execution_count": 5,
   "metadata": {
    "ExecuteTime": {
     "end_time": "2025-06-27T13:27:28.935019Z",
     "start_time": "2025-06-27T13:27:27.803566Z"
    }
   },
   "outputs": [
    {
     "name": "stdout",
     "output_type": "stream",
     "text": [
      "WideDeepModel(\n",
      "  (deep): Sequential(\n",
      "    (0): Linear(in_features=2, out_features=30, bias=True)\n",
      "    (1): ReLU()\n",
      "    (2): Linear(in_features=30, out_features=30, bias=True)\n",
      "    (3): ReLU()\n",
      "  )\n",
      "  (output): Linear(in_features=38, out_features=1, bias=True)\n",
      ")\n"
     ]
    }
   ],
   "source": [
    "from torch import optim\n",
    "\n",
    "\n",
    "\n",
    "# 定义神经网络模型\n",
    "class WideDeepModel(nn.Module):\n",
    "    def __init__(self, input_dim=(8,2)):\n",
    "        super().__init__()\n",
    "        # Deep部分使用Sequential\n",
    "        self.deep = nn.Sequential(\n",
    "            nn.Linear(input_dim[1], 30),\n",
    "            nn.ReLU(),\n",
    "            nn.Linear(30, 30),\n",
    "            nn.ReLU()\n",
    "        )\n",
    "        \n",
    "        # Wide部分直接使用原始输入\n",
    "        \n",
    "        # 输出层，输入维度是deep部分的30 + wide部分的input_dim\n",
    "        self.output = nn.Linear(30 + input_dim[0], 1)\n",
    "        \n",
    "    def forward(self, x_wide, x_deep):\n",
    "        # Deep路径，deep shape是[batch_size, 30]\n",
    "        deep = self.deep(x_deep)\n",
    "        \n",
    "        # Wide路径直接使用原始输入\n",
    "        wide = x_wide\n",
    "        \n",
    "        # 连接Wide和Deep,combined shape是[batch_size, 30 + input_dim[0]]\n",
    "        combined = torch.cat([wide, deep], dim=1)\n",
    "        \n",
    "        # 输出层，输出shape是[batch_size, 1]\n",
    "        output = self.output(combined)\n",
    "        return output\n",
    "\n",
    "# 初始化模型、损失函数和优化器\n",
    "model = WideDeepModel()\n",
    "criterion = nn.MSELoss()\n",
    "optimizer = optim.Adam(model.parameters())\n",
    "\n",
    "# 打印模型结构\n",
    "print(model)"
   ]
  },
  {
   "cell_type": "code",
   "execution_count": 6,
   "metadata": {
    "ExecuteTime": {
     "end_time": "2025-06-27T13:28:59.280417Z",
     "start_time": "2025-06-27T13:27:28.936024Z"
    }
   },
   "outputs": [
    {
     "data": {
      "application/vnd.jupyter.widget-view+json": {
       "model_id": "a16847558a784ab9b5e198b3a2587232",
       "version_major": 2,
       "version_minor": 0
      },
      "text/plain": [
       "train progress:   0%|          | 0/41300 [00:00<?, ?it/s]"
      ]
     },
     "metadata": {},
     "output_type": "display_data"
    }
   ],
   "source": [
    "# 训练模型\n",
    "# 初始化早停和模型保存对象\n",
    "early_stopping = EarlyStopping(patience=10, verbose=True)\n",
    "model_saver = ModelSaver(save_dir='model_weights')\n",
    "device = torch.device(\"cuda:0\" if torch.cuda.is_available() else \"cpu\")\n",
    "model, record_dict = train_regression_model(\n",
    "    model=model,\n",
    "    train_loader=train_loader,\n",
    "    val_loader=val_loader,\n",
    "    criterion=criterion,\n",
    "    optimizer=optimizer,\n",
    "    num_epochs=100,\n",
    "    print_every=10,\n",
    "    eval_step=500,\n",
    "    early_stopping=early_stopping,\n",
    "    model_saver=model_saver,\n",
    "    device=device\n",
    ")"
   ]
  },
  {
   "cell_type": "code",
   "execution_count": 7,
   "metadata": {
    "ExecuteTime": {
     "end_time": "2025-06-27T13:28:59.488125Z",
     "start_time": "2025-06-27T13:28:59.281941Z"
    }
   },
   "outputs": [
    {
     "data": {
      "image/png": "[encoded data removed]",
      "text/plain": [
       "<Figure size 1000x500 with 1 Axes>"
      ]
     },
     "metadata": {},
     "output_type": "display_data"
    }
   ],
   "source": [
    "#画图\n",
    "plot_learning_loss_curves(record_dict,sample_step=500)"
   ]
  },
  {
   "cell_type": "code",
   "execution_count": 8,
   "metadata": {
    "ExecuteTime": {
     "end_time": "2025-06-27T13:28:59.629932Z",
     "start_time": "2025-06-27T13:28:59.490850Z"
    }
   },
   "outputs": [
    {
     "name": "stdout",
     "output_type": "stream",
     "text": [
      "测试集上的损失为0.3868\n"
     ]
    }
   ],
   "source": [
    "device = torch.device(\"cuda:0\" if torch.cuda.is_available() else \"cpu\")\n",
    "test_loss=evaluate_regression_model(model,test_loader,device,criterion)\n",
    "print(f\"测试集上的损失为{test_loss:.4f}\")"
   ]
  }
 ],
 "metadata": {
  "kernelspec": {
   "display_name": "Python 3",
   "language": "python",
   "name": "python3"
  },
  "language_info": {
   "codemirror_mode": {
    "name": "ipython",
    "version": 3
   },
   "file_extension": ".py",
   "mimetype": "text/x-python",
   "name": "python",
   "nbconvert_exporter": "python",
   "pygments_lexer": "ipython3",
   "version": "3.12.3"
  }
 },
 "nbformat": 4,
 "nbformat_minor": 2
}
