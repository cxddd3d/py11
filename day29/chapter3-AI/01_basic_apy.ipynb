{
 "cells": [
  {
   "cell_type": "code",
   "execution_count": 2,
   "metadata": {},
   "outputs": [
    {
     "name": "stdout",
     "output_type": "stream",
     "text": [
      "创建张量的基本方法:\n",
      "从列表创建: tensor([1, 2, 3])\n",
      "全零张量: \n",
      "tensor([[0., 0.],\n",
      "        [0., 0.],\n",
      "        [0., 0.]])\n",
      "全一张量: \n",
      "tensor([[1., 1., 1.],\n",
      "        [1., 1., 1.]])\n",
      "随机张量(0-1均匀分布): \n",
      "tensor([[0.3460, 0.7363],\n",
      "        [0.5983, 0.3678]])\n",
      "随机张量(标准正态分布): \n",
      "tensor([[-0.1834, -1.1945],\n",
      "        [-1.2590, -0.7724]])\n",
      "\n",
      "张量的数据类型:\n",
      "float32类型: tensor([1., 2., 3.]), 数据类型: torch.float32\n",
      "int64类型: tensor([1, 2, 3]), 数据类型: torch.int64\n",
      "布尔类型: tensor([ True, False,  True]), 数据类型: torch.bool\n",
      "\n",
      "张量的基础运算:\n",
      "加法: tensor([5., 7., 9.])\n",
      "减法: tensor([-3., -3., -3.])\n",
      "乘法(元素级): tensor([ 4., 10., 18.])\n",
      "除法: tensor([0.2500, 0.4000, 0.5000])\n",
      "\n",
      "矩阵运算:\n",
      "矩阵乘法: \n",
      "tensor([[19., 22.],\n",
      "        [43., 50.]])\n",
      "矩阵转置: \n",
      "tensor([[1., 3.],\n",
      "        [2., 4.]])\n",
      "\n",
      "广播机制:\n",
      "广播加法: \n",
      "tensor([[11., 22., 33.],\n",
      "        [14., 25., 36.]])\n"
     ]
    }
   ],
   "source": [
    "import torch\n",
    "import numpy as np\n",
    "import matplotlib.pyplot as plt\n",
    "plt.rcParams['font.sans-serif'] = ['SimHei']  # 用来正常显示中文标签\n",
    "plt.rcParams['axes.unicode_minus'] = False  # 用来正常显示负号\n",
    "\n",
    "# 创建张量的基本方法\n",
    "print(\"创建张量的基本方法:\")\n",
    "x = torch.tensor([1, 2, 3])\n",
    "print(f\"从列表创建: {x}\")\n",
    "\n",
    "x = torch.zeros(3, 2)\n",
    "print(f\"全零张量: \\n{x}\")\n",
    "\n",
    "x = torch.ones(2, 3)\n",
    "print(f\"全一张量: \\n{x}\")\n",
    "\n",
    "x = torch.rand(2, 2)\n",
    "print(f\"随机张量(0-1均匀分布): \\n{x}\")\n",
    "\n",
    "x = torch.randn(2, 2)\n",
    "print(f\"随机张量(标准正态分布): \\n{x}\")\n",
    "\n",
    "# 张量的数据类型\n",
    "print(\"\\n张量的数据类型:\")\n",
    "x = torch.tensor([1, 2, 3], dtype=torch.float32)\n",
    "print(f\"float32类型: {x}, 数据类型: {x.dtype}\")\n",
    "\n",
    "x = torch.tensor([1, 2, 3], dtype=torch.int64)\n",
    "print(f\"int64类型: {x}, 数据类型: {x.dtype}\")\n",
    "\n",
    "x = torch.tensor([True, False, True], dtype=torch.bool)\n",
    "print(f\"布尔类型: {x}, 数据类型: {x.dtype}\")\n",
    "\n",
    "\n",
    "# 张量的基础运算\n",
    "print(\"\\n张量的基础运算:\")\n",
    "a = torch.tensor([1, 2, 3], dtype=torch.float32)\n",
    "b = torch.tensor([4, 5, 6], dtype=torch.float32)\n",
    "\n",
    "print(f\"加法: {a + b}\")\n",
    "print(f\"减法: {a - b}\")\n",
    "print(f\"乘法(元素级): {a * b}\")\n",
    "print(f\"除法: {a / b}\")\n",
    "\n",
    "# 矩阵运算\n",
    "print(\"\\n矩阵运算:\")\n",
    "a = torch.tensor([[1, 2], [3, 4]], dtype=torch.float32)\n",
    "b = torch.tensor([[5, 6], [7, 8]], dtype=torch.float32)\n",
    "\n",
    "print(f\"矩阵乘法: \\n{torch.matmul(a, b)}\")\n",
    "print(f\"矩阵转置: \\n{a.T}\")\n",
    "\n",
    "# 广播机制\n",
    "print(\"\\n广播机制:\")\n",
    "a = torch.tensor([[1, 2, 3], [4, 5, 6]], dtype=torch.float32)\n",
    "b = torch.tensor([10, 20, 30], dtype=torch.float32)\n",
    "print(f\"广播加法: \\n{a + b}\")"
   ]
  },
  {
   "cell_type": "code",
   "execution_count": 3,
   "metadata": {},
   "outputs": [
    {
     "name": "stdout",
     "output_type": "stream",
     "text": [
      "矩阵乘法(3x2 @ 2x3): tensor([[ 27.,  30.,  33.],\n",
      "        [ 61.,  68.,  75.],\n",
      "        [ 95., 106., 117.]])\n",
      "求和: tensor(21.)\n",
      "平均值: tensor(3.5000)\n",
      "最大值: tensor(6.)\n",
      "最小值: tensor(1.)\n",
      "绝对值: tensor([[1., 2., 3.],\n",
      "        [4., 5., 6.]])\n"
     ]
    }
   ],
   "source": [
    "# 更多数学操作\n",
    "# 创建3行2列和2行3列的tensor\n",
    "tensor_3x2 = torch.tensor([[1, 2], [3, 4], [5, 6]], dtype=torch.float32)\n",
    "tensor_2x3 = torch.tensor([[7, 8, 9], [10, 11, 12]], dtype=torch.float32)\n",
    "# 执行矩阵乘法\n",
    "print(\"矩阵乘法(3x2 @ 2x3):\", torch.matmul(tensor_3x2, tensor_2x3))\n",
    "print(\"求和:\", a.sum())\n",
    "print(\"平均值:\", a.mean())\n",
    "print(\"最大值:\", a.max())\n",
    "print(\"最小值:\", a.min())\n",
    "print(\"绝对值:\", a.abs())\n",
    "# print(\"形状变化后的元素级乘法:\", tensor_3x2 * tensor_2x3)"
   ]
  },
  {
   "cell_type": "code",
   "execution_count": 4,
   "metadata": {},
   "outputs": [
    {
     "name": "stdout",
     "output_type": "stream",
     "text": [
      "从NumPy创建: tensor([1, 2, 3], dtype=torch.int32)\n",
      "tensor_to_numpy: [1 2 3]\n"
     ]
    }
   ],
   "source": [
    "# 从NumPy数组创建\n",
    "np_array = np.array([1, 2, 3])\n",
    "tensor_from_np = torch.from_numpy(np_array)\n",
    "print(\"从NumPy创建:\", tensor_from_np)\n",
    "print('tensor_to_numpy:', tensor_from_np.numpy())"
   ]
  },
  {
   "cell_type": "code",
   "execution_count": 5,
   "metadata": {},
   "outputs": [
    {
     "name": "stdout",
     "output_type": "stream",
     "text": [
      "\n",
      "=== 张量形状操作 ===\n",
      "原始张量形状: torch.Size([2, 3, 4])\n",
      "张量维度数: 3\n",
      "张量元素总数: 24\n",
      "重塑后形状: torch.Size([4, 6])\n",
      "展平后: torch.Size([24])\n",
      "维度扩展: torch.Size([1, 2, 3, 4])\n",
      "维度压缩: torch.Size([2, 4])\n"
     ]
    }
   ],
   "source": [
    "# 形状操作\n",
    "print(\"\\n=== 张量形状操作 ===\")\n",
    "tensor = torch.rand(2, 3, 4)\n",
    "print(\"原始张量形状:\", tensor.shape)\n",
    "print(\"张量维度数:\", tensor.dim())\n",
    "print(\"张量元素总数:\", tensor.numel())\n",
    "\n",
    "# 形状变换\n",
    "reshaped = tensor.reshape(4, 6)\n",
    "print(\"重塑后形状:\", reshaped.shape)\n",
    "print(\"展平后:\", tensor.flatten().shape)\n",
    "print(\"维度扩展:\", tensor.unsqueeze(0).shape)  # 在第0维添加维度\n",
    "print(\"维度压缩:\", tensor[:, 0:1, :].squeeze(1).shape)  # 压缩大小为1的维度 "
   ]
  },
  {
   "cell_type": "code",
   "execution_count": 6,
   "metadata": {},
   "outputs": [
    {
     "name": "stdout",
     "output_type": "stream",
     "text": [
      "\n",
      "=== 索引与切片 ===\n",
      "原矩阵:\n",
      " tensor([[1, 2, 3],\n",
      "        [4, 5, 6],\n",
      "        [7, 8, 9]])\n",
      "第1行: tensor([1, 2, 3])\n",
      "第2列: tensor([2, 5, 8])\n",
      "子矩阵: tensor([[2, 3],\n",
      "        [5, 6]])\n",
      "matrix[[0,2], [1,2]] tensor([2, 9])\n",
      "选择特定行: tensor([[1, 2, 3],\n",
      "        [7, 8, 9]])\n",
      "布尔掩码索引: tensor([6, 7, 8, 9])\n"
     ]
    }
   ],
   "source": [
    "\n",
    "# 索引和切片\n",
    "print(\"\\n=== 索引与切片 ===\")\n",
    "matrix = torch.tensor([[1, 2, 3], [4, 5, 6], [7, 8, 9]])\n",
    "print(\"原矩阵:\\n\", matrix)\n",
    "print(\"第1行:\", matrix[0])\n",
    "print(\"第2列:\", matrix[:, 1])\n",
    "print(\"子矩阵:\", matrix[0:2, 1:3])\n",
    "print('matrix[[0,2], [1,2]]',matrix[[0,2], [1,2]])\n",
    "\n",
    "# 高级索引\n",
    "indices = torch.tensor([0, 2])\n",
    "print(\"选择特定行:\", matrix[indices])\n",
    "mask = matrix > 5\n",
    "print(\"布尔掩码索引:\", matrix[mask])\n"
   ]
  },
  {
   "cell_type": "code",
   "execution_count": 7,
   "metadata": {},
   "outputs": [
    {
     "name": "stdout",
     "output_type": "stream",
     "text": [
      "选择特定行: tensor([[1, 2, 3],\n",
      "        [7, 8, 9]])\n",
      "布尔掩码索引: tensor([6, 7, 8, 9])\n"
     ]
    }
   ],
   "source": [
    "# 高级索引\n",
    "indices = torch.tensor([0, 2])\n",
    "print(\"选择特定行:\", matrix[indices])\n",
    "mask = matrix > 5\n",
    "print(\"布尔掩码索引:\", matrix[mask]) \n"
   ]
  },
  {
   "cell_type": "code",
   "execution_count": 8,
   "metadata": {},
   "outputs": [
    {
     "name": "stdout",
     "output_type": "stream",
     "text": [
      "1.0\n"
     ]
    }
   ],
   "source": [
    "print(torch.Tensor([1]).item()) #获取一个tensor中的元素值"
   ]
  },
  {
   "cell_type": "code",
   "execution_count": 9,
   "metadata": {},
   "outputs": [
    {
     "name": "stdout",
     "output_type": "stream",
     "text": [
      "t2.shape (1, 1, 2)\n",
      "[[3]\n",
      " [4]]\n",
      "--------------------------------------------------\n",
      "id(t2)=1602902461296,id(b)=1603632478032\n",
      "[[100]\n",
      " [  4]]\n",
      "[[[100   4]]]\n"
     ]
    }
   ],
   "source": [
    "t2 =np.array([[[3,4]]])\n",
    "print('t2.shape',t2.shape)\n",
    "b=t2.reshape([2, -1]) # -1表示自动计算\n",
    "print(b)\n",
    "print('-'*50)\n",
    "print(f'id(t2)={id(t2)},id(b)={id(b)}') #t2的形状并没有发生改变\n",
    "b[0][0] = 100\n",
    "print(b)\n",
    "print(t2)"
   ]
  },
  {
   "cell_type": "code",
   "execution_count": 13,
   "metadata": {},
   "outputs": [
    {
     "name": "stdout",
     "output_type": "stream",
     "text": [
      "t2.shape torch.Size([1, 1, 2])\n",
      "tensor([[3.],\n",
      "        [4.]])\n",
      "--------------------------------------------------\n",
      "id(t2)=1603633130512,id(b)=1603633130912\n"
     ]
    }
   ],
   "source": [
    "t2 = torch.Tensor([[[3,4]]])\n",
    "print('t2.shape',t2.shape)\n",
    "b=t2.view([2, -1]) # -1表示自动计算\n",
    "print(b)\n",
    "print('-'*50)\n",
    "print(f'id(t2)={id(t2)},id(b)={id(b)}') #t2的形状并没有发生改变"
   ]
  },
  {
   "cell_type": "code",
   "execution_count": 14,
   "metadata": {},
   "outputs": [
    {
     "name": "stdout",
     "output_type": "stream",
     "text": [
      "tensor([[100.],\n",
      "        [  4.]])\n",
      "tensor([[[100.,   4.]]])\n"
     ]
    }
   ],
   "source": [
    "b[0][0] = 100\n",
    "print(b)\n",
    "print(t2)"
   ]
  },
  {
   "cell_type": "code",
   "execution_count": 15,
   "metadata": {},
   "outputs": [
    {
     "data": {
      "text/plain": [
       "True"
      ]
     },
     "execution_count": 15,
     "metadata": {},
     "output_type": "execute_result"
    }
   ],
   "source": [
    "t2.untyped_storage().untyped().data_ptr() == b.untyped_storage().untyped().data_ptr() #判断两个tensor是否共享内存"
   ]
  },
  {
   "cell_type": "markdown",
   "metadata": {},
   "source": [
    "# 运算函数加下划线与不加的区别"
   ]
  },
  {
   "cell_type": "code",
   "execution_count": 16,
   "metadata": {},
   "outputs": [
    {
     "name": "stdout",
     "output_type": "stream",
     "text": [
      "原始张量 a: tensor([10, 20, 30])\n",
      "新张量 c = a.sub(b): tensor([ 9, 18, 27])\n",
      "a  tensor([10, 20, 30])\n",
      "--------------------------------------------------\n",
      "执行 a.sub_(b) 后的 a: tensor([ 9, 18, 27])\n",
      "原地操作后 a 已被修改\n"
     ]
    }
   ],
   "source": [
    "# 不带下划线的方法（sub）返回一个新的张量，不会修改原始张量\n",
    "a = torch.tensor([10, 20, 30])\n",
    "b = torch.tensor([1, 2, 3])\n",
    "c = a.sub(b)  # 等价于 c = a - b\n",
    "\n",
    "print(\"原始张量 a:\", a)\n",
    "print(\"新张量 c = a.sub(b):\", c)\n",
    "print(\"a \",a)\n",
    "\n",
    "print(\"-\" * 50)\n",
    "\n",
    "# 带下划线的方法（sub_）会直接修改原始张量（即原地操作）\n",
    "a = torch.tensor([10, 20, 30])\n",
    "b = torch.tensor([1, 2, 3])\n",
    "a.sub_(b)  # 等价于 a -= b\n",
    "\n",
    "print(\"执行 a.sub_(b) 后的 a:\", a)\n",
    "print(\"原地操作后 a 已被修改\")"
   ]
  }
 ],
 "metadata": {
  "kernelspec": {
   "display_name": "Python 3",
   "language": "python",
   "name": "python3"
  },
  "language_info": {
   "codemirror_mode": {
    "name": "ipython",
    "version": 3
   },
   "file_extension": ".py",
   "mimetype": "text/x-python",
   "name": "python",
   "nbconvert_exporter": "python",
   "pygments_lexer": "ipython3",
   "version": "3.12.3"
  }
 },
 "nbformat": 4,
 "nbformat_minor": 2
}
