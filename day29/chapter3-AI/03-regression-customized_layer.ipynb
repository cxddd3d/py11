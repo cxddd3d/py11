{
 "cells": [
  {
   "cell_type": "code",
   "execution_count": 2,
   "id": "initial_id",
   "metadata": {
    "ExecuteTime": {
     "end_time": "2025-06-26T13:17:16.436025Z",
     "start_time": "2025-06-26T13:17:13.381327Z"
    },
    "collapsed": true
   },
   "outputs": [],
   "source": [
    "import numpy as np\n",
    "import pandas as pd\n",
    "import matplotlib.pyplot as plt\n",
    "from sklearn.datasets import fetch_california_housing\n",
    "from sklearn.model_selection import train_test_split\n",
    "from sklearn.preprocessing import StandardScaler\n",
    "import torch\n",
    "import torch.nn as nn\n",
    "from tqdm.auto import tqdm\n",
    "from torch.utils.data import DataLoader, Dataset\n",
    "from wangdao_deeplearning_train import EarlyStopping, ModelSaver\n",
    "from wangdao_deeplearning_train import plot_learning_curves,plot_learning_loss_curves\n",
    "import os"
   ]
  },
  {
   "cell_type": "code",
   "execution_count": 3,
   "id": "88d20d2a02a34d5c",
   "metadata": {
    "ExecuteTime": {
     "end_time": "2025-06-26T13:17:16.463089Z",
     "start_time": "2025-06-26T13:17:16.437788Z"
    }
   },
   "outputs": [
    {
     "name": "stdout",
     "output_type": "stream",
     "text": [
      "训练集大小: 13209\n",
      "验证集大小: 3303\n",
      "测试集大小: 4128\n"
     ]
    }
   ],
   "source": [
    "# 设置中文字体支持\n",
    "plt.rcParams['font.sans-serif'] = ['SimHei']  # 用来正常显示中文标签\n",
    "plt.rcParams['axes.unicode_minus'] = False  # 用来正常显示负号\n",
    "\n",
    "# 加载加利福尼亚房价数据集\n",
    "housing = fetch_california_housing()\n",
    "X = housing.data\n",
    "y = housing.target\n",
    "\n",
    "# 数据拆分：训练集(60%)、验证集(20%)、测试集(20%)\n",
    "X_train_val, X_test, y_train_val, y_test = train_test_split(X, y, test_size=0.2, random_state=42)\n",
    "X_train, X_val, y_train, y_val = train_test_split(X_train_val, y_train_val, test_size=0.2, random_state=42)  # 0.25 x 0.8 = 0.2\n",
    "\n",
    "print(f\"训练集大小: {X_train.shape[0]}\")\n",
    "print(f\"验证集大小: {X_val.shape[0]}\")\n",
    "print(f\"测试集大小: {X_test.shape[0]}\")\n",
    "\n",
    "# 数据标准化\n",
    "scaler = StandardScaler()\n",
    "X_train_scaled = scaler.fit_transform(X_train)\n",
    "X_val_scaled = scaler.transform(X_val)\n",
    "X_test_scaled = scaler.transform(X_test)\n",
    "\n",
    "# 自定义数据集类\n",
    "class HousingDataset(Dataset):\n",
    "    def __init__(self, features, targets):\n",
    "        self.features = torch.FloatTensor(features)\n",
    "        self.targets = torch.FloatTensor(targets).view(-1, 1)\n",
    "        \n",
    "    def __len__(self):\n",
    "        return len(self.features) #返回样本数量\n",
    "    \n",
    "    def __getitem__(self, idx): #传入索引，返回对应索引样本的特征和目标\n",
    "        return self.features[idx], self.targets[idx]\n",
    "\n",
    "# 创建数据集实例\n",
    "train_dataset = HousingDataset(X_train_scaled, y_train)\n",
    "val_dataset = HousingDataset(X_val_scaled, y_val)\n",
    "test_dataset = HousingDataset(X_test_scaled, y_test)"
   ]
  },
  {
   "cell_type": "markdown",
   "id": "6e4bd45b13c57cbb",
   "metadata": {},
   "source": [
    "# 加载数据，构建模型"
   ]
  },
  {
   "cell_type": "code",
   "execution_count": 4,
   "id": "eacc0914d6e52049",
   "metadata": {
    "ExecuteTime": {
     "end_time": "2025-06-26T13:17:17.680365Z",
     "start_time": "2025-06-26T13:17:16.464097Z"
    }
   },
   "outputs": [
    {
     "name": "stdout",
     "output_type": "stream",
     "text": [
      "RegressionModel(\n",
      "  (layer1): CustomLinear()\n",
      "  (activation): ReLU()\n",
      "  (output): CustomLinear()\n",
      ")\n"
     ]
    }
   ],
   "source": [
    "from torch import optim\n",
    "import math\n",
    "\n",
    "# 创建数据加载器\n",
    "train_loader = DataLoader(train_dataset, batch_size=32, shuffle=True)\n",
    "val_loader = DataLoader(val_dataset, batch_size=32)\n",
    "test_loader = DataLoader(test_dataset, batch_size=32)\n",
    "\n",
    "# 自定义线性层\n",
    "class CustomLinear(nn.Module):\n",
    "    def __init__(self, in_features, out_features, bias=True):\n",
    "        super(CustomLinear, self).__init__()\n",
    "        self.in_features = in_features\n",
    "        self.out_features = out_features\n",
    "        \n",
    "        # 初始化权重和偏置参数\n",
    "        self.weight = nn.Parameter(torch.Tensor(out_features, in_features))\n",
    "        if bias:\n",
    "            self.bias = nn.Parameter(torch.Tensor(out_features))\n",
    "        else:\n",
    "            self.register_parameter('bias', None)\n",
    "        \n",
    "        # 初始化参数\n",
    "        self.reset_parameters()\n",
    "        \n",
    "    def reset_parameters(self):\n",
    "        # 使用与nn.Linear相同的初始化方法\n",
    "        nn.init.kaiming_uniform_(self.weight, a=math.sqrt(5))\n",
    "        if self.bias is not None:\n",
    "            fan_in, _ = nn.init._calculate_fan_in_and_fan_out(self.weight)\n",
    "            bound = 1 / math.sqrt(fan_in)\n",
    "            nn.init.uniform_(self.bias, -bound, bound)\n",
    "    \n",
    "    def forward(self, x):\n",
    "        # 实现线性变换：y = xW^T + b\n",
    "        output = torch.matmul(x, self.weight.t()) # 矩阵乘法 weight.t() 表示转置\n",
    "        if self.bias is not None:\n",
    "            output += self.bias\n",
    "        return output\n",
    "\n",
    "# 定义神经网络模型\n",
    "class RegressionModel(nn.Module):\n",
    "    def __init__(self, input_dim):\n",
    "        super(RegressionModel, self).__init__()\n",
    "        self.layer1 = CustomLinear(input_dim, 30)\n",
    "        self.activation = nn.ReLU()\n",
    "        self.output = CustomLinear(30, 1)\n",
    "        \n",
    "    def forward(self, x):\n",
    "        x = self.activation(self.layer1(x)) # ReLU激活函数\n",
    "        x = self.output(x) # 输出层\n",
    "        return x\n",
    "\n",
    "# 初始化模型、损失函数和优化器\n",
    "input_dim = X_train.shape[1]\n",
    "model = RegressionModel(input_dim)\n",
    "criterion = nn.MSELoss()\n",
    "optimizer = optim.Adam(model.parameters())\n",
    "\n",
    "# 打印模型结构\n",
    "print(model)\n"
   ]
  },
  {
   "cell_type": "code",
   "execution_count": 5,
   "id": "b433a0db",
   "metadata": {
    "ExecuteTime": {
     "end_time": "2025-06-26T13:17:17.686372Z",
     "start_time": "2025-06-26T13:17:17.681372Z"
    }
   },
   "outputs": [],
   "source": [
    "# 评估模型\n",
    "def evaluate_regression_model(model, dataloader,  device,criterion):\n",
    "    model.eval()\n",
    "    running_loss = 0.0\n",
    "\n",
    "    \n",
    "    with torch.no_grad():#禁止 autograd 记录计算图，节省显存与算力。\n",
    "        for inputs, targets in dataloader:\n",
    "            inputs, targets = inputs.to(device), targets.to(device)\n",
    "            outputs = model(inputs) #前向计算\n",
    "            loss = criterion(outputs, targets) #计算损失\n",
    "            \n",
    "            running_loss += loss.item() * inputs.size(0) # 计算总损失\n",
    "    return running_loss / len(dataloader.dataset) # 计算平均损失"
   ]
  },
  {
   "cell_type": "code",
   "execution_count": 6,
   "id": "29722359a5ccb8a0",
   "metadata": {
    "ExecuteTime": {
     "end_time": "2025-06-26T13:18:05.073648Z",
     "start_time": "2025-06-26T13:17:17.688709Z"
    }
   },
   "outputs": [
    {
     "data": {
      "application/vnd.jupyter.widget-view+json": {
       "model_id": "4c479b73008b49e19c86e6e96582c311",
       "version_major": 2,
       "version_minor": 0
      },
      "text/plain": [
       "train progress:   0%|          | 0/41300 [00:00<?, ?it/s]"
      ]
     },
     "metadata": {},
     "output_type": "display_data"
    },
    {
     "name": "stdout",
     "output_type": "stream",
     "text": [
      "早停触发! 最佳验证准确率(如果是回归，这里是损失): -0.3340\n",
      "早停: 已有10轮验证损失没有改善！\n"
     ]
    }
   ],
   "source": [
    "# 定义回归模型训练函数\n",
    "def train_regression_model(\n",
    "    model, \n",
    "    train_loader, \n",
    "    val_loader, \n",
    "    criterion, \n",
    "    optimizer, \n",
    "    device='cpu', \n",
    "    num_epochs=100, \n",
    "    print_every=10,\n",
    "    eval_step=500,\n",
    "    model_saver=None,\n",
    "    early_stopping=None\n",
    "):\n",
    "    \"\"\"\n",
    "    训练回归模型的函数\n",
    "    \n",
    "    参数:\n",
    "        model: 要训练的模型\n",
    "        train_loader: 训练数据加载器\n",
    "        val_loader: 验证数据加载器\n",
    "        criterion: 损失函数\n",
    "        optimizer: 优化器\n",
    "        device: 训练设备\n",
    "        num_epochs: 训练轮次\n",
    "        print_every: 每多少轮打印一次结果\n",
    "        eval_step: 每多少步评估一次\n",
    "    \n",
    "    返回:\n",
    "        record_dict: 包含训练和验证记录的字典\n",
    "    \"\"\"\n",
    "    record_dict = {\n",
    "        \"train\": [],\n",
    "        \"val\": []\n",
    "    }\n",
    "    \n",
    "    global_step = 0 # 全局步数\n",
    "    model.train()\n",
    "    epoch_val_loss=0 # 验证损失\n",
    "    \n",
    "    with tqdm(total=num_epochs * len(train_loader), desc=\"train progress\") as pbar: \n",
    "        for epoch_id in range(num_epochs):\n",
    "            # 训练\n",
    "            model.train()\n",
    "            running_loss = 0.0\n",
    "            \n",
    "            for inputs, targets in train_loader:\n",
    "                inputs, targets = inputs.to(device), targets.to(device)\n",
    "                \n",
    "                # 梯度清空\n",
    "                optimizer.zero_grad()\n",
    "                \n",
    "                # 模型前向计算\n",
    "                outputs = model(inputs)\n",
    "                \n",
    "                # 计算损失\n",
    "                loss = criterion(outputs, targets)\n",
    "                \n",
    "                # 梯度回传，计算梯度\n",
    "                loss.backward()\n",
    "                \n",
    "                # 更新模型参数\n",
    "                optimizer.step()\n",
    "                \n",
    "                # 更新步骤\n",
    "                global_step += 1\n",
    "            \n",
    "                # 在每个批次后记录训练损失\n",
    "                epoch_train_loss = loss.item()\n",
    "                record_dict[\"train\"].append({\n",
    "                    \"loss\": epoch_train_loss,\n",
    "                    \"step\": global_step\n",
    "                })\n",
    "                \n",
    "                # 验证\n",
    "                if global_step % eval_step == 0: # 每多少步评估一次\n",
    "                    epoch_val_loss = evaluate_regression_model(model, val_loader, device, criterion) # 评估模型\n",
    "            \n",
    "                    # 记录验证数据\n",
    "                    record_dict[\"val\"].append({\n",
    "                        \"loss\": epoch_val_loss, \n",
    "                        \"step\": global_step\n",
    "                    })\n",
    "                    # 保存模型权重\n",
    "                    # 如果有模型保存器，保存模型\n",
    "                    if model_saver is not None:\n",
    "                        model_saver(model, -epoch_val_loss, epoch_id) \n",
    "                    \n",
    "                    # 如果有早停器，检查是否应该早停\n",
    "                    if early_stopping is not None:\n",
    "                        early_stopping(-epoch_val_loss)\n",
    "                        if early_stopping.early_stop:\n",
    "                            print(f'早停: 已有{early_stopping.patience}轮验证损失没有改善！')\n",
    "                            return model,record_dict\n",
    "            \n",
    "                # 更新进度条\n",
    "                pbar.update(1)\n",
    "                pbar.set_postfix({\"loss\": f\"{epoch_train_loss:.4f}\", \"val_loss\": f\"{epoch_val_loss:.4f},global_step{global_step}\"}) \n",
    "    \n",
    "    return model, record_dict\n",
    "\n",
    "\n",
    "# 训练模型\n",
    "# 初始化早停和模型保存对象\n",
    "early_stopping = EarlyStopping(patience=10, verbose=True)\n",
    "model_saver = ModelSaver(save_dir='model_weights')\n",
    "device = torch.device(\"cuda:0\" if torch.cuda.is_available() else \"cpu\")\n",
    "model, record_dict = train_regression_model(\n",
    "    model=model,\n",
    "    train_loader=train_loader,\n",
    "    val_loader=val_loader,\n",
    "    criterion=criterion,\n",
    "    optimizer=optimizer,\n",
    "    num_epochs=100,\n",
    "    print_every=10,\n",
    "    eval_step=500,\n",
    "    early_stopping=early_stopping,\n",
    "    model_saver=model_saver,\n",
    "    device=device\n",
    ")"
   ]
  },
  {
   "cell_type": "code",
   "execution_count": 7,
   "id": "32b54230",
   "metadata": {
    "ExecuteTime": {
     "end_time": "2025-06-26T13:18:09.626089Z",
     "start_time": "2025-06-26T13:18:09.544345Z"
    }
   },
   "outputs": [
    {
     "data": {
      "image/png": "[encoded data removed]",
      "text/plain": [
       "<Figure size 1000x500 with 1 Axes>"
      ]
     },
     "metadata": {},
     "output_type": "display_data"
    }
   ],
   "source": [
    "#画图\n",
    "plot_learning_loss_curves(record_dict,sample_step=500)"
   ]
  },
  {
   "cell_type": "code",
   "execution_count": 8,
   "id": "c0b911cbf5a89260",
   "metadata": {
    "ExecuteTime": {
     "end_time": "2025-06-26T13:18:05.210824Z",
     "start_time": "2025-06-26T13:18:05.175421Z"
    }
   },
   "outputs": [
    {
     "name": "stdout",
     "output_type": "stream",
     "text": [
      "测试集上的损失为0.3206\n"
     ]
    }
   ],
   "source": [
    "device = torch.device(\"cuda:0\" if torch.cuda.is_available() else \"cpu\")\n",
    "test_loss=evaluate_regression_model(model,test_loader,device,criterion)\n",
    "print(f\"测试集上的损失为{test_loss:.4f}\")"
   ]
  }
 ],
 "metadata": {
  "kernelspec": {
   "display_name": "Python 3",
   "language": "python",
   "name": "python3"
  },
  "language_info": {
   "codemirror_mode": {
    "name": "ipython",
    "version": 3
   },
   "file_extension": ".py",
   "mimetype": "text/x-python",
   "name": "python",
   "nbconvert_exporter": "python",
   "pygments_lexer": "ipython3",
   "version": "3.12.3"
  }
 },
 "nbformat": 4,
 "nbformat_minor": 5
}
