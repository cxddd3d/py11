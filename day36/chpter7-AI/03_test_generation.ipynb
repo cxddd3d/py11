{
 "cells": [
  {
   "cell_type": "markdown",
   "id": "fad28ea9",
   "metadata": {},
   "source": [
    "# 数据准备"
   ]
  },
  {
   "cell_type": "code",
   "execution_count": 7,
   "id": "dc1fa851",
   "metadata": {},
   "outputs": [
    {
     "name": "stdout",
     "output_type": "stream",
     "text": [
      "文本长度: 1115394\n",
      "文本前100个字符:\n",
      "First Citizen:\n",
      "Before we proceed any further, hear me speak.\n",
      "\n",
      "All:\n",
      "Speak, speak.\n",
      "\n",
      "First Citizen:\n",
      "You\n",
      "字典大小: 65\n",
      "字典内容: ['\\n', ' ', '!', '$', '&', \"'\", ',', '-', '.', '3', ':', ';', '?', 'A', 'B', 'C', 'D', 'E', 'F', 'G', 'H', 'I', 'J', 'K', 'L', 'M', 'N', 'O', 'P', 'Q', 'R', 'S', 'T', 'U', 'V', 'W', 'X', 'Y', 'Z', 'a', 'b', 'c', 'd', 'e', 'f', 'g', 'h', 'i', 'j', 'k', 'l', 'm', 'n', 'o', 'p', 'q', 'r', 's', 't', 'u', 'v', 'w', 'x', 'y', 'z']\n",
      "\n",
      "字符到索引的映射示例:\n",
      "'F' -> 18\n",
      "'i' -> 47\n",
      "'r' -> 56\n",
      "'s' -> 57\n",
      "'t' -> 58\n",
      "' ' -> 1\n",
      "'C' -> 15\n",
      "'i' -> 47\n",
      "'t' -> 58\n",
      "'i' -> 47\n",
      "'z' -> 64\n",
      "'e' -> 43\n",
      "'n' -> 52\n",
      "':' -> 10\n",
      "'\n",
      "' -> 0\n",
      "'B' -> 14\n",
      "'e' -> 43\n",
      "'f' -> 44\n",
      "'o' -> 53\n",
      "'r' -> 56\n",
      "\n",
      "文本转换为数字序列的前20个元素:\n",
      "[18 47 56 57 58  1 15 47 58 47 64 43 52 10  0 14 43 44 53 56]\n",
      "将数字序列转回字符:\n",
      "First Citizen:\n",
      "Befor\n"
     ]
    }
   ],
   "source": [
    "\n",
    "import os\n",
    "import numpy as np\n",
    "import tensorflow as tf\n",
    "\n",
    "# 读取Shakespeare文本文件\n",
    "with open('shakespeare.txt', 'r', encoding='utf-8') as f:\n",
    "    text = f.read()\n",
    "\n",
    "# 打印文本的前100个字符\n",
    "print(f\"文本长度: {len(text)}\")\n",
    "print(f\"文本前100个字符:\\n{text[:100]}\")\n",
    "\n",
    "# 创建字符级别的字典\n",
    "vocab = sorted(set(text))\n",
    "print(f\"字典大小: {len(vocab)}\")\n",
    "print(f\"字典内容: {vocab}\")\n",
    "\n",
    "# 创建字符到索引的映射\n",
    "char_to_idx = {char: idx for idx, char in enumerate(vocab)}\n",
    "idx_to_char = {idx: char for idx, char in enumerate(vocab)}\n",
    "\n",
    "# 打印映射示例\n",
    "print(\"\\n字符到索引的映射示例:\")\n",
    "for char in text[:20]:\n",
    "    print(f\"'{char}' -> {char_to_idx[char]}\")\n",
    "\n",
    "# 将文本转换为数字序列\n",
    "text_as_int = np.array([char_to_idx[c] for c in text]) #把全部文本都变为id\n",
    "print(f\"\\n文本转换为数字序列的前20个元素:\\n{text_as_int[:20]}\")\n",
    "print(f\"将数字序列转回字符:\\n{''.join([idx_to_char[idx] for idx in text_as_int[:20]])}\")\n",
    "\n"
   ]
  },
  {
   "cell_type": "markdown",
   "id": "8758b35f",
   "metadata": {},
   "source": [
    "# 把莎士比亚文集分成一个一个的样本"
   ]
  },
  {
   "cell_type": "code",
   "execution_count": 9,
   "id": "f28fc864",
   "metadata": {},
   "outputs": [
    {
     "name": "stdout",
     "output_type": "stream",
     "text": [
      "输入批次形状: torch.Size([64, 100])\n",
      "目标批次形状: torch.Size([64, 100])\n",
      "tensor([[ 6,  1, 47,  ...,  1, 47, 57],\n",
      "        [59, 42, 50,  ...,  0,  0, 31],\n",
      "        [51, 53, 56,  ..., 39, 41, 47],\n",
      "        ...,\n",
      "        [ 1, 51, 39,  ..., 23, 10,  0],\n",
      "        [60, 47, 52,  ..., 47, 45, 46],\n",
      "        [53, 59,  1,  ..., 10,  0, 27]])\n",
      "tensor([[ 1, 47, 44,  ..., 47, 57,  1],\n",
      "        [42, 50, 53,  ...,  0, 31, 43],\n",
      "        [53, 56, 43,  ..., 41, 47, 53],\n",
      "        ...,\n",
      "        [51, 39, 52,  ..., 10,  0, 20],\n",
      "        [47, 52, 45,  ..., 45, 46, 57],\n",
      "        [59,  1, 39,  ...,  0, 27,  1]])\n",
      "\n",
      "数据集大小: 11043\n",
      "批次数量: 172\n"
     ]
    }
   ],
   "source": [
    "# 定义序列长度和批次大小\n",
    "import torch\n",
    "from torch.utils.data import Dataset, DataLoader\n",
    "\n",
    "seq_length = 100  # 每个样本的序列长度\n",
    "batch_size = 64   # 每个批次的样本数量\n",
    "\n",
    "# 创建自定义数据集类\n",
    "class ShakespeareDataset(Dataset):\n",
    "    def __init__(self, text_as_int, seq_length):\n",
    "        self.text_as_int = text_as_int\n",
    "        self.seq_length = seq_length\n",
    "        self.sub_len = seq_length + 1 #一个样本的长度\n",
    "        \n",
    "    def __len__(self):\n",
    "        # 计算可能的序列数量\n",
    "        return len(self.text_as_int)//(self.seq_length+1) #+1是因为要预测下一个字符\n",
    "        \n",
    "    def __getitem__(self, idx):\n",
    "        # 将numpy数组转换为长整型(Long)\n",
    "        return torch.tensor(self.text_as_int[idx*self.sub_len:(idx+1)*self.sub_len], dtype=torch.long)\n",
    "\n",
    "# 定义collate函数，用于处理批次数据\n",
    "def collate_fct(batch):\n",
    "    # 将批次数据堆叠成张量，确保类型为long\n",
    "    batch = torch.stack(batch)\n",
    "    # 输入序列是除了最后一个字符的所有字符\n",
    "    input_batch = batch[:, :-1]\n",
    "    # 目标序列是除了第一个字符的所有字符\n",
    "    target_batch = batch[:, 1:]\n",
    "    return input_batch, target_batch\n",
    "\n",
    "# 创建数据集实例\n",
    "shakespeare_dataset = ShakespeareDataset(text_as_int, seq_length)\n",
    "\n",
    "# 创建数据加载器\n",
    "dataloader = DataLoader(shakespeare_dataset, batch_size=batch_size, shuffle=True, drop_last=True, collate_fn=collate_fct)\n",
    "\n",
    "# 打印示例，查看输入和目标\n",
    "for input_batch, target_batch in dataloader:\n",
    "    print(f\"输入批次形状: {input_batch.shape}\")\n",
    "    print(f\"目标批次形状: {target_batch.shape}\")\n",
    "    \n",
    "    # 打印第一个样本的输入和目标\n",
    "    print(input_batch)\n",
    "    print(target_batch)\n",
    "    break\n",
    "\n",
    "print(f\"\\n数据集大小: {len(shakespeare_dataset)}\")\n",
    "print(f\"批次数量: {len(dataloader)}\")\n",
    "\n"
   ]
  },
  {
   "cell_type": "markdown",
   "id": "bf5825e7",
   "metadata": {},
   "source": [
    "# 搭建模型"
   ]
  },
  {
   "cell_type": "code",
   "execution_count": 10,
   "id": "bfcd1013",
   "metadata": {},
   "outputs": [
    {
     "name": "stdout",
     "output_type": "stream",
     "text": [
      "ShakespeareRNN(\n",
      "  (embedding): Embedding(65, 256)\n",
      "  (rnn): RNN(256, 1024, batch_first=True)\n",
      "  (dense): Linear(in_features=1024, out_features=65, bias=True)\n",
      ")\n"
     ]
    }
   ],
   "source": [
    "import torch.nn as nn\n",
    "import torch.nn.functional as F\n",
    "\n",
    "# 定义莎士比亚文本生成的RNN模型\n",
    "class ShakespeareRNN(nn.Module):\n",
    "    def __init__(self, vocab_size, embedding_dim, hidden_dim, batch_size):\n",
    "        \"\"\"\n",
    "        初始化RNN模型\n",
    "        \n",
    "        参数:\n",
    "        vocab_size: 词汇表大小，即字符数量\n",
    "        embedding_dim: 嵌入层维度，将字符转换为向量表示\n",
    "        hidden_dim: RNN隐藏层维度\n",
    "        batch_size: 批次大小\n",
    "        \"\"\"\n",
    "        super(ShakespeareRNN, self).__init__()\n",
    "        \n",
    "        # 嵌入层：将字符ID转换为密集向量表示\n",
    "        self.embedding = nn.Embedding(vocab_size, embedding_dim)\n",
    "        \n",
    "        # RNN层：处理序列信息\n",
    "        self.rnn = nn.RNN(\n",
    "            embedding_dim,      # 输入特征维度\n",
    "            hidden_dim,         # 隐藏状态维度\n",
    "            num_layers=1,       # RNN层数\n",
    "            bidirectional=False, # 单向RNN\n",
    "            batch_first=True    # 批次维度在前\n",
    "        )\n",
    "        \n",
    "        # 全连接层：将RNN输出映射到词汇表大小\n",
    "        self.dense = nn.Linear(hidden_dim, vocab_size)\n",
    "        \n",
    "    def forward(self, x, hidden=None):\n",
    "        \"\"\"\n",
    "        前向传播\n",
    "        \n",
    "        参数:\n",
    "        x: 输入序列，形状为 [batch_size, sequence_length]\n",
    "        hidden: 初始隐藏状态，默认为None\n",
    "        \n",
    "        返回:\n",
    "        output: 模型输出，形状为 [batch_size, sequence_length, vocab_size]\n",
    "        hidden: 最终隐藏状态\n",
    "        \"\"\"\n",
    "        # 输入形状: [batch_size, sequence_length]\n",
    "        x = self.embedding(x)  # 嵌入层：形状变为 [batch_size, sequence_length, embedding_dim]\n",
    "        output, hidden = self.rnn(x, hidden)  # RNN层：形状为 [batch_size, sequence_length, hidden_dim]\n",
    "        output = self.dense(output)  # 全连接层：形状为 [batch_size, sequence_length, vocab_size]\n",
    "        return output, hidden\n",
    "    \n",
    "\n",
    "# 定义模型超参数\n",
    "vocab_size = len(char_to_idx)  # 词汇表大小：字符到索引的映射数量\n",
    "embedding_dim = 256  # 嵌入维度：字符向量表示的维度\n",
    "rnn_units = 1024  # RNN隐藏单元数量：控制模型的表达能力\n",
    "\n",
    "# 实例化模型\n",
    "model = ShakespeareRNN(vocab_size, embedding_dim, rnn_units, batch_size)\n",
    "print(model)\n"
   ]
  },
  {
   "cell_type": "code",
   "execution_count": 11,
   "id": "1c36ad8e",
   "metadata": {},
   "outputs": [
    {
     "name": "stdout",
     "output_type": "stream",
     "text": [
      "输入形状: torch.Size([2, 10])\n",
      "输入数据:\n",
      "tensor([[52, 56, 25,  8, 41, 23, 43, 44, 37, 15],\n",
      "        [36, 49, 49, 17, 14, 58, 20, 59, 51, 64]])\n",
      "\n",
      "输出形状: torch.Size([2, 10, 65])\n",
      "隐藏状态形状: torch.Size([1, 2, 1024])\n",
      "输出数据形状: torch.Size([2, 10, 65])\n",
      "词汇表大小: 65\n",
      "\n",
      "验证结果:\n",
      "输出形状正确: True\n",
      "隐藏状态形状正确: True\n",
      "\n",
      "✅ 模型前向传播测试通过！\n"
     ]
    }
   ],
   "source": [
    "# 创建测试数据\n",
    "batch_size = 2\n",
    "sequence_length = 10\n",
    "\n",
    "# 生成随机输入序列（字符ID）\n",
    "test_input = torch.randint(0, vocab_size, (batch_size, sequence_length))\n",
    "print(f\"输入形状: {test_input.shape}\")\n",
    "print(f\"输入数据:\\n{test_input}\")\n",
    "\n",
    "# 进行前向传播\n",
    "with torch.no_grad():  # 不计算梯度，节省内存\n",
    "    output, hidden = model(test_input)\n",
    "\n",
    "# 打印输出信息\n",
    "print(f\"\\n输出形状: {output.shape}\")\n",
    "print(f\"隐藏状态形状: {hidden.shape}\")\n",
    "print(f\"输出数据形状: {output.shape}\")\n",
    "print(f\"词汇表大小: {vocab_size}\")\n",
    "\n",
    "# 验证输出维度是否正确\n",
    "expected_output_shape = (batch_size, sequence_length, vocab_size)\n",
    "expected_hidden_shape = (1, batch_size, rnn_units)  # (num_layers, batch_size, hidden_dim)\n",
    "\n",
    "print(f\"\\n验证结果:\")\n",
    "print(f\"输出形状正确: {output.shape == expected_output_shape}\")\n",
    "print(f\"隐藏状态形状正确: {hidden.shape == expected_hidden_shape}\")\n",
    "\n",
    "\n",
    "print(\"\\n✅ 模型前向传播测试通过！\")\n"
   ]
  },
  {
   "cell_type": "markdown",
   "id": "10d21bbb",
   "metadata": {},
   "source": [
    "# 训练"
   ]
  },
  {
   "cell_type": "code",
   "execution_count": null,
   "id": "24048daa",
   "metadata": {},
   "outputs": [],
   "source": [
    "from tqdm.auto import tqdm\n",
    "\n",
    "# 定义损失函数和优化器\n",
    "# CrossEntropyLoss用于多分类问题,会自动应用softmax\n",
    "criterion = nn.CrossEntropyLoss()\n",
    "# Adam优化器,学习率设为0.001\n",
    "optimizer = torch.optim.Adam(model.parameters(), lr=0.001)\n",
    "\n",
    "# 训练函数\n",
    "def train_step(model, dataloader, optimizer, criterion, epochs=5):\n",
    "    \"\"\"\n",
    "    模型训练的主要函数\n",
    "    Args:\n",
    "        model: 要训练的模型\n",
    "        dataloader: 数据加载器\n",
    "        optimizer: 优化器\n",
    "        criterion: 损失函数\n",
    "        epochs: 训练轮数\n",
    "    Returns:\n",
    "        losses: 每个epoch的平均损失列表\n",
    "    \"\"\"\n",
    "    losses = []\n",
    "    \n",
    "    for epoch in range(epochs):\n",
    "        # 将模型设置为训练模式,启用dropout等\n",
    "        model.train()\n",
    "        epoch_loss = 0\n",
    "        \n",
    "        # 使用tqdm创建进度条,显示训练进度\n",
    "        with tqdm(dataloader, desc=f\"轮次 {epoch+1}/{epochs}\") as pbar:\n",
    "            for input_batch, target_batch in pbar:\n",
    "                # 将数据移到指定设备(GPU/CPU)\n",
    "                input_batch = input_batch.to(device)\n",
    "                target_batch = target_batch.to(device)\n",
    "                # 清空之前的梯度\n",
    "                optimizer.zero_grad()\n",
    "                \n",
    "                # 前向传播,获取模型输出\n",
    "                # 这里忽略了第二个返回值(可能是注意力权重)\n",
    "                output, _ = model(input_batch)\n",
    "                \n",
    "                # 计算损失\n",
    "                # 重塑输出和目标以适应CrossEntropyLoss\n",
    "                # 将输出重塑为(batch_size * seq_length, vocab_size)\n",
    "                output = output.reshape(-1, vocab_size)\n",
    "                # 将目标重塑为一维张量\n",
    "                target_batch = target_batch.reshape(-1)\n",
    "                \n",
    "                # 计算当前批次的损失\n",
    "                loss = criterion(output, target_batch)\n",
    "                \n",
    "                # 反向传播,计算梯度\n",
    "                loss.backward()\n",
    "                # 更新模型参数\n",
    "                optimizer.step()\n",
    "                \n",
    "                # 获取当前损失值\n",
    "                current_loss = loss.item()\n",
    "                epoch_loss += current_loss\n",
    "                \n",
    "                # 更新进度条显示的损失值\n",
    "                pbar.set_postfix({\"损失\": f\"{current_loss:.4f}\"})\n",
    "        \n",
    "        # 计算并记录每个epoch的平均损失\n",
    "        avg_epoch_loss = epoch_loss / len(dataloader)\n",
    "        losses.append(avg_epoch_loss)\n",
    "        print(f\"轮次 {epoch+1}/{epochs} 完成, 平均损失: {avg_epoch_loss:.4f}\")\n",
    "    \n",
    "    return losses"
   ]
  },
  {
   "cell_type": "code",
   "execution_count": 13,
   "id": "c5e029bd",
   "metadata": {},
   "outputs": [
    {
     "data": {
      "application/vnd.jupyter.widget-view+json": {
       "model_id": "e54efb8fac1d481f9dcd0036a310ec46",
       "version_major": 2,
       "version_minor": 0
      },
      "text/plain": [
       "轮次 1/5:   0%|          | 0/172 [00:00<?, ?it/s]"
      ]
     },
     "metadata": {},
     "output_type": "display_data"
    },
    {
     "name": "stdout",
     "output_type": "stream",
     "text": [
      "轮次 1/5 完成, 平均损失: 2.0356\n"
     ]
    },
    {
     "data": {
      "application/vnd.jupyter.widget-view+json": {
       "model_id": "101eed1148a74496a068873b5f938ea6",
       "version_major": 2,
       "version_minor": 0
      },
      "text/plain": [
       "轮次 2/5:   0%|          | 0/172 [00:00<?, ?it/s]"
      ]
     },
     "metadata": {},
     "output_type": "display_data"
    },
    {
     "name": "stdout",
     "output_type": "stream",
     "text": [
      "轮次 2/5 完成, 平均损失: 1.6319\n"
     ]
    },
    {
     "data": {
      "application/vnd.jupyter.widget-view+json": {
       "model_id": "0d1e0883fb414b95867240fc1d280afd",
       "version_major": 2,
       "version_minor": 0
      },
      "text/plain": [
       "轮次 3/5:   0%|          | 0/172 [00:00<?, ?it/s]"
      ]
     },
     "metadata": {},
     "output_type": "display_data"
    },
    {
     "name": "stdout",
     "output_type": "stream",
     "text": [
      "轮次 3/5 完成, 平均损失: 1.5110\n"
     ]
    },
    {
     "data": {
      "application/vnd.jupyter.widget-view+json": {
       "model_id": "8f29777f78664a6ea8e23e026c8b3847",
       "version_major": 2,
       "version_minor": 0
      },
      "text/plain": [
       "轮次 4/5:   0%|          | 0/172 [00:00<?, ?it/s]"
      ]
     },
     "metadata": {},
     "output_type": "display_data"
    },
    {
     "name": "stdout",
     "output_type": "stream",
     "text": [
      "轮次 4/5 完成, 平均损失: 1.4479\n"
     ]
    },
    {
     "data": {
      "application/vnd.jupyter.widget-view+json": {
       "model_id": "481d25caad1a431690566908e6fa38c5",
       "version_major": 2,
       "version_minor": 0
      },
      "text/plain": [
       "轮次 5/5:   0%|          | 0/172 [00:00<?, ?it/s]"
      ]
     },
     "metadata": {},
     "output_type": "display_data"
    },
    {
     "name": "stdout",
     "output_type": "stream",
     "text": [
      "轮次 5/5 完成, 平均损失: 1.4054\n"
     ]
    }
   ],
   "source": [
    "# 将模型移动到设备上\n",
    "device = torch.device('cuda' if torch.cuda.is_available() else 'cpu')\n",
    "model = model.to(device)\n",
    "\n",
    "# 开始训练循环\n",
    "losses = train_step(model, dataloader, optimizer, criterion, epochs=5)"
   ]
  },
  {
   "cell_type": "code",
   "execution_count": 14,
   "id": "b0bb5728",
   "metadata": {},
   "outputs": [
    {
     "data": {
      "image/png": "[encoded data removed]",
      "text/plain": [
       "<Figure size 1000x600 with 1 Axes>"
      ]
     },
     "metadata": {},
     "output_type": "display_data"
    }
   ],
   "source": [
    "import matplotlib.pyplot as plt\n",
    "# 绘制损失曲线\n",
    "plt.figure(figsize=(10, 6))\n",
    "plt.plot(losses)\n",
    "plt.title('Training Loss')\n",
    "plt.xlabel('Epochs')\n",
    "plt.ylabel('Loss')\n",
    "plt.grid(True)\n",
    "plt.show()"
   ]
  },
  {
   "cell_type": "code",
   "execution_count": 15,
   "id": "0f96c156",
   "metadata": {},
   "outputs": [
    {
     "name": "stdout",
     "output_type": "stream",
     "text": [
      "概率分布: tensor([0.1000, 0.2000, 0.3000, 0.4000])\n",
      "采样一个元素: 3 对应概率: 0.4000000059604645\n"
     ]
    }
   ],
   "source": [
    "# 理解torch.multinomial函数的小例子\n",
    "import torch\n",
    "import torch.nn.functional as F\n",
    "\n",
    "# 创建一个概率分布\n",
    "probs = torch.tensor([0.1, 0.2, 0.3, 0.4])\n",
    "print(\"概率分布:\", probs)\n",
    "\n",
    "# 从概率分布中采样一个元素\n",
    "sample = torch.multinomial(probs, num_samples=1)\n",
    "print(\"采样一个元素:\", sample.item(), \"对应概率:\", probs[sample.item()].item())"
   ]
  },
  {
   "cell_type": "code",
   "execution_count": 16,
   "id": "5134de16",
   "metadata": {},
   "outputs": [
    {
     "name": "stdout",
     "output_type": "stream",
     "text": [
      "原始logits值: tensor([1.0000, 2.0000, 5.0000, 3.0000, 0.5000])\n",
      "\n",
      "temperature=0.5时的概率分布:\n",
      "tensor([3.2848e-04, 2.4272e-03, 9.7919e-01, 1.7934e-02, 1.2084e-04])\n",
      "\n",
      "temperature=1.0时的概率分布:\n",
      "tensor([0.0151, 0.0410, 0.8234, 0.1114, 0.0091])\n",
      "\n",
      "temperature=2.0时的概率分布:\n",
      "tensor([0.0739, 0.1218, 0.5459, 0.2008, 0.0575])\n"
     ]
    },
    {
     "data": {
      "image/png": "[encoded data removed]",
      "text/plain": [
       "<Figure size 1200x600 with 3 Axes>"
      ]
     },
     "metadata": {},
     "output_type": "display_data"
    }
   ],
   "source": [
    "# 展示temperature参数对softmax输出的影响\n",
    "import torch\n",
    "import torch.nn.functional as F\n",
    "import matplotlib.pyplot as plt\n",
    "\n",
    "# 创建一个模拟的logits输出\n",
    "logits = torch.tensor([1.0, 2.0, 5.0, 3.0, 0.5])\n",
    "print(\"原始logits值:\", logits)\n",
    "\n",
    "# 使用不同的temperature值\n",
    "temperatures = [0.5, 1.0, 2.0]\n",
    "\n",
    "plt.figure(figsize=(12, 6))\n",
    "\n",
    "for i, temp in enumerate(temperatures):\n",
    "    # 应用temperature\n",
    "    scaled_logits = logits / temp\n",
    "    \n",
    "    # 应用softmax获取概率分布\n",
    "    probabilities = F.softmax(scaled_logits, dim=0)\n",
    "    \n",
    "    # 打印结果\n",
    "    print(f\"\\ntemperature={temp}时的概率分布:\")\n",
    "    print(probabilities)\n",
    "    \n",
    "    # 可视化\n",
    "    plt.subplot(1, len(temperatures), i+1)\n",
    "    plt.bar(range(len(probabilities)), probabilities.numpy())\n",
    "    plt.title(f\"Temperature = {temp}\")\n",
    "    plt.ylim(0, 1)\n",
    "    plt.xticks(range(len(probabilities)), [f\"token_{i}\" for i in range(len(probabilities))])"
   ]
  },
  {
   "cell_type": "code",
   "execution_count": 17,
   "id": "3a61e129",
   "metadata": {},
   "outputs": [
    {
     "name": "stdout",
     "output_type": "stream",
     "text": [
      "torch.Size([1, 5])\n"
     ]
    },
    {
     "data": {
      "text/plain": [
       "\"hellow to his name\\nHe of Norform Morcome.\\n\\nBUCKINGHAM:\\nDight have bream he corrunt she knowledge's nothing war, come is that the\\n\\nurt of my hangernably:\\nWhat are unno came ahour would have I hope. You are the nexmpret alone.\\n\\nHERMIONE:\\nGently Peter'd!\\n\\nGLOUCESTER:\\nI am straight\\nTo the interpared!\\n\\nProvost:\\nGive come inot trucks my king's Cleason\\nOf henchmen no, procure is Paulifil gall'd up, command!'\\n\\nKING RICHARD III:\\nWhere is notus his feals the date will be made leave a drum or fright in more\\ngiven frows hate to gota my loved are but my satilab, shall receed us, clarp'st thou, or a brother's sons, relequer, be the earth,\\nFor wied infid with my badned submocking man as his friend's fellow:\\nCanst well a fearlish caim at Sunis truth.\\n\\nANTIGO:\\nUnttemn holl the river breast to thme to with consent\\nTo see a proper and serve of me world! Bolingbroke rock.\\n\\nPETER:\\nThe morn some nor brease from the needing 'twill be this nork the lappor' thoughts\\nwill dost confess in this wain of this devilt thy\""
      ]
     },
     "execution_count": 17,
     "metadata": {},
     "output_type": "execute_result"
    }
   ],
   "source": [
    "# 生成文本函数\n",
    "def generate_text(model, start_string, char2idx, idx2char, num_generate=1000, temperature=1.0):\n",
    "    \"\"\"\n",
    "    根据给定的起始文本，使用训练好的模型生成新的文本序列\n",
    "    \n",
    "    参数:\n",
    "    - model: 训练好的RNN模型\n",
    "    - start_string: 生成文本的起始字符串\n",
    "    - char2idx: 字符到索引的映射字典\n",
    "    - idx2char: 索引到字符的映射字典\n",
    "    - num_generate: 要生成的字符数量，默认1000\n",
    "    - temperature: 采样温度，控制生成文本的随机性，默认1.0\n",
    "    \"\"\"\n",
    "    # 将模型设置为评估模式\n",
    "    model.eval()\n",
    "    \n",
    "    # 将起始字符串转换为索引\n",
    "    input_indices = [char2idx[char] for char in start_string]\n",
    "    input_tensor = torch.tensor(input_indices, dtype=torch.long).unsqueeze(0).to(device) #unsqueeze(0) 在第0维上增加一个维度\n",
    "    print(input_tensor.shape)  # 打印输入张量的形状，用于调试\n",
    "    # 存储生成的文本\n",
    "    generated_text = start_string\n",
    "    \n",
    "    # 隐藏状态初始化为None，模型会自动初始化\n",
    "    hidden = None\n",
    "    \n",
    "    # 生成指定数量的字符\n",
    "    with torch.no_grad():  # 在生成过程中不需要计算梯度\n",
    "        for _ in range(num_generate):\n",
    "            # 获取模型预测\n",
    "            output, hidden = model(input_tensor,hidden)  # output形状: [batch_size, seq_length, vocab_size]\n",
    "            \n",
    "            # 应用温度参数调整预测分布\n",
    "            # temperature越小，生成文本越确定性；越大，生成文本越随机\n",
    "            logits = output[:, -1, :] / temperature\n",
    "            \n",
    "            # 从调整后的分布中采样下一个字符\n",
    "            probabilities = F.softmax(logits, dim=-1)  # 将logits转换为概率分布\n",
    "            predicted_id = torch.multinomial(probabilities, 1) #从概率分布中采样一个元素，概率越大，被选中的可能性越大\n",
    "            \n",
    "            # 将预测的字符添加到生成文本中\n",
    "            generated_char = idx2char[predicted_id.item()]  # 将预测的索引转换回字符\n",
    "            generated_text += generated_char #放入到生成序列\n",
    "            \n",
    "            # 更新输入张量为当前预测的字符\n",
    "            input_tensor = predicted_id  # 使用预测的字符作为下一次的输入\n",
    "    \n",
    "    return generated_text\n",
    "\n",
    "# 使用训练好的模型生成文本，以'hello'为起始文本\n",
    "generate_text(model, 'hello',char_to_idx,idx_to_char)"
   ]
  }
 ],
 "metadata": {
  "kernelspec": {
   "display_name": "Python 3",
   "language": "python",
   "name": "python3"
  },
  "language_info": {
   "codemirror_mode": {
    "name": "ipython",
    "version": 3
   },
   "file_extension": ".py",
   "mimetype": "text/x-python",
   "name": "python",
   "nbconvert_exporter": "python",
   "pygments_lexer": "ipython3",
   "version": "3.12.3"
  }
 },
 "nbformat": 4,
 "nbformat_minor": 5
}
