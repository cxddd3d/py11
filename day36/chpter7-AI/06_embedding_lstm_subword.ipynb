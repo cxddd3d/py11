{
 "cells": [
  {
   "cell_type": "markdown",
   "id": "6a5899a2",
   "metadata": {},
   "source": [
    "# 把movie文件夹下的imdb_processed.csv读取，分为训练集和测试集，训练集和测试集的特征，都单独写入一个文件，通过subword-nmt命令进行bpe分词"
   ]
  },
  {
   "cell_type": "code",
   "execution_count": 1,
   "id": "f2d80123",
   "metadata": {},
   "outputs": [
    {
     "name": "stdout",
     "output_type": "stream",
     "text": [
      "训练集已保存至 'movie/bpe/train_full.csv'，共 40000 条数据\n",
      "测试集已保存至 'movie/bpe/test_full.csv'，共 10000 条数据\n"
     ]
    }
   ],
   "source": [
    "import pandas as pd\n",
    "import numpy as np\n",
    "import os\n",
    "from sklearn.model_selection import train_test_split\n",
    "\n",
    "# 读取数据\n",
    "df = pd.read_csv('movie/imdb_processed.csv')\n",
    "\n",
    "# 分割训练集和测试集\n",
    "train_df, test_df = train_test_split(df, test_size=0.2, random_state=42)\n",
    "\n",
    "# 创建目录（如果不存在）\n",
    "os.makedirs('movie/bpe', exist_ok=True)\n",
    "\n",
    "# 将训练集和测试集的文本写入文件\n",
    "train_df['processed'].to_csv('movie/bpe/train.txt', index=False, header=False)\n",
    "test_df['processed'].to_csv('movie/bpe/test.txt', index=False, header=False)\n",
    "# 将训练集和测试集完整数据写入文件\n",
    "train_df.to_csv('movie/bpe/train_full.csv', index=False)\n",
    "test_df.to_csv('movie/bpe/test_full.csv', index=False)\n",
    "\n",
    "print(f\"训练集已保存至 'movie/bpe/train_full.csv'，共 {len(train_df)} 条数据\")\n",
    "print(f\"测试集已保存至 'movie/bpe/test_full.csv'，共 {len(test_df)} 条数据\")\n"
   ]
  },
  {
   "cell_type": "code",
   "execution_count": 2,
   "id": "cced9810",
   "metadata": {},
   "outputs": [
    {
     "name": "stdout",
     "output_type": "stream",
     "text": [
      "/d/python11/day36/chpter7-AI\n"
     ]
    }
   ],
   "source": [
    "!pwd"
   ]
  },
  {
   "cell_type": "code",
   "execution_count": 3,
   "id": "2678c093",
   "metadata": {},
   "outputs": [
    {
     "name": "stderr",
     "output_type": "stream",
     "text": [
      "\n",
      "  0%|          | 0/8000 [00:00<?, ?it/s]\n",
      "  0%|          | 2/8000 [00:00<07:25, 17.94it/s]\n",
      "  0%|          | 6/8000 [00:00<05:02, 26.43it/s]\n",
      "  0%|          | 10/8000 [00:00<04:33, 29.17it/s]\n",
      "  0%|          | 14/8000 [00:00<04:10, 31.85it/s]\n",
      "  0%|          | 20/8000 [00:00<03:18, 40.20it/s]\n",
      "  0%|          | 29/8000 [00:00<02:25, 54.94it/s]\n",
      "  0%|          | 38/8000 [00:00<02:05, 63.46it/s]\n",
      "  1%|          | 55/8000 [00:00<01:25, 92.77it/s]\n",
      "  1%|          | 65/8000 [00:01<01:24, 93.54it/s]\n",
      "  1%|          | 77/8000 [00:01<01:18, 100.43it/s]\n",
      "  1%|1         | 96/8000 [00:01<01:02, 125.80it/s]\n",
      "  2%|1         | 122/8000 [00:01<00:47, 164.47it/s]\n",
      "  2%|1         | 158/8000 [00:01<00:35, 221.04it/s]\n",
      "  2%|2         | 188/8000 [00:01<00:31, 244.18it/s]\n",
      "  3%|2         | 221/8000 [00:01<00:28, 268.95it/s]\n",
      "  3%|3         | 262/8000 [00:01<00:25, 309.16it/s]\n",
      "  4%|3         | 295/8000 [00:01<00:24, 313.80it/s]\n",
      "  4%|4         | 329/8000 [00:01<00:23, 320.66it/s]\n",
      "  5%|4         | 382/8000 [00:02<00:20, 380.80it/s]\n",
      "  5%|5         | 434/8000 [00:02<00:18, 419.22it/s]\n",
      "  6%|6         | 484/8000 [00:02<00:17, 440.92it/s]\n",
      "  7%|6         | 529/8000 [00:02<00:17, 437.28it/s]\n",
      "  7%|7         | 573/8000 [00:02<00:17, 425.82it/s]\n",
      "  8%|7         | 616/8000 [00:02<00:17, 411.39it/s]\n",
      "  9%|8         | 685/8000 [00:02<00:14, 488.57it/s]\n",
      "  9%|9         | 754/8000 [00:02<00:13, 546.40it/s]\n",
      " 10%|#         | 810/8000 [00:02<00:14, 505.49it/s]\n",
      " 11%|#         | 866/8000 [00:02<00:13, 519.69it/s]\n",
      " 12%|#1        | 939/8000 [00:03<00:12, 579.09it/s]\n",
      " 13%|#2        | 1019/8000 [00:03<00:10, 642.14it/s]\n",
      " 14%|#3        | 1085/8000 [00:03<00:10, 639.30it/s]\n",
      " 15%|#4        | 1177/8000 [00:03<00:09, 719.70it/s]\n",
      " 16%|#5        | 1254/8000 [00:03<00:09, 732.88it/s]\n",
      " 17%|#6        | 1336/8000 [00:03<00:08, 752.38it/s]\n",
      " 18%|#7        | 1419/8000 [00:03<00:08, 774.90it/s]\n",
      " 19%|#9        | 1524/8000 [00:03<00:07, 855.02it/s]\n",
      " 20%|##        | 1610/8000 [00:03<00:08, 793.21it/s]\n",
      " 21%|##1       | 1719/8000 [00:04<00:07, 876.65it/s]\n",
      " 23%|##2       | 1838/8000 [00:04<00:06, 965.83it/s]\n",
      " 24%|##4       | 1943/8000 [00:04<00:06, 989.41it/s]\n",
      " 26%|##5       | 2058/8000 [00:04<00:05, 1035.95it/s]\n",
      " 27%|##7       | 2173/8000 [00:04<00:05, 1068.59it/s]\n",
      " 29%|##8       | 2291/8000 [00:04<00:05, 1098.79it/s]\n",
      " 30%|###       | 2422/8000 [00:04<00:04, 1158.84it/s]\n",
      " 32%|###1      | 2539/8000 [00:04<00:04, 1140.40it/s]\n",
      " 33%|###3      | 2654/8000 [00:04<00:04, 1128.58it/s]\n",
      " 35%|###5      | 2801/8000 [00:04<00:04, 1096.01it/s]\n",
      " 37%|###7      | 2967/8000 [00:05<00:04, 1249.37it/s]\n",
      " 39%|###9      | 3126/8000 [00:05<00:03, 1343.57it/s]\n",
      " 41%|####1     | 3301/8000 [00:05<00:03, 1456.00it/s]\n",
      " 44%|####3     | 3483/8000 [00:05<00:02, 1560.12it/s]\n",
      " 46%|####6     | 3684/8000 [00:05<00:02, 1688.74it/s]\n",
      " 49%|####9     | 3933/8000 [00:05<00:02, 1924.40it/s]\n",
      " 52%|#####2    | 4195/8000 [00:05<00:01, 2127.14it/s]\n",
      " 56%|#####5    | 4454/8000 [00:05<00:01, 2259.89it/s]\n",
      " 60%|#####9    | 4794/8000 [00:05<00:01, 2591.46it/s]\n",
      " 65%|######4   | 5194/8000 [00:06<00:01, 1663.65it/s]\n",
      " 68%|######7   | 5409/8000 [00:06<00:02, 1273.96it/s]\n",
      " 70%|######9   | 5581/8000 [00:06<00:02, 1104.85it/s]\n",
      " 72%|#######1  | 5724/8000 [00:06<00:02, 1017.40it/s]\n",
      " 73%|#######3  | 5847/8000 [00:07<00:02, 951.49it/s] \n",
      " 74%|#######4  | 5956/8000 [00:07<00:02, 911.02it/s]\n",
      " 76%|#######5  | 6056/8000 [00:07<00:02, 895.07it/s]\n",
      " 77%|#######6  | 6151/8000 [00:07<00:02, 867.45it/s]\n",
      " 78%|#######8  | 6241/8000 [00:07<00:02, 863.53it/s]\n",
      " 79%|#######9  | 6330/8000 [00:07<00:01, 862.20it/s]\n",
      " 80%|########  | 6440/8000 [00:07<00:01, 918.75it/s]\n",
      " 82%|########1 | 6548/8000 [00:07<00:01, 960.43it/s]\n",
      " 83%|########3 | 6653/8000 [00:08<00:01, 983.93it/s]\n",
      " 84%|########4 | 6756/8000 [00:08<00:01, 995.72it/s]\n",
      " 86%|########5 | 6857/8000 [00:08<00:01, 994.08it/s]\n",
      " 87%|########6 | 6958/8000 [00:08<00:01, 994.12it/s]\n",
      " 88%|########8 | 7071/8000 [00:08<00:00, 1031.04it/s]\n",
      " 90%|########9 | 7183/8000 [00:08<00:00, 1056.96it/s]\n",
      " 91%|#########1| 7299/8000 [00:08<00:00, 1086.31it/s]\n",
      " 93%|#########2| 7408/8000 [00:08<00:00, 1087.07it/s]\n",
      " 94%|#########3| 7517/8000 [00:08<00:00, 1056.50it/s]\n",
      " 95%|#########5| 7632/8000 [00:08<00:00, 1083.09it/s]\n",
      " 97%|#########6| 7749/8000 [00:09<00:00, 1107.66it/s]\n",
      " 99%|#########8| 7884/8000 [00:09<00:00, 1176.45it/s]\n",
      "100%|##########| 8000/8000 [00:09<00:00, 866.06it/s] \n"
     ]
    }
   ],
   "source": [
    "\n",
    "\n",
    "# 使用subword-nmt进行BPE分词\n",
    "# 1. 学习BPE编码（在训练集上）\n",
    "# 学习bpe分词(很慢,学一次就好)\n",
    "# -i 选择学习的文件\n",
    "# -o 核心输出文件,分词需要用到imdb_bpe_code,生成的 imdb_bpe_code 文件包含了学习到的 BPE 操作规则。这些规则用于将单词分割成子词单元\n",
    "# --write-vocabulary 字典输出文件，imdb_bpe_vocab 文件包含了根据 BPE 规则生成的词汇表，列出了所有子词单元及其频率\n",
    "# -s 词表大小\n",
    "!subword-nmt learn-joint-bpe-and-vocab -i ./movie/bpe/train.txt -o ./movie/bpe/imdb_bpe_code --write-vocabulary ./movie/bpe/imdb_bpe_vocab -s 8000"
   ]
  },
  {
   "cell_type": "code",
   "execution_count": 4,
   "id": "eb130500",
   "metadata": {},
   "outputs": [],
   "source": [
    "# 2. 应用BPE编码到训练集和测试集\n",
    "!subword-nmt apply-bpe -c movie/bpe/imdb_bpe_code -i movie/bpe/train.txt -o movie/bpe/train.bpe.txt\n",
    "!subword-nmt apply-bpe -c movie/bpe/imdb_bpe_code -i movie/bpe/test.txt -o movie/bpe/test.bpe.txt\n"
   ]
  },
  {
   "cell_type": "code",
   "execution_count": 5,
   "id": "672808d4",
   "metadata": {},
   "outputs": [],
   "source": [
    "# # 3. 获取词汇表\n",
    "# !subword-nmt get-vocab < movie/bpe/imdb_bpe_vocab > movie/bpe/vocab.txt\n",
    "\n",
    "# print(\"BPE处理完成！\")\n",
    "# print(f\"训练集大小: {len(train_df)}\")\n",
    "# print(f\"测试集大小: {len(test_df)}\")\n"
   ]
  },
  {
   "cell_type": "code",
   "execution_count": 6,
   "id": "afee52b3",
   "metadata": {},
   "outputs": [
    {
     "name": "stdout",
     "output_type": "stream",
     "text": [
      "词典大小: 8105\n",
      "前10个词条: [('[PAD]', 0), ('[BOS]', 1), ('[UNK]', 2), ('[EOS]', 3), ('.', 4), (',', 5), ('I', 6), ('-', 7), ('movie', 8), ('film', 9)]\n"
     ]
    }
   ],
   "source": [
    "# 读取BPE词汇表并构建词典\n",
    "vocab = {}\n",
    "special_tokens = {\n",
    "    \"[PAD]\": 0,  # 填充 token\n",
    "    \"[BOS]\": 1,  # begin of sentence\n",
    "    \"[UNK]\": 2,  # 未知 token\n",
    "    \"[EOS]\": 3,  # end of sentence\n",
    "}\n",
    "\n",
    "# 首先添加特殊标记\n",
    "vocab.update(special_tokens)\n",
    "\n",
    "# 读取BPE词汇表\n",
    "j=len(special_tokens)\n",
    "with open('movie/bpe/imdb_bpe_vocab', 'r', encoding='utf-8') as f:\n",
    "    for i, line in enumerate(f):\n",
    "        token, count = line.strip().split(' ')\n",
    "        if token not in vocab:  # 避免与特殊标记冲突\n",
    "            vocab[token] = j\n",
    "            j+=1\n",
    "\n",
    "print(f\"词典大小: {len(vocab)}\")\n",
    "print(f\"前10个词条: {list(vocab.items())[:10]}\")\n"
   ]
  },
  {
   "cell_type": "code",
   "execution_count": 7,
   "id": "9d3ab3fb",
   "metadata": {},
   "outputs": [
    {
     "name": "stdout",
     "output_type": "stream",
     "text": [
      "8101 movie/bpe/imdb_bpe_vocab\n"
     ]
    }
   ],
   "source": [
    "!wc -l movie/bpe/imdb_bpe_vocab"
   ]
  },
  {
   "cell_type": "markdown",
   "id": "3a747c92",
   "metadata": {},
   "source": [
    "# Dataset"
   ]
  },
  {
   "cell_type": "markdown",
   "id": "88a7ead6",
   "metadata": {},
   "source": [
    "# Tokenizer"
   ]
  },
  {
   "cell_type": "code",
   "execution_count": null,
   "id": "6291049d",
   "metadata": {},
   "outputs": [],
   "source": [
    "import torch\n",
    "\n",
    "\n",
    "class Tokenizer:\n",
    "    def __init__(self, vocab):\n",
    "        \"\"\"\n",
    "        初始化分词器\n",
    "        \n",
    "        参数:\n",
    "            vocab: 词汇表字典，将token映射到ID\n",
    "        \"\"\"\n",
    "        # 初始化词汇表相关属性\n",
    "        self.vocab = vocab #子词到id的映射\n",
    "        self.id_to_token = {v: k for k, v in vocab.items()} #id到子词的映射\n",
    "        \n",
    "        # 初始化特殊token的id\n",
    "        self.pad_id = vocab[\"[PAD]\"] #填充token的id\n",
    "        self.bos_id = vocab[\"[BOS]\"] #句子开始token的id\n",
    "        self.eos_id = vocab[\"[EOS]\"] #句子结束token的id\n",
    "        self.unk_id = vocab[\"[UNK]\"] #未知词token的id\n",
    "    \n",
    "    def encode(self, text_list, max_length=None, padding_first=False):\n",
    "        \"\"\"\n",
    "        将文本编码为ID序列\n",
    "        \n",
    "        参数:\n",
    "            text_list: 输入文本列表，可以是单个句子或多个句子\n",
    "            max_length: 最大序列长度，如果指定则会进行截断或填充\n",
    "            padding_first: 如果为True，则在序列前面填充，否则在后面填充\n",
    "            \n",
    "        返回:\n",
    "            token_ids: ID序列张量\n",
    "        \"\"\"\n",
    "        # 计算当前批次中最长序列的长度(加2是因为要加入BOS和EOS)    \n",
    "        batch_max_length = 2 + max([len(text) for text in text_list]) # 计算当前批次最大序列长度\n",
    "        \n",
    "        # 如果batch中的最大长度小于指定的max_length,则使用batch的最大长度\n",
    "        if batch_max_length <max_length:\n",
    "            max_length = batch_max_length\n",
    "            \n",
    "        indices_list = []\n",
    "        for text in text_list:\n",
    "            # 将文本转换为ID序列:BOS + tokens + EOS\n",
    "            indices = [self.bos_id] + [self.vocab.get(token, self.unk_id) for token in text[:max_length-2]] + [self.eos_id]\n",
    "            \n",
    "            # 处理序列填充\n",
    "            if padding_first:  # padding加在前面\n",
    "                indices = [self.pad_id] * (max_length - len(indices)) + indices\n",
    "            else:  # padding加在后面\n",
    "                indices = indices + [self.pad_id] * (max_length - len(indices))\n",
    "                \n",
    "            indices_list.append(indices)\n",
    "        \n",
    "        # 将列表转换为tensor返回\n",
    "        return torch.tensor(indices_list)\n",
    "    \n",
    "    def decode(self, token_ids):\n",
    "        \"\"\"\n",
    "        将ID序列解码为文本\n",
    "        \n",
    "        参数:\n",
    "            token_ids: ID序列\n",
    "            \n",
    "        返回:\n",
    "            text: 解码后的文本\n",
    "        \"\"\"\n",
    "        # 如果输入是tensor类型,转换为列表\n",
    "        if isinstance(token_ids, torch.Tensor):\n",
    "            token_ids = token_ids.tolist()\n",
    "        \n",
    "        # 如果是批量数据,递归处理每个序列    \n",
    "        if isinstance(token_ids[0], list):\n",
    "            return [self.decode(ids) for ids in token_ids]\n",
    "            \n",
    "        # 将ID转换回token,跳过特殊token\n",
    "        tokens = []\n",
    "        for id in token_ids:\n",
    "            if id in [self.pad_id, self.bos_id, self.eos_id]:\n",
    "                continue\n",
    "            \n",
    "            token = self.id_to_token.get(id, \"[UNK]\")\n",
    "            tokens.append(token)\n",
    "        \n",
    "        # 合并子词,处理子词后缀@@\n",
    "        text = \"\"\n",
    "        for token in tokens:\n",
    "            if token.endswith(\"@@\"):\n",
    "                text += token[:-2]  # 移除@@后缀\n",
    "            else:\n",
    "                text += token + \" \"\n",
    "        \n",
    "        return text.strip()\n"
   ]
  },
  {
   "cell_type": "markdown",
   "id": "6f4c3d2c",
   "metadata": {},
   "source": [
    "# Dataset"
   ]
  },
  {
   "cell_type": "code",
   "execution_count": 9,
   "id": "e865a3e3",
   "metadata": {},
   "outputs": [
    {
     "name": "stdout",
     "output_type": "stream",
     "text": [
      "/d/python11/day36/chpter7-AI\n"
     ]
    }
   ],
   "source": [
    "!pwd"
   ]
  },
  {
   "cell_type": "code",
   "execution_count": null,
   "id": "3f79b7bd",
   "metadata": {},
   "outputs": [],
   "source": [
    "import torch\n",
    "from torch.utils.data import Dataset\n",
    "import pandas as pd\n",
    "\n",
    "class IMDBDataset(Dataset):\n",
    "    \"\"\"\n",
    "    IMDB数据集类，用于加载和处理IMDB电影评论数据\n",
    "    \"\"\"\n",
    "    def __init__(self, bpe_file, vocab, max_length=512, mode='train'):\n",
    "        \"\"\"\n",
    "        初始化数据集\n",
    "        \n",
    "        参数:\n",
    "            bpe_file: 包含BPE处理后的文本文件路径\n",
    "            csv_file: 包含电影评论标签的CSV文件路径\n",
    "            vocab: 词汇表字典\n",
    "            max_length: 序列最大长度\n",
    "        \"\"\"\n",
    "        # 读取标签数据\n",
    "        # 只读取前4万行数据\n",
    "        # 根据文件类型决定读取的数据行\n",
    "        if mode == 'train':\n",
    "            # 训练集读取前4万行\n",
    "            self.labels = pd.read_csv('movie/bpe/train_full.csv')['label'].values  # 从CSV文件中读取训练集标签\n",
    "        else:\n",
    "            # 测试集读取最后1万行\n",
    "            df = pd.read_csv('movie/bpe/test_full.csv')  # 读取测试集CSV文件\n",
    "            self.labels = df.loc[:,'label'].values  # 提取标签列\n",
    "        \n",
    "        # 读取BPE处理后的文本\n",
    "        self.texts = []\n",
    "        with open(bpe_file, 'r', encoding='utf-8') as f:  # 使用UTF-8编码打开文件\n",
    "            self.texts = [line.strip() for line in f]  # 去除每行首尾的空白字符\n",
    "            \n",
    "        # 确保文本和标签数量一致\n",
    "        assert len(self.texts) == len(self.labels), \"文本和标签数量不匹配\"\n",
    "        \n",
    "        # 初始化分词器和最大长度参数\n",
    "        self.tokenizer = Tokenizer(vocab)  # 使用给定词表初始化分词器\n",
    "        self.max_length = max_length  # 设置序列最大长度\n",
    "        \n",
    "    def __len__(self):\n",
    "        \"\"\"返回数据集大小\"\"\"\n",
    "        return len(self.texts)  # 返回文本数量\n",
    "    \n",
    "    def __getitem__(self, idx):\n",
    "        \"\"\"\n",
    "        获取指定索引的样本\n",
    "        \n",
    "        参数:\n",
    "            idx: 样本索引\n",
    "            \n",
    "        返回:\n",
    "            tokens: 分词后的评论文本\n",
    "            label: 情感标签 (0表示负面, 1表示正面)\n",
    "        \"\"\"\n",
    "        # 获取评论文本和标签\n",
    "        text = self.texts[idx]  # 获取指定索引的文本\n",
    "        label = self.labels[idx]  # 获取对应的标签\n",
    "    \n",
    "        return text.split(), label  # 返回分词后的文本和标签\n",
    "\n",
    "# 创建训练集和测试集的数据加载器实例\n",
    "train_ds = IMDBDataset(bpe_file='movie/bpe/train.bpe.txt',  vocab=vocab, mode='train')  # 训练集\n",
    "test_ds = IMDBDataset(bpe_file='movie/bpe/test.bpe.txt', vocab=vocab, mode='test')  # 测试集\n",
    "\n",
    "# print(train_ds[0])  # 打印第一个训练样本\n",
    "# print(test_ds[0])  # 打印第一个测试样本\n"
   ]
  },
  {
   "cell_type": "code",
   "execution_count": 11,
   "id": "8e3b8666",
   "metadata": {},
   "outputs": [
    {
     "name": "stderr",
     "output_type": "stream",
     "text": [
      "C:\\Users\\HDS\\AppData\\Local\\Temp\\ipykernel_9100\\1149141991.py:19: UserWarning: Glyph 24179 (\\N{CJK UNIFIED IDEOGRAPH-5E73}) missing from font(s) DejaVu Sans.\n",
      "  plt.tight_layout()\n",
      "C:\\Users\\HDS\\AppData\\Local\\Temp\\ipykernel_9100\\1149141991.py:19: UserWarning: Glyph 22343 (\\N{CJK UNIFIED IDEOGRAPH-5747}) missing from font(s) DejaVu Sans.\n",
      "  plt.tight_layout()\n",
      "C:\\Users\\HDS\\AppData\\Local\\Temp\\ipykernel_9100\\1149141991.py:19: UserWarning: Glyph 38271 (\\N{CJK UNIFIED IDEOGRAPH-957F}) missing from font(s) DejaVu Sans.\n",
      "  plt.tight_layout()\n",
      "C:\\Users\\HDS\\AppData\\Local\\Temp\\ipykernel_9100\\1149141991.py:19: UserWarning: Glyph 24230 (\\N{CJK UNIFIED IDEOGRAPH-5EA6}) missing from font(s) DejaVu Sans.\n",
      "  plt.tight_layout()\n",
      "C:\\Users\\HDS\\AppData\\Local\\Temp\\ipykernel_9100\\1149141991.py:19: UserWarning: Glyph 20013 (\\N{CJK UNIFIED IDEOGRAPH-4E2D}) missing from font(s) DejaVu Sans.\n",
      "  plt.tight_layout()\n",
      "C:\\Users\\HDS\\AppData\\Local\\Temp\\ipykernel_9100\\1149141991.py:19: UserWarning: Glyph 20301 (\\N{CJK UNIFIED IDEOGRAPH-4F4D}) missing from font(s) DejaVu Sans.\n",
      "  plt.tight_layout()\n",
      "C:\\Users\\HDS\\AppData\\Local\\Temp\\ipykernel_9100\\1149141991.py:19: UserWarning: Glyph 25968 (\\N{CJK UNIFIED IDEOGRAPH-6570}) missing from font(s) DejaVu Sans.\n",
      "  plt.tight_layout()\n",
      "C:\\Users\\HDS\\AppData\\Local\\Temp\\ipykernel_9100\\1149141991.py:19: UserWarning: Glyph 20998 (\\N{CJK UNIFIED IDEOGRAPH-5206}) missing from font(s) DejaVu Sans.\n",
      "  plt.tight_layout()\n",
      "c:\\Program Files\\Python312\\Lib\\site-packages\\IPython\\core\\pylabtools.py:170: UserWarning: Glyph 24179 (\\N{CJK UNIFIED IDEOGRAPH-5E73}) missing from font(s) DejaVu Sans.\n",
      "  fig.canvas.print_figure(bytes_io, **kw)\n",
      "c:\\Program Files\\Python312\\Lib\\site-packages\\IPython\\core\\pylabtools.py:170: UserWarning: Glyph 22343 (\\N{CJK UNIFIED IDEOGRAPH-5747}) missing from font(s) DejaVu Sans.\n",
      "  fig.canvas.print_figure(bytes_io, **kw)\n",
      "c:\\Program Files\\Python312\\Lib\\site-packages\\IPython\\core\\pylabtools.py:170: UserWarning: Glyph 38271 (\\N{CJK UNIFIED IDEOGRAPH-957F}) missing from font(s) DejaVu Sans.\n",
      "  fig.canvas.print_figure(bytes_io, **kw)\n",
      "c:\\Program Files\\Python312\\Lib\\site-packages\\IPython\\core\\pylabtools.py:170: UserWarning: Glyph 24230 (\\N{CJK UNIFIED IDEOGRAPH-5EA6}) missing from font(s) DejaVu Sans.\n",
      "  fig.canvas.print_figure(bytes_io, **kw)\n",
      "c:\\Program Files\\Python312\\Lib\\site-packages\\IPython\\core\\pylabtools.py:170: UserWarning: Glyph 20013 (\\N{CJK UNIFIED IDEOGRAPH-4E2D}) missing from font(s) DejaVu Sans.\n",
      "  fig.canvas.print_figure(bytes_io, **kw)\n",
      "c:\\Program Files\\Python312\\Lib\\site-packages\\IPython\\core\\pylabtools.py:170: UserWarning: Glyph 20301 (\\N{CJK UNIFIED IDEOGRAPH-4F4D}) missing from font(s) DejaVu Sans.\n",
      "  fig.canvas.print_figure(bytes_io, **kw)\n",
      "c:\\Program Files\\Python312\\Lib\\site-packages\\IPython\\core\\pylabtools.py:170: UserWarning: Glyph 25968 (\\N{CJK UNIFIED IDEOGRAPH-6570}) missing from font(s) DejaVu Sans.\n",
      "  fig.canvas.print_figure(bytes_io, **kw)\n",
      "c:\\Program Files\\Python312\\Lib\\site-packages\\IPython\\core\\pylabtools.py:170: UserWarning: Glyph 20998 (\\N{CJK UNIFIED IDEOGRAPH-5206}) missing from font(s) DejaVu Sans.\n",
      "  fig.canvas.print_figure(bytes_io, **kw)\n"
     ]
    },
    {
     "data": {
      "image/png": "[encoded data removed]",
      "text/plain": [
       "<Figure size 1000x600 with 1 Axes>"
      ]
     },
     "metadata": {},
     "output_type": "display_data"
    },
    {
     "name": "stdout",
     "output_type": "stream",
     "text": [
      "最短样本长度: 6\n",
      "最长样本长度: 2749\n",
      "平均样本长度: 199.31\n",
      "样本长度中位数: 147.0\n",
      "样本长度标准差: 155.51\n"
     ]
    }
   ],
   "source": [
    "import matplotlib.pyplot as plt\n",
    "# 统计训练集中样本的长度分布\n",
    "sample_lengths = [len(train_ds[i][0]) for i in range(len(train_ds))]\n",
    "\n",
    "# 绘制直方图\n",
    "plt.figure(figsize=(10, 6))\n",
    "plt.hist(sample_lengths, bins=50, alpha=0.7, color='blue')\n",
    "plt.xlabel('Sample Length')\n",
    "plt.ylabel('Sample Count')\n",
    "plt.title('Training Set Sample Length Distribution')\n",
    "plt.grid(True, linestyle='--', alpha=0.7)\n",
    "\n",
    "# 添加一些统计信息\n",
    "plt.axvline(x=np.mean(sample_lengths), color='r', linestyle='--', label=f'平均长度: {np.mean(sample_lengths):.2f}')\n",
    "plt.axvline(x=np.median(sample_lengths), color='g', linestyle='-.', label=f'中位数长度: {np.median(sample_lengths):.2f}')\n",
    "plt.axvline(x=np.percentile(sample_lengths, 95), color='orange', linestyle=':', label=f'95%分位数: {np.percentile(sample_lengths, 95):.2f}')\n",
    "\n",
    "plt.legend()\n",
    "plt.tight_layout()\n",
    "plt.show()\n",
    "\n",
    "# 打印一些统计信息\n",
    "print(f\"最短样本长度: {min(sample_lengths)}\")\n",
    "print(f\"最长样本长度: {max(sample_lengths)}\")\n",
    "print(f\"平均样本长度: {np.mean(sample_lengths):.2f}\")\n",
    "print(f\"样本长度中位数: {np.median(sample_lengths)}\")\n",
    "print(f\"样本长度标准差: {np.std(sample_lengths):.2f}\")\n"
   ]
  },
  {
   "cell_type": "markdown",
   "id": "2e718618",
   "metadata": {},
   "source": [
    "# DataLoader"
   ]
  },
  {
   "cell_type": "code",
   "execution_count": 12,
   "id": "9e17a21c",
   "metadata": {},
   "outputs": [
    {
     "name": "stdout",
     "output_type": "stream",
     "text": [
      "训练集DataLoader批次数量: 1250\n",
      "验证集DataLoader批次数量: 313\n",
      "批次中的token_ids形状: torch.Size([32, 500])\n",
      "批次中的标签形状: torch.Size([32, 1])\n"
     ]
    },
    {
     "data": {
      "text/plain": [
       "tensor([[   0,    0,    0,  ...,  101,  424,    3],\n",
       "        [   0,    0,    0,  ..., 2334,   14,    3],\n",
       "        [   0,    0,    0,  ...,  676,  263,    3],\n",
       "        ...,\n",
       "        [   0,    0,    0,  ...,  227,   14,    3],\n",
       "        [   0,    0,    0,  ...,  471,   14,    3],\n",
       "        [   0,    0,    0,  ..., 3183,    4,    3]], dtype=torch.int32)"
      ]
     },
     "execution_count": 12,
     "metadata": {},
     "output_type": "execute_result"
    }
   ],
   "source": [
    "import torch\n",
    "from torch.utils.data import Dataset, DataLoader\n",
    "from torch.nn.utils.rnn import pad_sequence\n",
    "\n",
    "tokenizer = Tokenizer(vocab)\n",
    "\n",
    "def collate_fct(batch):\n",
    "    \"\"\"\n",
    "    把字符串列表转化为tensor\n",
    "    :param batch:\n",
    "    :return:\n",
    "    \"\"\"\n",
    "    text_list = [item[0] for item in batch] #batch中每个item的第一个元素是text,是输入，类型为list\n",
    "    label_list = [item[1] for item in batch] #batch中每个item的第二个元素是label,是输出，类型为int\n",
    "    # 这里使用 padding first\n",
    "    text_list = tokenizer.encode(text_list, max_length=500, padding_first=True).to(dtype=torch.int)\n",
    "    return text_list, torch.tensor(label_list).reshape(-1, 1).to(dtype=torch.float)\n",
    "\n",
    "def create_dataloaders(train_ds,test_ds,batch_size=4):\n",
    "    \"\"\"\n",
    "    创建训练集和验证集的DataLoader\n",
    "    \n",
    "    参数:\n",
    "        train_texts: 训练集文本\n",
    "        train_labels: 训练集标签\n",
    "        val_texts: 验证集文本\n",
    "        val_labels: 验证集标签\n",
    "        tokenizer: 分词器\n",
    "        batch_size: 批次大小\n",
    "        \n",
    "    返回:\n",
    "        train_dataloader: 训练集DataLoader\n",
    "        val_dataloader: 验证集DataLoader\n",
    "    \"\"\"\n",
    "    \n",
    "    # 创建DataLoader\n",
    "    train_dataloader = DataLoader(\n",
    "        train_ds, \n",
    "        batch_size=batch_size, \n",
    "        shuffle=True, \n",
    "        collate_fn=collate_fct\n",
    "    )\n",
    "    \n",
    "    val_dataloader = DataLoader(\n",
    "        test_ds, \n",
    "        batch_size=batch_size, \n",
    "        shuffle=False, \n",
    "        collate_fn=collate_fct\n",
    "    )\n",
    "    \n",
    "    return train_dataloader, val_dataloader\n",
    "\n",
    "# 调用create_dataloaders函数初始化训练集和测试集的DataLoader\n",
    "batch_size = 32 # 设置批次大小\n",
    "train_dataloader, val_dataloader = create_dataloaders(\n",
    "    train_ds=train_ds,\n",
    "    test_ds=test_ds,\n",
    "    batch_size=batch_size\n",
    ")\n",
    "\n",
    "print(f\"训练集DataLoader批次数量: {len(train_dataloader)}\")\n",
    "print(f\"验证集DataLoader批次数量: {len(val_dataloader)}\")\n",
    "\n",
    "# 查看一个批次的数据样例\n",
    "sample_batch = next(iter(train_dataloader))\n",
    "token_ids, labels = sample_batch\n",
    "print(f\"批次中的token_ids形状: {token_ids.shape}\")\n",
    "print(f\"批次中的标签形状: {labels.shape}\")\n",
    "\n",
    "token_ids"
   ]
  },
  {
   "cell_type": "markdown",
   "id": "81586740",
   "metadata": {},
   "source": [
    "# 搭建模型"
   ]
  },
  {
   "cell_type": "code",
   "execution_count": 13,
   "id": "7e28fc1b",
   "metadata": {},
   "outputs": [
    {
     "name": "stdout",
     "output_type": "stream",
     "text": [
      "模型结构:\n",
      "SentimentClassifier(\n",
      "  (embedding): Embedding(8105, 16)\n",
      "  (lstm): LSTM(16, 128, batch_first=True)\n",
      "  (fc1): Linear(in_features=128, out_features=128, bias=True)\n",
      "  (fc): Linear(in_features=128, out_features=1, bias=True)\n",
      "  (dropout): Dropout(p=0.3, inplace=False)\n",
      ")\n",
      "单层单向lstm模型参数数量: 221,073\n"
     ]
    }
   ],
   "source": [
    "import torch\n",
    "import torch.nn as nn\n",
    "import torch.nn.functional as F\n",
    "\n",
    "class SentimentClassifier(nn.Module):\n",
    "    def __init__(self, vocab_size, embedding_dim=16, hidden_dim=128, output_dim=1, \n",
    "                 lstm_layers=1, bidirectional=False, dropout_rate=0.3):\n",
    "        super().__init__()\n",
    "        \n",
    "        # 嵌入层\n",
    "        self.embedding = nn.Embedding(vocab_size, embedding_dim)\n",
    "        \n",
    "        # 设置lstm层\n",
    "        self.lstm = nn.LSTM(embedding_dim, hidden_dim, \n",
    "                         num_layers=lstm_layers, # 层数\n",
    "                         bidirectional=bidirectional, # 是否双向\n",
    "                         batch_first=True,\n",
    "                         dropout=dropout_rate if lstm_layers > 1 else 0)\n",
    "        \n",
    "        # 确定输出维度\n",
    "        fc_input_dim = hidden_dim * 2 if bidirectional else hidden_dim\n",
    "        \n",
    "        # 增加一个fc层，输入是fc_input_dim，输出是hidden_dim\n",
    "        self.fc1 = nn.Linear(fc_input_dim, hidden_dim)\n",
    "        \n",
    "        # 全连接层\n",
    "        self.fc = nn.Linear(hidden_dim, output_dim)\n",
    "        \n",
    "        # Dropout层，防止过拟合\n",
    "        self.dropout = nn.Dropout(dropout_rate)\n",
    "        \n",
    "    def forward(self, x):\n",
    "        # x形状: [batch_size, seq_len]\n",
    "        \n",
    "        # 通过嵌入层\n",
    "        embedded = self.embedding(x)  # [batch_size, seq_len, embedding_dim]\n",
    "        \n",
    "        # 通过lstm层\n",
    "        outputs, hidden = self.lstm(embedded)\n",
    "        \n",
    "        # print(f'outputs.shape: {outputs.shape}')\n",
    "        # print(f'hidden.shape: {hidden.shape}')\n",
    "        \n",
    "        # 取最后一个时间步的输出 (这也是为什么要设置padding_first=True的原因)\n",
    "        x = outputs[:, -1, :]\n",
    "        # print(f'hidden: {hidden}') #第一个张量是h, 第二个张量是c\n",
    "        # print(f'len(hidden): {len(hidden)}')\n",
    "        # #输出h，c的形状\n",
    "        # print(f'h是 hidden[0].shape: {hidden[0].shape}')\n",
    "        # print(f'c是 hidden[1].shape: {hidden[1].shape}')\n",
    "        # # # 打印一下形状，观察数据\n",
    "        # print(f'x.shape: {x.shape}')\n",
    "\n",
    "        # hidden_reshaped = hidden[0].squeeze(0) \n",
    "     \n",
    "        # # # 判断两个张量是否相等\n",
    "        # is_equal = torch.allclose(x, hidden_reshaped)\n",
    "        # print(f'是否相等: {is_equal}')\n",
    "        \n",
    "        # 应用dropout\n",
    "        x = self.dropout(x)\n",
    "        x = self.fc1(x)\n",
    "        x = self.fc(x)\n",
    "        \n",
    "        return x\n",
    "\n",
    "# 初始化模型\n",
    "model = SentimentClassifier(vocab_size=len(vocab), lstm_layers=1, bidirectional=False)\n",
    "print(f\"模型结构:\\n{model}\")\n",
    "\n",
    "# 打印模型参数数量\n",
    "def count_parameters(model):\n",
    "    return sum(p.numel() for p in model.parameters() if p.requires_grad)\n",
    "\n",
    "print(f\"单层单向lstm模型参数数量: {count_parameters(model):,}\")\n"
   ]
  },
  {
   "cell_type": "code",
   "execution_count": 14,
   "id": "f6f803c5",
   "metadata": {},
   "outputs": [
    {
     "name": "stdout",
     "output_type": "stream",
     "text": [
      "使用设备: cpu\n",
      "输入形状: torch.Size([32, 437])\n",
      "输出形状: torch.Size([32, 1])\n"
     ]
    }
   ],
   "source": [
    "# 设置设备\n",
    "device = torch.device('cuda' if torch.cuda.is_available() else 'cpu')\n",
    "print(f\"使用设备: {device}\")\n",
    "# 验证模型的前向计算\n",
    "# 从训练数据中获取一个批次的样本\n",
    "sample_batch, sample_labels = next(iter(train_dataloader))\n",
    "print(f\"输入形状: {sample_batch.shape}\")\n",
    "\n",
    "# 将样本移动到设备上\n",
    "sample_batch = sample_batch.to(device)\n",
    "\n",
    "# 进行前向计算\n",
    "with torch.no_grad():\n",
    "    outputs = model(sample_batch)\n",
    "    print(f\"输出形状: {outputs.shape}\")\n",
    "    \n"
   ]
  },
  {
   "cell_type": "markdown",
   "id": "cbc05baa",
   "metadata": {},
   "source": [
    "# 训练，画图，评估"
   ]
  },
  {
   "cell_type": "code",
   "execution_count": 15,
   "id": "175bd35f",
   "metadata": {},
   "outputs": [
    {
     "name": "stdout",
     "output_type": "stream",
     "text": [
      "模型结构:\n",
      "SentimentClassifier(\n",
      "  (embedding): Embedding(8105, 16)\n",
      "  (lstm): LSTM(16, 128, batch_first=True, bidirectional=True)\n",
      "  (fc1): Linear(in_features=256, out_features=128, bias=True)\n",
      "  (fc): Linear(in_features=128, out_features=1, bias=True)\n",
      "  (dropout): Dropout(p=0.3, inplace=False)\n",
      ")\n",
      "训练开始，共25000步\n"
     ]
    },
    {
     "data": {
      "application/vnd.jupyter.widget-view+json": {
       "model_id": "02f17a63907a44b7bd210c9a926068a9",
       "version_major": 2,
       "version_minor": 0
      },
      "text/plain": [
       "  0%|          | 0/25000 [00:00<?, ?it/s]"
      ]
     },
     "metadata": {},
     "output_type": "display_data"
    },
    {
     "ename": "KeyboardInterrupt",
     "evalue": "",
     "output_type": "error",
     "traceback": [
      "\u001b[31m---------------------------------------------------------------------------\u001b[39m",
      "\u001b[31mKeyboardInterrupt\u001b[39m                         Traceback (most recent call last)",
      "\u001b[36mCell\u001b[39m\u001b[36m \u001b[39m\u001b[32mIn[15]\u001b[39m\u001b[32m, line 22\u001b[39m\n\u001b[32m     19\u001b[39m early_stopping = EarlyStopping(patience=\u001b[32m5\u001b[39m, delta=\u001b[32m0.001\u001b[39m)\n\u001b[32m     20\u001b[39m model_saver = ModelSaver(save_dir=\u001b[33m'\u001b[39m\u001b[33mweights\u001b[39m\u001b[33m'\u001b[39m)\n\u001b[32m---> \u001b[39m\u001b[32m22\u001b[39m model, record_dict = \u001b[43mtrain_two_classification_model\u001b[49m\u001b[43m(\u001b[49m\n\u001b[32m     23\u001b[39m \u001b[43m    \u001b[49m\u001b[43mmodel\u001b[49m\u001b[43m=\u001b[49m\u001b[43mmodel\u001b[49m\u001b[43m,\u001b[49m\n\u001b[32m     24\u001b[39m \u001b[43m    \u001b[49m\u001b[43mtrain_loader\u001b[49m\u001b[43m=\u001b[49m\u001b[43mtrain_dataloader\u001b[49m\u001b[43m,\u001b[49m\n\u001b[32m     25\u001b[39m \u001b[43m    \u001b[49m\u001b[43mval_loader\u001b[49m\u001b[43m=\u001b[49m\u001b[43mval_dataloader\u001b[49m\u001b[43m,\u001b[49m\n\u001b[32m     26\u001b[39m \u001b[43m    \u001b[49m\u001b[43mcriterion\u001b[49m\u001b[43m=\u001b[49m\u001b[43mcriterion\u001b[49m\u001b[43m,\u001b[49m\n\u001b[32m     27\u001b[39m \u001b[43m    \u001b[49m\u001b[43moptimizer\u001b[49m\u001b[43m=\u001b[49m\u001b[43moptimizer\u001b[49m\u001b[43m,\u001b[49m\n\u001b[32m     28\u001b[39m \u001b[43m    \u001b[49m\u001b[43mdevice\u001b[49m\u001b[43m=\u001b[49m\u001b[43mdevice\u001b[49m\u001b[43m,\u001b[49m\n\u001b[32m     29\u001b[39m \u001b[43m    \u001b[49m\u001b[43mnum_epochs\u001b[49m\u001b[43m=\u001b[49m\u001b[43mnum_epochs\u001b[49m\u001b[43m,\u001b[49m\n\u001b[32m     30\u001b[39m \u001b[43m    \u001b[49m\u001b[43meval_step\u001b[49m\u001b[43m=\u001b[49m\u001b[43meval_step\u001b[49m\u001b[43m,\u001b[49m\n\u001b[32m     31\u001b[39m \u001b[43m    \u001b[49m\u001b[43mearly_stopping\u001b[49m\u001b[43m=\u001b[49m\u001b[43mearly_stopping\u001b[49m\u001b[43m,\u001b[49m\n\u001b[32m     32\u001b[39m \u001b[43m    \u001b[49m\u001b[43mmodel_saver\u001b[49m\u001b[43m=\u001b[49m\u001b[43mmodel_saver\u001b[49m\n\u001b[32m     33\u001b[39m \u001b[43m)\u001b[49m\n",
      "\u001b[36mFile \u001b[39m\u001b[32md:\\python11\\day36\\chpter7-AI\\wangdao_deeplearning_train.py:636\u001b[39m, in \u001b[36mtrain_two_classification_model\u001b[39m\u001b[34m(model, train_loader, val_loader, criterion, optimizer, device, num_epochs, tensorboard_logger, model_saver, early_stopping, eval_step)\u001b[39m\n\u001b[32m    633\u001b[39m optimizer.zero_grad()\n\u001b[32m    635\u001b[39m \u001b[38;5;66;03m# 模型前向计算\u001b[39;00m\n\u001b[32m--> \u001b[39m\u001b[32m636\u001b[39m logits = \u001b[43mmodel\u001b[49m\u001b[43m(\u001b[49m\u001b[43mdatas\u001b[49m\u001b[43m)\u001b[49m\n\u001b[32m    638\u001b[39m \u001b[38;5;66;03m# 计算损失\u001b[39;00m\n\u001b[32m    639\u001b[39m loss = criterion(logits, labels)\n",
      "\u001b[36mFile \u001b[39m\u001b[32m~\\AppData\\Roaming\\Python\\Python312\\site-packages\\torch\\nn\\modules\\module.py:1751\u001b[39m, in \u001b[36mModule._wrapped_call_impl\u001b[39m\u001b[34m(self, *args, **kwargs)\u001b[39m\n\u001b[32m   1749\u001b[39m     \u001b[38;5;28;01mreturn\u001b[39;00m \u001b[38;5;28mself\u001b[39m._compiled_call_impl(*args, **kwargs)  \u001b[38;5;66;03m# type: ignore[misc]\u001b[39;00m\n\u001b[32m   1750\u001b[39m \u001b[38;5;28;01melse\u001b[39;00m:\n\u001b[32m-> \u001b[39m\u001b[32m1751\u001b[39m     \u001b[38;5;28;01mreturn\u001b[39;00m \u001b[38;5;28;43mself\u001b[39;49m\u001b[43m.\u001b[49m\u001b[43m_call_impl\u001b[49m\u001b[43m(\u001b[49m\u001b[43m*\u001b[49m\u001b[43margs\u001b[49m\u001b[43m,\u001b[49m\u001b[43m \u001b[49m\u001b[43m*\u001b[49m\u001b[43m*\u001b[49m\u001b[43mkwargs\u001b[49m\u001b[43m)\u001b[49m\n",
      "\u001b[36mFile \u001b[39m\u001b[32m~\\AppData\\Roaming\\Python\\Python312\\site-packages\\torch\\nn\\modules\\module.py:1762\u001b[39m, in \u001b[36mModule._call_impl\u001b[39m\u001b[34m(self, *args, **kwargs)\u001b[39m\n\u001b[32m   1757\u001b[39m \u001b[38;5;66;03m# If we don't have any hooks, we want to skip the rest of the logic in\u001b[39;00m\n\u001b[32m   1758\u001b[39m \u001b[38;5;66;03m# this function, and just call forward.\u001b[39;00m\n\u001b[32m   1759\u001b[39m \u001b[38;5;28;01mif\u001b[39;00m \u001b[38;5;129;01mnot\u001b[39;00m (\u001b[38;5;28mself\u001b[39m._backward_hooks \u001b[38;5;129;01mor\u001b[39;00m \u001b[38;5;28mself\u001b[39m._backward_pre_hooks \u001b[38;5;129;01mor\u001b[39;00m \u001b[38;5;28mself\u001b[39m._forward_hooks \u001b[38;5;129;01mor\u001b[39;00m \u001b[38;5;28mself\u001b[39m._forward_pre_hooks\n\u001b[32m   1760\u001b[39m         \u001b[38;5;129;01mor\u001b[39;00m _global_backward_pre_hooks \u001b[38;5;129;01mor\u001b[39;00m _global_backward_hooks\n\u001b[32m   1761\u001b[39m         \u001b[38;5;129;01mor\u001b[39;00m _global_forward_hooks \u001b[38;5;129;01mor\u001b[39;00m _global_forward_pre_hooks):\n\u001b[32m-> \u001b[39m\u001b[32m1762\u001b[39m     \u001b[38;5;28;01mreturn\u001b[39;00m \u001b[43mforward_call\u001b[49m\u001b[43m(\u001b[49m\u001b[43m*\u001b[49m\u001b[43margs\u001b[49m\u001b[43m,\u001b[49m\u001b[43m \u001b[49m\u001b[43m*\u001b[49m\u001b[43m*\u001b[49m\u001b[43mkwargs\u001b[49m\u001b[43m)\u001b[49m\n\u001b[32m   1764\u001b[39m result = \u001b[38;5;28;01mNone\u001b[39;00m\n\u001b[32m   1765\u001b[39m called_always_called_hooks = \u001b[38;5;28mset\u001b[39m()\n",
      "\u001b[36mCell\u001b[39m\u001b[36m \u001b[39m\u001b[32mIn[13]\u001b[39m\u001b[32m, line 39\u001b[39m, in \u001b[36mSentimentClassifier.forward\u001b[39m\u001b[34m(self, x)\u001b[39m\n\u001b[32m     36\u001b[39m embedded = \u001b[38;5;28mself\u001b[39m.embedding(x)  \u001b[38;5;66;03m# [batch_size, seq_len, embedding_dim]\u001b[39;00m\n\u001b[32m     38\u001b[39m \u001b[38;5;66;03m# 通过lstm层\u001b[39;00m\n\u001b[32m---> \u001b[39m\u001b[32m39\u001b[39m outputs, hidden = \u001b[38;5;28;43mself\u001b[39;49m\u001b[43m.\u001b[49m\u001b[43mlstm\u001b[49m\u001b[43m(\u001b[49m\u001b[43membedded\u001b[49m\u001b[43m)\u001b[49m\n\u001b[32m     41\u001b[39m \u001b[38;5;66;03m# print(f'outputs.shape: {outputs.shape}')\u001b[39;00m\n\u001b[32m     42\u001b[39m \u001b[38;5;66;03m# print(f'hidden.shape: {hidden.shape}')\u001b[39;00m\n\u001b[32m     43\u001b[39m \n\u001b[32m     44\u001b[39m \u001b[38;5;66;03m# 取最后一个时间步的输出 (这也是为什么要设置padding_first=True的原因)\u001b[39;00m\n\u001b[32m     45\u001b[39m x = outputs[:, -\u001b[32m1\u001b[39m, :]\n",
      "\u001b[36mFile \u001b[39m\u001b[32m~\\AppData\\Roaming\\Python\\Python312\\site-packages\\torch\\nn\\modules\\module.py:1751\u001b[39m, in \u001b[36mModule._wrapped_call_impl\u001b[39m\u001b[34m(self, *args, **kwargs)\u001b[39m\n\u001b[32m   1749\u001b[39m     \u001b[38;5;28;01mreturn\u001b[39;00m \u001b[38;5;28mself\u001b[39m._compiled_call_impl(*args, **kwargs)  \u001b[38;5;66;03m# type: ignore[misc]\u001b[39;00m\n\u001b[32m   1750\u001b[39m \u001b[38;5;28;01melse\u001b[39;00m:\n\u001b[32m-> \u001b[39m\u001b[32m1751\u001b[39m     \u001b[38;5;28;01mreturn\u001b[39;00m \u001b[38;5;28;43mself\u001b[39;49m\u001b[43m.\u001b[49m\u001b[43m_call_impl\u001b[49m\u001b[43m(\u001b[49m\u001b[43m*\u001b[49m\u001b[43margs\u001b[49m\u001b[43m,\u001b[49m\u001b[43m \u001b[49m\u001b[43m*\u001b[49m\u001b[43m*\u001b[49m\u001b[43mkwargs\u001b[49m\u001b[43m)\u001b[49m\n",
      "\u001b[36mFile \u001b[39m\u001b[32m~\\AppData\\Roaming\\Python\\Python312\\site-packages\\torch\\nn\\modules\\module.py:1762\u001b[39m, in \u001b[36mModule._call_impl\u001b[39m\u001b[34m(self, *args, **kwargs)\u001b[39m\n\u001b[32m   1757\u001b[39m \u001b[38;5;66;03m# If we don't have any hooks, we want to skip the rest of the logic in\u001b[39;00m\n\u001b[32m   1758\u001b[39m \u001b[38;5;66;03m# this function, and just call forward.\u001b[39;00m\n\u001b[32m   1759\u001b[39m \u001b[38;5;28;01mif\u001b[39;00m \u001b[38;5;129;01mnot\u001b[39;00m (\u001b[38;5;28mself\u001b[39m._backward_hooks \u001b[38;5;129;01mor\u001b[39;00m \u001b[38;5;28mself\u001b[39m._backward_pre_hooks \u001b[38;5;129;01mor\u001b[39;00m \u001b[38;5;28mself\u001b[39m._forward_hooks \u001b[38;5;129;01mor\u001b[39;00m \u001b[38;5;28mself\u001b[39m._forward_pre_hooks\n\u001b[32m   1760\u001b[39m         \u001b[38;5;129;01mor\u001b[39;00m _global_backward_pre_hooks \u001b[38;5;129;01mor\u001b[39;00m _global_backward_hooks\n\u001b[32m   1761\u001b[39m         \u001b[38;5;129;01mor\u001b[39;00m _global_forward_hooks \u001b[38;5;129;01mor\u001b[39;00m _global_forward_pre_hooks):\n\u001b[32m-> \u001b[39m\u001b[32m1762\u001b[39m     \u001b[38;5;28;01mreturn\u001b[39;00m \u001b[43mforward_call\u001b[49m\u001b[43m(\u001b[49m\u001b[43m*\u001b[49m\u001b[43margs\u001b[49m\u001b[43m,\u001b[49m\u001b[43m \u001b[49m\u001b[43m*\u001b[49m\u001b[43m*\u001b[49m\u001b[43mkwargs\u001b[49m\u001b[43m)\u001b[49m\n\u001b[32m   1764\u001b[39m result = \u001b[38;5;28;01mNone\u001b[39;00m\n\u001b[32m   1765\u001b[39m called_always_called_hooks = \u001b[38;5;28mset\u001b[39m()\n",
      "\u001b[36mFile \u001b[39m\u001b[32m~\\AppData\\Roaming\\Python\\Python312\\site-packages\\torch\\nn\\modules\\rnn.py:1124\u001b[39m, in \u001b[36mLSTM.forward\u001b[39m\u001b[34m(self, input, hx)\u001b[39m\n\u001b[32m   1121\u001b[39m         hx = \u001b[38;5;28mself\u001b[39m.permute_hidden(hx, sorted_indices)\n\u001b[32m   1123\u001b[39m \u001b[38;5;28;01mif\u001b[39;00m batch_sizes \u001b[38;5;129;01mis\u001b[39;00m \u001b[38;5;28;01mNone\u001b[39;00m:\n\u001b[32m-> \u001b[39m\u001b[32m1124\u001b[39m     result = \u001b[43m_VF\u001b[49m\u001b[43m.\u001b[49m\u001b[43mlstm\u001b[49m\u001b[43m(\u001b[49m\n\u001b[32m   1125\u001b[39m \u001b[43m        \u001b[49m\u001b[38;5;28;43minput\u001b[39;49m\u001b[43m,\u001b[49m\n\u001b[32m   1126\u001b[39m \u001b[43m        \u001b[49m\u001b[43mhx\u001b[49m\u001b[43m,\u001b[49m\n\u001b[32m   1127\u001b[39m \u001b[43m        \u001b[49m\u001b[38;5;28;43mself\u001b[39;49m\u001b[43m.\u001b[49m\u001b[43m_flat_weights\u001b[49m\u001b[43m,\u001b[49m\u001b[43m  \u001b[49m\u001b[38;5;66;43;03m# type: ignore[arg-type]\u001b[39;49;00m\n\u001b[32m   1128\u001b[39m \u001b[43m        \u001b[49m\u001b[38;5;28;43mself\u001b[39;49m\u001b[43m.\u001b[49m\u001b[43mbias\u001b[49m\u001b[43m,\u001b[49m\n\u001b[32m   1129\u001b[39m \u001b[43m        \u001b[49m\u001b[38;5;28;43mself\u001b[39;49m\u001b[43m.\u001b[49m\u001b[43mnum_layers\u001b[49m\u001b[43m,\u001b[49m\n\u001b[32m   1130\u001b[39m \u001b[43m        \u001b[49m\u001b[38;5;28;43mself\u001b[39;49m\u001b[43m.\u001b[49m\u001b[43mdropout\u001b[49m\u001b[43m,\u001b[49m\n\u001b[32m   1131\u001b[39m \u001b[43m        \u001b[49m\u001b[38;5;28;43mself\u001b[39;49m\u001b[43m.\u001b[49m\u001b[43mtraining\u001b[49m\u001b[43m,\u001b[49m\n\u001b[32m   1132\u001b[39m \u001b[43m        \u001b[49m\u001b[38;5;28;43mself\u001b[39;49m\u001b[43m.\u001b[49m\u001b[43mbidirectional\u001b[49m\u001b[43m,\u001b[49m\n\u001b[32m   1133\u001b[39m \u001b[43m        \u001b[49m\u001b[38;5;28;43mself\u001b[39;49m\u001b[43m.\u001b[49m\u001b[43mbatch_first\u001b[49m\u001b[43m,\u001b[49m\n\u001b[32m   1134\u001b[39m \u001b[43m    \u001b[49m\u001b[43m)\u001b[49m\n\u001b[32m   1135\u001b[39m \u001b[38;5;28;01melse\u001b[39;00m:\n\u001b[32m   1136\u001b[39m     result = _VF.lstm(\n\u001b[32m   1137\u001b[39m         \u001b[38;5;28minput\u001b[39m,\n\u001b[32m   1138\u001b[39m         batch_sizes,\n\u001b[32m   (...)\u001b[39m\u001b[32m   1145\u001b[39m         \u001b[38;5;28mself\u001b[39m.bidirectional,\n\u001b[32m   1146\u001b[39m     )\n",
      "\u001b[31mKeyboardInterrupt\u001b[39m: "
     ]
    }
   ],
   "source": [
    "from wangdao_deeplearning_train import train_two_classification_model, evaluate_two_classification_model,plot_learning_curves,EarlyStopping,ModelSaver\n",
    "\n",
    "model = SentimentClassifier(vocab_size=len(vocab), lstm_layers=1, bidirectional=True)\n",
    "print(f\"模型结构:\\n{model}\")\n",
    "\n",
    "# 定义损失函数和优化器\n",
    "criterion = nn.BCEWithLogitsLoss() #WithLogitsLoss代表的含义是：把输出结果通过sigmoid函数，然后计算损失\n",
    "optimizer = torch.optim.Adam(model.parameters(), lr=0.001)\n",
    "# 将模型移动到设备上\n",
    "model = model.to(device)\n",
    "\n",
    "\n",
    "# 训练参数\n",
    "num_epochs = 20\n",
    "eval_step = 100\n",
    "\n",
    "# 训练模型\n",
    "# 创建早停和模型保存器\n",
    "early_stopping = EarlyStopping(patience=5, delta=0.001)\n",
    "model_saver = ModelSaver(save_dir='weights')\n",
    "\n",
    "model, record_dict = train_two_classification_model(\n",
    "    model=model,\n",
    "    train_loader=train_dataloader,\n",
    "    val_loader=val_dataloader,\n",
    "    criterion=criterion,\n",
    "    optimizer=optimizer,\n",
    "    device=device,\n",
    "    num_epochs=num_epochs,\n",
    "    eval_step=eval_step,\n",
    "    early_stopping=early_stopping,\n",
    "    model_saver=model_saver\n",
    ")\n",
    "\n",
    "\n"
   ]
  },
  {
   "cell_type": "code",
   "execution_count": null,
   "id": "d91eae27",
   "metadata": {},
   "outputs": [
    {
     "data": {
      "image/png": "[encoded data removed]",
      "text/plain": [
       "<Figure size 1000x500 with 2 Axes>"
      ]
     },
     "metadata": {},
     "output_type": "display_data"
    }
   ],
   "source": [
    "# 绘制学习曲线\n",
    "plot_learning_curves(record_dict,sample_step=100)\n"
   ]
  },
  {
   "cell_type": "code",
   "execution_count": null,
   "id": "3075fd61",
   "metadata": {},
   "outputs": [
    {
     "name": "stdout",
     "output_type": "stream",
     "text": [
      "测试集准确率: 75.01%, 测试集损失: 0.5158\n"
     ]
    }
   ],
   "source": [
    "\n",
    "\n",
    "# 在测试集上评估最终模型\n",
    "test_acc, test_loss = evaluate_two_classification_model(model, val_dataloader, device, criterion)\n",
    "print(f\"测试集准确率: {test_acc:.2f}%, 测试集损失: {test_loss:.4f}\")"
   ]
  }
 ],
 "metadata": {
  "kernelspec": {
   "display_name": "Python 3",
   "language": "python",
   "name": "python3"
  },
  "language_info": {
   "codemirror_mode": {
    "name": "ipython",
    "version": 3
   },
   "file_extension": ".py",
   "mimetype": "text/x-python",
   "name": "python",
   "nbconvert_exporter": "python",
   "pygments_lexer": "ipython3",
   "version": "3.12.3"
  }
 },
 "nbformat": 4,
 "nbformat_minor": 5
}
