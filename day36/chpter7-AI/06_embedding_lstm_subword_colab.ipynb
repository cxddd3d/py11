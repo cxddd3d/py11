{
 "cells": [
  {
   "cell_type": "markdown",
   "id": "6a5899a2",
   "metadata": {
    "id": "6a5899a2"
   },
   "source": [
    "# 把movie文件夹下的imdb_processed.csv读取，分为训练集和测试集，训练集和测试集的特征，都单独写入一个文件，通过subword-nmt命令进行bpe分词"
   ]
  },
  {
   "cell_type": "code",
   "source": [
    "! pip install pandas"
   ],
   "metadata": {
    "colab": {
     "base_uri": "https://localhost:8080/"
    },
    "id": "ZbJS2oyoDGRW",
    "outputId": "62e3894b-adf5-4853-c29e-3b4936d1269f"
   },
   "id": "ZbJS2oyoDGRW",
   "execution_count": 38,
   "outputs": [
    {
     "output_type": "stream",
     "name": "stdout",
     "text": [
      "Requirement already satisfied: pandas in /usr/local/lib/python3.11/dist-packages (2.2.2)\n",
      "Requirement already satisfied: numpy>=1.23.2 in /usr/local/lib/python3.11/dist-packages (from pandas) (2.0.2)\n",
      "Requirement already satisfied: python-dateutil>=2.8.2 in /usr/local/lib/python3.11/dist-packages (from pandas) (2.9.0.post0)\n",
      "Requirement already satisfied: pytz>=2020.1 in /usr/local/lib/python3.11/dist-packages (from pandas) (2025.2)\n",
      "Requirement already satisfied: tzdata>=2022.7 in /usr/local/lib/python3.11/dist-packages (from pandas) (2025.2)\n",
      "Requirement already satisfied: six>=1.5 in /usr/local/lib/python3.11/dist-packages (from python-dateutil>=2.8.2->pandas) (1.17.0)\n"
     ]
    }
   ]
  },
  {
   "cell_type": "code",
   "execution_count": 39,
   "id": "f2d80123",
   "metadata": {
    "colab": {
     "base_uri": "https://localhost:8080/"
    },
    "id": "f2d80123",
    "outputId": "6c17eda6-58d8-452c-ef42-f9613fcc24c1"
   },
   "outputs": [
    {
     "output_type": "stream",
     "name": "stdout",
     "text": [
      "训练集已保存至 'movie/bpe/train_full.csv'，共 40000 条数据\n",
      "测试集已保存至 'movie/bpe/test_full.csv'，共 10000 条数据\n"
     ]
    }
   ],
   "source": [
    "import pandas as pd\n",
    "import numpy as np\n",
    "import os\n",
    "from sklearn.model_selection import train_test_split\n",
    "\n",
    "# 读取数据\n",
    "df = pd.read_csv('movie/imdb_processed.csv')\n",
    "\n",
    "# 分割训练集和测试集\n",
    "train_df, test_df = train_test_split(df, test_size=0.2, random_state=42)\n",
    "\n",
    "# 创建目录（如果不存在）\n",
    "os.makedirs('movie/bpe', exist_ok=True)\n",
    "\n",
    "# 将训练集和测试集的文本写入文件\n",
    "train_df['processed'].to_csv('movie/bpe/train.txt', index=False, header=False)\n",
    "test_df['processed'].to_csv('movie/bpe/test.txt', index=False, header=False)\n",
    "# 将训练集和测试集完整数据写入文件\n",
    "train_df.to_csv('movie/bpe/train_full.csv', index=False)\n",
    "test_df.to_csv('movie/bpe/test_full.csv', index=False)\n",
    "\n",
    "print(f\"训练集已保存至 'movie/bpe/train_full.csv'，共 {len(train_df)} 条数据\")\n",
    "print(f\"测试集已保存至 'movie/bpe/test_full.csv'，共 {len(test_df)} 条数据\")\n"
   ]
  },
  {
   "cell_type": "code",
   "execution_count": 40,
   "id": "cced9810",
   "metadata": {
    "id": "cced9810",
    "colab": {
     "base_uri": "https://localhost:8080/"
    },
    "outputId": "47ceda79-1d80-43b0-c205-5776c8d12b85"
   },
   "outputs": [
    {
     "output_type": "stream",
     "name": "stdout",
     "text": [
      "/content\n"
     ]
    }
   ],
   "source": [
    "!pwd"
   ]
  },
  {
   "cell_type": "code",
   "execution_count": 41,
   "id": "2678c093",
   "metadata": {
    "id": "2678c093",
    "colab": {
     "base_uri": "https://localhost:8080/"
    },
    "outputId": "ba73ed66-798a-4ec3-d43c-b74b1b86d267"
   },
   "outputs": [
    {
     "output_type": "stream",
     "name": "stdout",
     "text": [
      "/bin/bash: line 1: subword-nmt: command not found\n"
     ]
    }
   ],
   "source": [
    "\n",
    "\n",
    "# 使用subword-nmt进行BPE分词\n",
    "# 1. 学习BPE编码（在训练集上）\n",
    "# 学习bpe分词(很慢,学一次就好)\n",
    "# -i 选择学习的文件\n",
    "# -o 核心输出文件,分词需要用到imdb_bpe_code,生成的 imdb_bpe_code 文件包含了学习到的 BPE 操作规则。这些规则用于将单词分割成子词单元\n",
    "# --write-vocabulary 字典输出文件，imdb_bpe_vocab 文件包含了根据 BPE 规则生成的词汇表，列出了所有子词单元及其频率\n",
    "# -s 词表大小\n",
    "!subword-nmt learn-joint-bpe-and-vocab -i ./movie/bpe/train.txt -o ./movie/bpe/imdb_bpe_code --write-vocabulary ./movie/bpe/imdb_bpe_vocab -s 8000"
   ]
  },
  {
   "cell_type": "code",
   "execution_count": 42,
   "id": "eb130500",
   "metadata": {
    "id": "eb130500",
    "colab": {
     "base_uri": "https://localhost:8080/"
    },
    "outputId": "38ba8939-1888-4920-cae9-eee95d14aed2"
   },
   "outputs": [
    {
     "output_type": "stream",
     "name": "stdout",
     "text": [
      "/bin/bash: line 1: subword-nmt: command not found\n",
      "/bin/bash: line 1: subword-nmt: command not found\n"
     ]
    }
   ],
   "source": [
    "# 2. 应用BPE编码到训练集和测试集\n",
    "!subword-nmt apply-bpe -c movie/bpe/imdb_bpe_code -i movie/bpe/train.txt -o movie/bpe/train.bpe.txt\n",
    "!subword-nmt apply-bpe -c movie/bpe/imdb_bpe_code -i movie/bpe/test.txt -o movie/bpe/test.bpe.txt\n"
   ]
  },
  {
   "cell_type": "code",
   "execution_count": 43,
   "id": "672808d4",
   "metadata": {
    "id": "672808d4"
   },
   "outputs": [],
   "source": [
    "# # 3. 获取词汇表\n",
    "# !subword-nmt get-vocab < movie/bpe/imdb_bpe_vocab > movie/bpe/vocab.txt\n",
    "\n",
    "# print(\"BPE处理完成！\")\n",
    "# print(f\"训练集大小: {len(train_df)}\")\n",
    "# print(f\"测试集大小: {len(test_df)}\")\n"
   ]
  },
  {
   "cell_type": "code",
   "execution_count": 44,
   "id": "afee52b3",
   "metadata": {
    "id": "afee52b3",
    "colab": {
     "base_uri": "https://localhost:8080/"
    },
    "outputId": "1f21ec39-e18f-47cd-8df5-c706bc354784"
   },
   "outputs": [
    {
     "output_type": "stream",
     "name": "stdout",
     "text": [
      "词典大小: 8105\n",
      "前10个词条: [('[PAD]', 0), ('[BOS]', 1), ('[UNK]', 2), ('[EOS]', 3), ('.', 4), (',', 5), ('I', 6), ('-', 7), ('movie', 8), ('film', 9)]\n"
     ]
    }
   ],
   "source": [
    "# 读取BPE词汇表并构建词典\n",
    "vocab = {}\n",
    "special_tokens = {\n",
    "    \"[PAD]\": 0,  # 填充 token\n",
    "    \"[BOS]\": 1,  # begin of sentence\n",
    "    \"[UNK]\": 2,  # 未知 token\n",
    "    \"[EOS]\": 3,  # end of sentence\n",
    "}\n",
    "\n",
    "# 首先添加特殊标记\n",
    "vocab.update(special_tokens)\n",
    "\n",
    "# 读取BPE词汇表\n",
    "j=len(special_tokens)\n",
    "with open('movie/bpe/imdb_bpe_vocab', 'r', encoding='utf-8') as f:\n",
    "    for i, line in enumerate(f):\n",
    "        token, count = line.strip().split(' ')\n",
    "        if token not in vocab:  # 避免与特殊标记冲突\n",
    "            vocab[token] = j\n",
    "            j+=1\n",
    "\n",
    "print(f\"词典大小: {len(vocab)}\")\n",
    "print(f\"前10个词条: {list(vocab.items())[:10]}\")\n"
   ]
  },
  {
   "cell_type": "code",
   "execution_count": 45,
   "id": "9d3ab3fb",
   "metadata": {
    "id": "9d3ab3fb",
    "colab": {
     "base_uri": "https://localhost:8080/"
    },
    "outputId": "e30a31f7-1595-4f28-cf9d-bfccd69d2793"
   },
   "outputs": [
    {
     "output_type": "stream",
     "name": "stdout",
     "text": [
      "8101 movie/bpe/imdb_bpe_vocab\n"
     ]
    }
   ],
   "source": [
    "!wc -l movie/bpe/imdb_bpe_vocab"
   ]
  },
  {
   "cell_type": "markdown",
   "id": "3a747c92",
   "metadata": {
    "id": "3a747c92"
   },
   "source": [
    "# Dataset"
   ]
  },
  {
   "cell_type": "markdown",
   "id": "88a7ead6",
   "metadata": {
    "id": "88a7ead6"
   },
   "source": [
    "# Tokenizer"
   ]
  },
  {
   "cell_type": "code",
   "execution_count": 46,
   "id": "6291049d",
   "metadata": {
    "id": "6291049d"
   },
   "outputs": [],
   "source": [
    "import torch\n",
    "\n",
    "\n",
    "class Tokenizer:\n",
    "    def __init__(self, vocab):\n",
    "        \"\"\"\n",
    "        初始化分词器\n",
    "\n",
    "        参数:\n",
    "            vocab: 词汇表字典，将token映射到ID\n",
    "        \"\"\"\n",
    "        self.vocab = vocab #子词到id的映射\n",
    "        self.id_to_token = {v: k for k, v in vocab.items()} #id到子词的映射\n",
    "        self.pad_id = vocab[\"[PAD]\"] #填充token的id\n",
    "        self.bos_id = vocab[\"[BOS]\"]\n",
    "        self.eos_id = vocab[\"[EOS]\"]\n",
    "        self.unk_id = vocab[\"[UNK]\"]\n",
    "\n",
    "    def encode(self, text_list, max_length=None, padding_first=False):\n",
    "        \"\"\"\n",
    "        将文本编码为ID序列\n",
    "\n",
    "        参数:\n",
    "            text_list: 输入文本列表，可以是单个句子或多个句子\n",
    "            max_length: 最大序列长度，如果指定则会进行截断或填充\n",
    "            padding_first: 如果为True，则在序列前面填充，否则在后面填充\n",
    "\n",
    "        返回:\n",
    "            token_ids: ID序列张量\n",
    "        \"\"\"\n",
    "\n",
    "        batch_max_length = 2 + max([len(text) for text in text_list]) # 计算当前批次最大序列长度\n",
    "        if batch_max_length <max_length:\n",
    "            max_length = batch_max_length\n",
    "\n",
    "        indices_list = []\n",
    "        for text in text_list:\n",
    "            # 转换为ID\n",
    "            indices = [self.bos_id] + [self.vocab.get(token, self.unk_id) for token in text[:max_length-2]] + [self.eos_id]\n",
    "\n",
    "            # 处理填充\n",
    "            if padding_first:  # padding加在前面\n",
    "                indices = [self.pad_id] * (max_length - len(indices)) + indices\n",
    "            else:  # padding加在后面\n",
    "                indices = indices + [self.pad_id] * (max_length - len(indices))\n",
    "\n",
    "            indices_list.append(indices)\n",
    "\n",
    "        return torch.tensor(indices_list)\n",
    "\n",
    "    def decode(self, token_ids):\n",
    "        \"\"\"\n",
    "        将ID序列解码为文本\n",
    "\n",
    "        参数:\n",
    "            token_ids: ID序列\n",
    "\n",
    "        返回:\n",
    "            text: 解码后的文本\n",
    "        \"\"\"\n",
    "        if isinstance(token_ids, torch.Tensor):\n",
    "            token_ids = token_ids.tolist()\n",
    "\n",
    "        if isinstance(token_ids[0], list):\n",
    "            return [self.decode(ids) for ids in token_ids]\n",
    "\n",
    "        tokens = []\n",
    "        for id in token_ids:\n",
    "            if id in [self.pad_id, self.bos_id, self.eos_id]:\n",
    "                continue\n",
    "\n",
    "            token = self.id_to_token.get(id, \"[UNK]\")\n",
    "            tokens.append(token)\n",
    "\n",
    "        # 合并子词\n",
    "        text = \"\"\n",
    "        for token in tokens:\n",
    "            if token.endswith(\"@@\"):\n",
    "                text += token[:-2]  # 移除@@后缀\n",
    "            else:\n",
    "                text += token + \" \"\n",
    "\n",
    "        return text.strip()\n"
   ]
  },
  {
   "cell_type": "markdown",
   "id": "6f4c3d2c",
   "metadata": {
    "id": "6f4c3d2c"
   },
   "source": [
    "# Dataset"
   ]
  },
  {
   "cell_type": "code",
   "execution_count": 47,
   "id": "e865a3e3",
   "metadata": {
    "id": "e865a3e3",
    "colab": {
     "base_uri": "https://localhost:8080/"
    },
    "outputId": "a80e82ef-6c51-44bb-fef4-bc4f71bdc66e"
   },
   "outputs": [
    {
     "output_type": "stream",
     "name": "stdout",
     "text": [
      "/content\n"
     ]
    }
   ],
   "source": [
    "!pwd"
   ]
  },
  {
   "cell_type": "code",
   "execution_count": 50,
   "id": "3f79b7bd",
   "metadata": {
    "id": "3f79b7bd"
   },
   "outputs": [],
   "source": [
    "import torch\n",
    "from torch.utils.data import Dataset\n",
    "import pandas as pd\n",
    "\n",
    "class IMDBDataset(Dataset):\n",
    "    \"\"\"\n",
    "    IMDB数据集类，用于加载和处理IMDB电影评论数据\n",
    "    \"\"\"\n",
    "    def __init__(self, bpe_file, vocab, max_length=512, mode='train'):\n",
    "        \"\"\"\n",
    "        初始化数据集\n",
    "\n",
    "        参数:\n",
    "            bpe_file: 包含BPE处理后的文本文件路径\n",
    "            csv_file: 包含电影评论标签的CSV文件路径\n",
    "            vocab: 词汇表字典\n",
    "            max_length: 序列最大长度\n",
    "        \"\"\"\n",
    "        # 读取标签数据\n",
    "        # 只读取前4万行数据\n",
    "        # 根据文件类型决定读取的数据行\n",
    "        if mode == 'train':\n",
    "            # 训练集读取前4万行\n",
    "            self.labels = pd.read_csv('movie/bpe/train_full.csv')['label'].values\n",
    "        else:\n",
    "            # 测试集读取最后1万行\n",
    "            df = pd.read_csv('movie/bpe/test_full.csv')\n",
    "            self.labels = df.loc[:,'label'].values\n",
    "\n",
    "        # 读取BPE处理后的文本\n",
    "        self.texts = []\n",
    "        with open(bpe_file, 'r', encoding='utf-8') as f:\n",
    "            self.texts = [line.strip() for line in f]\n",
    "\n",
    "        # 确保文本和标签数量一致\n",
    "        assert len(self.texts) == len(self.labels), \"文本和标签数量不匹配\"\n",
    "\n",
    "        self.tokenizer = Tokenizer(vocab)\n",
    "        self.max_length = max_length\n",
    "\n",
    "    def __len__(self):\n",
    "        \"\"\"返回数据集大小\"\"\"\n",
    "        return len(self.texts)\n",
    "\n",
    "    def __getitem__(self, idx):\n",
    "        \"\"\"\n",
    "        获取指定索引的样本\n",
    "\n",
    "        参数:\n",
    "            idx: 样本索引\n",
    "\n",
    "        返回:\n",
    "            tokens: 分词后的评论文本\n",
    "            label: 情感标签 (0表示负面, 1表示正面)\n",
    "        \"\"\"\n",
    "        # 获取评论文本和标签\n",
    "        text = self.texts[idx]\n",
    "        label = self.labels[idx]\n",
    "\n",
    "        return text.split(), label\n",
    "\n",
    "train_ds = IMDBDataset(bpe_file='movie/bpe/train.bpe.txt',  vocab=vocab, mode='train')\n",
    "test_ds = IMDBDataset(bpe_file='movie/bpe/test.bpe.txt', vocab=vocab, mode='test')\n",
    "\n",
    "# print(train_ds[0])\n",
    "# print(test_ds[0])"
   ]
  },
  {
   "cell_type": "code",
   "execution_count": 51,
   "id": "8e3b8666",
   "metadata": {
    "id": "8e3b8666",
    "colab": {
     "base_uri": "https://localhost:8080/",
     "height": 1000
    },
    "outputId": "873f4f63-0ce5-4430-aaa5-900fd64d8984"
   },
   "outputs": [
    {
     "output_type": "stream",
     "name": "stderr",
     "text": [
      "/tmp/ipython-input-51-1149141991.py:19: UserWarning: Glyph 24179 (\\N{CJK UNIFIED IDEOGRAPH-5E73}) missing from font(s) DejaVu Sans.\n",
      "  plt.tight_layout()\n",
      "/tmp/ipython-input-51-1149141991.py:19: UserWarning: Glyph 22343 (\\N{CJK UNIFIED IDEOGRAPH-5747}) missing from font(s) DejaVu Sans.\n",
      "  plt.tight_layout()\n",
      "/tmp/ipython-input-51-1149141991.py:19: UserWarning: Glyph 38271 (\\N{CJK UNIFIED IDEOGRAPH-957F}) missing from font(s) DejaVu Sans.\n",
      "  plt.tight_layout()\n",
      "/tmp/ipython-input-51-1149141991.py:19: UserWarning: Glyph 24230 (\\N{CJK UNIFIED IDEOGRAPH-5EA6}) missing from font(s) DejaVu Sans.\n",
      "  plt.tight_layout()\n",
      "/tmp/ipython-input-51-1149141991.py:19: UserWarning: Glyph 20013 (\\N{CJK UNIFIED IDEOGRAPH-4E2D}) missing from font(s) DejaVu Sans.\n",
      "  plt.tight_layout()\n",
      "/tmp/ipython-input-51-1149141991.py:19: UserWarning: Glyph 20301 (\\N{CJK UNIFIED IDEOGRAPH-4F4D}) missing from font(s) DejaVu Sans.\n",
      "  plt.tight_layout()\n",
      "/tmp/ipython-input-51-1149141991.py:19: UserWarning: Glyph 25968 (\\N{CJK UNIFIED IDEOGRAPH-6570}) missing from font(s) DejaVu Sans.\n",
      "  plt.tight_layout()\n",
      "/tmp/ipython-input-51-1149141991.py:19: UserWarning: Glyph 20998 (\\N{CJK UNIFIED IDEOGRAPH-5206}) missing from font(s) DejaVu Sans.\n",
      "  plt.tight_layout()\n",
      "/usr/local/lib/python3.11/dist-packages/IPython/core/pylabtools.py:151: UserWarning: Glyph 24179 (\\N{CJK UNIFIED IDEOGRAPH-5E73}) missing from font(s) DejaVu Sans.\n",
      "  fig.canvas.print_figure(bytes_io, **kw)\n",
      "/usr/local/lib/python3.11/dist-packages/IPython/core/pylabtools.py:151: UserWarning: Glyph 22343 (\\N{CJK UNIFIED IDEOGRAPH-5747}) missing from font(s) DejaVu Sans.\n",
      "  fig.canvas.print_figure(bytes_io, **kw)\n",
      "/usr/local/lib/python3.11/dist-packages/IPython/core/pylabtools.py:151: UserWarning: Glyph 38271 (\\N{CJK UNIFIED IDEOGRAPH-957F}) missing from font(s) DejaVu Sans.\n",
      "  fig.canvas.print_figure(bytes_io, **kw)\n",
      "/usr/local/lib/python3.11/dist-packages/IPython/core/pylabtools.py:151: UserWarning: Glyph 24230 (\\N{CJK UNIFIED IDEOGRAPH-5EA6}) missing from font(s) DejaVu Sans.\n",
      "  fig.canvas.print_figure(bytes_io, **kw)\n",
      "/usr/local/lib/python3.11/dist-packages/IPython/core/pylabtools.py:151: UserWarning: Glyph 20013 (\\N{CJK UNIFIED IDEOGRAPH-4E2D}) missing from font(s) DejaVu Sans.\n",
      "  fig.canvas.print_figure(bytes_io, **kw)\n",
      "/usr/local/lib/python3.11/dist-packages/IPython/core/pylabtools.py:151: UserWarning: Glyph 20301 (\\N{CJK UNIFIED IDEOGRAPH-4F4D}) missing from font(s) DejaVu Sans.\n",
      "  fig.canvas.print_figure(bytes_io, **kw)\n",
      "/usr/local/lib/python3.11/dist-packages/IPython/core/pylabtools.py:151: UserWarning: Glyph 25968 (\\N{CJK UNIFIED IDEOGRAPH-6570}) missing from font(s) DejaVu Sans.\n",
      "  fig.canvas.print_figure(bytes_io, **kw)\n",
      "/usr/local/lib/python3.11/dist-packages/IPython/core/pylabtools.py:151: UserWarning: Glyph 20998 (\\N{CJK UNIFIED IDEOGRAPH-5206}) missing from font(s) DejaVu Sans.\n",
      "  fig.canvas.print_figure(bytes_io, **kw)\n"
     ]
    },
    {
     "output_type": "display_data",
     "data": {
      "text/plain": [
       "<Figure size 1000x600 with 1 Axes>"
      ],
      "image/png": "[encoded data removed]"
     },
     "metadata": {}
    },
    {
     "output_type": "stream",
     "name": "stdout",
     "text": [
      "最短样本长度: 10\n",
      "最长样本长度: 2194\n",
      "平均样本长度: 200.19\n",
      "样本长度中位数: 147.0\n",
      "样本长度标准差: 155.25\n"
     ]
    }
   ],
   "source": [
    "import matplotlib.pyplot as plt\n",
    "# 统计训练集中样本的长度分布\n",
    "sample_lengths = [len(train_ds[i][0]) for i in range(len(train_ds))]\n",
    "\n",
    "# 绘制直方图\n",
    "plt.figure(figsize=(10, 6))\n",
    "plt.hist(sample_lengths, bins=50, alpha=0.7, color='blue')\n",
    "plt.xlabel('Sample Length')\n",
    "plt.ylabel('Sample Count')\n",
    "plt.title('Training Set Sample Length Distribution')\n",
    "plt.grid(True, linestyle='--', alpha=0.7)\n",
    "\n",
    "# 添加一些统计信息\n",
    "plt.axvline(x=np.mean(sample_lengths), color='r', linestyle='--', label=f'平均长度: {np.mean(sample_lengths):.2f}')\n",
    "plt.axvline(x=np.median(sample_lengths), color='g', linestyle='-.', label=f'中位数长度: {np.median(sample_lengths):.2f}')\n",
    "plt.axvline(x=np.percentile(sample_lengths, 95), color='orange', linestyle=':', label=f'95%分位数: {np.percentile(sample_lengths, 95):.2f}')\n",
    "\n",
    "plt.legend()\n",
    "plt.tight_layout()\n",
    "plt.show()\n",
    "\n",
    "# 打印一些统计信息\n",
    "print(f\"最短样本长度: {min(sample_lengths)}\")\n",
    "print(f\"最长样本长度: {max(sample_lengths)}\")\n",
    "print(f\"平均样本长度: {np.mean(sample_lengths):.2f}\")\n",
    "print(f\"样本长度中位数: {np.median(sample_lengths)}\")\n",
    "print(f\"样本长度标准差: {np.std(sample_lengths):.2f}\")\n"
   ]
  },
  {
   "cell_type": "markdown",
   "id": "2e718618",
   "metadata": {
    "id": "2e718618"
   },
   "source": [
    "# DataLoader"
   ]
  },
  {
   "cell_type": "code",
   "execution_count": 52,
   "id": "9e17a21c",
   "metadata": {
    "id": "9e17a21c",
    "colab": {
     "base_uri": "https://localhost:8080/"
    },
    "outputId": "ce05a1e5-9071-455b-e2a6-0c4cc382c24e"
   },
   "outputs": [
    {
     "output_type": "stream",
     "name": "stdout",
     "text": [
      "训练集DataLoader批次数量: 573\n",
      "验证集DataLoader批次数量: 95\n",
      "批次中的token_ids形状: torch.Size([32, 500])\n",
      "批次中的标签形状: torch.Size([32, 1])\n"
     ]
    },
    {
     "output_type": "execute_result",
     "data": {
      "text/plain": [
       "tensor([[   0,    0,    0,  ...,  519,   14,    3],\n",
       "        [   0,    0,    0,  ..., 1324,   14,    3],\n",
       "        [   1,  557,  716,  ...,  365,  468,    3],\n",
       "        ...,\n",
       "        [   0,    0,    0,  ...,  847, 1703,    3],\n",
       "        [   0,    0,    0,  ...,    4,   14,    3],\n",
       "        [   0,    0,    0,  ...,  370,   14,    3]], dtype=torch.int32)"
      ]
     },
     "metadata": {},
     "execution_count": 52
    }
   ],
   "source": [
    "import torch\n",
    "from torch.utils.data import Dataset, DataLoader\n",
    "from torch.nn.utils.rnn import pad_sequence\n",
    "\n",
    "tokenizer = Tokenizer(vocab)\n",
    "\n",
    "def collate_fct(batch):\n",
    "    \"\"\"\n",
    "    把字符串列表转化为tensor\n",
    "    :param batch:\n",
    "    :return:\n",
    "    \"\"\"\n",
    "    text_list = [item[0] for item in batch] #batch中每个item的第一个元素是text,是输入，类型为list\n",
    "    label_list = [item[1] for item in batch] #batch中每个item的第二个元素是label,是输出，类型为int\n",
    "    # 这里使用 padding first\n",
    "    text_list = tokenizer.encode(text_list, max_length=500, padding_first=True).to(dtype=torch.int)\n",
    "    return text_list, torch.tensor(label_list).reshape(-1, 1).to(dtype=torch.float)\n",
    "\n",
    "def create_dataloaders(train_ds,test_ds,batch_size=4):\n",
    "    \"\"\"\n",
    "    创建训练集和验证集的DataLoader\n",
    "\n",
    "    参数:\n",
    "        train_texts: 训练集文本\n",
    "        train_labels: 训练集标签\n",
    "        val_texts: 验证集文本\n",
    "        val_labels: 验证集标签\n",
    "        tokenizer: 分词器\n",
    "        batch_size: 批次大小\n",
    "\n",
    "    返回:\n",
    "        train_dataloader: 训练集DataLoader\n",
    "        val_dataloader: 验证集DataLoader\n",
    "    \"\"\"\n",
    "\n",
    "    # 创建DataLoader\n",
    "    train_dataloader = DataLoader(\n",
    "        train_ds,\n",
    "        batch_size=batch_size,\n",
    "        shuffle=True,\n",
    "        collate_fn=collate_fct\n",
    "    )\n",
    "\n",
    "    val_dataloader = DataLoader(\n",
    "        test_ds,\n",
    "        batch_size=batch_size,\n",
    "        shuffle=False,\n",
    "        collate_fn=collate_fct\n",
    "    )\n",
    "\n",
    "    return train_dataloader, val_dataloader\n",
    "\n",
    "# 调用create_dataloaders函数初始化训练集和测试集的DataLoader\n",
    "batch_size = 32 # 设置批次大小\n",
    "train_dataloader, val_dataloader = create_dataloaders(\n",
    "    train_ds=train_ds,\n",
    "    test_ds=test_ds,\n",
    "    batch_size=batch_size\n",
    ")\n",
    "\n",
    "print(f\"训练集DataLoader批次数量: {len(train_dataloader)}\")\n",
    "print(f\"验证集DataLoader批次数量: {len(val_dataloader)}\")\n",
    "\n",
    "# 查看一个批次的数据样例\n",
    "sample_batch = next(iter(train_dataloader))\n",
    "token_ids, labels = sample_batch\n",
    "print(f\"批次中的token_ids形状: {token_ids.shape}\")\n",
    "print(f\"批次中的标签形状: {labels.shape}\")\n",
    "\n",
    "token_ids"
   ]
  },
  {
   "cell_type": "markdown",
   "id": "81586740",
   "metadata": {
    "id": "81586740"
   },
   "source": [
    "# 搭建模型"
   ]
  },
  {
   "cell_type": "code",
   "execution_count": 53,
   "id": "7e28fc1b",
   "metadata": {
    "id": "7e28fc1b",
    "colab": {
     "base_uri": "https://localhost:8080/"
    },
    "outputId": "5c592367-9b86-4eea-9bad-da631d0fa4e7"
   },
   "outputs": [
    {
     "output_type": "stream",
     "name": "stdout",
     "text": [
      "模型结构:\n",
      "SentimentClassifier(\n",
      "  (embedding): Embedding(8105, 16)\n",
      "  (lstm): LSTM(16, 128, batch_first=True)\n",
      "  (fc1): Linear(in_features=128, out_features=128, bias=True)\n",
      "  (fc): Linear(in_features=128, out_features=1, bias=True)\n",
      "  (dropout): Dropout(p=0.3, inplace=False)\n",
      ")\n",
      "单层单向lstm模型参数数量: 221,073\n"
     ]
    }
   ],
   "source": [
    "import torch\n",
    "import torch.nn as nn\n",
    "import torch.nn.functional as F\n",
    "\n",
    "class SentimentClassifier(nn.Module):\n",
    "    def __init__(self, vocab_size, embedding_dim=16, hidden_dim=128, output_dim=1,\n",
    "                 lstm_layers=1, bidirectional=False, dropout_rate=0.3):\n",
    "        super().__init__()\n",
    "\n",
    "        # 嵌入层\n",
    "        self.embedding = nn.Embedding(vocab_size, embedding_dim)\n",
    "\n",
    "        # 设置lstm层\n",
    "        self.lstm = nn.LSTM(embedding_dim, hidden_dim,\n",
    "                         num_layers=lstm_layers, # 层数\n",
    "                         bidirectional=bidirectional, # 是否双向\n",
    "                         batch_first=True,\n",
    "                         dropout=dropout_rate if lstm_layers > 1 else 0)\n",
    "\n",
    "        # 确定输出维度\n",
    "        fc_input_dim = hidden_dim * 2 if bidirectional else hidden_dim\n",
    "\n",
    "        # 增加一个fc层，输入是fc_input_dim，输出是hidden_dim\n",
    "        self.fc1 = nn.Linear(fc_input_dim, hidden_dim)\n",
    "\n",
    "        # 全连接层\n",
    "        self.fc = nn.Linear(hidden_dim, output_dim)\n",
    "\n",
    "        # Dropout层，防止过拟合\n",
    "        self.dropout = nn.Dropout(dropout_rate)\n",
    "\n",
    "    def forward(self, x):\n",
    "        # x形状: [batch_size, seq_len]\n",
    "\n",
    "        # 通过嵌入层\n",
    "        embedded = self.embedding(x)  # [batch_size, seq_len, embedding_dim]\n",
    "\n",
    "        # 通过lstm层\n",
    "        outputs, hidden = self.lstm(embedded)\n",
    "\n",
    "        # print(f'outputs.shape: {outputs.shape}')\n",
    "        # print(f'hidden.shape: {hidden.shape}')\n",
    "\n",
    "        # 取最后一个时间步的输出 (这也是为什么要设置padding_first=True的原因)\n",
    "        x = outputs[:, -1, :]\n",
    "        # print(f'hidden: {hidden}') #第一个张量是h, 第二个张量是c\n",
    "        # print(f'len(hidden): {len(hidden)}')\n",
    "        # #输出h，c的形状\n",
    "        # print(f'h是 hidden[0].shape: {hidden[0].shape}')\n",
    "        # print(f'c是 hidden[1].shape: {hidden[1].shape}')\n",
    "        # # # 打印一下形状，观察数据\n",
    "        # print(f'x.shape: {x.shape}')\n",
    "\n",
    "        # hidden_reshaped = hidden[0].squeeze(0)\n",
    "\n",
    "        # # # 判断两个张量是否相等\n",
    "        # is_equal = torch.allclose(x, hidden_reshaped)\n",
    "        # print(f'是否相等: {is_equal}')\n",
    "\n",
    "        # 应用dropout\n",
    "        x = self.dropout(x)\n",
    "        x = self.fc1(x)\n",
    "        x = self.fc(x)\n",
    "\n",
    "        return x\n",
    "\n",
    "# 初始化模型\n",
    "model = SentimentClassifier(vocab_size=len(vocab), lstm_layers=1, bidirectional=False)\n",
    "print(f\"模型结构:\\n{model}\")\n",
    "\n",
    "# 打印模型参数数量\n",
    "def count_parameters(model):\n",
    "    return sum(p.numel() for p in model.parameters() if p.requires_grad)\n",
    "\n",
    "print(f\"单层单向lstm模型参数数量: {count_parameters(model):,}\")\n"
   ]
  },
  {
   "cell_type": "code",
   "execution_count": 55,
   "id": "f6f803c5",
   "metadata": {
    "id": "f6f803c5",
    "colab": {
     "base_uri": "https://localhost:8080/"
    },
    "outputId": "a7af461e-1be2-4c7f-ed65-094bdc90d142"
   },
   "outputs": [
    {
     "output_type": "stream",
     "name": "stdout",
     "text": [
      "使用设备: cuda\n",
      "输入形状: torch.Size([32, 500])\n",
      "输出形状: torch.Size([32, 1])\n"
     ]
    }
   ],
   "source": [
    "# 设置设备\n",
    "device = torch.device('cuda' if torch.cuda.is_available() else 'cpu')\n",
    "print(f\"使用设备: {device}\")\n",
    "# 验证模型的前向计算\n",
    "# 从训练数据中获取一个批次的样本\n",
    "sample_batch, sample_labels = next(iter(train_dataloader))\n",
    "print(f\"输入形状: {sample_batch.shape}\")\n",
    "\n",
    "# 将样本移动到设备上\n",
    "# sample_batch = sample_batch.to(device)\n",
    "\n",
    "# 进行前向计算\n",
    "with torch.no_grad():\n",
    "    outputs = model(sample_batch)\n",
    "    print(f\"输出形状: {outputs.shape}\")\n",
    "\n"
   ]
  },
  {
   "cell_type": "markdown",
   "id": "cbc05baa",
   "metadata": {
    "id": "cbc05baa"
   },
   "source": [
    "# 训练，画图，评估"
   ]
  },
  {
   "cell_type": "code",
   "execution_count": 56,
   "id": "175bd35f",
   "metadata": {
    "id": "175bd35f",
    "colab": {
     "base_uri": "https://localhost:8080/",
     "height": 255,
     "referenced_widgets": [
      "4174b4768c1a46a296f4af760ec9bda4",
      "f5ded3c4a15e403088d72c207665fc8d",
      "7877aa45ae9d4859a1da536d62b9941e",
      "05990cc8500644368a7281fb2c1ed07a",
      "c490ab845cb9413cb9eaa9c6f5e1ad75",
      "60fd2e79efd945ffbf166e6bceccd1bf",
      "27dbd51bf1d24eaa899dbf766a99f552",
      "7ef0b68f15c4407c8052b84dfd00393f",
      "dc474b784fa5454a80cb83d06b283940",
      "5fd4849e8d734075b609cbf0101b5110",
      "3b9367ed90a04e43b34ab94352d4db24"
     ]
    },
    "outputId": "72bcbd06-ca13-461a-bfc8-61038555f7b9"
   },
   "outputs": [
    {
     "output_type": "stream",
     "name": "stdout",
     "text": [
      "模型结构:\n",
      "SentimentClassifier(\n",
      "  (embedding): Embedding(8105, 16)\n",
      "  (lstm): LSTM(16, 128, batch_first=True, bidirectional=True)\n",
      "  (fc1): Linear(in_features=256, out_features=128, bias=True)\n",
      "  (fc): Linear(in_features=128, out_features=1, bias=True)\n",
      "  (dropout): Dropout(p=0.3, inplace=False)\n",
      ")\n",
      "训练开始，共11460步\n"
     ]
    },
    {
     "output_type": "display_data",
     "data": {
      "text/plain": [
       "  0%|          | 0/11460 [00:00<?, ?it/s]"
      ],
      "application/vnd.jupyter.widget-view+json": {
       "version_major": 2,
       "version_minor": 0,
       "model_id": "4174b4768c1a46a296f4af760ec9bda4"
      }
     },
     "metadata": {}
    },
    {
     "output_type": "stream",
     "name": "stdout",
     "text": [
      "早停触发! 最佳验证准确率(如果是回归，这里是损失): 76.1135\n",
      "早停: 在2400 步\n"
     ]
    }
   ],
   "source": [
    "from wangdao_deeplearning_train import train_two_classification_model, evaluate_two_classification_model,plot_learning_curves,EarlyStopping,ModelSaver\n",
    "\n",
    "model = SentimentClassifier(vocab_size=len(vocab), lstm_layers=1, bidirectional=True)\n",
    "print(f\"模型结构:\\n{model}\")\n",
    "\n",
    "# 定义损失函数和优化器\n",
    "criterion = nn.BCEWithLogitsLoss() #WithLogitsLoss代表的含义是：把输出结果通过sigmoid函数，然后计算损失\n",
    "optimizer = torch.optim.Adam(model.parameters(), lr=0.001)\n",
    "# 将模型移动到设备上\n",
    "model = model.to(device)\n",
    "\n",
    "\n",
    "# 训练参数\n",
    "num_epochs = 20\n",
    "eval_step = 100\n",
    "\n",
    "# 训练模型\n",
    "# 创建早停和模型保存器\n",
    "early_stopping = EarlyStopping(patience=5, delta=0.001)\n",
    "model_saver = ModelSaver(save_dir='weights')\n",
    "\n",
    "model, record_dict = train_two_classification_model(\n",
    "    model=model,\n",
    "    train_loader=train_dataloader,\n",
    "    val_loader=val_dataloader,\n",
    "    criterion=criterion,\n",
    "    optimizer=optimizer,\n",
    "    device=device,\n",
    "    num_epochs=num_epochs,\n",
    "    eval_step=eval_step,\n",
    "    early_stopping=early_stopping,\n",
    "    model_saver=model_saver\n",
    ")\n",
    "\n",
    "\n"
   ]
  },
  {
   "cell_type": "code",
   "execution_count": 57,
   "id": "d91eae27",
   "metadata": {
    "id": "d91eae27",
    "colab": {
     "base_uri": "https://localhost:8080/",
     "height": 465
    },
    "outputId": "955d0d6c-c3ba-4d40-e8a7-fd16d4d45b4e"
   },
   "outputs": [
    {
     "output_type": "display_data",
     "data": {
      "text/plain": [
       "<Figure size 1000x500 with 2 Axes>"
      ],
      "image/png": "[encoded data removed]"
     },
     "metadata": {}
    }
   ],
   "source": [
    "# 绘制学习曲线\n",
    "plot_learning_curves(record_dict,sample_step=100)\n"
   ]
  },
  {
   "cell_type": "code",
   "execution_count": 58,
   "id": "3075fd61",
   "metadata": {
    "id": "3075fd61",
    "colab": {
     "base_uri": "https://localhost:8080/"
    },
    "outputId": "8ab502f2-4924-4133-9509-64a2deadf804"
   },
   "outputs": [
    {
     "output_type": "stream",
     "name": "stdout",
     "text": [
      "测试集准确率: 74.60%, 测试集损失: 0.5315\n"
     ]
    }
   ],
   "source": [
    "\n",
    "\n",
    "# 在测试集上评估最终模型\n",
    "test_acc, test_loss = evaluate_two_classification_model(model, val_dataloader, device, criterion)\n",
    "print(f\"测试集准确率: {test_acc:.2f}%, 测试集损失: {test_loss:.4f}\")"
   ]
  }
 ],
 "metadata": {
  "kernelspec": {
   "display_name": "Python 3",
   "name": "python3"
  },
  "language_info": {
   "codemirror_mode": {
    "name": "ipython",
    "version": 3
   },
   "file_extension": ".py",
   "mimetype": "text/x-python",
   "name": "python",
   "nbconvert_exporter": "python",
   "pygments_lexer": "ipython3",
   "version": "3.12.3"
  },
  "colab": {
   "provenance": [],
   "gpuType": "T4"
  },
  "accelerator": "GPU",
  "widgets": {
   "application/vnd.jupyter.widget-state+json": {
    "4174b4768c1a46a296f4af760ec9bda4": {
     "model_module": "@jupyter-widgets/controls",
     "model_name": "HBoxModel",
     "model_module_version": "1.5.0",
     "state": {
      "_dom_classes": [],
      "_model_module": "@jupyter-widgets/controls",
      "_model_module_version": "1.5.0",
      "_model_name": "HBoxModel",
      "_view_count": null,
      "_view_module": "@jupyter-widgets/controls",
      "_view_module_version": "1.5.0",
      "_view_name": "HBoxView",
      "box_style": "",
      "children": [
       "IPY_MODEL_f5ded3c4a15e403088d72c207665fc8d",
       "IPY_MODEL_7877aa45ae9d4859a1da536d62b9941e",
       "IPY_MODEL_05990cc8500644368a7281fb2c1ed07a"
      ],
      "layout": "IPY_MODEL_c490ab845cb9413cb9eaa9c6f5e1ad75"
     }
    },
    "f5ded3c4a15e403088d72c207665fc8d": {
     "model_module": "@jupyter-widgets/controls",
     "model_name": "HTMLModel",
     "model_module_version": "1.5.0",
     "state": {
      "_dom_classes": [],
      "_model_module": "@jupyter-widgets/controls",
      "_model_module_version": "1.5.0",
      "_model_name": "HTMLModel",
      "_view_count": null,
      "_view_module": "@jupyter-widgets/controls",
      "_view_module_version": "1.5.0",
      "_view_name": "HTMLView",
      "description": "",
      "description_tooltip": null,
      "layout": "IPY_MODEL_60fd2e79efd945ffbf166e6bceccd1bf",
      "placeholder": "​",
      "style": "IPY_MODEL_27dbd51bf1d24eaa899dbf766a99f552",
      "value": " 21%"
     }
    },
    "7877aa45ae9d4859a1da536d62b9941e": {
     "model_module": "@jupyter-widgets/controls",
     "model_name": "FloatProgressModel",
     "model_module_version": "1.5.0",
     "state": {
      "_dom_classes": [],
      "_model_module": "@jupyter-widgets/controls",
      "_model_module_version": "1.5.0",
      "_model_name": "FloatProgressModel",
      "_view_count": null,
      "_view_module": "@jupyter-widgets/controls",
      "_view_module_version": "1.5.0",
      "_view_name": "ProgressView",
      "bar_style": "danger",
      "description": "",
      "description_tooltip": null,
      "layout": "IPY_MODEL_7ef0b68f15c4407c8052b84dfd00393f",
      "max": 11460,
      "min": 0,
      "orientation": "horizontal",
      "style": "IPY_MODEL_dc474b784fa5454a80cb83d06b283940",
      "value": 2400
     }
    },
    "05990cc8500644368a7281fb2c1ed07a": {
     "model_module": "@jupyter-widgets/controls",
     "model_name": "HTMLModel",
     "model_module_version": "1.5.0",
     "state": {
      "_dom_classes": [],
      "_model_module": "@jupyter-widgets/controls",
      "_model_module_version": "1.5.0",
      "_model_name": "HTMLModel",
      "_view_count": null,
      "_view_module": "@jupyter-widgets/controls",
      "_view_module_version": "1.5.0",
      "_view_name": "HTMLView",
      "description": "",
      "description_tooltip": null,
      "layout": "IPY_MODEL_5fd4849e8d734075b609cbf0101b5110",
      "placeholder": "​",
      "style": "IPY_MODEL_3b9367ed90a04e43b34ab94352d4db24",
      "value": " 2400/11460 [01:00&lt;02:25, 62.38it/s, epoch=4, loss=0.4171, acc=81.25%, val_loss=0.5525, val_acc=72.75%]"
     }
    },
    "c490ab845cb9413cb9eaa9c6f5e1ad75": {
     "model_module": "@jupyter-widgets/base",
     "model_name": "LayoutModel",
     "model_module_version": "1.2.0",
     "state": {
      "_model_module": "@jupyter-widgets/base",
      "_model_module_version": "1.2.0",
      "_model_name": "LayoutModel",
      "_view_count": null,
      "_view_module": "@jupyter-widgets/base",
      "_view_module_version": "1.2.0",
      "_view_name": "LayoutView",
      "align_content": null,
      "align_items": null,
      "align_self": null,
      "border": null,
      "bottom": null,
      "display": null,
      "flex": null,
      "flex_flow": null,
      "grid_area": null,
      "grid_auto_columns": null,
      "grid_auto_flow": null,
      "grid_auto_rows": null,
      "grid_column": null,
      "grid_gap": null,
      "grid_row": null,
      "grid_template_areas": null,
      "grid_template_columns": null,
      "grid_template_rows": null,
      "height": null,
      "justify_content": null,
      "justify_items": null,
      "left": null,
      "margin": null,
      "max_height": null,
      "max_width": null,
      "min_height": null,
      "min_width": null,
      "object_fit": null,
      "object_position": null,
      "order": null,
      "overflow": null,
      "overflow_x": null,
      "overflow_y": null,
      "padding": null,
      "right": null,
      "top": null,
      "visibility": null,
      "width": null
     }
    },
    "60fd2e79efd945ffbf166e6bceccd1bf": {
     "model_module": "@jupyter-widgets/base",
     "model_name": "LayoutModel",
     "model_module_version": "1.2.0",
     "state": {
      "_model_module": "@jupyter-widgets/base",
      "_model_module_version": "1.2.0",
      "_model_name": "LayoutModel",
      "_view_count": null,
      "_view_module": "@jupyter-widgets/base",
      "_view_module_version": "1.2.0",
      "_view_name": "LayoutView",
      "align_content": null,
      "align_items": null,
      "align_self": null,
      "border": null,
      "bottom": null,
      "display": null,
      "flex": null,
      "flex_flow": null,
      "grid_area": null,
      "grid_auto_columns": null,
      "grid_auto_flow": null,
      "grid_auto_rows": null,
      "grid_column": null,
      "grid_gap": null,
      "grid_row": null,
      "grid_template_areas": null,
      "grid_template_columns": null,
      "grid_template_rows": null,
      "height": null,
      "justify_content": null,
      "justify_items": null,
      "left": null,
      "margin": null,
      "max_height": null,
      "max_width": null,
      "min_height": null,
      "min_width": null,
      "object_fit": null,
      "object_position": null,
      "order": null,
      "overflow": null,
      "overflow_x": null,
      "overflow_y": null,
      "padding": null,
      "right": null,
      "top": null,
      "visibility": null,
      "width": null
     }
    },
    "27dbd51bf1d24eaa899dbf766a99f552": {
     "model_module": "@jupyter-widgets/controls",
     "model_name": "DescriptionStyleModel",
     "model_module_version": "1.5.0",
     "state": {
      "_model_module": "@jupyter-widgets/controls",
      "_model_module_version": "1.5.0",
      "_model_name": "DescriptionStyleModel",
      "_view_count": null,
      "_view_module": "@jupyter-widgets/base",
      "_view_module_version": "1.2.0",
      "_view_name": "StyleView",
      "description_width": ""
     }
    },
    "7ef0b68f15c4407c8052b84dfd00393f": {
     "model_module": "@jupyter-widgets/base",
     "model_name": "LayoutModel",
     "model_module_version": "1.2.0",
     "state": {
      "_model_module": "@jupyter-widgets/base",
      "_model_module_version": "1.2.0",
      "_model_name": "LayoutModel",
      "_view_count": null,
      "_view_module": "@jupyter-widgets/base",
      "_view_module_version": "1.2.0",
      "_view_name": "LayoutView",
      "align_content": null,
      "align_items": null,
      "align_self": null,
      "border": null,
      "bottom": null,
      "display": null,
      "flex": null,
      "flex_flow": null,
      "grid_area": null,
      "grid_auto_columns": null,
      "grid_auto_flow": null,
      "grid_auto_rows": null,
      "grid_column": null,
      "grid_gap": null,
      "grid_row": null,
      "grid_template_areas": null,
      "grid_template_columns": null,
      "grid_template_rows": null,
      "height": null,
      "justify_content": null,
      "justify_items": null,
      "left": null,
      "margin": null,
      "max_height": null,
      "max_width": null,
      "min_height": null,
      "min_width": null,
      "object_fit": null,
      "object_position": null,
      "order": null,
      "overflow": null,
      "overflow_x": null,
      "overflow_y": null,
      "padding": null,
      "right": null,
      "top": null,
      "visibility": null,
      "width": null
     }
    },
    "dc474b784fa5454a80cb83d06b283940": {
     "model_module": "@jupyter-widgets/controls",
     "model_name": "ProgressStyleModel",
     "model_module_version": "1.5.0",
     "state": {
      "_model_module": "@jupyter-widgets/controls",
      "_model_module_version": "1.5.0",
      "_model_name": "ProgressStyleModel",
      "_view_count": null,
      "_view_module": "@jupyter-widgets/base",
      "_view_module_version": "1.2.0",
      "_view_name": "StyleView",
      "bar_color": null,
      "description_width": ""
     }
    },
    "5fd4849e8d734075b609cbf0101b5110": {
     "model_module": "@jupyter-widgets/base",
     "model_name": "LayoutModel",
     "model_module_version": "1.2.0",
     "state": {
      "_model_module": "@jupyter-widgets/base",
      "_model_module_version": "1.2.0",
      "_model_name": "LayoutModel",
      "_view_count": null,
      "_view_module": "@jupyter-widgets/base",
      "_view_module_version": "1.2.0",
      "_view_name": "LayoutView",
      "align_content": null,
      "align_items": null,
      "align_self": null,
      "border": null,
      "bottom": null,
      "display": null,
      "flex": null,
      "flex_flow": null,
      "grid_area": null,
      "grid_auto_columns": null,
      "grid_auto_flow": null,
      "grid_auto_rows": null,
      "grid_column": null,
      "grid_gap": null,
      "grid_row": null,
      "grid_template_areas": null,
      "grid_template_columns": null,
      "grid_template_rows": null,
      "height": null,
      "justify_content": null,
      "justify_items": null,
      "left": null,
      "margin": null,
      "max_height": null,
      "max_width": null,
      "min_height": null,
      "min_width": null,
      "object_fit": null,
      "object_position": null,
      "order": null,
      "overflow": null,
      "overflow_x": null,
      "overflow_y": null,
      "padding": null,
      "right": null,
      "top": null,
      "visibility": null,
      "width": null
     }
    },
    "3b9367ed90a04e43b34ab94352d4db24": {
     "model_module": "@jupyter-widgets/controls",
     "model_name": "DescriptionStyleModel",
     "model_module_version": "1.5.0",
     "state": {
      "_model_module": "@jupyter-widgets/controls",
      "_model_module_version": "1.5.0",
      "_model_name": "DescriptionStyleModel",
      "_view_count": null,
      "_view_module": "@jupyter-widgets/base",
      "_view_module_version": "1.2.0",
      "_view_name": "StyleView",
      "description_width": ""
     }
    }
   }
  }
 },
 "nbformat": 4,
 "nbformat_minor": 5
}
