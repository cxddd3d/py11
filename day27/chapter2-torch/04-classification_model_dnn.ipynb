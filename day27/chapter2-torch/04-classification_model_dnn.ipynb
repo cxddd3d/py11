{
 "cells": [
  {
   "cell_type": "markdown",
   "metadata": {},
   "source": [
    "# 查看FashionMNIST原始数据格式"
   ]
  },
  {
   "cell_type": "code",
   "execution_count": 22,
   "metadata": {
    "ExecuteTime": {
     "end_time": "2025-06-26T09:39:12.483422Z",
     "start_time": "2025-06-26T09:39:07.991065Z"
    }
   },
   "outputs": [
    {
     "name": "stdout",
     "output_type": "stream",
     "text": [
      "(<PIL.Image.Image image mode=L size=28x28 at 0x2081A6FA300>, 9)\n"
     ]
    },
    {
     "data": {
      "image/jpeg": "[encoded data removed]",
      "image/png": "[encoded data removed]",
      "text/plain": [
       "<PIL.Image.Image image mode=L size=28x28>"
      ]
     },
     "execution_count": 22,
     "metadata": {},
     "output_type": "execute_result"
    }
   ],
   "source": [
    "import torch\n",
    "import torchvision\n",
    "import numpy as np\n",
    "import matplotlib.pyplot as plt\n",
    "from torchvision import datasets, transforms\n",
    "from wangdao_deeplearning_train import EarlyStopping, ModelSaver,train_classification_model,plot_learning_curves\n",
    "from wangdao_deeplearning_train import evaluate_classification_model as evaluate_model\n",
    "# 加载Fashion MNIST数据集，张量就是和numpy数组一样\n",
    "transform = transforms.Compose([])\n",
    "train_dataset = datasets.FashionMNIST(root='./data', train=True, download=True, transform=transform)\n",
    "test_dataset = datasets.FashionMNIST(root='./data', train=False, download=True, transform=transform)\n",
    "print(train_dataset[0])\n",
    "train_dataset[0][0]"
   ]
  },
  {
   "cell_type": "markdown",
   "metadata": {},
   "source": [
    "# 加载数据并处理为tensor"
   ]
  },
  {
   "cell_type": "code",
   "execution_count": 23,
   "metadata": {
    "ExecuteTime": {
     "end_time": "2025-06-26T09:39:12.531704Z",
     "start_time": "2025-06-26T09:39:12.484436Z"
    }
   },
   "outputs": [
    {
     "name": "stdout",
     "output_type": "stream",
     "text": [
      "训练集形状: (60000, 28, 28)\n",
      "训练集标签数量: 60000\n",
      "测试集形状: (10000, 28, 28)\n",
      "测试集标签数量: 10000\n",
      "[[  0   0   0   0   0   0   0   0   0   0   0   0   0   0   0   0   0   0\n",
      "    0   0   0   0   0   0   0   0   0   0]\n",
      " [  0   0   0   0   0   0   0   0   0   0   0   0   0   0   0   0   0   0\n",
      "    0   0   0   0   0   0   0   0   0   0]\n",
      " [  0   0   0   0   0   0   0   0   0   0   0   0   0   0   0   0   0   0\n",
      "    0   0   0   0   0   0   0   0   0   0]\n",
      " [  0   0   0   0   0   0   0   0   0   0   0   0   1   0   0  13  73   0\n",
      "    0   1   4   0   0   0   0   1   1   0]\n",
      " [  0   0   0   0   0   0   0   0   0   0   0   0   3   0  36 136 127  62\n",
      "   54   0   0   0   1   3   4   0   0   3]\n",
      " [  0   0   0   0   0   0   0   0   0   0   0   0   6   0 102 204 176 134\n",
      "  144 123  23   0   0   0   0  12  10   0]\n",
      " [  0   0   0   0   0   0   0   0   0   0   0   0   0   0 155 236 207 178\n",
      "  107 156 161 109  64  23  77 130  72  15]\n",
      " [  0   0   0   0   0   0   0   0   0   0   0   1   0  69 207 223 218 216\n",
      "  216 163 127 121 122 146 141  88 172  66]\n",
      " [  0   0   0   0   0   0   0   0   0   1   1   1   0 200 232 232 233 229\n",
      "  223 223 215 213 164 127 123 196 229   0]\n",
      " [  0   0   0   0   0   0   0   0   0   0   0   0   0 183 225 216 223 228\n",
      "  235 227 224 222 224 221 223 245 173   0]\n",
      " [  0   0   0   0   0   0   0   0   0   0   0   0   0 193 228 218 213 198\n",
      "  180 212 210 211 213 223 220 243 202   0]\n",
      " [  0   0   0   0   0   0   0   0   0   1   3   0  12 219 220 212 218 192\n",
      "  169 227 208 218 224 212 226 197 209  52]\n",
      " [  0   0   0   0   0   0   0   0   0   0   6   0  99 244 222 220 218 203\n",
      "  198 221 215 213 222 220 245 119 167  56]\n",
      " [  0   0   0   0   0   0   0   0   0   4   0   0  55 236 228 230 228 240\n",
      "  232 213 218 223 234 217 217 209  92   0]\n",
      " [  0   0   1   4   6   7   2   0   0   0   0   0 237 226 217 223 222 219\n",
      "  222 221 216 223 229 215 218 255  77   0]\n",
      " [  0   3   0   0   0   0   0   0   0  62 145 204 228 207 213 221 218 208\n",
      "  211 218 224 223 219 215 224 244 159   0]\n",
      " [  0   0   0   0  18  44  82 107 189 228 220 222 217 226 200 205 211 230\n",
      "  224 234 176 188 250 248 233 238 215   0]\n",
      " [  0  57 187 208 224 221 224 208 204 214 208 209 200 159 245 193 206 223\n",
      "  255 255 221 234 221 211 220 232 246   0]\n",
      " [  3 202 228 224 221 211 211 214 205 205 205 220 240  80 150 255 229 221\n",
      "  188 154 191 210 204 209 222 228 225   0]\n",
      " [ 98 233 198 210 222 229 229 234 249 220 194 215 217 241  65  73 106 117\n",
      "  168 219 221 215 217 223 223 224 229  29]\n",
      " [ 75 204 212 204 193 205 211 225 216 185 197 206 198 213 240 195 227 245\n",
      "  239 223 218 212 209 222 220 221 230  67]\n",
      " [ 48 203 183 194 213 197 185 190 194 192 202 214 219 221 220 236 225 216\n",
      "  199 206 186 181 177 172 181 205 206 115]\n",
      " [  0 122 219 193 179 171 183 196 204 210 213 207 211 210 200 196 194 191\n",
      "  195 191 198 192 176 156 167 177 210  92]\n",
      " [  0   0  74 189 212 191 175 172 175 181 185 188 189 188 193 198 204 209\n",
      "  210 210 211 188 188 194 192 216 170   0]\n",
      " [  2   0   0   0  66 200 222 237 239 242 246 243 244 221 220 193 191 179\n",
      "  182 182 181 176 166 168  99  58   0   0]\n",
      " [  0   0   0   0   0   0   0  40  61  44  72  41  35   0   0   0   0   0\n",
      "    0   0   0   0   0   0   0   0   0   0]\n",
      " [  0   0   0   0   0   0   0   0   0   0   0   0   0   0   0   0   0   0\n",
      "    0   0   0   0   0   0   0   0   0   0]\n",
      " [  0   0   0   0   0   0   0   0   0   0   0   0   0   0   0   0   0   0\n",
      "    0   0   0   0   0   0   0   0   0   0]]\n"
     ]
    },
    {
     "data": {
      "text/plain": [
       "array([9, 0, 0, 3, 0, 2, 7, 2, 5, 5, 0, 9, 5, 5, 7, 9, 1, 0, 6, 4],\n",
       "      dtype=int64)"
      ]
     },
     "execution_count": 23,
     "metadata": {},
     "output_type": "execute_result"
    }
   ],
   "source": [
    "# 加载Fashion MNIST数据集，张量就是和numpy数组一样\n",
    "transform = transforms.Compose([\n",
    "    transforms.ToTensor(),\n",
    "    transforms.Normalize((0.286,), (0.353,))  \n",
    "])\n",
    "train_dataset = datasets.FashionMNIST(root='./data', train=True, download=True, transform=transform)\n",
    "test_dataset = datasets.FashionMNIST(root='./data', train=False, download=True, transform=transform)\n",
    "\n",
    "# 获取图像和标签\n",
    "# 注意：由于使用了transform，图像已经被转换为张量且标准化\n",
    "# 我们需要从dataset中提取原始图像用于显示\n",
    "train_images = train_dataset.data.numpy()\n",
    "train_labels = train_dataset.targets.numpy()\n",
    "test_images = test_dataset.data.numpy()\n",
    "test_labels = test_dataset.targets.numpy()\n",
    "\n",
    "# 定义类别名称\n",
    "class_names = ['T-shirt/top', '裤子', '套头衫', '连衣裙', '外套',\n",
    "               '凉鞋', '衬衫', '运动鞋', '包', '短靴']\n",
    "\n",
    "# 查看数据集基本信息\n",
    "print(f\"训练集形状: {train_images.shape}\")\n",
    "print(f\"训练集标签数量: {len(train_labels)}\")\n",
    "print(f\"测试集形状: {test_images.shape}\")\n",
    "print(f\"测试集标签数量: {len(test_labels)}\")\n",
    "\n",
    "print(train_images[0])\n",
    "\n",
    "train_labels[0:20]\n"
   ]
  },
  {
   "cell_type": "code",
   "execution_count": 24,
   "metadata": {
    "ExecuteTime": {
     "end_time": "2025-06-26T09:39:12.550876Z",
     "start_time": "2025-06-26T09:39:12.532715Z"
    }
   },
   "outputs": [
    {
     "data": {
      "text/plain": [
       "(tensor([[[-8.1020e-01, -8.1020e-01, -8.1020e-01, -8.1020e-01, -8.1020e-01,\n",
       "           -8.1020e-01, -8.1020e-01, -8.1020e-01, -8.1020e-01, -8.1020e-01,\n",
       "           -8.1020e-01, -8.1020e-01, -8.1020e-01, -8.1020e-01, -8.1020e-01,\n",
       "           -8.1020e-01, -8.1020e-01, -8.1020e-01, -8.1020e-01, -8.1020e-01,\n",
       "           -8.1020e-01, -8.1020e-01, -8.1020e-01, -8.1020e-01, -8.1020e-01,\n",
       "           -8.1020e-01, -8.1020e-01, -8.1020e-01],\n",
       "          [-8.1020e-01, -8.1020e-01, -8.1020e-01, -8.1020e-01, -8.1020e-01,\n",
       "           -8.1020e-01, -8.1020e-01, -8.1020e-01, -8.1020e-01, -8.1020e-01,\n",
       "           -8.1020e-01, -8.1020e-01, -8.1020e-01, -8.1020e-01, -8.1020e-01,\n",
       "           -8.1020e-01, -8.1020e-01, -8.1020e-01, -8.1020e-01, -8.1020e-01,\n",
       "           -8.1020e-01, -8.1020e-01, -8.1020e-01, -8.1020e-01, -8.1020e-01,\n",
       "           -8.1020e-01, -8.1020e-01, -8.1020e-01],\n",
       "          [-8.1020e-01, -8.1020e-01, -8.1020e-01, -8.1020e-01, -8.1020e-01,\n",
       "           -8.1020e-01, -8.1020e-01, -8.1020e-01, -8.1020e-01, -8.1020e-01,\n",
       "           -8.1020e-01, -8.1020e-01, -8.1020e-01, -8.1020e-01, -8.1020e-01,\n",
       "           -8.1020e-01, -8.1020e-01, -8.1020e-01, -8.1020e-01, -8.1020e-01,\n",
       "           -8.1020e-01, -8.1020e-01, -8.1020e-01, -8.1020e-01, -8.1020e-01,\n",
       "           -8.1020e-01, -8.1020e-01, -8.1020e-01],\n",
       "          [-8.1020e-01, -8.1020e-01, -8.1020e-01, -8.1020e-01, -8.1020e-01,\n",
       "           -8.1020e-01, -8.1020e-01, -8.1020e-01, -8.1020e-01, -8.1020e-01,\n",
       "           -8.1020e-01, -8.1020e-01, -7.9909e-01, -8.1020e-01, -8.1020e-01,\n",
       "           -6.6578e-01,  7.7765e-04, -8.1020e-01, -8.1020e-01, -7.9909e-01,\n",
       "           -7.6576e-01, -8.1020e-01, -8.1020e-01, -8.1020e-01, -8.1020e-01,\n",
       "           -7.9909e-01, -7.9909e-01, -8.1020e-01],\n",
       "          [-8.1020e-01, -8.1020e-01, -8.1020e-01, -8.1020e-01, -8.1020e-01,\n",
       "           -8.1020e-01, -8.1020e-01, -8.1020e-01, -8.1020e-01, -8.1020e-01,\n",
       "           -8.1020e-01, -8.1020e-01, -7.7687e-01, -8.1020e-01, -4.1026e-01,\n",
       "            7.0066e-01,  6.0068e-01, -1.2142e-01, -2.1030e-01, -8.1020e-01,\n",
       "           -8.1020e-01, -8.1020e-01, -7.9909e-01, -7.7687e-01, -7.6576e-01,\n",
       "           -8.1020e-01, -8.1020e-01, -7.7687e-01],\n",
       "          [-8.1020e-01, -8.1020e-01, -8.1020e-01, -8.1020e-01, -8.1020e-01,\n",
       "           -8.1020e-01, -8.1020e-01, -8.1020e-01, -8.1020e-01, -8.1020e-01,\n",
       "           -8.1020e-01, -8.1020e-01, -7.4354e-01, -8.1020e-01,  3.2295e-01,\n",
       "            1.4561e+00,  1.1450e+00,  6.7844e-01,  7.8954e-01,  5.5624e-01,\n",
       "           -5.5469e-01, -8.1020e-01, -8.1020e-01, -8.1020e-01, -8.1020e-01,\n",
       "           -6.7689e-01, -6.9911e-01, -8.1020e-01],\n",
       "          [-8.1020e-01, -8.1020e-01, -8.1020e-01, -8.1020e-01, -8.1020e-01,\n",
       "           -8.1020e-01, -8.1020e-01, -8.1020e-01, -8.1020e-01, -8.1020e-01,\n",
       "           -8.1020e-01, -8.1020e-01, -8.1020e-01, -8.1020e-01,  9.1174e-01,\n",
       "            1.8116e+00,  1.4894e+00,  1.1672e+00,  3.7849e-01,  9.2285e-01,\n",
       "            9.7839e-01,  4.0071e-01, -9.9206e-02, -5.5469e-01,  4.5215e-02,\n",
       "            6.3401e-01, -1.0332e-02, -6.4356e-01],\n",
       "          [-8.1020e-01, -8.1020e-01, -8.1020e-01, -8.1020e-01, -8.1020e-01,\n",
       "           -8.1020e-01, -8.1020e-01, -8.1020e-01, -8.1020e-01, -8.1020e-01,\n",
       "           -8.1020e-01, -7.9909e-01, -8.1020e-01, -4.3659e-02,  1.4894e+00,\n",
       "            1.6672e+00,  1.6116e+00,  1.5894e+00,  1.5894e+00,  1.0006e+00,\n",
       "            6.0068e-01,  5.3402e-01,  5.4513e-01,  8.1175e-01,  7.5621e-01,\n",
       "            1.6742e-01,  1.1006e+00, -7.6987e-02],\n",
       "          [-8.1020e-01, -8.1020e-01, -8.1020e-01, -8.1020e-01, -8.1020e-01,\n",
       "           -8.1020e-01, -8.1020e-01, -8.1020e-01, -8.1020e-01, -7.9909e-01,\n",
       "           -7.9909e-01, -7.9909e-01, -8.1020e-01,  1.4117e+00,  1.7671e+00,\n",
       "            1.7671e+00,  1.7783e+00,  1.7338e+00,  1.6672e+00,  1.6672e+00,\n",
       "            1.5783e+00,  1.5561e+00,  1.0117e+00,  6.0068e-01,  5.5624e-01,\n",
       "            1.3672e+00,  1.7338e+00, -8.1020e-01],\n",
       "          [-8.1020e-01, -8.1020e-01, -8.1020e-01, -8.1020e-01, -8.1020e-01,\n",
       "           -8.1020e-01, -8.1020e-01, -8.1020e-01, -8.1020e-01, -8.1020e-01,\n",
       "           -8.1020e-01, -8.1020e-01, -8.1020e-01,  1.2228e+00,  1.6894e+00,\n",
       "            1.5894e+00,  1.6672e+00,  1.7227e+00,  1.8005e+00,  1.7116e+00,\n",
       "            1.6783e+00,  1.6561e+00,  1.6783e+00,  1.6449e+00,  1.6672e+00,\n",
       "            1.9116e+00,  1.1117e+00, -8.1020e-01],\n",
       "          [-8.1020e-01, -8.1020e-01, -8.1020e-01, -8.1020e-01, -8.1020e-01,\n",
       "           -8.1020e-01, -8.1020e-01, -8.1020e-01, -8.1020e-01, -8.1020e-01,\n",
       "           -8.1020e-01, -8.1020e-01, -8.1020e-01,  1.3339e+00,  1.7227e+00,\n",
       "            1.6116e+00,  1.5561e+00,  1.3894e+00,  1.1895e+00,  1.5450e+00,\n",
       "            1.5227e+00,  1.5339e+00,  1.5561e+00,  1.6672e+00,  1.6338e+00,\n",
       "            1.8894e+00,  1.4339e+00, -8.1020e-01],\n",
       "          [-8.1020e-01, -8.1020e-01, -8.1020e-01, -8.1020e-01, -8.1020e-01,\n",
       "           -8.1020e-01, -8.1020e-01, -8.1020e-01, -8.1020e-01, -7.9909e-01,\n",
       "           -7.7687e-01, -8.1020e-01, -6.7689e-01,  1.6227e+00,  1.6338e+00,\n",
       "            1.5450e+00,  1.6116e+00,  1.3228e+00,  1.0673e+00,  1.7116e+00,\n",
       "            1.5005e+00,  1.6116e+00,  1.6783e+00,  1.5450e+00,  1.7005e+00,\n",
       "            1.3783e+00,  1.5116e+00, -2.3252e-01],\n",
       "          [-8.1020e-01, -8.1020e-01, -8.1020e-01, -8.1020e-01, -8.1020e-01,\n",
       "           -8.1020e-01, -8.1020e-01, -8.1020e-01, -8.1020e-01, -8.1020e-01,\n",
       "           -7.4354e-01, -8.1020e-01,  2.8962e-01,  1.9005e+00,  1.6561e+00,\n",
       "            1.6338e+00,  1.6116e+00,  1.4450e+00,  1.3894e+00,  1.6449e+00,\n",
       "            1.5783e+00,  1.5561e+00,  1.6561e+00,  1.6338e+00,  1.9116e+00,\n",
       "            5.1180e-01,  1.0450e+00, -1.8808e-01],\n",
       "          [-8.1020e-01, -8.1020e-01, -8.1020e-01, -8.1020e-01, -8.1020e-01,\n",
       "           -8.1020e-01, -8.1020e-01, -8.1020e-01, -8.1020e-01, -7.6576e-01,\n",
       "           -8.1020e-01, -8.1020e-01, -1.9919e-01,  1.8116e+00,  1.7227e+00,\n",
       "            1.7449e+00,  1.7227e+00,  1.8560e+00,  1.7671e+00,  1.5561e+00,\n",
       "            1.6116e+00,  1.6672e+00,  1.7894e+00,  1.6005e+00,  1.6005e+00,\n",
       "            1.5116e+00,  2.1185e-01, -8.1020e-01],\n",
       "          [-8.1020e-01, -8.1020e-01, -7.9909e-01, -7.6576e-01, -7.4354e-01,\n",
       "           -7.3243e-01, -7.8798e-01, -8.1020e-01, -8.1020e-01, -8.1020e-01,\n",
       "           -8.1020e-01, -8.1020e-01,  1.8227e+00,  1.7005e+00,  1.6005e+00,\n",
       "            1.6672e+00,  1.6561e+00,  1.6227e+00,  1.6561e+00,  1.6449e+00,\n",
       "            1.5894e+00,  1.6672e+00,  1.7338e+00,  1.5783e+00,  1.6116e+00,\n",
       "            2.0227e+00,  4.5215e-02, -8.1020e-01],\n",
       "          [-8.1020e-01, -7.7687e-01, -8.1020e-01, -8.1020e-01, -8.1020e-01,\n",
       "           -8.1020e-01, -8.1020e-01, -8.1020e-01, -8.1020e-01, -1.2142e-01,\n",
       "            8.0064e-01,  1.4561e+00,  1.7227e+00,  1.4894e+00,  1.5561e+00,\n",
       "            1.6449e+00,  1.6116e+00,  1.5005e+00,  1.5339e+00,  1.6116e+00,\n",
       "            1.6783e+00,  1.6672e+00,  1.6227e+00,  1.5783e+00,  1.6783e+00,\n",
       "            1.9005e+00,  9.5617e-01, -8.1020e-01],\n",
       "          [-8.1020e-01, -8.1020e-01, -8.1020e-01, -8.1020e-01, -6.1023e-01,\n",
       "           -3.2139e-01,  1.0076e-01,  3.7849e-01,  1.2895e+00,  1.7227e+00,\n",
       "            1.6338e+00,  1.6561e+00,  1.6005e+00,  1.7005e+00,  1.4117e+00,\n",
       "            1.4672e+00,  1.5339e+00,  1.7449e+00,  1.6783e+00,  1.7894e+00,\n",
       "            1.1450e+00,  1.2783e+00,  1.9671e+00,  1.9449e+00,  1.7783e+00,\n",
       "            1.8338e+00,  1.5783e+00, -8.1020e-01],\n",
       "          [-8.1020e-01, -1.7697e-01,  1.2672e+00,  1.5005e+00,  1.6783e+00,\n",
       "            1.6449e+00,  1.6783e+00,  1.5005e+00,  1.4561e+00,  1.5672e+00,\n",
       "            1.5005e+00,  1.5116e+00,  1.4117e+00,  9.5617e-01,  1.9116e+00,\n",
       "            1.3339e+00,  1.4783e+00,  1.6672e+00,  2.0227e+00,  2.0227e+00,\n",
       "            1.6449e+00,  1.7894e+00,  1.6449e+00,  1.5339e+00,  1.6338e+00,\n",
       "            1.7671e+00,  1.9227e+00, -8.1020e-01],\n",
       "          [-7.7687e-01,  1.4339e+00,  1.7227e+00,  1.6783e+00,  1.6449e+00,\n",
       "            1.5339e+00,  1.5339e+00,  1.5672e+00,  1.4672e+00,  1.4672e+00,\n",
       "            1.4672e+00,  1.6338e+00,  1.8560e+00,  7.8542e-02,  8.5619e-01,\n",
       "            2.0227e+00,  1.7338e+00,  1.6449e+00,  1.2783e+00,  9.0063e-01,\n",
       "            1.3117e+00,  1.5227e+00,  1.4561e+00,  1.5116e+00,  1.6561e+00,\n",
       "            1.7227e+00,  1.6894e+00, -8.1020e-01],\n",
       "          [ 2.7851e-01,  1.7783e+00,  1.3894e+00,  1.5227e+00,  1.6561e+00,\n",
       "            1.7338e+00,  1.7338e+00,  1.7894e+00,  1.9560e+00,  1.6338e+00,\n",
       "            1.3450e+00,  1.5783e+00,  1.6005e+00,  1.8671e+00, -8.8096e-02,\n",
       "            7.7765e-04,  3.6738e-01,  4.8959e-01,  1.0562e+00,  1.6227e+00,\n",
       "            1.6449e+00,  1.5783e+00,  1.6005e+00,  1.6672e+00,  1.6672e+00,\n",
       "            1.6783e+00,  1.7338e+00, -4.8803e-01],\n",
       "          [ 2.2996e-02,  1.4561e+00,  1.5450e+00,  1.4561e+00,  1.3339e+00,\n",
       "            1.4672e+00,  1.5339e+00,  1.6894e+00,  1.5894e+00,  1.2450e+00,\n",
       "            1.3783e+00,  1.4783e+00,  1.3894e+00,  1.5561e+00,  1.8560e+00,\n",
       "            1.3561e+00,  1.7116e+00,  1.9116e+00,  1.8449e+00,  1.6672e+00,\n",
       "            1.6116e+00,  1.5450e+00,  1.5116e+00,  1.6561e+00,  1.6338e+00,\n",
       "            1.6449e+00,  1.7449e+00, -6.5878e-02],\n",
       "          [-2.7695e-01,  1.4450e+00,  1.2228e+00,  1.3450e+00,  1.5561e+00,\n",
       "            1.3783e+00,  1.2450e+00,  1.3006e+00,  1.3450e+00,  1.3228e+00,\n",
       "            1.4339e+00,  1.5672e+00,  1.6227e+00,  1.6449e+00,  1.6338e+00,\n",
       "            1.8116e+00,  1.6894e+00,  1.5894e+00,  1.4005e+00,  1.4783e+00,\n",
       "            1.2561e+00,  1.2006e+00,  1.1561e+00,  1.1006e+00,  1.2006e+00,\n",
       "            1.4672e+00,  1.4783e+00,  4.6737e-01],\n",
       "          [-8.1020e-01,  5.4513e-01,  1.6227e+00,  1.3339e+00,  1.1784e+00,\n",
       "            1.0895e+00,  1.2228e+00,  1.3672e+00,  1.4561e+00,  1.5227e+00,\n",
       "            1.5561e+00,  1.4894e+00,  1.5339e+00,  1.5227e+00,  1.4117e+00,\n",
       "            1.3672e+00,  1.3450e+00,  1.3117e+00,  1.3561e+00,  1.3117e+00,\n",
       "            1.3894e+00,  1.3228e+00,  1.1450e+00,  9.2285e-01,  1.0450e+00,\n",
       "            1.1561e+00,  1.5227e+00,  2.1185e-01],\n",
       "          [-8.1020e-01, -8.1020e-01,  1.1887e-02,  1.2895e+00,  1.5450e+00,\n",
       "            1.3117e+00,  1.1339e+00,  1.1006e+00,  1.1339e+00,  1.2006e+00,\n",
       "            1.2450e+00,  1.2783e+00,  1.2895e+00,  1.2783e+00,  1.3339e+00,\n",
       "            1.3894e+00,  1.4561e+00,  1.5116e+00,  1.5227e+00,  1.5227e+00,\n",
       "            1.5339e+00,  1.2783e+00,  1.2783e+00,  1.3450e+00,  1.3228e+00,\n",
       "            1.5894e+00,  1.0784e+00, -8.1020e-01],\n",
       "          [-7.8798e-01, -8.1020e-01, -8.1020e-01, -8.1020e-01, -7.6987e-02,\n",
       "            1.4117e+00,  1.6561e+00,  1.8227e+00,  1.8449e+00,  1.8782e+00,\n",
       "            1.9227e+00,  1.8894e+00,  1.9005e+00,  1.6449e+00,  1.6338e+00,\n",
       "            1.3339e+00,  1.3117e+00,  1.1784e+00,  1.2117e+00,  1.2117e+00,\n",
       "            1.2006e+00,  1.1450e+00,  1.0339e+00,  1.0562e+00,  2.8962e-01,\n",
       "           -1.6586e-01, -8.1020e-01, -8.1020e-01],\n",
       "          [-8.1020e-01, -8.1020e-01, -8.1020e-01, -8.1020e-01, -8.1020e-01,\n",
       "           -8.1020e-01, -8.1020e-01, -3.6583e-01, -1.3253e-01, -3.2139e-01,\n",
       "           -1.0332e-02, -3.5472e-01, -4.2137e-01, -8.1020e-01, -8.1020e-01,\n",
       "           -8.1020e-01, -8.1020e-01, -8.1020e-01, -8.1020e-01, -8.1020e-01,\n",
       "           -8.1020e-01, -8.1020e-01, -8.1020e-01, -8.1020e-01, -8.1020e-01,\n",
       "           -8.1020e-01, -8.1020e-01, -8.1020e-01],\n",
       "          [-8.1020e-01, -8.1020e-01, -8.1020e-01, -8.1020e-01, -8.1020e-01,\n",
       "           -8.1020e-01, -8.1020e-01, -8.1020e-01, -8.1020e-01, -8.1020e-01,\n",
       "           -8.1020e-01, -8.1020e-01, -8.1020e-01, -8.1020e-01, -8.1020e-01,\n",
       "           -8.1020e-01, -8.1020e-01, -8.1020e-01, -8.1020e-01, -8.1020e-01,\n",
       "           -8.1020e-01, -8.1020e-01, -8.1020e-01, -8.1020e-01, -8.1020e-01,\n",
       "           -8.1020e-01, -8.1020e-01, -8.1020e-01],\n",
       "          [-8.1020e-01, -8.1020e-01, -8.1020e-01, -8.1020e-01, -8.1020e-01,\n",
       "           -8.1020e-01, -8.1020e-01, -8.1020e-01, -8.1020e-01, -8.1020e-01,\n",
       "           -8.1020e-01, -8.1020e-01, -8.1020e-01, -8.1020e-01, -8.1020e-01,\n",
       "           -8.1020e-01, -8.1020e-01, -8.1020e-01, -8.1020e-01, -8.1020e-01,\n",
       "           -8.1020e-01, -8.1020e-01, -8.1020e-01, -8.1020e-01, -8.1020e-01,\n",
       "           -8.1020e-01, -8.1020e-01, -8.1020e-01]]]),\n",
       " 9)"
      ]
     },
     "execution_count": 24,
     "metadata": {},
     "output_type": "execute_result"
    }
   ],
   "source": [
    "#查看归一化后的效果\n",
    "train_dataset[0]"
   ]
  },
  {
   "cell_type": "code",
   "execution_count": 25,
   "metadata": {
    "ExecuteTime": {
     "end_time": "2025-06-26T09:39:12.556134Z",
     "start_time": "2025-06-26T09:39:12.551886Z"
    }
   },
   "outputs": [],
   "source": [
    "#如果标准化后，就不在执行该代码\n",
    "\n",
    "def calculate_mean_std(train_dataset):\n",
    "    # 首先将所有图像数据堆叠为一个大张量\n",
    "    all_images = torch.stack([img_tensor for img_tensor, _ in train_dataset])\n",
    "    print(all_images.shape)\n",
    "    # 计算通道维度上的均值和标准差\n",
    "    # Fashion MNIST是灰度图像，只有一个通道\n",
    "    # 对所有像素值计算均值和标准差\n",
    "    mean = torch.mean(all_images)\n",
    "    std = torch.std(all_images)\n",
    "\n",
    "    print(f\"训练数据集均值: {mean.item():.4f}\")\n",
    "    print(f\"训练数据集标准差: {std.item():.4f}\")\n",
    "\n",
    "    # 检查数据集大小\n",
    "    print(f\"数据集中图像总数: {len(train_dataset)}\")\n",
    "\n",
    "# calculate_mean_std(train_dataset)"
   ]
  },
  {
   "cell_type": "code",
   "execution_count": 26,
   "metadata": {
    "ExecuteTime": {
     "end_time": "2025-06-26T09:39:12.563202Z",
     "start_time": "2025-06-26T09:39:12.557141Z"
    }
   },
   "outputs": [
    {
     "data": {
      "text/plain": [
       "torch.Size([1, 28, 28])"
      ]
     },
     "execution_count": 26,
     "metadata": {},
     "output_type": "execute_result"
    }
   ],
   "source": [
    "train_dataset[0][0].shape"
   ]
  },
  {
   "cell_type": "code",
   "execution_count": 27,
   "metadata": {
    "ExecuteTime": {
     "end_time": "2025-06-26T09:39:12.982441Z",
     "start_time": "2025-06-26T09:39:12.565182Z"
    }
   },
   "outputs": [
    {
     "data": {
      "image/png": "[encoded data removed]",
      "text/plain": [
       "<Figure size 1500x900 with 15 Axes>"
      ]
     },
     "metadata": {},
     "output_type": "display_data"
    }
   ],
   "source": [
    "# 导入matplotlib用于绘图\n",
    "import matplotlib.pyplot as plt\n",
    "import matplotlib\n",
    "# 设置中文字体，解决中文显示问题\n",
    "matplotlib.rcParams['font.sans-serif'] = ['SimHei']  # 使用黑体\n",
    "matplotlib.rcParams['axes.unicode_minus'] = False  # 解决负号显示问题\n",
    "\n",
    "# 创建一个3行5列的图表来显示前15个样本\n",
    "plt.figure(figsize=(15, 9))  # 设置图表大小\n",
    "\n",
    "# 遍历前15个样本\n",
    "for i in range(15):\n",
    "    # 创建子图\n",
    "    plt.subplot(3, 5, i + 1)\n",
    "    \n",
    "    # 显示图像\n",
    "    plt.imshow(train_images[i], cmap='gray')\n",
    "    \n",
    "    # 添加标题（显示类别名称）\n",
    "    plt.title(class_names[train_labels[i]], fontsize=10)\n",
    "    \n",
    "    # 关闭坐标轴\n",
    "    plt.axis('off')\n",
    "\n",
    "# 调整子图之间的间距\n",
    "plt.tight_layout()\n",
    "\n",
    "# 显示图表\n",
    "plt.show()\n"
   ]
  },
  {
   "cell_type": "code",
   "execution_count": 28,
   "metadata": {
    "ExecuteTime": {
     "end_time": "2025-06-26T09:39:12.990301Z",
     "start_time": "2025-06-26T09:39:12.983451Z"
    }
   },
   "outputs": [
    {
     "data": {
      "text/plain": [
       "torch.Size([28, 28])"
      ]
     },
     "execution_count": 28,
     "metadata": {},
     "output_type": "execute_result"
    }
   ],
   "source": [
    "train_dataset[0][0].squeeze().shape"
   ]
  },
  {
   "cell_type": "code",
   "execution_count": 29,
   "metadata": {
    "ExecuteTime": {
     "end_time": "2025-06-26T09:39:13.359885Z",
     "start_time": "2025-06-26T09:39:12.991833Z"
    }
   },
   "outputs": [
    {
     "data": {
      "image/png": "[encoded data removed]",
      "text/plain": [
       "<Figure size 1500x900 with 15 Axes>"
      ]
     },
     "metadata": {},
     "output_type": "display_data"
    }
   ],
   "source": [
    "# 创建一个3行5列的图表来显示train_dataset中的前15个样本\n",
    "plt.figure(figsize=(15, 9))  # 设置图表大小\n",
    "\n",
    "# 遍历前15个样本\n",
    "for i in range(15):\n",
    "    # 获取数据和标签\n",
    "    img, label = train_dataset[i]\n",
    "    \n",
    "    # 创建子图\n",
    "    plt.subplot(3, 5, i + 1)\n",
    "    \n",
    "    # 将张量转换为numpy数组并显示图像,squeeze()是用来去掉张量中维度为1的维度\n",
    "    plt.imshow(img.squeeze().numpy(), cmap='gray')\n",
    "    \n",
    "    # 添加标题（显示类别名称）\n",
    "    plt.title(class_names[label], fontsize=10)\n",
    "    \n",
    "    # 关闭坐标轴\n",
    "    plt.axis('off')\n",
    "\n",
    "# 调整子图之间的间距\n",
    "plt.tight_layout()\n",
    "\n",
    "# 显示图表\n",
    "plt.show()\n"
   ]
  },
  {
   "cell_type": "markdown",
   "metadata": {},
   "source": [
    "# 把数据集划分为训练集55000和验证集5000，并给DataLoader"
   ]
  },
  {
   "cell_type": "code",
   "execution_count": 30,
   "metadata": {
    "ExecuteTime": {
     "end_time": "2025-06-26T09:39:13.370295Z",
     "start_time": "2025-06-26T09:39:13.360895Z"
    }
   },
   "outputs": [
    {
     "name": "stdout",
     "output_type": "stream",
     "text": [
      "训练集大小: 55000\n",
      "验证集大小: 5000\n",
      "测试集大小: 10000\n",
      "批次大小: 64\n",
      "训练批次数: 860\n"
     ]
    }
   ],
   "source": [
    "# 从训练集中划分出验证集\n",
    "train_size = 55000\n",
    "val_size = 5000\n",
    "# 设置随机种子以确保每次得到相同的随机划分结果\n",
    "generator = torch.Generator().manual_seed(42)\n",
    "train_subset, val_subset = torch.utils.data.random_split(\n",
    "    train_dataset, \n",
    "    [train_size, val_size],\n",
    "    generator=generator #设置随机种子，确保每次得到相同的随机划分结果\n",
    ")\n",
    "\n",
    "# 创建数据加载器\n",
    "batch_size = 64\n",
    "train_loader = torch.utils.data.DataLoader(\n",
    "    train_subset,\n",
    "    batch_size=batch_size,\n",
    "    shuffle=True #打乱数据集，每次迭代时，数据集的顺序都会被打乱\n",
    ")\n",
    "\n",
    "val_loader = torch.utils.data.DataLoader(\n",
    "    val_subset,\n",
    "    batch_size=batch_size,\n",
    "    shuffle=False\n",
    ")\n",
    "\n",
    "test_loader = torch.utils.data.DataLoader(\n",
    "    test_dataset,\n",
    "    batch_size=batch_size,\n",
    "    shuffle=False\n",
    ")\n",
    "\n",
    "# 打印数据集大小信息\n",
    "print(f\"训练集大小: {len(train_subset)}\")\n",
    "print(f\"验证集大小: {len(val_subset)}\")\n",
    "print(f\"测试集大小: {len(test_dataset)}\")\n",
    "print(f\"批次大小: {batch_size}\")\n",
    "print(f\"训练批次数: {len(train_loader)}\")\n"
   ]
  },
  {
   "cell_type": "code",
   "execution_count": 31,
   "metadata": {
    "ExecuteTime": {
     "end_time": "2025-06-26T09:39:13.376390Z",
     "start_time": "2025-06-26T09:39:13.371306Z"
    }
   },
   "outputs": [
    {
     "data": {
      "text/plain": [
       "55040"
      ]
     },
     "execution_count": 31,
     "metadata": {},
     "output_type": "execute_result"
    }
   ],
   "source": [
    "64*860"
   ]
  },
  {
   "cell_type": "markdown",
   "metadata": {},
   "source": [
    "# 搭建模型"
   ]
  },
  {
   "cell_type": "code",
   "execution_count": 32,
   "metadata": {
    "ExecuteTime": {
     "end_time": "2025-06-26T09:39:13.382773Z",
     "start_time": "2025-06-26T09:39:13.377408Z"
    }
   },
   "outputs": [],
   "source": [
    "import torch.nn as nn\n",
    "import torch.nn.functional as F\n",
    "\n",
    "class NeuralNetwork(nn.Module):\n",
    "    def __init__(self, layers_num=2):\n",
    "        super().__init__()\n",
    "        self.flatten = nn.Flatten() #Flatten是将多维张量展平成一维张量\n",
    "        # 多加几层\n",
    "        self.linear_relu_stack = nn.Sequential( #Sequential是顺序容器，将多个层按顺序组合成一个模型\n",
    "            nn.Linear(28 * 28, 100), # 输入层 -> 第一隐藏层 (28*28=784 -> 300)\n",
    "            nn.ReLU(), # 激活函数\n",
    "        )\n",
    "        # 加19层\n",
    "        for i in range(1, layers_num):\n",
    "            self.linear_relu_stack.add_module(f\"Linear_{i}\", nn.Linear(100, 100))\n",
    "            self.linear_relu_stack.add_module(f\"relu\", nn.ReLU())\n",
    "        # 输出层\n",
    "        self.linear_relu_stack.add_module(\"Output Layer\", nn.Linear(100, 10))\n",
    "        \n",
    "        # 初始化权重\n",
    "        # self.init_weights()\n",
    "        \n",
    "    def init_weights(self):\n",
    "        \"\"\"使用 xavier 均匀分布来初始化全连接层的权重 W\"\"\"\n",
    "        # print('''初始化权重''')\n",
    "        for m in self.modules():\n",
    "            # print(m)\n",
    "            # print('-'*50)\n",
    "            if isinstance(m, nn.Linear):#判断m是否为全连接层\n",
    "                # https://pytorch.org/docs/stable/nn.init.html\n",
    "                nn.init.xavier_uniform_(m.weight) # xavier 均匀分布初始化权重\n",
    "                nn.init.zeros_(m.bias) # 全零初始化偏置项\n",
    "        # print('''初始化权重完成''')\n",
    "    def forward(self, x):\n",
    "        # x.shape [batch size, 1, 28, 28]\n",
    "        x = self.flatten(x)  \n",
    "        # 展平后 x.shape [batch size, 28 * 28]\n",
    "        logits = self.linear_relu_stack(x)\n",
    "        # logits.shape [batch size, 10]\n",
    "        return logits\n"
   ]
  },
  {
   "cell_type": "code",
   "execution_count": 33,
   "metadata": {
    "ExecuteTime": {
     "end_time": "2025-06-26T09:39:13.431016Z",
     "start_time": "2025-06-26T09:39:13.384784Z"
    }
   },
   "outputs": [
    {
     "name": "stdout",
     "output_type": "stream",
     "text": [
      "批次图像形状: torch.Size([64, 1, 28, 28])\n",
      "批次标签形状: torch.Size([64])\n",
      "----------------------------------------------------------------------------------------------------\n"
     ]
    }
   ],
   "source": [
    "# 实例化模型\n",
    "model = NeuralNetwork()\n",
    "\n",
    "# 从train_loader获取第一个批次的数据\n",
    "dataiter = iter(train_loader)\n",
    "images, labels = next(dataiter)\n",
    "\n",
    "# 查看批次数据的形状\n",
    "print(\"批次图像形状:\", images.shape)\n",
    "print(\"批次标签形状:\", labels.shape)\n",
    "\n",
    "\n",
    "print('-'*100)\n",
    "# 进行前向传播\n",
    "with torch.no_grad():  # 不需要计算梯度\n",
    "    outputs = model(images)\n",
    "    \n",
    "\n",
    "\n"
   ]
  },
  {
   "cell_type": "code",
   "execution_count": 34,
   "metadata": {
    "ExecuteTime": {
     "end_time": "2025-06-26T09:39:13.454001Z",
     "start_time": "2025-06-26T09:39:13.432026Z"
    }
   },
   "outputs": [
    {
     "name": "stdout",
     "output_type": "stream",
     "text": [
      "批次图像形状: torch.Size([64, 1, 28, 28])\n",
      "批次标签形状: torch.Size([64])\n",
      "测试图像形状: torch.Size([1, 1, 28, 28])\n",
      "----------------------------------------------------------------------------------------------------\n",
      "模型预测结果: 5\n",
      "实际标签: 7\n"
     ]
    }
   ],
   "source": [
    "# 实例化模型\n",
    "model = NeuralNetwork()\n",
    "\n",
    "# 从train_loader获取第一个批次的数据\n",
    "dataiter = iter(train_loader)\n",
    "images, labels = next(dataiter)\n",
    "\n",
    "# 查看批次数据的形状\n",
    "print(\"批次图像形状:\", images.shape)\n",
    "print(\"批次标签形状:\", labels.shape)\n",
    "\n",
    "# # 选择第一张图像进行前向传播测试,unsqueeze(0)是添加批次维度\n",
    "test_image = images[0].unsqueeze(0)  # 添加批次维度\n",
    "print(\"测试图像形状:\", test_image.shape)\n",
    "\n",
    "print('-'*100)\n",
    "# 进行前向传播\n",
    "with torch.no_grad():  # 不需要计算梯度\n",
    "    outputs = model(test_image)\n",
    "    \n",
    "# 获取预测结果\n",
    "_, predicted = torch.max(outputs, 1)\n",
    "print(\"模型预测结果:\", predicted.item())\n",
    "print(\"实际标签:\", labels[0].item())\n",
    "\n",
    "\n"
   ]
  },
  {
   "cell_type": "code",
   "execution_count": 35,
   "metadata": {
    "ExecuteTime": {
     "end_time": "2025-06-26T09:39:13.460440Z",
     "start_time": "2025-06-26T09:39:13.455010Z"
    }
   },
   "outputs": [
    {
     "name": "stdout",
     "output_type": "stream",
     "text": [
      "模型总参数量: 89610\n",
      "\n",
      "各层参数量明细:\n",
      "linear_relu_stack.0.weight: 78400 参数\n",
      "linear_relu_stack.0.bias: 100 参数\n",
      "linear_relu_stack.Linear_1.weight: 10000 参数\n",
      "linear_relu_stack.Linear_1.bias: 100 参数\n",
      "linear_relu_stack.Output Layer.weight: 1000 参数\n",
      "linear_relu_stack.Output Layer.bias: 10 参数\n"
     ]
    }
   ],
   "source": [
    "# 计算模型的总参数量\n",
    "total_params = sum(p.numel() for p in model.parameters())\n",
    "print(f\"模型总参数量: {total_params}\")\n",
    "\n",
    "# 查看每层参数量明细\n",
    "print(\"\\n各层参数量明细:\")\n",
    "for name, param in model.named_parameters():\n",
    "    print(f\"{name}: {param.numel()} 参数\")\n"
   ]
  },
  {
   "cell_type": "code",
   "execution_count": 36,
   "metadata": {
    "ExecuteTime": {
     "end_time": "2025-06-26T09:39:13.477021Z",
     "start_time": "2025-06-26T09:39:13.461497Z"
    }
   },
   "outputs": [
    {
     "data": {
      "text/plain": [
       "OrderedDict([('linear_relu_stack.0.weight',\n",
       "              tensor([[-0.0152,  0.0085,  0.0012,  ...,  0.0039,  0.0015, -0.0303],\n",
       "                      [ 0.0260, -0.0050,  0.0354,  ..., -0.0279,  0.0286,  0.0124],\n",
       "                      [-0.0334, -0.0110, -0.0159,  ...,  0.0038, -0.0092, -0.0252],\n",
       "                      ...,\n",
       "                      [ 0.0127, -0.0107, -0.0109,  ...,  0.0006, -0.0148, -0.0254],\n",
       "                      [ 0.0013, -0.0282,  0.0237,  ..., -0.0222, -0.0009,  0.0120],\n",
       "                      [ 0.0218,  0.0126,  0.0350,  ...,  0.0278,  0.0037, -0.0126]])),\n",
       "             ('linear_relu_stack.0.bias',\n",
       "              tensor([-0.0260, -0.0339,  0.0014,  0.0301,  0.0222, -0.0148, -0.0222,  0.0214,\n",
       "                       0.0040,  0.0281,  0.0211, -0.0237,  0.0162, -0.0089,  0.0010, -0.0108,\n",
       "                       0.0028, -0.0007,  0.0059,  0.0115,  0.0284,  0.0074, -0.0170,  0.0035,\n",
       "                      -0.0165,  0.0346, -0.0351,  0.0104,  0.0196, -0.0126,  0.0189, -0.0235,\n",
       "                       0.0017, -0.0251,  0.0278,  0.0149,  0.0012,  0.0104,  0.0032, -0.0236,\n",
       "                      -0.0075,  0.0267,  0.0030,  0.0266, -0.0066,  0.0192,  0.0317,  0.0313,\n",
       "                      -0.0354,  0.0012,  0.0101,  0.0054,  0.0315,  0.0188, -0.0353, -0.0036,\n",
       "                       0.0219, -0.0085, -0.0205, -0.0058, -0.0091, -0.0089, -0.0130, -0.0270,\n",
       "                       0.0128,  0.0005,  0.0326,  0.0116,  0.0249, -0.0027,  0.0106, -0.0356,\n",
       "                       0.0217,  0.0006,  0.0044,  0.0193, -0.0198, -0.0206,  0.0204, -0.0168,\n",
       "                      -0.0110,  0.0020,  0.0323,  0.0328,  0.0093,  0.0178, -0.0029,  0.0197,\n",
       "                       0.0022, -0.0339, -0.0108, -0.0148, -0.0065,  0.0114, -0.0189,  0.0193,\n",
       "                      -0.0247, -0.0118,  0.0243,  0.0124])),\n",
       "             ('linear_relu_stack.Linear_1.weight',\n",
       "              tensor([[-0.0974, -0.0640,  0.0369,  ...,  0.0909,  0.0197,  0.0156],\n",
       "                      [ 0.0969, -0.0178,  0.0989,  ..., -0.0799, -0.0455, -0.0680],\n",
       "                      [-0.0720,  0.0109, -0.0331,  ..., -0.0517,  0.0794, -0.0811],\n",
       "                      ...,\n",
       "                      [-0.0526,  0.0635, -0.0727,  ..., -0.0764,  0.0401,  0.0837],\n",
       "                      [-0.0584, -0.0495,  0.0261,  ..., -0.0867, -0.0779, -0.0458],\n",
       "                      [ 0.0491,  0.0047,  0.0107,  ..., -0.0931,  0.0995, -0.0079]])),\n",
       "             ('linear_relu_stack.Linear_1.bias',\n",
       "              tensor([ 0.0128,  0.0065, -0.0484,  0.0617,  0.0101,  0.0488,  0.0729,  0.0373,\n",
       "                      -0.0058,  0.0361, -0.0546,  0.0729, -0.0689, -0.0554,  0.0411,  0.0054,\n",
       "                       0.0418,  0.0255, -0.0014,  0.0420,  0.0965,  0.0597,  0.0697, -0.0904,\n",
       "                      -0.0361, -0.0180, -0.0785, -0.0392, -0.0761,  0.0857,  0.0033,  0.0801,\n",
       "                       0.0647,  0.0354, -0.0689,  0.0154,  0.0219, -0.0812, -0.0043, -0.0291,\n",
       "                      -0.0230, -0.0525, -0.0180, -0.0896,  0.0068, -0.0193,  0.0975, -0.0940,\n",
       "                      -0.0480, -0.0792,  0.0994, -0.0255, -0.0394, -0.0906,  0.0015, -0.0332,\n",
       "                      -0.0007,  0.0957, -0.0560, -0.0708,  0.0137,  0.0402, -0.0352,  0.0933,\n",
       "                       0.0923, -0.0024,  0.0244,  0.0823, -0.0548,  0.0593, -0.0791,  0.0592,\n",
       "                      -0.0031,  0.0050, -0.0190, -0.0821, -0.0343, -0.0412, -0.0496, -0.0763,\n",
       "                      -0.0263, -0.0710,  0.0371, -0.0286, -0.0526, -0.0851, -0.0510,  0.0427,\n",
       "                      -0.0557,  0.0541,  0.0620, -0.0599, -0.0677, -0.0733,  0.0253,  0.0998,\n",
       "                       0.0780, -0.0136, -0.0212, -0.0665])),\n",
       "             ('linear_relu_stack.Output Layer.weight',\n",
       "              tensor([[ 1.4643e-02, -7.8628e-02,  4.8224e-02, -3.7459e-02,  2.7574e-02,\n",
       "                       -2.2586e-02, -6.7829e-02, -3.1278e-02,  2.0711e-02, -7.7772e-02,\n",
       "                       -7.8974e-02, -9.8273e-02, -8.5647e-02, -5.5826e-02,  1.9721e-02,\n",
       "                       -6.1322e-02,  2.4365e-02,  4.8226e-02,  4.2953e-02, -4.1506e-02,\n",
       "                       -6.3502e-02,  8.3347e-02,  5.9334e-02,  9.0683e-02, -3.4763e-02,\n",
       "                       -8.4864e-02,  6.4769e-02, -4.2956e-02, -6.4653e-03, -6.8558e-02,\n",
       "                        7.2099e-02, -2.4492e-02,  4.9145e-02,  4.2525e-02,  2.1117e-02,\n",
       "                       -2.4059e-02,  1.7737e-02, -1.5314e-02, -1.7870e-02,  4.4661e-02,\n",
       "                        6.0321e-02, -8.6318e-02, -2.8050e-04, -2.9702e-02,  8.9472e-02,\n",
       "                       -5.9857e-02,  3.6488e-02, -2.5787e-03, -6.6973e-02,  5.8110e-02,\n",
       "                        8.6663e-02, -5.6591e-02, -7.7404e-02,  7.8141e-02,  5.1812e-02,\n",
       "                        8.3266e-02,  8.6175e-02,  1.0320e-02,  9.6867e-02, -1.0080e-02,\n",
       "                       -9.6341e-02, -7.2442e-02,  5.1363e-02,  7.4218e-02, -1.0426e-02,\n",
       "                       -5.0387e-02, -9.0543e-02, -6.3040e-02,  2.0525e-02, -2.8112e-02,\n",
       "                       -8.9605e-02, -5.8236e-02,  5.5285e-02, -2.0788e-02,  7.0428e-02,\n",
       "                       -3.2789e-02, -4.8970e-02, -1.3847e-02, -8.4747e-02, -5.5937e-02,\n",
       "                       -4.4553e-04, -5.9086e-02, -8.6689e-02, -3.1479e-02,  3.1385e-02,\n",
       "                       -9.4672e-04,  1.9210e-02, -5.3361e-02,  8.7364e-02, -5.9070e-02,\n",
       "                       -2.1238e-02, -7.1396e-02,  7.5250e-02,  2.9915e-02,  5.5154e-02,\n",
       "                        1.2032e-02, -4.6117e-02,  7.7723e-02,  5.7392e-02,  1.2212e-02],\n",
       "                      [ 4.3601e-03, -7.0000e-02, -1.8339e-02,  9.0064e-02, -1.2235e-02,\n",
       "                       -9.1429e-02, -2.2194e-02, -2.1858e-02, -5.8827e-02,  1.1924e-02,\n",
       "                        4.1792e-02,  9.3657e-02,  7.2678e-03, -6.8412e-02,  8.7679e-02,\n",
       "                        9.8265e-02,  1.9911e-02,  8.4520e-02, -2.1495e-02,  1.2185e-02,\n",
       "                        1.6624e-02,  2.1548e-02,  5.3294e-02, -3.2523e-02, -3.1148e-02,\n",
       "                       -9.9634e-02,  4.2698e-02, -6.7995e-02,  9.7534e-02, -3.2255e-02,\n",
       "                       -2.5442e-02, -1.5327e-02, -6.5890e-02, -1.7582e-02, -8.8111e-05,\n",
       "                       -5.0894e-02, -4.9427e-03,  7.8904e-02, -7.6853e-02,  5.9213e-02,\n",
       "                       -6.4826e-02, -9.2095e-02,  5.0615e-02,  4.4872e-02, -2.2718e-02,\n",
       "                       -5.2581e-02, -3.0979e-04, -8.5066e-03, -7.8523e-02, -2.7244e-02,\n",
       "                        6.7348e-02,  3.7032e-02,  4.0021e-02,  1.0760e-02,  2.6038e-02,\n",
       "                        9.9282e-02,  1.4987e-02,  3.0010e-02,  1.4299e-02, -1.5192e-03,\n",
       "                       -9.9140e-04,  1.7905e-02,  7.2504e-02, -4.7067e-02,  5.0343e-02,\n",
       "                       -4.4839e-02, -8.7408e-02,  5.2464e-02,  4.6208e-02,  8.7145e-02,\n",
       "                        3.7997e-02, -9.8844e-02,  5.1062e-02, -5.6584e-02, -8.5511e-02,\n",
       "                        7.2933e-02, -1.8824e-02, -3.0276e-02,  8.2319e-02, -1.4001e-02,\n",
       "                       -8.8910e-02, -4.7473e-02, -7.9192e-02,  1.4704e-02,  6.2663e-02,\n",
       "                       -5.2536e-02, -4.7590e-02, -9.8823e-02,  4.9884e-02,  4.2631e-02,\n",
       "                       -5.1823e-02,  9.6424e-02, -7.0697e-02, -5.2277e-02,  7.1133e-02,\n",
       "                        6.4678e-02, -3.7071e-02,  2.7454e-02, -2.3397e-02,  2.5883e-02],\n",
       "                      [ 1.5819e-02, -9.5102e-02, -7.5208e-02,  9.3330e-02, -2.8878e-02,\n",
       "                        8.4831e-02,  3.9646e-03,  4.3881e-02, -6.3651e-02,  8.7994e-02,\n",
       "                       -2.8719e-02, -8.1988e-02, -6.1427e-02,  2.1024e-02, -8.1866e-02,\n",
       "                       -6.4827e-02,  1.4074e-02, -1.9449e-02,  5.2388e-02, -7.4844e-02,\n",
       "                       -4.9738e-02, -3.6368e-02,  9.3070e-02,  1.0159e-02, -9.5083e-02,\n",
       "                        5.6682e-02,  5.4154e-02,  8.7862e-02,  8.7802e-03, -1.4548e-02,\n",
       "                        1.8659e-02,  1.3713e-02,  3.7553e-02, -7.0134e-02, -8.1684e-04,\n",
       "                        1.0771e-02,  4.3945e-02, -6.8031e-02,  7.6667e-02, -4.2860e-03,\n",
       "                        3.6766e-02,  6.9840e-03, -6.4064e-03, -8.2041e-02,  5.9836e-02,\n",
       "                        8.0111e-02, -7.8487e-02,  1.2857e-02,  8.4470e-02, -3.4924e-02,\n",
       "                       -1.4303e-02, -1.6543e-02, -6.4513e-02, -3.7695e-03, -1.3610e-02,\n",
       "                        8.4160e-02,  2.8868e-02, -1.4837e-02, -6.5279e-02,  7.7062e-02,\n",
       "                       -4.0750e-02,  5.5147e-02, -5.9019e-03, -6.2276e-02, -6.5364e-03,\n",
       "                       -8.7579e-02, -1.6622e-02,  1.2115e-02,  9.1155e-02, -8.6185e-02,\n",
       "                        2.2511e-02, -4.4968e-02,  9.2974e-02,  4.7261e-02, -1.4772e-03,\n",
       "                       -2.2334e-02, -1.8704e-02, -1.0753e-02,  6.2493e-02, -8.7819e-02,\n",
       "                       -7.6426e-02, -7.6320e-03,  3.7182e-02, -4.6503e-02, -1.1125e-02,\n",
       "                        8.7494e-04,  7.8906e-02, -8.5019e-02,  5.5253e-02,  3.6020e-02,\n",
       "                       -4.4218e-02, -5.8652e-02,  1.5812e-02, -2.6196e-02,  2.1044e-02,\n",
       "                       -8.9023e-03, -7.4257e-02,  2.8905e-02, -3.1975e-02, -9.5147e-02],\n",
       "                      [-7.9070e-02, -6.9993e-02,  4.9732e-02,  6.4326e-02, -3.5924e-02,\n",
       "                        6.3724e-03,  6.5147e-02,  8.1165e-02, -1.9278e-04,  7.1320e-02,\n",
       "                       -5.1091e-02,  6.9215e-03,  7.8362e-02, -7.7056e-02, -3.3948e-02,\n",
       "                        8.4506e-02, -5.3953e-02, -3.1282e-03,  7.0720e-02, -3.3388e-02,\n",
       "                        1.4477e-02, -3.4417e-03, -3.3661e-02, -2.8632e-02,  5.6415e-02,\n",
       "                        6.2056e-02,  5.1810e-02,  1.0286e-02, -3.2803e-02, -6.6049e-02,\n",
       "                       -8.3803e-02, -3.2134e-02,  9.1169e-02, -3.5723e-02, -8.2492e-02,\n",
       "                       -4.7614e-02, -3.4447e-02,  2.1949e-02,  8.5239e-02,  1.1209e-02,\n",
       "                       -4.0045e-02,  2.5484e-02, -6.4223e-02, -4.2299e-02, -4.8268e-02,\n",
       "                       -8.0428e-02,  6.3452e-02, -5.9258e-03,  9.9002e-02,  5.3179e-02,\n",
       "                        8.9233e-02,  1.1317e-02, -5.4412e-02, -3.8475e-02,  1.4637e-02,\n",
       "                       -2.1848e-02,  3.7632e-02,  8.6233e-02,  8.3161e-02, -9.2974e-02,\n",
       "                        9.9527e-02,  9.7310e-02,  2.5364e-02,  1.7575e-02,  3.4624e-02,\n",
       "                       -8.6501e-02,  6.8857e-02, -8.8866e-02, -5.5043e-02,  7.4602e-02,\n",
       "                        6.9846e-02,  4.1053e-02,  6.3691e-02,  7.5819e-02,  4.9011e-03,\n",
       "                        9.4067e-02,  6.9883e-02,  2.4337e-02, -4.2160e-02,  9.5648e-02,\n",
       "                        4.8437e-02, -4.9696e-02,  9.1432e-02, -7.4532e-02,  1.3941e-02,\n",
       "                       -1.8091e-02,  5.5193e-02,  6.9448e-02, -5.0130e-02, -6.8708e-02,\n",
       "                       -3.2954e-02,  7.6158e-02, -8.9983e-02,  1.7104e-02,  6.8508e-02,\n",
       "                       -4.5878e-02, -7.4490e-02, -8.9394e-02,  1.1481e-02, -9.9341e-02],\n",
       "                      [-4.7239e-02, -6.5816e-02,  1.2902e-02,  1.4485e-02, -9.5481e-02,\n",
       "                       -8.2552e-02,  2.1122e-02, -2.2779e-02,  8.1787e-03,  9.5846e-03,\n",
       "                        3.8024e-03,  5.8203e-02,  9.8753e-02,  4.2656e-02,  1.0550e-02,\n",
       "                        8.1675e-02, -1.6899e-02, -9.0953e-02, -8.3376e-02, -7.3724e-02,\n",
       "                       -4.3704e-02,  3.8908e-02,  4.3825e-02,  5.6712e-02, -8.8604e-02,\n",
       "                       -4.0057e-02,  2.8831e-02,  3.3949e-02, -2.2545e-02,  7.2858e-02,\n",
       "                       -4.9770e-02, -2.1386e-02, -3.2849e-02,  8.7698e-02, -8.9492e-02,\n",
       "                        8.1044e-02,  5.4122e-02, -8.9485e-02, -1.2941e-03,  6.7246e-02,\n",
       "                        3.8157e-02, -7.6838e-02, -7.6396e-02,  4.4717e-02, -5.7587e-02,\n",
       "                        8.1405e-02,  4.0347e-02, -7.5729e-02, -1.6798e-02, -8.6517e-02,\n",
       "                        5.4029e-02,  8.4939e-02, -9.8730e-02, -3.0611e-02, -9.0565e-03,\n",
       "                       -5.2246e-03,  8.8994e-02, -7.1180e-02, -6.2263e-02, -8.4991e-02,\n",
       "                       -1.5549e-02,  9.1235e-02,  1.8655e-02,  2.0649e-03,  4.7834e-02,\n",
       "                       -7.0388e-03, -3.6238e-02,  7.1925e-02, -1.6915e-02, -6.7483e-02,\n",
       "                        3.7513e-02,  4.2677e-02,  9.0153e-03, -1.1477e-02,  7.7543e-02,\n",
       "                       -2.5869e-02, -3.6391e-02,  5.0149e-02,  8.7983e-02, -5.3407e-02,\n",
       "                        6.6241e-02, -1.9870e-03, -5.7022e-02, -9.1806e-02,  6.1198e-02,\n",
       "                        5.3473e-02,  3.5214e-02, -3.7783e-02, -4.5391e-03,  9.5100e-02,\n",
       "                       -7.8862e-02,  3.5064e-02, -8.5467e-02, -8.4147e-03,  7.1059e-02,\n",
       "                        1.4742e-02,  3.7000e-04,  1.4420e-02,  1.8395e-02, -2.6047e-02],\n",
       "                      [ 9.8506e-02,  8.4075e-02,  9.0584e-02,  8.5064e-02, -2.3075e-02,\n",
       "                       -3.8497e-02, -1.9162e-02,  5.8685e-02,  7.4280e-02, -5.1261e-02,\n",
       "                        4.2429e-02,  3.8420e-02, -3.9999e-02, -6.2476e-02,  1.2473e-02,\n",
       "                        5.4651e-02, -3.0319e-02, -8.6560e-02,  7.4282e-02, -1.0210e-02,\n",
       "                        4.4793e-04, -1.4698e-02, -3.4444e-02,  8.6336e-02,  8.4017e-02,\n",
       "                       -7.3647e-02,  1.0269e-02,  5.4445e-02, -5.8799e-02, -9.6188e-02,\n",
       "                        7.3160e-02,  3.9167e-02,  7.5136e-02,  3.2995e-02,  4.2307e-02,\n",
       "                        1.6146e-03, -4.0781e-02,  7.3970e-02, -9.2112e-02, -1.3460e-02,\n",
       "                       -2.6817e-02,  4.4734e-02,  8.7221e-02, -3.6173e-02,  6.0324e-02,\n",
       "                       -4.2200e-02,  5.2461e-02, -9.0738e-02, -9.6540e-02,  7.6210e-02,\n",
       "                        5.9186e-02, -4.1804e-02, -8.3510e-02, -8.1161e-03,  6.6547e-02,\n",
       "                        3.3107e-03,  7.9722e-02, -2.2287e-02, -3.7439e-02, -4.4625e-02,\n",
       "                        2.0286e-02, -1.0912e-02, -3.3682e-02, -2.0070e-02,  1.4399e-02,\n",
       "                       -3.6433e-02,  2.9264e-02,  2.0306e-04, -7.9508e-02,  5.9829e-02,\n",
       "                        1.2631e-02,  7.5902e-02, -8.5406e-02, -4.1784e-02, -1.7178e-02,\n",
       "                       -9.0316e-02, -9.4642e-02,  9.1028e-02,  9.1686e-02,  1.6870e-02,\n",
       "                        5.2469e-02,  4.3998e-02, -6.3407e-02,  9.8486e-02, -5.4592e-02,\n",
       "                       -8.2359e-02,  3.0370e-02,  8.4767e-02,  7.1098e-02,  2.0991e-02,\n",
       "                        9.4517e-02,  9.6574e-02,  5.3937e-02, -3.6956e-02,  1.8019e-02,\n",
       "                        4.8050e-02,  9.1398e-02, -6.8055e-02, -8.7809e-03, -9.4847e-02],\n",
       "                      [ 1.1635e-02, -7.5628e-02, -5.4183e-02,  1.7539e-02,  3.6119e-02,\n",
       "                       -8.1437e-02, -1.2923e-02, -3.8672e-02,  3.2935e-02, -4.3607e-02,\n",
       "                       -7.9175e-02,  9.7950e-02,  7.9722e-02,  5.8585e-02,  5.4351e-02,\n",
       "                       -1.4785e-02, -5.5283e-02,  3.0468e-02,  4.7513e-02, -6.3212e-02,\n",
       "                        8.8489e-03,  8.8659e-02, -4.5821e-02, -1.6329e-02,  8.9680e-02,\n",
       "                       -1.6874e-02,  3.2190e-02,  4.0723e-02,  2.1949e-02, -1.5592e-02,\n",
       "                       -5.6130e-02,  7.2214e-02, -8.2901e-02,  4.7340e-03,  5.9088e-02,\n",
       "                        1.5185e-02, -2.8218e-02,  1.1647e-02,  3.5624e-02,  2.8029e-02,\n",
       "                        3.4348e-02, -5.5748e-02,  3.2932e-02, -5.7058e-02,  6.2465e-02,\n",
       "                        3.9370e-02,  3.6370e-02,  8.2178e-02, -6.6525e-02,  4.2604e-02,\n",
       "                        5.8137e-02, -6.6595e-02, -9.0456e-02, -6.1258e-02,  8.4913e-02,\n",
       "                       -4.3440e-02, -1.2638e-02, -5.4023e-02, -1.6961e-03,  1.4818e-02,\n",
       "                        3.5794e-02,  9.4556e-02, -1.4580e-02, -5.9446e-02,  8.1650e-02,\n",
       "                       -5.0245e-03,  1.6718e-02, -5.7755e-02,  7.1511e-02, -6.3456e-02,\n",
       "                        2.1299e-02,  5.2235e-02,  8.4079e-02,  1.1266e-02,  8.3082e-02,\n",
       "                       -2.5365e-02,  1.3842e-02, -4.3894e-02, -8.3260e-03,  5.0653e-02,\n",
       "                        8.8935e-02,  5.8740e-02,  7.2602e-02,  3.3813e-02,  1.2366e-02,\n",
       "                       -2.5255e-02,  8.6152e-02, -6.4631e-02, -1.2128e-02,  9.5357e-02,\n",
       "                       -7.2061e-02, -6.4670e-02, -9.7520e-02, -5.8338e-02,  5.1348e-02,\n",
       "                       -2.4992e-02, -7.2858e-02, -4.1698e-02,  8.1800e-02,  5.4459e-02],\n",
       "                      [-2.9251e-02, -1.1992e-02, -5.2093e-02,  8.4139e-02,  4.8968e-03,\n",
       "                       -3.6386e-02, -7.3926e-02, -8.6564e-02, -1.7460e-02,  3.7148e-02,\n",
       "                        6.1789e-02,  6.1705e-02, -8.7498e-02,  5.2952e-02,  7.5140e-02,\n",
       "                        3.5728e-03,  3.2979e-02,  8.0890e-02, -4.4666e-02,  5.6015e-02,\n",
       "                       -6.9509e-02,  8.8861e-02, -8.0115e-02,  2.0591e-02,  6.9662e-02,\n",
       "                        5.7705e-02, -8.9950e-02, -9.1086e-02,  3.4800e-02, -3.1765e-02,\n",
       "                       -8.8313e-03,  3.8431e-02,  7.9372e-02, -4.5686e-02,  9.7650e-02,\n",
       "                       -8.9658e-02, -4.2684e-02, -3.5933e-02, -1.4524e-02, -4.4531e-02,\n",
       "                        8.1633e-02,  3.9087e-02, -9.0306e-03, -8.5789e-02, -6.6510e-02,\n",
       "                       -5.2499e-02, -7.1632e-02, -2.2968e-02,  4.3771e-02, -4.8472e-02,\n",
       "                        6.2061e-03, -4.2758e-02, -2.1256e-02, -9.4718e-02, -6.9185e-02,\n",
       "                        4.2079e-02,  7.2167e-04, -9.9604e-02,  9.2774e-02,  2.9990e-02,\n",
       "                       -3.6589e-02,  2.0666e-02,  6.9323e-02, -8.8926e-02, -9.4300e-02,\n",
       "                       -3.2036e-03, -9.8432e-02, -2.5896e-02, -7.7315e-02, -6.2576e-02,\n",
       "                       -8.9490e-02, -6.3314e-02, -4.7164e-02,  7.7379e-02, -4.7812e-02,\n",
       "                       -4.7150e-02,  4.9363e-02,  2.5746e-02,  6.3354e-02,  8.8712e-02,\n",
       "                       -9.5599e-02,  5.0002e-02, -6.4439e-02,  9.2254e-02,  8.9585e-02,\n",
       "                        7.8182e-02,  5.7903e-02, -1.7795e-02, -2.7023e-03, -5.0668e-02,\n",
       "                       -9.4312e-02, -2.1834e-02,  5.4562e-02, -9.5630e-03, -3.2492e-02,\n",
       "                        2.3942e-02,  7.9148e-02, -9.5336e-02, -7.4956e-02, -7.6592e-02],\n",
       "                      [-1.2541e-02, -2.4447e-02,  5.5640e-02, -1.2466e-02, -7.6950e-02,\n",
       "                       -7.6956e-02, -3.9284e-02, -1.8703e-02,  6.5213e-02, -4.7117e-02,\n",
       "                       -4.7587e-02,  3.7435e-02,  9.7807e-02, -5.1111e-02, -7.7173e-02,\n",
       "                        4.5972e-02, -2.9654e-02, -9.5765e-02, -1.7301e-02, -8.6680e-02,\n",
       "                       -4.4699e-03, -2.9334e-02, -8.0473e-02, -6.2496e-03, -4.8171e-02,\n",
       "                       -6.4603e-02, -9.9474e-02,  7.7935e-02,  4.9634e-02, -8.1176e-02,\n",
       "                       -6.7199e-02,  7.7728e-02, -6.2464e-02, -4.5327e-02, -9.3525e-02,\n",
       "                       -9.7983e-02, -8.8865e-02,  3.2469e-02,  3.3546e-02, -2.0565e-02,\n",
       "                       -4.3722e-02,  8.3030e-02, -1.1701e-02, -7.0474e-02, -9.7507e-02,\n",
       "                       -1.2872e-02, -2.7292e-02,  3.4998e-02,  7.2372e-02,  5.5390e-02,\n",
       "                       -5.2641e-02, -8.5557e-02,  9.2174e-02,  5.4356e-02, -3.9475e-02,\n",
       "                       -6.3399e-02, -1.7693e-02,  4.6040e-02,  2.2508e-02, -5.5483e-02,\n",
       "                       -6.5074e-02,  7.8020e-02,  2.1312e-04, -3.9772e-02,  4.6839e-02,\n",
       "                       -4.6794e-02,  4.6364e-02,  9.4328e-02, -1.3780e-02,  2.1171e-02,\n",
       "                       -1.6531e-02, -7.7803e-02,  5.4610e-02,  6.1766e-03, -9.4980e-02,\n",
       "                        9.0278e-03, -7.4855e-02, -6.5590e-02,  4.3626e-02, -1.7551e-02,\n",
       "                        6.0489e-03,  2.3492e-02,  5.7091e-02, -9.8772e-02,  9.8042e-02,\n",
       "                        3.9508e-02,  1.7752e-02, -5.7387e-02,  2.7044e-02,  9.9419e-02,\n",
       "                       -1.2468e-02, -9.0340e-02, -4.8080e-02, -8.9027e-02, -6.9460e-02,\n",
       "                        9.4915e-02, -6.8021e-02, -3.8977e-02,  9.4306e-02,  8.1258e-02],\n",
       "                      [ 8.8367e-02,  2.9693e-02,  1.4652e-03, -2.7835e-02,  1.6586e-02,\n",
       "                       -2.4440e-03,  9.1867e-02,  2.0637e-02, -4.3365e-02, -6.2561e-02,\n",
       "                        1.4869e-02, -8.6326e-02, -6.4110e-02, -8.2361e-02, -8.0927e-02,\n",
       "                       -1.6720e-02,  5.4458e-02,  6.8902e-02,  4.6198e-03,  7.9544e-02,\n",
       "                       -7.9618e-02, -4.4684e-03, -8.2406e-02,  7.0810e-02, -8.0208e-02,\n",
       "                        4.0210e-02,  5.3867e-02, -3.5815e-02,  9.3331e-02,  7.7989e-02,\n",
       "                        6.7844e-02,  5.9716e-02,  9.4748e-03,  8.9245e-02, -8.6290e-02,\n",
       "                       -3.5367e-02, -1.2192e-02, -6.4332e-02,  6.2527e-02, -9.5467e-02,\n",
       "                        8.4328e-03,  1.7855e-02, -4.2436e-02, -4.2426e-02,  1.8766e-02,\n",
       "                       -1.3164e-02,  8.5661e-02,  2.8151e-02, -9.6716e-02,  1.6453e-03,\n",
       "                       -9.2629e-02, -8.5829e-03, -9.7767e-02,  7.4327e-02,  4.2536e-03,\n",
       "                        1.6831e-02, -6.0667e-02, -3.1654e-02, -9.4360e-02,  1.0148e-03,\n",
       "                       -9.2834e-02,  8.4470e-02,  8.8248e-02, -1.8611e-02,  4.9744e-02,\n",
       "                       -5.1349e-02,  2.0083e-02,  1.5349e-02,  4.7692e-02,  6.7280e-03,\n",
       "                        9.7841e-02,  4.2618e-02,  1.8079e-02,  5.4230e-02,  2.4424e-02,\n",
       "                        3.8812e-03,  4.0138e-02, -4.2747e-02,  8.0741e-02,  7.2317e-02,\n",
       "                        4.7651e-02, -7.6353e-02,  9.7219e-02, -8.6783e-02, -4.8517e-03,\n",
       "                        6.1982e-02,  1.9004e-02,  3.8189e-02,  8.6368e-02,  8.6718e-03,\n",
       "                       -3.0220e-02, -8.9244e-02,  1.5389e-02, -1.5408e-02, -1.0324e-02,\n",
       "                        4.8417e-03,  3.3146e-02, -7.9836e-02,  7.5498e-02,  1.2504e-02]])),\n",
       "             ('linear_relu_stack.Output Layer.bias',\n",
       "              tensor([ 0.0080,  0.0998, -0.0488, -0.0679, -0.0714,  0.0025, -0.0201, -0.0082,\n",
       "                      -0.0715, -0.0279]))])"
      ]
     },
     "execution_count": 36,
     "metadata": {},
     "output_type": "execute_result"
    }
   ],
   "source": [
    "model.state_dict()"
   ]
  },
  {
   "cell_type": "code",
   "execution_count": 37,
   "metadata": {
    "ExecuteTime": {
     "end_time": "2025-06-26T09:39:13.649504Z",
     "start_time": "2025-06-26T09:39:13.477021Z"
    }
   },
   "outputs": [],
   "source": [
    "from torch.utils.tensorboard import SummaryWriter\n",
    "class TensorboardLogger:\n",
    "    \"\"\"\n",
    "    Tensorboard日志记录类：记录训练过程中的损失和准确率\n",
    "    \n",
    "    参数:\n",
    "        log_dir: 日志保存目录,log_dir的父目录不要有中文\n",
    "    \"\"\"\n",
    "    def __init__(self, log_dir='tensorboard_logs'):\n",
    "\n",
    "        import os\n",
    "        \n",
    "        # 确保日志目录存在\n",
    "        if not os.path.exists(log_dir):\n",
    "            os.makedirs(log_dir)\n",
    "            \n",
    "        self.writer = SummaryWriter(log_dir) # 实例化SummaryWriter, log_dir是log存放路径，flush_secs是每隔多少秒写入磁盘\n",
    "        \n",
    "    def log_training(self, epoch, train_loss, train_acc):\n",
    "        \"\"\"\n",
    "        记录训练数据\n",
    "        \n",
    "        参数:\n",
    "            epoch: 当前训练轮数\n",
    "            train_loss: 训练损失\n",
    "            train_acc: 训练准确率\n",
    "        \"\"\"\n",
    "        self.writer.add_scalar('训练/损失', train_loss, epoch)\n",
    "        self.writer.add_scalar('训练/准确率', train_acc, epoch)\n",
    "        \n",
    "    def log_validation(self, epoch, val_loss, val_acc):\n",
    "        \"\"\"\n",
    "        记录验证数据\n",
    "        \n",
    "        参数:\n",
    "            epoch: 当前训练轮数\n",
    "            val_loss: 验证损失\n",
    "            val_acc: 验证准确率\n",
    "        \"\"\"\n",
    "        self.writer.add_scalar('验证/损失', val_loss, epoch)\n",
    "        self.writer.add_scalar('验证/准确率', val_acc, epoch)\n",
    "    \n",
    "    def log_lr(self, epoch, lr):\n",
    "        \"\"\"\n",
    "        记录学习率\n",
    "        \n",
    "        参数:\n",
    "            epoch: 当前训练轮数\n",
    "            lr: 学习率\n",
    "        \"\"\"\n",
    "        self.writer.add_scalar('学习率', lr, epoch)\n",
    "        \n",
    "    def log_model_graph(self, model, images):\n",
    "        \"\"\"\n",
    "        记录模型结构图\n",
    "        \n",
    "        参数:\n",
    "            model: 模型\n",
    "            images: 输入图像样本\n",
    "        \"\"\"\n",
    "        self.writer.add_graph(model, images)\n",
    "        \n",
    "    def close(self):\n",
    "        \"\"\"\n",
    "        关闭Tensorboard写入器\n",
    "        \"\"\"\n",
    "        self.writer.close()\n"
   ]
  },
  {
   "cell_type": "markdown",
   "metadata": {},
   "source": [
    "# 设置交叉熵损失函数，SGD优化器"
   ]
  },
  {
   "cell_type": "code",
   "execution_count": 38,
   "metadata": {
    "ExecuteTime": {
     "end_time": "2025-06-26T09:39:13.656415Z",
     "start_time": "2025-06-26T09:39:13.650010Z"
    }
   },
   "outputs": [
    {
     "name": "stdout",
     "output_type": "stream",
     "text": [
      "损失函数: CrossEntropyLoss()\n",
      "优化器: SGD (\n",
      "Parameter Group 0\n",
      "    dampening: 0\n",
      "    differentiable: False\n",
      "    foreach: None\n",
      "    fused: None\n",
      "    lr: 0.01\n",
      "    maximize: False\n",
      "    momentum: 0.9\n",
      "    nesterov: False\n",
      "    weight_decay: 0\n",
      ")\n"
     ]
    }
   ],
   "source": [
    "model = NeuralNetwork()\n",
    "# 定义损失函数和优化器\n",
    "loss_fn = nn.CrossEntropyLoss()  # 交叉熵损失函数，适用于多分类问题，里边会做softmax，还有会把0-9标签转换成one-hot编码\n",
    "# 用少量样本就能更新权重，训练更快，且更容易跳出局部最优\n",
    "optimizer = torch.optim.SGD(model.parameters(), lr=0.01, momentum=0.9)  # SGD优化器，学习率为0.01，动量为0.9\n",
    "\n",
    "print(\"损失函数:\", loss_fn)\n",
    "print(\"优化器:\", optimizer)\n"
   ]
  },
  {
   "cell_type": "code",
   "execution_count": 40,
   "metadata": {
    "ExecuteTime": {
     "end_time": "2025-06-26T09:39:13.677359Z",
     "start_time": "2025-06-26T09:39:13.671206Z"
    }
   },
   "outputs": [],
   "source": [
    "model = NeuralNetwork()\n",
    "\n",
    "optimizer = torch.optim.SGD(model.parameters(), lr=0.01, momentum=0.9)  # SGD优化器，学习率为0.01，动量为0.9"
   ]
  },
  {
   "cell_type": "code",
   "execution_count": 41,
   "metadata": {
    "ExecuteTime": {
     "end_time": "2025-06-26T09:41:20.853030Z",
     "start_time": "2025-06-26T09:39:13.678403Z"
    }
   },
   "outputs": [
    {
     "name": "stdout",
     "output_type": "stream",
     "text": [
      "使用设备: cpu\n",
      "训练开始，共43000步\n"
     ]
    },
    {
     "data": {
      "application/vnd.jupyter.widget-view+json": {
       "model_id": "81f978e3273043d0b308131f8f5f667f",
       "version_major": 2,
       "version_minor": 0
      },
      "text/plain": [
       "  0%|          | 0/43000 [00:00<?, ?it/s]"
      ]
     },
     "metadata": {},
     "output_type": "display_data"
    },
    {
     "name": "stdout",
     "output_type": "stream",
     "text": [
      "早停触发! 最佳验证准确率: 89.0800\n",
      "早停: 在10500 步\n"
     ]
    }
   ],
   "source": [
    "device = torch.device(\"cuda:0\" if torch.cuda.is_available() else \"cpu\")\n",
    "print(f\"使用设备: {device}\")\n",
    "model = model.to(device) #将模型移动到GPU\n",
    "early_stopping=EarlyStopping(patience=5, delta=0.001)\n",
    "model_saver=ModelSaver(save_dir='model_weights', save_best_only=True)\n",
    "tensorboard_logger=TensorboardLogger(log_dir='logs')\n",
    "\n",
    "model, history = train_classification_model(model, train_loader, val_loader, loss_fn, optimizer, device, num_epochs=50, early_stopping=early_stopping, model_saver=model_saver, tensorboard_logger=tensorboard_logger)\n",
    "\n"
   ]
  },
  {
   "cell_type": "code",
   "execution_count": 42,
   "metadata": {
    "ExecuteTime": {
     "end_time": "2025-06-26T09:41:20.863067Z",
     "start_time": "2025-06-26T09:41:20.854042Z"
    }
   },
   "outputs": [
    {
     "data": {
      "text/plain": [
       "[{'loss': 0.2789500653743744, 'acc': 89.0625, 'step': 10401},\n",
       " {'loss': 0.1347443014383316, 'acc': 98.4375, 'step': 10402},\n",
       " {'loss': 0.1705838143825531, 'acc': 95.3125, 'step': 10403},\n",
       " {'loss': 0.1756800413131714, 'acc': 95.3125, 'step': 10404},\n",
       " {'loss': 0.1258005052804947, 'acc': 95.3125, 'step': 10405},\n",
       " {'loss': 0.17130491137504578, 'acc': 89.0625, 'step': 10406},\n",
       " {'loss': 0.25235873460769653, 'acc': 90.625, 'step': 10407},\n",
       " {'loss': 0.2065630406141281, 'acc': 90.625, 'step': 10408},\n",
       " {'loss': 0.13995720446109772, 'acc': 93.75, 'step': 10409},\n",
       " {'loss': 0.10385695844888687, 'acc': 96.875, 'step': 10410},\n",
       " {'loss': 0.16857267916202545, 'acc': 96.875, 'step': 10411},\n",
       " {'loss': 0.13178594410419464, 'acc': 96.875, 'step': 10412},\n",
       " {'loss': 0.48253145813941956, 'acc': 84.375, 'step': 10413},\n",
       " {'loss': 0.22823932766914368, 'acc': 93.75, 'step': 10414},\n",
       " {'loss': 0.24362516403198242, 'acc': 90.625, 'step': 10415},\n",
       " {'loss': 0.10882823914289474, 'acc': 95.3125, 'step': 10416},\n",
       " {'loss': 0.18035824596881866, 'acc': 92.1875, 'step': 10417},\n",
       " {'loss': 0.21803712844848633, 'acc': 92.1875, 'step': 10418},\n",
       " {'loss': 0.1979682445526123, 'acc': 93.75, 'step': 10419},\n",
       " {'loss': 0.13024409115314484, 'acc': 96.875, 'step': 10420},\n",
       " {'loss': 0.34646207094192505, 'acc': 87.5, 'step': 10421},\n",
       " {'loss': 0.17583639919757843, 'acc': 93.75, 'step': 10422},\n",
       " {'loss': 0.19338248670101166, 'acc': 93.75, 'step': 10423},\n",
       " {'loss': 0.1429973840713501, 'acc': 93.75, 'step': 10424},\n",
       " {'loss': 0.2925065755844116, 'acc': 89.0625, 'step': 10425},\n",
       " {'loss': 0.09946861118078232, 'acc': 96.875, 'step': 10426},\n",
       " {'loss': 0.19601018726825714, 'acc': 89.0625, 'step': 10427},\n",
       " {'loss': 0.23454391956329346, 'acc': 89.0625, 'step': 10428},\n",
       " {'loss': 0.24769484996795654, 'acc': 87.5, 'step': 10429},\n",
       " {'loss': 0.1798570603132248, 'acc': 93.75, 'step': 10430},\n",
       " {'loss': 0.15040504932403564, 'acc': 96.875, 'step': 10431},\n",
       " {'loss': 0.24554523825645447, 'acc': 89.0625, 'step': 10432},\n",
       " {'loss': 0.18912748992443085, 'acc': 93.75, 'step': 10433},\n",
       " {'loss': 0.2208150178194046, 'acc': 90.625, 'step': 10434},\n",
       " {'loss': 0.07349195331335068, 'acc': 98.4375, 'step': 10435},\n",
       " {'loss': 0.3265790641307831, 'acc': 87.5, 'step': 10436},\n",
       " {'loss': 0.4724002778530121, 'acc': 89.0625, 'step': 10437},\n",
       " {'loss': 0.09566675126552582, 'acc': 98.4375, 'step': 10438},\n",
       " {'loss': 0.10348393768072128, 'acc': 95.3125, 'step': 10439},\n",
       " {'loss': 0.13464026153087616, 'acc': 95.3125, 'step': 10440},\n",
       " {'loss': 0.16130724549293518, 'acc': 93.75, 'step': 10441},\n",
       " {'loss': 0.1729336977005005, 'acc': 93.75, 'step': 10442},\n",
       " {'loss': 0.14079327881336212, 'acc': 93.75, 'step': 10443},\n",
       " {'loss': 0.10387618839740753, 'acc': 95.3125, 'step': 10444},\n",
       " {'loss': 0.27682018280029297, 'acc': 85.9375, 'step': 10445},\n",
       " {'loss': 0.13829447329044342, 'acc': 95.3125, 'step': 10446},\n",
       " {'loss': 0.13751935958862305, 'acc': 96.875, 'step': 10447},\n",
       " {'loss': 0.17417387664318085, 'acc': 93.75, 'step': 10448},\n",
       " {'loss': 0.1717832088470459, 'acc': 93.75, 'step': 10449},\n",
       " {'loss': 0.1703546643257141, 'acc': 93.75, 'step': 10450},\n",
       " {'loss': 0.17838796973228455, 'acc': 93.75, 'step': 10451},\n",
       " {'loss': 0.2571708858013153, 'acc': 89.0625, 'step': 10452},\n",
       " {'loss': 0.3503373861312866, 'acc': 95.3125, 'step': 10453},\n",
       " {'loss': 0.23746077716350555, 'acc': 90.625, 'step': 10454},\n",
       " {'loss': 0.12163057923316956, 'acc': 95.3125, 'step': 10455},\n",
       " {'loss': 0.15926337242126465, 'acc': 93.75, 'step': 10456},\n",
       " {'loss': 0.1857323944568634, 'acc': 92.1875, 'step': 10457},\n",
       " {'loss': 0.12357982248067856, 'acc': 96.875, 'step': 10458},\n",
       " {'loss': 0.20567774772644043, 'acc': 89.0625, 'step': 10459},\n",
       " {'loss': 0.11793675273656845, 'acc': 95.3125, 'step': 10460},\n",
       " {'loss': 0.359809011220932, 'acc': 87.5, 'step': 10461},\n",
       " {'loss': 0.1660062074661255, 'acc': 93.75, 'step': 10462},\n",
       " {'loss': 0.27327266335487366, 'acc': 92.1875, 'step': 10463},\n",
       " {'loss': 0.18652307987213135, 'acc': 95.3125, 'step': 10464},\n",
       " {'loss': 0.295949250459671, 'acc': 92.1875, 'step': 10465},\n",
       " {'loss': 0.1606951206922531, 'acc': 95.3125, 'step': 10466},\n",
       " {'loss': 0.20400135219097137, 'acc': 95.3125, 'step': 10467},\n",
       " {'loss': 0.1971859335899353, 'acc': 93.75, 'step': 10468},\n",
       " {'loss': 0.15224459767341614, 'acc': 92.1875, 'step': 10469},\n",
       " {'loss': 0.19409367442131042, 'acc': 90.625, 'step': 10470},\n",
       " {'loss': 0.1909106969833374, 'acc': 92.1875, 'step': 10471},\n",
       " {'loss': 0.17589393258094788, 'acc': 93.75, 'step': 10472},\n",
       " {'loss': 0.17029467225074768, 'acc': 95.3125, 'step': 10473},\n",
       " {'loss': 0.27637240290641785, 'acc': 89.0625, 'step': 10474},\n",
       " {'loss': 0.2715364694595337, 'acc': 89.0625, 'step': 10475},\n",
       " {'loss': 0.2904491722583771, 'acc': 87.5, 'step': 10476},\n",
       " {'loss': 0.2247748225927353, 'acc': 90.625, 'step': 10477},\n",
       " {'loss': 0.24927125871181488, 'acc': 89.0625, 'step': 10478},\n",
       " {'loss': 0.23462529480457306, 'acc': 90.625, 'step': 10479},\n",
       " {'loss': 0.12080252915620804, 'acc': 96.875, 'step': 10480},\n",
       " {'loss': 0.2179713249206543, 'acc': 90.625, 'step': 10481},\n",
       " {'loss': 0.14225251972675323, 'acc': 98.4375, 'step': 10482},\n",
       " {'loss': 0.1966554820537567, 'acc': 90.625, 'step': 10483},\n",
       " {'loss': 0.2935039699077606, 'acc': 92.1875, 'step': 10484},\n",
       " {'loss': 0.11257351189851761, 'acc': 96.875, 'step': 10485},\n",
       " {'loss': 0.10872412472963333, 'acc': 95.3125, 'step': 10486},\n",
       " {'loss': 0.16823671758174896, 'acc': 95.3125, 'step': 10487},\n",
       " {'loss': 0.22553502023220062, 'acc': 90.625, 'step': 10488},\n",
       " {'loss': 0.2121686339378357, 'acc': 93.75, 'step': 10489},\n",
       " {'loss': 0.12943992018699646, 'acc': 95.3125, 'step': 10490},\n",
       " {'loss': 0.09599073976278305, 'acc': 98.4375, 'step': 10491},\n",
       " {'loss': 0.15408334136009216, 'acc': 95.3125, 'step': 10492},\n",
       " {'loss': 0.19981636106967926, 'acc': 93.75, 'step': 10493},\n",
       " {'loss': 0.06548025459051132, 'acc': 98.4375, 'step': 10494},\n",
       " {'loss': 0.3044140934944153, 'acc': 87.5, 'step': 10495},\n",
       " {'loss': 0.20138998329639435, 'acc': 92.1875, 'step': 10496},\n",
       " {'loss': 0.19062381982803345, 'acc': 92.1875, 'step': 10497},\n",
       " {'loss': 0.17533667385578156, 'acc': 95.3125, 'step': 10498},\n",
       " {'loss': 0.21857121586799622, 'acc': 92.1875, 'step': 10499}]"
      ]
     },
     "execution_count": 42,
     "metadata": {},
     "output_type": "execute_result"
    }
   ],
   "source": [
    "history['train'][-100:-1]"
   ]
  },
  {
   "cell_type": "code",
   "execution_count": 43,
   "metadata": {
    "ExecuteTime": {
     "end_time": "2025-06-26T09:41:20.871079Z",
     "start_time": "2025-06-26T09:41:20.864076Z"
    }
   },
   "outputs": [
    {
     "data": {
      "text/plain": [
       "[{'loss': 2.314773708343506, 'acc': 2.78, 'step': 0},\n",
       " {'loss': 0.4585252633333206, 'acc': 83.56, 'step': 500},\n",
       " {'loss': 0.4087839499235153, 'acc': 85.46, 'step': 1000},\n",
       " {'loss': 0.38242083814144134, 'acc': 85.98, 'step': 1500},\n",
       " {'loss': 0.379597034072876, 'acc': 85.88, 'step': 2000},\n",
       " {'loss': 0.3638763886928558, 'acc': 86.86, 'step': 2500},\n",
       " {'loss': 0.385901584815979, 'acc': 86.52, 'step': 3000},\n",
       " {'loss': 0.34665633907318116, 'acc': 87.4, 'step': 3500},\n",
       " {'loss': 0.3379643493771553, 'acc': 87.52, 'step': 4000},\n",
       " {'loss': 0.33564620103836057, 'acc': 87.82, 'step': 4500},\n",
       " {'loss': 0.3414042771577835, 'acc': 87.56, 'step': 5000},\n",
       " {'loss': 0.3552886161804199, 'acc': 87.1, 'step': 5500},\n",
       " {'loss': 0.33946109874248503, 'acc': 87.72, 'step': 6000},\n",
       " {'loss': 0.34506075427532196, 'acc': 87.3, 'step': 6500},\n",
       " {'loss': 0.3278993954539299, 'acc': 88.4, 'step': 7000},\n",
       " {'loss': 0.32371925547122954, 'acc': 88.46, 'step': 7500},\n",
       " {'loss': 0.31316333944797514, 'acc': 89.08, 'step': 8000},\n",
       " {'loss': 0.33699295461177825, 'acc': 88.4, 'step': 8500},\n",
       " {'loss': 0.34216102335453036, 'acc': 87.62, 'step': 9000},\n",
       " {'loss': 0.3205951757669449, 'acc': 88.64, 'step': 9500},\n",
       " {'loss': 0.34840282590389254, 'acc': 87.78, 'step': 10000}]"
      ]
     },
     "execution_count": 43,
     "metadata": {},
     "output_type": "execute_result"
    }
   ],
   "source": [
    "history['val'][-1000:-1]"
   ]
  },
  {
   "cell_type": "markdown",
   "metadata": {},
   "source": [
    "# 绘制损失曲线和准确率曲线"
   ]
  },
  {
   "cell_type": "code",
   "execution_count": 44,
   "metadata": {
    "ExecuteTime": {
     "end_time": "2025-06-26T09:41:20.877592Z",
     "start_time": "2025-06-26T09:41:20.871587Z"
    }
   },
   "outputs": [],
   "source": [
    "# # 导入绘图库\n",
    "# import matplotlib.pyplot as plt\n",
    "# from matplotlib import font_manager\n",
    "# def plot_learning_curves1(history):\n",
    "#     # 设置中文字体支持\n",
    "#     plt.rcParams['font.sans-serif'] = ['SimHei']  # 使用黑体\n",
    "#     plt.rcParams['axes.unicode_minus'] = False    # 解决负号显示问题\n",
    "\n",
    "#     # 创建一个图形，包含两个子图（损失和准确率）\n",
    "#     fig, (ax1, ax2) = plt.subplots(1, 2, figsize=(15, 5))\n",
    "\n",
    "#     # 绘制损失曲线\n",
    "#     epochs = range(1, len(history['train_loss']) + 1)\n",
    "#     ax1.plot(epochs, history['train_loss'], 'b-', label='训练损失')\n",
    "#     ax1.plot(epochs, history['val_loss'], 'r-', label='验证损失')\n",
    "#     ax1.set_title('训练与验证损失')\n",
    "#     ax1.set_xlabel('轮次')\n",
    "#     ax1.set_ylabel('损失')\n",
    "#     ax1.legend()\n",
    "#     ax1.grid(True)\n",
    "\n",
    "#     # 绘制准确率曲线\n",
    "#     ax2.plot(epochs, history['train_acc'], 'b-', label='训练准确率')\n",
    "#     ax2.plot(epochs, history['val_acc'], 'r-', label='验证准确率')\n",
    "#     ax2.set_title('训练与验证准确率')\n",
    "#     ax2.set_xlabel('轮次')\n",
    "#     ax2.set_ylabel('准确率 (%)')\n",
    "#     ax2.legend()\n",
    "#     ax2.grid(True)\n",
    "\n",
    "#     plt.tight_layout()\n",
    "#     plt.show()\n"
   ]
  },
  {
   "cell_type": "code",
   "execution_count": 45,
   "metadata": {
    "ExecuteTime": {
     "end_time": "2025-06-26T09:41:20.975121Z",
     "start_time": "2025-06-26T09:41:20.878099Z"
    }
   },
   "outputs": [
    {
     "data": {
      "image/png": "[encoded data removed]",
      "text/plain": [
       "<Figure size 1000x500 with 2 Axes>"
      ]
     },
     "metadata": {},
     "output_type": "display_data"
    }
   ],
   "source": [
    "plot_learning_curves(history, sample_step=500)  #横坐标是 steps"
   ]
  },
  {
   "cell_type": "code",
   "execution_count": 46,
   "metadata": {
    "ExecuteTime": {
     "end_time": "2025-06-26T09:41:22.293109Z",
     "start_time": "2025-06-26T09:41:20.979127Z"
    }
   },
   "outputs": [
    {
     "data": {
      "text/plain": [
       "(88.58, 0.33921465702056885)"
      ]
     },
     "execution_count": 46,
     "metadata": {},
     "output_type": "execute_result"
    }
   ],
   "source": [
    "# 在测试集上评估模型\n",
    "test_accuracy = evaluate_model(model, test_loader, device, loss_fn)\n",
    "test_accuracy\n"
   ]
  }
 ],
 "metadata": {
  "kernelspec": {
   "display_name": "Python 3",
   "language": "python",
   "name": "python3"
  },
  "language_info": {
   "codemirror_mode": {
    "name": "ipython",
    "version": 3
   },
   "file_extension": ".py",
   "mimetype": "text/x-python",
   "name": "python",
   "nbconvert_exporter": "python",
   "pygments_lexer": "ipython3",
   "version": "3.12.3"
  }
 },
 "nbformat": 4,
 "nbformat_minor": 2
}
