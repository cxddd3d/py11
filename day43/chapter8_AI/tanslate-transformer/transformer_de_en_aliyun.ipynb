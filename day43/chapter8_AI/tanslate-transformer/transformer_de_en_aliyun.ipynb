{
 "cells": [
  {
   "cell_type": "code",
   "execution_count": 1,
   "id": "b7b7bbeff6237c20",
   "metadata": {
    "ExecuteTime": {
     "end_time": "2025-07-11T07:06:05.692112Z",
     "start_time": "2025-07-11T07:05:59.543386Z"
    },
    "colab": {
     "base_uri": "https://localhost:8080/"
    },
    "execution": {
     "iopub.execute_input": "2025-07-15T13:26:17.326311Z",
     "iopub.status.busy": "2025-07-15T13:26:17.325975Z",
     "iopub.status.idle": "2025-07-15T13:26:20.820293Z",
     "shell.execute_reply": "2025-07-15T13:26:20.819536Z",
     "shell.execute_reply.started": "2025-07-15T13:26:17.326276Z"
    },
    "id": "b7b7bbeff6237c20",
    "outputId": "a4d8ae68-8890-4fa3-8f4f-62da14479467"
   },
   "outputs": [
    {
     "name": "stderr",
     "output_type": "stream",
     "text": [
      "/opt/conda/lib/python3.11/site-packages/tqdm/auto.py:21: TqdmWarning: IProgress not found. Please update jupyter and ipywidgets. See https://ipywidgets.readthedocs.io/en/stable/user_install.html\n",
      "  from .autonotebook import tqdm as notebook_tqdm\n"
     ]
    },
    {
     "name": "stdout",
     "output_type": "stream",
     "text": [
      "sys.version_info(major=3, minor=11, micro=11, releaselevel='final', serial=0)\n",
      "matplotlib 3.10.3\n",
      "numpy 1.26.4\n",
      "pandas 2.3.0\n",
      "sklearn 1.7.0\n",
      "torch 2.7.0+cu126\n",
      "cuda:0\n"
     ]
    }
   ],
   "source": [
    "import matplotlib as mpl\n",
    "import matplotlib.pyplot as plt\n",
    "%matplotlib inline\n",
    "import numpy as np\n",
    "import sklearn\n",
    "import pandas as pd\n",
    "import os\n",
    "import sys\n",
    "import time\n",
    "from tqdm.auto import tqdm\n",
    "import torch\n",
    "import torch.nn as nn\n",
    "import torch.nn.functional as F\n",
    "\n",
    "print(sys.version_info)\n",
    "for module in mpl, np, pd, sklearn, torch:\n",
    "    print(module.__name__, module.__version__)\n",
    "\n",
    "device = torch.device(\"cuda:0\") if torch.cuda.is_available() else torch.device(\"cpu\")\n",
    "print(device)\n",
    "\n",
    "seed = 42\n",
    "torch.manual_seed(seed)\n",
    "torch.cuda.manual_seed_all(seed)\n",
    "np.random.seed(seed)\n"
   ]
  },
  {
   "cell_type": "markdown",
   "id": "a61058c1",
   "metadata": {
    "id": "a61058c1"
   },
   "source": [
    "# MosesTokenizer预处理 subword-nmt分词"
   ]
  },
  {
   "cell_type": "code",
   "execution_count": 2,
   "id": "cfHuRRtwArkM",
   "metadata": {
    "colab": {
     "base_uri": "https://localhost:8080/"
    },
    "execution": {
     "iopub.execute_input": "2025-07-15T13:26:20.822511Z",
     "iopub.status.busy": "2025-07-15T13:26:20.822038Z",
     "iopub.status.idle": "2025-07-15T13:26:23.458081Z",
     "shell.execute_reply": "2025-07-15T13:26:23.457109Z",
     "shell.execute_reply.started": "2025-07-15T13:26:20.822487Z"
    },
    "id": "cfHuRRtwArkM",
    "outputId": "8662c775-a184-4b6e-cfc8-694421bf77fa"
   },
   "outputs": [
    {
     "name": "stdout",
     "output_type": "stream",
     "text": [
      "Looking in indexes: https://mirrors.aliyun.com/pypi/simple/\n",
      "Requirement already satisfied: sacremoses in /opt/conda/lib/python3.11/site-packages (0.1.1)\n",
      "Requirement already satisfied: subword-nmt in /opt/conda/lib/python3.11/site-packages (0.3.8)\n",
      "Requirement already satisfied: regex in /opt/conda/lib/python3.11/site-packages (from sacremoses) (2024.11.6)\n",
      "Requirement already satisfied: click in /opt/conda/lib/python3.11/site-packages (from sacremoses) (8.2.1)\n",
      "Requirement already satisfied: joblib in /opt/conda/lib/python3.11/site-packages (from sacremoses) (1.5.1)\n",
      "Requirement already satisfied: tqdm in /opt/conda/lib/python3.11/site-packages (from sacremoses) (4.66.5)\n",
      "Requirement already satisfied: mock in /opt/conda/lib/python3.11/site-packages (from subword-nmt) (5.2.0)\n",
      "\u001b[33mWARNING: Running pip as the 'root' user can result in broken permissions and conflicting behaviour with the system package manager, possibly rendering your system unusable.It is recommended to use a virtual environment instead: https://pip.pypa.io/warnings/venv. Use the --root-user-action option if you know what you are doing and want to suppress this warning.\u001b[0m\u001b[33m\n",
      "\u001b[0m"
     ]
    }
   ],
   "source": [
    "!pip install sacremoses subword-nmt"
   ]
  },
  {
   "cell_type": "code",
   "execution_count": 3,
   "id": "initial_id",
   "metadata": {
    "ExecuteTime": {
     "end_time": "2025-07-11T07:30:43.221658Z",
     "start_time": "2025-07-11T07:30:27.977023Z"
    },
    "colab": {
     "base_uri": "https://localhost:8080/"
    },
    "execution": {
     "iopub.execute_input": "2025-07-15T13:26:23.459646Z",
     "iopub.status.busy": "2025-07-15T13:26:23.459289Z",
     "iopub.status.idle": "2025-07-15T13:26:57.982466Z",
     "shell.execute_reply": "2025-07-15T13:26:57.981339Z",
     "shell.execute_reply.started": "2025-07-15T13:26:23.459613Z"
    },
    "id": "initial_id",
    "outputId": "9e94a9bc-0f52-42a6-ba50-60b1a0a9a79d"
   },
   "outputs": [
    {
     "name": "stdout",
     "output_type": "stream",
     "text": [
      "[train] 源语言文本分词完成\n",
      "[train] 目标语言文本分词完成\n",
      "[val] 源语言文本分词完成\n",
      "[val] 目标语言文本分词完成\n",
      "[test] 源语言文本分词完成\n",
      "[test] 目标语言文本分词完成\n",
      "100%|####################################| 20000/20000 [00:21<00:00, 936.65it/s]\n",
      "Finished applying bpe to train files.\n",
      "Finished applying bpe to val files.\n",
      "Finished applying bpe to test files.\n"
     ]
    }
   ],
   "source": [
    "!sh data_multi30k.sh wmt16 wmt16 de en"
   ]
  },
  {
   "cell_type": "code",
   "execution_count": 4,
   "id": "9VdJ0NaqAl0p",
   "metadata": {
    "colab": {
     "base_uri": "https://localhost:8080/"
    },
    "execution": {
     "iopub.execute_input": "2025-07-15T13:26:57.984529Z",
     "iopub.status.busy": "2025-07-15T13:26:57.983996Z",
     "iopub.status.idle": "2025-07-15T13:26:59.881839Z",
     "shell.execute_reply": "2025-07-15T13:26:59.880833Z",
     "shell.execute_reply.started": "2025-07-15T13:26:57.984472Z"
    },
    "id": "9VdJ0NaqAl0p",
    "outputId": "a8d94e02-78b3-49c0-ec7f-617074d59da5"
   },
   "outputs": [
    {
     "name": "stdout",
     "output_type": "stream",
     "text": [
      "01-classification-model.ipynb  spa.txt\n",
      "checkpoints\t\t       test_en_sentences.npy\n",
      "data\t\t\t       test_sp_sentences.npy\n",
      "data_multi30k.py\t       train_en_sentences.npy\n",
      "data_multi30k.sh\t       train_sp_sentences.npy\n",
      "data_multi30k_es_en.py\t       transformer_de_en_colab.ipynb\n",
      "data_multi30k_es_en.sh\t       transformer_es_en_colab.ipynb\n",
      "seq2seq_attention_colab.ipynb  wmt16\n"
     ]
    }
   ],
   "source": [
    "!ls"
   ]
  },
  {
   "cell_type": "code",
   "execution_count": 5,
   "id": "1acf1f44",
   "metadata": {
    "ExecuteTime": {
     "end_time": "2025-07-11T08:03:52.736243Z",
     "start_time": "2025-07-11T08:03:52.535567Z"
    },
    "colab": {
     "base_uri": "https://localhost:8080/",
     "height": 702
    },
    "execution": {
     "iopub.execute_input": "2025-07-15T13:26:59.884401Z",
     "iopub.status.busy": "2025-07-15T13:26:59.883898Z",
     "iopub.status.idle": "2025-07-15T13:27:00.557594Z",
     "shell.execute_reply": "2025-07-15T13:27:00.556753Z",
     "shell.execute_reply.started": "2025-07-15T13:26:59.884351Z"
    },
    "id": "1acf1f44",
    "outputId": "5dc24a6c-d540-4e44-e648-125b0a2b8cab"
   },
   "outputs": [
    {
     "name": "stdout",
     "output_type": "stream",
     "text": [
      "Total sentences: 29000\n",
      "Min length: 2\n",
      "Max length: 47\n",
      "Mean length: 13.03\n",
      "Median length: 12.0\n"
     ]
    },
    {
     "data": {
      "image/png": "[encoded data removed]",
      "text/plain": [
       "<Figure size 1000x600 with 1 Axes>"
      ]
     },
     "metadata": {},
     "output_type": "display_data"
    }
   ],
   "source": [
    "# Read the training source file and analyze sentence lengths\n",
    "with open(\"wmt16/train_src.bpe\", \"r\", encoding=\"utf8\") as file:\n",
    "    lines = file.readlines()\n",
    "\n",
    "# Split each line and calculate lengths\n",
    "lengths = [len(line.strip().split()) for line in lines]\n",
    "\n",
    "# Create a histogram of sentence lengths\n",
    "plt.figure(figsize=(10, 6))\n",
    "plt.hist(lengths, bins=50, alpha=0.7, color='blue')\n",
    "plt.xlabel('Sentence Length (number of tokens)')\n",
    "plt.ylabel('Frequency')\n",
    "plt.title('Distribution of Sentence Lengths in Training Data')\n",
    "plt.grid(True, alpha=0.3)\n",
    "\n",
    "# Add some statistics as text\n",
    "plt.axvline(np.mean(lengths), color='r', linestyle='dashed', linewidth=1, label=f'Mean: {np.mean(lengths):.2f}')\n",
    "plt.axvline(np.median(lengths), color='g', linestyle='dashed', linewidth=1, label=f'Median: {np.median(lengths):.2f}')\n",
    "plt.legend()\n",
    "\n",
    "# Display some statistics\n",
    "print(f\"Total sentences: {len(lengths)}\")\n",
    "print(f\"Min length: {min(lengths)}\")\n",
    "print(f\"Max length: {max(lengths)}\")\n",
    "print(f\"Mean length: {np.mean(lengths):.2f}\")\n",
    "print(f\"Median length: {np.median(lengths)}\")\n",
    "\n",
    "plt.tight_layout()\n",
    "plt.show()\n"
   ]
  },
  {
   "cell_type": "code",
   "execution_count": 6,
   "id": "f7c22d1a",
   "metadata": {
    "colab": {
     "base_uri": "https://localhost:8080/",
     "height": 702
    },
    "execution": {
     "iopub.execute_input": "2025-07-15T13:27:00.558866Z",
     "iopub.status.busy": "2025-07-15T13:27:00.558571Z",
     "iopub.status.idle": "2025-07-15T13:27:00.911534Z",
     "shell.execute_reply": "2025-07-15T13:27:00.910816Z",
     "shell.execute_reply.started": "2025-07-15T13:27:00.558842Z"
    },
    "id": "f7c22d1a",
    "outputId": "3d69a82f-5503-4d60-d5a6-f0b04b162748"
   },
   "outputs": [
    {
     "name": "stdout",
     "output_type": "stream",
     "text": [
      "Total sentences: 29000\n",
      "Min length: 4\n",
      "Max length: 41\n",
      "Mean length: 13.25\n",
      "Median length: 13.0\n"
     ]
    },
    {
     "data": {
      "image/png": "[encoded data removed]",
      "text/plain": [
       "<Figure size 1000x600 with 1 Axes>"
      ]
     },
     "metadata": {},
     "output_type": "display_data"
    }
   ],
   "source": [
    "# Read the training source file and analyze sentence lengths\n",
    "with open(\"wmt16/train_trg.bpe\", \"r\", encoding=\"utf8\") as file:\n",
    "    lines = file.readlines()\n",
    "\n",
    "# Split each line and calculate lengths\n",
    "lengths = [len(line.strip().split()) for line in lines]\n",
    "\n",
    "# Create a histogram of sentence lengths\n",
    "plt.figure(figsize=(10, 6))\n",
    "plt.hist(lengths, bins=50, alpha=0.7, color='blue')\n",
    "plt.xlabel('Sentence Length (number of tokens)')\n",
    "plt.ylabel('Frequency')\n",
    "plt.title('Distribution of Sentence Lengths in Training Data')\n",
    "plt.grid(True, alpha=0.3)\n",
    "\n",
    "# Add some statistics as text\n",
    "plt.axvline(np.mean(lengths), color='r', linestyle='dashed', linewidth=1, label=f'Mean: {np.mean(lengths):.2f}')\n",
    "plt.axvline(np.median(lengths), color='g', linestyle='dashed', linewidth=1, label=f'Median: {np.median(lengths):.2f}')\n",
    "plt.legend()\n",
    "\n",
    "# Display some statistics\n",
    "print(f\"Total sentences: {len(lengths)}\")\n",
    "print(f\"Min length: {min(lengths)}\")\n",
    "print(f\"Max length: {max(lengths)}\")\n",
    "print(f\"Mean length: {np.mean(lengths):.2f}\")\n",
    "print(f\"Median length: {np.median(lengths)}\")\n",
    "\n",
    "plt.tight_layout()\n",
    "plt.show()\n"
   ]
  },
  {
   "cell_type": "code",
   "execution_count": 7,
   "id": "bbd86f3e4db77521",
   "metadata": {
    "ExecuteTime": {
     "end_time": "2025-07-11T08:05:12.693773Z",
     "start_time": "2025-07-11T08:05:12.554874Z"
    },
    "colab": {
     "base_uri": "https://localhost:8080/",
     "height": 702
    },
    "execution": {
     "iopub.execute_input": "2025-07-15T13:27:00.914296Z",
     "iopub.status.busy": "2025-07-15T13:27:00.913885Z",
     "iopub.status.idle": "2025-07-15T13:27:01.241298Z",
     "shell.execute_reply": "2025-07-15T13:27:01.240426Z",
     "shell.execute_reply.started": "2025-07-15T13:27:00.914271Z"
    },
    "id": "bbd86f3e4db77521",
    "outputId": "7c91f47d-9a75-45c7-b9ac-5e4a66e22f01"
   },
   "outputs": [
    {
     "name": "stdout",
     "output_type": "stream",
     "text": [
      "Total sentences: 29000\n",
      "Min length: 16\n",
      "Max length: 215\n",
      "Mean length: 63.07\n",
      "Median length: 60.0\n"
     ]
    },
    {
     "data": {
      "image/png": "[encoded data removed]",
      "text/plain": [
       "<Figure size 1000x600 with 1 Axes>"
      ]
     },
     "metadata": {},
     "output_type": "display_data"
    }
   ],
   "source": [
    "# Read the training source file and analyze sentence lengths\n",
    "with open(\"wmt16/train_trg.bpe\", \"r\", encoding=\"utf8\") as file:\n",
    "    lines = file.readlines()\n",
    "\n",
    "# Split each line and calculate lengths\n",
    "lengths = [len(line.strip()) for line in lines]\n",
    "\n",
    "# Create a histogram of sentence lengths\n",
    "plt.figure(figsize=(10, 6))\n",
    "plt.hist(lengths, bins=50, alpha=0.7, color='blue')\n",
    "plt.xlabel('Sentence Length (number of tokens)')\n",
    "plt.ylabel('Frequency')\n",
    "plt.title('Distribution of Sentence Lengths in Training Data')\n",
    "plt.grid(True, alpha=0.3)\n",
    "\n",
    "# Add some statistics as text\n",
    "plt.axvline(np.mean(lengths), color='r', linestyle='dashed', linewidth=1, label=f'Mean: {np.mean(lengths):.2f}')\n",
    "plt.axvline(np.median(lengths), color='g', linestyle='dashed', linewidth=1, label=f'Median: {np.median(lengths):.2f}')\n",
    "plt.legend()\n",
    "\n",
    "# Display some statistics\n",
    "print(f\"Total sentences: {len(lengths)}\")\n",
    "print(f\"Min length: {min(lengths)}\")\n",
    "print(f\"Max length: {max(lengths)}\")\n",
    "print(f\"Mean length: {np.mean(lengths):.2f}\")\n",
    "print(f\"Median length: {np.median(lengths)}\")\n",
    "\n",
    "plt.tight_layout()\n",
    "plt.show()\n"
   ]
  },
  {
   "cell_type": "markdown",
   "id": "00f8629e",
   "metadata": {
    "id": "00f8629e"
   },
   "source": [
    "# LangPairDataset"
   ]
  },
  {
   "cell_type": "code",
   "execution_count": 8,
   "id": "30745b5f",
   "metadata": {
    "colab": {
     "base_uri": "https://localhost:8080/"
    },
    "execution": {
     "iopub.execute_input": "2025-07-15T13:27:01.242588Z",
     "iopub.status.busy": "2025-07-15T13:27:01.242283Z",
     "iopub.status.idle": "2025-07-15T13:27:01.408737Z",
     "shell.execute_reply": "2025-07-15T13:27:01.407824Z",
     "shell.execute_reply.started": "2025-07-15T13:27:01.242566Z"
    },
    "id": "30745b5f",
    "outputId": "b24896af-d565-496f-f627-d23714edd825"
   },
   "outputs": [
    {
     "name": "stdout",
     "output_type": "stream",
     "text": [
      "load train dataset from wmt16/.cache/de2en_train_273.npy\n",
      "load val dataset from wmt16/.cache/de2en_val_273.npy\n"
     ]
    }
   ],
   "source": [
    "from pathlib import Path\n",
    "from torch.utils.data import Dataset, DataLoader\n",
    "\n",
    "\n",
    "\n",
    "class LangPairDataset(Dataset):\n",
    "\n",
    "    def __init__(\n",
    "        self, mode=\"train\", max_length=273, overwrite_cache=False, data_dir=\"wmt16\",\n",
    "    ):\n",
    "        self.data_dir = Path(data_dir) #封装为path对象\n",
    "        cache_path = self.data_dir / \".cache\" / f\"de2en_{mode}_{max_length}.npy\" # 缓存路径\n",
    "\n",
    "        if overwrite_cache or not cache_path.exists(): #判断是否需要覆盖缓存，或者缓存文件不存在\n",
    "            cache_path.parent.mkdir(parents=True, exist_ok=True) # 创建缓存目录\n",
    "\n",
    "            with open(self.data_dir / f\"{mode}_src.bpe\", \"r\", encoding=\"utf8\") as file:\n",
    "                self.src = file.readlines() # 读取源语言文件所有行\n",
    "\n",
    "            with open(self.data_dir / f\"{mode}_trg.bpe\", \"r\", encoding=\"utf8\") as file:\n",
    "                self.trg = file.readlines() # 读取目标语言文件所有行\n",
    "\n",
    "            filtered_src = []\n",
    "            filtered_trg = []\n",
    "            # max length filter,超出最大长度的句子舍弃\n",
    "            for src, trg in zip(self.src, self.trg):\n",
    "                if len(src) <= max_length and len(trg) <= max_length: # 过滤长度超过最大长度的句子\n",
    "                    filtered_src.append(src.strip()) # 去掉句子前后的空格\n",
    "                    filtered_trg.append(trg.strip())\n",
    "            filtered_src = np.array(filtered_src)\n",
    "            filtered_trg = np.array(filtered_trg)\n",
    "            np.save(\n",
    "                cache_path,\n",
    "                {\"src\": filtered_src, \"trg\": filtered_trg },\n",
    "                allow_pickle=True,\n",
    "            )#allow_pickle=True允许保存对象数组，将过滤后的数据保存为 NumPy 数组，存储在缓存文件中\n",
    "            print(f\"save cache to {cache_path}\")\n",
    "\n",
    "        else:\n",
    "            cache_dict = np.load(cache_path, allow_pickle=True).item() #allow_pickle=True允许保存对象数组\n",
    "            print(f\"load {mode} dataset from {cache_path}\")\n",
    "            filtered_src = cache_dict[\"src\"]\n",
    "            filtered_trg = cache_dict[\"trg\"]\n",
    "\n",
    "        self.src = filtered_src\n",
    "        self.trg = filtered_trg\n",
    "\n",
    "    def __getitem__(self, index):\n",
    "        return self.src[index], self.trg[index]\n",
    "\n",
    "    def __len__(self):\n",
    "        return len(self.src)\n",
    "\n",
    "\n",
    "train_ds = LangPairDataset(\"train\")\n",
    "val_ds = LangPairDataset(\"val\")"
   ]
  },
  {
   "cell_type": "code",
   "execution_count": 9,
   "id": "10296400",
   "metadata": {
    "colab": {
     "base_uri": "https://localhost:8080/"
    },
    "execution": {
     "iopub.execute_input": "2025-07-15T13:27:01.409898Z",
     "iopub.status.busy": "2025-07-15T13:27:01.409596Z",
     "iopub.status.idle": "2025-07-15T13:27:01.414429Z",
     "shell.execute_reply": "2025-07-15T13:27:01.413853Z",
     "shell.execute_reply.started": "2025-07-15T13:27:01.409877Z"
    },
    "id": "10296400",
    "outputId": "f04344c6-e6f3-45ad-a017-06dc6741faf5"
   },
   "outputs": [
    {
     "data": {
      "text/plain": [
       "101118"
      ]
     },
     "execution_count": 9,
     "metadata": {},
     "output_type": "execute_result"
    }
   ],
   "source": [
    "len(train_ds)"
   ]
  },
  {
   "cell_type": "markdown",
   "id": "860a6365",
   "metadata": {
    "id": "860a6365"
   },
   "source": [
    "# Vocab词典"
   ]
  },
  {
   "cell_type": "code",
   "execution_count": 10,
   "id": "7e42d55f",
   "metadata": {
    "colab": {
     "base_uri": "https://localhost:8080/",
     "height": 68,
     "referenced_widgets": [
      "8271841f536f476fa7f168285169b8b0",
      "d04403d6d9de45229ab199c84d8e78b1",
      "83516e53d8044b5984c31b0cfa983454",
      "4111b8dea92d4c73a0d797c900d1c4e4",
      "110a1f620812433692b0442ba588013c",
      "a81f6c3bb6a4482b86d028d608b04559",
      "32ab830293104d33b6f584b0ed030aeb",
      "114607d303c64d558617e41975b25270",
      "9aca93d3cde5487c8d83e9007673f227",
      "e78c6667146541fdb695db5690fa4301",
      "17b7154badac4cae83ae11e0bbc8f881"
     ]
    },
    "execution": {
     "iopub.execute_input": "2025-07-15T13:27:01.415514Z",
     "iopub.status.busy": "2025-07-15T13:27:01.415252Z",
     "iopub.status.idle": "2025-07-15T13:27:01.449617Z",
     "shell.execute_reply": "2025-07-15T13:27:01.449033Z",
     "shell.execute_reply.started": "2025-07-15T13:27:01.415494Z"
    },
    "id": "7e42d55f",
    "outputId": "56ced5ee-1926-4f3f-af5e-567c4918394c"
   },
   "outputs": [
    {
     "name": "stderr",
     "output_type": "stream",
     "text": [
      "100%|██████████| 18107/18107 [00:00<00:00, 851215.10it/s]"
     ]
    },
    {
     "name": "stdout",
     "output_type": "stream",
     "text": [
      "vocab_size: 18111\n"
     ]
    },
    {
     "name": "stderr",
     "output_type": "stream",
     "text": [
      "\n"
     ]
    }
   ],
   "source": [
    "#载入词表，看下词表长度，词表就像英语字典,构建word2idx和idx2word\n",
    "word2idx = {\n",
    "    \"[PAD]\": 0,     # 填充 token\n",
    "    \"[BOS]\": 1,     # begin of sentence\n",
    "    \"[UNK]\": 2,     # 未知 token\n",
    "    \"[EOS]\": 3,     # end of sentence\n",
    "}\n",
    "idx2word = {value: key for key, value in word2idx.items()}\n",
    "index = len(idx2word)\n",
    "threshold = 1  # 出现次数低于此的token舍弃\n",
    "\n",
    "with open(\"wmt16/vocab\", \"r\", encoding=\"utf8\") as file:  # 打开词汇表文件进行读取，使用utf8编码\n",
    "    for line in tqdm(file.readlines()):  # 使用tqdm显示进度条，遍历文件的每一行\n",
    "        token, counts = line.strip().split()  # 去除每行两端的空白字符并按空格分割为token和出现次数\n",
    "        if int(counts) >= threshold:  # 判断token的出现次数是否大于或等于阈值\n",
    "            word2idx[token] = index  # 将token添加到word2idx字典，建立token到索引的映射\n",
    "            idx2word[index] = token  # 将token添加到idx2word字典，建立索引到token的映射\n",
    "            index += 1  # 索引值增加1，为下一个token准备\n",
    "\n",
    "vocab_size = len(word2idx)  # 计算词表大小，即word2idx字典中的条目数量\n",
    "print(\"vocab_size: {}\".format(vocab_size))  # 打印词表大小\n"
   ]
  },
  {
   "cell_type": "markdown",
   "id": "9e77c79c",
   "metadata": {
    "id": "9e77c79c"
   },
   "source": [
    "# Tokenizer"
   ]
  },
  {
   "cell_type": "code",
   "execution_count": 11,
   "id": "656066ff",
   "metadata": {
    "colab": {
     "base_uri": "https://localhost:8080/"
    },
    "execution": {
     "iopub.execute_input": "2025-07-15T13:27:01.451429Z",
     "iopub.status.busy": "2025-07-15T13:27:01.451127Z",
     "iopub.status.idle": "2025-07-15T13:27:01.468468Z",
     "shell.execute_reply": "2025-07-15T13:27:01.467615Z",
     "shell.execute_reply.started": "2025-07-15T13:27:01.451410Z"
    },
    "id": "656066ff",
    "outputId": "6f6b6771-6a1a-4d02-9ba1-0f085f7550c8"
   },
   "outputs": [
    {
     "name": "stdout",
     "output_type": "stream",
     "text": [
      "raw text\n",
      "['hello', 'world']\n",
      "['a', 'little', 'boy', 'playing', 'gam@@', 'e@@', 'cu@@', 'be', 'at', 'a', 'mcdonald', '&apos;s', '.']\n",
      "['this', 'is', 'a', 'test']\n",
      "indices\n",
      "tensor([   1, 9458, 3522,    3,    0,    0,    0,    0,    0,    0,    0,    0,\n",
      "           0,    0,    0])\n",
      "tensor([   1,    5,  105,   56,   63, 8664,  732, 2716,  414,   35,    5, 4016,\n",
      "         192,    4,    3])\n",
      "tensor([   1,  385,   18,    5, 5699,    3,    0,    0,    0,    0,    0,    0,\n",
      "           0,    0,    0])\n",
      "decode text\n",
      "[BOS] hello world [EOS] [PAD] [PAD] [PAD] [PAD] [PAD] [PAD] [PAD] [PAD] [PAD] [PAD] [PAD]\n",
      "[BOS] a little boy playing gam@@ e@@ cu@@ be at a mcdonald &apos;s . [EOS]\n",
      "[BOS] this is a test [EOS] [PAD] [PAD] [PAD] [PAD] [PAD] [PAD] [PAD] [PAD] [PAD]\n"
     ]
    }
   ],
   "source": [
    "class Tokenizer:\n",
    "    def __init__(self, word2idx, idx2word, max_length=128, pad_idx=0, bos_idx=1, eos_idx=3, unk_idx=2):\n",
    "        self.word2idx = word2idx\n",
    "        self.idx2word = idx2word\n",
    "        self.max_length = max_length\n",
    "        self.pad_idx = pad_idx\n",
    "        self.bos_idx = bos_idx\n",
    "        self.eos_idx = eos_idx\n",
    "        self.unk_idx = unk_idx\n",
    "\n",
    "    def encode(self, text_list, padding_first=False, add_bos=True, add_eos=True, return_mask=False):\n",
    "        \"\"\"如果padding_first == True，则padding加载前面，否则加载后面\"\"\"\n",
    "        max_length = min(self.max_length, add_eos + add_bos + max([len(text) for text in text_list]))\n",
    "        indices_list = []\n",
    "        #text_list是句子列表，每个句子是一个单词列表,text_list是一个批次\n",
    "        for text in text_list:\n",
    "            indices = [self.word2idx.get(word, self.unk_idx) for word in text[:max_length - add_bos - add_eos]]\n",
    "            if add_bos:#如果add_bos == True，则添加[BOS]\n",
    "                indices = [self.bos_idx] + indices\n",
    "            if add_eos:#如果add_eos == True，则添加[EOS]\n",
    "                indices = indices + [self.eos_idx]\n",
    "            if padding_first:#如果padding_first == True，则padding加载前面，否则加载后面\n",
    "                indices = [self.pad_idx] * (max_length - len(indices)) + indices\n",
    "            else:\n",
    "                indices = indices + [self.pad_idx] * (max_length - len(indices))\n",
    "            indices_list.append(indices)\n",
    "        input_ids = torch.tensor(indices_list)\n",
    "        masks = (input_ids == self.pad_idx).to(dtype=torch.int64) # 为了方便损失计算，这里的mask为0的地方需要计算，为1的地方不需要计算\n",
    "        return input_ids if not return_mask else (input_ids, masks)\n",
    "\n",
    "\n",
    "    def decode(self, indices_list, remove_bos=True, remove_eos=True, remove_pad=True, split=False):\n",
    "        text_list = []\n",
    "        for indices in indices_list:\n",
    "            text = []\n",
    "            for index in indices:\n",
    "                word = self.idx2word.get(index, \"[UNK]\")\n",
    "                if remove_bos and word == \"[BOS]\":\n",
    "                    continue\n",
    "                if remove_eos and word == \"[EOS]\":\n",
    "                    break\n",
    "                if remove_pad and word == \"[PAD]\":\n",
    "                    break\n",
    "                text.append(word)\n",
    "            text_list.append(\" \".join(text) if not split else text) #如果split == True，则返回一个单词列表，否则返回一个句子\n",
    "        return text_list #返回一个句子列表\n",
    "\n",
    "\n",
    "tokenizer = Tokenizer(word2idx=word2idx, idx2word=idx2word)\n",
    "\n",
    "\n",
    "raw_text = [\"hello world\".split(), \"a little boy playing gam@@ e@@ cu@@ be at a mcdonald &apos;s .\".split(), \"this is a test\".split()]\n",
    "indices = tokenizer.encode(raw_text, padding_first=False, add_bos=True, add_eos=True)\n",
    "decode_text = tokenizer.decode(indices.tolist(), remove_bos=False, remove_eos=False, remove_pad=False)\n",
    "print(\"raw text\")\n",
    "for raw in raw_text:\n",
    "    print(raw)\n",
    "print(\"indices\")\n",
    "for index in indices:\n",
    "    print(index)\n",
    "print(\"decode text\")\n",
    "for decode in decode_text:\n",
    "    print(decode)"
   ]
  },
  {
   "cell_type": "code",
   "execution_count": 12,
   "id": "8ef05ff7",
   "metadata": {
    "execution": {
     "iopub.execute_input": "2025-07-15T13:27:01.470024Z",
     "iopub.status.busy": "2025-07-15T13:27:01.469603Z",
     "iopub.status.idle": "2025-07-15T13:27:01.480113Z",
     "shell.execute_reply": "2025-07-15T13:27:01.479251Z",
     "shell.execute_reply.started": "2025-07-15T13:27:01.469991Z"
    },
    "id": "8ef05ff7"
   },
   "outputs": [],
   "source": [
    "class SampleInfo: #下面的info对象\n",
    "    def __init__(self, i, lens):\n",
    "        \"\"\"\n",
    "        记录文本对的序号和长度信息\n",
    "        输入：\n",
    "            - i (int): 文本对的序号。\n",
    "            - lens (list): 文本对源语言和目标语言的长度\n",
    "        \"\"\"\n",
    "        self.i = i\n",
    "        # 加一是考虑填补在文本前后的特殊词元，lens[0]和lens[1]分别表示源语言和目标语言的长度\n",
    "        self.max_len = max(lens[0], lens[1]) + 1\n",
    "        # self.max_len = lens[0] + 1\n",
    "        self.src_len = lens[0] + 1\n",
    "        self.trg_len = lens[1] + 1\n",
    "\n",
    "# 一个批量生成器，根据词元数目的限制来控制批量的大小。它会根据传入的样本信息，在不超过设定大小的情况下，逐步构建批量。\n",
    "#就是箱子\n",
    "class TokenBatchCreator:\n",
    "    def __init__(self, batch_size):\n",
    "        \"\"\"\n",
    "        参数:\n",
    "        batch_size (int): 用于限制批量的大小。箱子大小 高*宽\n",
    "        功能:\n",
    "        初始化了一个空的批量列表 _batch。\n",
    "        设定了初始的最大长度为 -1。\n",
    "        存储了传入的 batch_size。\n",
    "        \"\"\"\n",
    "\n",
    "        self.__batch = []  #这个就是之前的batch_size，就是第一个batch内有多少个样本\n",
    "        self.max_len = -1  #箱子内最长的样本长度\n",
    "        self._batch_size = batch_size # 限制批量的大小,假设是4096\n",
    "\n",
    "    def append(self, info: SampleInfo):\n",
    "        \"\"\"\n",
    "        参数:\n",
    "        info (SampleInfo): 文本对的信息。\n",
    "        功能:\n",
    "        接收一个 SampleInfo 对象，并根据其最大长度信息更新当前批量的最大长度。\n",
    "        如果将新的样本加入批量后超过了批量大小限制，它会返回已有的批量并将新的样本加入新的批量。\n",
    "        否则，它会更新最大长度并将样本添加到当前批量中。\n",
    "        \"\"\"\n",
    "        # 更新当前批量的最大长度\n",
    "        cur_len = info.max_len # 当前样本的长度\n",
    "        max_len = max(self.max_len, cur_len) # 每来一个样本，更新当前批次的最大长度\n",
    "        # 如果新的样本加入批量后超过大小限制，则将已有的批量返回，新的样本加入新的批量\n",
    "        if max_len * (len(self.__batch) + 1) > self._batch_size:\n",
    "            self.__batch, result = [], self.__batch # 保存当前的batch，并返回,这里的result是之前的batch,_batch清空\n",
    "            self.__batch.append(info) #箱子里的第一条样本，放入\n",
    "            self.max_len = cur_len #因为是当前batch的第一个样本，所以它的长度就是当前长度\n",
    "            return result\n",
    "        else:\n",
    "            self.max_len = max_len\n",
    "            self.__batch.append(info) # 将样本添加到当前批量中\n",
    "            return None\n",
    "\n",
    "    @property\n",
    "    def batch(self):\n",
    "        return self.__batch"
   ]
  },
  {
   "cell_type": "code",
   "execution_count": 13,
   "id": "f2f41c51",
   "metadata": {
    "execution": {
     "iopub.execute_input": "2025-07-15T13:27:01.481766Z",
     "iopub.status.busy": "2025-07-15T13:27:01.481228Z",
     "iopub.status.idle": "2025-07-15T13:27:01.490720Z",
     "shell.execute_reply": "2025-07-15T13:27:01.490003Z",
     "shell.execute_reply.started": "2025-07-15T13:27:01.481734Z"
    },
    "id": "f2f41c51"
   },
   "outputs": [],
   "source": [
    "# 当一个自定义对象可以iter(自定义对象)时，会自动调用__iter__方法\n",
    "from torch.utils.data import BatchSampler\n",
    "import numpy as np\n",
    "\n",
    "\n",
    "class TransformerBatchSampler(BatchSampler):\n",
    "    def __init__(self,\n",
    "                 dataset,\n",
    "                 batch_size,\n",
    "                 shuffle_batch=False,\n",
    "                 clip_last_batch=False,\n",
    "                 seed=0):\n",
    "        \"\"\"\n",
    "        批量采样器\n",
    "        输入:\n",
    "            - dataset: 数据集\n",
    "            - batch_size: 批量大小\n",
    "            - shuffle_batch: 是否对生成的批量进行洗牌\n",
    "            - clip_last_batch: 是否裁剪最后剩下的数据\n",
    "            - seed: 随机数种子\n",
    "        \"\"\"\n",
    "        self._dataset = dataset #数据集\n",
    "        self._batch_size = batch_size #箱子大小\n",
    "        self._shuffle_batch = shuffle_batch #是否打乱箱子\n",
    "        self._clip_last_batch = clip_last_batch #是否裁剪最后剩下的数据\n",
    "        self._seed = seed #下面3个是为了随机\n",
    "        self._random = np.random\n",
    "        self._random.seed(seed)\n",
    "\n",
    "        self._sample_infos = [] #所有样本信息\n",
    "        # 根据数据集中的每个样本，创建了对应的 SampleInfo 对象，包含了样本的索引和长度信息。\n",
    "        for i, data in enumerate(self._dataset):\n",
    "            lens = [len(data[0]), len(data[1])] #输入和输出的长度计算放到lens中\n",
    "            self._sample_infos.append(SampleInfo(i, lens)) #每个样本信息\n",
    "\n",
    "    def __iter__(self):\n",
    "        \"\"\"\n",
    "        对数据集中的样本进行排序，排序规则是先按源语言长度排序，如果相同则按目标语言长度排序。\n",
    "        使用 TokenBatchCreator 逐步组装批量数据，当满足批量大小时返回一个批量的样本信息。\n",
    "        如果不裁剪最后一个批次的数据且存在剩余样本，则将这些样本组成最后一个批次。\n",
    "        如果需要对批量进行洗牌，则对批次进行洗牌操作。\n",
    "        通过迭代器，抛出每个批量的样本在数据集中的索引。\n",
    "        \"\"\"\n",
    "        # 排序，如果源语言长度相同则按照目标语言的长度排列\n",
    "        infos = sorted(self._sample_infos,\n",
    "                       key=lambda x: (x.src_len, x.trg_len))\n",
    "        # 把样本放入到箱子里，所有装箱后的箱子，每一个箱子都放入batch_infos\n",
    "        batch_infos = [] #放箱子的列表，每个箱子都是一个batch\n",
    "        batch_creator = TokenBatchCreator(self._batch_size) # 批量生成器,上面自定义的类\n",
    "        for info in infos:\n",
    "            batch = batch_creator.append(info)\n",
    "            # 存够一个batch的样本信息后，会把这个batch返回，否则返回为None\n",
    "            if batch is not None:\n",
    "                batch_infos.append(batch)\n",
    "\n",
    "        # 是否抛弃最后批量的文本对\n",
    "        if not self._clip_last_batch and len(batch_creator.batch) != 0:\n",
    "            batch_infos.append(batch_creator.batch) # 最后一个batch\n",
    "\n",
    "        # 打乱batch，打乱的是箱子的顺序\n",
    "        if self._shuffle_batch:\n",
    "            self._random.shuffle(batch_infos)\n",
    "\n",
    "        self.batch_number = len(batch_infos) #箱子数量\n",
    "        # print(self.batch_number) #为了理解\n",
    "\n",
    "        # 抛出一个箱子里所有样本的序号\n",
    "        for batch in batch_infos:\n",
    "            batch_indices = [info.i for info in batch] # 批量的样本在数据集中的索引，第一个batch[0,1,.....82]，第二个batch[83,84,85,86,87]\n",
    "            yield batch_indices\n",
    "\n",
    "    def __len__(self):\n",
    "        \"\"\"\n",
    "        返回批量的数量\n",
    "        \"\"\"\n",
    "        if hasattr(self, \"batch_number\"):\n",
    "            return self.batch_number\n",
    "        # 计算批量的数量,没有用到下面的情况，不用看\n",
    "        batch_number = (len(self._dataset) +\n",
    "                        self._batch_size) // self._batch_size\n",
    "        return batch_number"
   ]
  },
  {
   "cell_type": "code",
   "execution_count": 14,
   "id": "d9fcba5b",
   "metadata": {
    "execution": {
     "iopub.execute_input": "2025-07-15T13:27:01.491969Z",
     "iopub.status.busy": "2025-07-15T13:27:01.491685Z",
     "iopub.status.idle": "2025-07-15T13:27:02.008981Z",
     "shell.execute_reply": "2025-07-15T13:27:02.008295Z",
     "shell.execute_reply.started": "2025-07-15T13:27:01.491939Z"
    },
    "id": "d9fcba5b"
   },
   "outputs": [],
   "source": [
    "sampler = TransformerBatchSampler(train_ds, batch_size=4096, shuffle_batch=True)\n",
    "\n",
    "#为什么这里每个批量的样本对数目不一样呢？长度*batch_number>4096的时候，就会返回上一个batch，然后新的样本加入新的batch,具体要看TokenBatchCreator的44行"
   ]
  },
  {
   "cell_type": "code",
   "execution_count": 15,
   "id": "5e7a5d82",
   "metadata": {
    "colab": {
     "base_uri": "https://localhost:8080/"
    },
    "execution": {
     "iopub.execute_input": "2025-07-15T13:27:02.010353Z",
     "iopub.status.busy": "2025-07-15T13:27:02.009926Z",
     "iopub.status.idle": "2025-07-15T13:27:02.158681Z",
     "shell.execute_reply": "2025-07-15T13:27:02.158082Z",
     "shell.execute_reply.started": "2025-07-15T13:27:02.010320Z"
    },
    "id": "5e7a5d82",
    "outputId": "0a897fa9-68e5-4d61-d605-a89560a8f44b"
   },
   "outputs": [
    {
     "name": "stdout",
     "output_type": "stream",
     "text": [
      "第0批量的数据中含有文本对是：[31099, 31227, 31794, 31967, 32468, 32648, 32956, 32999, 33772, 35204, 35564, 35945, 35955, 36019, 36512, 38698, 39048, 39651, 39720, 40004, 40279, 42017, 42251, 42467, 43059, 44415, 45875, 45934, 46207, 47328, 48089, 49453, 50473, 50489, 50714, 51162, 51588, 53210, 53411, 53564, 54395, 56849, 56892, 56944, 57398, 57687, 58212, 58298, 58503, 59103, 59360, 60798, 61635, 61682, 62360, 63802, 64457, 65142, 66286, 66797, 68042, 68421, 70009, 70325, 70903, 71347, 71416, 71898, 72351, 73265, 73430, 74734, 74916, 76306, 77265, 77313, 77403, 77451, 78313, 80687, 80929, 81080, 81854, 83637, 83988, 84306, 85433, 85831, 86093, 86119, 86652, 87560, 88301, 89656, 90146, 90515, 90801, 91757, 92236, 92658, 92779, 92856, 94269, 94514, 94527, 94618, 94847, 95020, 95903, 96678, 97052, 97345, 97454]，数量为：113\n",
      "第1批量的数据中含有文本对是：[35796, 17337, 72554, 43319, 98280, 91438, 73172, 85292, 32509, 69532, 341, 14491, 57948, 8365, 61096, 92625, 31344, 28385, 36214, 53357, 87948, 9561, 92252, 45288, 89560, 13327, 43763, 9160, 40217, 91629, 83248]，数量为：31\n",
      "第2批量的数据中含有文本对是：[20223, 29219, 33502, 37159, 40018, 53689, 53912, 56071, 59187, 73984, 76757, 76858, 77493, 77824, 81538, 90186, 96696, 99563, 62, 4763, 5035, 5968, 24028, 30285, 42850, 44803, 45722, 50617, 53593, 63025, 69670, 73946, 75857, 76876, 84980, 96965, 98682, 6990, 13931, 21697, 22352, 24514, 24670, 35972, 37759, 40452, 55424, 60699, 62957, 73445, 73833, 78192, 83753, 84369, 88786, 90135, 3140, 10810, 13795, 20393, 24490, 26861, 40530, 64302, 70959, 80852, 83358, 28490, 68627, 73518, 77315, 81090, 5119, 7122, 26450, 57243, 57760, 60208, 70840, 80767, 92405, 98637, 12549, 15105, 63888, 64045, 39331, 78712, 83149, 19344]，数量为：90\n",
      "第3批量的数据中含有文本对是：[63604, 66561, 67042, 68568, 72630, 73013, 73109, 73119, 78900, 79314, 82253, 84132, 84883, 84953, 85943, 86083, 86430, 88366, 89331, 91693, 96307, 490, 530, 4391, 4667, 6329, 6475, 7305, 8178, 8347, 8402, 10672, 12801, 13929, 18202, 20081, 20312, 22767, 23756, 26293, 26664, 27125, 28435, 30178, 33900, 35152, 36884, 39897, 42998, 43393, 44639, 45003, 45145, 45256, 47740, 52270, 55147, 56034, 58029, 64212, 64376, 65207, 78291, 78382, 80023, 81408, 82611, 84410, 85950, 86542, 88043, 90275, 90832, 96226, 99749, 100668, 774, 2297, 2759, 3582, 6306, 8558, 10857, 11862, 11928, 12540, 14820]，数量为：87\n"
     ]
    }
   ],
   "source": [
    "for idx, batch in enumerate(sampler):\n",
    "    print(\"第{}批量的数据中含有文本对是：{}，数量为：{}\".format(idx, batch, len(batch)))\n",
    "    if idx >= 3:\n",
    "        break"
   ]
  },
  {
   "cell_type": "markdown",
   "id": "9a8adf5a",
   "metadata": {
    "id": "9a8adf5a"
   },
   "source": [
    "# DataLoader"
   ]
  },
  {
   "cell_type": "code",
   "execution_count": 16,
   "id": "b1d2c67e",
   "metadata": {
    "execution": {
     "iopub.execute_input": "2025-07-15T13:27:02.159841Z",
     "iopub.status.busy": "2025-07-15T13:27:02.159527Z",
     "iopub.status.idle": "2025-07-15T13:27:02.165484Z",
     "shell.execute_reply": "2025-07-15T13:27:02.164742Z",
     "shell.execute_reply.started": "2025-07-15T13:27:02.159820Z"
    },
    "id": "b1d2c67e"
   },
   "outputs": [],
   "source": [
    "def collate_fct(batch, tokenizer):\n",
    "    src_words = [pair[0].split() for pair in batch]\n",
    "    trg_words = [pair[1].split() for pair in batch]\n",
    "\n",
    "    # [BOS] src [EOS] [PAD]\n",
    "    encoder_inputs, encoder_inputs_mask = tokenizer.encode(\n",
    "        src_words, padding_first=False, add_bos=True, add_eos=True, return_mask=True\n",
    "        )\n",
    "\n",
    "    # [BOS] trg [PAD]\n",
    "    decoder_inputs = tokenizer.encode(\n",
    "        trg_words, padding_first=False, add_bos=True, add_eos=False, return_mask=False,\n",
    "        )\n",
    "\n",
    "    # trg [EOS] [PAD]\n",
    "    decoder_labels, decoder_labels_mask = tokenizer.encode(\n",
    "        trg_words, padding_first=False, add_bos=False, add_eos=True, return_mask=True\n",
    "        )\n",
    "\n",
    "    return {\n",
    "        \"encoder_inputs\": encoder_inputs.to(device=device),\n",
    "        \"encoder_inputs_mask\": encoder_inputs_mask.to(device=device),\n",
    "        \"decoder_inputs\": decoder_inputs.to(device=device),\n",
    "        \"decoder_labels\": decoder_labels.to(device=device),\n",
    "        \"decoder_labels_mask\": decoder_labels_mask.to(device=device),\n",
    "    }\n"
   ]
  },
  {
   "cell_type": "code",
   "execution_count": 17,
   "id": "17f23bfe",
   "metadata": {
    "colab": {
     "base_uri": "https://localhost:8080/"
    },
    "execution": {
     "iopub.execute_input": "2025-07-15T13:27:02.166521Z",
     "iopub.status.busy": "2025-07-15T13:27:02.166233Z",
     "iopub.status.idle": "2025-07-15T13:27:03.114495Z",
     "shell.execute_reply": "2025-07-15T13:27:03.113766Z",
     "shell.execute_reply.started": "2025-07-15T13:27:02.166502Z"
    },
    "id": "17f23bfe",
    "outputId": "95bfb3e2-bc1b-426f-b54e-6f7d347cd008"
   },
   "outputs": [
    {
     "name": "stdout",
     "output_type": "stream",
     "text": [
      "encoder_inputs\n",
      "tensor([[    1,     2,     2,  2564,     2,     2,     2, 15244,     2,     2,\n",
      "             4,     3,     0],\n",
      "        [    1,  2899,     2,     2,     2,     2, 14237,     2,     4,     3,\n",
      "             0,     0,     0],\n",
      "        [    1,     2,     2,     2,     2,     2,     2,  1240,     2,     4,\n",
      "             3,     0,     0],\n",
      "        [    1,  2564,     2,  2899,     2, 12489,  1056,     2,     2,     2,\n",
      "             2,     4,     3]], device='cuda:0')\n",
      "encoder_inputs_mask\n",
      "tensor([[0, 0, 0, 0, 0, 0, 0, 0, 0, 0, 0, 0, 1],\n",
      "        [0, 0, 0, 0, 0, 0, 0, 0, 0, 0, 1, 1, 1],\n",
      "        [0, 0, 0, 0, 0, 0, 0, 0, 0, 0, 0, 1, 1],\n",
      "        [0, 0, 0, 0, 0, 0, 0, 0, 0, 0, 0, 0, 0]], device='cuda:0')\n",
      "decoder_inputs\n",
      "tensor([[   1,  364,    2,   35,   10, 2939,  106,    5,  380, 1022,    4],\n",
      "        [   1,  961, 8267, 3980,  263, 5321, 1294,    5,    2,    4,    0],\n",
      "        [   1, 6535,  870,    2,   46, 3433,    2,    4,    0,    0,    0],\n",
      "        [   1, 3313, 2594,    2, 2899, 1896,   32, 1380,  263, 9882,    4]],\n",
      "       device='cuda:0')\n",
      "decoder_labels\n",
      "tensor([[ 364,    2,   35,   10, 2939,  106,    5,  380, 1022,    4,    3],\n",
      "        [ 961, 8267, 3980,  263, 5321, 1294,    5,    2,    4,    3,    0],\n",
      "        [6535,  870,    2,   46, 3433,    2,    4,    3,    0,    0,    0],\n",
      "        [3313, 2594,    2, 2899, 1896,   32, 1380,  263, 9882,    4,    3]],\n",
      "       device='cuda:0')\n",
      "decoder_labels_mask\n",
      "tensor([[0, 0, 0, 0, 0, 0, 0, 0, 0, 0, 0],\n",
      "        [0, 0, 0, 0, 0, 0, 0, 0, 0, 0, 1],\n",
      "        [0, 0, 0, 0, 0, 0, 0, 0, 1, 1, 1],\n",
      "        [0, 0, 0, 0, 0, 0, 0, 0, 0, 0, 0]], device='cuda:0')\n"
     ]
    }
   ],
   "source": [
    "from functools import partial # 固定collate_fct的tokenizer参数\n",
    "\n",
    "#可以调大batch_size,来看最终的bleu，如果GPU内存不够，可以减小batch_size\n",
    "sampler = TransformerBatchSampler(train_ds, batch_size=256, shuffle_batch=True)\n",
    "# https://pytorch.org/docs/stable/data.html#torch.utils.data.DataLoader\n",
    "sample_dl = DataLoader(train_ds, batch_sampler=sampler, collate_fn=partial(collate_fct, tokenizer=tokenizer)) #partial函数，固定collate_fct的tokenizer参数\n",
    "\n",
    "for batch in sample_dl:#外层是拿每个batch\n",
    "    for key, value in batch.items():#内层是拿每个batch里面是一个字典\n",
    "        print(key)\n",
    "        print(value)\n",
    "    break"
   ]
  },
  {
   "cell_type": "markdown",
   "id": "597b9d2c",
   "metadata": {
    "id": "597b9d2c"
   },
   "source": [
    "# 定义模型\n",
    "- Transformer模型由Embedding、Transformer-Block组成\n",
    "- Embedding包括：\n",
    "    - WordEmbedding\n",
    "    - PositionEmbedding\n",
    "- 多头注意力\n",
    "- Transformer-Block包括：\n",
    "    - Self-Attention\n",
    "    - Cross-Attention\n",
    "    - MLP"
   ]
  },
  {
   "cell_type": "code",
   "execution_count": 18,
   "id": "158da269",
   "metadata": {
    "colab": {
     "base_uri": "https://localhost:8080/"
    },
    "execution": {
     "iopub.execute_input": "2025-07-15T13:27:03.115647Z",
     "iopub.status.busy": "2025-07-15T13:27:03.115349Z",
     "iopub.status.idle": "2025-07-15T13:27:03.121598Z",
     "shell.execute_reply": "2025-07-15T13:27:03.120955Z",
     "shell.execute_reply.started": "2025-07-15T13:27:03.115627Z"
    },
    "id": "158da269",
    "outputId": "743b3b43-d35a-4144-cd49-2ef9169988fd"
   },
   "outputs": [
    {
     "name": "stdout",
     "output_type": "stream",
     "text": [
      "tensor(0.0100)\n"
     ]
    }
   ],
   "source": [
    "import torch\n",
    "import math\n",
    "\n",
    "def positional_encoding_weights(emb_size):\n",
    "    # 计算底数和指数\n",
    "    base = math.log(10000)\n",
    "    exponent = -5 / emb_size\n",
    "\n",
    "    # 应用指数函数\n",
    "    # 将 base 转换为 tensor，因为 torch.exp 需要 tensor 类型的输入\n",
    "    weight = torch.exp(torch.tensor(base)*exponent)\n",
    "\n",
    "    return weight\n",
    "\n",
    "emb_size = 10  # 举例，可以替换成你需要的大小\n",
    "weight = positional_encoding_weights(emb_size)\n",
    "print(weight)"
   ]
  },
  {
   "cell_type": "markdown",
   "id": "c7335220",
   "metadata": {
    "id": "c7335220"
   },
   "source": [
    "## TransformerEmbedding"
   ]
  },
  {
   "cell_type": "code",
   "execution_count": 19,
   "id": "bbb0dfb5",
   "metadata": {
    "colab": {
     "base_uri": "https://localhost:8080/"
    },
    "execution": {
     "iopub.execute_input": "2025-07-15T13:27:03.122676Z",
     "iopub.status.busy": "2025-07-15T13:27:03.122397Z",
     "iopub.status.idle": "2025-07-15T13:27:03.178986Z",
     "shell.execute_reply": "2025-07-15T13:27:03.178187Z",
     "shell.execute_reply.started": "2025-07-15T13:27:03.122647Z"
    },
    "id": "bbb0dfb5",
    "outputId": "d951c5c8-42f4-4c03-c630-1dfaa8ec8535"
   },
   "outputs": [
    {
     "name": "stdout",
     "output_type": "stream",
     "text": [
      "输入形状: torch.Size([2, 10])\n",
      "输出形状: torch.Size([2, 10, 128])\n"
     ]
    }
   ],
   "source": [
    "import torch\n",
    "import torch.nn as nn\n",
    "import math\n",
    "\n",
    "class TransformerEmbedding(nn.Module):\n",
    "    def __init__(self, config):\n",
    "        super().__init__()\n",
    "        self.vocab_size = config[\"vocab_size\"]\n",
    "        self.hidden_size = config[\"d_model\"]  # 词向量维度\n",
    "        self.pad_idx = config[\"pad_idx\"]\n",
    "        self.max_length = config[\"max_length\"] # 最大token长度\n",
    "        dropout_rate = config[\"dropout\"]  # 随机失活率\n",
    "\n",
    "        # 词嵌入层\n",
    "        self.word_embedding = nn.Embedding(\n",
    "            num_embeddings=self.vocab_size,\n",
    "            embedding_dim=self.hidden_size,\n",
    "            padding_idx=self.pad_idx\n",
    "        )\n",
    "\n",
    "        # 位置编码层 - 不需要训练\n",
    "        self.position_embedding = nn.Embedding(\n",
    "            num_embeddings=self.max_length,\n",
    "            embedding_dim=self.hidden_size\n",
    "        )\n",
    "\n",
    "        # 初始化位置编码，固定不训练\n",
    "        self.register_buffer(\n",
    "            \"position_ids\", torch.arange(self.max_length).expand((1, -1))\n",
    "        )\n",
    "        self.position_embedding.weight.requires_grad = False # 位置编码不需要训练\n",
    "        self._init_position_encoding() # 初始化位置编码\n",
    "\n",
    "        self.dropout = nn.Dropout(dropout_rate)\n",
    "\n",
    "    def _init_position_encoding(self):\n",
    "        \"\"\"初始化位置编码权重\"\"\"\n",
    "        position = torch.arange(self.max_length).unsqueeze(1)\n",
    "        div_term = torch.exp(torch.arange(0, self.hidden_size, 2) * (-math.log(10000.0) / self.hidden_size))\n",
    "\n",
    "        position_encoding = torch.zeros(self.max_length, self.hidden_size)\n",
    "        position_encoding[:, 0::2] = torch.sin(position * div_term)\n",
    "        position_encoding[:, 1::2] = torch.cos(position * div_term)\n",
    "\n",
    "        self.position_embedding.weight.data.copy_(position_encoding)\n",
    "\n",
    "    def forward(self, x):\n",
    "        seq_length = x.size(1)\n",
    "\n",
    "        # 词嵌入\n",
    "        word_embeddings = self.word_embedding(x)\n",
    "\n",
    "        # 位置编码\n",
    "        position_ids = self.position_ids[:, :seq_length]\n",
    "        position_embeddings = self.position_embedding(position_ids)\n",
    "\n",
    "        # 词嵌入 + 位置编码\n",
    "        embeddings = word_embeddings + position_embeddings\n",
    "\n",
    "        # 应用dropout\n",
    "        embeddings = self.dropout(embeddings)\n",
    "\n",
    "        return embeddings\n",
    "# %% cell 23 code\n",
    "\n",
    "# 初始化TransformerEmbedding并进行前向计算\n",
    "config = {\n",
    "    'vocab_size': 30000,\n",
    "    'd_model': 128,\n",
    "    'max_length': 64,\n",
    "    'pad_idx': 0,\n",
    "    'dropout': 0.1,\n",
    "}\n",
    "\n",
    "# 创建模型实例\n",
    "embedding_model = TransformerEmbedding(config=config)\n",
    "\n",
    "# 创建一个示例输入 (batch_size=2, seq_length=10)\n",
    "sample_input = torch.randint(0, config['vocab_size'], (2, 10))\n",
    "print(f\"输入形状: {sample_input.shape}\")\n",
    "\n",
    "# 前向计算\n",
    "output = embedding_model(sample_input)\n",
    "print(f\"输出形状: {output.shape}\")\n",
    "\n"
   ]
  },
  {
   "cell_type": "code",
   "execution_count": 20,
   "id": "4e625af9",
   "metadata": {
    "colab": {
     "base_uri": "https://localhost:8080/",
     "height": 455
    },
    "execution": {
     "iopub.execute_input": "2025-07-15T13:27:03.180502Z",
     "iopub.status.busy": "2025-07-15T13:27:03.180103Z",
     "iopub.status.idle": "2025-07-15T13:27:03.395785Z",
     "shell.execute_reply": "2025-07-15T13:27:03.395033Z",
     "shell.execute_reply.started": "2025-07-15T13:27:03.180468Z"
    },
    "id": "4e625af9",
    "outputId": "d7b1f664-1af9-4773-9812-eb71bb6191bc"
   },
   "outputs": [
    {
     "data": {
      "image/png": "[encoded data removed]",
      "text/plain": [
       "<Figure size 640x480 with 2 Axes>"
      ]
     },
     "metadata": {},
     "output_type": "display_data"
    }
   ],
   "source": [
    "def plot_position_embedding(position_embedding):# 绘制位置编码\n",
    "    plt.pcolormesh(position_embedding) # 绘制位置编码矩阵\n",
    "    plt.xlabel('Depth')\n",
    "    plt.ylabel('Position')\n",
    "    plt.colorbar() # 颜色条，-1到1的颜色范围\n",
    "    plt.show()\n",
    "\n",
    "# 创建TransformerEmbedding实例并绘制位置编码\n",
    "config = {\n",
    "    'vocab_size': 30000,\n",
    "    'd_model': 128,\n",
    "    'max_length': 64,\n",
    "    'pad_idx':0,\n",
    "    'dropout':0.1,\n",
    "}\n",
    "embedding_model = TransformerEmbedding(config=config)\n",
    "position_embedding_data = embedding_model.position_embedding.weight.data\n",
    "plot_position_embedding(position_embedding_data)\n"
   ]
  },
  {
   "cell_type": "markdown",
   "id": "6b85c5f6",
   "metadata": {
    "id": "6b85c5f6"
   },
   "source": [
    "## MultiHeadAttention(缩放点积注意力)"
   ]
  },
  {
   "cell_type": "code",
   "execution_count": 21,
   "id": "99623244",
   "metadata": {
    "execution": {
     "iopub.execute_input": "2025-07-15T13:27:03.397475Z",
     "iopub.status.busy": "2025-07-15T13:27:03.396909Z",
     "iopub.status.idle": "2025-07-15T13:27:03.414403Z",
     "shell.execute_reply": "2025-07-15T13:27:03.413699Z",
     "shell.execute_reply.started": "2025-07-15T13:27:03.397441Z"
    },
    "id": "99623244"
   },
   "outputs": [],
   "source": [
    "from dataclasses import dataclass\n",
    "\n",
    "\n",
    "Tensor = torch.Tensor\n",
    "@dataclass\n",
    "class AttentionOutput:\n",
    "    hidden_states: Tensor\n",
    "    attn_scores: Tensor\n",
    "\n",
    "class MultiHeadAttention(nn.Module):\n",
    "    def __init__(self, config):\n",
    "        super().__init__()\n",
    "        self.hidden_size = config[\"d_model\"]  # 隐藏层大小\n",
    "        self.num_heads = config[\"num_heads\"]  # 多头注意力的头数\n",
    "\n",
    "        # 确保hidden_size可以被num_heads整除\n",
    "        assert self.hidden_size % self.num_heads == 0, \"hidden_size must be divisible by num_heads\"\n",
    "\n",
    "        # 每个头的维度,512/8=64\n",
    "        self.depth = self.hidden_size // self.num_heads\n",
    "\n",
    "        # 创建四个线性变换层\n",
    "        self.Wq = nn.Linear(self.hidden_size, self.hidden_size)\n",
    "        self.Wk = nn.Linear(self.hidden_size, self.hidden_size)\n",
    "        self.Wv = nn.Linear(self.hidden_size, self.hidden_size)\n",
    "        self.Wo = nn.Linear(self.hidden_size, self.hidden_size)\n",
    "\n",
    "    def split_heads(self, x, batch_size):\n",
    "        \"\"\"\n",
    "        将输入张量分割成多个头\n",
    "        x shape: (batch_size, seq_len, hidden_size)\n",
    "        返回 shape: (batch_size, num_heads, seq_len, depth)\n",
    "        \"\"\"\n",
    "        # 重塑为 (batch_size, seq_len, num_heads, depth)\n",
    "        x = x.view(batch_size, -1, self.num_heads, self.depth)\n",
    "        # 转置为 (batch_size, num_heads, seq_len, depth)\n",
    "        return x.permute(0, 2, 1, 3)\n",
    "\n",
    "    def merge_heads(self, x, batch_size):\n",
    "        \"\"\"\n",
    "        将多头注意力的输出合并\n",
    "        x shape: (batch_size, num_heads, seq_len, depth)\n",
    "        返回 shape: (batch_size, seq_len, hidden_size)\n",
    "        \"\"\"\n",
    "        # (batch_size, num_heads, seq_len, depth) 转置回 (batch_size, seq_len, num_heads, depth)\n",
    "        x = x.permute(0, 2, 1, 3)\n",
    "        # 重塑为 (batch_size, seq_len, hidden_size)\n",
    "        return x.reshape(batch_size, -1, self.hidden_size)\n",
    "\n",
    "    def scaled_dot_product_attention(self, Q, K, V, mask=None):\n",
    "        \"\"\"\n",
    "        计算缩放点积注意力\n",
    "        Q, K, V shape: (batch_size, num_heads, seq_len, depth)\n",
    "        mask shape: (batch_size, 1, 1, seq_len) 或 (batch_size, 1, seq_len, seq_len)\n",
    "        \"\"\"\n",
    "        # 计算注意力分数\n",
    "        matmul_qk = torch.matmul(Q, K.transpose(-2, -1))  # (batch_size, num_heads, seq_len_q, seq_len_k)\n",
    "\n",
    "        # 缩放\n",
    "        dk = torch.tensor(self.depth, dtype=torch.float32)\n",
    "        scaled_attention_logits = matmul_qk / torch.sqrt(dk)\n",
    "        # print(f'scaled_attention_logits.shape:{scaled_attention_logits.shape}')\n",
    "        # print(f'mask.shape{mask.shape}')\n",
    "        # 应用掩码（如果提供）\n",
    "        if mask is not None:\n",
    "            scaled_attention_logits += (mask * -1e9)\n",
    "\n",
    "        # softmax归一化\n",
    "        attention_weights = F.softmax(scaled_attention_logits, dim=-1)  # (batch_size, num_heads, seq_len_q, seq_len_k)\n",
    "\n",
    "        # 应用注意力权重\n",
    "        #(batch_size, num_heads, seq_len_q, seq_len_k) * (batch_size, num_heads, seq_len_v, depth) = (batch_size, num_heads, seq_len_q, depth)\n",
    "        output = torch.matmul(attention_weights, V)  # (batch_size, num_heads, seq_len_q, depth)\n",
    "\n",
    "        return output, attention_weights\n",
    "\n",
    "    def forward(self, Q, K, V, mask=None):\n",
    "        \"\"\"\n",
    "        入参Q,K,V都是X\n",
    "        \"\"\"\n",
    "        batch_size = Q.shape[0]\n",
    "\n",
    "        # 线性变换\n",
    "        Q = self.Wq(Q)  # (batch_size, seq_len_q, hidden_size)\n",
    "        K = self.Wk(K)  # (batch_size, seq_len_k, hidden_size)\n",
    "        V = self.Wv(V)  # (batch_size, seq_len_v, hidden_size)\n",
    "\n",
    "        # 分割成多头\n",
    "        Q = self.split_heads(Q, batch_size)  # (batch_size, num_heads, seq_len_q, depth)\n",
    "        K = self.split_heads(K, batch_size)  # (batch_size, num_heads, seq_len_k, depth)\n",
    "        V = self.split_heads(V, batch_size)  # (batch_size, num_heads, seq_len_v, depth)\n",
    "\n",
    "        # 计算缩放点积注意力,scaled_attention (batch_size, num_heads, seq_len_q, depth)\n",
    "        # attention_weights (batch_size, num_heads, seq_len_q, seq_len_k)\n",
    "        scaled_attention, attention_weights = self.scaled_dot_product_attention(Q, K, V, mask)\n",
    "\n",
    "        # 合并多头\n",
    "        concat_attention = self.merge_heads(scaled_attention, batch_size)  # (batch_size, seq_len_q, hidden_size)\n",
    "\n",
    "        # 最后的线性层\n",
    "        output = self.Wo(concat_attention)  # (batch_size, seq_len_q, hidden_size)\n",
    "\n",
    "        return AttentionOutput(hidden_states=output, attn_scores=attention_weights)\n"
   ]
  },
  {
   "cell_type": "code",
   "execution_count": 22,
   "id": "970f1a70",
   "metadata": {
    "colab": {
     "base_uri": "https://localhost:8080/"
    },
    "execution": {
     "iopub.execute_input": "2025-07-15T13:27:03.418650Z",
     "iopub.status.busy": "2025-07-15T13:27:03.418369Z",
     "iopub.status.idle": "2025-07-15T13:27:03.427435Z",
     "shell.execute_reply": "2025-07-15T13:27:03.426753Z",
     "shell.execute_reply.started": "2025-07-15T13:27:03.418628Z"
    },
    "id": "970f1a70",
    "outputId": "2b90290a-8fa9-4bb5-83db-b7cc780d7722"
   },
   "outputs": [
    {
     "name": "stdout",
     "output_type": "stream",
     "text": [
      "输入张量形状: torch.Size([2, 4, 8])\n",
      "输出张量形状: torch.Size([2, 4, 8])\n",
      "注意力权重形状: torch.Size([2, 2, 4, 4])\n"
     ]
    }
   ],
   "source": [
    "# 验证MultiHeadAttention的正向计算\n",
    "import torch\n",
    "import matplotlib.pyplot as plt\n",
    "\n",
    "# 创建一个简单的测试用例\n",
    "batch_size = 2\n",
    "seq_len = 4\n",
    "hidden_size = 8\n",
    "num_heads = 2\n",
    "\n",
    "# 创建输入张量\n",
    "x = torch.randn(batch_size, seq_len, hidden_size)\n",
    "print(f\"输入张量形状: {x.shape}\")\n",
    "\n",
    "# 创建配置字典\n",
    "config = {\n",
    "    'd_model': hidden_size,\n",
    "    'num_heads': num_heads\n",
    "}\n",
    "\n",
    "# 创建MultiHeadAttention实例\n",
    "mha = MultiHeadAttention(config)\n",
    "\n",
    "# 执行前向传播 (Q=K=V=x，无掩码)\n",
    "output = mha(x, x, x)\n",
    "\n",
    "# 打印结果\n",
    "print(f\"输出张量形状: {output.hidden_states.shape}\")\n",
    "print(f\"注意力权重形状: {output.attn_scores.shape}\")\n"
   ]
  },
  {
   "cell_type": "code",
   "execution_count": 23,
   "id": "f2f28a04",
   "metadata": {
    "colab": {
     "base_uri": "https://localhost:8080/"
    },
    "execution": {
     "iopub.execute_input": "2025-07-15T13:27:03.428480Z",
     "iopub.status.busy": "2025-07-15T13:27:03.428214Z",
     "iopub.status.idle": "2025-07-15T13:27:03.435759Z",
     "shell.execute_reply": "2025-07-15T13:27:03.435149Z",
     "shell.execute_reply.started": "2025-07-15T13:27:03.428459Z"
    },
    "id": "f2f28a04",
    "outputId": "210db89b-2e82-401a-8509-f865dc50c36a"
   },
   "outputs": [
    {
     "name": "stdout",
     "output_type": "stream",
     "text": [
      "查询张量形状: torch.Size([2, 4, 8])\n",
      "键值张量形状: torch.Size([2, 6, 8])\n",
      "输出张量形状: torch.Size([2, 4, 8])\n",
      "注意力权重形状: torch.Size([2, 2, 4, 6])\n"
     ]
    }
   ],
   "source": [
    "# 验证MultiHeadAttention做交叉注意力正向计算的没问题的\n",
    "import torch\n",
    "import matplotlib.pyplot as plt\n",
    "\n",
    "# 创建一个简单的测试用例\n",
    "batch_size = 2\n",
    "seq_len_q = 4\n",
    "seq_len_kv = 6  # 不同的序列长度\n",
    "hidden_size = 8\n",
    "num_heads = 2\n",
    "\n",
    "# 创建输入张量\n",
    "q = torch.randn(batch_size, seq_len_q, hidden_size)\n",
    "kv = torch.randn(batch_size, seq_len_kv, hidden_size)\n",
    "print(f\"查询张量形状: {q.shape}\")\n",
    "print(f\"键值张量形状: {kv.shape}\")\n",
    "\n",
    "# 创建配置字典\n",
    "config = {\n",
    "    'd_model': hidden_size,\n",
    "    'num_heads': num_heads\n",
    "}\n",
    "\n",
    "# 创建MultiHeadAttention实例\n",
    "mha = MultiHeadAttention(config)\n",
    "\n",
    "# 执行前向传播 (Q=q, K=V=kv，无掩码)\n",
    "output = mha(q, kv, kv)\n",
    "\n",
    "# 打印结果\n",
    "print(f\"输出张量形状: {output.hidden_states.shape}\")\n",
    "print(f\"注意力权重形状: {output.attn_scores.shape}\")\n"
   ]
  },
  {
   "cell_type": "markdown",
   "id": "26e43424",
   "metadata": {
    "id": "26e43424"
   },
   "source": [
    "## TransformerBlock"
   ]
  },
  {
   "cell_type": "code",
   "execution_count": 24,
   "id": "66324f21",
   "metadata": {
    "execution": {
     "iopub.execute_input": "2025-07-15T13:27:03.436861Z",
     "iopub.status.busy": "2025-07-15T13:27:03.436516Z",
     "iopub.status.idle": "2025-07-15T13:27:03.446349Z",
     "shell.execute_reply": "2025-07-15T13:27:03.445750Z",
     "shell.execute_reply.started": "2025-07-15T13:27:03.436841Z"
    },
    "id": "66324f21"
   },
   "outputs": [],
   "source": [
    "from dataclasses import dataclass\n",
    "from typing import Optional\n",
    "\n",
    "@dataclass\n",
    "class TransformerBlockOutput:\n",
    "    hidden_states: torch.Tensor\n",
    "    self_attn_scores: torch.Tensor\n",
    "    cross_attn_scores: Optional[torch.Tensor] = None\n",
    "\n",
    "class TransformerBlock(nn.Module):\n",
    "    def __init__(self, config, has_cross_attention=False):\n",
    "        super().__init__()\n",
    "        self.has_cross_attention = has_cross_attention\n",
    "        self.d_model = config['d_model']\n",
    "        self.ffn_dim = config.get('dim_feedforward', 4 * self.d_model)  # 使用配置中的ffn_dim或默认值\n",
    "\n",
    "        # 为不同组件创建独立的dropout层\n",
    "        self.self_attn_dropout = nn.Dropout(config.get('dropout', 0.1))\n",
    "        self.cross_attn_dropout = nn.Dropout(config.get('dropout', 0.1))\n",
    "        self.ffn_dropout = nn.Dropout(config.get('dropout', 0.1))\n",
    "\n",
    "        # 自注意力层\n",
    "        self.self_attention = MultiHeadAttention(config)\n",
    "        # 层归一化\n",
    "        self.self_attn_layer_norm = nn.LayerNorm(self.d_model)\n",
    "\n",
    "        # 交叉注意力层（可选）\n",
    "        if has_cross_attention:\n",
    "            self.cross_attention = MultiHeadAttention(config)\n",
    "            self.cross_attn_layer_norm = nn.LayerNorm(self.d_model)\n",
    "\n",
    "        # 前馈神经网络\n",
    "        self.ffn = nn.Sequential(\n",
    "            nn.Linear(self.d_model, self.ffn_dim),\n",
    "            nn.ReLU(),\n",
    "            # nn.Dropout(config.get('dropout', 0.1)),  # FFN内部的dropout\n",
    "            nn.Linear(self.ffn_dim, self.d_model)\n",
    "        )\n",
    "        self.ffn_layer_norm = nn.LayerNorm(self.d_model)\n",
    "\n",
    "    def forward(self, x, encoder_output=None, self_attn_mask=None, cross_attn_mask=None):\n",
    "        # 自注意力层 + dropout + 残差连接 + LayerNorm\n",
    "        self_attn_output = self.self_attention(x, x, x, self_attn_mask)\n",
    "        x = x + self.self_attn_dropout(self_attn_output.hidden_states)  # 使用专用的self_attn_dropout\n",
    "        x = self.self_attn_layer_norm(x)\n",
    "\n",
    "        self_attn_scores = self_attn_output.attn_scores\n",
    "        cross_attn_scores = None\n",
    "\n",
    "        # 交叉注意力层（如果有） + dropout + 残差连接 + LayerNorm\n",
    "        if self.has_cross_attention and encoder_output is not None:\n",
    "            cross_attn_output = self.cross_attention(x, encoder_output, encoder_output, cross_attn_mask)\n",
    "            x = x + self.cross_attn_dropout(cross_attn_output.hidden_states)  # 使用专用的cross_attn_dropout\n",
    "            x = self.cross_attn_layer_norm(x)\n",
    "            cross_attn_scores = cross_attn_output.attn_scores\n",
    "\n",
    "        # 前馈神经网络 + dropout + 残差连接 + LayerNorm\n",
    "        ffn_output = self.ffn(x)\n",
    "        x = x + self.ffn_dropout(ffn_output)  # 使用专用的ffn_dropout\n",
    "        x = self.ffn_layer_norm(x)\n",
    "\n",
    "        return TransformerBlockOutput(\n",
    "            hidden_states=x,\n",
    "            self_attn_scores=self_attn_scores,\n",
    "            cross_attn_scores=cross_attn_scores\n",
    "        )\n"
   ]
  },
  {
   "cell_type": "markdown",
   "id": "36a5a199",
   "metadata": {
    "id": "36a5a199"
   },
   "source": [
    "## TransformerEncoder"
   ]
  },
  {
   "cell_type": "code",
   "execution_count": 25,
   "id": "081570d2",
   "metadata": {
    "execution": {
     "iopub.execute_input": "2025-07-15T13:27:03.447348Z",
     "iopub.status.busy": "2025-07-15T13:27:03.447109Z",
     "iopub.status.idle": "2025-07-15T13:27:03.453243Z",
     "shell.execute_reply": "2025-07-15T13:27:03.452682Z",
     "shell.execute_reply.started": "2025-07-15T13:27:03.447328Z"
    },
    "id": "081570d2"
   },
   "outputs": [],
   "source": [
    "from dataclasses import dataclass\n",
    "from typing import List\n",
    "\n",
    "import torch\n",
    "from torch import Tensor\n",
    "import torch.nn as nn\n",
    "\n",
    "@dataclass\n",
    "class TransformerEncoderOutput:\n",
    "    last_hidden_states: Tensor\n",
    "    attn_scores: List[Tensor]\n",
    "\n",
    "class TransformerEncoder(nn.Module):\n",
    "    def __init__(self, config):\n",
    "        super().__init__()\n",
    "        self.num_layers = config.get('encoder_layers', 6)\n",
    "\n",
    "        # 创建多层Transformer编码器块\n",
    "        self.layers = nn.ModuleList([\n",
    "            TransformerBlock(config, has_cross_attention=False)\n",
    "            for _ in range(self.num_layers)\n",
    "        ])\n",
    "\n",
    "    def forward(self, x, attention_mask=None):\n",
    "        # 用于收集所有层的注意力分数\n",
    "        all_attn_scores = []\n",
    "\n",
    "        # 依次通过每个编码器层\n",
    "        for layer in self.layers:\n",
    "            output = layer(x, self_attn_mask=attention_mask)\n",
    "            x = output.hidden_states\n",
    "            all_attn_scores.append(output.self_attn_scores)\n",
    "\n",
    "        return TransformerEncoderOutput(\n",
    "            last_hidden_states=x,\n",
    "            attn_scores=all_attn_scores\n",
    "        )\n"
   ]
  },
  {
   "cell_type": "code",
   "execution_count": 26,
   "id": "abe12b93",
   "metadata": {
    "colab": {
     "base_uri": "https://localhost:8080/"
    },
    "execution": {
     "iopub.execute_input": "2025-07-15T13:27:03.454449Z",
     "iopub.status.busy": "2025-07-15T13:27:03.454193Z",
     "iopub.status.idle": "2025-07-15T13:27:03.481245Z",
     "shell.execute_reply": "2025-07-15T13:27:03.480562Z",
     "shell.execute_reply.started": "2025-07-15T13:27:03.454431Z"
    },
    "id": "abe12b93",
    "outputId": "448a71dc-060b-4d71-d50d-5bf4ab5ae8aa"
   },
   "outputs": [
    {
     "name": "stdout",
     "output_type": "stream",
     "text": [
      "tensor([[[[0, 0, 0, 0, 0, 0, 0, 0, 0, 0, 0, 0]]],\n",
      "\n",
      "\n",
      "        [[[0, 0, 0, 0, 0, 0, 0, 0, 1, 1, 1, 1]]]])\n",
      "输出张量形状: torch.Size([2, 12, 64])\n",
      "注意力层数: 2\n",
      "第一层注意力分数形状: torch.Size([2, 4, 12, 12])\n",
      "第一层第二个样本的注意力分数，第9个位置是否接近0: False\n"
     ]
    }
   ],
   "source": [
    "def test_transformer_encoder():\n",
    "    # 创建一个简单的配置\n",
    "    config = {\n",
    "        'encoder_layers': 2,\n",
    "        'd_model': 64,\n",
    "        'num_heads': 4,\n",
    "        'dim_feedforward': 128,\n",
    "        'dropout': 0.1,\n",
    "        'max_length': 100,\n",
    "        'vocab_size': vocab_size,\n",
    "        'pad_idx': 0,\n",
    "    }\n",
    "\n",
    "    # 实例化模型\n",
    "    encoder = TransformerEncoder(config)\n",
    "\n",
    "    # 生成一个批次的输入\n",
    "    batch_size = 2\n",
    "    hidden_size = config['d_model']\n",
    "\n",
    "    inputs_words = [\"The quick brown fox jumps over the lazy dog .\", \"What does the fox say ?\"]\n",
    "\n",
    "    #encode变为id\n",
    "    # 使用tokenizer将文本编码为token IDs\n",
    "    src_sequence, src_padding_mask = tokenizer.encode([w.split() for w in inputs_words], return_mask=True)\n",
    "    # 通过TransformerEmbedding处理输入序列\n",
    "    src_embedded = TransformerEmbedding(config)(src_sequence)\n",
    "    print(src_padding_mask.unsqueeze(1).unsqueeze(2))\n",
    "\n",
    "    # 执行前向传播\n",
    "    output = encoder(src_embedded, src_padding_mask.unsqueeze(1).unsqueeze(2))\n",
    "\n",
    "    # 验证输出形状\n",
    "    print(f\"输出张量形状: {output.last_hidden_states.shape}\")\n",
    "    print(f\"注意力层数: {len(output.attn_scores)}\")\n",
    "    print(f\"第一层注意力分数形状: {output.attn_scores[0].shape}\")\n",
    "\n",
    "    # 检查注意力掩码是否正常工作\n",
    "    # 对于被掩盖的位置，注意力分数应该很小\n",
    "    print(f\"第一层第二个样本的注意力分数，第9个位置是否接近0: {output.attn_scores[0][1, :, 8:].mean().item() < 0.01}\")\n",
    "\n",
    "    return output\n",
    "\n",
    "# 运行测试\n",
    "test_output = test_transformer_encoder()\n"
   ]
  },
  {
   "cell_type": "markdown",
   "id": "97a1b24f",
   "metadata": {
    "id": "97a1b24f"
   },
   "source": [
    "## TransformerDecoder"
   ]
  },
  {
   "cell_type": "code",
   "execution_count": 27,
   "id": "eebcf9f5",
   "metadata": {
    "execution": {
     "iopub.execute_input": "2025-07-15T13:27:03.482396Z",
     "iopub.status.busy": "2025-07-15T13:27:03.482127Z",
     "iopub.status.idle": "2025-07-15T13:27:03.489048Z",
     "shell.execute_reply": "2025-07-15T13:27:03.488416Z",
     "shell.execute_reply.started": "2025-07-15T13:27:03.482375Z"
    },
    "id": "eebcf9f5"
   },
   "outputs": [],
   "source": [
    "from dataclasses import dataclass\n",
    "from typing import List\n",
    "\n",
    "@dataclass\n",
    "class TransformerDecoderOutput:\n",
    "    last_hidden_states: torch.Tensor\n",
    "    self_attn_scores: List[torch.Tensor]\n",
    "    cross_attn_scores: List[torch.Tensor]\n",
    "\n",
    "class TransformerDecoder(nn.Module):\n",
    "    def __init__(self, config):\n",
    "        super().__init__()\n",
    "        self.layers = nn.ModuleList([\n",
    "            TransformerBlock(\n",
    "                config,\n",
    "                has_cross_attention=True\n",
    "            )\n",
    "            for _ in range(config['num_decoder_layers'])\n",
    "        ])\n",
    "        self.dropout = nn.Dropout(config['dropout'])\n",
    "\n",
    "    def forward(self, x, encoder_output, self_attn_mask=None, cross_attn_mask=None):\n",
    "        self_attn_scores = [] # 存储每个层的自注意力分数\n",
    "        cross_attn_scores = [] # 存储每个层的交叉注意力分数\n",
    "\n",
    "        for layer in self.layers:\n",
    "            layer_output = layer(\n",
    "                x,\n",
    "                encoder_output,\n",
    "                self_attn_mask,\n",
    "                cross_attn_mask\n",
    "            )\n",
    "\n",
    "            x = layer_output.hidden_states\n",
    "            self_attn_scores.append(layer_output.self_attn_scores)\n",
    "            cross_attn_scores.append(layer_output.cross_attn_scores)\n",
    "\n",
    "        return TransformerDecoderOutput(\n",
    "            last_hidden_states=x,\n",
    "            self_attn_scores=self_attn_scores,\n",
    "            cross_attn_scores=cross_attn_scores\n",
    "        )\n"
   ]
  },
  {
   "cell_type": "markdown",
   "id": "e1e476f2",
   "metadata": {
    "id": "e1e476f2"
   },
   "source": [
    "## 生成look ahead mask"
   ]
  },
  {
   "cell_type": "code",
   "execution_count": 28,
   "id": "8254102c",
   "metadata": {
    "colab": {
     "base_uri": "https://localhost:8080/"
    },
    "execution": {
     "iopub.execute_input": "2025-07-15T13:27:03.490444Z",
     "iopub.status.busy": "2025-07-15T13:27:03.490080Z",
     "iopub.status.idle": "2025-07-15T13:27:03.496796Z",
     "shell.execute_reply": "2025-07-15T13:27:03.496103Z",
     "shell.execute_reply.started": "2025-07-15T13:27:03.490413Z"
    },
    "id": "8254102c",
    "outputId": "961d2c77-2d52-4ead-de5f-7fa840bc8346"
   },
   "outputs": [
    {
     "data": {
      "text/plain": [
       "tensor([[False,  True,  True,  True,  True],\n",
       "        [False, False,  True,  True,  True],\n",
       "        [False, False, False,  True,  True],\n",
       "        [False, False, False, False,  True],\n",
       "        [False, False, False, False, False]])"
      ]
     },
     "execution_count": 28,
     "metadata": {},
     "output_type": "execute_result"
    }
   ],
   "source": [
    "(torch.triu(torch.ones(5, 5))==0).transpose(-1, -2)"
   ]
  },
  {
   "cell_type": "code",
   "execution_count": 29,
   "id": "1db53d89",
   "metadata": {
    "colab": {
     "base_uri": "https://localhost:8080/",
     "height": 634
    },
    "execution": {
     "iopub.execute_input": "2025-07-15T13:27:03.498091Z",
     "iopub.status.busy": "2025-07-15T13:27:03.497718Z",
     "iopub.status.idle": "2025-07-15T13:27:03.712886Z",
     "shell.execute_reply": "2025-07-15T13:27:03.711991Z",
     "shell.execute_reply.started": "2025-07-15T13:27:03.498042Z"
    },
    "id": "1db53d89",
    "outputId": "760aae68-547a-4053-ce55-67cb32170e4b"
   },
   "outputs": [
    {
     "name": "stdout",
     "output_type": "stream",
     "text": [
      "Look-ahead mask for size 3:\n",
      "tensor([[False,  True,  True],\n",
      "        [False, False,  True],\n",
      "        [False, False, False]])\n",
      "\n",
      "Look-ahead mask for size 5:\n",
      "tensor([[False,  True,  True,  True,  True],\n",
      "        [False, False,  True,  True,  True],\n",
      "        [False, False, False,  True,  True],\n",
      "        [False, False, False, False,  True],\n",
      "        [False, False, False, False, False]])\n"
     ]
    },
    {
     "data": {
      "image/png": "[encoded data removed]",
      "text/plain": [
       "<Figure size 480x480 with 2 Axes>"
      ]
     },
     "metadata": {},
     "output_type": "display_data"
    }
   ],
   "source": [
    "def generate_look_ahead_mask(size):\n",
    "    \"\"\"\n",
    "    生成上三角掩码(look-ahead mask)，用于Transformer解码器中的自注意力机制\n",
    "\n",
    "    Args:\n",
    "        size (int): 掩码的大小 (size x size)\n",
    "\n",
    "    Returns:\n",
    "        torch.Tensor: 布尔类型的上三角掩码，其中True表示被掩盖的位置\n",
    "    \"\"\"\n",
    "    # 创建上三角矩阵(1s在上三角，包括对角线；0s在下三角)\n",
    "    mask = torch.triu(torch.ones(size, size), diagonal=1).bool()\n",
    "\n",
    "    # 在解码器的自注意力中，我们通常掩盖未来的位置(右上方)\n",
    "    # 所以需要转置使得右上方为True(被掩盖)\n",
    "    return mask\n",
    "\n",
    "# 测试不同大小的look-ahead mask\n",
    "print(\"Look-ahead mask for size 3:\")\n",
    "print(generate_look_ahead_mask(3))\n",
    "print(\"\\nLook-ahead mask for size 5:\")\n",
    "print(generate_look_ahead_mask(5))\n",
    "plt.matshow(generate_look_ahead_mask(16))\n",
    "plt.colorbar()\n",
    "plt.xlabel(\"keys\")\n",
    "plt.ylabel(\"querys\")\n",
    "plt.title(\"1 means mask while 0 means unmask\")\n",
    "plt.show()"
   ]
  },
  {
   "cell_type": "code",
   "execution_count": 30,
   "id": "a473db90",
   "metadata": {
    "colab": {
     "base_uri": "https://localhost:8080/",
     "height": 967
    },
    "execution": {
     "iopub.execute_input": "2025-07-15T13:27:03.714384Z",
     "iopub.status.busy": "2025-07-15T13:27:03.714034Z",
     "iopub.status.idle": "2025-07-15T13:27:04.421687Z",
     "shell.execute_reply": "2025-07-15T13:27:04.420955Z",
     "shell.execute_reply.started": "2025-07-15T13:27:03.714362Z"
    },
    "id": "a473db90",
    "outputId": "dab9abaf-4e5e-47f6-831a-0107de0e5109"
   },
   "outputs": [
    {
     "name": "stdout",
     "output_type": "stream",
     "text": [
      "['[BOS]', '[UNK]', 'quick', 'brown', '[UNK]', 'jumps', 'over', 'the', '[UNK]', 'dog', '.', '[EOS]']\n"
     ]
    },
    {
     "data": {
      "image/png": "[encoded data removed]",
      "text/plain": [
       "<Figure size 1000x500 with 2 Axes>"
      ]
     },
     "metadata": {},
     "output_type": "display_data"
    },
    {
     "name": "stdout",
     "output_type": "stream",
     "text": [
      "--------------------------------------------------\n",
      "['[BOS]', '[UNK]', 'does', 'the', '[UNK]', 'say', '?', '[EOS]', '[PAD]', '[PAD]', '[PAD]', '[PAD]']\n"
     ]
    },
    {
     "data": {
      "image/png": "[encoded data removed]",
      "text/plain": [
       "<Figure size 1000x500 with 2 Axes>"
      ]
     },
     "metadata": {},
     "output_type": "display_data"
    },
    {
     "name": "stdout",
     "output_type": "stream",
     "text": [
      "--------------------------------------------------\n"
     ]
    }
   ],
   "source": [
    "inputs_words = [\"The quick brown fox jumps over the lazy dog .\", \"What does the fox say ?\"]\n",
    "\n",
    "#encode变为id\n",
    "inputs_ids, input_padding_mask = tokenizer.encode([w.split() for w in inputs_words], return_mask=True)\n",
    "for i in range(len(inputs_words)):\n",
    "    decode_text = tokenizer.decode(inputs_ids[i: i+1].tolist(), remove_bos=False, remove_eos=False, remove_pad=False, split=True)[0]\n",
    "    print(decode_text)\n",
    "    # print(input_padding_mask[i].reshape(1, -1))\n",
    "    #repeat_interleave作用：将input_padding_mask[i]重复inputs_ids.shape[-1]次，dim=0表示在第0维度上重复\n",
    "    self_attn_mask  = input_padding_mask[i].reshape(1, -1).repeat_interleave(inputs_ids.shape[-1], dim=0)\n",
    "    # print(input_mask[i].reshape(1, -1).repeat_interleave(inputs_ids.shape[-1], dim=0))\n",
    "    look_ahead_mask = generate_look_ahead_mask(inputs_ids.shape[-1])\n",
    "\n",
    "    fig, axs = plt.subplots(1, 2, figsize=(10, 5))\n",
    "    axs[0].matshow(self_attn_mask)\n",
    "    axs[0].set_title(\"self_attn_mask\")\n",
    "    axs[0].set_yticks(range(len(decode_text)), decode_text, fontsize=6)\n",
    "    axs[0].set_ylabel(\"querys\")\n",
    "    axs[0].set_xticks(range(len(decode_text)), decode_text, fontsize=6)\n",
    "    axs[0].set_xlabel(\"keys\")\n",
    "    axs[1].matshow(look_ahead_mask)\n",
    "    axs[1].set_title(\"look_ahead_mask\")\n",
    "    axs[1].set_yticks(range(len(decode_text)), decode_text, fontsize=6)\n",
    "    axs[1].set_ylabel(\"querys\")\n",
    "    axs[1].set_xticks(range(len(decode_text)), decode_text, fontsize=6)\n",
    "    axs[1].set_xlabel(\"keys\")\n",
    "    plt.show()\n",
    "    print('-'*50)"
   ]
  },
  {
   "cell_type": "markdown",
   "id": "84f2a6c9",
   "metadata": {
    "id": "84f2a6c9"
   },
   "source": [
    "## TransformerModel"
   ]
  },
  {
   "cell_type": "code",
   "execution_count": 31,
   "id": "59fa00df",
   "metadata": {
    "execution": {
     "iopub.execute_input": "2025-07-15T13:27:04.423025Z",
     "iopub.status.busy": "2025-07-15T13:27:04.422681Z",
     "iopub.status.idle": "2025-07-15T13:27:04.442187Z",
     "shell.execute_reply": "2025-07-15T13:27:04.441166Z",
     "shell.execute_reply.started": "2025-07-15T13:27:04.423003Z"
    },
    "id": "59fa00df"
   },
   "outputs": [],
   "source": [
    "from dataclasses import dataclass\n",
    "from typing import Optional, List, Dict, Any, Tuple\n",
    "import torch\n",
    "import torch.nn as nn\n",
    "import torch.nn.functional as F\n",
    "import math\n",
    "import numpy as np\n",
    "import time\n",
    "\n",
    "\n",
    "@dataclass\n",
    "class TransformerOutput:\n",
    "    logits: torch.Tensor\n",
    "    encoder_attentions: Optional[List[torch.Tensor]] = None\n",
    "    decoder_attentions: Optional[List[torch.Tensor]] = None\n",
    "    cross_attentions: Optional[List[torch.Tensor]] = None\n",
    "    preds: Optional[torch.Tensor] = None\n",
    "\n",
    "\n",
    "class TransformerModel(nn.Module):\n",
    "    def __init__(self, config: Dict[str, Any]):\n",
    "        super().__init__()\n",
    "        self.d_model = config.get(\"d_model\", 512)\n",
    "        self.num_heads = config.get(\"num_heads\", 8)\n",
    "        self.pad_token_id = config.get(\"pad_token_id\", 0)\n",
    "        self.pad_idx = config.get(\"pad_idx\", 0)\n",
    "        self.vocab_size = config.get(\"vocab_size\")\n",
    "        self.share_embeddings = config.get(\"share_embeddings\", False)\n",
    "        self.max_length=config['max_length']\n",
    "        self.bos_idx = config[\"bos_idx\"]\n",
    "        self.eos_idx = config[\"eos_idx\"]\n",
    "        # Embedding layers using TransformerEmbedding\n",
    "        self.src_embedding = TransformerEmbedding(config=config)\n",
    "\n",
    "        if self.share_embeddings:\n",
    "            self.tgt_embedding = self.src_embedding\n",
    "            # Share embedding weights with output projection layer\n",
    "            self.output_projection = lambda x: torch.matmul(\n",
    "                x, self.tgt_embedding.get_word_embedding_weights().T\n",
    "            )  # 输出层，共享参数，直接拿原有embedding矩阵的转置，节省内存\n",
    "        else:\n",
    "            self.tgt_embedding = TransformerEmbedding(config=config)\n",
    "            self.output_projection = nn.Linear(self.d_model, self.vocab_size)\n",
    "\n",
    "        # Encoder and Decoder\n",
    "        self.encoder = TransformerEncoder(config=config)\n",
    "\n",
    "        self.decoder = TransformerDecoder(config=config)\n",
    "\n",
    "        # Initialize parameters with Xavier uniform\n",
    "        self._init_parameters()\n",
    "\n",
    "    def _init_parameters(self):\n",
    "        for p in self.parameters():\n",
    "            if p.dim() > 1:\n",
    "                nn.init.xavier_uniform_(p)\n",
    "\n",
    "    def forward(\n",
    "        self,\n",
    "        src_inputs: torch.Tensor,\n",
    "        tgt_inputs: torch.Tensor,\n",
    "        src_padding_mask: Optional[torch.Tensor] = None,\n",
    "        tgt_padding_mask: Optional[torch.Tensor] = None,\n",
    "    ) -> TransformerOutput:\n",
    "        batch_size, src_seq_len = src_inputs.size()\n",
    "        bs, tgt_seq_len = tgt_inputs.size()\n",
    "\n",
    "        # Create masks if not provided，实际是一定会传的，shape从[batch_size,src_seq_len]变为[batch_size,1,1,src_seq_len]\n",
    "        src_padding_mask = src_padding_mask.unsqueeze(1).unsqueeze(2)\n",
    "\n",
    "        if tgt_padding_mask is None:\n",
    "            tgt_padding_mask = tgt_inputs == self.pad_token_id\n",
    "\n",
    "        # Create look-ahead mask for decoder\n",
    "        look_ahead_mask = generate_look_ahead_mask(tgt_seq_len).to(tgt_inputs.device)\n",
    "\n",
    "        # print(f\"tgt_padding_mask.shape:{tgt_padding_mask.shape}\")\n",
    "        # 合并decoder_inputs的padding_mask和look_ahead_mask,shape变为[batch_size,tgt_seq_len,tgt_seq_len]\n",
    "        combined_mask = torch.max(\n",
    "            tgt_padding_mask.unsqueeze(1).repeat(1, tgt_seq_len, 1), look_ahead_mask\n",
    "        )\n",
    "        combined_mask = combined_mask.unsqueeze(\n",
    "            1\n",
    "        )  # 变为[batch_size, 1, tgt_seq_len, tgt_seq_len]\n",
    "        # print(f\"combined_mask.shape:{combined_mask.shape}\")\n",
    "\n",
    "        # Embeddings\n",
    "        src_embedded = self.src_embedding(src_inputs)\n",
    "        tgt_embedded = self.tgt_embedding(tgt_inputs)\n",
    "\n",
    "        # 编码器模块计算\n",
    "        encoder_output = self.encoder(src_embedded, attention_mask=src_padding_mask)\n",
    "        # print(f\"src_padding_mask.shape:{src_padding_mask.shape}\")\n",
    "        # print(f\"combined_mask.shape:{combined_mask.shape}\")\n",
    "        # 解码器模块计算\n",
    "        decoder_output = self.decoder(\n",
    "            tgt_embedded,\n",
    "            encoder_output.last_hidden_states,\n",
    "            self_attn_mask=combined_mask,\n",
    "            cross_attn_mask=src_padding_mask,  # 交叉注意力mask\n",
    "        )\n",
    "\n",
    "        # 分类层\n",
    "        logits = self.output_projection(decoder_output.last_hidden_states)\n",
    "\n",
    "        return TransformerOutput(\n",
    "            logits=logits,\n",
    "            encoder_attentions=encoder_output.attn_scores,\n",
    "            decoder_attentions=decoder_output.self_attn_scores,\n",
    "            cross_attentions=decoder_output.cross_attn_scores,\n",
    "        )\n",
    "\n",
    "    @torch.no_grad()\n",
    "    def infer(self, encoder_inputs, encoder_inputs_mask=None):\n",
    "        if encoder_inputs_mask is None:  # 应对多个样本同时进行推理\n",
    "            encoder_inputs_mask = encoder_inputs.eq(self.pad_idx)\n",
    "        encoder_inputs_mask = encoder_inputs_mask.unsqueeze(1).unsqueeze(\n",
    "            2\n",
    "        )  # [batch_size, 1, 1, src_len],[1,src_len]相加时，会自动广播到[batch_size,1,src_len,src_len]\n",
    "        look_ahead_mask = generate_look_ahead_mask(self.max_length)\n",
    "        look_ahead_mask = (\n",
    "            look_ahead_mask.unsqueeze(0).unsqueeze(0).to(encoder_inputs.device)\n",
    "        )  # [1, 1, trg_len, trg_len]\n",
    "\n",
    "        # 做embedding\n",
    "        encoder_inputs_embeds = self.src_embedding(encoder_inputs)\n",
    "        encoder_outputs = self.encoder(\n",
    "            encoder_inputs_embeds,\n",
    "            encoder_inputs_mask\n",
    "        )\n",
    "        # 解码器模块计算\n",
    "        decoder_inputs = torch.Tensor([self.bos_idx] * encoder_inputs.shape[0]).reshape(-1, 1).long().to(device=encoder_inputs.device)\n",
    "        for cur_len in tqdm(range(1, self.max_length + 1)):\n",
    "            # 做decoder的embedding\n",
    "            decoder_inputs_embeds = self.tgt_embedding(decoder_inputs)\n",
    "            decoder_outputs = self.decoder(\n",
    "                decoder_inputs_embeds,\n",
    "                encoder_outputs.last_hidden_states,\n",
    "                look_ahead_mask[:, :, :cur_len, :cur_len],#decoder的自注意力mask\n",
    "                encoder_inputs_mask\n",
    "            )\n",
    "\n",
    "            logits = self.output_projection(decoder_outputs.last_hidden_states)  # (batch_size, trg_len, vocab_size)\n",
    "            next_token = logits.argmax(dim=-1)[:, -1:] #通过最大下标确定类别，[:, -1:]表示取最后一个结果\n",
    "            decoder_inputs = torch.cat([decoder_inputs, next_token], dim=-1) #预测输出拼接到输入中\n",
    "            #(decoder_inputs == self.eos_idx).sum(dim=-1)是判断样本中是否含有EOS标记\n",
    "            #all是每一个都为True，才会结束\n",
    "            if all((decoder_inputs == self.eos_idx).sum(dim=-1) > 0):\n",
    "                break\n",
    "        return TransformerOutput(\n",
    "            preds=decoder_inputs[:, 1:],\n",
    "            logits=logits,\n",
    "            encoder_attentions=encoder_outputs.attn_scores,\n",
    "            decoder_attentions=decoder_outputs.self_attn_scores,\n",
    "            cross_attentions=decoder_outputs.cross_attn_scores,\n",
    "        )"
   ]
  },
  {
   "cell_type": "markdown",
   "id": "a8469135",
   "metadata": {
    "id": "a8469135"
   },
   "source": [
    "# 损失函数"
   ]
  },
  {
   "cell_type": "code",
   "execution_count": 32,
   "id": "307583eb",
   "metadata": {
    "execution": {
     "iopub.execute_input": "2025-07-15T13:27:04.443737Z",
     "iopub.status.busy": "2025-07-15T13:27:04.443360Z",
     "iopub.status.idle": "2025-07-15T13:27:04.450754Z",
     "shell.execute_reply": "2025-07-15T13:27:04.449966Z",
     "shell.execute_reply.started": "2025-07-15T13:27:04.443707Z"
    },
    "id": "307583eb"
   },
   "outputs": [],
   "source": [
    "class CrossEntropyWithPadding:\n",
    "    def __init__(self, config):\n",
    "        self.label_smoothing = config[\"label_smoothing\"]\n",
    "\n",
    "    def __call__(self, logits, labels, padding_mask=None):\n",
    "        # logits.shape = [batch size, sequence length, num of classes]\n",
    "        # labels.shape = [batch size, sequence length]\n",
    "        # padding_mask.shape = [batch size, sequence length]，decode_label_mask\n",
    "        bs, seq_len, nc = logits.shape\n",
    "        loss = F.cross_entropy(logits.reshape(bs * seq_len, nc), labels.reshape(-1), reduce=False, label_smoothing=self.label_smoothing) #label_smoothing表示随机将一个类别的概率设置为0.1，使得模型更加关注其他类别\n",
    "        if padding_mask is None:\n",
    "            loss = loss.mean()\n",
    "        else:\n",
    "            padding_mask = 1 - padding_mask.reshape(-1) #将padding_mask reshape成一维张量，mask部分为0，非mask部分为1\n",
    "            loss = torch.mul(loss, padding_mask).sum() / padding_mask.sum()\n",
    "\n",
    "        return loss\n"
   ]
  },
  {
   "cell_type": "code",
   "execution_count": 33,
   "id": "d85aeade",
   "metadata": {
    "colab": {
     "base_uri": "https://localhost:8080/",
     "height": 449
    },
    "execution": {
     "iopub.execute_input": "2025-07-15T13:27:04.451885Z",
     "iopub.status.busy": "2025-07-15T13:27:04.451610Z",
     "iopub.status.idle": "2025-07-15T13:27:04.646501Z",
     "shell.execute_reply": "2025-07-15T13:27:04.645677Z",
     "shell.execute_reply.started": "2025-07-15T13:27:04.451866Z"
    },
    "id": "d85aeade",
    "outputId": "c8382f4b-13fa-4713-aba1-81ceb522211e"
   },
   "outputs": [
    {
     "data": {
      "text/plain": [
       "[<matplotlib.lines.Line2D at 0x7f76ad0db750>]"
      ]
     },
     "execution_count": 33,
     "metadata": {},
     "output_type": "execute_result"
    },
    {
     "data": {
      "image/png": "[encoded data removed]",
      "text/plain": [
       "<Figure size 640x480 with 1 Axes>"
      ]
     },
     "metadata": {},
     "output_type": "display_data"
    }
   ],
   "source": [
    "x=np.arange(1, 40000)\n",
    "plt.plot(x, x * (4000 ** (-1.5)))"
   ]
  },
  {
   "cell_type": "markdown",
   "id": "63402af1",
   "metadata": {
    "id": "63402af1"
   },
   "source": [
    "# Warmup技术"
   ]
  },
  {
   "cell_type": "code",
   "execution_count": 34,
   "id": "36aef5d6",
   "metadata": {
    "colab": {
     "base_uri": "https://localhost:8080/",
     "height": 449
    },
    "execution": {
     "iopub.execute_input": "2025-07-15T13:27:04.647978Z",
     "iopub.status.busy": "2025-07-15T13:27:04.647607Z",
     "iopub.status.idle": "2025-07-15T13:27:04.795026Z",
     "shell.execute_reply": "2025-07-15T13:27:04.794409Z",
     "shell.execute_reply.started": "2025-07-15T13:27:04.647948Z"
    },
    "id": "36aef5d6",
    "outputId": "70f00d93-b6d9-4c42-eb1b-ccdb432cc3c9"
   },
   "outputs": [
    {
     "data": {
      "image/png": "[encoded data removed]",
      "text/plain": [
       "<Figure size 640x480 with 1 Axes>"
      ]
     },
     "metadata": {},
     "output_type": "display_data"
    }
   ],
   "source": [
    "# NoamDecayScheduler 是一个自定义或外部定义的学习率衰减调度器类。它需要接收配置 config 作为参数，可能实现了特定的学习率衰减方案\n",
    "class NoamDecayScheduler:\n",
    "    def __init__(self, config):\n",
    "        self.d_model = config[\"d_model\"]  # 获取模型的维度大小\n",
    "        self.warmup_steps = config[\"warmup_steps\"]  # 获取预热步数\n",
    "\n",
    "    def __call__(self, step):\n",
    "        step += 1  # 步数从1开始计算，而不是0\n",
    "        arg1 = step ** (-0.5)  # 4000步之后是arg1，计算步数的-0.5次方\n",
    "        arg2 = step * (self.warmup_steps ** (-1.5))  # 4000步之前是arg2，计算步数乘以预热步数的-1.5次方\n",
    "\n",
    "        arg3 = self.d_model ** (-0.5)  # 计算模型维度的-0.5次方\n",
    "\n",
    "        return arg3 * np.minimum(arg1, arg2)  # 返回学习率，取arg1和arg2的较小值乘以arg3\n",
    "\n",
    "\n",
    "temp_learning_rate_schedule = NoamDecayScheduler({\"d_model\": 512, \"warmup_steps\": 4000})  # 创建学习率调度器实例，设置模型维度为512，预热步数为4000\n",
    "#下面是学习率的设计图\n",
    "plt.plot(temp_learning_rate_schedule(np.arange(0, 40000)))  # 绘制学习率曲线，横轴为0到40000的步数\n",
    "plt.ylabel(\"Leraning rate\")  # 设置y轴标签为\"学习率\"\n",
    "plt.xlabel(\"Train step\")  # 设置x轴标签为\"训练步数\"\n",
    "plt.grid()  # 显示网格线\n",
    "plt.show()  # 显示图表\n"
   ]
  },
  {
   "cell_type": "code",
   "execution_count": 35,
   "id": "f94aa6ef",
   "metadata": {
    "execution": {
     "iopub.execute_input": "2025-07-15T13:27:04.796105Z",
     "iopub.status.busy": "2025-07-15T13:27:04.795825Z",
     "iopub.status.idle": "2025-07-15T13:27:04.800840Z",
     "shell.execute_reply": "2025-07-15T13:27:04.800233Z",
     "shell.execute_reply.started": "2025-07-15T13:27:04.796084Z"
    },
    "id": "f94aa6ef"
   },
   "outputs": [],
   "source": [
    "from torch.optim.lr_scheduler import LambdaLR\n",
    "from torch.optim import Adam\n",
    "\n",
    "def get_optimizer(model, config):\n",
    "    base_lr = config['base_lr']\n",
    "    beta1 = config[\"beta1\"] # Adam 的 beta1\n",
    "    beta2 = config[\"beta2\"] # Adam 的 beta2\n",
    "    eps = config[\"eps\"] # Adam 的 eps，防止分母为0\n",
    "    optimizer = Adam(model.parameters(), lr=base_lr, betas=(beta1, beta2), eps=eps)\n",
    "    lr_scheduler1 = NoamDecayScheduler(config) #config是一个字典，包含了学习率衰减的参数\n",
    "    # 使用 LambdaLR 调度器，它可以根据给定的函数 lr_lambda 调整学习率。这里将 lr_scheduler 作为函数传递给 LambdaLR，它包含了特定于模型或任务的学习率调度规则\n",
    "    scheduler = LambdaLR(optimizer, lr_lambda=lr_scheduler1)\n",
    "    return optimizer, scheduler"
   ]
  },
  {
   "cell_type": "markdown",
   "id": "0505aea6",
   "metadata": {
    "id": "0505aea6"
   },
   "source": [
    "# 保存模型，早停"
   ]
  },
  {
   "cell_type": "code",
   "execution_count": 36,
   "id": "486fb390",
   "metadata": {
    "execution": {
     "iopub.execute_input": "2025-07-15T13:27:04.801924Z",
     "iopub.status.busy": "2025-07-15T13:27:04.801673Z",
     "iopub.status.idle": "2025-07-15T13:27:04.807586Z",
     "shell.execute_reply": "2025-07-15T13:27:04.806908Z",
     "shell.execute_reply.started": "2025-07-15T13:27:04.801904Z"
    },
    "id": "486fb390"
   },
   "outputs": [],
   "source": [
    "class SaveCheckpointsCallback:\n",
    "    def __init__(self, save_dir, save_step=5000, save_best_only=True):\n",
    "        \"\"\"\n",
    "        Save checkpoints each save_epoch epoch.\n",
    "        We save checkpoint by epoch in this implementation.\n",
    "        Usually, training scripts with pytorch evaluating model and save checkpoint by step.\n",
    "\n",
    "        Args:\n",
    "            save_dir (str): dir to save checkpoint\n",
    "            save_epoch (int, optional): the frequency to save checkpoint. Defaults to 1.\n",
    "            save_best_only (bool, optional): If True, only save the best model or save each model at every epoch.\n",
    "        \"\"\"\n",
    "        self.save_dir = save_dir\n",
    "        self.save_step = save_step\n",
    "        self.save_best_only = save_best_only\n",
    "        self.best_metrics = - np.inf\n",
    "\n",
    "        # mkdir\n",
    "        if not os.path.exists(self.save_dir):\n",
    "            os.mkdir(self.save_dir)\n",
    "\n",
    "    def __call__(self, step, state_dict, metric=None):\n",
    "        if step % self.save_step > 0:\n",
    "            return\n",
    "\n",
    "        if self.save_best_only:\n",
    "            assert metric is not None\n",
    "            if metric >= self.best_metrics:\n",
    "                # save checkpoints\n",
    "                torch.save(state_dict, os.path.join(self.save_dir, \"best.ckpt\"))\n",
    "                # update best metrics\n",
    "                self.best_metrics = metric\n",
    "        else:\n",
    "            torch.save(state_dict, os.path.join(self.save_dir, f\"{step}.ckpt\"))\n",
    "\n"
   ]
  },
  {
   "cell_type": "code",
   "execution_count": 37,
   "id": "ba9e24af",
   "metadata": {
    "execution": {
     "iopub.execute_input": "2025-07-15T13:27:04.808640Z",
     "iopub.status.busy": "2025-07-15T13:27:04.808390Z",
     "iopub.status.idle": "2025-07-15T13:27:04.813212Z",
     "shell.execute_reply": "2025-07-15T13:27:04.812575Z",
     "shell.execute_reply.started": "2025-07-15T13:27:04.808620Z"
    },
    "id": "ba9e24af"
   },
   "outputs": [],
   "source": [
    "class EarlyStopCallback:\n",
    "    def __init__(self, patience=5, min_delta=0.01):\n",
    "        \"\"\"\n",
    "\n",
    "        Args:\n",
    "            patience (int, optional): Number of epochs with no improvement after which training will be stopped.. Defaults to 5.\n",
    "            min_delta (float, optional): Minimum change in the monitored quantity to qualify as an improvement, i.e. an absolute\n",
    "                change of less than min_delta, will count as no improvement. Defaults to 0.01.\n",
    "        \"\"\"\n",
    "        self.patience = patience\n",
    "        self.min_delta = min_delta\n",
    "        self.best_metric = - np.inf\n",
    "        self.counter = 0\n",
    "\n",
    "    def __call__(self, metric):\n",
    "        if metric >= self.best_metric + self.min_delta:\n",
    "            # update best metric\n",
    "            self.best_metric = metric\n",
    "            # reset counter\n",
    "            self.counter = 0\n",
    "        else:\n",
    "            self.counter += 1\n",
    "\n",
    "    @property\n",
    "    def early_stop(self):\n",
    "        return self.counter >= self.patience\n"
   ]
  },
  {
   "cell_type": "markdown",
   "id": "3b3dc4fb",
   "metadata": {
    "id": "3b3dc4fb"
   },
   "source": [
    "# 评估，训练"
   ]
  },
  {
   "cell_type": "code",
   "execution_count": 38,
   "id": "7d854676",
   "metadata": {
    "execution": {
     "iopub.execute_input": "2025-07-15T13:27:04.814230Z",
     "iopub.status.busy": "2025-07-15T13:27:04.813961Z",
     "iopub.status.idle": "2025-07-15T13:27:04.818908Z",
     "shell.execute_reply": "2025-07-15T13:27:04.818099Z",
     "shell.execute_reply.started": "2025-07-15T13:27:04.814210Z"
    },
    "id": "7d854676"
   },
   "outputs": [],
   "source": [
    "@torch.no_grad()\n",
    "def evaluating(model, dataloader, loss_fct):\n",
    "    loss_list = []\n",
    "    for batch in dataloader:\n",
    "        encoder_inputs = batch[\"encoder_inputs\"]\n",
    "        encoder_inputs_mask = batch[\"encoder_inputs_mask\"]\n",
    "        decoder_inputs = batch[\"decoder_inputs\"]\n",
    "        decoder_labels = batch[\"decoder_labels\"]\n",
    "        decoder_labels_mask = batch[\"decoder_labels_mask\"]\n",
    "\n",
    "        # 前向计算\n",
    "        outputs = model(\n",
    "            encoder_inputs,\n",
    "            decoder_inputs,\n",
    "            encoder_inputs_mask\n",
    "            )\n",
    "        logits = outputs.logits\n",
    "        loss = loss_fct(logits, decoder_labels, padding_mask=decoder_labels_mask)         # 验证集损失\n",
    "        loss_list.append(loss.cpu().item())\n",
    "\n",
    "    return np.mean(loss_list)\n"
   ]
  },
  {
   "cell_type": "code",
   "execution_count": 39,
   "id": "753f1655",
   "metadata": {
    "execution": {
     "iopub.execute_input": "2025-07-15T13:27:04.820398Z",
     "iopub.status.busy": "2025-07-15T13:27:04.819940Z",
     "iopub.status.idle": "2025-07-15T13:27:04.829198Z",
     "shell.execute_reply": "2025-07-15T13:27:04.828598Z",
     "shell.execute_reply.started": "2025-07-15T13:27:04.820365Z"
    },
    "id": "753f1655"
   },
   "outputs": [],
   "source": [
    "# 训练\n",
    "def training(\n",
    "    model,\n",
    "    train_loader,\n",
    "    val_loader,\n",
    "    epoch,\n",
    "    loss_fct,\n",
    "    optimizer,\n",
    "    scheduler=None,\n",
    "    tensorboard_callback=None,\n",
    "    save_ckpt_callback=None,\n",
    "    early_stop_callback=None,\n",
    "    eval_step=500,\n",
    "    ):\n",
    "    record_dict = {\n",
    "        \"train\": [],\n",
    "        \"val\": []\n",
    "    }\n",
    "\n",
    "    global_step = 1\n",
    "    val_loss = 0\n",
    "    model.train()\n",
    "    with tqdm(total=epoch * len(train_loader)) as pbar:\n",
    "        for epoch_id in range(epoch):\n",
    "            # training\n",
    "            for batch in train_loader:\n",
    "                encoder_inputs = batch[\"encoder_inputs\"]\n",
    "                encoder_inputs_mask = batch[\"encoder_inputs_mask\"]\n",
    "                decoder_inputs = batch[\"decoder_inputs\"]\n",
    "                decoder_labels = batch[\"decoder_labels\"]\n",
    "                decoder_labels_mask = batch[\"decoder_labels_mask\"]\n",
    "                # 梯度清空\n",
    "                optimizer.zero_grad()\n",
    "\n",
    "                # 前向计算\n",
    "                outputs = model(\n",
    "                    encoder_inputs,\n",
    "                    decoder_inputs,\n",
    "                    encoder_inputs_mask\n",
    "                    )\n",
    "                logits = outputs.logits\n",
    "                loss = loss_fct(logits, decoder_labels, padding_mask=decoder_labels_mask)\n",
    "\n",
    "                # 梯度回传\n",
    "                loss.backward()\n",
    "\n",
    "                # 调整优化器，包括学习率的变动等\n",
    "                optimizer.step()\n",
    "                if scheduler is not None:\n",
    "                    scheduler.step() # 更新学习率,学习率就会传递给optimizer\n",
    "\n",
    "                loss = loss.cpu().item()\n",
    "                # record\n",
    "                record_dict[\"train\"].append({\n",
    "                    \"loss\": loss, \"step\": global_step\n",
    "                })\n",
    "\n",
    "                # evaluating\n",
    "                if global_step % eval_step == 0:\n",
    "                    model.eval()\n",
    "                    val_loss = evaluating(model, val_loader, loss_fct)\n",
    "                    record_dict[\"val\"].append({\n",
    "                        \"loss\": val_loss, \"step\": global_step\n",
    "                    })\n",
    "                    model.train()\n",
    "\n",
    "                    # 2. 保存模型权重 save model checkpoint\n",
    "                    if save_ckpt_callback is not None:\n",
    "                        save_ckpt_callback(global_step, model.state_dict(), metric=-val_loss)\n",
    "\n",
    "                    # 3. 早停 Early Stop\n",
    "                    if early_stop_callback is not None:\n",
    "                        early_stop_callback(-val_loss)\n",
    "                        if early_stop_callback.early_stop:\n",
    "                            print(f\"Early stop at epoch {epoch_id} / global_step {global_step}\")\n",
    "                            return record_dict\n",
    "\n",
    "                # udate step\n",
    "                global_step += 1\n",
    "                pbar.update(1)\n",
    "                pbar.set_postfix({\"epoch\": epoch_id, \"loss\": loss, \"val_loss\": val_loss})\n",
    "\n",
    "    return record_dict\n"
   ]
  },
  {
   "cell_type": "markdown",
   "id": "17dd83e9",
   "metadata": {
    "id": "17dd83e9"
   },
   "source": [
    "# 开始训练"
   ]
  },
  {
   "cell_type": "code",
   "execution_count": 40,
   "id": "5ee7ed1b",
   "metadata": {
    "ExecutionIndicator": {
     "show": true
    },
    "colab": {
     "base_uri": "https://localhost:8080/"
    },
    "execution": {
     "iopub.execute_input": "2025-07-15T13:27:04.830261Z",
     "iopub.status.busy": "2025-07-15T13:27:04.829908Z",
     "iopub.status.idle": "2025-07-15T13:27:05.028313Z",
     "shell.execute_reply": "2025-07-15T13:27:05.027627Z",
     "shell.execute_reply.started": "2025-07-15T13:27:04.830241Z"
    },
    "id": "5ee7ed1b",
    "outputId": "d94c349e-3a4d-40c0-ff4f-d363262a4044",
    "tags": []
   },
   "outputs": [
    {
     "name": "stdout",
     "output_type": "stream",
     "text": [
      "save cache to wmt16/.cache/de2en_train_128.npy\n",
      "save cache to wmt16/.cache/de2en_val_128.npy\n"
     ]
    }
   ],
   "source": [
    "#模型的超参\n",
    "config = {\n",
    "    \"bos_idx\": 1,\n",
    "    \"eos_idx\": 3,\n",
    "    \"pad_idx\": 0,\n",
    "    \"vocab_size\": len(word2idx),\n",
    "    \"max_length\": 128,#seq_len最大长度\n",
    "    \"d_model\": 512,#可以调整\n",
    "    \"dim_feedforward\": 2048, # FFN 的隐藏层大小\n",
    "    \"dropout\": 0.1,#可以调整\n",
    "    \"layer_norm_eps\": 1e-6, # 层归一化的 epsilon, 防止除零错误\n",
    "    \"num_heads\": 8,#论文里是8，可以调整\n",
    "    \"num_decoder_layers\": 6, #论文是6，可以调整\n",
    "    \"num_encoder_layers\": 6, #论文是6，可以调整\n",
    "    \"label_smoothing\": 0.1,#标签平滑，防止过拟合\n",
    "    \"beta1\": 0.9, # Adam 的 beta1\n",
    "    \"beta2\": 0.98,\n",
    "    \"eps\": 1e-9, # Adam 的 epsilon\n",
    "    \"warmup_steps\": 4000,\n",
    "    \"share_embedding\": False, # 是否共享词向量，如果改为True，效果不好\n",
    "    \"base_lr\": 0.1,\n",
    "    }\n",
    "\n",
    "# 数据加载器\n",
    "def get_dl(dataset, batch_size, shuffle=True):\n",
    "    sampler = TransformerBatchSampler(dataset, batch_size=batch_size, shuffle_batch=shuffle)\n",
    "    sample_dl = DataLoader(dataset, batch_sampler=sampler, collate_fn=partial(collate_fct, tokenizer=tokenizer))\n",
    "    return sample_dl\n",
    "\n",
    "# dataset\n",
    "train_ds = LangPairDataset(\"train\", max_length=config[\"max_length\"])\n",
    "val_ds = LangPairDataset(\"val\", max_length=config[\"max_length\"])\n",
    "# tokenizer\n",
    "tokenizer = Tokenizer(word2idx=word2idx, idx2word=idx2word, max_length=config[\"max_length\"])\n",
    "batch_size = 4096\n",
    "# dataloader\n",
    "train_dl = get_dl(train_ds, batch_size=batch_size, shuffle=True)\n",
    "val_dl = get_dl(val_ds, batch_size=batch_size, shuffle=False)"
   ]
  },
  {
   "cell_type": "code",
   "execution_count": 41,
   "id": "9da25003",
   "metadata": {
    "colab": {
     "base_uri": "https://localhost:8080/"
    },
    "execution": {
     "iopub.execute_input": "2025-07-15T13:27:05.029347Z",
     "iopub.status.busy": "2025-07-15T13:27:05.029072Z",
     "iopub.status.idle": "2025-07-15T13:27:05.033873Z",
     "shell.execute_reply": "2025-07-15T13:27:05.033285Z",
     "shell.execute_reply.started": "2025-07-15T13:27:05.029324Z"
    },
    "id": "9da25003",
    "outputId": "92d93710-2919-4315-b168-db8a1db18abd"
   },
   "outputs": [
    {
     "data": {
      "text/plain": [
       "140"
      ]
     },
     "execution_count": 41,
     "metadata": {},
     "output_type": "execute_result"
    }
   ],
   "source": [
    "len(train_dl)*20"
   ]
  },
  {
   "cell_type": "code",
   "execution_count": 42,
   "id": "dfdfb28b",
   "metadata": {
    "colab": {
     "base_uri": "https://localhost:8080/",
     "height": 126,
     "referenced_widgets": [
      "7fff264309184763be76c74febde5af1",
      "a51848bc90674b5bbfe6aa10b1fbd92b",
      "f713cc5ab93e467699537e1033853259",
      "880ed6db148b41fe93ccf987173c95b0",
      "b0af4291ebd44162bc27b36c1ad3f651",
      "eac3d467f0e24fc5a461c4f5037d76da",
      "56b020a70cd34c1c9673d7ebdba23c43",
      "7d1e98340eb54ca7be701aba5cf76943",
      "d3ac645daf904649988e69aa58fb665a",
      "928f41cfb6184310afb07d861c17a413",
      "91c3e9b25c94440181ce6e679ef357c3"
     ]
    },
    "execution": {
     "iopub.execute_input": "2025-07-15T13:27:05.034851Z",
     "iopub.status.busy": "2025-07-15T13:27:05.034594Z",
     "iopub.status.idle": "2025-07-15T13:44:34.273747Z",
     "shell.execute_reply": "2025-07-15T13:44:34.273131Z",
     "shell.execute_reply.started": "2025-07-15T13:27:05.034831Z"
    },
    "id": "dfdfb28b",
    "outputId": "ecce7e6d-015d-4228-8e1c-377a1851aebd"
   },
   "outputs": [
    {
     "name": "stdout",
     "output_type": "stream",
     "text": [
      "模型总参数量: 71,975,103\n"
     ]
    },
    {
     "name": "stderr",
     "output_type": "stream",
     "text": [
      "  0%|          | 0/140 [00:00<?, ?it/s]/opt/conda/lib/python3.11/site-packages/torch/nn/_reduction.py:51: UserWarning: size_average and reduce args will be deprecated, please use reduction='none' instead.\n",
      "  warnings.warn(warning.format(ret))\n",
      "10540it [17:26, 10.07it/s, epoch=19, loss=3.55, val_loss=3.56]                   \n"
     ]
    }
   ],
   "source": [
    "\n",
    "epoch = 20\n",
    "\n",
    "# model\n",
    "model = TransformerModel(config)\n",
    "# 计算模型参数量\n",
    "def count_parameters(model):\n",
    "    return sum(p.numel() for p in model.parameters() if p.requires_grad)\n",
    "\n",
    "total_params = count_parameters(model)\n",
    "print(f\"模型总参数量: {total_params:,}\")\n",
    "\n",
    "\n",
    "\n",
    "# 1. 定义损失函数 采用交叉熵损失\n",
    "loss_fct = CrossEntropyWithPadding(config)\n",
    "# 2. 定义优化器 采用 adam\n",
    "# Optimizers specified in the torch.optim package\n",
    "optimizer, scheduler = get_optimizer(model, config)\n",
    "\n",
    "if not os.path.exists(\"checkpoints\"):\n",
    "    os.makedirs(\"checkpoints\")\n",
    "save_ckpt_callback = SaveCheckpointsCallback(\n",
    "    f\"checkpoints\", save_step=500, save_best_only=True)\n",
    "# 3. early stop\n",
    "early_stop_callback = EarlyStopCallback(patience=8)\n",
    "\n",
    "model = model.to(device)\n",
    "\n",
    "record = training(\n",
    "    model,\n",
    "    train_dl,\n",
    "    val_dl,\n",
    "    epoch,\n",
    "    loss_fct,\n",
    "    optimizer,\n",
    "    scheduler,\n",
    "    tensorboard_callback=None,\n",
    "    save_ckpt_callback=save_ckpt_callback,\n",
    "    early_stop_callback=None,\n",
    "    eval_step=500\n",
    "    )"
   ]
  },
  {
   "cell_type": "code",
   "execution_count": 43,
   "id": "xeEbSABIGmp5",
   "metadata": {
    "colab": {
     "base_uri": "https://localhost:8080/",
     "height": 446,
     "referenced_widgets": [
      "381277e910d647b98475c7e514d4ce59",
      "79e7a2f67e704862b46c4479a28aa57e",
      "530f7729ef174321868689c813cbab16",
      "6ceb216821134bffaacd542be9332afd",
      "b4f510c9bb9144ccb2fb6381ad2959b1",
      "260f33f2bfc745cf904790692b45daa3",
      "3a96896a8b1746b08d855322fc274a7c",
      "da3d1cec9148455ea084b22d7209805e",
      "512ed7c39b0a49ed97c4ed9aa9cb47e9",
      "6ada793910ae47b0953f6be510d7d935",
      "7045995d4587482c8d87797846e13ad9"
     ]
    },
    "execution": {
     "iopub.execute_input": "2025-07-15T13:44:34.275559Z",
     "iopub.status.busy": "2025-07-15T13:44:34.274842Z",
     "iopub.status.idle": "2025-07-15T13:45:00.509914Z",
     "shell.execute_reply": "2025-07-15T13:45:00.509215Z",
     "shell.execute_reply.started": "2025-07-15T13:44:34.275535Z"
    },
    "id": "xeEbSABIGmp5",
    "outputId": "1046eae4-1991-4ccd-cb69-49c54f825a4c"
   },
   "outputs": [
    {
     "name": "stdout",
     "output_type": "stream",
     "text": [
      "save cache to wmt16/.cache/de2en_test_128.npy\n"
     ]
    },
    {
     "name": "stderr",
     "output_type": "stream",
     "text": [
      "0it [00:00, ?it/s]/opt/conda/lib/python3.11/site-packages/nltk/translate/bleu_score.py:577: UserWarning: \n",
      "The hypothesis contains 0 counts of 4-gram overlaps.\n",
      "Therefore the BLEU score evaluates to 0, independently of\n",
      "how many N-gram overlaps of lower order it contains.\n",
      "Consider using lower n-gram order or use SmoothingFunction()\n",
      "  warnings.warn(_msg)\n",
      "4it [00:00, 33.47it/s]/opt/conda/lib/python3.11/site-packages/nltk/translate/bleu_score.py:577: UserWarning: \n",
      "The hypothesis contains 0 counts of 3-gram overlaps.\n",
      "Therefore the BLEU score evaluates to 0, independently of\n",
      "how many N-gram overlaps of lower order it contains.\n",
      "Consider using lower n-gram order or use SmoothingFunction()\n",
      "  warnings.warn(_msg)\n",
      "19it [00:00, 40.37it/s]/opt/conda/lib/python3.11/site-packages/nltk/translate/bleu_score.py:577: UserWarning: \n",
      "The hypothesis contains 0 counts of 2-gram overlaps.\n",
      "Therefore the BLEU score evaluates to 0, independently of\n",
      "how many N-gram overlaps of lower order it contains.\n",
      "Consider using lower n-gram order or use SmoothingFunction()\n",
      "  warnings.warn(_msg)\n",
      "966it [00:23, 40.73it/s]"
     ]
    },
    {
     "name": "stdout",
     "output_type": "stream",
     "text": [
      "testing loss: 3.4483396861370554\n"
     ]
    },
    {
     "name": "stderr",
     "output_type": "stream",
     "text": [
      "\n"
     ]
    },
    {
     "data": {
      "text/plain": [
       "0.5527467552973392"
      ]
     },
     "execution_count": 43,
     "metadata": {},
     "output_type": "execute_result"
    }
   ],
   "source": [
    "from nltk.translate.bleu_score import sentence_bleu\n",
    "# load checkpoints\n",
    "model = TransformerModel(config) #初始化模型\n",
    "state_dict = torch.load(\"checkpoints/best.ckpt\")\n",
    "model.load_state_dict(state_dict)\n",
    "\n",
    "loss_fct = CrossEntropyWithPadding(config)\n",
    "# from dataset import LangPairDataset\n",
    "test_ds = LangPairDataset(\"test\", max_length=128, data_dir=\"./wmt16\")\n",
    "test_dl = DataLoader(test_ds, batch_size=1, collate_fn=partial(collate_fct, tokenizer=tokenizer))\n",
    "\n",
    "model = model.to(device)\n",
    "model.eval()\n",
    "collect = {}\n",
    "loss_collect = []\n",
    "\n",
    "predictions = []\n",
    "answers = []\n",
    "# 初始化BLEU分数列表\n",
    "bleu_scores = []\n",
    "for idx, batch in tqdm(enumerate(test_dl)):\n",
    "    encoder_inputs = batch[\"encoder_inputs\"]\n",
    "    encoder_inputs_mask = batch[\"encoder_inputs_mask\"]\n",
    "    decoder_inputs = batch[\"decoder_inputs\"]\n",
    "    decoder_labels = batch[\"decoder_labels\"]\n",
    "    # print(decoder_labels.cpu())\n",
    "    # decoder_labels1=tokenizer.decode(decoder_labels.cpu().numpy())\n",
    "    # print(decoder_labels1)\n",
    "    # 前向计算\n",
    "    outputs = model(\n",
    "        encoder_inputs,\n",
    "        decoder_inputs,\n",
    "        encoder_inputs_mask\n",
    "        )\n",
    "    loss = loss_fct(outputs.logits, decoder_labels)         # 测试集损失，如果batch_size不为1，需要加入mask\n",
    "\n",
    "    # print(outputs.logits.shape, decoder_labels.shape)\n",
    "\n",
    "    # loss = loss_fct(outputs.logits[:, :decoder_labels.shape[1]], decoder_labels)         # 验证集损失\n",
    "    # outputs = model.infer(encoder_inputs=encoder_inputs)\n",
    "    # print(outputs.logits.shape)\n",
    "    preds = outputs.logits.argmax(dim=-1) # 预测结果，[1,seq_len]\n",
    "    # print(preds.shape)\n",
    "    #把preds转为英文单词\n",
    "    preds = tokenizer.decode(preds.cpu().numpy()) #['预测句子']\n",
    "    # predictions.append(preds)\n",
    "    # print(preds)\n",
    "    #把decoder_labels转为英文单词\n",
    "    decoder_labels = tokenizer.decode(decoder_labels.cpu().numpy()) #['标签句子']\n",
    "    # answers.append(decoder_labels)\n",
    "    # print(decoder_labels)\n",
    "    belu=sentence_bleu([decoder_labels[0].split()],preds[0].split(),weights=(1, 0, 0, 0))\n",
    "    bleu_scores.append(belu)\n",
    "    collect[idx] = {\"loss\": loss.item(), \"src_inputs\": encoder_inputs, \"trg_inputs\": decoder_inputs, \"mask\": encoder_inputs_mask, \"trg_labels\": decoder_labels, \"preds\": preds}\n",
    "    loss_collect.append(loss.item())\n",
    "    # break\n",
    "\n",
    "# sort collect by value\n",
    "collect = sorted(collect.items(), key=lambda x: x[1][\"loss\"])\n",
    "print(f\"testing loss: {np.array(loss_collect).mean()}\")\n",
    "sum(bleu_scores) / len(bleu_scores)"
   ]
  },
  {
   "cell_type": "markdown",
   "id": "429a52fe",
   "metadata": {},
   "source": [
    "# 翻译"
   ]
  },
  {
   "cell_type": "code",
   "execution_count": 44,
   "id": "XQUq1g_zG5Q-",
   "metadata": {
    "colab": {
     "base_uri": "https://localhost:8080/"
    },
    "execution": {
     "iopub.execute_input": "2025-07-15T13:45:00.511213Z",
     "iopub.status.busy": "2025-07-15T13:45:00.510745Z",
     "iopub.status.idle": "2025-07-15T13:45:05.806330Z",
     "shell.execute_reply": "2025-07-15T13:45:05.805064Z",
     "shell.execute_reply.started": "2025-07-15T13:45:00.511190Z"
    },
    "id": "XQUq1g_zG5Q-",
    "outputId": "1a81cbee-8c8d-4aeb-b2a9-b476f7ccf2c9"
   },
   "outputs": [
    {
     "name": "stdout",
     "output_type": "stream",
     "text": [
      "Looking in indexes: https://mirrors.aliyun.com/pypi/simple/\n",
      "Requirement already satisfied: Cython in /opt/conda/lib/python3.11/site-packages (3.1.2)\n",
      "\u001b[33mWARNING: Running pip as the 'root' user can result in broken permissions and conflicting behaviour with the system package manager, possibly rendering your system unusable.It is recommended to use a virtual environment instead: https://pip.pypa.io/warnings/venv. Use the --root-user-action option if you know what you are doing and want to suppress this warning.\u001b[0m\u001b[33m\n",
      "\u001b[0mLooking in indexes: https://mirrors.aliyun.com/pypi/simple/\n",
      "Requirement already satisfied: fastBPE in /opt/conda/lib/python3.11/site-packages (0.1.0)\n",
      "\u001b[33mWARNING: Running pip as the 'root' user can result in broken permissions and conflicting behaviour with the system package manager, possibly rendering your system unusable.It is recommended to use a virtual environment instead: https://pip.pypa.io/warnings/venv. Use the --root-user-action option if you know what you are doing and want to suppress this warning.\u001b[0m\u001b[33m\n",
      "\u001b[0m"
     ]
    }
   ],
   "source": [
    "!pip install Cython  # if failed to install fastBPE, try this line\n",
    "!pip install fastBPE #分词使用，分词直接在内存中进行，无需把数据写入文件，用subword-nmt命令"
   ]
  },
  {
   "cell_type": "code",
   "execution_count": 45,
   "id": "adzdtLeMGqCF",
   "metadata": {
    "colab": {
     "base_uri": "https://localhost:8080/",
     "height": 629,
     "referenced_widgets": [
      "3212f3a98f5e4a96ac888f368f4fff42",
      "8af2647d8486443a8a025bc30e9ddac6",
      "280b011dc683465985da449bc80ab71f",
      "16ae7acad596458890f112a68c515cdf",
      "f6971c6f2b22427cb2b58ffffda71135",
      "d939b58e958641bdb4f2a2accc1c3645",
      "5b30c15446eb4a6cbc62498fb6753323",
      "046c17ba17f94587968cda8c761c2bf7",
      "79a55387adba484e9485779a07bcc8e9",
      "ec9417d5c4e54d18966e0140e60e4f7e",
      "2d5c3abf516b48b6946778709ac9d97d"
     ]
    },
    "execution": {
     "iopub.execute_input": "2025-07-15T13:45:05.808547Z",
     "iopub.status.busy": "2025-07-15T13:45:05.808133Z",
     "iopub.status.idle": "2025-07-15T13:45:08.458134Z",
     "shell.execute_reply": "2025-07-15T13:45:08.457514Z",
     "shell.execute_reply.started": "2025-07-15T13:45:05.808510Z"
    },
    "id": "adzdtLeMGqCF",
    "outputId": "a20404fb-2502-447d-cf41-7cdae9e86290",
    "tags": []
   },
   "outputs": [
    {
     "name": "stderr",
     "output_type": "stream",
     "text": [
      "Loading vocabulary from ./wmt16/vocab ...\n",
      "Read 762259 words (18107 unique) from vocabulary file.\n",
      "Loading codes from ./wmt16/bpe.20000 ...\n",
      "Read 20001 codes from the codes file.\n"
     ]
    },
    {
     "name": "stdout",
     "output_type": "stream",
     "text": [
      "[['ein', 'mann', 'mit', 'einem', 'eimer', 'und', 'ein', 'mädchen', 'mit', 'einem', 'hut', 'am', 'strand', '.']]\n"
     ]
    },
    {
     "name": "stderr",
     "output_type": "stream",
     "text": [
      " 11%|█         | 14/128 [00:00<00:02, 41.58it/s]\n",
      "/opt/conda/lib/python3.11/site-packages/IPython/core/pylabtools.py:170: UserWarning: There are no gridspecs with layoutgrids. Possibly did not call parent GridSpec with the \"figure\" keyword\n",
      "  fig.canvas.print_figure(bytes_io, **kw)\n"
     ]
    },
    {
     "data": {
      "image/png": "[encoded data removed]",
      "text/plain": [
       "<Figure size 1000x500 with 2 Axes>"
      ]
     },
     "metadata": {},
     "output_type": "display_data"
    },
    {
     "data": {
      "text/plain": [
       "['a man with a hat and a girl are walking on a beach.']"
      ]
     },
     "execution_count": 45,
     "metadata": {},
     "output_type": "execute_result"
    }
   ],
   "source": [
    "\n",
    "# 在 Windows 系统上并没有 sys/mman.h 文件，windows上无法安装fastBPE\n",
    "import re\n",
    "from fastBPE import fastBPE\n",
    "from sacremoses import MosesDetokenizer, MosesTokenizer\n",
    "\n",
    "# `MosesTokenizer` 和 `MosesDetokenizer` 是来自 `sacremoses` 库的工具，用于自然语言处理中的分词（Tokenization）和去标记化（Detokenization）。这些工具主要用于对文本进行预处理和后处理，通常在处理自然语言处理任务时会用到。\n",
    "#\n",
    "# ### MosesTokenizer：\n",
    "# - **作用**：将原始文本分割成单词和标点符号。\n",
    "# - **特点**：基于 Moses 翻译工具中使用的分词方法。\n",
    "# - **功能**：\n",
    "#   - 将句子分割成单词和标点符号。\n",
    "#   - 处理缩写、连字符、标点等特殊情况。\n",
    "#   - 对文本进行标记化，方便后续处理。\n",
    "#\n",
    "# ### MosesDetokenizer：\n",
    "# - **作用**：将分词后的文本重新组合成原始的句子。\n",
    "# - **特点**：用于对分词后的文本进行还原，使其恢复为可读的句子形式。\n",
    "# - **功能**：\n",
    "#   - 将分词后的单词和标点符号重新组合成句子。\n",
    "#   - 处理分词后的标点、缩写等情况，使得结果更加自然和可读。\n",
    "#\n",
    "# 这些工具通常在文本预处理和后处理过程中使用，对输入的文本进行标记化和去标记化，是一种常用的处理方式。在自然语言处理任务中，对文本进行正确的分词和还原是很重要的，而 `MosesTokenizer` 和 `MosesDetokenizer` 提供了方便、高效的工具来处理这些任务。\n",
    "\n",
    "class Translator:\n",
    "    def __init__(self, model, src_tokenizer, trg_tokenizer):\n",
    "        self.bpe = fastBPE(\"./wmt16/bpe.20000\", \"./wmt16/vocab\") #如果bpe.20000名字变了，这里要改\n",
    "        self.mose_tokenizer = MosesTokenizer(lang=\"de\") # 德语分词器，如果是其他语言，这里要改\n",
    "        self.mose_detokenizer = MosesDetokenizer(lang=\"en\") # 英语去标记化器，如果是其他语言，这里要改\n",
    "        self.model = model # 模型\n",
    "        self.model.eval() # 设置为评估模式\n",
    "        self.src_tokenizer = src_tokenizer # 源语言分词器\n",
    "        self.trg_tokenizer = trg_tokenizer # 目标语言分词器\n",
    "        self.pattern = re.compile(r'(@@ )|(@@ ?$)') # 正则表达式，用于去除分词器添加的特殊标记,匹配 @@ ?$​ 出现在字符串末尾，可选后跟一个空格（?表示0或1次）\n",
    "\n",
    "    def draw_attention_map(self, attn_scores, cross_attn_scores, src_words_list, trg_words_list):\n",
    "        \"\"\"绘制注意力热力图\n",
    "        attn_scores (numpy.ndarray): 表示自注意力机制（self-attention）分数。\n",
    "        cross_attn_scores (numpy.ndarray): 表示交叉注意力机制的注意力分数。\n",
    "        src_words_list (list): 源语言句子的单词列表。\n",
    "        trg_words_list (list): 目标语言句子的单词列表。\n",
    "        \"\"\"\n",
    "        assert len(attn_scores.shape) == 3, \"attn_scores shape should be \" \\\n",
    "            f\"[num heads, target sequence length, target sequence length], but got {attn_scores.shape}\"\n",
    "        attn_scores = attn_scores[:, :len(trg_words_list), :len(trg_words_list)]\n",
    "\n",
    "        assert len(cross_attn_scores.shape) == 3, \"attn_scores shape should be \" \\\n",
    "            f\"[num heads, target sequence length, source sequence length], but got {cross_attn_scores.shape}\"\n",
    "        cross_attn_scores = cross_attn_scores[:, :len(trg_words_list), :len(src_words_list)]\n",
    "\n",
    "        num_heads, trg_len, src_len = cross_attn_scores.shape\n",
    "\n",
    "        fig = plt.figure(figsize=(10, 5), constrained_layout=True) # constrained_layout=True 自动调整子图参数，使之填充整个图像区域\n",
    "        grid = plt.GridSpec(trg_len, trg_len + src_len, wspace=0.1, hspace=0.1)# wspace,hspace 控制子图之间的间距\n",
    "        #下面是attn_scores的热力图\n",
    "        self_map = fig.add_subplot(grid[:,:trg_len]) #  添加子图\n",
    "        self_map.matshow(attn_scores.mean(dim=0), cmap='viridis') # 绘制热力图，cmap表示颜色,dim=0表示对第0维求均值\n",
    "        self_map.set_yticks(range(trg_len), trg_words_list, fontsize=10)\n",
    "        self_map.set_xticks(range(trg_len), [\"[BOS]\"] + trg_words_list[:-1], rotation=90)\n",
    "        #下面是cross_attn_scores的热力图\n",
    "        cross_map = fig.add_subplot(grid[:, trg_len:])\n",
    "        cross_map.matshow(cross_attn_scores.mean(dim=0), cmap='viridis')\n",
    "        cross_map.set_yticks(range(trg_len), [], fontsize=6)\n",
    "        cross_map.set_xticks(range(src_len), src_words_list, rotation=90)\n",
    "\n",
    "        plt.show()\n",
    "\n",
    "    def draw_attention_maps(self, attn_scores, cross_attn_scores, src_words_list, trg_words_list, heads_list):\n",
    "        \"\"\"绘制注意力热力图\n",
    "\n",
    "        Args:\n",
    "            - scores (numpy.ndarray): shape = [source sequence length, target sequence length]\n",
    "        \"\"\"\n",
    "        assert len(attn_scores.shape) == 3, \"attn_scores shape should be \" \\\n",
    "            f\"[num heads, target sequence length, target sequence length], but got {attn_scores.shape}\"\n",
    "        attn_scores = attn_scores[:, :len(trg_words_list), :len(trg_words_list)]\n",
    "\n",
    "        assert len(cross_attn_scores.shape) == 3, \"attn_scores shape should be \" \\\n",
    "            f\"[num heads, target sequence length, source sequence length], but got {cross_attn_scores.shape}\"\n",
    "        cross_attn_scores = cross_attn_scores[:, :len(trg_words_list), :len(src_words_list)]\n",
    "        # cross_attn_scores = cross_attn_scores[:, :len(src_words_list), :len(src_words_list)]\n",
    "\n",
    "        num_heads, trg_len, src_len = cross_attn_scores.shape\n",
    "        fig, axes = plt.subplots(2, len(heads_list), figsize=(5 * len(heads_list), 10))\n",
    "        for i, heads_idx in enumerate(heads_list):\n",
    "            axes[0, i].matshow(attn_scores[heads_idx], cmap='viridis')\n",
    "            axes[0, i].set_yticks(range(trg_len), trg_words_list)\n",
    "            axes[0, i].set_xticks(range(trg_len), [\"[BOS]\"] + trg_words_list[:-1], rotation=90)\n",
    "            axes[0, i].set_title(f\"head {heads_idx}\")\n",
    "            axes[1, i].matshow(cross_attn_scores[heads_idx], cmap='viridis')\n",
    "            axes[1, i].set_yticks(range(trg_len), trg_words_list)\n",
    "            axes[1, i].set_xticks(range(src_len), src_words_list, rotation=90)\n",
    "            axes[1, i].set_title(f\"head {heads_idx}\")\n",
    "\n",
    "        plt.show()\n",
    "\n",
    "\n",
    "    def __call__(self, sentence_list, heads_list=None, layer_idx=-1):\n",
    "        # 将输入句子列表转换为小写，并使用 MosesTokenizer 进行分词处理。\n",
    "        sentence_list = [\" \".join(self.mose_tokenizer.tokenize(s.lower())) for s in sentence_list]\n",
    "        # 将分词后的结果进行 BPE 编码，得到 tokens_list。\n",
    "        tokens_list = [s.split() for s in self.bpe.apply(sentence_list)]\n",
    "        print(tokens_list)\n",
    "        # 使用 src_tokenizer 对 tokens_list 进行编码，同时添加起始标记 ([BOS]) 和结束标记 ([EOS])。\n",
    "        encoder_input, attn_mask = self.src_tokenizer.encode(\n",
    "            tokens_list,\n",
    "            add_bos=True,\n",
    "            add_eos=True,\n",
    "            return_mask=True,\n",
    "            )\n",
    "        encoder_input = torch.Tensor(encoder_input).to(dtype=torch.int64)\n",
    "        # 使用模型的 infer 方法对编码器输入进行推理，得到输出结果 outputs\n",
    "        outputs = model.infer(encoder_inputs=encoder_input, encoder_inputs_mask=attn_mask)\n",
    "\n",
    "        preds = outputs.preds.numpy()\n",
    "        # 使用目标语言的 trg_tokenizer 对预测序列进行解码，得到解码后的目标语言句子列表 trg_decoded。\n",
    "        trg_decoded = self.trg_tokenizer.decode(preds, split=True, remove_eos=False, remove_bos=False, remove_pad=False)\n",
    "        # 使用源语言的 src_tokenizer 对编码器输入进行解码，得到解码后的源语言句子列表 src_decoded。为下面绘制热力图做准备。\n",
    "        src_decoded = self.src_tokenizer.decode(\n",
    "            encoder_input.numpy(),\n",
    "            split=True,\n",
    "            remove_bos=False,\n",
    "            remove_eos=False\n",
    "            )\n",
    "\n",
    "        # post processed attn scores\n",
    "        # outputs.decoder_attentions[-1]  # the last layer of self-attention scores\n",
    "\n",
    "        # draw the attention map of the last decoder block\n",
    "        for attn_score, cross_attn_score, src, trg in zip(\n",
    "            outputs.decoder_attentions[layer_idx], outputs.cross_attentions[layer_idx], src_decoded, trg_decoded):\n",
    "            if heads_list is None:# 如果没有指定heads_list，就画单个热力图\n",
    "                self.draw_attention_map(\n",
    "                    attn_score,\n",
    "                    cross_attn_score,\n",
    "                    src,\n",
    "                    trg,\n",
    "                )\n",
    "            else:# 如果指定了heads_list，就画多个热力图\n",
    "                self.draw_attention_maps(\n",
    "                    attn_score,\n",
    "                    cross_attn_score,\n",
    "                    src,\n",
    "                    trg,\n",
    "                    heads_list=heads_list,\n",
    "                    )\n",
    "        return [self.mose_detokenizer.tokenize(self.pattern.sub(\"\", s).split()) for s in self.trg_tokenizer.decode(preds)] #将解码后的目标语言句子列表返回，并使用 mose_detokenizer 进行去标记化，最终得到翻译后的结果。\n",
    "\n",
    "\n",
    "# sentence_list = [\n",
    "#     \"Mann in einem kleinen weißen Boot auf einem See.\",  # Man in a small white boat on a lake.\n",
    "#     \"Ein Mann mit einem Eimer und ein Mädchen mit einem Hut am Strand.\", # A man with a bucket and a girl in a hat on the beach.\n",
    "#     \"Drei Männer auf Pferden während eines Rennens.\",  # Three men on horses during a race.\n",
    "#     \"Ein Mann und eine Frau essen zu Abend\",  # 一个男人和一个女人在吃晚餐\n",
    "# ]\n",
    "sentence_list = [\n",
    "    # \"Mann in einem kleinen weißen Boot auf einem See.\",  # Man in a small white boat on a lake.\n",
    "    \"Ein Mann mit einem Eimer und ein Mädchen mit einem Hut am Strand.\", # A man with a bucket and a girl in a hat on the beach.\n",
    "    # \"Drei Männer auf Pferden während eines Rennens.\",  # Three men on horses during a race.\n",
    "    # \"Ein Mann und eine Frau essen zu Abend\",  # 一个男人和一个女人在吃晚餐\n",
    "]\n",
    "\n",
    "# load checkpoints\n",
    "model = TransformerModel(config)\n",
    "model.load_state_dict(state_dict)\n",
    "translator = Translator(model.cpu(), tokenizer, tokenizer)\n",
    "translator(\n",
    "    sentence_list,\n",
    "    layer_idx=-1,\n",
    "    # heads_list=[0, 1, 2, 3, 4, 5, 6, 7]\n",
    "    )\n"
   ]
  }
 ],
 "metadata": {
  "accelerator": "GPU",
  "colab": {
   "gpuType": "L4",
   "machine_shape": "hm",
   "provenance": []
  },
  "kernelspec": {
   "display_name": "Python 3 (ipykernel)",
   "language": "python",
   "name": "python3"
  },
  "language_info": {
   "codemirror_mode": {
    "name": "ipython",
    "version": 3
   },
   "file_extension": ".py",
   "mimetype": "text/x-python",
   "name": "python",
   "nbconvert_exporter": "python",
   "pygments_lexer": "ipython3",
   "version": "3.11.11"
  },
  "widgets": {
   "application/vnd.jupyter.widget-state+json": {
    "046c17ba17f94587968cda8c761c2bf7": {
     "model_module": "@jupyter-widgets/base",
     "model_module_version": "1.2.0",
     "model_name": "LayoutModel",
     "state": {
      "_model_module": "@jupyter-widgets/base",
      "_model_module_version": "1.2.0",
      "_model_name": "LayoutModel",
      "_view_count": null,
      "_view_module": "@jupyter-widgets/base",
      "_view_module_version": "1.2.0",
      "_view_name": "LayoutView",
      "align_content": null,
      "align_items": null,
      "align_self": null,
      "border": null,
      "bottom": null,
      "display": null,
      "flex": null,
      "flex_flow": null,
      "grid_area": null,
      "grid_auto_columns": null,
      "grid_auto_flow": null,
      "grid_auto_rows": null,
      "grid_column": null,
      "grid_gap": null,
      "grid_row": null,
      "grid_template_areas": null,
      "grid_template_columns": null,
      "grid_template_rows": null,
      "height": null,
      "justify_content": null,
      "justify_items": null,
      "left": null,
      "margin": null,
      "max_height": null,
      "max_width": null,
      "min_height": null,
      "min_width": null,
      "object_fit": null,
      "object_position": null,
      "order": null,
      "overflow": null,
      "overflow_x": null,
      "overflow_y": null,
      "padding": null,
      "right": null,
      "top": null,
      "visibility": null,
      "width": null
     }
    },
    "110a1f620812433692b0442ba588013c": {
     "model_module": "@jupyter-widgets/base",
     "model_module_version": "1.2.0",
     "model_name": "LayoutModel",
     "state": {
      "_model_module": "@jupyter-widgets/base",
      "_model_module_version": "1.2.0",
      "_model_name": "LayoutModel",
      "_view_count": null,
      "_view_module": "@jupyter-widgets/base",
      "_view_module_version": "1.2.0",
      "_view_name": "LayoutView",
      "align_content": null,
      "align_items": null,
      "align_self": null,
      "border": null,
      "bottom": null,
      "display": null,
      "flex": null,
      "flex_flow": null,
      "grid_area": null,
      "grid_auto_columns": null,
      "grid_auto_flow": null,
      "grid_auto_rows": null,
      "grid_column": null,
      "grid_gap": null,
      "grid_row": null,
      "grid_template_areas": null,
      "grid_template_columns": null,
      "grid_template_rows": null,
      "height": null,
      "justify_content": null,
      "justify_items": null,
      "left": null,
      "margin": null,
      "max_height": null,
      "max_width": null,
      "min_height": null,
      "min_width": null,
      "object_fit": null,
      "object_position": null,
      "order": null,
      "overflow": null,
      "overflow_x": null,
      "overflow_y": null,
      "padding": null,
      "right": null,
      "top": null,
      "visibility": null,
      "width": null
     }
    },
    "114607d303c64d558617e41975b25270": {
     "model_module": "@jupyter-widgets/base",
     "model_module_version": "1.2.0",
     "model_name": "LayoutModel",
     "state": {
      "_model_module": "@jupyter-widgets/base",
      "_model_module_version": "1.2.0",
      "_model_name": "LayoutModel",
      "_view_count": null,
      "_view_module": "@jupyter-widgets/base",
      "_view_module_version": "1.2.0",
      "_view_name": "LayoutView",
      "align_content": null,
      "align_items": null,
      "align_self": null,
      "border": null,
      "bottom": null,
      "display": null,
      "flex": null,
      "flex_flow": null,
      "grid_area": null,
      "grid_auto_columns": null,
      "grid_auto_flow": null,
      "grid_auto_rows": null,
      "grid_column": null,
      "grid_gap": null,
      "grid_row": null,
      "grid_template_areas": null,
      "grid_template_columns": null,
      "grid_template_rows": null,
      "height": null,
      "justify_content": null,
      "justify_items": null,
      "left": null,
      "margin": null,
      "max_height": null,
      "max_width": null,
      "min_height": null,
      "min_width": null,
      "object_fit": null,
      "object_position": null,
      "order": null,
      "overflow": null,
      "overflow_x": null,
      "overflow_y": null,
      "padding": null,
      "right": null,
      "top": null,
      "visibility": null,
      "width": null
     }
    },
    "16ae7acad596458890f112a68c515cdf": {
     "model_module": "@jupyter-widgets/controls",
     "model_module_version": "1.5.0",
     "model_name": "HTMLModel",
     "state": {
      "_dom_classes": [],
      "_model_module": "@jupyter-widgets/controls",
      "_model_module_version": "1.5.0",
      "_model_name": "HTMLModel",
      "_view_count": null,
      "_view_module": "@jupyter-widgets/controls",
      "_view_module_version": "1.5.0",
      "_view_name": "HTMLView",
      "description": "",
      "description_tooltip": null,
      "layout": "IPY_MODEL_ec9417d5c4e54d18966e0140e60e4f7e",
      "placeholder": "​",
      "style": "IPY_MODEL_2d5c3abf516b48b6946778709ac9d97d",
      "value": " 16/128 [00:00&lt;00:01, 68.16it/s]"
     }
    },
    "17b7154badac4cae83ae11e0bbc8f881": {
     "model_module": "@jupyter-widgets/controls",
     "model_module_version": "1.5.0",
     "model_name": "DescriptionStyleModel",
     "state": {
      "_model_module": "@jupyter-widgets/controls",
      "_model_module_version": "1.5.0",
      "_model_name": "DescriptionStyleModel",
      "_view_count": null,
      "_view_module": "@jupyter-widgets/base",
      "_view_module_version": "1.2.0",
      "_view_name": "StyleView",
      "description_width": ""
     }
    },
    "260f33f2bfc745cf904790692b45daa3": {
     "model_module": "@jupyter-widgets/base",
     "model_module_version": "1.2.0",
     "model_name": "LayoutModel",
     "state": {
      "_model_module": "@jupyter-widgets/base",
      "_model_module_version": "1.2.0",
      "_model_name": "LayoutModel",
      "_view_count": null,
      "_view_module": "@jupyter-widgets/base",
      "_view_module_version": "1.2.0",
      "_view_name": "LayoutView",
      "align_content": null,
      "align_items": null,
      "align_self": null,
      "border": null,
      "bottom": null,
      "display": null,
      "flex": null,
      "flex_flow": null,
      "grid_area": null,
      "grid_auto_columns": null,
      "grid_auto_flow": null,
      "grid_auto_rows": null,
      "grid_column": null,
      "grid_gap": null,
      "grid_row": null,
      "grid_template_areas": null,
      "grid_template_columns": null,
      "grid_template_rows": null,
      "height": null,
      "justify_content": null,
      "justify_items": null,
      "left": null,
      "margin": null,
      "max_height": null,
      "max_width": null,
      "min_height": null,
      "min_width": null,
      "object_fit": null,
      "object_position": null,
      "order": null,
      "overflow": null,
      "overflow_x": null,
      "overflow_y": null,
      "padding": null,
      "right": null,
      "top": null,
      "visibility": null,
      "width": null
     }
    },
    "280b011dc683465985da449bc80ab71f": {
     "model_module": "@jupyter-widgets/controls",
     "model_module_version": "1.5.0",
     "model_name": "FloatProgressModel",
     "state": {
      "_dom_classes": [],
      "_model_module": "@jupyter-widgets/controls",
      "_model_module_version": "1.5.0",
      "_model_name": "FloatProgressModel",
      "_view_count": null,
      "_view_module": "@jupyter-widgets/controls",
      "_view_module_version": "1.5.0",
      "_view_name": "ProgressView",
      "bar_style": "danger",
      "description": "",
      "description_tooltip": null,
      "layout": "IPY_MODEL_046c17ba17f94587968cda8c761c2bf7",
      "max": 128,
      "min": 0,
      "orientation": "horizontal",
      "style": "IPY_MODEL_79a55387adba484e9485779a07bcc8e9",
      "value": 16
     }
    },
    "2d5c3abf516b48b6946778709ac9d97d": {
     "model_module": "@jupyter-widgets/controls",
     "model_module_version": "1.5.0",
     "model_name": "DescriptionStyleModel",
     "state": {
      "_model_module": "@jupyter-widgets/controls",
      "_model_module_version": "1.5.0",
      "_model_name": "DescriptionStyleModel",
      "_view_count": null,
      "_view_module": "@jupyter-widgets/base",
      "_view_module_version": "1.2.0",
      "_view_name": "StyleView",
      "description_width": ""
     }
    },
    "3212f3a98f5e4a96ac888f368f4fff42": {
     "model_module": "@jupyter-widgets/controls",
     "model_module_version": "1.5.0",
     "model_name": "HBoxModel",
     "state": {
      "_dom_classes": [],
      "_model_module": "@jupyter-widgets/controls",
      "_model_module_version": "1.5.0",
      "_model_name": "HBoxModel",
      "_view_count": null,
      "_view_module": "@jupyter-widgets/controls",
      "_view_module_version": "1.5.0",
      "_view_name": "HBoxView",
      "box_style": "",
      "children": [
       "IPY_MODEL_8af2647d8486443a8a025bc30e9ddac6",
       "IPY_MODEL_280b011dc683465985da449bc80ab71f",
       "IPY_MODEL_16ae7acad596458890f112a68c515cdf"
      ],
      "layout": "IPY_MODEL_f6971c6f2b22427cb2b58ffffda71135"
     }
    },
    "32ab830293104d33b6f584b0ed030aeb": {
     "model_module": "@jupyter-widgets/controls",
     "model_module_version": "1.5.0",
     "model_name": "DescriptionStyleModel",
     "state": {
      "_model_module": "@jupyter-widgets/controls",
      "_model_module_version": "1.5.0",
      "_model_name": "DescriptionStyleModel",
      "_view_count": null,
      "_view_module": "@jupyter-widgets/base",
      "_view_module_version": "1.2.0",
      "_view_name": "StyleView",
      "description_width": ""
     }
    },
    "381277e910d647b98475c7e514d4ce59": {
     "model_module": "@jupyter-widgets/controls",
     "model_module_version": "1.5.0",
     "model_name": "HBoxModel",
     "state": {
      "_dom_classes": [],
      "_model_module": "@jupyter-widgets/controls",
      "_model_module_version": "1.5.0",
      "_model_name": "HBoxModel",
      "_view_count": null,
      "_view_module": "@jupyter-widgets/controls",
      "_view_module_version": "1.5.0",
      "_view_name": "HBoxView",
      "box_style": "",
      "children": [
       "IPY_MODEL_79e7a2f67e704862b46c4479a28aa57e",
       "IPY_MODEL_530f7729ef174321868689c813cbab16",
       "IPY_MODEL_6ceb216821134bffaacd542be9332afd"
      ],
      "layout": "IPY_MODEL_b4f510c9bb9144ccb2fb6381ad2959b1"
     }
    },
    "3a96896a8b1746b08d855322fc274a7c": {
     "model_module": "@jupyter-widgets/controls",
     "model_module_version": "1.5.0",
     "model_name": "DescriptionStyleModel",
     "state": {
      "_model_module": "@jupyter-widgets/controls",
      "_model_module_version": "1.5.0",
      "_model_name": "DescriptionStyleModel",
      "_view_count": null,
      "_view_module": "@jupyter-widgets/base",
      "_view_module_version": "1.2.0",
      "_view_name": "StyleView",
      "description_width": ""
     }
    },
    "4111b8dea92d4c73a0d797c900d1c4e4": {
     "model_module": "@jupyter-widgets/controls",
     "model_module_version": "1.5.0",
     "model_name": "HTMLModel",
     "state": {
      "_dom_classes": [],
      "_model_module": "@jupyter-widgets/controls",
      "_model_module_version": "1.5.0",
      "_model_name": "HTMLModel",
      "_view_count": null,
      "_view_module": "@jupyter-widgets/controls",
      "_view_module_version": "1.5.0",
      "_view_name": "HTMLView",
      "description": "",
      "description_tooltip": null,
      "layout": "IPY_MODEL_e78c6667146541fdb695db5690fa4301",
      "placeholder": "​",
      "style": "IPY_MODEL_17b7154badac4cae83ae11e0bbc8f881",
      "value": " 18107/18107 [00:00&lt;00:00, 661449.10it/s]"
     }
    },
    "512ed7c39b0a49ed97c4ed9aa9cb47e9": {
     "model_module": "@jupyter-widgets/controls",
     "model_module_version": "1.5.0",
     "model_name": "ProgressStyleModel",
     "state": {
      "_model_module": "@jupyter-widgets/controls",
      "_model_module_version": "1.5.0",
      "_model_name": "ProgressStyleModel",
      "_view_count": null,
      "_view_module": "@jupyter-widgets/base",
      "_view_module_version": "1.2.0",
      "_view_name": "StyleView",
      "bar_color": null,
      "description_width": ""
     }
    },
    "530f7729ef174321868689c813cbab16": {
     "model_module": "@jupyter-widgets/controls",
     "model_module_version": "1.5.0",
     "model_name": "FloatProgressModel",
     "state": {
      "_dom_classes": [],
      "_model_module": "@jupyter-widgets/controls",
      "_model_module_version": "1.5.0",
      "_model_name": "FloatProgressModel",
      "_view_count": null,
      "_view_module": "@jupyter-widgets/controls",
      "_view_module_version": "1.5.0",
      "_view_name": "ProgressView",
      "bar_style": "success",
      "description": "",
      "description_tooltip": null,
      "layout": "IPY_MODEL_da3d1cec9148455ea084b22d7209805e",
      "max": 1,
      "min": 0,
      "orientation": "horizontal",
      "style": "IPY_MODEL_512ed7c39b0a49ed97c4ed9aa9cb47e9",
      "value": 1
     }
    },
    "56b020a70cd34c1c9673d7ebdba23c43": {
     "model_module": "@jupyter-widgets/controls",
     "model_module_version": "1.5.0",
     "model_name": "DescriptionStyleModel",
     "state": {
      "_model_module": "@jupyter-widgets/controls",
      "_model_module_version": "1.5.0",
      "_model_name": "DescriptionStyleModel",
      "_view_count": null,
      "_view_module": "@jupyter-widgets/base",
      "_view_module_version": "1.2.0",
      "_view_name": "StyleView",
      "description_width": ""
     }
    },
    "5b30c15446eb4a6cbc62498fb6753323": {
     "model_module": "@jupyter-widgets/controls",
     "model_module_version": "1.5.0",
     "model_name": "DescriptionStyleModel",
     "state": {
      "_model_module": "@jupyter-widgets/controls",
      "_model_module_version": "1.5.0",
      "_model_name": "DescriptionStyleModel",
      "_view_count": null,
      "_view_module": "@jupyter-widgets/base",
      "_view_module_version": "1.2.0",
      "_view_name": "StyleView",
      "description_width": ""
     }
    },
    "6ada793910ae47b0953f6be510d7d935": {
     "model_module": "@jupyter-widgets/base",
     "model_module_version": "1.2.0",
     "model_name": "LayoutModel",
     "state": {
      "_model_module": "@jupyter-widgets/base",
      "_model_module_version": "1.2.0",
      "_model_name": "LayoutModel",
      "_view_count": null,
      "_view_module": "@jupyter-widgets/base",
      "_view_module_version": "1.2.0",
      "_view_name": "LayoutView",
      "align_content": null,
      "align_items": null,
      "align_self": null,
      "border": null,
      "bottom": null,
      "display": null,
      "flex": null,
      "flex_flow": null,
      "grid_area": null,
      "grid_auto_columns": null,
      "grid_auto_flow": null,
      "grid_auto_rows": null,
      "grid_column": null,
      "grid_gap": null,
      "grid_row": null,
      "grid_template_areas": null,
      "grid_template_columns": null,
      "grid_template_rows": null,
      "height": null,
      "justify_content": null,
      "justify_items": null,
      "left": null,
      "margin": null,
      "max_height": null,
      "max_width": null,
      "min_height": null,
      "min_width": null,
      "object_fit": null,
      "object_position": null,
      "order": null,
      "overflow": null,
      "overflow_x": null,
      "overflow_y": null,
      "padding": null,
      "right": null,
      "top": null,
      "visibility": null,
      "width": null
     }
    },
    "6ceb216821134bffaacd542be9332afd": {
     "model_module": "@jupyter-widgets/controls",
     "model_module_version": "1.5.0",
     "model_name": "HTMLModel",
     "state": {
      "_dom_classes": [],
      "_model_module": "@jupyter-widgets/controls",
      "_model_module_version": "1.5.0",
      "_model_name": "HTMLModel",
      "_view_count": null,
      "_view_module": "@jupyter-widgets/controls",
      "_view_module_version": "1.5.0",
      "_view_name": "HTMLView",
      "description": "",
      "description_tooltip": null,
      "layout": "IPY_MODEL_6ada793910ae47b0953f6be510d7d935",
      "placeholder": "​",
      "style": "IPY_MODEL_7045995d4587482c8d87797846e13ad9",
      "value": " 966/? [00:16&lt;00:00, 56.13it/s]"
     }
    },
    "7045995d4587482c8d87797846e13ad9": {
     "model_module": "@jupyter-widgets/controls",
     "model_module_version": "1.5.0",
     "model_name": "DescriptionStyleModel",
     "state": {
      "_model_module": "@jupyter-widgets/controls",
      "_model_module_version": "1.5.0",
      "_model_name": "DescriptionStyleModel",
      "_view_count": null,
      "_view_module": "@jupyter-widgets/base",
      "_view_module_version": "1.2.0",
      "_view_name": "StyleView",
      "description_width": ""
     }
    },
    "79a55387adba484e9485779a07bcc8e9": {
     "model_module": "@jupyter-widgets/controls",
     "model_module_version": "1.5.0",
     "model_name": "ProgressStyleModel",
     "state": {
      "_model_module": "@jupyter-widgets/controls",
      "_model_module_version": "1.5.0",
      "_model_name": "ProgressStyleModel",
      "_view_count": null,
      "_view_module": "@jupyter-widgets/base",
      "_view_module_version": "1.2.0",
      "_view_name": "StyleView",
      "bar_color": null,
      "description_width": ""
     }
    },
    "79e7a2f67e704862b46c4479a28aa57e": {
     "model_module": "@jupyter-widgets/controls",
     "model_module_version": "1.5.0",
     "model_name": "HTMLModel",
     "state": {
      "_dom_classes": [],
      "_model_module": "@jupyter-widgets/controls",
      "_model_module_version": "1.5.0",
      "_model_name": "HTMLModel",
      "_view_count": null,
      "_view_module": "@jupyter-widgets/controls",
      "_view_module_version": "1.5.0",
      "_view_name": "HTMLView",
      "description": "",
      "description_tooltip": null,
      "layout": "IPY_MODEL_260f33f2bfc745cf904790692b45daa3",
      "placeholder": "​",
      "style": "IPY_MODEL_3a96896a8b1746b08d855322fc274a7c",
      "value": ""
     }
    },
    "7d1e98340eb54ca7be701aba5cf76943": {
     "model_module": "@jupyter-widgets/base",
     "model_module_version": "1.2.0",
     "model_name": "LayoutModel",
     "state": {
      "_model_module": "@jupyter-widgets/base",
      "_model_module_version": "1.2.0",
      "_model_name": "LayoutModel",
      "_view_count": null,
      "_view_module": "@jupyter-widgets/base",
      "_view_module_version": "1.2.0",
      "_view_name": "LayoutView",
      "align_content": null,
      "align_items": null,
      "align_self": null,
      "border": null,
      "bottom": null,
      "display": null,
      "flex": null,
      "flex_flow": null,
      "grid_area": null,
      "grid_auto_columns": null,
      "grid_auto_flow": null,
      "grid_auto_rows": null,
      "grid_column": null,
      "grid_gap": null,
      "grid_row": null,
      "grid_template_areas": null,
      "grid_template_columns": null,
      "grid_template_rows": null,
      "height": null,
      "justify_content": null,
      "justify_items": null,
      "left": null,
      "margin": null,
      "max_height": null,
      "max_width": null,
      "min_height": null,
      "min_width": null,
      "object_fit": null,
      "object_position": null,
      "order": null,
      "overflow": null,
      "overflow_x": null,
      "overflow_y": null,
      "padding": null,
      "right": null,
      "top": null,
      "visibility": null,
      "width": null
     }
    },
    "7fff264309184763be76c74febde5af1": {
     "model_module": "@jupyter-widgets/controls",
     "model_module_version": "1.5.0",
     "model_name": "HBoxModel",
     "state": {
      "_dom_classes": [],
      "_model_module": "@jupyter-widgets/controls",
      "_model_module_version": "1.5.0",
      "_model_name": "HBoxModel",
      "_view_count": null,
      "_view_module": "@jupyter-widgets/controls",
      "_view_module_version": "1.5.0",
      "_view_name": "HBoxView",
      "box_style": "",
      "children": [
       "IPY_MODEL_a51848bc90674b5bbfe6aa10b1fbd92b",
       "IPY_MODEL_f713cc5ab93e467699537e1033853259",
       "IPY_MODEL_880ed6db148b41fe93ccf987173c95b0"
      ],
      "layout": "IPY_MODEL_b0af4291ebd44162bc27b36c1ad3f651"
     }
    },
    "8271841f536f476fa7f168285169b8b0": {
     "model_module": "@jupyter-widgets/controls",
     "model_module_version": "1.5.0",
     "model_name": "HBoxModel",
     "state": {
      "_dom_classes": [],
      "_model_module": "@jupyter-widgets/controls",
      "_model_module_version": "1.5.0",
      "_model_name": "HBoxModel",
      "_view_count": null,
      "_view_module": "@jupyter-widgets/controls",
      "_view_module_version": "1.5.0",
      "_view_name": "HBoxView",
      "box_style": "",
      "children": [
       "IPY_MODEL_d04403d6d9de45229ab199c84d8e78b1",
       "IPY_MODEL_83516e53d8044b5984c31b0cfa983454",
       "IPY_MODEL_4111b8dea92d4c73a0d797c900d1c4e4"
      ],
      "layout": "IPY_MODEL_110a1f620812433692b0442ba588013c"
     }
    },
    "83516e53d8044b5984c31b0cfa983454": {
     "model_module": "@jupyter-widgets/controls",
     "model_module_version": "1.5.0",
     "model_name": "FloatProgressModel",
     "state": {
      "_dom_classes": [],
      "_model_module": "@jupyter-widgets/controls",
      "_model_module_version": "1.5.0",
      "_model_name": "FloatProgressModel",
      "_view_count": null,
      "_view_module": "@jupyter-widgets/controls",
      "_view_module_version": "1.5.0",
      "_view_name": "ProgressView",
      "bar_style": "success",
      "description": "",
      "description_tooltip": null,
      "layout": "IPY_MODEL_114607d303c64d558617e41975b25270",
      "max": 18107,
      "min": 0,
      "orientation": "horizontal",
      "style": "IPY_MODEL_9aca93d3cde5487c8d83e9007673f227",
      "value": 18107
     }
    },
    "880ed6db148b41fe93ccf987173c95b0": {
     "model_module": "@jupyter-widgets/controls",
     "model_module_version": "1.5.0",
     "model_name": "HTMLModel",
     "state": {
      "_dom_classes": [],
      "_model_module": "@jupyter-widgets/controls",
      "_model_module_version": "1.5.0",
      "_model_name": "HTMLModel",
      "_view_count": null,
      "_view_module": "@jupyter-widgets/controls",
      "_view_module_version": "1.5.0",
      "_view_name": "HTMLView",
      "description": "",
      "description_tooltip": null,
      "layout": "IPY_MODEL_928f41cfb6184310afb07d861c17a413",
      "placeholder": "​",
      "style": "IPY_MODEL_91c3e9b25c94440181ce6e679ef357c3",
      "value": " 17160/17160 [22:53&lt;00:00, 12.60it/s, epoch=39, loss=2.22, val_loss=3.3]"
     }
    },
    "8af2647d8486443a8a025bc30e9ddac6": {
     "model_module": "@jupyter-widgets/controls",
     "model_module_version": "1.5.0",
     "model_name": "HTMLModel",
     "state": {
      "_dom_classes": [],
      "_model_module": "@jupyter-widgets/controls",
      "_model_module_version": "1.5.0",
      "_model_name": "HTMLModel",
      "_view_count": null,
      "_view_module": "@jupyter-widgets/controls",
      "_view_module_version": "1.5.0",
      "_view_name": "HTMLView",
      "description": "",
      "description_tooltip": null,
      "layout": "IPY_MODEL_d939b58e958641bdb4f2a2accc1c3645",
      "placeholder": "​",
      "style": "IPY_MODEL_5b30c15446eb4a6cbc62498fb6753323",
      "value": " 12%"
     }
    },
    "91c3e9b25c94440181ce6e679ef357c3": {
     "model_module": "@jupyter-widgets/controls",
     "model_module_version": "1.5.0",
     "model_name": "DescriptionStyleModel",
     "state": {
      "_model_module": "@jupyter-widgets/controls",
      "_model_module_version": "1.5.0",
      "_model_name": "DescriptionStyleModel",
      "_view_count": null,
      "_view_module": "@jupyter-widgets/base",
      "_view_module_version": "1.2.0",
      "_view_name": "StyleView",
      "description_width": ""
     }
    },
    "928f41cfb6184310afb07d861c17a413": {
     "model_module": "@jupyter-widgets/base",
     "model_module_version": "1.2.0",
     "model_name": "LayoutModel",
     "state": {
      "_model_module": "@jupyter-widgets/base",
      "_model_module_version": "1.2.0",
      "_model_name": "LayoutModel",
      "_view_count": null,
      "_view_module": "@jupyter-widgets/base",
      "_view_module_version": "1.2.0",
      "_view_name": "LayoutView",
      "align_content": null,
      "align_items": null,
      "align_self": null,
      "border": null,
      "bottom": null,
      "display": null,
      "flex": null,
      "flex_flow": null,
      "grid_area": null,
      "grid_auto_columns": null,
      "grid_auto_flow": null,
      "grid_auto_rows": null,
      "grid_column": null,
      "grid_gap": null,
      "grid_row": null,
      "grid_template_areas": null,
      "grid_template_columns": null,
      "grid_template_rows": null,
      "height": null,
      "justify_content": null,
      "justify_items": null,
      "left": null,
      "margin": null,
      "max_height": null,
      "max_width": null,
      "min_height": null,
      "min_width": null,
      "object_fit": null,
      "object_position": null,
      "order": null,
      "overflow": null,
      "overflow_x": null,
      "overflow_y": null,
      "padding": null,
      "right": null,
      "top": null,
      "visibility": null,
      "width": null
     }
    },
    "9aca93d3cde5487c8d83e9007673f227": {
     "model_module": "@jupyter-widgets/controls",
     "model_module_version": "1.5.0",
     "model_name": "ProgressStyleModel",
     "state": {
      "_model_module": "@jupyter-widgets/controls",
      "_model_module_version": "1.5.0",
      "_model_name": "ProgressStyleModel",
      "_view_count": null,
      "_view_module": "@jupyter-widgets/base",
      "_view_module_version": "1.2.0",
      "_view_name": "StyleView",
      "bar_color": null,
      "description_width": ""
     }
    },
    "a51848bc90674b5bbfe6aa10b1fbd92b": {
     "model_module": "@jupyter-widgets/controls",
     "model_module_version": "1.5.0",
     "model_name": "HTMLModel",
     "state": {
      "_dom_classes": [],
      "_model_module": "@jupyter-widgets/controls",
      "_model_module_version": "1.5.0",
      "_model_name": "HTMLModel",
      "_view_count": null,
      "_view_module": "@jupyter-widgets/controls",
      "_view_module_version": "1.5.0",
      "_view_name": "HTMLView",
      "description": "",
      "description_tooltip": null,
      "layout": "IPY_MODEL_eac3d467f0e24fc5a461c4f5037d76da",
      "placeholder": "​",
      "style": "IPY_MODEL_56b020a70cd34c1c9673d7ebdba23c43",
      "value": "100%"
     }
    },
    "a81f6c3bb6a4482b86d028d608b04559": {
     "model_module": "@jupyter-widgets/base",
     "model_module_version": "1.2.0",
     "model_name": "LayoutModel",
     "state": {
      "_model_module": "@jupyter-widgets/base",
      "_model_module_version": "1.2.0",
      "_model_name": "LayoutModel",
      "_view_count": null,
      "_view_module": "@jupyter-widgets/base",
      "_view_module_version": "1.2.0",
      "_view_name": "LayoutView",
      "align_content": null,
      "align_items": null,
      "align_self": null,
      "border": null,
      "bottom": null,
      "display": null,
      "flex": null,
      "flex_flow": null,
      "grid_area": null,
      "grid_auto_columns": null,
      "grid_auto_flow": null,
      "grid_auto_rows": null,
      "grid_column": null,
      "grid_gap": null,
      "grid_row": null,
      "grid_template_areas": null,
      "grid_template_columns": null,
      "grid_template_rows": null,
      "height": null,
      "justify_content": null,
      "justify_items": null,
      "left": null,
      "margin": null,
      "max_height": null,
      "max_width": null,
      "min_height": null,
      "min_width": null,
      "object_fit": null,
      "object_position": null,
      "order": null,
      "overflow": null,
      "overflow_x": null,
      "overflow_y": null,
      "padding": null,
      "right": null,
      "top": null,
      "visibility": null,
      "width": null
     }
    },
    "b0af4291ebd44162bc27b36c1ad3f651": {
     "model_module": "@jupyter-widgets/base",
     "model_module_version": "1.2.0",
     "model_name": "LayoutModel",
     "state": {
      "_model_module": "@jupyter-widgets/base",
      "_model_module_version": "1.2.0",
      "_model_name": "LayoutModel",
      "_view_count": null,
      "_view_module": "@jupyter-widgets/base",
      "_view_module_version": "1.2.0",
      "_view_name": "LayoutView",
      "align_content": null,
      "align_items": null,
      "align_self": null,
      "border": null,
      "bottom": null,
      "display": null,
      "flex": null,
      "flex_flow": null,
      "grid_area": null,
      "grid_auto_columns": null,
      "grid_auto_flow": null,
      "grid_auto_rows": null,
      "grid_column": null,
      "grid_gap": null,
      "grid_row": null,
      "grid_template_areas": null,
      "grid_template_columns": null,
      "grid_template_rows": null,
      "height": null,
      "justify_content": null,
      "justify_items": null,
      "left": null,
      "margin": null,
      "max_height": null,
      "max_width": null,
      "min_height": null,
      "min_width": null,
      "object_fit": null,
      "object_position": null,
      "order": null,
      "overflow": null,
      "overflow_x": null,
      "overflow_y": null,
      "padding": null,
      "right": null,
      "top": null,
      "visibility": null,
      "width": null
     }
    },
    "b4f510c9bb9144ccb2fb6381ad2959b1": {
     "model_module": "@jupyter-widgets/base",
     "model_module_version": "1.2.0",
     "model_name": "LayoutModel",
     "state": {
      "_model_module": "@jupyter-widgets/base",
      "_model_module_version": "1.2.0",
      "_model_name": "LayoutModel",
      "_view_count": null,
      "_view_module": "@jupyter-widgets/base",
      "_view_module_version": "1.2.0",
      "_view_name": "LayoutView",
      "align_content": null,
      "align_items": null,
      "align_self": null,
      "border": null,
      "bottom": null,
      "display": null,
      "flex": null,
      "flex_flow": null,
      "grid_area": null,
      "grid_auto_columns": null,
      "grid_auto_flow": null,
      "grid_auto_rows": null,
      "grid_column": null,
      "grid_gap": null,
      "grid_row": null,
      "grid_template_areas": null,
      "grid_template_columns": null,
      "grid_template_rows": null,
      "height": null,
      "justify_content": null,
      "justify_items": null,
      "left": null,
      "margin": null,
      "max_height": null,
      "max_width": null,
      "min_height": null,
      "min_width": null,
      "object_fit": null,
      "object_position": null,
      "order": null,
      "overflow": null,
      "overflow_x": null,
      "overflow_y": null,
      "padding": null,
      "right": null,
      "top": null,
      "visibility": null,
      "width": null
     }
    },
    "d04403d6d9de45229ab199c84d8e78b1": {
     "model_module": "@jupyter-widgets/controls",
     "model_module_version": "1.5.0",
     "model_name": "HTMLModel",
     "state": {
      "_dom_classes": [],
      "_model_module": "@jupyter-widgets/controls",
      "_model_module_version": "1.5.0",
      "_model_name": "HTMLModel",
      "_view_count": null,
      "_view_module": "@jupyter-widgets/controls",
      "_view_module_version": "1.5.0",
      "_view_name": "HTMLView",
      "description": "",
      "description_tooltip": null,
      "layout": "IPY_MODEL_a81f6c3bb6a4482b86d028d608b04559",
      "placeholder": "​",
      "style": "IPY_MODEL_32ab830293104d33b6f584b0ed030aeb",
      "value": "100%"
     }
    },
    "d3ac645daf904649988e69aa58fb665a": {
     "model_module": "@jupyter-widgets/controls",
     "model_module_version": "1.5.0",
     "model_name": "ProgressStyleModel",
     "state": {
      "_model_module": "@jupyter-widgets/controls",
      "_model_module_version": "1.5.0",
      "_model_name": "ProgressStyleModel",
      "_view_count": null,
      "_view_module": "@jupyter-widgets/base",
      "_view_module_version": "1.2.0",
      "_view_name": "StyleView",
      "bar_color": null,
      "description_width": ""
     }
    },
    "d939b58e958641bdb4f2a2accc1c3645": {
     "model_module": "@jupyter-widgets/base",
     "model_module_version": "1.2.0",
     "model_name": "LayoutModel",
     "state": {
      "_model_module": "@jupyter-widgets/base",
      "_model_module_version": "1.2.0",
      "_model_name": "LayoutModel",
      "_view_count": null,
      "_view_module": "@jupyter-widgets/base",
      "_view_module_version": "1.2.0",
      "_view_name": "LayoutView",
      "align_content": null,
      "align_items": null,
      "align_self": null,
      "border": null,
      "bottom": null,
      "display": null,
      "flex": null,
      "flex_flow": null,
      "grid_area": null,
      "grid_auto_columns": null,
      "grid_auto_flow": null,
      "grid_auto_rows": null,
      "grid_column": null,
      "grid_gap": null,
      "grid_row": null,
      "grid_template_areas": null,
      "grid_template_columns": null,
      "grid_template_rows": null,
      "height": null,
      "justify_content": null,
      "justify_items": null,
      "left": null,
      "margin": null,
      "max_height": null,
      "max_width": null,
      "min_height": null,
      "min_width": null,
      "object_fit": null,
      "object_position": null,
      "order": null,
      "overflow": null,
      "overflow_x": null,
      "overflow_y": null,
      "padding": null,
      "right": null,
      "top": null,
      "visibility": null,
      "width": null
     }
    },
    "da3d1cec9148455ea084b22d7209805e": {
     "model_module": "@jupyter-widgets/base",
     "model_module_version": "1.2.0",
     "model_name": "LayoutModel",
     "state": {
      "_model_module": "@jupyter-widgets/base",
      "_model_module_version": "1.2.0",
      "_model_name": "LayoutModel",
      "_view_count": null,
      "_view_module": "@jupyter-widgets/base",
      "_view_module_version": "1.2.0",
      "_view_name": "LayoutView",
      "align_content": null,
      "align_items": null,
      "align_self": null,
      "border": null,
      "bottom": null,
      "display": null,
      "flex": null,
      "flex_flow": null,
      "grid_area": null,
      "grid_auto_columns": null,
      "grid_auto_flow": null,
      "grid_auto_rows": null,
      "grid_column": null,
      "grid_gap": null,
      "grid_row": null,
      "grid_template_areas": null,
      "grid_template_columns": null,
      "grid_template_rows": null,
      "height": null,
      "justify_content": null,
      "justify_items": null,
      "left": null,
      "margin": null,
      "max_height": null,
      "max_width": null,
      "min_height": null,
      "min_width": null,
      "object_fit": null,
      "object_position": null,
      "order": null,
      "overflow": null,
      "overflow_x": null,
      "overflow_y": null,
      "padding": null,
      "right": null,
      "top": null,
      "visibility": null,
      "width": "20px"
     }
    },
    "e78c6667146541fdb695db5690fa4301": {
     "model_module": "@jupyter-widgets/base",
     "model_module_version": "1.2.0",
     "model_name": "LayoutModel",
     "state": {
      "_model_module": "@jupyter-widgets/base",
      "_model_module_version": "1.2.0",
      "_model_name": "LayoutModel",
      "_view_count": null,
      "_view_module": "@jupyter-widgets/base",
      "_view_module_version": "1.2.0",
      "_view_name": "LayoutView",
      "align_content": null,
      "align_items": null,
      "align_self": null,
      "border": null,
      "bottom": null,
      "display": null,
      "flex": null,
      "flex_flow": null,
      "grid_area": null,
      "grid_auto_columns": null,
      "grid_auto_flow": null,
      "grid_auto_rows": null,
      "grid_column": null,
      "grid_gap": null,
      "grid_row": null,
      "grid_template_areas": null,
      "grid_template_columns": null,
      "grid_template_rows": null,
      "height": null,
      "justify_content": null,
      "justify_items": null,
      "left": null,
      "margin": null,
      "max_height": null,
      "max_width": null,
      "min_height": null,
      "min_width": null,
      "object_fit": null,
      "object_position": null,
      "order": null,
      "overflow": null,
      "overflow_x": null,
      "overflow_y": null,
      "padding": null,
      "right": null,
      "top": null,
      "visibility": null,
      "width": null
     }
    },
    "eac3d467f0e24fc5a461c4f5037d76da": {
     "model_module": "@jupyter-widgets/base",
     "model_module_version": "1.2.0",
     "model_name": "LayoutModel",
     "state": {
      "_model_module": "@jupyter-widgets/base",
      "_model_module_version": "1.2.0",
      "_model_name": "LayoutModel",
      "_view_count": null,
      "_view_module": "@jupyter-widgets/base",
      "_view_module_version": "1.2.0",
      "_view_name": "LayoutView",
      "align_content": null,
      "align_items": null,
      "align_self": null,
      "border": null,
      "bottom": null,
      "display": null,
      "flex": null,
      "flex_flow": null,
      "grid_area": null,
      "grid_auto_columns": null,
      "grid_auto_flow": null,
      "grid_auto_rows": null,
      "grid_column": null,
      "grid_gap": null,
      "grid_row": null,
      "grid_template_areas": null,
      "grid_template_columns": null,
      "grid_template_rows": null,
      "height": null,
      "justify_content": null,
      "justify_items": null,
      "left": null,
      "margin": null,
      "max_height": null,
      "max_width": null,
      "min_height": null,
      "min_width": null,
      "object_fit": null,
      "object_position": null,
      "order": null,
      "overflow": null,
      "overflow_x": null,
      "overflow_y": null,
      "padding": null,
      "right": null,
      "top": null,
      "visibility": null,
      "width": null
     }
    },
    "ec9417d5c4e54d18966e0140e60e4f7e": {
     "model_module": "@jupyter-widgets/base",
     "model_module_version": "1.2.0",
     "model_name": "LayoutModel",
     "state": {
      "_model_module": "@jupyter-widgets/base",
      "_model_module_version": "1.2.0",
      "_model_name": "LayoutModel",
      "_view_count": null,
      "_view_module": "@jupyter-widgets/base",
      "_view_module_version": "1.2.0",
      "_view_name": "LayoutView",
      "align_content": null,
      "align_items": null,
      "align_self": null,
      "border": null,
      "bottom": null,
      "display": null,
      "flex": null,
      "flex_flow": null,
      "grid_area": null,
      "grid_auto_columns": null,
      "grid_auto_flow": null,
      "grid_auto_rows": null,
      "grid_column": null,
      "grid_gap": null,
      "grid_row": null,
      "grid_template_areas": null,
      "grid_template_columns": null,
      "grid_template_rows": null,
      "height": null,
      "justify_content": null,
      "justify_items": null,
      "left": null,
      "margin": null,
      "max_height": null,
      "max_width": null,
      "min_height": null,
      "min_width": null,
      "object_fit": null,
      "object_position": null,
      "order": null,
      "overflow": null,
      "overflow_x": null,
      "overflow_y": null,
      "padding": null,
      "right": null,
      "top": null,
      "visibility": null,
      "width": null
     }
    },
    "f6971c6f2b22427cb2b58ffffda71135": {
     "model_module": "@jupyter-widgets/base",
     "model_module_version": "1.2.0",
     "model_name": "LayoutModel",
     "state": {
      "_model_module": "@jupyter-widgets/base",
      "_model_module_version": "1.2.0",
      "_model_name": "LayoutModel",
      "_view_count": null,
      "_view_module": "@jupyter-widgets/base",
      "_view_module_version": "1.2.0",
      "_view_name": "LayoutView",
      "align_content": null,
      "align_items": null,
      "align_self": null,
      "border": null,
      "bottom": null,
      "display": null,
      "flex": null,
      "flex_flow": null,
      "grid_area": null,
      "grid_auto_columns": null,
      "grid_auto_flow": null,
      "grid_auto_rows": null,
      "grid_column": null,
      "grid_gap": null,
      "grid_row": null,
      "grid_template_areas": null,
      "grid_template_columns": null,
      "grid_template_rows": null,
      "height": null,
      "justify_content": null,
      "justify_items": null,
      "left": null,
      "margin": null,
      "max_height": null,
      "max_width": null,
      "min_height": null,
      "min_width": null,
      "object_fit": null,
      "object_position": null,
      "order": null,
      "overflow": null,
      "overflow_x": null,
      "overflow_y": null,
      "padding": null,
      "right": null,
      "top": null,
      "visibility": null,
      "width": null
     }
    },
    "f713cc5ab93e467699537e1033853259": {
     "model_module": "@jupyter-widgets/controls",
     "model_module_version": "1.5.0",
     "model_name": "FloatProgressModel",
     "state": {
      "_dom_classes": [],
      "_model_module": "@jupyter-widgets/controls",
      "_model_module_version": "1.5.0",
      "_model_name": "FloatProgressModel",
      "_view_count": null,
      "_view_module": "@jupyter-widgets/controls",
      "_view_module_version": "1.5.0",
      "_view_name": "ProgressView",
      "bar_style": "success",
      "description": "",
      "description_tooltip": null,
      "layout": "IPY_MODEL_7d1e98340eb54ca7be701aba5cf76943",
      "max": 17160,
      "min": 0,
      "orientation": "horizontal",
      "style": "IPY_MODEL_d3ac645daf904649988e69aa58fb665a",
      "value": 17160
     }
    }
   }
  }
 },
 "nbformat": 4,
 "nbformat_minor": 5
}
