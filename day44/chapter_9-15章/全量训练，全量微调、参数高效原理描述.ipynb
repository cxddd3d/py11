{
 "cells": [
  {
   "cell_type": "markdown",
   "id": "ab7db474",
   "metadata": {},
   "source": [
    "# 全量训练（Full Training）"
   ]
  },
  {
   "cell_type": "markdown",
   "id": "abea2959d5c6518c",
   "metadata": {},
   "source": [
    "## 原理\n",
    "全量训练指从随机初始化开始，使用完整数据集对模型所有参数进行从头训练。该过程通过反向传播更新网络中每一层的权重，直至模型收敛。"
   ]
  },
  {
   "cell_type": "markdown",
   "id": "b98d409979dde64c",
   "metadata": {},
   "source": [
    "## 特点\n",
    "1.  数据依赖性强：需大量标注数据支撑\n",
    "2.  计算成本高：参数量越大，训练所需的 GPU 集群资源和时间呈指数级增长\n",
    "3.  灵活性高：模型可自由学习输入输出的复杂映射关系，但易受过拟合风险影响，尤其在小数据集上表现显著\n"
   ]
  },
  {
   "cell_type": "markdown",
   "id": "044a1140",
   "metadata": {},
   "source": [
    "# 全量微调（Full Fine-tuning）"
   ]
  },
  {
   "cell_type": "markdown",
   "id": "cb8a7a66",
   "metadata": {},
   "source": [
    "## 原理\n",
    "全量微调以预训练模型为起点，使用下游任务数据对模型所有参数进行二次优化。"
   ]
  },
  {
   "cell_type": "markdown",
   "id": "5bed6a28",
   "metadata": {},
   "source": [
    "## 特点\n",
    "1. 知识迁移：利用预训练模型的通用特征（如边缘检测、语义理解），减少对下游任务数据量的依赖。\n",
    "2. 性能上限高：若任务与预训练分布相似，全量微调可接近或超越全量训练的性能。\n",
    "3. 资源消耗大：需重新存储整个模型副本，多任务场景下存储成本陡增。\n",
    "4. 灾难性遗忘：过度调整可能破坏预训练模型的通用知识，导致在其他任务上性能下降。"
   ]
  },
  {
   "cell_type": "markdown",
   "id": "34de9002",
   "metadata": {},
   "source": [
    "# 参数高效微调（Parameter-Efficient Fine-tuning, PEFT）"
   ]
  },
  {
   "cell_type": "markdown",
   "id": "3e7f6689",
   "metadata": {},
   "source": [
    "## 原理\n",
    "PEFT 通过冻结预训练模型的绝大部分参数（通常 > 99%），仅调整少量新增或特定参数实现任务适配。其理论基础在于：预训练模型已蕴含丰富通用知识，下游任务仅需对其进行微小修正"
   ]
  },
  {
   "cell_type": "markdown",
   "id": "38700c12",
   "metadata": {},
   "source": [
    "# 特点\n",
    "1. 计算高效：训练时仅更新少量参数，显存占用大幅降低。\n",
    "2. 存储优化：多任务场景下仅需存储共享的预训练模型和各任务的轻量适配器。\n",
    "3. 知识保留：冻结主干网络有效缓解灾难性遗忘，模型可同时适配多个任务而不互相干扰。"
   ]
  }
 ],
 "metadata": {
  "kernelspec": {
   "display_name": "Python 3",
   "language": "python",
   "name": "python3"
  },
  "language_info": {
   "codemirror_mode": {
    "name": "ipython",
    "version": 2
   },
   "file_extension": ".py",
   "mimetype": "text/x-python",
   "name": "python",
   "nbconvert_exporter": "python",
   "pygments_lexer": "ipython2",
   "version": "2.7.6"
  }
 },
 "nbformat": 4,
 "nbformat_minor": 5
}
