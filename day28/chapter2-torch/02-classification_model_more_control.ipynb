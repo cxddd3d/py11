{
 "cells": [
  {
   "cell_type": "markdown",
   "metadata": {},
   "source": [
    "# 查看FashionMNIST原始数据格式"
   ]
  },
  {
   "cell_type": "code",
   "execution_count": 1,
   "metadata": {
    "ExecuteTime": {
     "end_time": "2025-06-26T09:39:12.483422Z",
     "start_time": "2025-06-26T09:39:07.991065Z"
    }
   },
   "outputs": [
    {
     "name": "stdout",
     "output_type": "stream",
     "text": [
      "(<PIL.Image.Image image mode=L size=28x28 at 0x1A2A194BBC0>, 9)\n"
     ]
    },
    {
     "data": {
      "image/jpeg": "[encoded data removed]",
      "image/png": "[encoded data removed]",
      "text/plain": [
       "<PIL.Image.Image image mode=L size=28x28>"
      ]
     },
     "execution_count": 1,
     "metadata": {},
     "output_type": "execute_result"
    }
   ],
   "source": [
    "import torch\n",
    "import torchvision\n",
    "import numpy as np\n",
    "import matplotlib.pyplot as plt\n",
    "from torchvision import datasets, transforms\n",
    "from wangdao_deeplearning_train import EarlyStopping, ModelSaver,train_classification_model,plot_learning_curves\n",
    "from wangdao_deeplearning_train import evaluate_classification_model as evaluate_model\n",
    "# 加载Fashion MNIST数据集，张量就是和numpy数组一样\n",
    "transform = transforms.Compose([])\n",
    "train_dataset = datasets.FashionMNIST(root='./data', train=True, download=True, transform=transform)\n",
    "test_dataset = datasets.FashionMNIST(root='./data', train=False, download=True, transform=transform)\n",
    "print(train_dataset[0])\n",
    "train_dataset[0][0]"
   ]
  },
  {
   "cell_type": "markdown",
   "metadata": {},
   "source": [
    "# 加载数据并处理为tensor"
   ]
  },
  {
   "cell_type": "code",
   "execution_count": 2,
   "metadata": {
    "ExecuteTime": {
     "end_time": "2025-06-26T09:39:12.531704Z",
     "start_time": "2025-06-26T09:39:12.484436Z"
    }
   },
   "outputs": [
    {
     "name": "stdout",
     "output_type": "stream",
     "text": [
      "训练集形状: (60000, 28, 28)\n",
      "训练集标签数量: 60000\n",
      "测试集形状: (10000, 28, 28)\n",
      "测试集标签数量: 10000\n",
      "[[  0   0   0   0   0   0   0   0   0   0   0   0   0   0   0   0   0   0\n",
      "    0   0   0   0   0   0   0   0   0   0]\n",
      " [  0   0   0   0   0   0   0   0   0   0   0   0   0   0   0   0   0   0\n",
      "    0   0   0   0   0   0   0   0   0   0]\n",
      " [  0   0   0   0   0   0   0   0   0   0   0   0   0   0   0   0   0   0\n",
      "    0   0   0   0   0   0   0   0   0   0]\n",
      " [  0   0   0   0   0   0   0   0   0   0   0   0   1   0   0  13  73   0\n",
      "    0   1   4   0   0   0   0   1   1   0]\n",
      " [  0   0   0   0   0   0   0   0   0   0   0   0   3   0  36 136 127  62\n",
      "   54   0   0   0   1   3   4   0   0   3]\n",
      " [  0   0   0   0   0   0   0   0   0   0   0   0   6   0 102 204 176 134\n",
      "  144 123  23   0   0   0   0  12  10   0]\n",
      " [  0   0   0   0   0   0   0   0   0   0   0   0   0   0 155 236 207 178\n",
      "  107 156 161 109  64  23  77 130  72  15]\n",
      " [  0   0   0   0   0   0   0   0   0   0   0   1   0  69 207 223 218 216\n",
      "  216 163 127 121 122 146 141  88 172  66]\n",
      " [  0   0   0   0   0   0   0   0   0   1   1   1   0 200 232 232 233 229\n",
      "  223 223 215 213 164 127 123 196 229   0]\n",
      " [  0   0   0   0   0   0   0   0   0   0   0   0   0 183 225 216 223 228\n",
      "  235 227 224 222 224 221 223 245 173   0]\n",
      " [  0   0   0   0   0   0   0   0   0   0   0   0   0 193 228 218 213 198\n",
      "  180 212 210 211 213 223 220 243 202   0]\n",
      " [  0   0   0   0   0   0   0   0   0   1   3   0  12 219 220 212 218 192\n",
      "  169 227 208 218 224 212 226 197 209  52]\n",
      " [  0   0   0   0   0   0   0   0   0   0   6   0  99 244 222 220 218 203\n",
      "  198 221 215 213 222 220 245 119 167  56]\n",
      " [  0   0   0   0   0   0   0   0   0   4   0   0  55 236 228 230 228 240\n",
      "  232 213 218 223 234 217 217 209  92   0]\n",
      " [  0   0   1   4   6   7   2   0   0   0   0   0 237 226 217 223 222 219\n",
      "  222 221 216 223 229 215 218 255  77   0]\n",
      " [  0   3   0   0   0   0   0   0   0  62 145 204 228 207 213 221 218 208\n",
      "  211 218 224 223 219 215 224 244 159   0]\n",
      " [  0   0   0   0  18  44  82 107 189 228 220 222 217 226 200 205 211 230\n",
      "  224 234 176 188 250 248 233 238 215   0]\n",
      " [  0  57 187 208 224 221 224 208 204 214 208 209 200 159 245 193 206 223\n",
      "  255 255 221 234 221 211 220 232 246   0]\n",
      " [  3 202 228 224 221 211 211 214 205 205 205 220 240  80 150 255 229 221\n",
      "  188 154 191 210 204 209 222 228 225   0]\n",
      " [ 98 233 198 210 222 229 229 234 249 220 194 215 217 241  65  73 106 117\n",
      "  168 219 221 215 217 223 223 224 229  29]\n",
      " [ 75 204 212 204 193 205 211 225 216 185 197 206 198 213 240 195 227 245\n",
      "  239 223 218 212 209 222 220 221 230  67]\n",
      " [ 48 203 183 194 213 197 185 190 194 192 202 214 219 221 220 236 225 216\n",
      "  199 206 186 181 177 172 181 205 206 115]\n",
      " [  0 122 219 193 179 171 183 196 204 210 213 207 211 210 200 196 194 191\n",
      "  195 191 198 192 176 156 167 177 210  92]\n",
      " [  0   0  74 189 212 191 175 172 175 181 185 188 189 188 193 198 204 209\n",
      "  210 210 211 188 188 194 192 216 170   0]\n",
      " [  2   0   0   0  66 200 222 237 239 242 246 243 244 221 220 193 191 179\n",
      "  182 182 181 176 166 168  99  58   0   0]\n",
      " [  0   0   0   0   0   0   0  40  61  44  72  41  35   0   0   0   0   0\n",
      "    0   0   0   0   0   0   0   0   0   0]\n",
      " [  0   0   0   0   0   0   0   0   0   0   0   0   0   0   0   0   0   0\n",
      "    0   0   0   0   0   0   0   0   0   0]\n",
      " [  0   0   0   0   0   0   0   0   0   0   0   0   0   0   0   0   0   0\n",
      "    0   0   0   0   0   0   0   0   0   0]]\n"
     ]
    },
    {
     "data": {
      "text/plain": [
       "array([9, 0, 0, 3, 0, 2, 7, 2, 5, 5, 0, 9, 5, 5, 7, 9, 1, 0, 6, 4],\n",
       "      dtype=int64)"
      ]
     },
     "execution_count": 2,
     "metadata": {},
     "output_type": "execute_result"
    }
   ],
   "source": [
    "# 加载Fashion MNIST数据集，张量就是和numpy数组一样\n",
    "transform = transforms.Compose([\n",
    "    transforms.ToTensor(),\n",
    "    transforms.Normalize((0.286,), (0.353,))  \n",
    "])\n",
    "train_dataset = datasets.FashionMNIST(root='./data', train=True, download=True, transform=transform)\n",
    "test_dataset = datasets.FashionMNIST(root='./data', train=False, download=True, transform=transform)\n",
    "\n",
    "# 获取图像和标签\n",
    "# 注意：由于使用了transform，图像已经被转换为张量且标准化\n",
    "# 我们需要从dataset中提取原始图像用于显示\n",
    "train_images = train_dataset.data.numpy()\n",
    "train_labels = train_dataset.targets.numpy()\n",
    "test_images = test_dataset.data.numpy()\n",
    "test_labels = test_dataset.targets.numpy()\n",
    "\n",
    "# 定义类别名称\n",
    "class_names = ['T-shirt/top', '裤子', '套头衫', '连衣裙', '外套',\n",
    "               '凉鞋', '衬衫', '运动鞋', '包', '短靴']\n",
    "\n",
    "# 查看数据集基本信息\n",
    "print(f\"训练集形状: {train_images.shape}\")\n",
    "print(f\"训练集标签数量: {len(train_labels)}\")\n",
    "print(f\"测试集形状: {test_images.shape}\")\n",
    "print(f\"测试集标签数量: {len(test_labels)}\")\n",
    "\n",
    "print(train_images[0])\n",
    "\n",
    "train_labels[0:20]\n"
   ]
  },
  {
   "cell_type": "code",
   "execution_count": 3,
   "metadata": {
    "ExecuteTime": {
     "end_time": "2025-06-26T09:39:12.550876Z",
     "start_time": "2025-06-26T09:39:12.532715Z"
    }
   },
   "outputs": [
    {
     "data": {
      "text/plain": [
       "(tensor([[[-8.1020e-01, -8.1020e-01, -8.1020e-01, -8.1020e-01, -8.1020e-01,\n",
       "           -8.1020e-01, -8.1020e-01, -8.1020e-01, -8.1020e-01, -8.1020e-01,\n",
       "           -8.1020e-01, -8.1020e-01, -8.1020e-01, -8.1020e-01, -8.1020e-01,\n",
       "           -8.1020e-01, -8.1020e-01, -8.1020e-01, -8.1020e-01, -8.1020e-01,\n",
       "           -8.1020e-01, -8.1020e-01, -8.1020e-01, -8.1020e-01, -8.1020e-01,\n",
       "           -8.1020e-01, -8.1020e-01, -8.1020e-01],\n",
       "          [-8.1020e-01, -8.1020e-01, -8.1020e-01, -8.1020e-01, -8.1020e-01,\n",
       "           -8.1020e-01, -8.1020e-01, -8.1020e-01, -8.1020e-01, -8.1020e-01,\n",
       "           -8.1020e-01, -8.1020e-01, -8.1020e-01, -8.1020e-01, -8.1020e-01,\n",
       "           -8.1020e-01, -8.1020e-01, -8.1020e-01, -8.1020e-01, -8.1020e-01,\n",
       "           -8.1020e-01, -8.1020e-01, -8.1020e-01, -8.1020e-01, -8.1020e-01,\n",
       "           -8.1020e-01, -8.1020e-01, -8.1020e-01],\n",
       "          [-8.1020e-01, -8.1020e-01, -8.1020e-01, -8.1020e-01, -8.1020e-01,\n",
       "           -8.1020e-01, -8.1020e-01, -8.1020e-01, -8.1020e-01, -8.1020e-01,\n",
       "           -8.1020e-01, -8.1020e-01, -8.1020e-01, -8.1020e-01, -8.1020e-01,\n",
       "           -8.1020e-01, -8.1020e-01, -8.1020e-01, -8.1020e-01, -8.1020e-01,\n",
       "           -8.1020e-01, -8.1020e-01, -8.1020e-01, -8.1020e-01, -8.1020e-01,\n",
       "           -8.1020e-01, -8.1020e-01, -8.1020e-01],\n",
       "          [-8.1020e-01, -8.1020e-01, -8.1020e-01, -8.1020e-01, -8.1020e-01,\n",
       "           -8.1020e-01, -8.1020e-01, -8.1020e-01, -8.1020e-01, -8.1020e-01,\n",
       "           -8.1020e-01, -8.1020e-01, -7.9909e-01, -8.1020e-01, -8.1020e-01,\n",
       "           -6.6578e-01,  7.7765e-04, -8.1020e-01, -8.1020e-01, -7.9909e-01,\n",
       "           -7.6576e-01, -8.1020e-01, -8.1020e-01, -8.1020e-01, -8.1020e-01,\n",
       "           -7.9909e-01, -7.9909e-01, -8.1020e-01],\n",
       "          [-8.1020e-01, -8.1020e-01, -8.1020e-01, -8.1020e-01, -8.1020e-01,\n",
       "           -8.1020e-01, -8.1020e-01, -8.1020e-01, -8.1020e-01, -8.1020e-01,\n",
       "           -8.1020e-01, -8.1020e-01, -7.7687e-01, -8.1020e-01, -4.1026e-01,\n",
       "            7.0066e-01,  6.0068e-01, -1.2142e-01, -2.1030e-01, -8.1020e-01,\n",
       "           -8.1020e-01, -8.1020e-01, -7.9909e-01, -7.7687e-01, -7.6576e-01,\n",
       "           -8.1020e-01, -8.1020e-01, -7.7687e-01],\n",
       "          [-8.1020e-01, -8.1020e-01, -8.1020e-01, -8.1020e-01, -8.1020e-01,\n",
       "           -8.1020e-01, -8.1020e-01, -8.1020e-01, -8.1020e-01, -8.1020e-01,\n",
       "           -8.1020e-01, -8.1020e-01, -7.4354e-01, -8.1020e-01,  3.2295e-01,\n",
       "            1.4561e+00,  1.1450e+00,  6.7844e-01,  7.8954e-01,  5.5624e-01,\n",
       "           -5.5469e-01, -8.1020e-01, -8.1020e-01, -8.1020e-01, -8.1020e-01,\n",
       "           -6.7689e-01, -6.9911e-01, -8.1020e-01],\n",
       "          [-8.1020e-01, -8.1020e-01, -8.1020e-01, -8.1020e-01, -8.1020e-01,\n",
       "           -8.1020e-01, -8.1020e-01, -8.1020e-01, -8.1020e-01, -8.1020e-01,\n",
       "           -8.1020e-01, -8.1020e-01, -8.1020e-01, -8.1020e-01,  9.1174e-01,\n",
       "            1.8116e+00,  1.4894e+00,  1.1672e+00,  3.7849e-01,  9.2285e-01,\n",
       "            9.7839e-01,  4.0071e-01, -9.9206e-02, -5.5469e-01,  4.5215e-02,\n",
       "            6.3401e-01, -1.0332e-02, -6.4356e-01],\n",
       "          [-8.1020e-01, -8.1020e-01, -8.1020e-01, -8.1020e-01, -8.1020e-01,\n",
       "           -8.1020e-01, -8.1020e-01, -8.1020e-01, -8.1020e-01, -8.1020e-01,\n",
       "           -8.1020e-01, -7.9909e-01, -8.1020e-01, -4.3659e-02,  1.4894e+00,\n",
       "            1.6672e+00,  1.6116e+00,  1.5894e+00,  1.5894e+00,  1.0006e+00,\n",
       "            6.0068e-01,  5.3402e-01,  5.4513e-01,  8.1175e-01,  7.5621e-01,\n",
       "            1.6742e-01,  1.1006e+00, -7.6987e-02],\n",
       "          [-8.1020e-01, -8.1020e-01, -8.1020e-01, -8.1020e-01, -8.1020e-01,\n",
       "           -8.1020e-01, -8.1020e-01, -8.1020e-01, -8.1020e-01, -7.9909e-01,\n",
       "           -7.9909e-01, -7.9909e-01, -8.1020e-01,  1.4117e+00,  1.7671e+00,\n",
       "            1.7671e+00,  1.7783e+00,  1.7338e+00,  1.6672e+00,  1.6672e+00,\n",
       "            1.5783e+00,  1.5561e+00,  1.0117e+00,  6.0068e-01,  5.5624e-01,\n",
       "            1.3672e+00,  1.7338e+00, -8.1020e-01],\n",
       "          [-8.1020e-01, -8.1020e-01, -8.1020e-01, -8.1020e-01, -8.1020e-01,\n",
       "           -8.1020e-01, -8.1020e-01, -8.1020e-01, -8.1020e-01, -8.1020e-01,\n",
       "           -8.1020e-01, -8.1020e-01, -8.1020e-01,  1.2228e+00,  1.6894e+00,\n",
       "            1.5894e+00,  1.6672e+00,  1.7227e+00,  1.8005e+00,  1.7116e+00,\n",
       "            1.6783e+00,  1.6561e+00,  1.6783e+00,  1.6449e+00,  1.6672e+00,\n",
       "            1.9116e+00,  1.1117e+00, -8.1020e-01],\n",
       "          [-8.1020e-01, -8.1020e-01, -8.1020e-01, -8.1020e-01, -8.1020e-01,\n",
       "           -8.1020e-01, -8.1020e-01, -8.1020e-01, -8.1020e-01, -8.1020e-01,\n",
       "           -8.1020e-01, -8.1020e-01, -8.1020e-01,  1.3339e+00,  1.7227e+00,\n",
       "            1.6116e+00,  1.5561e+00,  1.3894e+00,  1.1895e+00,  1.5450e+00,\n",
       "            1.5227e+00,  1.5339e+00,  1.5561e+00,  1.6672e+00,  1.6338e+00,\n",
       "            1.8894e+00,  1.4339e+00, -8.1020e-01],\n",
       "          [-8.1020e-01, -8.1020e-01, -8.1020e-01, -8.1020e-01, -8.1020e-01,\n",
       "           -8.1020e-01, -8.1020e-01, -8.1020e-01, -8.1020e-01, -7.9909e-01,\n",
       "           -7.7687e-01, -8.1020e-01, -6.7689e-01,  1.6227e+00,  1.6338e+00,\n",
       "            1.5450e+00,  1.6116e+00,  1.3228e+00,  1.0673e+00,  1.7116e+00,\n",
       "            1.5005e+00,  1.6116e+00,  1.6783e+00,  1.5450e+00,  1.7005e+00,\n",
       "            1.3783e+00,  1.5116e+00, -2.3252e-01],\n",
       "          [-8.1020e-01, -8.1020e-01, -8.1020e-01, -8.1020e-01, -8.1020e-01,\n",
       "           -8.1020e-01, -8.1020e-01, -8.1020e-01, -8.1020e-01, -8.1020e-01,\n",
       "           -7.4354e-01, -8.1020e-01,  2.8962e-01,  1.9005e+00,  1.6561e+00,\n",
       "            1.6338e+00,  1.6116e+00,  1.4450e+00,  1.3894e+00,  1.6449e+00,\n",
       "            1.5783e+00,  1.5561e+00,  1.6561e+00,  1.6338e+00,  1.9116e+00,\n",
       "            5.1180e-01,  1.0450e+00, -1.8808e-01],\n",
       "          [-8.1020e-01, -8.1020e-01, -8.1020e-01, -8.1020e-01, -8.1020e-01,\n",
       "           -8.1020e-01, -8.1020e-01, -8.1020e-01, -8.1020e-01, -7.6576e-01,\n",
       "           -8.1020e-01, -8.1020e-01, -1.9919e-01,  1.8116e+00,  1.7227e+00,\n",
       "            1.7449e+00,  1.7227e+00,  1.8560e+00,  1.7671e+00,  1.5561e+00,\n",
       "            1.6116e+00,  1.6672e+00,  1.7894e+00,  1.6005e+00,  1.6005e+00,\n",
       "            1.5116e+00,  2.1185e-01, -8.1020e-01],\n",
       "          [-8.1020e-01, -8.1020e-01, -7.9909e-01, -7.6576e-01, -7.4354e-01,\n",
       "           -7.3243e-01, -7.8798e-01, -8.1020e-01, -8.1020e-01, -8.1020e-01,\n",
       "           -8.1020e-01, -8.1020e-01,  1.8227e+00,  1.7005e+00,  1.6005e+00,\n",
       "            1.6672e+00,  1.6561e+00,  1.6227e+00,  1.6561e+00,  1.6449e+00,\n",
       "            1.5894e+00,  1.6672e+00,  1.7338e+00,  1.5783e+00,  1.6116e+00,\n",
       "            2.0227e+00,  4.5215e-02, -8.1020e-01],\n",
       "          [-8.1020e-01, -7.7687e-01, -8.1020e-01, -8.1020e-01, -8.1020e-01,\n",
       "           -8.1020e-01, -8.1020e-01, -8.1020e-01, -8.1020e-01, -1.2142e-01,\n",
       "            8.0064e-01,  1.4561e+00,  1.7227e+00,  1.4894e+00,  1.5561e+00,\n",
       "            1.6449e+00,  1.6116e+00,  1.5005e+00,  1.5339e+00,  1.6116e+00,\n",
       "            1.6783e+00,  1.6672e+00,  1.6227e+00,  1.5783e+00,  1.6783e+00,\n",
       "            1.9005e+00,  9.5617e-01, -8.1020e-01],\n",
       "          [-8.1020e-01, -8.1020e-01, -8.1020e-01, -8.1020e-01, -6.1023e-01,\n",
       "           -3.2139e-01,  1.0076e-01,  3.7849e-01,  1.2895e+00,  1.7227e+00,\n",
       "            1.6338e+00,  1.6561e+00,  1.6005e+00,  1.7005e+00,  1.4117e+00,\n",
       "            1.4672e+00,  1.5339e+00,  1.7449e+00,  1.6783e+00,  1.7894e+00,\n",
       "            1.1450e+00,  1.2783e+00,  1.9671e+00,  1.9449e+00,  1.7783e+00,\n",
       "            1.8338e+00,  1.5783e+00, -8.1020e-01],\n",
       "          [-8.1020e-01, -1.7697e-01,  1.2672e+00,  1.5005e+00,  1.6783e+00,\n",
       "            1.6449e+00,  1.6783e+00,  1.5005e+00,  1.4561e+00,  1.5672e+00,\n",
       "            1.5005e+00,  1.5116e+00,  1.4117e+00,  9.5617e-01,  1.9116e+00,\n",
       "            1.3339e+00,  1.4783e+00,  1.6672e+00,  2.0227e+00,  2.0227e+00,\n",
       "            1.6449e+00,  1.7894e+00,  1.6449e+00,  1.5339e+00,  1.6338e+00,\n",
       "            1.7671e+00,  1.9227e+00, -8.1020e-01],\n",
       "          [-7.7687e-01,  1.4339e+00,  1.7227e+00,  1.6783e+00,  1.6449e+00,\n",
       "            1.5339e+00,  1.5339e+00,  1.5672e+00,  1.4672e+00,  1.4672e+00,\n",
       "            1.4672e+00,  1.6338e+00,  1.8560e+00,  7.8542e-02,  8.5619e-01,\n",
       "            2.0227e+00,  1.7338e+00,  1.6449e+00,  1.2783e+00,  9.0063e-01,\n",
       "            1.3117e+00,  1.5227e+00,  1.4561e+00,  1.5116e+00,  1.6561e+00,\n",
       "            1.7227e+00,  1.6894e+00, -8.1020e-01],\n",
       "          [ 2.7851e-01,  1.7783e+00,  1.3894e+00,  1.5227e+00,  1.6561e+00,\n",
       "            1.7338e+00,  1.7338e+00,  1.7894e+00,  1.9560e+00,  1.6338e+00,\n",
       "            1.3450e+00,  1.5783e+00,  1.6005e+00,  1.8671e+00, -8.8096e-02,\n",
       "            7.7765e-04,  3.6738e-01,  4.8959e-01,  1.0562e+00,  1.6227e+00,\n",
       "            1.6449e+00,  1.5783e+00,  1.6005e+00,  1.6672e+00,  1.6672e+00,\n",
       "            1.6783e+00,  1.7338e+00, -4.8803e-01],\n",
       "          [ 2.2996e-02,  1.4561e+00,  1.5450e+00,  1.4561e+00,  1.3339e+00,\n",
       "            1.4672e+00,  1.5339e+00,  1.6894e+00,  1.5894e+00,  1.2450e+00,\n",
       "            1.3783e+00,  1.4783e+00,  1.3894e+00,  1.5561e+00,  1.8560e+00,\n",
       "            1.3561e+00,  1.7116e+00,  1.9116e+00,  1.8449e+00,  1.6672e+00,\n",
       "            1.6116e+00,  1.5450e+00,  1.5116e+00,  1.6561e+00,  1.6338e+00,\n",
       "            1.6449e+00,  1.7449e+00, -6.5878e-02],\n",
       "          [-2.7695e-01,  1.4450e+00,  1.2228e+00,  1.3450e+00,  1.5561e+00,\n",
       "            1.3783e+00,  1.2450e+00,  1.3006e+00,  1.3450e+00,  1.3228e+00,\n",
       "            1.4339e+00,  1.5672e+00,  1.6227e+00,  1.6449e+00,  1.6338e+00,\n",
       "            1.8116e+00,  1.6894e+00,  1.5894e+00,  1.4005e+00,  1.4783e+00,\n",
       "            1.2561e+00,  1.2006e+00,  1.1561e+00,  1.1006e+00,  1.2006e+00,\n",
       "            1.4672e+00,  1.4783e+00,  4.6737e-01],\n",
       "          [-8.1020e-01,  5.4513e-01,  1.6227e+00,  1.3339e+00,  1.1784e+00,\n",
       "            1.0895e+00,  1.2228e+00,  1.3672e+00,  1.4561e+00,  1.5227e+00,\n",
       "            1.5561e+00,  1.4894e+00,  1.5339e+00,  1.5227e+00,  1.4117e+00,\n",
       "            1.3672e+00,  1.3450e+00,  1.3117e+00,  1.3561e+00,  1.3117e+00,\n",
       "            1.3894e+00,  1.3228e+00,  1.1450e+00,  9.2285e-01,  1.0450e+00,\n",
       "            1.1561e+00,  1.5227e+00,  2.1185e-01],\n",
       "          [-8.1020e-01, -8.1020e-01,  1.1887e-02,  1.2895e+00,  1.5450e+00,\n",
       "            1.3117e+00,  1.1339e+00,  1.1006e+00,  1.1339e+00,  1.2006e+00,\n",
       "            1.2450e+00,  1.2783e+00,  1.2895e+00,  1.2783e+00,  1.3339e+00,\n",
       "            1.3894e+00,  1.4561e+00,  1.5116e+00,  1.5227e+00,  1.5227e+00,\n",
       "            1.5339e+00,  1.2783e+00,  1.2783e+00,  1.3450e+00,  1.3228e+00,\n",
       "            1.5894e+00,  1.0784e+00, -8.1020e-01],\n",
       "          [-7.8798e-01, -8.1020e-01, -8.1020e-01, -8.1020e-01, -7.6987e-02,\n",
       "            1.4117e+00,  1.6561e+00,  1.8227e+00,  1.8449e+00,  1.8782e+00,\n",
       "            1.9227e+00,  1.8894e+00,  1.9005e+00,  1.6449e+00,  1.6338e+00,\n",
       "            1.3339e+00,  1.3117e+00,  1.1784e+00,  1.2117e+00,  1.2117e+00,\n",
       "            1.2006e+00,  1.1450e+00,  1.0339e+00,  1.0562e+00,  2.8962e-01,\n",
       "           -1.6586e-01, -8.1020e-01, -8.1020e-01],\n",
       "          [-8.1020e-01, -8.1020e-01, -8.1020e-01, -8.1020e-01, -8.1020e-01,\n",
       "           -8.1020e-01, -8.1020e-01, -3.6583e-01, -1.3253e-01, -3.2139e-01,\n",
       "           -1.0332e-02, -3.5472e-01, -4.2137e-01, -8.1020e-01, -8.1020e-01,\n",
       "           -8.1020e-01, -8.1020e-01, -8.1020e-01, -8.1020e-01, -8.1020e-01,\n",
       "           -8.1020e-01, -8.1020e-01, -8.1020e-01, -8.1020e-01, -8.1020e-01,\n",
       "           -8.1020e-01, -8.1020e-01, -8.1020e-01],\n",
       "          [-8.1020e-01, -8.1020e-01, -8.1020e-01, -8.1020e-01, -8.1020e-01,\n",
       "           -8.1020e-01, -8.1020e-01, -8.1020e-01, -8.1020e-01, -8.1020e-01,\n",
       "           -8.1020e-01, -8.1020e-01, -8.1020e-01, -8.1020e-01, -8.1020e-01,\n",
       "           -8.1020e-01, -8.1020e-01, -8.1020e-01, -8.1020e-01, -8.1020e-01,\n",
       "           -8.1020e-01, -8.1020e-01, -8.1020e-01, -8.1020e-01, -8.1020e-01,\n",
       "           -8.1020e-01, -8.1020e-01, -8.1020e-01],\n",
       "          [-8.1020e-01, -8.1020e-01, -8.1020e-01, -8.1020e-01, -8.1020e-01,\n",
       "           -8.1020e-01, -8.1020e-01, -8.1020e-01, -8.1020e-01, -8.1020e-01,\n",
       "           -8.1020e-01, -8.1020e-01, -8.1020e-01, -8.1020e-01, -8.1020e-01,\n",
       "           -8.1020e-01, -8.1020e-01, -8.1020e-01, -8.1020e-01, -8.1020e-01,\n",
       "           -8.1020e-01, -8.1020e-01, -8.1020e-01, -8.1020e-01, -8.1020e-01,\n",
       "           -8.1020e-01, -8.1020e-01, -8.1020e-01]]]),\n",
       " 9)"
      ]
     },
     "execution_count": 3,
     "metadata": {},
     "output_type": "execute_result"
    }
   ],
   "source": [
    "#查看归一化后的效果\n",
    "train_dataset[0]"
   ]
  },
  {
   "cell_type": "code",
   "execution_count": 4,
   "metadata": {
    "ExecuteTime": {
     "end_time": "2025-06-26T09:39:12.556134Z",
     "start_time": "2025-06-26T09:39:12.551886Z"
    }
   },
   "outputs": [],
   "source": [
    "#如果标准化后，就不在执行该代码\n",
    "\n",
    "def calculate_mean_std(train_dataset):\n",
    "    # 首先将所有图像数据堆叠为一个大张量\n",
    "    all_images = torch.stack([img_tensor for img_tensor, _ in train_dataset])\n",
    "    print(all_images.shape)\n",
    "    # 计算通道维度上的均值和标准差\n",
    "    # Fashion MNIST是灰度图像，只有一个通道\n",
    "    # 对所有像素值计算均值和标准差\n",
    "    mean = torch.mean(all_images)\n",
    "    std = torch.std(all_images)\n",
    "\n",
    "    print(f\"训练数据集均值: {mean.item():.4f}\")\n",
    "    print(f\"训练数据集标准差: {std.item():.4f}\")\n",
    "\n",
    "    # 检查数据集大小\n",
    "    print(f\"数据集中图像总数: {len(train_dataset)}\")\n",
    "\n",
    "# calculate_mean_std(train_dataset)"
   ]
  },
  {
   "cell_type": "code",
   "execution_count": 5,
   "metadata": {
    "ExecuteTime": {
     "end_time": "2025-06-26T09:39:12.563202Z",
     "start_time": "2025-06-26T09:39:12.557141Z"
    }
   },
   "outputs": [
    {
     "data": {
      "text/plain": [
       "torch.Size([1, 28, 28])"
      ]
     },
     "execution_count": 5,
     "metadata": {},
     "output_type": "execute_result"
    }
   ],
   "source": [
    "train_dataset[0][0].shape"
   ]
  },
  {
   "cell_type": "code",
   "execution_count": 6,
   "metadata": {
    "ExecuteTime": {
     "end_time": "2025-06-26T09:39:12.982441Z",
     "start_time": "2025-06-26T09:39:12.565182Z"
    }
   },
   "outputs": [
    {
     "data": {
      "image/png": "[encoded data removed]",
      "text/plain": [
       "<Figure size 1500x900 with 15 Axes>"
      ]
     },
     "metadata": {},
     "output_type": "display_data"
    }
   ],
   "source": [
    "# 导入matplotlib用于绘图\n",
    "import matplotlib.pyplot as plt\n",
    "import matplotlib\n",
    "# 设置中文字体，解决中文显示问题\n",
    "matplotlib.rcParams['font.sans-serif'] = ['SimHei']  # 使用黑体\n",
    "matplotlib.rcParams['axes.unicode_minus'] = False  # 解决负号显示问题\n",
    "\n",
    "# 创建一个3行5列的图表来显示前15个样本\n",
    "plt.figure(figsize=(15, 9))  # 设置图表大小\n",
    "\n",
    "# 遍历前15个样本\n",
    "for i in range(15):\n",
    "    # 创建子图\n",
    "    plt.subplot(3, 5, i + 1)\n",
    "    \n",
    "    # 显示图像\n",
    "    plt.imshow(train_images[i], cmap='gray')\n",
    "    \n",
    "    # 添加标题（显示类别名称）\n",
    "    plt.title(class_names[train_labels[i]], fontsize=10)\n",
    "    \n",
    "    # 关闭坐标轴\n",
    "    plt.axis('off')\n",
    "\n",
    "# 调整子图之间的间距\n",
    "plt.tight_layout()\n",
    "\n",
    "# 显示图表\n",
    "plt.show()\n"
   ]
  },
  {
   "cell_type": "code",
   "execution_count": 7,
   "metadata": {
    "ExecuteTime": {
     "end_time": "2025-06-26T09:39:12.990301Z",
     "start_time": "2025-06-26T09:39:12.983451Z"
    }
   },
   "outputs": [
    {
     "data": {
      "text/plain": [
       "torch.Size([28, 28])"
      ]
     },
     "execution_count": 7,
     "metadata": {},
     "output_type": "execute_result"
    }
   ],
   "source": [
    "train_dataset[0][0].squeeze().shape"
   ]
  },
  {
   "cell_type": "code",
   "execution_count": 8,
   "metadata": {
    "ExecuteTime": {
     "end_time": "2025-06-26T09:39:13.359885Z",
     "start_time": "2025-06-26T09:39:12.991833Z"
    }
   },
   "outputs": [
    {
     "data": {
      "image/png": "[encoded data removed]",
      "text/plain": [
       "<Figure size 1500x900 with 15 Axes>"
      ]
     },
     "metadata": {},
     "output_type": "display_data"
    }
   ],
   "source": [
    "# 创建一个3行5列的图表来显示train_dataset中的前15个样本\n",
    "plt.figure(figsize=(15, 9))  # 设置图表大小\n",
    "\n",
    "# 遍历前15个样本\n",
    "for i in range(15):\n",
    "    # 获取数据和标签\n",
    "    img, label = train_dataset[i]\n",
    "    \n",
    "    # 创建子图\n",
    "    plt.subplot(3, 5, i + 1)\n",
    "    \n",
    "    # 将张量转换为numpy数组并显示图像,squeeze()是用来去掉张量中维度为1的维度\n",
    "    plt.imshow(img.squeeze().numpy(), cmap='gray')\n",
    "    \n",
    "    # 添加标题（显示类别名称）\n",
    "    plt.title(class_names[label], fontsize=10)\n",
    "    \n",
    "    # 关闭坐标轴\n",
    "    plt.axis('off')\n",
    "\n",
    "# 调整子图之间的间距\n",
    "plt.tight_layout()\n",
    "\n",
    "# 显示图表\n",
    "plt.show()\n"
   ]
  },
  {
   "cell_type": "markdown",
   "metadata": {},
   "source": [
    "# 把数据集划分为训练集55000和验证集5000，并给DataLoader"
   ]
  },
  {
   "cell_type": "code",
   "execution_count": 9,
   "metadata": {
    "ExecuteTime": {
     "end_time": "2025-06-26T09:39:13.370295Z",
     "start_time": "2025-06-26T09:39:13.360895Z"
    }
   },
   "outputs": [
    {
     "name": "stdout",
     "output_type": "stream",
     "text": [
      "训练集大小: 55000\n",
      "验证集大小: 5000\n",
      "测试集大小: 10000\n",
      "批次大小: 64\n",
      "训练批次数: 860\n"
     ]
    }
   ],
   "source": [
    "# 从训练集中划分出验证集\n",
    "train_size = 55000\n",
    "val_size = 5000\n",
    "# 设置随机种子以确保每次得到相同的随机划分结果\n",
    "generator = torch.Generator().manual_seed(42)\n",
    "train_subset, val_subset = torch.utils.data.random_split(\n",
    "    train_dataset, \n",
    "    [train_size, val_size],\n",
    "    generator=generator #设置随机种子，确保每次得到相同的随机划分结果\n",
    ")\n",
    "\n",
    "# 创建数据加载器\n",
    "batch_size = 64\n",
    "train_loader = torch.utils.data.DataLoader(\n",
    "    train_subset,\n",
    "    batch_size=batch_size,\n",
    "    shuffle=True #打乱数据集，每次迭代时，数据集的顺序都会被打乱\n",
    ")\n",
    "\n",
    "val_loader = torch.utils.data.DataLoader(\n",
    "    val_subset,\n",
    "    batch_size=batch_size,\n",
    "    shuffle=False\n",
    ")\n",
    "\n",
    "test_loader = torch.utils.data.DataLoader(\n",
    "    test_dataset,\n",
    "    batch_size=batch_size,\n",
    "    shuffle=False\n",
    ")\n",
    "\n",
    "# 打印数据集大小信息\n",
    "print(f\"训练集大小: {len(train_subset)}\")\n",
    "print(f\"验证集大小: {len(val_subset)}\")\n",
    "print(f\"测试集大小: {len(test_dataset)}\")\n",
    "print(f\"批次大小: {batch_size}\")\n",
    "print(f\"训练批次数: {len(train_loader)}\")\n"
   ]
  },
  {
   "cell_type": "code",
   "execution_count": 10,
   "metadata": {
    "ExecuteTime": {
     "end_time": "2025-06-26T09:39:13.376390Z",
     "start_time": "2025-06-26T09:39:13.371306Z"
    }
   },
   "outputs": [
    {
     "data": {
      "text/plain": [
       "55040"
      ]
     },
     "execution_count": 10,
     "metadata": {},
     "output_type": "execute_result"
    }
   ],
   "source": [
    "64*860"
   ]
  },
  {
   "cell_type": "markdown",
   "metadata": {},
   "source": [
    "# 搭建模型"
   ]
  },
  {
   "cell_type": "code",
   "execution_count": 11,
   "metadata": {
    "ExecuteTime": {
     "end_time": "2025-06-26T09:39:13.382773Z",
     "start_time": "2025-06-26T09:39:13.377408Z"
    }
   },
   "outputs": [],
   "source": [
    "import torch.nn as nn\n",
    "import torch.nn.functional as F\n",
    "\n",
    "class NeuralNetwork(nn.Module):\n",
    "    def __init__(self):\n",
    "        super().__init__()\n",
    "        # 输入层 -> 第一隐藏层 (28*28=784 -> 300)\n",
    "        self.fc1 = nn.Linear(28*28, 300)\n",
    "        # 第一隐藏层 -> 第二隐藏层 (300 -> 100)\n",
    "        self.fc2 = nn.Linear(300, 100)\n",
    "        # 第二隐藏层 -> 输出层 (100 -> 10，对应10个数字类别)\n",
    "        self.fc3 = nn.Linear(100, 10)\n",
    "        \n",
    "    def forward(self, x):#forward是前向传播（正向计算），x是输入\n",
    "        # print(\"输入形状:\", x.shape)\n",
    "        # 将输入张量展平,view就是reshape\n",
    "        x = x.view(-1, 28*28)\n",
    "        # print(\"展平后形状:\", x.shape)\n",
    "        # 第一隐藏层，使用ReLU激活函数\n",
    "        x = F.relu(self.fc1(x))\n",
    "        # print(\"第一隐藏层后形状:\", x.shape)\n",
    "        # 第二隐藏层，使用ReLU激活函数\n",
    "        x = F.relu(self.fc2(x))\n",
    "        # print(\"第二隐藏层后形状:\", x.shape)\n",
    "        # 输出层，不使用激活函数（交叉熵损失函数会在内部应用softmax）\n",
    "        x = self.fc3(x)\n",
    "        # print(\"输出层形状:\", x.shape)\n",
    "        return x\n"
   ]
  },
  {
   "cell_type": "code",
   "execution_count": 12,
   "metadata": {
    "ExecuteTime": {
     "end_time": "2025-06-26T09:39:13.431016Z",
     "start_time": "2025-06-26T09:39:13.384784Z"
    }
   },
   "outputs": [
    {
     "name": "stdout",
     "output_type": "stream",
     "text": [
      "批次图像形状: torch.Size([64, 1, 28, 28])\n",
      "批次标签形状: torch.Size([64])\n",
      "----------------------------------------------------------------------------------------------------\n"
     ]
    }
   ],
   "source": [
    "# 实例化模型\n",
    "model = NeuralNetwork()\n",
    "\n",
    "# 从train_loader获取第一个批次的数据\n",
    "dataiter = iter(train_loader)\n",
    "images, labels = next(dataiter)\n",
    "\n",
    "# 查看批次数据的形状\n",
    "print(\"批次图像形状:\", images.shape)\n",
    "print(\"批次标签形状:\", labels.shape)\n",
    "\n",
    "\n",
    "print('-'*100)\n",
    "# 进行前向传播\n",
    "with torch.no_grad():  # 不需要计算梯度\n",
    "    outputs = model(images)\n",
    "    \n",
    "\n",
    "\n"
   ]
  },
  {
   "cell_type": "code",
   "execution_count": 13,
   "metadata": {
    "ExecuteTime": {
     "end_time": "2025-06-26T09:39:13.454001Z",
     "start_time": "2025-06-26T09:39:13.432026Z"
    }
   },
   "outputs": [
    {
     "name": "stdout",
     "output_type": "stream",
     "text": [
      "批次图像形状: torch.Size([64, 1, 28, 28])\n",
      "批次标签形状: torch.Size([64])\n",
      "测试图像形状: torch.Size([1, 1, 28, 28])\n",
      "----------------------------------------------------------------------------------------------------\n",
      "模型预测结果: 0\n",
      "实际标签: 9\n"
     ]
    }
   ],
   "source": [
    "# 实例化模型\n",
    "model = NeuralNetwork()\n",
    "\n",
    "# 从train_loader获取第一个批次的数据\n",
    "dataiter = iter(train_loader)\n",
    "images, labels = next(dataiter)\n",
    "\n",
    "# 查看批次数据的形状\n",
    "print(\"批次图像形状:\", images.shape)\n",
    "print(\"批次标签形状:\", labels.shape)\n",
    "\n",
    "# # 选择第一张图像进行前向传播测试,unsqueeze(0)是添加批次维度\n",
    "test_image = images[0].unsqueeze(0)  # 添加批次维度\n",
    "print(\"测试图像形状:\", test_image.shape)\n",
    "\n",
    "print('-'*100)\n",
    "# 进行前向传播\n",
    "with torch.no_grad():  # 不需要计算梯度\n",
    "    outputs = model(test_image)\n",
    "    \n",
    "# 获取预测结果\n",
    "_, predicted = torch.max(outputs, 1)\n",
    "print(\"模型预测结果:\", predicted.item())\n",
    "print(\"实际标签:\", labels[0].item())\n",
    "\n",
    "\n"
   ]
  },
  {
   "cell_type": "code",
   "execution_count": 14,
   "metadata": {
    "ExecuteTime": {
     "end_time": "2025-06-26T09:39:13.460440Z",
     "start_time": "2025-06-26T09:39:13.455010Z"
    }
   },
   "outputs": [
    {
     "name": "stdout",
     "output_type": "stream",
     "text": [
      "模型总参数量: 266610\n",
      "\n",
      "各层参数量明细:\n",
      "fc1.weight: 235200 参数\n",
      "fc1.bias: 300 参数\n",
      "fc2.weight: 30000 参数\n",
      "fc2.bias: 100 参数\n",
      "fc3.weight: 1000 参数\n",
      "fc3.bias: 10 参数\n"
     ]
    }
   ],
   "source": [
    "# 计算模型的总参数量\n",
    "total_params = sum(p.numel() for p in model.parameters())\n",
    "print(f\"模型总参数量: {total_params}\")\n",
    "\n",
    "# 查看每层参数量明细\n",
    "print(\"\\n各层参数量明细:\")\n",
    "for name, param in model.named_parameters():\n",
    "    print(f\"{name}: {param.numel()} 参数\")\n"
   ]
  },
  {
   "cell_type": "code",
   "execution_count": 15,
   "metadata": {
    "ExecuteTime": {
     "end_time": "2025-06-26T09:39:13.477021Z",
     "start_time": "2025-06-26T09:39:13.461497Z"
    }
   },
   "outputs": [
    {
     "data": {
      "text/plain": [
       "OrderedDict([('fc1.weight',\n",
       "              tensor([[ 0.0082, -0.0275, -0.0308,  ...,  0.0163, -0.0200,  0.0254],\n",
       "                      [-0.0053,  0.0255,  0.0324,  ..., -0.0296, -0.0275, -0.0274],\n",
       "                      [ 0.0324, -0.0274,  0.0004,  ..., -0.0327, -0.0214, -0.0034],\n",
       "                      ...,\n",
       "                      [-0.0233, -0.0342,  0.0282,  ..., -0.0120,  0.0118, -0.0083],\n",
       "                      [-0.0197,  0.0175,  0.0338,  ..., -0.0105,  0.0036, -0.0232],\n",
       "                      [-0.0307,  0.0238, -0.0175,  ...,  0.0246,  0.0266,  0.0062]])),\n",
       "             ('fc1.bias',\n",
       "              tensor([-0.0346,  0.0305,  0.0141, -0.0230,  0.0178,  0.0079,  0.0258, -0.0346,\n",
       "                      -0.0293,  0.0055,  0.0341, -0.0235,  0.0325, -0.0251, -0.0066, -0.0121,\n",
       "                       0.0216, -0.0045,  0.0181, -0.0135,  0.0301,  0.0168,  0.0155, -0.0340,\n",
       "                       0.0185, -0.0289,  0.0034, -0.0344, -0.0334,  0.0007,  0.0011, -0.0226,\n",
       "                      -0.0197, -0.0203,  0.0164,  0.0034,  0.0098, -0.0284,  0.0047,  0.0253,\n",
       "                       0.0335, -0.0035, -0.0343,  0.0253, -0.0164,  0.0003, -0.0123,  0.0038,\n",
       "                       0.0169, -0.0274, -0.0139,  0.0345, -0.0156, -0.0351,  0.0260,  0.0019,\n",
       "                      -0.0016,  0.0351, -0.0340,  0.0228,  0.0082,  0.0111, -0.0103,  0.0082,\n",
       "                      -0.0133,  0.0247, -0.0046, -0.0132,  0.0211,  0.0141,  0.0209, -0.0196,\n",
       "                       0.0094,  0.0187,  0.0206, -0.0310, -0.0002, -0.0333,  0.0105,  0.0086,\n",
       "                      -0.0102, -0.0227,  0.0077, -0.0342,  0.0213,  0.0354,  0.0306, -0.0034,\n",
       "                       0.0278, -0.0192,  0.0194, -0.0116, -0.0236,  0.0354, -0.0013,  0.0076,\n",
       "                       0.0039, -0.0083, -0.0289,  0.0346, -0.0227, -0.0198, -0.0124, -0.0208,\n",
       "                       0.0232, -0.0164,  0.0038, -0.0255, -0.0070,  0.0285, -0.0085, -0.0269,\n",
       "                       0.0291, -0.0274, -0.0101,  0.0349, -0.0107, -0.0042,  0.0125,  0.0118,\n",
       "                       0.0204,  0.0345,  0.0043, -0.0021, -0.0307,  0.0135, -0.0325,  0.0098,\n",
       "                      -0.0123,  0.0215, -0.0341, -0.0097,  0.0318, -0.0342, -0.0285, -0.0182,\n",
       "                      -0.0342, -0.0233,  0.0116, -0.0136, -0.0122,  0.0196, -0.0208, -0.0070,\n",
       "                      -0.0188, -0.0339,  0.0059,  0.0065,  0.0194, -0.0251,  0.0347,  0.0206,\n",
       "                      -0.0282, -0.0330,  0.0056,  0.0346, -0.0211, -0.0118, -0.0257, -0.0220,\n",
       "                       0.0101,  0.0087,  0.0181,  0.0004, -0.0292, -0.0019, -0.0356, -0.0104,\n",
       "                      -0.0246,  0.0099, -0.0052, -0.0062,  0.0093, -0.0046,  0.0062, -0.0287,\n",
       "                      -0.0187,  0.0132,  0.0026,  0.0245, -0.0073,  0.0259, -0.0278,  0.0239,\n",
       "                      -0.0129, -0.0030, -0.0113,  0.0264, -0.0090,  0.0269,  0.0147,  0.0041,\n",
       "                      -0.0120, -0.0276,  0.0299,  0.0056,  0.0279,  0.0059,  0.0214, -0.0017,\n",
       "                      -0.0142, -0.0322, -0.0059,  0.0201, -0.0348, -0.0275,  0.0164, -0.0154,\n",
       "                      -0.0002, -0.0098, -0.0078,  0.0239,  0.0339,  0.0203, -0.0225,  0.0069,\n",
       "                       0.0015, -0.0097,  0.0072,  0.0010, -0.0076, -0.0337, -0.0326,  0.0198,\n",
       "                       0.0329,  0.0291,  0.0342, -0.0113, -0.0005,  0.0291,  0.0172,  0.0299,\n",
       "                      -0.0231, -0.0123, -0.0244, -0.0287,  0.0348, -0.0028, -0.0003,  0.0196,\n",
       "                       0.0088, -0.0209, -0.0218, -0.0249, -0.0231, -0.0318, -0.0227,  0.0188,\n",
       "                      -0.0243,  0.0161,  0.0237,  0.0002, -0.0166, -0.0332,  0.0136, -0.0098,\n",
       "                       0.0330, -0.0095, -0.0181,  0.0009, -0.0193,  0.0216, -0.0270, -0.0002,\n",
       "                       0.0251, -0.0029,  0.0079, -0.0163, -0.0058,  0.0072,  0.0281,  0.0308,\n",
       "                      -0.0268, -0.0339, -0.0103, -0.0080, -0.0219,  0.0228, -0.0039,  0.0133,\n",
       "                       0.0309,  0.0301,  0.0299,  0.0219,  0.0219,  0.0154, -0.0225,  0.0145,\n",
       "                       0.0090,  0.0279,  0.0189,  0.0204,  0.0125, -0.0215,  0.0003, -0.0189,\n",
       "                       0.0157, -0.0306, -0.0192,  0.0213])),\n",
       "             ('fc2.weight',\n",
       "              tensor([[ 0.0358, -0.0575, -0.0270,  ..., -0.0329, -0.0025,  0.0439],\n",
       "                      [-0.0142,  0.0416, -0.0574,  ...,  0.0025, -0.0200,  0.0160],\n",
       "                      [-0.0079, -0.0172, -0.0335,  ...,  0.0042,  0.0229,  0.0476],\n",
       "                      ...,\n",
       "                      [-0.0192,  0.0152, -0.0217,  ..., -0.0435, -0.0094,  0.0570],\n",
       "                      [ 0.0335,  0.0532, -0.0499,  ..., -0.0413, -0.0430,  0.0194],\n",
       "                      [ 0.0466, -0.0334, -0.0380,  ..., -0.0468,  0.0006,  0.0218]])),\n",
       "             ('fc2.bias',\n",
       "              tensor([ 2.8095e-02,  1.7029e-02, -6.9260e-03,  3.6015e-02,  2.3425e-02,\n",
       "                      -5.2434e-02, -5.0822e-02,  3.0739e-02, -5.1932e-02, -1.7274e-02,\n",
       "                      -3.7145e-02, -4.2217e-02, -2.0525e-02,  3.0239e-02, -4.7285e-02,\n",
       "                       4.3046e-02, -4.9705e-03, -3.0617e-02,  2.9040e-02, -1.2439e-03,\n",
       "                       4.8983e-02,  1.6821e-02,  3.2366e-02,  2.8249e-02, -2.2663e-02,\n",
       "                       1.4118e-02, -3.3252e-02, -4.4530e-02,  6.5050e-03, -1.7781e-02,\n",
       "                       5.6981e-02, -3.0691e-02,  1.5592e-02, -1.0006e-03,  3.7773e-02,\n",
       "                      -4.2780e-02, -4.0283e-02,  1.7903e-02,  5.0450e-02,  4.1393e-02,\n",
       "                      -4.7046e-02, -5.0697e-02,  3.5577e-02, -5.6398e-02, -3.8599e-02,\n",
       "                       8.7789e-04,  5.1157e-02,  2.1228e-02,  3.3334e-02, -2.9873e-03,\n",
       "                       2.9380e-02,  5.4373e-02, -1.5003e-02,  5.8703e-03,  4.1388e-02,\n",
       "                       9.5246e-03,  3.6858e-02,  4.8256e-02,  3.0370e-02,  2.5782e-02,\n",
       "                       4.2951e-02, -2.3668e-03, -2.2581e-02,  3.7859e-02, -9.7710e-03,\n",
       "                       3.4087e-02,  4.9506e-02, -3.2959e-02, -1.5904e-02, -4.3477e-02,\n",
       "                      -4.4567e-02,  1.1984e-02,  4.9817e-02,  3.6259e-02,  3.6658e-02,\n",
       "                      -3.6716e-02, -2.3700e-02,  3.7860e-05,  1.9049e-02, -1.6358e-02,\n",
       "                      -4.7134e-02, -2.2991e-02, -5.0132e-02, -4.6852e-02,  4.3411e-02,\n",
       "                      -2.6083e-03, -2.1502e-02, -1.8570e-02,  2.7682e-02, -5.7660e-02,\n",
       "                      -3.2178e-02, -4.4904e-02, -2.7006e-02,  5.1027e-02,  1.8048e-02,\n",
       "                      -3.1956e-02,  3.1254e-02, -1.0060e-02,  3.6035e-02,  4.8137e-02])),\n",
       "             ('fc3.weight',\n",
       "              tensor([[-9.8205e-02, -6.4947e-02, -4.6410e-02, -1.7401e-02, -9.7261e-02,\n",
       "                       -9.2109e-02, -5.2073e-02,  9.9286e-02,  7.9092e-02,  9.5771e-04,\n",
       "                        3.5115e-02, -1.9231e-02, -2.6686e-02, -2.8219e-03, -6.2718e-02,\n",
       "                        6.6238e-02, -6.1515e-02, -7.1478e-02,  4.1064e-02, -6.0477e-02,\n",
       "                        9.3799e-02,  9.4905e-02, -8.6644e-02,  8.9241e-02, -5.2207e-02,\n",
       "                        7.0044e-02,  4.4271e-02,  9.3836e-02, -3.0725e-02, -8.4113e-02,\n",
       "                        4.8831e-02, -3.1011e-02,  9.7546e-02,  8.9043e-02, -4.6674e-02,\n",
       "                       -5.7052e-02, -2.7361e-03,  6.1286e-02, -5.6944e-02,  7.4628e-02,\n",
       "                       -7.3149e-02,  1.9827e-02,  4.8433e-02,  9.9866e-02, -1.4200e-02,\n",
       "                       -8.0259e-02, -2.9222e-02,  1.7568e-02,  6.9356e-02,  3.5446e-02,\n",
       "                        1.9754e-02, -2.7365e-02, -9.1078e-02,  5.2138e-02,  4.6121e-02,\n",
       "                        7.8639e-02, -8.3716e-02,  2.2666e-02,  2.0727e-02, -5.8402e-02,\n",
       "                        3.5688e-02,  9.5980e-02,  7.4686e-02, -5.5512e-02, -7.0551e-02,\n",
       "                       -6.5274e-02,  6.3253e-02, -6.1385e-03, -8.8487e-02,  8.2145e-02,\n",
       "                        8.4536e-02, -9.8677e-02, -1.1732e-03, -4.1269e-03,  3.6539e-02,\n",
       "                        8.1926e-02,  4.7063e-02,  9.4892e-02,  6.0556e-02, -6.5628e-02,\n",
       "                       -8.8697e-02,  7.0353e-02,  8.9879e-02, -5.1972e-02,  2.4656e-02,\n",
       "                        6.6203e-02,  4.5804e-02,  8.4072e-02,  8.3241e-02,  4.5252e-02,\n",
       "                       -8.8658e-02, -1.7129e-02,  6.4072e-02,  9.8523e-02, -2.6864e-02,\n",
       "                       -8.5380e-02,  7.0327e-02,  6.7949e-03,  6.9320e-02,  1.3846e-02],\n",
       "                      [-6.4447e-02,  7.1587e-04, -3.7929e-02,  8.3634e-02, -9.4937e-02,\n",
       "                       -7.9321e-02,  3.3570e-02, -5.1310e-03,  4.5030e-02,  5.0991e-02,\n",
       "                       -8.2633e-02, -8.8388e-03,  5.9420e-02,  9.8257e-02,  9.7471e-02,\n",
       "                        9.3874e-02, -9.8190e-02,  5.4761e-02,  2.9909e-02, -4.0059e-02,\n",
       "                       -3.3312e-02,  6.8256e-02, -5.3535e-02,  6.2138e-02, -2.6518e-03,\n",
       "                        3.0417e-03, -6.3557e-02,  4.6073e-03,  6.5043e-02,  1.7293e-02,\n",
       "                        6.6438e-02, -4.3443e-02, -6.1731e-02, -9.0892e-03,  6.2145e-02,\n",
       "                       -6.9116e-02, -8.4429e-02, -6.3265e-02, -1.2289e-02,  7.3383e-02,\n",
       "                        1.1904e-02, -2.2843e-02, -1.3086e-02,  8.0070e-02,  1.4304e-02,\n",
       "                       -8.1346e-02,  9.9782e-02,  9.3935e-02,  4.9761e-02,  8.0593e-02,\n",
       "                       -5.5950e-02, -5.0489e-02, -6.0143e-02, -2.3058e-02, -3.5227e-02,\n",
       "                       -5.5009e-02, -9.1151e-02,  7.4179e-02, -4.2716e-02,  9.8030e-02,\n",
       "                       -7.8509e-02, -1.2017e-02, -2.0128e-02, -4.6265e-02, -2.5633e-02,\n",
       "                       -5.7986e-02,  6.5685e-02, -4.2807e-02, -9.4964e-03,  5.1871e-02,\n",
       "                        5.6568e-02,  3.1400e-02,  4.5683e-02, -1.0839e-02,  6.1865e-03,\n",
       "                       -4.7991e-03, -7.6843e-02,  4.2495e-02, -6.8439e-03,  3.8321e-02,\n",
       "                       -2.0023e-02,  2.7643e-02,  6.1530e-02,  3.8978e-02, -8.7607e-02,\n",
       "                       -6.8895e-02, -5.6245e-02,  9.4349e-02, -7.9240e-02,  9.1496e-02,\n",
       "                        9.3112e-02, -1.7083e-02,  9.7831e-02, -4.7689e-02,  3.8198e-02,\n",
       "                       -2.7609e-02,  8.3163e-02,  2.4624e-02,  9.2320e-02, -3.0878e-02],\n",
       "                      [ 7.8889e-02,  7.5020e-04, -7.1191e-02,  2.7042e-02, -2.7498e-02,\n",
       "                        2.6126e-03,  1.7651e-02,  7.8630e-02, -7.5186e-02,  2.9156e-02,\n",
       "                        6.4349e-02, -5.4881e-02,  1.0341e-02, -3.7334e-02, -2.4698e-02,\n",
       "                        3.5829e-02, -7.7965e-02, -5.8318e-03,  6.6078e-02, -4.4634e-02,\n",
       "                        1.7774e-02,  6.0011e-02,  8.9528e-02, -2.3260e-02, -2.0555e-02,\n",
       "                        5.6447e-03,  8.5118e-02, -4.9098e-02, -3.3173e-02,  6.4159e-02,\n",
       "                        1.9729e-02, -9.4747e-02, -2.5558e-02,  9.7413e-02,  7.7405e-02,\n",
       "                        7.7183e-02,  4.1470e-02, -8.0254e-03,  3.0139e-02,  8.5917e-02,\n",
       "                        8.9931e-02,  6.0694e-02,  1.1380e-02, -2.0407e-02,  9.9418e-02,\n",
       "                        1.8539e-02,  2.1193e-02, -8.1647e-02, -7.4223e-02, -6.4807e-02,\n",
       "                        7.5039e-03,  2.2861e-02,  3.4428e-02,  4.9381e-02,  1.0457e-03,\n",
       "                        3.6290e-03, -3.3852e-02,  6.9541e-02,  1.4255e-02, -2.5892e-02,\n",
       "                       -9.2528e-02,  1.5160e-02, -2.0950e-02, -1.0362e-02, -6.4987e-02,\n",
       "                       -5.4861e-02,  5.7238e-02, -4.4317e-02, -3.1401e-02,  9.1642e-02,\n",
       "                       -7.3402e-02, -7.6410e-02,  2.2005e-02,  2.8790e-02, -5.7999e-02,\n",
       "                        1.9402e-02, -4.6126e-02, -4.8607e-02,  2.5173e-02, -8.0558e-03,\n",
       "                        4.2291e-02,  4.3685e-02,  9.0621e-02, -2.8320e-02, -4.7153e-02,\n",
       "                        2.7587e-02,  9.4066e-02,  3.7154e-02, -3.1798e-02,  3.9582e-02,\n",
       "                       -3.6709e-02, -3.0205e-04,  2.5067e-02,  5.9333e-02, -6.2003e-02,\n",
       "                       -9.1788e-02, -9.4046e-02, -5.4514e-02, -7.6338e-02, -2.7850e-02],\n",
       "                      [ 9.0954e-02,  4.8886e-02,  1.9653e-02,  3.1818e-02, -1.9799e-02,\n",
       "                        3.6083e-02,  5.5355e-02, -3.1356e-02, -9.0925e-02,  2.6398e-03,\n",
       "                       -4.0141e-02,  5.2848e-02,  6.7779e-03,  2.4501e-02,  3.4089e-02,\n",
       "                       -8.3890e-02,  8.6950e-02,  7.1500e-02, -1.6138e-03, -7.5503e-02,\n",
       "                       -7.7660e-02,  9.3977e-02,  4.2814e-02, -8.4594e-02,  3.1168e-02,\n",
       "                       -2.9542e-02, -2.6816e-02, -4.1913e-02,  3.1276e-02, -3.1464e-02,\n",
       "                        1.4414e-02, -3.7389e-02,  4.4781e-02, -1.9598e-02, -5.4420e-03,\n",
       "                        8.4694e-02, -5.7757e-02,  3.2956e-02,  1.2593e-02,  8.6519e-02,\n",
       "                       -2.4120e-02,  9.7076e-02,  5.5860e-02, -6.7338e-02,  4.2125e-02,\n",
       "                        2.1451e-02,  4.2940e-02, -6.5482e-02,  2.1320e-02, -1.0217e-02,\n",
       "                       -6.7605e-02, -5.6176e-03, -8.0395e-02,  9.6197e-02, -4.4832e-02,\n",
       "                       -7.1739e-02,  5.2703e-02,  1.9102e-02,  1.2122e-02,  6.6412e-02,\n",
       "                       -5.0345e-02,  7.6745e-02,  8.4093e-02,  4.5464e-02, -5.6397e-02,\n",
       "                       -6.3741e-02, -5.8958e-02, -8.5505e-03, -6.7508e-02,  9.8758e-02,\n",
       "                       -7.5921e-06,  1.5294e-02, -6.0732e-03,  7.3273e-03, -9.3188e-02,\n",
       "                        6.9208e-02, -9.0208e-02, -9.3357e-02,  8.1621e-02, -7.6200e-02,\n",
       "                       -1.8855e-03,  1.1978e-02,  2.2726e-02, -3.6930e-02,  4.1333e-02,\n",
       "                        5.6539e-02,  2.7302e-02, -9.4052e-02,  3.3218e-02, -1.5420e-02,\n",
       "                        5.8996e-02, -7.4655e-02,  4.4323e-02,  3.7051e-02,  6.7337e-02,\n",
       "                        7.0586e-02, -5.9003e-02, -9.0108e-02, -5.8939e-02, -4.6782e-02],\n",
       "                      [-9.5573e-02, -8.2605e-02,  8.3246e-02, -6.5853e-02,  7.0125e-02,\n",
       "                       -3.2653e-02, -1.6319e-02, -2.5407e-02, -2.6947e-03, -2.8492e-03,\n",
       "                       -7.4957e-02,  6.1005e-03,  3.8792e-02, -9.3291e-02,  9.8510e-02,\n",
       "                       -8.3021e-03,  1.2641e-02,  2.9132e-02,  9.0821e-02, -7.6425e-02,\n",
       "                        6.7238e-02, -7.9072e-03,  9.4066e-03,  4.9795e-02,  1.5014e-02,\n",
       "                        3.3350e-02,  9.6922e-02, -7.1681e-03, -4.5082e-02,  2.8242e-03,\n",
       "                        4.6169e-02, -6.0955e-02, -8.7685e-03, -9.0567e-02,  6.3347e-02,\n",
       "                        1.4067e-02, -3.6488e-02,  5.5621e-02,  2.3235e-02,  5.9381e-02,\n",
       "                       -7.7006e-02,  3.3542e-02,  1.7486e-02,  7.1213e-02, -8.1431e-02,\n",
       "                       -5.7451e-02, -2.8018e-02,  8.5100e-02, -3.2838e-02, -5.2627e-02,\n",
       "                        2.4913e-02, -5.9701e-02,  2.4239e-02,  1.7987e-02,  5.4015e-02,\n",
       "                        1.2571e-02,  7.8222e-03, -9.1163e-02,  2.6692e-02,  5.0995e-02,\n",
       "                       -5.9435e-02,  7.9551e-02, -5.0819e-02,  4.9685e-03, -3.3043e-02,\n",
       "                       -8.9851e-02, -6.2447e-02,  5.6840e-02, -9.5682e-02, -8.4237e-02,\n",
       "                       -7.5113e-02,  2.4299e-02,  4.8566e-02, -7.6098e-02,  9.3642e-02,\n",
       "                       -9.9460e-03, -7.5907e-02, -7.5666e-02, -5.2559e-02,  4.5241e-02,\n",
       "                       -6.8274e-02, -9.3443e-02,  9.5014e-02,  4.7970e-02, -6.0739e-02,\n",
       "                        9.4615e-02,  2.5364e-02, -8.2622e-02, -2.3735e-02, -2.3752e-03,\n",
       "                        7.8579e-03, -2.6492e-02, -4.6899e-02,  3.1130e-02,  3.7671e-02,\n",
       "                       -1.1483e-02, -8.5860e-02, -4.5551e-02, -8.8307e-02, -6.5534e-02],\n",
       "                      [-5.1969e-02, -8.1771e-02,  1.7336e-02,  2.9587e-02, -9.9543e-02,\n",
       "                        2.0815e-02, -7.7756e-02, -1.1843e-02,  9.1287e-02, -8.1878e-02,\n",
       "                       -1.3929e-02, -6.6368e-02, -4.1921e-02,  1.0153e-02, -2.9535e-03,\n",
       "                        1.4835e-02,  3.1592e-02, -4.9144e-02,  5.4253e-02,  5.3785e-02,\n",
       "                       -6.7558e-02,  9.4372e-02, -1.5484e-02, -3.4207e-02,  2.3556e-02,\n",
       "                        4.3151e-02, -4.7436e-02,  2.3148e-02,  1.0733e-02,  2.5113e-02,\n",
       "                        7.9610e-02, -7.1684e-02,  4.5710e-02, -2.6124e-02,  2.3910e-02,\n",
       "                        7.7157e-02, -8.2176e-02,  6.6581e-02,  4.5478e-02, -8.4049e-02,\n",
       "                        4.8642e-02, -7.8528e-03,  4.3124e-02, -5.5698e-02, -4.6124e-02,\n",
       "                       -9.1517e-02,  4.1098e-02, -5.9993e-02, -5.3777e-02, -2.7722e-02,\n",
       "                       -1.5281e-03,  8.1505e-02,  6.7842e-02,  1.9932e-02,  1.4944e-02,\n",
       "                        1.5493e-02,  1.4961e-02, -6.6534e-02, -2.2192e-03,  7.1527e-02,\n",
       "                       -8.4788e-03, -7.7225e-04, -3.5477e-02, -9.8003e-02, -4.5529e-02,\n",
       "                       -9.4649e-02, -7.8990e-02,  5.3020e-02,  2.8573e-02,  1.3795e-02,\n",
       "                       -2.9404e-02,  9.5717e-02, -8.6282e-02, -7.5831e-02,  9.2415e-03,\n",
       "                       -1.8768e-02,  9.3630e-02, -2.2291e-02, -8.6084e-03,  6.9767e-03,\n",
       "                        7.4768e-02,  5.8811e-02, -4.6046e-02,  6.9277e-02, -5.6819e-02,\n",
       "                        6.4881e-02,  3.2303e-02, -6.3574e-02,  4.9941e-02, -2.8111e-02,\n",
       "                       -4.6404e-02,  2.3002e-02, -7.3745e-02,  1.9510e-02, -6.2498e-02,\n",
       "                       -5.2981e-02, -2.6292e-03,  4.1399e-02,  9.0410e-02, -4.7936e-02],\n",
       "                      [ 5.9326e-02,  1.3972e-02,  8.9323e-02,  1.8862e-03,  1.2177e-02,\n",
       "                       -4.2171e-03, -1.0589e-02, -2.2026e-02, -6.2495e-02,  1.1778e-02,\n",
       "                       -3.3350e-02,  6.8113e-02,  2.9978e-03, -3.8199e-02, -1.9769e-02,\n",
       "                        2.9068e-02, -6.5057e-02, -4.9415e-02, -2.0958e-02, -4.9195e-02,\n",
       "                        1.0512e-02, -9.1501e-02,  5.8213e-02,  3.9864e-02, -5.5712e-02,\n",
       "                        6.7990e-02,  3.3055e-02,  3.8680e-02, -4.2888e-02,  2.3159e-02,\n",
       "                        5.7143e-02,  3.0088e-02,  8.6827e-02, -6.9669e-02, -3.7311e-02,\n",
       "                        5.3122e-02, -3.4528e-02,  5.2497e-02, -6.0322e-02,  5.1627e-02,\n",
       "                       -6.6886e-02,  2.0531e-02,  3.5158e-02,  3.1893e-02, -3.3690e-02,\n",
       "                        6.8231e-02,  8.1576e-02, -2.7815e-02,  2.8356e-02, -7.2301e-02,\n",
       "                        5.2424e-02,  6.8858e-02,  6.0501e-03, -6.1566e-02,  6.8751e-02,\n",
       "                       -1.9337e-02,  3.7253e-02,  5.3742e-02,  1.4827e-02, -5.9911e-02,\n",
       "                        6.3616e-02,  3.1354e-03, -1.7487e-02,  7.1603e-02, -7.3582e-02,\n",
       "                       -4.4749e-02, -2.7757e-02, -5.1670e-02,  6.4803e-03, -5.2342e-02,\n",
       "                        3.6577e-02, -6.0344e-02, -2.8814e-02, -7.2500e-02,  7.7079e-02,\n",
       "                        4.1385e-02,  7.6766e-02,  8.8019e-03,  7.2624e-02, -2.1530e-02,\n",
       "                       -7.6748e-02, -2.8867e-02,  9.2122e-03,  2.8914e-02,  6.4107e-02,\n",
       "                        8.2328e-02,  1.6881e-02,  8.4154e-02, -9.7108e-02, -6.8054e-02,\n",
       "                       -5.3063e-02, -3.5484e-02, -1.6752e-02,  8.9230e-02, -5.8983e-02,\n",
       "                       -7.2348e-02,  2.4714e-02, -2.9431e-02,  6.7798e-02,  7.4553e-02],\n",
       "                      [ 1.2548e-02,  4.0073e-02,  6.0584e-02, -8.8960e-02, -4.4371e-02,\n",
       "                        5.8172e-03, -2.9554e-02, -2.7151e-02, -2.5634e-02,  8.8116e-03,\n",
       "                       -5.7976e-02,  7.1391e-03,  4.1211e-02,  9.4771e-02,  8.3338e-02,\n",
       "                        6.2966e-02,  7.6898e-02,  2.1280e-02, -7.9329e-03,  6.1278e-02,\n",
       "                        1.2251e-02,  8.3421e-02, -4.5724e-02,  5.8907e-02,  7.0293e-02,\n",
       "                        6.5215e-02,  8.3754e-02,  5.5664e-02, -7.5818e-02, -8.2678e-02,\n",
       "                       -9.2270e-02,  1.5752e-02, -3.6776e-02, -4.6835e-02,  6.6439e-02,\n",
       "                        9.2074e-02, -7.3472e-02,  7.2075e-02,  9.1677e-02,  6.1305e-03,\n",
       "                       -5.9266e-02, -2.7391e-02, -6.0278e-02, -6.3620e-02, -4.2760e-02,\n",
       "                        5.6965e-03, -6.8663e-02,  9.6662e-03,  2.9220e-02, -2.3032e-02,\n",
       "                        9.2868e-03,  7.2943e-02,  6.6713e-02, -9.1728e-02, -5.7843e-02,\n",
       "                       -4.8142e-02, -8.2525e-02,  1.2928e-02, -6.3012e-03,  1.7949e-02,\n",
       "                        5.6069e-02, -5.8713e-02,  5.9486e-03, -4.2041e-02, -1.5360e-02,\n",
       "                        2.5207e-02,  1.1065e-02,  2.2669e-02, -8.8843e-02, -1.3412e-02,\n",
       "                        7.3523e-02,  8.4499e-02,  5.0144e-02,  7.7284e-02,  2.2494e-02,\n",
       "                       -9.3987e-02, -2.7877e-02,  5.0024e-02,  1.6261e-02,  2.9909e-02,\n",
       "                        7.1964e-02,  6.8917e-02,  2.8302e-02, -5.3216e-02,  1.7198e-02,\n",
       "                       -5.5742e-02,  7.7232e-02, -6.9038e-02,  5.0803e-02,  1.8506e-02,\n",
       "                        1.3027e-02,  8.6314e-02, -1.2688e-02,  6.3489e-02,  3.7801e-02,\n",
       "                        1.1851e-03, -4.0468e-02,  8.5726e-02,  6.0111e-02, -7.7470e-02],\n",
       "                      [ 7.6161e-02, -8.1887e-02, -1.7797e-02,  6.7814e-02,  9.3097e-02,\n",
       "                       -4.5076e-02, -5.9957e-02,  9.9516e-02,  7.6751e-02, -5.1093e-02,\n",
       "                        1.5969e-02, -6.3668e-02, -5.6791e-02,  8.6624e-02, -1.5582e-02,\n",
       "                       -9.8392e-02,  8.7812e-02, -5.2870e-02,  1.1205e-02,  2.5921e-02,\n",
       "                        9.1883e-02,  5.1084e-02,  3.9776e-02,  5.0178e-02,  5.8331e-03,\n",
       "                       -5.4946e-02, -4.8718e-02, -5.3313e-02,  5.3048e-02, -6.8052e-02,\n",
       "                        1.1658e-02,  8.7819e-02,  8.0061e-02,  4.7535e-02, -1.9413e-02,\n",
       "                        4.3969e-02,  5.9673e-02,  4.9570e-02, -4.7066e-02,  9.7820e-02,\n",
       "                       -3.0181e-03,  1.7042e-02, -7.9277e-02,  7.8713e-02, -8.8464e-02,\n",
       "                        7.7316e-02, -8.6897e-02, -6.3403e-04, -5.7925e-02,  3.4306e-02,\n",
       "                        4.9555e-02, -3.0208e-02,  4.0370e-02, -8.0274e-02, -1.3103e-02,\n",
       "                        8.0974e-02, -8.9011e-02,  8.6135e-02, -3.9344e-02, -7.4774e-02,\n",
       "                       -1.1278e-02,  9.7052e-02, -9.5690e-02, -2.0967e-02, -7.9426e-02,\n",
       "                       -1.5883e-02,  5.6083e-02,  6.9477e-02,  8.4655e-03, -9.5290e-02,\n",
       "                        9.4962e-02,  2.7917e-02, -4.6421e-02,  8.8438e-02, -3.1979e-02,\n",
       "                        3.7117e-02, -5.1289e-02, -2.6955e-02, -1.0131e-02,  7.4270e-02,\n",
       "                        4.3805e-02, -7.7752e-02, -1.8694e-02,  8.0047e-02,  3.7687e-02,\n",
       "                       -8.3998e-02,  9.5206e-02,  2.7302e-02, -3.9027e-02, -8.3956e-02,\n",
       "                        3.5717e-02, -6.7024e-02, -8.6573e-02, -3.0768e-02,  6.9917e-02,\n",
       "                        6.7944e-02, -5.0561e-03,  5.1038e-02, -8.1904e-02, -1.2250e-02],\n",
       "                      [ 9.4458e-02,  1.0967e-02,  4.1899e-02, -7.7163e-02,  2.9668e-02,\n",
       "                       -6.0562e-02, -1.7164e-02, -9.3941e-02, -6.7074e-02,  1.6781e-02,\n",
       "                       -7.5311e-02,  9.5271e-02,  2.7476e-02,  9.3254e-02,  9.8321e-02,\n",
       "                        4.3589e-02,  3.3341e-02, -5.2443e-02, -3.6464e-02,  5.6569e-02,\n",
       "                        2.1549e-02,  6.1359e-02,  2.3435e-02,  8.5057e-02, -4.4126e-02,\n",
       "                        5.2102e-02,  7.6614e-02, -7.3849e-02,  6.8317e-02,  7.8331e-02,\n",
       "                       -9.6223e-02, -1.6541e-02, -1.1449e-02, -7.9575e-02,  9.7710e-02,\n",
       "                       -1.2076e-02, -7.6481e-02,  4.8236e-02, -3.2313e-02, -6.2336e-03,\n",
       "                       -9.6266e-02,  7.2746e-02,  6.2715e-02,  4.8453e-02,  9.4816e-02,\n",
       "                        9.0438e-02, -1.5749e-02,  8.3551e-02,  1.0661e-02,  2.1758e-02,\n",
       "                       -5.2318e-02,  2.1583e-02, -4.4258e-02,  3.6525e-02, -6.5637e-02,\n",
       "                        2.3507e-02,  4.6307e-02,  6.4590e-03, -1.0244e-02, -7.2817e-02,\n",
       "                       -7.5360e-02,  1.4568e-02, -3.8140e-02,  4.4141e-02,  4.6948e-02,\n",
       "                       -6.2600e-02,  3.4843e-02,  5.1567e-02, -1.9623e-02,  2.3363e-02,\n",
       "                        6.5373e-03,  9.5366e-02, -4.4697e-02,  1.9895e-02, -6.4435e-02,\n",
       "                        2.0915e-02,  4.1478e-02, -3.3110e-02,  1.5342e-02, -6.8462e-02,\n",
       "                       -1.4162e-02,  4.3008e-02,  8.1251e-02, -3.2420e-02, -2.8669e-02,\n",
       "                        9.7595e-02, -1.6686e-02, -9.3558e-02,  5.4352e-02,  1.5006e-02,\n",
       "                        1.6313e-03,  4.1458e-03,  4.9450e-02, -5.2591e-02, -2.4788e-02,\n",
       "                       -9.7406e-02, -2.4159e-02,  1.7284e-02,  6.9777e-02, -7.2511e-02]])),\n",
       "             ('fc3.bias',\n",
       "              tensor([-0.0946,  0.0155, -0.0884, -0.0660, -0.0476, -0.0148,  0.0309,  0.0641,\n",
       "                       0.0157,  0.0097]))])"
      ]
     },
     "execution_count": 15,
     "metadata": {},
     "output_type": "execute_result"
    }
   ],
   "source": [
    "model.state_dict()"
   ]
  },
  {
   "cell_type": "code",
   "execution_count": 16,
   "metadata": {
    "ExecuteTime": {
     "end_time": "2025-06-26T09:39:13.649504Z",
     "start_time": "2025-06-26T09:39:13.477021Z"
    }
   },
   "outputs": [],
   "source": [
    "from torch.utils.tensorboard import SummaryWriter\n",
    "class TensorboardLogger:\n",
    "    \"\"\"\n",
    "    Tensorboard日志记录类：记录训练过程中的损失和准确率\n",
    "    \n",
    "    参数:\n",
    "        log_dir: 日志保存目录,log_dir的父目录不要有中文\n",
    "    \"\"\"\n",
    "    def __init__(self, log_dir='tensorboard_logs'):\n",
    "\n",
    "        import os\n",
    "        \n",
    "        # 确保日志目录存在\n",
    "        if not os.path.exists(log_dir):\n",
    "            os.makedirs(log_dir)\n",
    "            \n",
    "        self.writer = SummaryWriter(log_dir) # 实例化SummaryWriter, log_dir是log存放路径，flush_secs是每隔多少秒写入磁盘\n",
    "        \n",
    "    def log_training(self, epoch, train_loss, train_acc):\n",
    "        \"\"\"\n",
    "        记录训练数据\n",
    "        \n",
    "        参数:\n",
    "            epoch: 当前训练轮数\n",
    "            train_loss: 训练损失\n",
    "            train_acc: 训练准确率\n",
    "        \"\"\"\n",
    "        self.writer.add_scalar('训练/损失', train_loss, epoch)\n",
    "        self.writer.add_scalar('训练/准确率', train_acc, epoch)\n",
    "        \n",
    "    def log_validation(self, epoch, val_loss, val_acc):\n",
    "        \"\"\"\n",
    "        记录验证数据\n",
    "        \n",
    "        参数:\n",
    "            epoch: 当前训练轮数\n",
    "            val_loss: 验证损失\n",
    "            val_acc: 验证准确率\n",
    "        \"\"\"\n",
    "        self.writer.add_scalar('验证/损失', val_loss, epoch)\n",
    "        self.writer.add_scalar('验证/准确率', val_acc, epoch)\n",
    "    \n",
    "    def log_lr(self, epoch, lr):\n",
    "        \"\"\"\n",
    "        记录学习率\n",
    "        \n",
    "        参数:\n",
    "            epoch: 当前训练轮数\n",
    "            lr: 学习率\n",
    "        \"\"\"\n",
    "        self.writer.add_scalar('学习率', lr, epoch)\n",
    "        \n",
    "    def log_model_graph(self, model, images):\n",
    "        \"\"\"\n",
    "        记录模型结构图\n",
    "        \n",
    "        参数:\n",
    "            model: 模型\n",
    "            images: 输入图像样本\n",
    "        \"\"\"\n",
    "        self.writer.add_graph(model, images)\n",
    "        \n",
    "    def close(self):\n",
    "        \"\"\"\n",
    "        关闭Tensorboard写入器\n",
    "        \"\"\"\n",
    "        self.writer.close()\n"
   ]
  },
  {
   "cell_type": "markdown",
   "metadata": {},
   "source": [
    "# 设置交叉熵损失函数，SGD优化器"
   ]
  },
  {
   "cell_type": "code",
   "execution_count": 17,
   "metadata": {
    "ExecuteTime": {
     "end_time": "2025-06-26T09:39:13.656415Z",
     "start_time": "2025-06-26T09:39:13.650010Z"
    }
   },
   "outputs": [
    {
     "name": "stdout",
     "output_type": "stream",
     "text": [
      "损失函数: CrossEntropyLoss()\n",
      "优化器: SGD (\n",
      "Parameter Group 0\n",
      "    dampening: 0\n",
      "    differentiable: False\n",
      "    foreach: None\n",
      "    fused: None\n",
      "    lr: 0.01\n",
      "    maximize: False\n",
      "    momentum: 0.9\n",
      "    nesterov: False\n",
      "    weight_decay: 0\n",
      ")\n"
     ]
    }
   ],
   "source": [
    "model = NeuralNetwork()\n",
    "# 定义损失函数和优化器\n",
    "loss_fn = nn.CrossEntropyLoss()  # 交叉熵损失函数，适用于多分类问题，里边会做softmax，还有会把0-9标签转换成one-hot编码\n",
    "# 用少量样本就能更新权重，训练更快，且更容易跳出局部最优\n",
    "optimizer = torch.optim.SGD(model.parameters(), lr=0.01, momentum=0.9)  # SGD优化器，学习率为0.01，动量为0.9\n",
    "\n",
    "print(\"损失函数:\", loss_fn)\n",
    "print(\"优化器:\", optimizer)\n"
   ]
  },
  {
   "cell_type": "markdown",
   "metadata": {},
   "source": [
    "# 编写训练函数"
   ]
  },
  {
   "cell_type": "code",
   "execution_count": 18,
   "metadata": {
    "ExecuteTime": {
     "end_time": "2025-06-26T09:39:13.666427Z",
     "start_time": "2025-06-26T09:39:13.658431Z"
    }
   },
   "outputs": [],
   "source": [
    "def train_model(model, train_loader, val_loader, criterion, optimizer, device, num_epochs=5, early_stopping=None, model_saver=None, tensorboard_logger=None):\n",
    "    \"\"\"\n",
    "    训练模型函数\n",
    "    \n",
    "    参数:\n",
    "        model: 要训练的模型\n",
    "        train_loader: 训练数据加载器\n",
    "        val_loader: 验证数据加载器\n",
    "        criterion: 损失函数\n",
    "        optimizer: 优化器\n",
    "        device: 计算设备(CPU/GPU)\n",
    "        num_epochs: 训练轮数\n",
    "        early_stopping: 早停对象\n",
    "        model_saver: 模型保存对象\n",
    "        tensorboard_logger: Tensorboard日志记录器\n",
    "        \n",
    "    返回:\n",
    "        model: 训练好的模型\n",
    "        history: 训练历史数据，包含每轮的损失和准确率\n",
    "    \"\"\"\n",
    "    # 记录训练历史\n",
    "    history = {\n",
    "        'train_loss': [],\n",
    "        'train_acc': [],\n",
    "        'val_loss': [],\n",
    "        'val_acc': []\n",
    "    }\n",
    "    \n",
    "    # 训练循环\n",
    "    for epoch in range(num_epochs):\n",
    "        model.train()  # 设置为训练模式\n",
    "        running_loss = 0.0 #训练集损失\n",
    "        correct = 0 #训练集准确率\n",
    "        total = 0 #训练集总数\n",
    "        \n",
    "        # 训练一个epoch,把55000全部训练一遍\n",
    "        for i, (images, labels) in enumerate(train_loader):\n",
    "            images, labels = images.to(device), labels.to(device)\n",
    "            \n",
    "            # 梯度清零\n",
    "            optimizer.zero_grad()\n",
    "            \n",
    "            # 前向传播\n",
    "            outputs = model(images)\n",
    "            loss = criterion(outputs, labels)\n",
    "            \n",
    "            # 反向传播与优化\n",
    "            loss.backward() #反向传播，计算梯度\n",
    "            optimizer.step() #优化器更新参数\n",
    "            \n",
    "            # 统计训练集 损失和准确率\n",
    "            running_loss += loss.item()\n",
    "            _, predicted = torch.max(outputs.data, 1) #torch.max(outputs.data, 1)返回两个值，第一个是最大值，第二个是最大值的索引\n",
    "            total += labels.size(0)\n",
    "            correct += (predicted == labels).sum().item()\n",
    "            \n",
    "            # 每100个批次打印一次信息\n",
    "            if (i + 1) % 100 == 0:\n",
    "                print(f'轮次 [{epoch+1}/{num_epochs}], 批次 [{i+1}/{len(train_loader)}], 损失: {loss.item():.4f}', end='\\r')\n",
    "        \n",
    "        # 计算当前epoch的平均损失和准确率\n",
    "        epoch_train_loss = running_loss / len(train_loader)\n",
    "        epoch_train_acc = 100 * correct / total\n",
    "        \n",
    "        # 使用evaluate_model函数评估验证集\n",
    "        val_acc, val_loss = evaluate_model(model, val_loader, device, criterion)\n",
    "        \n",
    "        # 记录历史数据\n",
    "        history['train_loss'].append(epoch_train_loss)\n",
    "        history['train_acc'].append(epoch_train_acc)\n",
    "        history['val_loss'].append(val_loss)\n",
    "        history['val_acc'].append(val_acc)\n",
    "        \n",
    "        # 如果有Tensorboard记录器，记录训练和验证指标\n",
    "        if tensorboard_logger is not None:\n",
    "            tensorboard_logger.log_training(epoch,epoch_train_loss,epoch_train_acc)\n",
    "            tensorboard_logger.log_validation(epoch,val_loss,val_acc)\n",
    "        \n",
    "        print(f'轮次 {epoch+1}/{num_epochs} 完成! 训练损失: {epoch_train_loss:.4f}, 训练准确率: {epoch_train_acc:.2f}%, 验证损失: {val_loss:.4f}, 验证准确率: {val_acc:.2f}%')\n",
    "        \n",
    "        # 如果有模型保存器，保存模型\n",
    "        if model_saver is not None:\n",
    "            model_saver(model, val_acc, epoch)\n",
    "        \n",
    "        # 如果有早停器，检查是否应该早停\n",
    "        if early_stopping is not None:\n",
    "            early_stopping(val_acc)\n",
    "            if early_stopping.early_stop:\n",
    "                print(f'早停: 已有{early_stopping.patience}轮验证损失没有改善！')\n",
    "                break\n",
    "    \n",
    "    return model, history\n"
   ]
  },
  {
   "cell_type": "code",
   "execution_count": 19,
   "metadata": {
    "ExecuteTime": {
     "end_time": "2025-06-26T09:39:13.677359Z",
     "start_time": "2025-06-26T09:39:13.671206Z"
    }
   },
   "outputs": [],
   "source": [
    "model = NeuralNetwork()\n",
    "\n",
    "optimizer = torch.optim.SGD(model.parameters(), lr=0.01, momentum=0.9)  # SGD优化器，学习率为0.01，动量为0.9"
   ]
  },
  {
   "cell_type": "code",
   "execution_count": 20,
   "metadata": {
    "ExecuteTime": {
     "end_time": "2025-06-26T09:41:20.853030Z",
     "start_time": "2025-06-26T09:39:13.678403Z"
    }
   },
   "outputs": [
    {
     "name": "stdout",
     "output_type": "stream",
     "text": [
      "使用设备: cpu\n",
      "训练开始，共43000步\n"
     ]
    },
    {
     "data": {
      "application/vnd.jupyter.widget-view+json": {
       "model_id": "e3089876ecbe44ee81a52bb2e5dc4407",
       "version_major": 2,
       "version_minor": 0
      },
      "text/plain": [
       "  0%|          | 0/43000 [00:00<?, ?it/s]"
      ]
     },
     "metadata": {},
     "output_type": "display_data"
    },
    {
     "name": "stdout",
     "output_type": "stream",
     "text": [
      "早停触发! 最佳验证准确率: 89.3400\n",
      "早停: 在10500 步\n"
     ]
    }
   ],
   "source": [
    "device = torch.device(\"cuda:0\" if torch.cuda.is_available() else \"cpu\")\n",
    "print(f\"使用设备: {device}\")\n",
    "model = model.to(device) #将模型移动到GPU\n",
    "early_stopping=EarlyStopping(patience=5, delta=0.001)\n",
    "model_saver=ModelSaver(save_dir='model_weights', save_best_only=True)\n",
    "tensorboard_logger=TensorboardLogger(log_dir='logs')\n",
    "\n",
    "model, history = train_classification_model(model, train_loader, val_loader, loss_fn, optimizer, device, num_epochs=50, early_stopping=early_stopping, model_saver=model_saver, tensorboard_logger=tensorboard_logger)\n",
    "\n"
   ]
  },
  {
   "cell_type": "code",
   "execution_count": 21,
   "metadata": {
    "ExecuteTime": {
     "end_time": "2025-06-26T09:41:20.863067Z",
     "start_time": "2025-06-26T09:41:20.854042Z"
    }
   },
   "outputs": [
    {
     "data": {
      "text/plain": [
       "[{'loss': 0.17121917009353638, 'acc': 90.625, 'step': 10401},\n",
       " {'loss': 0.09009360522031784, 'acc': 96.875, 'step': 10402},\n",
       " {'loss': 0.16874411702156067, 'acc': 93.75, 'step': 10403},\n",
       " {'loss': 0.21162840723991394, 'acc': 93.75, 'step': 10404},\n",
       " {'loss': 0.15007705986499786, 'acc': 95.3125, 'step': 10405},\n",
       " {'loss': 0.15580876171588898, 'acc': 93.75, 'step': 10406},\n",
       " {'loss': 0.07163388282060623, 'acc': 96.875, 'step': 10407},\n",
       " {'loss': 0.24206407368183136, 'acc': 89.0625, 'step': 10408},\n",
       " {'loss': 0.08254356682300568, 'acc': 98.4375, 'step': 10409},\n",
       " {'loss': 0.2577875554561615, 'acc': 92.1875, 'step': 10410},\n",
       " {'loss': 0.10765688121318817, 'acc': 98.4375, 'step': 10411},\n",
       " {'loss': 0.0550311915576458, 'acc': 98.4375, 'step': 10412},\n",
       " {'loss': 0.17055004835128784, 'acc': 93.75, 'step': 10413},\n",
       " {'loss': 0.3279099464416504, 'acc': 90.625, 'step': 10414},\n",
       " {'loss': 0.09424977749586105, 'acc': 96.875, 'step': 10415},\n",
       " {'loss': 0.17350509762763977, 'acc': 92.1875, 'step': 10416},\n",
       " {'loss': 0.16923898458480835, 'acc': 95.3125, 'step': 10417},\n",
       " {'loss': 0.153862863779068, 'acc': 93.75, 'step': 10418},\n",
       " {'loss': 0.15770770609378815, 'acc': 92.1875, 'step': 10419},\n",
       " {'loss': 0.10632738471031189, 'acc': 93.75, 'step': 10420},\n",
       " {'loss': 0.3158491253852844, 'acc': 85.9375, 'step': 10421},\n",
       " {'loss': 0.23021084070205688, 'acc': 90.625, 'step': 10422},\n",
       " {'loss': 0.15059210360050201, 'acc': 95.3125, 'step': 10423},\n",
       " {'loss': 0.20398160815238953, 'acc': 92.1875, 'step': 10424},\n",
       " {'loss': 0.2504388391971588, 'acc': 89.0625, 'step': 10425},\n",
       " {'loss': 0.17883683741092682, 'acc': 95.3125, 'step': 10426},\n",
       " {'loss': 0.20524093508720398, 'acc': 93.75, 'step': 10427},\n",
       " {'loss': 0.1409727782011032, 'acc': 95.3125, 'step': 10428},\n",
       " {'loss': 0.11651188135147095, 'acc': 95.3125, 'step': 10429},\n",
       " {'loss': 0.1597425937652588, 'acc': 95.3125, 'step': 10430},\n",
       " {'loss': 0.08676754683256149, 'acc': 98.4375, 'step': 10431},\n",
       " {'loss': 0.3179147243499756, 'acc': 87.5, 'step': 10432},\n",
       " {'loss': 0.2833215296268463, 'acc': 85.9375, 'step': 10433},\n",
       " {'loss': 0.2952001392841339, 'acc': 89.0625, 'step': 10434},\n",
       " {'loss': 0.31134724617004395, 'acc': 87.5, 'step': 10435},\n",
       " {'loss': 0.19538584351539612, 'acc': 93.75, 'step': 10436},\n",
       " {'loss': 0.19248485565185547, 'acc': 93.75, 'step': 10437},\n",
       " {'loss': 0.26695844531059265, 'acc': 89.0625, 'step': 10438},\n",
       " {'loss': 0.06759543716907501, 'acc': 100.0, 'step': 10439},\n",
       " {'loss': 0.1567240059375763, 'acc': 95.3125, 'step': 10440},\n",
       " {'loss': 0.18816043436527252, 'acc': 90.625, 'step': 10441},\n",
       " {'loss': 0.13114532828330994, 'acc': 93.75, 'step': 10442},\n",
       " {'loss': 0.15229561924934387, 'acc': 95.3125, 'step': 10443},\n",
       " {'loss': 0.2025766670703888, 'acc': 92.1875, 'step': 10444},\n",
       " {'loss': 0.12097515910863876, 'acc': 96.875, 'step': 10445},\n",
       " {'loss': 0.21824471652507782, 'acc': 93.75, 'step': 10446},\n",
       " {'loss': 0.16550271213054657, 'acc': 92.1875, 'step': 10447},\n",
       " {'loss': 0.22352176904678345, 'acc': 90.625, 'step': 10448},\n",
       " {'loss': 0.2114821821451187, 'acc': 95.3125, 'step': 10449},\n",
       " {'loss': 0.15824010968208313, 'acc': 93.75, 'step': 10450},\n",
       " {'loss': 0.13053597509860992, 'acc': 93.75, 'step': 10451},\n",
       " {'loss': 0.14297804236412048, 'acc': 95.3125, 'step': 10452},\n",
       " {'loss': 0.13767430186271667, 'acc': 96.875, 'step': 10453},\n",
       " {'loss': 0.09905251860618591, 'acc': 96.875, 'step': 10454},\n",
       " {'loss': 0.16205234825611115, 'acc': 92.1875, 'step': 10455},\n",
       " {'loss': 0.23155272006988525, 'acc': 90.625, 'step': 10456},\n",
       " {'loss': 0.10461483150720596, 'acc': 96.875, 'step': 10457},\n",
       " {'loss': 0.12219192832708359, 'acc': 93.75, 'step': 10458},\n",
       " {'loss': 0.169405996799469, 'acc': 93.75, 'step': 10459},\n",
       " {'loss': 0.10360585153102875, 'acc': 93.75, 'step': 10460},\n",
       " {'loss': 0.10786426067352295, 'acc': 98.4375, 'step': 10461},\n",
       " {'loss': 0.21872711181640625, 'acc': 89.0625, 'step': 10462},\n",
       " {'loss': 0.1238914281129837, 'acc': 95.3125, 'step': 10463},\n",
       " {'loss': 0.18460145592689514, 'acc': 92.1875, 'step': 10464},\n",
       " {'loss': 0.23317497968673706, 'acc': 90.625, 'step': 10465},\n",
       " {'loss': 0.20064422488212585, 'acc': 92.1875, 'step': 10466},\n",
       " {'loss': 0.20152756571769714, 'acc': 93.75, 'step': 10467},\n",
       " {'loss': 0.11391855031251907, 'acc': 98.4375, 'step': 10468},\n",
       " {'loss': 0.09963862597942352, 'acc': 95.3125, 'step': 10469},\n",
       " {'loss': 0.21322934329509735, 'acc': 92.1875, 'step': 10470},\n",
       " {'loss': 0.1913883090019226, 'acc': 90.625, 'step': 10471},\n",
       " {'loss': 0.1428065448999405, 'acc': 92.1875, 'step': 10472},\n",
       " {'loss': 0.19861343502998352, 'acc': 90.625, 'step': 10473},\n",
       " {'loss': 0.10926491022109985, 'acc': 96.875, 'step': 10474},\n",
       " {'loss': 0.24946318566799164, 'acc': 87.5, 'step': 10475},\n",
       " {'loss': 0.14893001317977905, 'acc': 92.1875, 'step': 10476},\n",
       " {'loss': 0.14815063774585724, 'acc': 95.3125, 'step': 10477},\n",
       " {'loss': 0.08270112425088882, 'acc': 96.875, 'step': 10478},\n",
       " {'loss': 0.10344831645488739, 'acc': 93.75, 'step': 10479},\n",
       " {'loss': 0.15783624351024628, 'acc': 92.1875, 'step': 10480},\n",
       " {'loss': 0.16027550399303436, 'acc': 95.3125, 'step': 10481},\n",
       " {'loss': 0.22099347412586212, 'acc': 92.1875, 'step': 10482},\n",
       " {'loss': 0.12786872684955597, 'acc': 95.3125, 'step': 10483},\n",
       " {'loss': 0.13628500699996948, 'acc': 93.75, 'step': 10484},\n",
       " {'loss': 0.14088095724582672, 'acc': 93.75, 'step': 10485},\n",
       " {'loss': 0.06816717237234116, 'acc': 100.0, 'step': 10486},\n",
       " {'loss': 0.025125805288553238, 'acc': 100.0, 'step': 10487},\n",
       " {'loss': 0.1798253059387207, 'acc': 92.1875, 'step': 10488},\n",
       " {'loss': 0.13486820459365845, 'acc': 96.875, 'step': 10489},\n",
       " {'loss': 0.2942342460155487, 'acc': 90.625, 'step': 10490},\n",
       " {'loss': 0.15232455730438232, 'acc': 95.3125, 'step': 10491},\n",
       " {'loss': 0.16119644045829773, 'acc': 92.1875, 'step': 10492},\n",
       " {'loss': 0.11534862965345383, 'acc': 95.3125, 'step': 10493},\n",
       " {'loss': 0.17064081132411957, 'acc': 92.1875, 'step': 10494},\n",
       " {'loss': 0.14682526886463165, 'acc': 95.3125, 'step': 10495},\n",
       " {'loss': 0.14879681169986725, 'acc': 93.75, 'step': 10496},\n",
       " {'loss': 0.22024109959602356, 'acc': 92.1875, 'step': 10497},\n",
       " {'loss': 0.13339769840240479, 'acc': 93.75, 'step': 10498},\n",
       " {'loss': 0.173204705119133, 'acc': 92.1875, 'step': 10499}]"
      ]
     },
     "execution_count": 21,
     "metadata": {},
     "output_type": "execute_result"
    }
   ],
   "source": [
    "history['train'][-100:-1]"
   ]
  },
  {
   "cell_type": "code",
   "execution_count": 22,
   "metadata": {
    "ExecuteTime": {
     "end_time": "2025-06-26T09:41:20.871079Z",
     "start_time": "2025-06-26T09:41:20.864076Z"
    }
   },
   "outputs": [
    {
     "data": {
      "text/plain": [
       "[{'loss': 2.2971103706359863, 'acc': 9.48, 'step': 0},\n",
       " {'loss': 0.457719779920578, 'acc': 83.22, 'step': 500},\n",
       " {'loss': 0.45061399118900297, 'acc': 84.56, 'step': 1000},\n",
       " {'loss': 0.38163708429336546, 'acc': 86.16, 'step': 1500},\n",
       " {'loss': 0.36604865236282347, 'acc': 87.02, 'step': 2000},\n",
       " {'loss': 0.35212201282978056, 'acc': 87.36, 'step': 2500},\n",
       " {'loss': 0.33204074716567994, 'acc': 88.06, 'step': 3000},\n",
       " {'loss': 0.3293162027597427, 'acc': 87.84, 'step': 3500},\n",
       " {'loss': 0.33664398012161256, 'acc': 87.66, 'step': 4000},\n",
       " {'loss': 0.33544278497695923, 'acc': 87.96, 'step': 4500},\n",
       " {'loss': 0.31753003559112547, 'acc': 88.24, 'step': 5000},\n",
       " {'loss': 0.31993784098625183, 'acc': 88.36, 'step': 5500},\n",
       " {'loss': 0.3282873543024063, 'acc': 87.92, 'step': 6000},\n",
       " {'loss': 0.3179133979201317, 'acc': 88.64, 'step': 6500},\n",
       " {'loss': 0.3270649125099182, 'acc': 89.3, 'step': 7000},\n",
       " {'loss': 0.3191838390946388, 'acc': 89.02, 'step': 7500},\n",
       " {'loss': 0.3070698853850365, 'acc': 89.34, 'step': 8000},\n",
       " {'loss': 0.3163698640704155, 'acc': 88.78, 'step': 8500},\n",
       " {'loss': 0.32141938877105714, 'acc': 88.82, 'step': 9000},\n",
       " {'loss': 0.32590544644594194, 'acc': 88.52, 'step': 9500},\n",
       " {'loss': 0.3315830775260925, 'acc': 88.98, 'step': 10000}]"
      ]
     },
     "execution_count": 22,
     "metadata": {},
     "output_type": "execute_result"
    }
   ],
   "source": [
    "history['val'][-1000:-1]"
   ]
  },
  {
   "cell_type": "markdown",
   "metadata": {},
   "source": [
    "# 绘制损失曲线和准确率曲线"
   ]
  },
  {
   "cell_type": "code",
   "execution_count": 23,
   "metadata": {
    "ExecuteTime": {
     "end_time": "2025-06-26T09:41:20.877592Z",
     "start_time": "2025-06-26T09:41:20.871587Z"
    }
   },
   "outputs": [],
   "source": [
    "# # 导入绘图库\n",
    "# import matplotlib.pyplot as plt\n",
    "# from matplotlib import font_manager\n",
    "# def plot_learning_curves1(history):\n",
    "#     # 设置中文字体支持\n",
    "#     plt.rcParams['font.sans-serif'] = ['SimHei']  # 使用黑体\n",
    "#     plt.rcParams['axes.unicode_minus'] = False    # 解决负号显示问题\n",
    "\n",
    "#     # 创建一个图形，包含两个子图（损失和准确率）\n",
    "#     fig, (ax1, ax2) = plt.subplots(1, 2, figsize=(15, 5))\n",
    "\n",
    "#     # 绘制损失曲线\n",
    "#     epochs = range(1, len(history['train_loss']) + 1)\n",
    "#     ax1.plot(epochs, history['train_loss'], 'b-', label='训练损失')\n",
    "#     ax1.plot(epochs, history['val_loss'], 'r-', label='验证损失')\n",
    "#     ax1.set_title('训练与验证损失')\n",
    "#     ax1.set_xlabel('轮次')\n",
    "#     ax1.set_ylabel('损失')\n",
    "#     ax1.legend()\n",
    "#     ax1.grid(True)\n",
    "\n",
    "#     # 绘制准确率曲线\n",
    "#     ax2.plot(epochs, history['train_acc'], 'b-', label='训练准确率')\n",
    "#     ax2.plot(epochs, history['val_acc'], 'r-', label='验证准确率')\n",
    "#     ax2.set_title('训练与验证准确率')\n",
    "#     ax2.set_xlabel('轮次')\n",
    "#     ax2.set_ylabel('准确率 (%)')\n",
    "#     ax2.legend()\n",
    "#     ax2.grid(True)\n",
    "\n",
    "#     plt.tight_layout()\n",
    "#     plt.show()\n"
   ]
  },
  {
   "cell_type": "code",
   "execution_count": 24,
   "metadata": {
    "ExecuteTime": {
     "end_time": "2025-06-26T09:41:20.975121Z",
     "start_time": "2025-06-26T09:41:20.878099Z"
    }
   },
   "outputs": [
    {
     "data": {
      "image/png": "[encoded data removed]",
      "text/plain": [
       "<Figure size 1000x500 with 2 Axes>"
      ]
     },
     "metadata": {},
     "output_type": "display_data"
    }
   ],
   "source": [
    "plot_learning_curves(history, sample_step=500)  #横坐标是 steps"
   ]
  },
  {
   "cell_type": "code",
   "execution_count": 25,
   "metadata": {
    "ExecuteTime": {
     "end_time": "2025-06-26T09:41:22.293109Z",
     "start_time": "2025-06-26T09:41:20.979127Z"
    }
   },
   "outputs": [
    {
     "data": {
      "text/plain": [
       "(88.42, 0.36169617718458175)"
      ]
     },
     "execution_count": 25,
     "metadata": {},
     "output_type": "execute_result"
    }
   ],
   "source": [
    "# 在测试集上评估模型\n",
    "test_accuracy = evaluate_model(model, test_loader, device, loss_fn)\n",
    "test_accuracy\n"
   ]
  }
 ],
 "metadata": {
  "kernelspec": {
   "display_name": "Python 3",
   "language": "python",
   "name": "python3"
  },
  "language_info": {
   "codemirror_mode": {
    "name": "ipython",
    "version": 3
   },
   "file_extension": ".py",
   "mimetype": "text/x-python",
   "name": "python",
   "nbconvert_exporter": "python",
   "pygments_lexer": "ipython3",
   "version": "3.12.3"
  }
 },
 "nbformat": 4,
 "nbformat_minor": 2
}
