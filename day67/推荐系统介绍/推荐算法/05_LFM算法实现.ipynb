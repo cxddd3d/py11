{
 "cells": [
  {
   "cell_type": "markdown",
   "metadata": {},
   "source": [
    "# 这里先演示基础的一些步骤，辅助理解"
   ]
  },
  {
   "cell_type": "code",
   "execution_count": 1,
   "metadata": {
    "ExecuteTime": {
     "end_time": "2024-05-14T08:40:27.988388400Z",
     "start_time": "2024-05-14T08:40:27.305776800Z"
    }
   },
   "outputs": [],
   "source": [
    "import numpy as np\n",
    "import pandas as pd\n",
    "dtype = [(\"userId\", np.int32), (\"movieId\", np.int32), (\"rating\", np.float32)]\n",
    "dataset = pd.read_csv(\"../datasets/ml-latest-small/ratings.csv\", usecols=range(3), dtype=dict(dtype))"
   ]
  },
  {
   "cell_type": "code",
   "execution_count": 2,
   "metadata": {
    "ExecuteTime": {
     "end_time": "2024-05-14T08:40:34.731194600Z",
     "start_time": "2024-05-14T08:40:34.699213800Z"
    }
   },
   "outputs": [
    {
     "data": {
      "text/html": [
       "<div>\n",
       "<style scoped>\n",
       "    .dataframe tbody tr th:only-of-type {\n",
       "        vertical-align: middle;\n",
       "    }\n",
       "\n",
       "    .dataframe tbody tr th {\n",
       "        vertical-align: top;\n",
       "    }\n",
       "\n",
       "    .dataframe thead th {\n",
       "        text-align: right;\n",
       "    }\n",
       "</style>\n",
       "<table border=\"1\" class=\"dataframe\">\n",
       "  <thead>\n",
       "    <tr style=\"text-align: right;\">\n",
       "      <th></th>\n",
       "      <th>userId</th>\n",
       "      <th>movieId</th>\n",
       "      <th>rating</th>\n",
       "    </tr>\n",
       "  </thead>\n",
       "  <tbody>\n",
       "    <tr>\n",
       "      <th>0</th>\n",
       "      <td>1</td>\n",
       "      <td>1</td>\n",
       "      <td>4.0</td>\n",
       "    </tr>\n",
       "    <tr>\n",
       "      <th>1</th>\n",
       "      <td>1</td>\n",
       "      <td>3</td>\n",
       "      <td>4.0</td>\n",
       "    </tr>\n",
       "    <tr>\n",
       "      <th>2</th>\n",
       "      <td>1</td>\n",
       "      <td>6</td>\n",
       "      <td>4.0</td>\n",
       "    </tr>\n",
       "    <tr>\n",
       "      <th>3</th>\n",
       "      <td>1</td>\n",
       "      <td>47</td>\n",
       "      <td>5.0</td>\n",
       "    </tr>\n",
       "    <tr>\n",
       "      <th>4</th>\n",
       "      <td>1</td>\n",
       "      <td>50</td>\n",
       "      <td>5.0</td>\n",
       "    </tr>\n",
       "  </tbody>\n",
       "</table>\n",
       "</div>"
      ],
      "text/plain": [
       "   userId  movieId  rating\n",
       "0       1        1     4.0\n",
       "1       1        3     4.0\n",
       "2       1        6     4.0\n",
       "3       1       47     5.0\n",
       "4       1       50     5.0"
      ]
     },
     "execution_count": 2,
     "metadata": {},
     "output_type": "execute_result"
    }
   ],
   "source": [
    "dataset.head()"
   ]
  },
  {
   "cell_type": "code",
   "execution_count": 3,
   "metadata": {
    "ExecuteTime": {
     "end_time": "2024-05-14T08:40:43.480562Z",
     "start_time": "2024-05-14T08:40:42.454152400Z"
    }
   },
   "outputs": [],
   "source": [
    "users_ratings = dataset.groupby('userId').agg([list])\n",
    "items_ratings = dataset.groupby('movieId').agg([list])"
   ]
  },
  {
   "cell_type": "code",
   "execution_count": 4,
   "metadata": {
    "ExecuteTime": {
     "end_time": "2024-05-14T08:40:44.648076700Z",
     "start_time": "2024-05-14T08:40:44.553084400Z"
    }
   },
   "outputs": [
    {
     "data": {
      "text/html": [
       "<div>\n",
       "<style scoped>\n",
       "    .dataframe tbody tr th:only-of-type {\n",
       "        vertical-align: middle;\n",
       "    }\n",
       "\n",
       "    .dataframe tbody tr th {\n",
       "        vertical-align: top;\n",
       "    }\n",
       "\n",
       "    .dataframe thead tr th {\n",
       "        text-align: left;\n",
       "    }\n",
       "\n",
       "    .dataframe thead tr:last-of-type th {\n",
       "        text-align: right;\n",
       "    }\n",
       "</style>\n",
       "<table border=\"1\" class=\"dataframe\">\n",
       "  <thead>\n",
       "    <tr>\n",
       "      <th></th>\n",
       "      <th>movieId</th>\n",
       "      <th>rating</th>\n",
       "    </tr>\n",
       "    <tr>\n",
       "      <th></th>\n",
       "      <th>list</th>\n",
       "      <th>list</th>\n",
       "    </tr>\n",
       "    <tr>\n",
       "      <th>userId</th>\n",
       "      <th></th>\n",
       "      <th></th>\n",
       "    </tr>\n",
       "  </thead>\n",
       "  <tbody>\n",
       "    <tr>\n",
       "      <th>1</th>\n",
       "      <td>[1, 3, 6, 47, 50, 70, 101, 110, 151, 157, 163,...</td>\n",
       "      <td>[4.0, 4.0, 4.0, 5.0, 5.0, 3.0, 5.0, 4.0, 5.0, ...</td>\n",
       "    </tr>\n",
       "    <tr>\n",
       "      <th>2</th>\n",
       "      <td>[318, 333, 1704, 3578, 6874, 8798, 46970, 4851...</td>\n",
       "      <td>[3.0, 4.0, 4.5, 4.0, 4.0, 3.5, 4.0, 4.0, 4.5, ...</td>\n",
       "    </tr>\n",
       "    <tr>\n",
       "      <th>3</th>\n",
       "      <td>[31, 527, 647, 688, 720, 849, 914, 1093, 1124,...</td>\n",
       "      <td>[0.5, 0.5, 0.5, 0.5, 0.5, 5.0, 0.5, 0.5, 0.5, ...</td>\n",
       "    </tr>\n",
       "    <tr>\n",
       "      <th>4</th>\n",
       "      <td>[21, 32, 45, 47, 52, 58, 106, 125, 126, 162, 1...</td>\n",
       "      <td>[3.0, 2.0, 3.0, 2.0, 3.0, 3.0, 4.0, 5.0, 1.0, ...</td>\n",
       "    </tr>\n",
       "    <tr>\n",
       "      <th>5</th>\n",
       "      <td>[1, 21, 34, 36, 39, 50, 58, 110, 150, 153, 232...</td>\n",
       "      <td>[4.0, 4.0, 4.0, 4.0, 3.0, 4.0, 5.0, 4.0, 3.0, ...</td>\n",
       "    </tr>\n",
       "  </tbody>\n",
       "</table>\n",
       "</div>"
      ],
      "text/plain": [
       "                                                  movieId  \\\n",
       "                                                     list   \n",
       "userId                                                      \n",
       "1       [1, 3, 6, 47, 50, 70, 101, 110, 151, 157, 163,...   \n",
       "2       [318, 333, 1704, 3578, 6874, 8798, 46970, 4851...   \n",
       "3       [31, 527, 647, 688, 720, 849, 914, 1093, 1124,...   \n",
       "4       [21, 32, 45, 47, 52, 58, 106, 125, 126, 162, 1...   \n",
       "5       [1, 21, 34, 36, 39, 50, 58, 110, 150, 153, 232...   \n",
       "\n",
       "                                                   rating  \n",
       "                                                     list  \n",
       "userId                                                     \n",
       "1       [4.0, 4.0, 4.0, 5.0, 5.0, 3.0, 5.0, 4.0, 5.0, ...  \n",
       "2       [3.0, 4.0, 4.5, 4.0, 4.0, 3.5, 4.0, 4.0, 4.5, ...  \n",
       "3       [0.5, 0.5, 0.5, 0.5, 0.5, 5.0, 0.5, 0.5, 0.5, ...  \n",
       "4       [3.0, 2.0, 3.0, 2.0, 3.0, 3.0, 4.0, 5.0, 1.0, ...  \n",
       "5       [4.0, 4.0, 4.0, 4.0, 3.0, 4.0, 5.0, 4.0, 3.0, ...  "
      ]
     },
     "execution_count": 4,
     "metadata": {},
     "output_type": "execute_result"
    }
   ],
   "source": [
    "users_ratings.head()"
   ]
  },
  {
   "cell_type": "code",
   "execution_count": 5,
   "metadata": {
    "ExecuteTime": {
     "end_time": "2024-05-14T08:40:47.260334800Z",
     "start_time": "2024-05-14T08:40:47.225300300Z"
    }
   },
   "outputs": [
    {
     "data": {
      "text/html": [
       "<div>\n",
       "<style scoped>\n",
       "    .dataframe tbody tr th:only-of-type {\n",
       "        vertical-align: middle;\n",
       "    }\n",
       "\n",
       "    .dataframe tbody tr th {\n",
       "        vertical-align: top;\n",
       "    }\n",
       "\n",
       "    .dataframe thead tr th {\n",
       "        text-align: left;\n",
       "    }\n",
       "\n",
       "    .dataframe thead tr:last-of-type th {\n",
       "        text-align: right;\n",
       "    }\n",
       "</style>\n",
       "<table border=\"1\" class=\"dataframe\">\n",
       "  <thead>\n",
       "    <tr>\n",
       "      <th></th>\n",
       "      <th>userId</th>\n",
       "      <th>rating</th>\n",
       "    </tr>\n",
       "    <tr>\n",
       "      <th></th>\n",
       "      <th>list</th>\n",
       "      <th>list</th>\n",
       "    </tr>\n",
       "    <tr>\n",
       "      <th>movieId</th>\n",
       "      <th></th>\n",
       "      <th></th>\n",
       "    </tr>\n",
       "  </thead>\n",
       "  <tbody>\n",
       "    <tr>\n",
       "      <th>1</th>\n",
       "      <td>[1, 5, 7, 15, 17, 18, 19, 21, 27, 31, 32, 33, ...</td>\n",
       "      <td>[4.0, 4.0, 4.5, 2.5, 4.5, 3.5, 4.0, 3.5, 3.0, ...</td>\n",
       "    </tr>\n",
       "    <tr>\n",
       "      <th>2</th>\n",
       "      <td>[6, 8, 18, 19, 20, 21, 27, 51, 62, 68, 82, 91,...</td>\n",
       "      <td>[4.0, 4.0, 3.0, 3.0, 3.0, 3.5, 4.0, 4.5, 4.0, ...</td>\n",
       "    </tr>\n",
       "    <tr>\n",
       "      <th>3</th>\n",
       "      <td>[1, 6, 19, 32, 42, 43, 44, 51, 58, 64, 68, 91,...</td>\n",
       "      <td>[4.0, 5.0, 3.0, 3.0, 4.0, 5.0, 3.0, 4.0, 3.0, ...</td>\n",
       "    </tr>\n",
       "    <tr>\n",
       "      <th>4</th>\n",
       "      <td>[6, 14, 84, 162, 262, 411, 600]</td>\n",
       "      <td>[3.0, 3.0, 3.0, 3.0, 1.0, 2.0, 1.5]</td>\n",
       "    </tr>\n",
       "    <tr>\n",
       "      <th>5</th>\n",
       "      <td>[6, 31, 43, 45, 58, 66, 68, 84, 103, 107, 111,...</td>\n",
       "      <td>[5.0, 3.0, 5.0, 3.0, 4.0, 4.0, 2.0, 3.0, 4.0, ...</td>\n",
       "    </tr>\n",
       "  </tbody>\n",
       "</table>\n",
       "</div>"
      ],
      "text/plain": [
       "                                                    userId  \\\n",
       "                                                      list   \n",
       "movieId                                                      \n",
       "1        [1, 5, 7, 15, 17, 18, 19, 21, 27, 31, 32, 33, ...   \n",
       "2        [6, 8, 18, 19, 20, 21, 27, 51, 62, 68, 82, 91,...   \n",
       "3        [1, 6, 19, 32, 42, 43, 44, 51, 58, 64, 68, 91,...   \n",
       "4                          [6, 14, 84, 162, 262, 411, 600]   \n",
       "5        [6, 31, 43, 45, 58, 66, 68, 84, 103, 107, 111,...   \n",
       "\n",
       "                                                    rating  \n",
       "                                                      list  \n",
       "movieId                                                     \n",
       "1        [4.0, 4.0, 4.5, 2.5, 4.5, 3.5, 4.0, 3.5, 3.0, ...  \n",
       "2        [4.0, 4.0, 3.0, 3.0, 3.0, 3.5, 4.0, 4.5, 4.0, ...  \n",
       "3        [4.0, 5.0, 3.0, 3.0, 4.0, 5.0, 3.0, 4.0, 3.0, ...  \n",
       "4                      [3.0, 3.0, 3.0, 3.0, 1.0, 2.0, 1.5]  \n",
       "5        [5.0, 3.0, 5.0, 3.0, 4.0, 4.0, 2.0, 3.0, 4.0, ...  "
      ]
     },
     "execution_count": 5,
     "metadata": {},
     "output_type": "execute_result"
    }
   ],
   "source": [
    "items_ratings.head()"
   ]
  },
  {
   "cell_type": "code",
   "execution_count": 6,
   "metadata": {
    "ExecuteTime": {
     "end_time": "2024-05-14T08:42:03.624477900Z",
     "start_time": "2024-05-14T08:42:03.603492700Z"
    },
    "collapsed": true
   },
   "outputs": [
    {
     "data": {
      "text/plain": [
       "array([0.18535745, 0.84641695, 0.28204665, 0.42117122, 0.9200389 ,\n",
       "       0.47364473, 0.6492416 , 0.013605  , 0.45307726, 0.94494534],\n",
       "      dtype=float32)"
      ]
     },
     "execution_count": 6,
     "metadata": {},
     "output_type": "execute_result"
    }
   ],
   "source": [
    "#初始化矩阵P和Q ，随机生成的,这里的10就是k\n",
    "P = dict(zip(users_ratings.index,np.random.rand(len(users_ratings),10).astype(np.float32)))\n",
    "P[2]"
   ]
  },
  {
   "cell_type": "code",
   "execution_count": 7,
   "metadata": {
    "ExecuteTime": {
     "end_time": "2024-05-14T08:42:07.790554500Z",
     "start_time": "2024-05-14T08:42:07.774563700Z"
    },
    "collapsed": true
   },
   "outputs": [
    {
     "data": {
      "text/plain": [
       "array([0.30661684, 0.5393968 , 0.7715378 , 0.09884772, 0.51083106,\n",
       "       0.74712837, 0.439949  , 0.3295462 , 0.9290948 , 0.5435008 ],\n",
       "      dtype=float32)"
      ]
     },
     "execution_count": 7,
     "metadata": {},
     "output_type": "execute_result"
    }
   ],
   "source": [
    "#Q内有9724个物品，每个物品有10个特征\n",
    "Q = dict(zip(items_ratings.index,np.random.rand(len(items_ratings),10).astype(np.float32)))\n",
    "Q[1]"
   ]
  },
  {
   "cell_type": "code",
   "execution_count": 8,
   "metadata": {},
   "outputs": [
    {
     "data": {
      "text/plain": [
       "9724"
      ]
     },
     "execution_count": 8,
     "metadata": {},
     "output_type": "execute_result"
    }
   ],
   "source": [
    "len(Q)"
   ]
  },
  {
   "cell_type": "code",
   "execution_count": 9,
   "metadata": {},
   "outputs": [
    {
     "name": "stdout",
     "output_type": "stream",
     "text": [
      "1 1\n",
      "[9.2145336e-01 7.4461687e-01 6.8314296e-01 8.9935601e-01 9.5930237e-01\n",
      " 2.1264568e-01 8.4361818e-04 1.1229287e-01 3.1255949e-01 3.5884235e-02] [0.30661684 0.5393968  0.7715378  0.09884772 0.51083106 0.74712837\n",
      " 0.439949   0.3295462  0.9290948  0.5435008 ]\n"
     ]
    }
   ],
   "source": [
    "#拿了第一个P,Q，这里没有想乘，实际是想乘得到\n",
    "for uid,iid,real_rating in dataset.itertuples(index = False):\n",
    "    print(uid,iid)\n",
    "    print(P[uid],Q[iid])\n",
    "    break"
   ]
  },
  {
   "cell_type": "code",
   "execution_count": 10,
   "metadata": {},
   "outputs": [
    {
     "data": {
      "text/plain": [
       "32"
      ]
     },
     "execution_count": 10,
     "metadata": {},
     "output_type": "execute_result"
    }
   ],
   "source": [
    "#向量点积\n",
    "np.dot([1,2,3],[4,5,6])"
   ]
  },
  {
   "cell_type": "code",
   "execution_count": 11,
   "metadata": {
    "ExecuteTime": {
     "end_time": "2024-05-14T08:43:54.097915Z",
     "start_time": "2024-05-14T08:43:25.624463200Z"
    }
   },
   "outputs": [
    {
     "name": "stdout",
     "output_type": "stream",
     "text": [
      "********** 0\n",
      "********** 1\n",
      "********** 2\n",
      "********** 3\n",
      "********** 4\n",
      "********** 5\n",
      "********** 6\n",
      "********** 7\n",
      "********** 8\n",
      "********** 9\n",
      "********** 10\n",
      "********** 11\n",
      "********** 12\n",
      "********** 13\n",
      "********** 14\n"
     ]
    }
   ],
   "source": [
    "#梯度下降优化损失函数\n",
    "for i in range(15):#epoch 15次\n",
    "    print('*'*10,i)\n",
    "    for uid,iid,real_rating in dataset.itertuples(index = False):\n",
    "        #遍历 用户 物品的评分数据 通过用户的id 到用户矩阵中获取用户向量\n",
    "        v_puk = P[uid]\n",
    "        # 通过物品的uid 到物品矩阵里获取物品向量\n",
    "        v_qik = Q[iid]\n",
    "        #计算损失，dot就是两个向量的点积，点积就是想乘并求和\n",
    "        error = real_rating-np.dot(v_puk,v_qik)\n",
    "        # 0.02学习率 0.01正则化系数\n",
    "        v_puk += 0.02*(error*v_qik-0.01*v_puk)\n",
    "        v_qik += 0.02*(error*v_puk-0.01*v_qik)\n",
    "        \n",
    "        P[uid] = v_puk #更新完毕后，放回字典\n",
    "        Q[iid] = v_qik"
   ]
  },
  {
   "cell_type": "code",
   "execution_count": 12,
   "metadata": {
    "ExecuteTime": {
     "end_time": "2024-05-14T08:45:07.573214300Z",
     "start_time": "2024-05-14T08:45:07.560222100Z"
    }
   },
   "outputs": [],
   "source": [
    "def predict_2(uid,iid):\n",
    "    if uid not in users_ratings.index or iid not in items_ratings.index:\n",
    "        raise Exception(\"uid or iid not in dataset\")\n",
    "    p_u= P[uid]\n",
    "    q_i= Q[iid]\n",
    "    return np.dot(p_u,q_i)"
   ]
  },
  {
   "cell_type": "code",
   "execution_count": 13,
   "metadata": {
    "ExecuteTime": {
     "end_time": "2024-05-14T08:45:09.602686400Z",
     "start_time": "2024-05-14T08:45:09.588694300Z"
    }
   },
   "outputs": [
    {
     "data": {
      "text/plain": [
       "4.4670577"
      ]
     },
     "execution_count": 13,
     "metadata": {},
     "output_type": "execute_result"
    }
   ],
   "source": [
    "predict_2(1,1)"
   ]
  },
  {
   "cell_type": "markdown",
   "metadata": {},
   "source": [
    "# 开始实现LFM模型"
   ]
  },
  {
   "cell_type": "code",
   "execution_count": 14,
   "metadata": {
    "ExecuteTime": {
     "end_time": "2024-05-14T08:45:24.720223100Z",
     "start_time": "2024-05-14T08:45:24.708230900Z"
    }
   },
   "outputs": [],
   "source": [
    "#数据集的拆分，针对用户，进行了针对性的优化\n",
    "def data_split(data_path, x=0.8, random=False):\n",
    "    '''\n",
    "    切分数据集， 这里为了保证用户数量保持不变，将每个用户的评分数据按比例进行拆分\n",
    "    :param data_path: 数据集路径\n",
    "    :param x: 训练集的比例，如x=0.8，则0.2是测试集\n",
    "    :param random: 是否随机切分，默认False\n",
    "    :return: 用户-物品评分矩阵\n",
    "    '''\n",
    "    print(\"开始切分数据集...\")\n",
    "    # 设置要加载的数据字段的类型\n",
    "    dtype = {\"userId\": np.int32, \"movieId\": np.int32, \"rating\": np.float32}\n",
    "    # 加载数据，我们只用前三列数据，分别是用户ID，电影ID，已经用户对电影的对应评分\n",
    "    ratings = pd.read_csv(data_path, dtype=dtype, usecols=range(3))\n",
    "    testset_index = []\n",
    "    for uid in ratings.groupby('userId').any().index:#上面有例子看any().index\n",
    "        user_rating_data = ratings.where(ratings['userId'] == uid).dropna()  #相同保留，不同的nan\n",
    "        if random:\n",
    "            index = list(user_rating_data.index)  #这里是所有的\n",
    "            np.random.shuffle(index) # shuffle洗牌 打乱顺序\n",
    "            _index = round(len(user_rating_data)*x)  #拿80%作为训练集\n",
    "            testset_index += list(index[_index:])  #剩余20%作为测试集\n",
    "        else:\n",
    "            index = round(len(user_rating_data)*x)\n",
    "#             print(list(user_rating_data.index.values[index:]))\n",
    "            testset_index += list(user_rating_data.index.values[index:])\n",
    "        \n",
    "    testset = ratings.loc[testset_index]\n",
    "    trainset = ratings.drop(testset_index)\n",
    "    print('完成数据集切分....')\n",
    "    return trainset,testset"
   ]
  },
  {
   "cell_type": "code",
   "execution_count": 15,
   "metadata": {
    "ExecuteTime": {
     "end_time": "2024-05-14T08:45:29.140131300Z",
     "start_time": "2024-05-14T08:45:29.101153600Z"
    }
   },
   "outputs": [],
   "source": [
    "def accuray(predict_results, method=\"all\"):\n",
    "    '''\n",
    "    准确性指标计算方法\n",
    "    :param predict_results: 预测结果，类型为容器，每个元素是一个包含uid,iid,real_rating,pred_rating的序列\n",
    "    :param method: 指标方法，类型为字符串，rmse或mae，否则返回两者rmse和mae\n",
    "    :return:\n",
    "    '''\n",
    "\n",
    "    def rmse(predict_results):\n",
    "        '''\n",
    "        rmse评估指标\n",
    "        :param predict_results:\n",
    "        :return: rmse r是开方，m是平均，s是平方，e就是error\n",
    "        '''\n",
    "        length = 0\n",
    "        _rmse_sum = 0\n",
    "        for uid, iid, real_rating, pred_rating in predict_results:\n",
    "            length += 1\n",
    "            _rmse_sum += (pred_rating - real_rating) ** 2\n",
    "        return round(np.sqrt(_rmse_sum / length), 4)\n",
    "\n",
    "    def mae(predict_results):\n",
    "        '''\n",
    "        mae评估指标\n",
    "        :param predict_results:\n",
    "        :return: mae  mean abs error\n",
    "        '''\n",
    "        length = 0\n",
    "        _mae_sum = 0\n",
    "        for uid, iid, real_rating, pred_rating in predict_results:\n",
    "            length += 1\n",
    "            _mae_sum += abs(pred_rating - real_rating)\n",
    "        return round(_mae_sum / length, 4)\n",
    "\n",
    "    def rmse_mae(predict_results):\n",
    "        '''\n",
    "        rmse和mae评估指标\n",
    "        :param predict_results:\n",
    "        :return: rmse, mae\n",
    "        '''\n",
    "        length = 0\n",
    "        _rmse_sum = 0\n",
    "        _mae_sum = 0\n",
    "        for uid, iid, real_rating, pred_rating in predict_results:\n",
    "            length += 1\n",
    "            _rmse_sum += (pred_rating - real_rating) ** 2\n",
    "            _mae_sum += abs(pred_rating - real_rating)\n",
    "        return round(np.sqrt(_rmse_sum / length), 4), round(_mae_sum / length, 4)\n",
    "\n",
    "    if method.lower() == \"rmse\":\n",
    "        return rmse(predict_results)\n",
    "    elif method.lower() == \"mae\":\n",
    "        return mae(predict_results)\n",
    "    else:\n",
    "        return rmse_mae(predict_results)"
   ]
  },
  {
   "cell_type": "code",
   "execution_count": 16,
   "metadata": {
    "ExecuteTime": {
     "end_time": "2024-05-14T08:47:09.331965800Z",
     "start_time": "2024-05-14T08:46:23.920585800Z"
    },
    "collapsed": true
   },
   "outputs": [
    {
     "name": "stdout",
     "output_type": "stream",
     "text": [
      "iter0\n",
      "0.9850127617957817\n",
      "iter1\n",
      "0.8797646247254687\n",
      "iter2\n",
      "0.8477038146339536\n",
      "iter3\n",
      "0.8287596100040213\n",
      "iter4\n",
      "0.8129003565990706\n",
      "iter5\n",
      "0.7977270478567604\n",
      "iter6\n",
      "0.7825865417942638\n",
      "iter7\n",
      "0.7676083500853487\n",
      "iter8\n",
      "0.7531908564072282\n",
      "iter9\n",
      "0.7396532857812655\n",
      "iter10\n",
      "0.7271401864774812\n",
      "iter11\n",
      "0.7156718549243851\n",
      "iter12\n",
      "0.7052034044965055\n",
      "iter13\n",
      "0.6956611447958873\n",
      "iter14\n",
      "0.6869626590616343\n",
      "iter15\n",
      "0.6790266517126993\n",
      "iter16\n",
      "0.6717769257270204\n",
      "iter17\n",
      "0.6651436293089248\n",
      "iter18\n",
      "0.6590633747864366\n",
      "iter19\n",
      "0.6534790071199813\n"
     ]
    }
   ],
   "source": [
    "'''\n",
    "LFM Model\n",
    "'''\n",
    "import pandas as pd\n",
    "import numpy as np\n",
    "\n",
    "# 评分预测    1-5\n",
    "class LFM(object):\n",
    "\n",
    "    def __init__(self, alpha, reg_p, reg_q, number_LatentFactors=10, number_epochs=10, columns=[\"uid\", \"iid\", \"rating\"]):\n",
    "        self.alpha = alpha # 学习率\n",
    "        self.reg_p = reg_p    # P矩阵正则\n",
    "        self.reg_q = reg_q    # Q矩阵正则\n",
    "        self.number_LatentFactors = number_LatentFactors  # 隐式类别数量，就是那个k\n",
    "        self.number_epochs = number_epochs    # 最大迭代次数\n",
    "        self.columns = columns # 数据集的列名,默认为[\"uid\", \"iid\", \"rating\"]\n",
    "\n",
    "    def fit(self, dataset):\n",
    "        '''\n",
    "        fit dataset\n",
    "        :param dataset: uid, iid, rating\n",
    "        :return:\n",
    "        '''\n",
    "\n",
    "        self.dataset = pd.DataFrame(dataset)\n",
    "\n",
    "        self.users_ratings = dataset.groupby(self.columns[0]).agg([list])[[self.columns[1], self.columns[2]]]\n",
    "        self.items_ratings = dataset.groupby(self.columns[1]).agg([list])[[self.columns[0], self.columns[2]]]\n",
    "\n",
    "        self.globalMean = self.dataset[self.columns[2]].mean()\n",
    "\n",
    "        self.P, self.Q = self.sgd()\n",
    "\n",
    "    def _init_matrix(self):\n",
    "        '''\n",
    "        初始化P和Q矩阵，同时为设置0，1之间的随机值作为初始值\n",
    "        :return:\n",
    "        '''\n",
    "        # User-LF\n",
    "        P = dict(zip(\n",
    "            self.users_ratings.index,\n",
    "            np.random.rand(len(self.users_ratings), self.number_LatentFactors).astype(np.float32)\n",
    "        ))\n",
    "        # Item-LF\n",
    "        Q = dict(zip(\n",
    "            self.items_ratings.index,\n",
    "            np.random.rand(len(self.items_ratings), self.number_LatentFactors).astype(np.float32)\n",
    "        ))\n",
    "        return P, Q\n",
    "\n",
    "    def sgd(self):\n",
    "        '''\n",
    "        使用随机梯度下降，优化结果\n",
    "        :return:\n",
    "        '''\n",
    "        P, Q = self._init_matrix()\n",
    "\n",
    "        for i in range(self.number_epochs):\n",
    "            print(\"iter%d\"%i)\n",
    "            error_list = [] #为了计算均方误差\n",
    "            for uid, iid, r_ui in self.dataset.itertuples(index=False):\n",
    "                # User-LF P\n",
    "                ## Item-LF Q\n",
    "                v_pu = P[uid] #用户向量\n",
    "                v_qi = Q[iid] #物品向量\n",
    "                #np.dot(v_pu, v_qi)是两个矩阵相乘，得到预测值\n",
    "                err = np.float32(r_ui - np.dot(v_pu, v_qi))\n",
    "\t\t\t\t#这里和上面的公式是完全对应的\n",
    "                v_pu += self.alpha * (err * v_qi - self.reg_p * v_pu)\n",
    "                v_qi += self.alpha * (err * v_pu - self.reg_q * v_qi)\n",
    "                \n",
    "                P[uid] = v_pu \n",
    "                Q[iid] = v_qi\n",
    "\t\t\t\t#注释是另外一种方式，逐个训练的，没那么容易理解\n",
    "                # for k in range(self.number_of_LatentFactors):\n",
    "                #     v_pu[k] += self.alpha*(err*v_qi[k] - self.reg_p*v_pu[k])\n",
    "                #     v_qi[k] += self.alpha*(err*v_pu[k] - self.reg_q*v_qi[k])\n",
    "\t\t\t\t#把误差记录在列表中\n",
    "                error_list.append(err ** 2)\n",
    "            #打印误差的平均值\n",
    "            print(np.sqrt(np.mean(error_list)))\n",
    "        return P, Q\n",
    "\n",
    "    def predict(self, uid, iid):\n",
    "        # 如果uid或iid不在，我们使用全剧平均分作为预测结果返回\n",
    "        if uid not in self.users_ratings.index or iid not in self.items_ratings.index:\n",
    "            return self.globalMean\n",
    "\n",
    "        p_u = self.P[uid]\n",
    "        q_i = self.Q[iid]\n",
    "\n",
    "        return np.dot(p_u, q_i)\n",
    "\n",
    "    def test(self,testset):\n",
    "        '''预测测试集数据'''\n",
    "        for uid, iid, real_rating in testset.itertuples(index=False):\n",
    "            try:\n",
    "                pred_rating = self.predict(uid, iid)\n",
    "            except Exception as e:\n",
    "                print(e)\n",
    "            else:\n",
    "                yield uid, iid, real_rating, pred_rating\n",
    "\n",
    "if __name__ == '__main__':\n",
    "    dtype = [(\"userId\", np.int32), (\"movieId\", np.int32), (\"rating\", np.float32)]\n",
    "    dataset = pd.read_csv(\"../datasets/ml-latest-small/ratings.csv\", usecols=range(3), dtype=dict(dtype))\n",
    "\n",
    "    lfm = LFM(0.02, 0.01, 0.01, 10, 20, [\"userId\", \"movieId\", \"rating\"])\n",
    "    lfm.fit(dataset)\n",
    "\n",
    "    # while True:\n",
    "    #     uid = input(\"uid: \")\n",
    "    #     iid = input(\"iid: \")\n",
    "    #     print(lfm.predict(int(uid), int(iid)))\n"
   ]
  },
  {
   "cell_type": "code",
   "execution_count": 17,
   "metadata": {
    "ExecuteTime": {
     "end_time": "2024-05-14T08:48:13.573096900Z",
     "start_time": "2024-05-14T08:47:32.536598500Z"
    }
   },
   "outputs": [
    {
     "name": "stdout",
     "output_type": "stream",
     "text": [
      "开始切分数据集...\n",
      "完成数据集切分....\n",
      "iter0\n",
      "1.0063397059842487\n",
      "iter1\n",
      "0.8867495424560569\n",
      "iter2\n",
      "0.8499815207173984\n",
      "iter3\n",
      "0.8285910532670248\n",
      "iter4\n",
      "0.8112197432161979\n",
      "iter5\n",
      "0.7951065137990193\n",
      "iter6\n",
      "0.7793214182228966\n",
      "iter7\n",
      "0.7637068297668972\n",
      "iter8\n",
      "0.7484539332964452\n",
      "iter9\n",
      "0.733843879449497\n",
      "iter10\n",
      "0.7200999242587887\n",
      "iter11\n",
      "0.7073369702103457\n",
      "iter12\n",
      "0.6955758782710213\n",
      "iter13\n",
      "0.6847806054506901\n",
      "iter14\n",
      "0.6748893098996982\n",
      "iter15\n",
      "0.6658317374200634\n",
      "iter16\n",
      "0.6575366270456359\n",
      "iter17\n",
      "0.6499345055948671\n",
      "iter18\n",
      "0.6429589508517553\n",
      "iter19\n",
      "0.636547534916738\n",
      "rmse:  1.0034 mae:  0.7667\n"
     ]
    }
   ],
   "source": [
    "#计算损失的代码\n",
    "\n",
    "trainset, testset = data_split(\"../datasets/ml-latest-small/ratings.csv\", random=True)\n",
    "\n",
    "lfm = LFM(0.02, 0.01, 0.01, 10, 20, [\"userId\", \"movieId\", \"rating\"])\n",
    "lfm.fit(trainset)\n",
    "pred_results = lfm.test(testset)\n",
    "\n",
    "rmse, mae = accuray(pred_results)\n",
    "\n",
    "print(\"rmse: \", rmse, \"mae: \", mae)"
   ]
  },
  {
   "cell_type": "code",
   "execution_count": null,
   "metadata": {},
   "outputs": [],
   "source": []
  }
 ],
 "metadata": {
  "kernelspec": {
   "display_name": "Python 3",
   "language": "python",
   "name": "python3"
  },
  "language_info": {
   "codemirror_mode": {
    "name": "ipython",
    "version": 3
   },
   "file_extension": ".py",
   "mimetype": "text/x-python",
   "name": "python",
   "nbconvert_exporter": "python",
   "pygments_lexer": "ipython3",
   "version": "3.12.3"
  }
 },
 "nbformat": 4,
 "nbformat_minor": 4
}
