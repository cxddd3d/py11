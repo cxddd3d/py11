{
 "cells": [
  {
   "cell_type": "code",
   "execution_count": 1,
   "id": "initial_id",
   "metadata": {
    "collapsed": true
   },
   "outputs": [
    {
     "name": "stdout",
     "output_type": "stream",
     "text": [
      "0\n",
      "1\n",
      "2\n",
      "在循环中使用生成器:\n",
      "0 1 2 3 4 "
     ]
    }
   ],
   "source": [
    "def number_generator():\n",
    "    \"\"\"\n",
    "    一个简单的生成器，每次调用next()时返回的数字增加1\n",
    "    从0开始\n",
    "    \"\"\"\n",
    "    num = 0\n",
    "    while True:\n",
    "        yield num #yield是生成器的关键字，每次调用next()时，会返回一个值，然后暂停，等待下一次调用next()时，会从上一次暂停的地方继续执行\n",
    "        num += 1\n",
    "\n",
    "# 使用示例\n",
    "gen = number_generator()\n",
    "print(next(gen))  # 输出: 0\n",
    "print(next(gen))  # 输出: 1\n",
    "print(next(gen))  # 输出: 2\n",
    "\n",
    "# 也可以在循环中使用\n",
    "print(\"在循环中使用生成器:\")\n",
    "gen2 = number_generator()\n",
    "for i in range(5):\n",
    "    print(next(gen2), end=' ')  # 输出: 0 1 2 3 4\n"
   ]
  },
  {
   "cell_type": "code",
   "execution_count": 3,
   "id": "7f369bac89609919",
   "metadata": {},
   "outputs": [
    {
     "name": "stdout",
     "output_type": "stream",
     "text": [
      "第一次调用: 11\n",
      "第二次调用: 12\n",
      "增加5: 17\n"
     ]
    }
   ],
   "source": [
    "class Counter:\n",
    "    \"\"\"\n",
    "    一个简单的计数器类，演示__call__方法的使用\n",
    "    \"\"\"\n",
    "    def __init__(self, start=0):\n",
    "        self.count = start\n",
    "    \n",
    "    def __call__(self, increment=1):\n",
    "        \"\"\"\n",
    "        当类的实例被当作函数调用时，会执行这个方法\n",
    "        例如：counter()会执行counter.__call__()\n",
    "        \"\"\"\n",
    "        self.count += increment\n",
    "        return self.count\n",
    "\n",
    "# 创建一个计数器实例\n",
    "counter = Counter(10)\n",
    "\n",
    "# 直接调用实例，就像调用函数一样\n",
    "print(\"第一次调用:\", counter())  # 输出: 第一次调用: 11\n",
    "print(\"第二次调用:\", counter())  # 输出: 第二次调用: 12\n",
    "print(\"增加5:\", counter(5))     # 输出: 增加5: 17"
   ]
  }
 ],
 "metadata": {
  "kernelspec": {
   "display_name": "Python 3",
   "language": "python",
   "name": "python3"
  },
  "language_info": {
   "codemirror_mode": {
    "name": "ipython",
    "version": 3
   },
   "file_extension": ".py",
   "mimetype": "text/x-python",
   "name": "python",
   "nbconvert_exporter": "python",
   "pygments_lexer": "ipython3",
   "version": "3.12.3"
  }
 },
 "nbformat": 4,
 "nbformat_minor": 5
}
