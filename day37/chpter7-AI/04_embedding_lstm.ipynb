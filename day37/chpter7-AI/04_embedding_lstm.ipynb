{
  "cells": [
    {
      "cell_type": "code",
      "execution_count": 14,
      "id": "initial_id",
      "metadata": {
        "ExecuteTime": {
          "end_time": "2025-07-04T09:27:47.937291Z",
          "start_time": "2025-07-04T09:27:43.812228Z"
        },
        "collapsed": true,
        "colab": {
          "base_uri": "https://localhost:8080/"
        },
        "id": "initial_id",
        "outputId": "8dd1c274-ee33-4def-f27a-66a725dd6fa1"
      },
      "outputs": [
        {
          "output_type": "stream",
          "name": "stdout",
          "text": [
            "训练集样本数: 25000, 测试集样本数: 25000\n",
            "标签示例: [1 0 0 1 0 0 1 0 1 0]\n",
            "一个样本的词索引序列: [1, 14, 22, 16, 43, 530, 973, 1622, 1385, 65, 458, 4468, 66, 3941, 4, 173, 36, 256, 5, 25, 100, 43, 838, 112, 50, 670, 2, 9, 35, 480, 284, 5, 150, 4, 172, 112, 167, 2, 336, 385, 39, 4, 172, 4536, 1111, 17, 546, 38, 13, 447, 4, 192, 50, 16, 6, 147, 2025, 19, 14, 22, 4, 1920, 4613, 469, 4, 22, 71, 87, 12, 16, 43, 530, 38, 76, 15, 13, 1247, 4, 22, 17, 515, 17, 12, 16, 626, 18, 2, 5, 62, 386, 12, 8, 316, 8, 106, 5, 4, 2223, 5244, 16]...\n",
            "\n",
            "解码后的样本文本:\n",
            "[BOS] this film was just brilliant casting location scenery story direction everyone's really suited the part they played and you could just imagine being there robert [UNK] is an amazing actor and now the same being director [UNK] father came from the same scottish island as myself so i loved the fact there was a real connection with this film the witty remarks throughout the film were great it was just brilliant so much that i bought the film as soon as it was released for [UNK] and would recommend it to everyone to watch and the fly fishing was amazing really cried at the end it was so sad and you know what they say if you cry at a film it must have been good and this definitely was also [UNK] to the two little boy's that played the [UNK] of norman and paul they were just brilliant children are often left out of the [UNK] list i think because the stars that play them all grown up are such a big profile for the whole film but these children are amazing and should be praised for what they have done don't you think the whole story was so lovely because it was true and was someone's life after all that was shared with us all\n"
          ]
        }
      ],
      "source": [
        "import numpy as np\n",
        "import matplotlib.pyplot as plt\n",
        "import tensorflow as tf\n",
        "from tensorflow import keras\n",
        "from tensorflow.keras.datasets import imdb\n",
        "\n",
        "# 加载IMDB数据集\n",
        "# num_words=10000表示只保留最常见的10000个词，本身数据集有88582个词，如果未出现词，则用<UNK>表示\n",
        "# 参数说明：\n",
        "# - num_words: 保留的最常见词的数量\n",
        "# - skip_top: 跳过最常见的若干词（通常是停用词）\n",
        "# - maxlen: 序列最大长度\n",
        "# - index_from: 词索引的起始值，默认为3\n",
        "vocab_size=10000\n",
        "(x_train, y_train), (x_test, y_test) = imdb.load_data(num_words=vocab_size, index_from=3)\n",
        "\n",
        "print(f\"训练集样本数: {len(x_train)}, 测试集样本数: {len(x_test)}\")\n",
        "print(f\"标签示例: {y_train[:10]}\")  # 0表示负面评论，1表示正面评论\n",
        "\n",
        "# 查看一个样本的词索引序列\n",
        "print(f\"一个样本的词索引序列: {x_train[0][:100]}...\")\n",
        "\n",
        "# 获取词索引映射，返回一个字典（词典），key是词，value是索引（token）\n",
        "word_index = imdb.get_word_index()\n",
        "\n",
        "word_index = {word: idx + 3 for word, idx in word_index.items()}  # 0,1,2,3空出来做别的事,这里的idx是从1开始的,所以加3\n",
        "word_index.update({\n",
        "    \"[PAD]\": 0,  # 填充 token\n",
        "    \"[BOS]\": 1,  # begin of sentence\n",
        "    \"[UNK]\": 2,  # 未知 token\n",
        "    \"[EOS]\": 3,  # end of sentence\n",
        "})\n",
        "# 创建索引到词的映射\n",
        "reverse_word_index = {i: word for word, i in word_index.items()}\n",
        "\n",
        "# 将一个样本的索引序列转换为文本\n",
        "def decode_review(indices):\n",
        "    return ' '.join([reverse_word_index.get(i, '?') for i in indices])\n",
        "\n",
        "print(\"\\n解码后的样本文本:\")\n",
        "print(decode_review(x_train[0]))\n",
        "\n"
      ]
    },
    {
      "cell_type": "code",
      "execution_count": 15,
      "id": "7f05dccc",
      "metadata": {
        "ExecuteTime": {
          "end_time": "2025-07-04T09:27:47.941967Z",
          "start_time": "2025-07-04T09:27:47.937291Z"
        },
        "colab": {
          "base_uri": "https://localhost:8080/",
          "height": 36
        },
        "id": "7f05dccc",
        "outputId": "22295726-a496-479b-961d-04798efde073"
      },
      "outputs": [
        {
          "output_type": "execute_result",
          "data": {
            "text/plain": [
              "'the'"
            ],
            "application/vnd.google.colaboratory.intrinsic+json": {
              "type": "string"
            }
          },
          "metadata": {},
          "execution_count": 15
        }
      ],
      "source": [
        "reverse_word_index[4]"
      ]
    },
    {
      "cell_type": "code",
      "execution_count": 16,
      "id": "e0159de3",
      "metadata": {
        "ExecuteTime": {
          "end_time": "2025-07-04T09:27:47.945223Z",
          "start_time": "2025-07-04T09:27:47.941967Z"
        },
        "colab": {
          "base_uri": "https://localhost:8080/"
        },
        "id": "e0159de3",
        "outputId": "4323337b-4766-4398-d5d7-5118aeded92d"
      },
      "outputs": [
        {
          "output_type": "execute_result",
          "data": {
            "text/plain": [
              "4"
            ]
          },
          "metadata": {},
          "execution_count": 16
        }
      ],
      "source": [
        "word_index['the']"
      ]
    },
    {
      "cell_type": "code",
      "execution_count": 17,
      "id": "8c7cfacb",
      "metadata": {
        "ExecuteTime": {
          "end_time": "2025-07-04T09:27:47.949052Z",
          "start_time": "2025-07-04T09:27:47.945223Z"
        },
        "colab": {
          "base_uri": "https://localhost:8080/"
        },
        "id": "8c7cfacb",
        "outputId": "83ed57ad-0cd6-4d30-f408-41da2d8e705e"
      },
      "outputs": [
        {
          "output_type": "execute_result",
          "data": {
            "text/plain": [
              "[1,\n",
              " 194,\n",
              " 1153,\n",
              " 194,\n",
              " 8255,\n",
              " 78,\n",
              " 228,\n",
              " 5,\n",
              " 6,\n",
              " 1463,\n",
              " 4369,\n",
              " 5012,\n",
              " 134,\n",
              " 26,\n",
              " 4,\n",
              " 715,\n",
              " 8,\n",
              " 118,\n",
              " 1634,\n",
              " 14,\n",
              " 394,\n",
              " 20,\n",
              " 13,\n",
              " 119,\n",
              " 954,\n",
              " 189,\n",
              " 102,\n",
              " 5,\n",
              " 207,\n",
              " 110,\n",
              " 3103,\n",
              " 21,\n",
              " 14,\n",
              " 69,\n",
              " 188,\n",
              " 8,\n",
              " 30,\n",
              " 23,\n",
              " 7,\n",
              " 4,\n",
              " 249,\n",
              " 126,\n",
              " 93,\n",
              " 4,\n",
              " 114,\n",
              " 9,\n",
              " 2300,\n",
              " 1523,\n",
              " 5,\n",
              " 647,\n",
              " 4,\n",
              " 116,\n",
              " 9,\n",
              " 35,\n",
              " 8163,\n",
              " 4,\n",
              " 229,\n",
              " 9,\n",
              " 340,\n",
              " 1322,\n",
              " 4,\n",
              " 118,\n",
              " 9,\n",
              " 4,\n",
              " 130,\n",
              " 4901,\n",
              " 19,\n",
              " 4,\n",
              " 1002,\n",
              " 5,\n",
              " 89,\n",
              " 29,\n",
              " 952,\n",
              " 46,\n",
              " 37,\n",
              " 4,\n",
              " 455,\n",
              " 9,\n",
              " 45,\n",
              " 43,\n",
              " 38,\n",
              " 1543,\n",
              " 1905,\n",
              " 398,\n",
              " 4,\n",
              " 1649,\n",
              " 26,\n",
              " 6853,\n",
              " 5,\n",
              " 163,\n",
              " 11,\n",
              " 3215,\n",
              " 2,\n",
              " 4,\n",
              " 1153,\n",
              " 9,\n",
              " 194,\n",
              " 775,\n",
              " 7,\n",
              " 8255,\n",
              " 2,\n",
              " 349,\n",
              " 2637,\n",
              " 148,\n",
              " 605,\n",
              " 2,\n",
              " 8003,\n",
              " 15,\n",
              " 123,\n",
              " 125,\n",
              " 68,\n",
              " 2,\n",
              " 6853,\n",
              " 15,\n",
              " 349,\n",
              " 165,\n",
              " 4362,\n",
              " 98,\n",
              " 5,\n",
              " 4,\n",
              " 228,\n",
              " 9,\n",
              " 43,\n",
              " 2,\n",
              " 1157,\n",
              " 15,\n",
              " 299,\n",
              " 120,\n",
              " 5,\n",
              " 120,\n",
              " 174,\n",
              " 11,\n",
              " 220,\n",
              " 175,\n",
              " 136,\n",
              " 50,\n",
              " 9,\n",
              " 4373,\n",
              " 228,\n",
              " 8255,\n",
              " 5,\n",
              " 2,\n",
              " 656,\n",
              " 245,\n",
              " 2350,\n",
              " 5,\n",
              " 4,\n",
              " 9837,\n",
              " 131,\n",
              " 152,\n",
              " 491,\n",
              " 18,\n",
              " 2,\n",
              " 32,\n",
              " 7464,\n",
              " 1212,\n",
              " 14,\n",
              " 9,\n",
              " 6,\n",
              " 371,\n",
              " 78,\n",
              " 22,\n",
              " 625,\n",
              " 64,\n",
              " 1382,\n",
              " 9,\n",
              " 8,\n",
              " 168,\n",
              " 145,\n",
              " 23,\n",
              " 4,\n",
              " 1690,\n",
              " 15,\n",
              " 16,\n",
              " 4,\n",
              " 1355,\n",
              " 5,\n",
              " 28,\n",
              " 6,\n",
              " 52,\n",
              " 154,\n",
              " 462,\n",
              " 33,\n",
              " 89,\n",
              " 78,\n",
              " 285,\n",
              " 16,\n",
              " 145,\n",
              " 95]"
            ]
          },
          "metadata": {},
          "execution_count": 17
        }
      ],
      "source": [
        "x_train[1]"
      ]
    },
    {
      "cell_type": "code",
      "execution_count": 18,
      "id": "3ab8ed72",
      "metadata": {
        "ExecuteTime": {
          "end_time": "2025-07-04T09:27:47.954Z",
          "start_time": "2025-07-04T09:27:47.951056Z"
        },
        "colab": {
          "base_uri": "https://localhost:8080/"
        },
        "id": "3ab8ed72",
        "outputId": "d37b765e-9bfe-46de-c5a1-d8c6c895d836"
      },
      "outputs": [
        {
          "output_type": "stream",
          "name": "stdout",
          "text": [
            "验证集样本数: 10000\n",
            "测试集样本数: 15000\n",
            "验证集标签示例: [0 1 1 0 1 1 1 0 0 1]\n",
            "测试集标签示例: [1 1 0 1 0 0 1 0 1 1]\n"
          ]
        }
      ],
      "source": [
        "# 将测试集划分为验证集和测试集\n",
        "# 从原始测试集中取前10000个样本作为验证集\n",
        "x_val = x_test[:10000]\n",
        "y_val = y_test[:10000]\n",
        "\n",
        "# 剩余的15000个样本作为测试集\n",
        "x_test = x_test[10000:]\n",
        "y_test = y_test[10000:]\n",
        "\n",
        "print(f\"验证集样本数: {len(x_val)}\")\n",
        "print(f\"测试集样本数: {len(x_test)}\")\n",
        "print(f\"验证集标签示例: {y_val[:10]}\")\n",
        "print(f\"测试集标签示例: {y_test[:10]}\")\n"
      ]
    },
    {
      "cell_type": "code",
      "execution_count": 19,
      "id": "272d907e",
      "metadata": {
        "ExecuteTime": {
          "end_time": "2025-07-04T09:27:47.957402Z",
          "start_time": "2025-07-04T09:27:47.954Z"
        },
        "colab": {
          "base_uri": "https://localhost:8080/"
        },
        "id": "272d907e",
        "outputId": "593c8c6c-bb1d-4b3e-9766-e1ebc1ede5af"
      },
      "outputs": [
        {
          "output_type": "execute_result",
          "data": {
            "text/plain": [
              "[['hello', 'world'],\n",
              " ['tokenize', 'text', 'datas', 'with', 'batch'],\n",
              " ['this', 'is', 'a', 'test']]"
            ]
          },
          "metadata": {},
          "execution_count": 19
        }
      ],
      "source": [
        "raw_text = [\"hello world\".split(), \"tokenize text datas with batch\".split(), \"this is a test\".split()]\n",
        "raw_text"
      ]
    },
    {
      "cell_type": "markdown",
      "id": "f2df0a9f",
      "metadata": {
        "id": "f2df0a9f"
      },
      "source": [
        "# 通过直方图来观察样本长度分布"
      ]
    },
    {
      "cell_type": "code",
      "execution_count": 20,
      "id": "881921a0",
      "metadata": {
        "ExecuteTime": {
          "end_time": "2025-07-04T09:27:48.081569Z",
          "start_time": "2025-07-04T09:27:47.957402Z"
        },
        "colab": {
          "base_uri": "https://localhost:8080/",
          "height": 511
        },
        "id": "881921a0",
        "outputId": "1a39dc11-93e2-4b91-ca6a-08029abe0d6c"
      },
      "outputs": [
        {
          "output_type": "display_data",
          "data": {
            "text/plain": [
              "<Figure size 1000x600 with 1 Axes>"
            ],
            "image/png": "[encoded data removed]"
          },
          "metadata": {}
        }
      ],
      "source": [
        "import matplotlib.pyplot as plt\n",
        "\n",
        "# 计算每个样本的长度\n",
        "train_lengths = [len(x) for x in x_train]\n",
        "\n",
        "# 绘制直方图\n",
        "plt.figure(figsize=(10, 6))\n",
        "plt.hist(train_lengths, bins=50, alpha=0.7, color='blue')\n",
        "plt.xlabel('Sample Length')\n",
        "plt.ylabel('Sample Count')\n",
        "plt.title('Training Set Sample Length Distribution')\n",
        "plt.grid(True, linestyle='--', alpha=0.7)\n",
        "\n",
        "# 计算一些统计信息\n",
        "max_length = max(train_lengths)\n",
        "min_length = min(train_lengths)\n",
        "avg_length = 500 #自定义了一个长度\n",
        "\n",
        "# 在图上显示统计信息\n",
        "plt.axvline(x=avg_length, color='r', linestyle='--', label=f'Average Length: {avg_length:.1f}')\n",
        "plt.text(max_length*0.7, plt.ylim()[1]*0.9, f'Max Length: {max_length}')\n",
        "plt.text(max_length*0.7, plt.ylim()[1]*0.85, f'Min Length: {min_length}')\n",
        "plt.text(max_length*0.7, plt.ylim()[1]*0.8, f'Average Length: {avg_length:.1f}')\n",
        "plt.legend()\n",
        "\n",
        "plt.show()\n"
      ]
    },
    {
      "cell_type": "markdown",
      "id": "72202119",
      "metadata": {
        "id": "72202119"
      },
      "source": [
        "# Tokenizer"
      ]
    },
    {
      "cell_type": "code",
      "execution_count": 21,
      "id": "1f1980b6",
      "metadata": {
        "ExecuteTime": {
          "end_time": "2025-07-04T09:27:48.087537Z",
          "start_time": "2025-07-04T09:27:48.081569Z"
        },
        "colab": {
          "base_uri": "https://localhost:8080/"
        },
        "id": "1f1980b6",
        "outputId": "35fc623e-931f-439f-97e4-ec24a252d1da"
      },
      "outputs": [
        {
          "output_type": "stream",
          "name": "stdout",
          "text": [
            "编码后的序列:\n",
            "[[    1  4825   182     3     0     0     0]\n",
            " [    1     2  3004     2    19 19233     3]\n",
            " [    1    14     9     6  2181     3     0]]\n",
            "\n",
            "解码后的文本:\n",
            "['[BOS] hello world [EOS]', '[BOS] [UNK] text [UNK] with batch [EOS]', '[BOS] this is a test [EOS]']\n"
          ]
        }
      ],
      "source": [
        "import numpy as np\n",
        "\n",
        "class Tokenizer:\n",
        "    def __init__(self, word_index, reverse_word_index):\n",
        "        self.word_index = word_index\n",
        "        self.reverse_word_index = reverse_word_index\n",
        "        self.pad_token = 0  # <PAD>\n",
        "        self.start_token = 1  # <START>\n",
        "        self.unk_token = 2  # <UNK>\n",
        "        self.end_token = 3  # <END>\n",
        "\n",
        "    def encode(self, texts, maxlen=None, padding='post', truncating='post', add_start=False, add_end=False):\n",
        "        \"\"\"\n",
        "        将文本序列转换为数字序列\n",
        "\n",
        "        参数:\n",
        "        - texts: 文本列表，每个元素是一个词列表\n",
        "        - maxlen: 序列最大长度，如果为None则使用最长序列的长度\n",
        "        - padding: 'pre'或'post'，表示在序列前或后填充\n",
        "        - truncating: 'pre'或'post'，表示从序列前或后截断\n",
        "        - add_start: 是否添加开始标记\n",
        "        - add_end: 是否添加结束标记\n",
        "\n",
        "        返回:\n",
        "        - 编码后的序列\n",
        "        \"\"\"\n",
        "        result = [] #编码后的序列，存储整个batch的序列\n",
        "\n",
        "        # 计算需要的序列长度\n",
        "        batch_max_len = max([len(seq) for seq in texts]) #batch内最长序列长度\n",
        "        if add_start:\n",
        "            batch_max_len += 1\n",
        "        if add_end:\n",
        "            batch_max_len += 1\n",
        "\n",
        "        # 如果maxlen为None或者batch内最大长度小于maxlen，使用batch内最大长度\n",
        "        if maxlen is None or batch_max_len < maxlen:\n",
        "            maxlen = batch_max_len\n",
        "\n",
        "        for text in texts:\n",
        "            sequence = []\n",
        "\n",
        "            # 添加开始标记\n",
        "            if add_start:\n",
        "                sequence.append(self.start_token)\n",
        "\n",
        "            # 将词转换为索引\n",
        "            for word in text:\n",
        "                sequence.append(self.word_index.get(word, self.unk_token))\n",
        "\n",
        "            # 添加结束标记\n",
        "            if add_end:\n",
        "                sequence.append(self.end_token)\n",
        "\n",
        "            # 截断序列\n",
        "            if len(sequence) > maxlen:\n",
        "                if truncating == 'pre':\n",
        "                    sequence = sequence[-maxlen:]\n",
        "                else:  # truncating == 'post'\n",
        "                    sequence = sequence[:maxlen]\n",
        "\n",
        "            # 填充序列\n",
        "            pad_length = maxlen - len(sequence)\n",
        "            if pad_length > 0:\n",
        "                if padding == 'pre':\n",
        "                    sequence = [self.pad_token] * pad_length + sequence\n",
        "                else:  # padding == 'post'\n",
        "                    sequence = sequence + [self.pad_token] * pad_length\n",
        "\n",
        "            result.append(sequence)\n",
        "\n",
        "        return np.array(result)\n",
        "\n",
        "    def decode(self, sequences):\n",
        "        \"\"\"\n",
        "        将数字序列转换回文本\n",
        "\n",
        "        参数:\n",
        "        - sequences: 数字序列列表\n",
        "\n",
        "        返回:\n",
        "        - 解码后的文本列表\n",
        "        \"\"\"\n",
        "        result = []\n",
        "        for sequence in sequences:\n",
        "            words = []\n",
        "            for idx in sequence:\n",
        "                if idx == self.pad_token:\n",
        "                    continue  # 跳过填充标记\n",
        "                word = self.reverse_word_index.get(idx, '?')\n",
        "                # if word not in ['[PAD]', '[BOS]', '[UNK]', '[EOS]']:\n",
        "                words.append(word)\n",
        "            result.append(' '.join(words))\n",
        "        return result\n",
        "\n",
        "# 创建Tokenizer实例\n",
        "tokenizer = Tokenizer(word_index, reverse_word_index)\n",
        "\n",
        "# 测试编码\n",
        "encoded = tokenizer.encode(raw_text, maxlen=500, padding='post', add_start=True, add_end=True)\n",
        "print(\"编码后的序列:\")\n",
        "print(encoded)\n",
        "\n",
        "# 测试解码\n",
        "decoded = tokenizer.decode(encoded)\n",
        "print(\"\\n解码后的文本:\")\n",
        "print(decoded)\n"
      ]
    },
    {
      "cell_type": "markdown",
      "id": "1f2cddf5",
      "metadata": {
        "id": "1f2cddf5"
      },
      "source": [
        "# Dataset和DataLoader"
      ]
    },
    {
      "cell_type": "code",
      "execution_count": 22,
      "id": "c207da73",
      "metadata": {
        "ExecuteTime": {
          "end_time": "2025-07-04T09:27:50.018224Z",
          "start_time": "2025-07-04T09:27:48.087537Z"
        },
        "colab": {
          "base_uri": "https://localhost:8080/"
        },
        "id": "c207da73",
        "outputId": "ccfb4005-7e4f-4185-bbda-449c7382a5f5"
      },
      "outputs": [
        {
          "output_type": "stream",
          "name": "stdout",
          "text": [
            "训练集大小: 25000\n",
            "验证集大小: 10000\n",
            "测试集大小: 15000\n"
          ]
        },
        {
          "output_type": "execute_result",
          "data": {
            "text/plain": [
              "([\"[BOS] this film was just brilliant casting location scenery story direction everyone's really suited the part they played and you could just imagine being there robert [UNK] is an amazing actor and now the same being director [UNK] father came from the same scottish island as myself so i loved the fact there was a real connection with this film the witty remarks throughout the film were great it was just brilliant so much that i bought the film as soon as it was released for [UNK] and would recommend it to everyone to watch and the fly fishing was amazing really cried at the end it was so sad and you know what they say if you cry at a film it must have been good and this definitely was also [UNK] to the two little boy's that played the [UNK] of norman and paul they were just brilliant children are often left out of the [UNK] list i think because the stars that play them all grown up are such a big profile for the whole film but these children are amazing and should be praised for what they have done don't you think the whole story was so lovely because it was true and was someone's life after all that was shared with us all\",\n",
              "  \"[BOS] big hair big boobs bad music and a giant safety pin these are the words to best describe this terrible movie i love cheesy horror movies and i've seen hundreds but this had got to be on of the worst ever made the plot is paper thin and ridiculous the acting is an abomination the script is completely laughable the best is the end showdown with the cop and how he worked out who the killer is it's just so damn terribly written the clothes are sickening and funny in equal [UNK] the hair is big lots of boobs [UNK] men wear those cut [UNK] shirts that show off their [UNK] sickening that men actually wore them and the music is just [UNK] trash that plays over and over again in almost every scene there is trashy music boobs and [UNK] taking away bodies and the gym still doesn't close for [UNK] all joking aside this is a truly bad film whose only charm is to look back on the disaster that was the 80's and have a good old laugh at how bad everything was back then\",\n",
              "  \"[BOS] this has to be one of the worst films of the 1990s when my friends i were watching this film being the target audience it was aimed at we just sat watched the first half an hour with our jaws touching the floor at how bad it really was the rest of the time everyone else in the theatre just started talking to each other leaving or generally crying into their popcorn that they actually paid money they had [UNK] working to watch this feeble excuse for a film it must have looked like a great idea on paper but on film it looks like no one in the film has a clue what is going on crap acting crap costumes i can't get across how [UNK] this is to watch save yourself an hour a bit of your life\"],\n",
              " array([1, 0, 0]))"
            ]
          },
          "metadata": {},
          "execution_count": 22
        }
      ],
      "source": [
        "import torch\n",
        "from torch.utils.data import Dataset, DataLoader, random_split\n",
        "\n",
        "class TextDataset(Dataset):\n",
        "    \"\"\"\n",
        "    文本数据集类\n",
        "    \"\"\"\n",
        "    def __init__(self, sequences, tokenizer, labels=None):\n",
        "        \"\"\"\n",
        "        初始化文本数据集\n",
        "\n",
        "        参数:\n",
        "        - sequences: 编码后的序列\n",
        "        - tokenizer: 分词器实例\n",
        "        - labels: 标签（可选）\n",
        "        \"\"\"\n",
        "        # 将编码序列解码为文本\n",
        "        self.texts = tokenizer.decode(sequences)\n",
        "        self.tokenizer = tokenizer\n",
        "        self.labels = labels\n",
        "\n",
        "    def __len__(self):\n",
        "        \"\"\"\n",
        "        返回数据集大小\n",
        "        \"\"\"\n",
        "        return len(self.texts)\n",
        "\n",
        "    def __getitem__(self, idx):\n",
        "        \"\"\"\n",
        "        获取指定索引的样本\n",
        "\n",
        "        参数:\n",
        "        - idx: 索引\n",
        "\n",
        "        返回:\n",
        "        - 样本（文本和标签，如果有的话）\n",
        "        \"\"\"\n",
        "        if self.labels is not None:\n",
        "            return self.texts[idx], self.labels[idx]\n",
        "        return self.texts[idx]\n",
        "\n",
        "def collate_fn(batch, tokenizer, maxlen=500):\n",
        "    \"\"\"\n",
        "    自定义批处理函数，用于在加载数据时进行编码\n",
        "\n",
        "    参数:\n",
        "    - batch: 批次数据\n",
        "    - tokenizer: 分词器实例\n",
        "    - maxlen: 最大序列长度\n",
        "\n",
        "    返回:\n",
        "    - 编码后的序列和标签（如果有的话）\n",
        "    \"\"\"\n",
        "    if isinstance(batch[0], tuple):\n",
        "        # print(batch)\n",
        "        # 如果批次包含标签\n",
        "        text_list = [item[0].split() for item in batch]  #batch是128样本，每个样本类型是元组，第一个元素是文本，第二个元素是标签\n",
        "        label_list = [item[1] for item in batch]\n",
        "        # print(text_list)\n",
        "        encoded = tokenizer.encode(text_list, maxlen=maxlen, padding='pre', add_start=False, add_end=True)\n",
        "        sequences = torch.tensor(encoded, dtype=torch.long)\n",
        "        labels = torch.tensor(label_list, dtype=torch.float).view(-1, 1)  # 将标签reshape为二维 [batch_size, 1]\n",
        "        return sequences, labels\n",
        "    else:\n",
        "        # 如果批次只有文本\n",
        "        text_list = [item.split() for item in batch]\n",
        "        encoded = tokenizer.encode(text_list, maxlen=maxlen, padding='pre', add_start=False, add_end=True)\n",
        "        sequences = torch.tensor(encoded, dtype=torch.long)\n",
        "        return sequences\n",
        "\n",
        "# 示例：创建数据集和数据加载器\n",
        "# 假设我们有训练、验证和测试数据\n",
        "# 创建对应的数据集\n",
        "train_dataset = TextDataset(x_train, tokenizer, y_train)\n",
        "val_dataset = TextDataset(x_val, tokenizer, y_val)\n",
        "test_dataset = TextDataset(x_test, tokenizer, y_test)\n",
        "\n",
        "# 创建数据加载器\n",
        "batch_size = 128\n",
        "train_dataloader = DataLoader(\n",
        "    train_dataset,\n",
        "    batch_size=batch_size,\n",
        "    shuffle=True,\n",
        "    collate_fn=lambda batch: collate_fn(batch, tokenizer)\n",
        ")\n",
        "val_dataloader = DataLoader(\n",
        "    val_dataset,\n",
        "    batch_size=batch_size,\n",
        "    shuffle=False,\n",
        "    collate_fn=lambda batch: collate_fn(batch, tokenizer)\n",
        ")\n",
        "test_dataloader = DataLoader(\n",
        "    test_dataset,\n",
        "    batch_size=batch_size,\n",
        "    shuffle=False,\n",
        "    collate_fn=lambda batch: collate_fn(batch, tokenizer)\n",
        ")\n",
        "\n",
        "# 打印数据集和数据加载器信息\n",
        "print(f\"训练集大小: {len(train_dataset)}\")\n",
        "print(f\"验证集大小: {len(val_dataset)}\")\n",
        "print(f\"测试集大小: {len(test_dataset)}\")\n",
        "\n",
        "train_dataset[0:3]\n"
      ]
    },
    {
      "cell_type": "code",
      "execution_count": 23,
      "id": "c581e1ec",
      "metadata": {
        "ExecuteTime": {
          "end_time": "2025-07-04T09:27:50.034502Z",
          "start_time": "2025-07-04T09:27:50.018224Z"
        },
        "colab": {
          "base_uri": "https://localhost:8080/"
        },
        "id": "c581e1ec",
        "outputId": "ddc6746d-623c-4daf-b572-835c2996a324"
      },
      "outputs": [
        {
          "output_type": "stream",
          "name": "stdout",
          "text": [
            "\n",
            "训练数据加载器示例:\n",
            "批次 1:\n",
            "序列形状: torch.Size([128, 500])\n",
            "标签形状: torch.Size([128, 1])\n"
          ]
        },
        {
          "output_type": "execute_result",
          "data": {
            "text/plain": [
              "tensor([[   0,    0,    0,  ...,  106,   12,    3],\n",
              "        [   0,    0,    0,  ...,  198, 3591,    3],\n",
              "        [   0,    0,    0,  ...,   14, 1244,    3],\n",
              "        ...,\n",
              "        [   0,    0,    0,  ...,   57,    2,    3],\n",
              "        [   0,    0,    0,  ...,   14,   22,    3],\n",
              "        [   0,    0,    0,  ...,  636, 2818,    3]])"
            ]
          },
          "metadata": {},
          "execution_count": 23
        }
      ],
      "source": [
        "# 示例：遍历训练数据加载器\n",
        "print(\"\\n训练数据加载器示例:\")\n",
        "for i, (batch_sequences, batch_labels) in enumerate(train_dataloader):\n",
        "    print(f\"批次 {i+1}:\")\n",
        "    print(f\"序列形状: {batch_sequences.shape}\")\n",
        "    print(f\"标签形状: {batch_labels.shape}\")\n",
        "    if i == 0:  # 只打印第一个批次\n",
        "        break\n",
        "batch_sequences"
      ]
    },
    {
      "cell_type": "markdown",
      "id": "3fc9a057",
      "metadata": {
        "id": "3fc9a057"
      },
      "source": [
        "# 搭建模型"
      ]
    },
    {
      "cell_type": "code",
      "execution_count": 24,
      "id": "d445876c",
      "metadata": {
        "ExecuteTime": {
          "end_time": "2025-07-04T09:27:50.038185Z",
          "start_time": "2025-07-04T09:27:50.034502Z"
        },
        "colab": {
          "base_uri": "https://localhost:8080/"
        },
        "id": "d445876c",
        "outputId": "cc628930-546c-44bd-92af-7fde74a8f766"
      },
      "outputs": [
        {
          "output_type": "execute_result",
          "data": {
            "text/plain": [
              "torch.Size([1, 64, 1])"
            ]
          },
          "metadata": {},
          "execution_count": 24
        }
      ],
      "source": [
        "from torch import nn\n",
        "m = nn.AdaptiveAvgPool1d(1)  #输出形状为[batch_size, embedding_dim, 1],把最后一个维度size变成1\n",
        "input = torch.randn(1, 64, 8)\n",
        "output = m(input)\n",
        "output.shape"
      ]
    },
    {
      "cell_type": "code",
      "execution_count": 25,
      "id": "9693b445",
      "metadata": {
        "ExecuteTime": {
          "end_time": "2025-07-04T09:27:50.044500Z",
          "start_time": "2025-07-04T09:27:50.038185Z"
        },
        "colab": {
          "base_uri": "https://localhost:8080/"
        },
        "id": "9693b445",
        "outputId": "c3ef5819-a3f7-41a7-d32d-5e07cedd102d"
      },
      "outputs": [
        {
          "output_type": "stream",
          "name": "stdout",
          "text": [
            "模型结构:\n",
            "SentimentClassifier(\n",
            "  (embedding): Embedding(10000, 16)\n",
            "  (lstm): LSTM(16, 128, batch_first=True)\n",
            "  (fc1): Linear(in_features=128, out_features=128, bias=True)\n",
            "  (fc): Linear(in_features=128, out_features=1, bias=True)\n",
            "  (dropout): Dropout(p=0.3, inplace=False)\n",
            ")\n",
            "单层单向lstm模型参数数量: 251,393\n"
          ]
        }
      ],
      "source": [
        "import torch\n",
        "import torch.nn as nn\n",
        "import torch.nn.functional as F\n",
        "\n",
        "class SentimentClassifier(nn.Module):\n",
        "    def __init__(self, vocab_size, embedding_dim=16, hidden_dim=128, output_dim=1,\n",
        "                 lstm_layers=1, bidirectional=False, dropout_rate=0.3):\n",
        "        super().__init__()\n",
        "\n",
        "        # 嵌入层\n",
        "        self.embedding = nn.Embedding(vocab_size, embedding_dim)\n",
        "\n",
        "        # 设置lstm层\n",
        "        self.lstm = nn.LSTM(embedding_dim, hidden_dim,\n",
        "                         num_layers=lstm_layers, # 层数\n",
        "                         bidirectional=bidirectional, # 是否双向\n",
        "                         batch_first=True,\n",
        "                         dropout=dropout_rate if lstm_layers > 1 else 0)\n",
        "\n",
        "        # 确定输出维度\n",
        "        fc_input_dim = hidden_dim * 2 if bidirectional else hidden_dim\n",
        "\n",
        "        # 增加一个fc层，输入是fc_input_dim，输出是hidden_dim\n",
        "        self.fc1 = nn.Linear(fc_input_dim, hidden_dim)\n",
        "\n",
        "        # 全连接层\n",
        "        self.fc = nn.Linear(hidden_dim, output_dim)\n",
        "\n",
        "        # Dropout层，防止过拟合\n",
        "        self.dropout = nn.Dropout(dropout_rate)\n",
        "\n",
        "    def forward(self, x):\n",
        "        # x形状: [batch_size, seq_len]\n",
        "\n",
        "        # 通过嵌入层\n",
        "        embedded = self.embedding(x)  # [batch_size, seq_len, embedding_dim]\n",
        "\n",
        "        # 通过lstm层\n",
        "        outputs, hidden = self.lstm(embedded)\n",
        "\n",
        "        # print(f'outputs.shape: {outputs.shape}')\n",
        "        # print(f'hidden.shape: {hidden.shape}')\n",
        "\n",
        "        # 取最后一个时间步的输出 (这也是为什么要设置padding_first=True的原因)\n",
        "        x = outputs[:, -1, :]\n",
        "        # print(f'hidden: {hidden}') #第一个张量是h, 第二个张量是c\n",
        "        # print(f'len(hidden): {len(hidden)}')\n",
        "        # #输出h，c的形状\n",
        "        # print(f'h是 hidden[0].shape: {hidden[0].shape}')\n",
        "        # print(f'c是 hidden[1].shape: {hidden[1].shape}')\n",
        "        # # # 打印一下形状，观察数据\n",
        "        # print(f'x.shape: {x.shape}')\n",
        "\n",
        "        # hidden_reshaped = hidden[0].squeeze(0)\n",
        "\n",
        "        # # # 判断两个张量是否相等\n",
        "        # is_equal = torch.allclose(x, hidden_reshaped)\n",
        "        # print(f'是否相等: {is_equal}')\n",
        "\n",
        "        # 应用dropout\n",
        "        x = self.dropout(x)\n",
        "        x = self.fc1(x)\n",
        "        x = self.fc(x)\n",
        "\n",
        "        return x\n",
        "\n",
        "# 初始化模型\n",
        "model = SentimentClassifier(vocab_size, lstm_layers=1, bidirectional=False)\n",
        "print(f\"模型结构:\\n{model}\")\n",
        "\n",
        "# 打印模型参数数量\n",
        "def count_parameters(model):\n",
        "    return sum(p.numel() for p in model.parameters() if p.requires_grad)\n",
        "\n",
        "print(f\"单层单向lstm模型参数数量: {count_parameters(model):,}\")\n"
      ]
    },
    {
      "cell_type": "code",
      "execution_count": 26,
      "id": "19962cc7",
      "metadata": {
        "ExecuteTime": {
          "end_time": "2025-07-04T09:27:50.161541Z",
          "start_time": "2025-07-04T09:27:50.056152Z"
        },
        "colab": {
          "base_uri": "https://localhost:8080/"
        },
        "id": "19962cc7",
        "outputId": "b4e2a939-4791-4f64-fdfb-be904b977b85"
      },
      "outputs": [
        {
          "output_type": "stream",
          "name": "stdout",
          "text": [
            "使用设备: cuda\n",
            "输入形状: torch.Size([128, 500])\n",
            "输出形状: torch.Size([128, 1])\n"
          ]
        }
      ],
      "source": [
        "# 设置设备\n",
        "device = torch.device('cuda' if torch.cuda.is_available() else 'cpu')\n",
        "print(f\"使用设备: {device}\")\n",
        "# 验证模型的前向计算\n",
        "# 从训练数据中获取一个批次的样本\n",
        "sample_batch, sample_labels = next(iter(train_dataloader))\n",
        "print(f\"输入形状: {sample_batch.shape}\")\n",
        "\n",
        "# 将样本移动到设备上\n",
        "# sample_batch = sample_batch.to(device)\n",
        "\n",
        "# 进行前向计算\n",
        "with torch.no_grad():\n",
        "    outputs = model(sample_batch)\n",
        "    print(f\"输出形状: {outputs.shape}\")\n",
        "\n"
      ]
    },
    {
      "cell_type": "code",
      "execution_count": 27,
      "id": "f9f4f8f8",
      "metadata": {
        "ExecuteTime": {
          "end_time": "2025-07-04T09:27:50.047400Z",
          "start_time": "2025-07-04T09:27:50.044500Z"
        },
        "colab": {
          "base_uri": "https://localhost:8080/"
        },
        "id": "f9f4f8f8",
        "outputId": "f10f0a9d-e7c0-4899-c6ed-6bf0a412bfc6"
      },
      "outputs": [
        {
          "output_type": "stream",
          "name": "stdout",
          "text": [
            "模型各层参数尺寸:\n",
            "embedding.weight: torch.Size([10000, 16])\n",
            "lstm.weight_ih_l0: torch.Size([512, 16])\n",
            "lstm.weight_hh_l0: torch.Size([512, 128])\n",
            "lstm.bias_ih_l0: torch.Size([512])\n",
            "lstm.bias_hh_l0: torch.Size([512])\n",
            "fc1.weight: torch.Size([128, 128])\n",
            "fc1.bias: torch.Size([128])\n",
            "fc.weight: torch.Size([1, 128])\n",
            "fc.bias: torch.Size([1])\n",
            "\n",
            "LSTM层详细信息:\n",
            "- weight_ih_l0: torch.Size([512, 16])\n",
            "- weight_hh_l0: torch.Size([512, 128])\n",
            "- bias_ih_l0: torch.Size([512])\n",
            "- bias_hh_l0: torch.Size([512])\n"
          ]
        }
      ],
      "source": [
        "# 定义一个函数来输出模型每层的参数尺寸\n",
        "def print_model_layers_shapes(model):\n",
        "    print(\"模型各层参数尺寸:\")\n",
        "    for name, param in model.named_parameters():\n",
        "        print(f\"{name}: {param.shape}\")\n",
        "\n",
        "# 对当前模型进行参数尺寸分析\n",
        "print_model_layers_shapes(model)\n",
        "\n",
        "\n",
        "# 对lstm层参数尺寸的详细解释\n",
        "print(f\"\\nLSTM层详细信息:\")\n",
        "for name, param in model.lstm.named_parameters():\n",
        "    print(f\"- {name}: {param.shape}\")\n"
      ]
    },
    {
      "cell_type": "code",
      "execution_count": 28,
      "id": "79e9ab6d",
      "metadata": {
        "colab": {
          "base_uri": "https://localhost:8080/"
        },
        "id": "79e9ab6d",
        "outputId": "136340c1-3534-4307-e223-56c64d1203db"
      },
      "outputs": [
        {
          "output_type": "stream",
          "name": "stdout",
          "text": [
            "双层单向lstm模型结构:\n",
            "SentimentClassifier(\n",
            "  (embedding): Embedding(10000, 16)\n",
            "  (lstm): LSTM(16, 128, num_layers=2, batch_first=True, dropout=0.3)\n",
            "  (fc1): Linear(in_features=128, out_features=128, bias=True)\n",
            "  (fc): Linear(in_features=128, out_features=1, bias=True)\n",
            "  (dropout): Dropout(p=0.3, inplace=False)\n",
            ")\n",
            "双层单向lstm模型参数数量: 383,489\n",
            "\n",
            "双层单向lstm层详细信息:\n",
            "- weight_ih_l0: torch.Size([512, 16])\n",
            "- weight_hh_l0: torch.Size([512, 128])\n",
            "- bias_ih_l0: torch.Size([512])\n",
            "- bias_hh_l0: torch.Size([512])\n",
            "- weight_ih_l1: torch.Size([512, 128])\n",
            "- weight_hh_l1: torch.Size([512, 128])\n",
            "- bias_ih_l1: torch.Size([512])\n",
            "- bias_hh_l1: torch.Size([512])\n"
          ]
        }
      ],
      "source": [
        "# 初始化双层单向lstm模型\n",
        "two_layer_model = SentimentClassifier(vocab_size, lstm_layers=2, bidirectional=False)\n",
        "print(f\"双层单向lstm模型结构:\\n{two_layer_model}\")\n",
        "\n",
        "# 计算双层单向lstm模型参数数量\n",
        "print(f\"双层单向lstm模型参数数量: {count_parameters(two_layer_model):,}\")\n",
        "\n",
        "# 对双层单向lstm层参数尺寸的详细解释\n",
        "print(f\"\\n双层单向lstm层详细信息:\")\n",
        "for name, param in two_layer_model.lstm.named_parameters():\n",
        "    print(f\"- {name}: {param.shape}\")\n",
        "\n"
      ]
    },
    {
      "cell_type": "code",
      "execution_count": 29,
      "id": "b377aafe",
      "metadata": {
        "colab": {
          "base_uri": "https://localhost:8080/"
        },
        "id": "b377aafe",
        "outputId": "6cd8377e-c7d9-4e2b-bc97-c4c74a6df6ac"
      },
      "outputs": [
        {
          "output_type": "stream",
          "name": "stdout",
          "text": [
            "双向lstm模型结构:\n",
            "SentimentClassifier(\n",
            "  (embedding): Embedding(10000, 16)\n",
            "  (lstm): LSTM(16, 128, batch_first=True, bidirectional=True)\n",
            "  (fc1): Linear(in_features=256, out_features=128, bias=True)\n",
            "  (fc): Linear(in_features=128, out_features=1, bias=True)\n",
            "  (dropout): Dropout(p=0.3, inplace=False)\n",
            ")\n",
            "双层双向lstm模型参数数量: 342,529\n",
            "\n",
            "双向lstm层详细信息:\n",
            "- weight_ih_l0: torch.Size([512, 16])\n",
            "- weight_hh_l0: torch.Size([512, 128])\n",
            "- bias_ih_l0: torch.Size([512])\n",
            "- bias_hh_l0: torch.Size([512])\n",
            "- weight_ih_l0_reverse: torch.Size([512, 16])\n",
            "- weight_hh_l0_reverse: torch.Size([512, 128])\n",
            "- bias_ih_l0_reverse: torch.Size([512])\n",
            "- bias_hh_l0_reverse: torch.Size([512])\n"
          ]
        }
      ],
      "source": [
        "# 初始化双向lstm模型\n",
        "bidirectional_model = SentimentClassifier(vocab_size, lstm_layers=1, bidirectional=True)\n",
        "print(f\"双向lstm模型结构:\\n{bidirectional_model}\")\n",
        "\n",
        "# 计算双向lstm模型参数数量\n",
        "print(f\"双层双向lstm模型参数数量: {count_parameters(bidirectional_model):,}\")\n",
        "\n",
        "\n",
        "# 对双向lstm层参数尺寸的详细解释\n",
        "print(f\"\\n双向lstm层详细信息:\")\n",
        "for name, param in bidirectional_model.lstm.named_parameters():\n",
        "    print(f\"- {name}: {param.shape}\")\n",
        "\n",
        "\n",
        "\n"
      ]
    },
    {
      "cell_type": "markdown",
      "id": "f6b527a4",
      "metadata": {
        "id": "f6b527a4"
      },
      "source": [
        "# 训练，画图，评估"
      ]
    },
    {
      "cell_type": "code",
      "execution_count": 30,
      "id": "4f63a223",
      "metadata": {
        "ExecuteTime": {
          "end_time": "2025-07-04T11:27:19.773515Z",
          "start_time": "2025-07-04T11:10:48.011324Z"
        },
        "colab": {
          "base_uri": "https://localhost:8080/",
          "height": 217,
          "referenced_widgets": [
            "b02df51b63654095b12ec6cb70db17b1",
            "2dca81bd071942b18029a5b58f6e72df",
            "63b065fff7e0483c85df0668a16974fa",
            "78ecb67c58e9487db95fcf23598aeb96",
            "6d657ea2a583483d8cd67f9681657879",
            "ef419d30ed054b429ebac3eee277ccc7",
            "3335248e8e63496a919bfa373b548190",
            "be91877e59794416b8ad82ecc99b9660",
            "525753e0480b4ea58fb88d89769cd556",
            "0d8cd8bb3c2d43aeb4ce7ec965690263",
            "56e8203db26e4d06a2ecc1c0939f1f44"
          ]
        },
        "id": "4f63a223",
        "outputId": "36931b51-f351-4a8d-d089-7857bb77ea5d"
      },
      "outputs": [
        {
          "output_type": "stream",
          "name": "stdout",
          "text": [
            "模型结构:\n",
            "SentimentClassifier(\n",
            "  (embedding): Embedding(10000, 16)\n",
            "  (lstm): LSTM(16, 128, batch_first=True, bidirectional=True)\n",
            "  (fc1): Linear(in_features=256, out_features=128, bias=True)\n",
            "  (fc): Linear(in_features=128, out_features=1, bias=True)\n",
            "  (dropout): Dropout(p=0.3, inplace=False)\n",
            ")\n",
            "训练开始，共3920步\n"
          ]
        },
        {
          "output_type": "display_data",
          "data": {
            "text/plain": [
              "  0%|          | 0/3920 [00:00<?, ?it/s]"
            ],
            "application/vnd.jupyter.widget-view+json": {
              "version_major": 2,
              "version_minor": 0,
              "model_id": "b02df51b63654095b12ec6cb70db17b1"
            }
          },
          "metadata": {}
        }
      ],
      "source": [
        "from wangdao_deeplearning_train import train_two_classification_model, evaluate_two_classification_model,plot_learning_curves,EarlyStopping,ModelSaver\n",
        "\n",
        "model = SentimentClassifier(vocab_size, lstm_layers=1, bidirectional=True)\n",
        "print(f\"模型结构:\\n{model}\")\n",
        "\n",
        "# 定义损失函数和优化器\n",
        "criterion = nn.BCEWithLogitsLoss() #WithLogitsLoss代表的含义是：把输出结果通过sigmoid函数，然后计算损失\n",
        "optimizer = torch.optim.Adam(model.parameters(), lr=0.001)\n",
        "# 将模型移动到设备上\n",
        "model = model.to(device)\n",
        "\n",
        "\n",
        "# 训练参数\n",
        "num_epochs = 20\n",
        "eval_step = 100\n",
        "\n",
        "# 训练模型\n",
        "# 创建早停和模型保存器\n",
        "early_stopping = EarlyStopping(patience=5, delta=0.001)\n",
        "model_saver = ModelSaver(save_dir='weights')\n",
        "\n",
        "model, record_dict = train_two_classification_model(\n",
        "    model=model,\n",
        "    train_loader=train_dataloader,\n",
        "    val_loader=val_dataloader,\n",
        "    criterion=criterion,\n",
        "    optimizer=optimizer,\n",
        "    device=device,\n",
        "    num_epochs=num_epochs,\n",
        "    eval_step=eval_step,\n",
        "    early_stopping=early_stopping,\n",
        "    model_saver=model_saver\n",
        ")\n",
        "\n",
        "\n"
      ]
    },
    {
      "cell_type": "code",
      "execution_count": 31,
      "id": "0fb25282",
      "metadata": {
        "ExecuteTime": {
          "end_time": "2025-07-04T11:27:19.851460Z",
          "start_time": "2025-07-04T11:27:19.773515Z"
        },
        "colab": {
          "base_uri": "https://localhost:8080/",
          "height": 438
        },
        "id": "0fb25282",
        "outputId": "bf043808-0213-48c8-f61b-9d3009c2fd0f"
      },
      "outputs": [
        {
          "output_type": "display_data",
          "data": {
            "text/plain": [
              "<Figure size 1000x500 with 2 Axes>"
            ],
            "image/png": "[encoded data removed]"
          },
          "metadata": {}
        }
      ],
      "source": [
        "# 绘制学习曲线\n",
        "plot_learning_curves(record_dict,sample_step=100)\n"
      ]
    },
    {
      "cell_type": "code",
      "execution_count": 32,
      "id": "55a18ae6",
      "metadata": {
        "ExecuteTime": {
          "end_time": "2025-07-04T11:27:30.240293Z",
          "start_time": "2025-07-04T11:27:19.852479Z"
        },
        "colab": {
          "base_uri": "https://localhost:8080/"
        },
        "id": "55a18ae6",
        "outputId": "7e6e82b5-91d2-4364-b75e-f7e441c410ad"
      },
      "outputs": [
        {
          "output_type": "stream",
          "name": "stdout",
          "text": [
            "测试集准确率: 87.04%, 测试集损失: 0.3245\n"
          ]
        }
      ],
      "source": [
        "\n",
        "\n",
        "# 在测试集上评估最终模型\n",
        "test_acc, test_loss = evaluate_two_classification_model(model, test_dataloader, device, criterion)\n",
        "print(f\"测试集准确率: {test_acc:.2f}%, 测试集损失: {test_loss:.4f}\")"
      ]
    }
  ],
  "metadata": {
    "kernelspec": {
      "display_name": "Python 3",
      "name": "python3"
    },
    "language_info": {
      "codemirror_mode": {
        "name": "ipython",
        "version": 3
      },
      "file_extension": ".py",
      "mimetype": "text/x-python",
      "name": "python",
      "nbconvert_exporter": "python",
      "pygments_lexer": "ipython3",
      "version": "3.12.3"
    },
    "colab": {
      "provenance": [],
      "gpuType": "T4"
    },
    "accelerator": "GPU",
    "widgets": {
      "application/vnd.jupyter.widget-state+json": {
        "b02df51b63654095b12ec6cb70db17b1": {
          "model_module": "@jupyter-widgets/controls",
          "model_name": "HBoxModel",
          "model_module_version": "1.5.0",
          "state": {
            "_dom_classes": [],
            "_model_module": "@jupyter-widgets/controls",
            "_model_module_version": "1.5.0",
            "_model_name": "HBoxModel",
            "_view_count": null,
            "_view_module": "@jupyter-widgets/controls",
            "_view_module_version": "1.5.0",
            "_view_name": "HBoxView",
            "box_style": "",
            "children": [
              "IPY_MODEL_2dca81bd071942b18029a5b58f6e72df",
              "IPY_MODEL_63b065fff7e0483c85df0668a16974fa",
              "IPY_MODEL_78ecb67c58e9487db95fcf23598aeb96"
            ],
            "layout": "IPY_MODEL_6d657ea2a583483d8cd67f9681657879"
          }
        },
        "2dca81bd071942b18029a5b58f6e72df": {
          "model_module": "@jupyter-widgets/controls",
          "model_name": "HTMLModel",
          "model_module_version": "1.5.0",
          "state": {
            "_dom_classes": [],
            "_model_module": "@jupyter-widgets/controls",
            "_model_module_version": "1.5.0",
            "_model_name": "HTMLModel",
            "_view_count": null,
            "_view_module": "@jupyter-widgets/controls",
            "_view_module_version": "1.5.0",
            "_view_name": "HTMLView",
            "description": "",
            "description_tooltip": null,
            "layout": "IPY_MODEL_ef419d30ed054b429ebac3eee277ccc7",
            "placeholder": "​",
            "style": "IPY_MODEL_3335248e8e63496a919bfa373b548190",
            "value": "100%"
          }
        },
        "63b065fff7e0483c85df0668a16974fa": {
          "model_module": "@jupyter-widgets/controls",
          "model_name": "FloatProgressModel",
          "model_module_version": "1.5.0",
          "state": {
            "_dom_classes": [],
            "_model_module": "@jupyter-widgets/controls",
            "_model_module_version": "1.5.0",
            "_model_name": "FloatProgressModel",
            "_view_count": null,
            "_view_module": "@jupyter-widgets/controls",
            "_view_module_version": "1.5.0",
            "_view_name": "ProgressView",
            "bar_style": "success",
            "description": "",
            "description_tooltip": null,
            "layout": "IPY_MODEL_be91877e59794416b8ad82ecc99b9660",
            "max": 3920,
            "min": 0,
            "orientation": "horizontal",
            "style": "IPY_MODEL_525753e0480b4ea58fb88d89769cd556",
            "value": 3920
          }
        },
        "78ecb67c58e9487db95fcf23598aeb96": {
          "model_module": "@jupyter-widgets/controls",
          "model_name": "HTMLModel",
          "model_module_version": "1.5.0",
          "state": {
            "_dom_classes": [],
            "_model_module": "@jupyter-widgets/controls",
            "_model_module_version": "1.5.0",
            "_model_name": "HTMLModel",
            "_view_count": null,
            "_view_module": "@jupyter-widgets/controls",
            "_view_module_version": "1.5.0",
            "_view_name": "HTMLView",
            "description": "",
            "description_tooltip": null,
            "layout": "IPY_MODEL_0d8cd8bb3c2d43aeb4ce7ec965690263",
            "placeholder": "​",
            "style": "IPY_MODEL_56e8203db26e4d06a2ecc1c0939f1f44",
            "value": " 3920/3920 [04:50&lt;00:00, 14.68it/s, epoch=19, loss=0.1341, acc=95.00%, val_loss=0.3558, val_acc=86.81%]"
          }
        },
        "6d657ea2a583483d8cd67f9681657879": {
          "model_module": "@jupyter-widgets/base",
          "model_name": "LayoutModel",
          "model_module_version": "1.2.0",
          "state": {
            "_model_module": "@jupyter-widgets/base",
            "_model_module_version": "1.2.0",
            "_model_name": "LayoutModel",
            "_view_count": null,
            "_view_module": "@jupyter-widgets/base",
            "_view_module_version": "1.2.0",
            "_view_name": "LayoutView",
            "align_content": null,
            "align_items": null,
            "align_self": null,
            "border": null,
            "bottom": null,
            "display": null,
            "flex": null,
            "flex_flow": null,
            "grid_area": null,
            "grid_auto_columns": null,
            "grid_auto_flow": null,
            "grid_auto_rows": null,
            "grid_column": null,
            "grid_gap": null,
            "grid_row": null,
            "grid_template_areas": null,
            "grid_template_columns": null,
            "grid_template_rows": null,
            "height": null,
            "justify_content": null,
            "justify_items": null,
            "left": null,
            "margin": null,
            "max_height": null,
            "max_width": null,
            "min_height": null,
            "min_width": null,
            "object_fit": null,
            "object_position": null,
            "order": null,
            "overflow": null,
            "overflow_x": null,
            "overflow_y": null,
            "padding": null,
            "right": null,
            "top": null,
            "visibility": null,
            "width": null
          }
        },
        "ef419d30ed054b429ebac3eee277ccc7": {
          "model_module": "@jupyter-widgets/base",
          "model_name": "LayoutModel",
          "model_module_version": "1.2.0",
          "state": {
            "_model_module": "@jupyter-widgets/base",
            "_model_module_version": "1.2.0",
            "_model_name": "LayoutModel",
            "_view_count": null,
            "_view_module": "@jupyter-widgets/base",
            "_view_module_version": "1.2.0",
            "_view_name": "LayoutView",
            "align_content": null,
            "align_items": null,
            "align_self": null,
            "border": null,
            "bottom": null,
            "display": null,
            "flex": null,
            "flex_flow": null,
            "grid_area": null,
            "grid_auto_columns": null,
            "grid_auto_flow": null,
            "grid_auto_rows": null,
            "grid_column": null,
            "grid_gap": null,
            "grid_row": null,
            "grid_template_areas": null,
            "grid_template_columns": null,
            "grid_template_rows": null,
            "height": null,
            "justify_content": null,
            "justify_items": null,
            "left": null,
            "margin": null,
            "max_height": null,
            "max_width": null,
            "min_height": null,
            "min_width": null,
            "object_fit": null,
            "object_position": null,
            "order": null,
            "overflow": null,
            "overflow_x": null,
            "overflow_y": null,
            "padding": null,
            "right": null,
            "top": null,
            "visibility": null,
            "width": null
          }
        },
        "3335248e8e63496a919bfa373b548190": {
          "model_module": "@jupyter-widgets/controls",
          "model_name": "DescriptionStyleModel",
          "model_module_version": "1.5.0",
          "state": {
            "_model_module": "@jupyter-widgets/controls",
            "_model_module_version": "1.5.0",
            "_model_name": "DescriptionStyleModel",
            "_view_count": null,
            "_view_module": "@jupyter-widgets/base",
            "_view_module_version": "1.2.0",
            "_view_name": "StyleView",
            "description_width": ""
          }
        },
        "be91877e59794416b8ad82ecc99b9660": {
          "model_module": "@jupyter-widgets/base",
          "model_name": "LayoutModel",
          "model_module_version": "1.2.0",
          "state": {
            "_model_module": "@jupyter-widgets/base",
            "_model_module_version": "1.2.0",
            "_model_name": "LayoutModel",
            "_view_count": null,
            "_view_module": "@jupyter-widgets/base",
            "_view_module_version": "1.2.0",
            "_view_name": "LayoutView",
            "align_content": null,
            "align_items": null,
            "align_self": null,
            "border": null,
            "bottom": null,
            "display": null,
            "flex": null,
            "flex_flow": null,
            "grid_area": null,
            "grid_auto_columns": null,
            "grid_auto_flow": null,
            "grid_auto_rows": null,
            "grid_column": null,
            "grid_gap": null,
            "grid_row": null,
            "grid_template_areas": null,
            "grid_template_columns": null,
            "grid_template_rows": null,
            "height": null,
            "justify_content": null,
            "justify_items": null,
            "left": null,
            "margin": null,
            "max_height": null,
            "max_width": null,
            "min_height": null,
            "min_width": null,
            "object_fit": null,
            "object_position": null,
            "order": null,
            "overflow": null,
            "overflow_x": null,
            "overflow_y": null,
            "padding": null,
            "right": null,
            "top": null,
            "visibility": null,
            "width": null
          }
        },
        "525753e0480b4ea58fb88d89769cd556": {
          "model_module": "@jupyter-widgets/controls",
          "model_name": "ProgressStyleModel",
          "model_module_version": "1.5.0",
          "state": {
            "_model_module": "@jupyter-widgets/controls",
            "_model_module_version": "1.5.0",
            "_model_name": "ProgressStyleModel",
            "_view_count": null,
            "_view_module": "@jupyter-widgets/base",
            "_view_module_version": "1.2.0",
            "_view_name": "StyleView",
            "bar_color": null,
            "description_width": ""
          }
        },
        "0d8cd8bb3c2d43aeb4ce7ec965690263": {
          "model_module": "@jupyter-widgets/base",
          "model_name": "LayoutModel",
          "model_module_version": "1.2.0",
          "state": {
            "_model_module": "@jupyter-widgets/base",
            "_model_module_version": "1.2.0",
            "_model_name": "LayoutModel",
            "_view_count": null,
            "_view_module": "@jupyter-widgets/base",
            "_view_module_version": "1.2.0",
            "_view_name": "LayoutView",
            "align_content": null,
            "align_items": null,
            "align_self": null,
            "border": null,
            "bottom": null,
            "display": null,
            "flex": null,
            "flex_flow": null,
            "grid_area": null,
            "grid_auto_columns": null,
            "grid_auto_flow": null,
            "grid_auto_rows": null,
            "grid_column": null,
            "grid_gap": null,
            "grid_row": null,
            "grid_template_areas": null,
            "grid_template_columns": null,
            "grid_template_rows": null,
            "height": null,
            "justify_content": null,
            "justify_items": null,
            "left": null,
            "margin": null,
            "max_height": null,
            "max_width": null,
            "min_height": null,
            "min_width": null,
            "object_fit": null,
            "object_position": null,
            "order": null,
            "overflow": null,
            "overflow_x": null,
            "overflow_y": null,
            "padding": null,
            "right": null,
            "top": null,
            "visibility": null,
            "width": null
          }
        },
        "56e8203db26e4d06a2ecc1c0939f1f44": {
          "model_module": "@jupyter-widgets/controls",
          "model_name": "DescriptionStyleModel",
          "model_module_version": "1.5.0",
          "state": {
            "_model_module": "@jupyter-widgets/controls",
            "_model_module_version": "1.5.0",
            "_model_name": "DescriptionStyleModel",
            "_view_count": null,
            "_view_module": "@jupyter-widgets/base",
            "_view_module_version": "1.2.0",
            "_view_name": "StyleView",
            "description_width": ""
          }
        }
      }
    }
  },
  "nbformat": 4,
  "nbformat_minor": 5
}