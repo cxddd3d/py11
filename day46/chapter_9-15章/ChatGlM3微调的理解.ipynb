{
 "cells": [
  {
   "metadata": {},
   "cell_type": "markdown",
   "source": "",
   "id": "e3b2cea5093c8d65"
  },
  {
   "metadata": {},
   "cell_type": "markdown",
   "source": [
    "ChatGLM3的微调本质上是一种针对特定任务的迁移学习，其核心在于保持预训练模型通用能力的同时，通过有监督训练调整关键参数。具体来说，微调过程需要重点关注三个方面：\n",
    "\n",
    "首先在数据准备阶段，需要构建高质量的指令数据集。数据集应当充分覆盖任务场景，例如做客服对话微调时，需包含咨询、投诉、售后等各类对话样本。数据标注必须保持一致性，建议通过多人交叉验证确保标注质量。同时可采用同义词替换等数据增强手段提升小样本场景下的泛化能力。\n",
    "\n",
    "其次在参数调整方面，通常采用分层微调策略。冻结底层Transformer的大部分参数以保留基础语言理解能力，仅微调顶层注意力机制和任务相关的输出层。实践中可配合LoRA等参数高效方法，通过添加低秩适配矩阵来减少可训练参数量。学习率一般设置为1e-5到1e-4之间，配合梯度裁剪防止梯度爆炸。\n",
    "\n",
    "最后在训练优化环节，建议采用早停机制和模型检查点保存。通常3-5个epoch即可收敛，训练过程中需要监控验证集表现，避免过拟合。微调完成后，还需验证模型在通用任务上的表现，确保没有严重遗忘预训练获得的基础能力。通过这种平衡策略，可以使模型既适应新任务，又保持原有的语言理解水平。"
   ],
   "id": "a9b11f810f59f1db"
  }
 ],
 "metadata": {
  "kernelspec": {
   "display_name": "Python 3",
   "language": "python",
   "name": "python3"
  },
  "language_info": {
   "codemirror_mode": {
    "name": "ipython",
    "version": 2
   },
   "file_extension": ".py",
   "mimetype": "text/x-python",
   "name": "python",
   "nbconvert_exporter": "python",
   "pygments_lexer": "ipython2",
   "version": "2.7.6"
  }
 },
 "nbformat": 4,
 "nbformat_minor": 5
}
