{
  "cells": [
    {
      "cell_type": "code",
      "metadata": {
        "ExecuteTime": {
          "end_time": "2025-08-18T07:16:36.783029Z",
          "start_time": "2025-08-18T07:15:47.451260Z"
        },
        "colab": {
          "base_uri": "https://localhost:8080/"
        },
        "id": "k8naSoDRtz10",
        "outputId": "36854058-ffa6-4eef-ddf7-1afdb6511842"
      },
      "source": [
        "from pathlib import Path\n",
        "\n",
        "import numpy as np\n",
        "import pandas as pd\n",
        "import torch\n",
        "from torch import nn\n",
        "import torch.nn.functional as F\n",
        "from torch.utils.data import DataLoader\n",
        "from sample_dataset import SampleDataset\n",
        "\n",
        "device = torch.device(\"cuda:0\" if torch.cuda.is_available() else \"cpu\")\n",
        "\n",
        "train_ds = SampleDataset(\"train\")\n",
        "test_ds = SampleDataset(\"test\")\n",
        "crossed_cols = [\"movieId\", \"userRatedMovie1\"] # 交叉特征\n",
        "train_ds.set_crossed_features(crossed_cols, 10_000)\n",
        "test_ds.set_crossed_features(crossed_cols, 10_000)\n",
        "train_ds.items.columns"
      ],
      "outputs": [
        {
          "output_type": "execute_result",
          "data": {
            "text/plain": [
              "Index(['movieId', 'userId', 'rating', 'timestamp', 'label', 'releaseYear',\n",
              "       'movieGenre1', 'movieGenre2', 'movieGenre3', 'movieRatingCount',\n",
              "       'movieAvgRating', 'movieRatingStddev', 'userRatedMovie1',\n",
              "       'userRatedMovie2', 'userRatedMovie3', 'userRatedMovie4',\n",
              "       'userRatedMovie5', 'userRatingCount', 'userAvgReleaseYear',\n",
              "       'userReleaseYearStddev', 'userAvgRating', 'userRatingStddev',\n",
              "       'userGenre1', 'userGenre2', 'userGenre3', 'userGenre4', 'userGenre5',\n",
              "       'crossed_features'],\n",
              "      dtype='object')"
            ]
          },
          "metadata": {},
          "execution_count": 8
        }
      ],
      "execution_count": 8
    },
    {
      "cell_type": "code",
      "metadata": {
        "ExecuteTime": {
          "end_time": "2025-08-18T07:19:27.819321Z",
          "start_time": "2025-08-18T07:19:27.816219Z"
        },
        "id": "zrO5fnFctz12"
      },
      "source": [
        "numeric_float_cols = [\n",
        "    \"releaseYear\",\n",
        "    \"movieAvgRating\",\n",
        "    \"movieRatingStddev\",\n",
        "    \"userAvgRating\",\n",
        "    \"userRatingStddev\"\n",
        "    ]\n",
        "numeric_int_cols = [\n",
        "    \"movieRatingCount\", \"userRatingCount\"\n",
        "]\n",
        "\n",
        "genre_cols = [\n",
        "    'userGenre1', 'userGenre2','userGenre3', 'userGenre4', 'userGenre5',\n",
        "    'movieGenre1', 'movieGenre2', 'movieGenre3'\n",
        "] #用户喜欢的电影类型，电影类型，都是字符串类型\n",
        "\n",
        "genre_vocab = {key: idx for idx, key in enumerate([\n",
        "    'N/A',\n",
        "    'Film-Noir', 'Action', 'Adventure',\n",
        "    'Horror', 'Romance', 'War', 'Comedy',\n",
        "    'Western', 'Documentary','Sci-Fi',\n",
        "    'Drama', 'Thriller', 'Crime', 'Fantasy',\n",
        "    'Animation', 'IMAX', 'Mystery', 'Children', 'Musical'\n",
        "    ])} #剧情和id的对应关系\n",
        "\n",
        "def genre2idx(genre):#将电影类型 字符串转化为id\n",
        "    idx = [genre_vocab[g] for g in genre]\n",
        "\n",
        "    return np.array(idx)"
      ],
      "outputs": [],
      "execution_count": 9
    },
    {
      "cell_type": "code",
      "metadata": {
        "ExecuteTime": {
          "end_time": "2025-08-18T07:19:30.864282Z",
          "start_time": "2025-08-18T07:19:30.860689Z"
        },
        "colab": {
          "base_uri": "https://localhost:8080/"
        },
        "id": "jGIKeTI3tz12",
        "outputId": "91b4e4cb-2d3a-49a9-a576-ff9a0ff4c0e5"
      },
      "source": [
        "genre_vocab"
      ],
      "outputs": [
        {
          "output_type": "execute_result",
          "data": {
            "text/plain": [
              "{'N/A': 0,\n",
              " 'Film-Noir': 1,\n",
              " 'Action': 2,\n",
              " 'Adventure': 3,\n",
              " 'Horror': 4,\n",
              " 'Romance': 5,\n",
              " 'War': 6,\n",
              " 'Comedy': 7,\n",
              " 'Western': 8,\n",
              " 'Documentary': 9,\n",
              " 'Sci-Fi': 10,\n",
              " 'Drama': 11,\n",
              " 'Thriller': 12,\n",
              " 'Crime': 13,\n",
              " 'Fantasy': 14,\n",
              " 'Animation': 15,\n",
              " 'IMAX': 16,\n",
              " 'Mystery': 17,\n",
              " 'Children': 18,\n",
              " 'Musical': 19}"
            ]
          },
          "metadata": {},
          "execution_count": 10
        }
      ],
      "execution_count": 10
    },
    {
      "cell_type": "code",
      "metadata": {
        "ExecuteTime": {
          "end_time": "2025-08-18T07:25:49.795877Z",
          "start_time": "2025-08-18T07:25:49.790662Z"
        },
        "id": "-XfaK2SJtz13"
      },
      "source": [
        "def collate_fn(batch):\n",
        "    collate = lambda key: np.array([b[key] for b in batch]) #将batch中的key列转化为numpy数组\n",
        "\n",
        "    # basic\n",
        "    userId = torch.LongTensor(collate(\"userId\")).to(device) #将userId转化为tensor\n",
        "    movieId = torch.LongTensor(collate(\"movieId\")).to(device) #将movieId转化为tensor\n",
        "    label = torch.FloatTensor(collate(\"label\")).to(device) #将label转化为tensor\n",
        "    data_dict = {\n",
        "        \"label\": label,\n",
        "        \"userId\": userId,\n",
        "        \"movieId\": movieId,\n",
        "    }\n",
        "\n",
        "    #把用户名评分数量和电影评分数量转化为tensor\n",
        "    num_int_features = {key: torch.LongTensor(collate(key)).to(device).reshape(-1, 1) for key in numeric_int_cols}\n",
        "    #把numeric_float_cols列表里的5个列转化为tensor\n",
        "    num_float_features = {key: torch.FloatTensor(collate(key)).to(device).reshape(-1, 1) for key in numeric_float_cols}\n",
        "    data_dict.update(num_int_features)\n",
        "    data_dict.update(num_float_features)\n",
        "\n",
        "    # categorical，用户喜欢的电影类型和电影类型\n",
        "    categorical_features = {key: torch.LongTensor(genre2idx(collate(key))).to(device) for key in genre_cols}\n",
        "    data_dict.update(categorical_features)\n",
        "\n",
        "    # crossed features，将movieId和userRatedMovie1交叉，得到10000维向量\n",
        "    crossed_features = np.array([b[\"crossed_features\"] for b in batch])\n",
        "    data_dict[\"crossed_features\"] = torch.LongTensor(crossed_features).to(device)\n",
        "\n",
        "    return data_dict\n",
        "\n",
        "\n",
        "\n",
        "batch_size = 12\n",
        "train_dl = DataLoader(train_ds, batch_size=batch_size, shuffle=True, collate_fn=collate_fn)\n",
        "test_dl = DataLoader(test_ds, batch_size=batch_size, shuffle=False, collate_fn=collate_fn)"
      ],
      "outputs": [],
      "execution_count": 11
    },
    {
      "cell_type": "code",
      "metadata": {
        "ExecuteTime": {
          "end_time": "2025-08-18T07:53:08.990046Z",
          "start_time": "2025-08-18T07:53:08.979938Z"
        },
        "colab": {
          "base_uri": "https://localhost:8080/"
        },
        "id": "vCTnTvXitz13",
        "outputId": "9428e98d-ee8e-4fcf-e236-aaee1cc527dc"
      },
      "source": [
        "# 模型\n",
        "class WideDeep(nn.Module):\n",
        "    def __init__(self, config):\n",
        "        super().__init__()\n",
        "        self.config = config\n",
        "        self.num_users = config['num_users'] # 30001\n",
        "        self.num_items = config['num_items'] #1001\n",
        "        self.latent_dim = config['latent_dim'] # 10，这是一个超参数，隐含特征的维度\n",
        "        self.num_genres = config['num_genre'] #20\n",
        "        self.crossed_dim = config['crossed_dim'] # 10000\n",
        "\n",
        "        self.embedding_user = nn.Embedding(num_embeddings=self.num_users, embedding_dim=self.latent_dim)\n",
        "        self.embedding_item = nn.Embedding(num_embeddings=self.num_items, embedding_dim=self.latent_dim)\n",
        "        self.embedding_genre = nn.ModuleDict({key: nn.Embedding(num_embeddings=self.num_genres, embedding_dim=self.latent_dim) for key in genre_cols}) #字典形式，key为电影genre列名，value为Embedding层，原来每个是（batch_size，1）,变为（batch_size，latent_dim）\n",
        "\n",
        "        self.deep = nn.Sequential(\n",
        "            nn.Linear(\n",
        "                in_features=len(numeric_float_cols) + len(numeric_int_cols) + len(genre_cols) * self.latent_dim + self.latent_dim * 2,\n",
        "                out_features=128),#107*128\n",
        "            nn.ReLU(),\n",
        "            nn.Linear(in_features=128, out_features=128),#128*128\n",
        "            nn.ReLU(),\n",
        "        )\n",
        "        #self.crossed_dim是1万，one-hot类型\n",
        "        self.wide = nn.Sequential(\n",
        "            nn.Linear(in_features=128 + self.crossed_dim, out_features=1),\n",
        "            nn.Sigmoid(),\n",
        "        )\n",
        "\n",
        "\n",
        "    def forward(self, batch):\n",
        "        # deep part\n",
        "        numerical_features = [batch[col] for col in numeric_float_cols + numeric_int_cols] #7个特征列\n",
        "        user_embeddings = self.embedding_user(batch[\"userId\"])  #10\n",
        "        movie_embeddings = self.embedding_item(batch[\"movieId\"]) #10\n",
        "        genre_features = [self.embedding_genre[col](batch[col]) for col in genre_cols] #80\n",
        "        deep_features = torch.cat(\n",
        "            numerical_features + genre_features + [user_embeddings, movie_embeddings], dim=1)\n",
        "\n",
        "        deep_features = self.deep(deep_features)\n",
        "        # wide part\n",
        "        crossed_features = batch[\"crossed_features\"]\n",
        "        rating = self.wide(torch.cat([deep_features, crossed_features], dim=1)) #deep的输出加上wide的输入，得到1维的输出\n",
        "\n",
        "        return rating\n",
        "\n",
        "config = {\n",
        "    \"num_users\": 30001,\n",
        "    \"num_items\": 1001,\n",
        "    \"latent_dim\": 10,\n",
        "    \"num_genre\": len(genre_vocab),\n",
        "    \"crossed_dim\": 10_000\n",
        "}\n",
        "\n",
        "model = WideDeep(config)\n",
        "# model(torch.Tensor([0, 0]).long(), torch.Tensor([0, 0]).long())\n",
        "print(model)#输出模型结构\n",
        "# torch.save(model, \"./WideDeep_model.pth\")"
      ],
      "outputs": [
        {
          "output_type": "stream",
          "name": "stdout",
          "text": [
            "WideDeep(\n",
            "  (embedding_user): Embedding(30001, 10)\n",
            "  (embedding_item): Embedding(1001, 10)\n",
            "  (embedding_genre): ModuleDict(\n",
            "    (userGenre1): Embedding(20, 10)\n",
            "    (userGenre2): Embedding(20, 10)\n",
            "    (userGenre3): Embedding(20, 10)\n",
            "    (userGenre4): Embedding(20, 10)\n",
            "    (userGenre5): Embedding(20, 10)\n",
            "    (movieGenre1): Embedding(20, 10)\n",
            "    (movieGenre2): Embedding(20, 10)\n",
            "    (movieGenre3): Embedding(20, 10)\n",
            "  )\n",
            "  (deep): Sequential(\n",
            "    (0): Linear(in_features=107, out_features=128, bias=True)\n",
            "    (1): ReLU()\n",
            "    (2): Linear(in_features=128, out_features=128, bias=True)\n",
            "    (3): ReLU()\n",
            "  )\n",
            "  (wide): Sequential(\n",
            "    (0): Linear(in_features=10128, out_features=1, bias=True)\n",
            "    (1): Sigmoid()\n",
            "  )\n",
            ")\n"
          ]
        }
      ],
      "execution_count": 12
    },
    {
      "cell_type": "code",
      "metadata": {
        "ExecuteTime": {
          "end_time": "2025-08-18T07:55:17.158938Z",
          "start_time": "2025-08-18T07:55:15.039193Z"
        },
        "id": "XcMQNSnwtz13"
      },
      "source": [
        "from tqdm.auto import tqdm\n",
        "from sklearn.metrics import average_precision_score, roc_auc_score, accuracy_score\n",
        "\n",
        "num_epochs = 5\n",
        "lr = 0.001\n",
        "\n",
        "criterion = nn.BCELoss()\n",
        "optimizer = torch.optim.Adam(model.parameters(), lr=lr)\n",
        "\n",
        "@torch.no_grad()\n",
        "def evaluate(model, dl, criterion):\n",
        "    # 遍历dl，计算loss和accuracy、auc\n",
        "    model.eval()\n",
        "    losses = []\n",
        "    truth = []\n",
        "    prediction = []\n",
        "    for batch in dl:\n",
        "        labels = batch[\"label\"]\n",
        "        outputs = model(batch)\n",
        "        loss = criterion(outputs.reshape(-1), labels)\n",
        "        losses.append(loss.item())\n",
        "        truth.append(labels.cpu().numpy())\n",
        "        prediction.append(outputs.cpu().numpy())\n",
        "\n",
        "    # compute metrics\n",
        "    loss = np.mean(losses)\n",
        "    truth = np.concatenate(truth)\n",
        "    prediction = np.concatenate(prediction)\n",
        "\n",
        "    accuracy = accuracy_score(truth, prediction > 0.5)\n",
        "    auc_roc = roc_auc_score(truth, prediction)\n",
        "    auc_pr = average_precision_score(truth, prediction)\n",
        "    return loss, accuracy, auc_roc, auc_pr\n",
        "\n",
        "def train(model, train_dl, val_dl, criterion, optimizer):\n",
        "    model.to(device)\n",
        "    for epoch in tqdm(range(num_epochs)):\n",
        "        train_losses = []\n",
        "        model.train()\n",
        "        for batch in train_dl:\n",
        "            labels = batch[\"label\"]\n",
        "\n",
        "            outputs = model(batch)\n",
        "            loss = criterion(outputs.reshape(-1), labels)\n",
        "            optimizer.zero_grad()\n",
        "            loss.backward()\n",
        "            optimizer.step()\n",
        "            train_losses.append(loss.item())\n",
        "        train_loss = np.mean(train_losses)\n",
        "        val_loss, val_acc, val_auc_roc, val_auc_pr = evaluate(model, val_dl, criterion)\n",
        "        print(f\"Epoch: {epoch},train_loss: {train_loss:.4f}, val_loss: {val_loss:.4f}, val_acc: {val_acc:.4f}, val_auc_roc: {val_auc_roc:.4f}, val_auc_pr: {val_auc_pr:.4f}\")\n",
        "\n",
        "    return\n",
        ""
      ],
      "outputs": [],
      "execution_count": 13
    },
    {
      "cell_type": "code",
      "metadata": {
        "ExecuteTime": {
          "end_time": "2025-08-18T08:00:43.532168Z",
          "start_time": "2025-08-18T07:55:18.647474Z"
        },
        "colab": {
          "base_uri": "https://localhost:8080/",
          "height": 142,
          "referenced_widgets": [
            "f2c8a55050c34eea9e2a848fbcc786c3",
            "244519008c38462eb39636749c197965",
            "eb7024e4916d47b2af1c64454325e0c3",
            "e88bdf6fada2485391a1b24d6012faeb",
            "3388785598f949e99cd5dff38d971a58",
            "360d2f2d5f184690b215a8d37aca2b3e",
            "37fd39d231ba40fc83b469418b314248",
            "152eb2631f94440785609015eefaa764",
            "3bdd998c2bc640b58ff49300f60def63",
            "b40588f466ea4050bcf3cdc226d000ac",
            "60cdeb406a3d4499bb396d6ca9f9a2f8"
          ]
        },
        "id": "xPG_mwVatz13",
        "outputId": "56b0e8fd-5286-4198-e26a-b6fd0b44d92c"
      },
      "source": [
        "train(model, train_dl, test_dl, criterion, optimizer)"
      ],
      "outputs": [
        {
          "output_type": "display_data",
          "data": {
            "text/plain": [
              "  0%|          | 0/5 [00:00<?, ?it/s]"
            ],
            "application/vnd.jupyter.widget-view+json": {
              "version_major": 2,
              "version_minor": 0,
              "model_id": "f2c8a55050c34eea9e2a848fbcc786c3"
            }
          },
          "metadata": {}
        },
        {
          "output_type": "stream",
          "name": "stdout",
          "text": [
            "Epoch: 0,train_loss: 0.7146, val_loss: 0.6374, val_acc: 0.6449, val_auc_roc: 0.6837, val_auc_pr: 0.7170\n",
            "Epoch: 1,train_loss: 0.6082, val_loss: 0.6030, val_acc: 0.6762, val_auc_roc: 0.7303, val_auc_pr: 0.7608\n",
            "Epoch: 2,train_loss: 0.5727, val_loss: 0.5910, val_acc: 0.6873, val_auc_roc: 0.7431, val_auc_pr: 0.7689\n",
            "Epoch: 3,train_loss: 0.5462, val_loss: 0.5903, val_acc: 0.6882, val_auc_roc: 0.7458, val_auc_pr: 0.7713\n",
            "Epoch: 4,train_loss: 0.5245, val_loss: 0.5944, val_acc: 0.6857, val_auc_roc: 0.7488, val_auc_pr: 0.7759\n"
          ]
        }
      ],
      "execution_count": 14
    },
    {
      "cell_type": "code",
      "execution_count": 15,
      "metadata": {
        "ExecuteTime": {
          "start_time": "2024-05-17T13:22:27.372495900Z"
        },
        "id": "J_LTgnXDtz13"
      },
      "outputs": [],
      "source": [
        "# with torch.no_grad():\n",
        "#     # predict\n",
        "#     model.eval()\n",
        "#     for batch in test_dl:\n",
        "#         labels = batch[\"label\"]\n",
        "#         outputs = model(batch)\n",
        "#         break\n",
        "#\n",
        "# for output, label in zip(outputs[:12, 0], labels[:12]):\n",
        "#     print(\"Predicted good rating: {:.2%}\".format(output),\n",
        "#           \" | Actual rating label: \",\n",
        "#           (\"Good Rating\" if bool(label) else \"Bad Rating\"))\n"
      ]
    }
  ],
  "metadata": {
    "kernelspec": {
      "display_name": "Python 3",
      "name": "python3"
    },
    "language_info": {
      "codemirror_mode": {
        "name": "ipython",
        "version": 3
      },
      "file_extension": ".py",
      "mimetype": "text/x-python",
      "name": "python",
      "nbconvert_exporter": "python",
      "pygments_lexer": "ipython3",
      "version": "3.12.3"
    },
    "orig_nbformat": 4,
    "colab": {
      "provenance": [],
      "gpuType": "T4"
    },
    "accelerator": "GPU",
    "widgets": {
      "application/vnd.jupyter.widget-state+json": {
        "f2c8a55050c34eea9e2a848fbcc786c3": {
          "model_module": "@jupyter-widgets/controls",
          "model_name": "HBoxModel",
          "model_module_version": "1.5.0",
          "state": {
            "_dom_classes": [],
            "_model_module": "@jupyter-widgets/controls",
            "_model_module_version": "1.5.0",
            "_model_name": "HBoxModel",
            "_view_count": null,
            "_view_module": "@jupyter-widgets/controls",
            "_view_module_version": "1.5.0",
            "_view_name": "HBoxView",
            "box_style": "",
            "children": [
              "IPY_MODEL_244519008c38462eb39636749c197965",
              "IPY_MODEL_eb7024e4916d47b2af1c64454325e0c3",
              "IPY_MODEL_e88bdf6fada2485391a1b24d6012faeb"
            ],
            "layout": "IPY_MODEL_3388785598f949e99cd5dff38d971a58"
          }
        },
        "244519008c38462eb39636749c197965": {
          "model_module": "@jupyter-widgets/controls",
          "model_name": "HTMLModel",
          "model_module_version": "1.5.0",
          "state": {
            "_dom_classes": [],
            "_model_module": "@jupyter-widgets/controls",
            "_model_module_version": "1.5.0",
            "_model_name": "HTMLModel",
            "_view_count": null,
            "_view_module": "@jupyter-widgets/controls",
            "_view_module_version": "1.5.0",
            "_view_name": "HTMLView",
            "description": "",
            "description_tooltip": null,
            "layout": "IPY_MODEL_360d2f2d5f184690b215a8d37aca2b3e",
            "placeholder": "​",
            "style": "IPY_MODEL_37fd39d231ba40fc83b469418b314248",
            "value": "100%"
          }
        },
        "eb7024e4916d47b2af1c64454325e0c3": {
          "model_module": "@jupyter-widgets/controls",
          "model_name": "FloatProgressModel",
          "model_module_version": "1.5.0",
          "state": {
            "_dom_classes": [],
            "_model_module": "@jupyter-widgets/controls",
            "_model_module_version": "1.5.0",
            "_model_name": "FloatProgressModel",
            "_view_count": null,
            "_view_module": "@jupyter-widgets/controls",
            "_view_module_version": "1.5.0",
            "_view_name": "ProgressView",
            "bar_style": "success",
            "description": "",
            "description_tooltip": null,
            "layout": "IPY_MODEL_152eb2631f94440785609015eefaa764",
            "max": 5,
            "min": 0,
            "orientation": "horizontal",
            "style": "IPY_MODEL_3bdd998c2bc640b58ff49300f60def63",
            "value": 5
          }
        },
        "e88bdf6fada2485391a1b24d6012faeb": {
          "model_module": "@jupyter-widgets/controls",
          "model_name": "HTMLModel",
          "model_module_version": "1.5.0",
          "state": {
            "_dom_classes": [],
            "_model_module": "@jupyter-widgets/controls",
            "_model_module_version": "1.5.0",
            "_model_name": "HTMLModel",
            "_view_count": null,
            "_view_module": "@jupyter-widgets/controls",
            "_view_module_version": "1.5.0",
            "_view_name": "HTMLView",
            "description": "",
            "description_tooltip": null,
            "layout": "IPY_MODEL_b40588f466ea4050bcf3cdc226d000ac",
            "placeholder": "​",
            "style": "IPY_MODEL_60cdeb406a3d4499bb396d6ca9f9a2f8",
            "value": " 5/5 [04:05&lt;00:00, 49.44s/it]"
          }
        },
        "3388785598f949e99cd5dff38d971a58": {
          "model_module": "@jupyter-widgets/base",
          "model_name": "LayoutModel",
          "model_module_version": "1.2.0",
          "state": {
            "_model_module": "@jupyter-widgets/base",
            "_model_module_version": "1.2.0",
            "_model_name": "LayoutModel",
            "_view_count": null,
            "_view_module": "@jupyter-widgets/base",
            "_view_module_version": "1.2.0",
            "_view_name": "LayoutView",
            "align_content": null,
            "align_items": null,
            "align_self": null,
            "border": null,
            "bottom": null,
            "display": null,
            "flex": null,
            "flex_flow": null,
            "grid_area": null,
            "grid_auto_columns": null,
            "grid_auto_flow": null,
            "grid_auto_rows": null,
            "grid_column": null,
            "grid_gap": null,
            "grid_row": null,
            "grid_template_areas": null,
            "grid_template_columns": null,
            "grid_template_rows": null,
            "height": null,
            "justify_content": null,
            "justify_items": null,
            "left": null,
            "margin": null,
            "max_height": null,
            "max_width": null,
            "min_height": null,
            "min_width": null,
            "object_fit": null,
            "object_position": null,
            "order": null,
            "overflow": null,
            "overflow_x": null,
            "overflow_y": null,
            "padding": null,
            "right": null,
            "top": null,
            "visibility": null,
            "width": null
          }
        },
        "360d2f2d5f184690b215a8d37aca2b3e": {
          "model_module": "@jupyter-widgets/base",
          "model_name": "LayoutModel",
          "model_module_version": "1.2.0",
          "state": {
            "_model_module": "@jupyter-widgets/base",
            "_model_module_version": "1.2.0",
            "_model_name": "LayoutModel",
            "_view_count": null,
            "_view_module": "@jupyter-widgets/base",
            "_view_module_version": "1.2.0",
            "_view_name": "LayoutView",
            "align_content": null,
            "align_items": null,
            "align_self": null,
            "border": null,
            "bottom": null,
            "display": null,
            "flex": null,
            "flex_flow": null,
            "grid_area": null,
            "grid_auto_columns": null,
            "grid_auto_flow": null,
            "grid_auto_rows": null,
            "grid_column": null,
            "grid_gap": null,
            "grid_row": null,
            "grid_template_areas": null,
            "grid_template_columns": null,
            "grid_template_rows": null,
            "height": null,
            "justify_content": null,
            "justify_items": null,
            "left": null,
            "margin": null,
            "max_height": null,
            "max_width": null,
            "min_height": null,
            "min_width": null,
            "object_fit": null,
            "object_position": null,
            "order": null,
            "overflow": null,
            "overflow_x": null,
            "overflow_y": null,
            "padding": null,
            "right": null,
            "top": null,
            "visibility": null,
            "width": null
          }
        },
        "37fd39d231ba40fc83b469418b314248": {
          "model_module": "@jupyter-widgets/controls",
          "model_name": "DescriptionStyleModel",
          "model_module_version": "1.5.0",
          "state": {
            "_model_module": "@jupyter-widgets/controls",
            "_model_module_version": "1.5.0",
            "_model_name": "DescriptionStyleModel",
            "_view_count": null,
            "_view_module": "@jupyter-widgets/base",
            "_view_module_version": "1.2.0",
            "_view_name": "StyleView",
            "description_width": ""
          }
        },
        "152eb2631f94440785609015eefaa764": {
          "model_module": "@jupyter-widgets/base",
          "model_name": "LayoutModel",
          "model_module_version": "1.2.0",
          "state": {
            "_model_module": "@jupyter-widgets/base",
            "_model_module_version": "1.2.0",
            "_model_name": "LayoutModel",
            "_view_count": null,
            "_view_module": "@jupyter-widgets/base",
            "_view_module_version": "1.2.0",
            "_view_name": "LayoutView",
            "align_content": null,
            "align_items": null,
            "align_self": null,
            "border": null,
            "bottom": null,
            "display": null,
            "flex": null,
            "flex_flow": null,
            "grid_area": null,
            "grid_auto_columns": null,
            "grid_auto_flow": null,
            "grid_auto_rows": null,
            "grid_column": null,
            "grid_gap": null,
            "grid_row": null,
            "grid_template_areas": null,
            "grid_template_columns": null,
            "grid_template_rows": null,
            "height": null,
            "justify_content": null,
            "justify_items": null,
            "left": null,
            "margin": null,
            "max_height": null,
            "max_width": null,
            "min_height": null,
            "min_width": null,
            "object_fit": null,
            "object_position": null,
            "order": null,
            "overflow": null,
            "overflow_x": null,
            "overflow_y": null,
            "padding": null,
            "right": null,
            "top": null,
            "visibility": null,
            "width": null
          }
        },
        "3bdd998c2bc640b58ff49300f60def63": {
          "model_module": "@jupyter-widgets/controls",
          "model_name": "ProgressStyleModel",
          "model_module_version": "1.5.0",
          "state": {
            "_model_module": "@jupyter-widgets/controls",
            "_model_module_version": "1.5.0",
            "_model_name": "ProgressStyleModel",
            "_view_count": null,
            "_view_module": "@jupyter-widgets/base",
            "_view_module_version": "1.2.0",
            "_view_name": "StyleView",
            "bar_color": null,
            "description_width": ""
          }
        },
        "b40588f466ea4050bcf3cdc226d000ac": {
          "model_module": "@jupyter-widgets/base",
          "model_name": "LayoutModel",
          "model_module_version": "1.2.0",
          "state": {
            "_model_module": "@jupyter-widgets/base",
            "_model_module_version": "1.2.0",
            "_model_name": "LayoutModel",
            "_view_count": null,
            "_view_module": "@jupyter-widgets/base",
            "_view_module_version": "1.2.0",
            "_view_name": "LayoutView",
            "align_content": null,
            "align_items": null,
            "align_self": null,
            "border": null,
            "bottom": null,
            "display": null,
            "flex": null,
            "flex_flow": null,
            "grid_area": null,
            "grid_auto_columns": null,
            "grid_auto_flow": null,
            "grid_auto_rows": null,
            "grid_column": null,
            "grid_gap": null,
            "grid_row": null,
            "grid_template_areas": null,
            "grid_template_columns": null,
            "grid_template_rows": null,
            "height": null,
            "justify_content": null,
            "justify_items": null,
            "left": null,
            "margin": null,
            "max_height": null,
            "max_width": null,
            "min_height": null,
            "min_width": null,
            "object_fit": null,
            "object_position": null,
            "order": null,
            "overflow": null,
            "overflow_x": null,
            "overflow_y": null,
            "padding": null,
            "right": null,
            "top": null,
            "visibility": null,
            "width": null
          }
        },
        "60cdeb406a3d4499bb396d6ca9f9a2f8": {
          "model_module": "@jupyter-widgets/controls",
          "model_name": "DescriptionStyleModel",
          "model_module_version": "1.5.0",
          "state": {
            "_model_module": "@jupyter-widgets/controls",
            "_model_module_version": "1.5.0",
            "_model_name": "DescriptionStyleModel",
            "_view_count": null,
            "_view_module": "@jupyter-widgets/base",
            "_view_module_version": "1.2.0",
            "_view_name": "StyleView",
            "description_width": ""
          }
        }
      }
    }
  },
  "nbformat": 4,
  "nbformat_minor": 0
}