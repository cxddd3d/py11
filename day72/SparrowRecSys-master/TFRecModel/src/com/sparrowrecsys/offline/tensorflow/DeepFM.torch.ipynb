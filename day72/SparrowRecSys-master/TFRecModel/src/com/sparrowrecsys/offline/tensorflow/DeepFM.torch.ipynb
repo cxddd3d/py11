{
 "cells": [
  {
   "cell_type": "code",
   "execution_count": 1,
   "metadata": {
    "ExecuteTime": {
     "end_time": "2024-08-19T07:54:56.876435300Z",
     "start_time": "2024-08-19T07:54:53.093113100Z"
    }
   },
   "outputs": [
    {
     "data": {
      "text/plain": [
       "Index(['movieId', 'userId', 'rating', 'timestamp', 'label', 'releaseYear',\n",
       "       'movieGenre1', 'movieGenre2', 'movieGenre3', 'movieRatingCount',\n",
       "       'movieAvgRating', 'movieRatingStddev', 'userRatedMovie1',\n",
       "       'userRatedMovie2', 'userRatedMovie3', 'userRatedMovie4',\n",
       "       'userRatedMovie5', 'userRatingCount', 'userAvgReleaseYear',\n",
       "       'userReleaseYearStddev', 'userAvgRating', 'userRatingStddev',\n",
       "       'userGenre1', 'userGenre2', 'userGenre3', 'userGenre4', 'userGenre5'],\n",
       "      dtype='object')"
      ]
     },
     "execution_count": 1,
     "metadata": {},
     "output_type": "execute_result"
    }
   ],
   "source": [
    "from pathlib import Path\n",
    "\n",
    "import numpy as np\n",
    "import pandas as pd\n",
    "import torch\n",
    "from torch import nn\n",
    "import torch.nn.functional as F\n",
    "from torch.utils.data import DataLoader\n",
    "from sample_dataset import SampleDataset\n",
    "\n",
    "device = torch.device(\"cuda:0\" if torch.cuda.is_available() else \"cpu\")\n",
    "\n",
    "train_ds = SampleDataset(\"train\")\n",
    "test_ds = SampleDataset(\"test\")\n",
    "train_ds.items.columns"
   ]
  },
  {
   "cell_type": "code",
   "execution_count": 2,
   "metadata": {
    "ExecuteTime": {
     "end_time": "2024-08-19T07:55:11.653999500Z",
     "start_time": "2024-08-19T07:55:11.649009200Z"
    }
   },
   "outputs": [],
   "source": [
    "numeric_float_cols = [\n",
    "    \"releaseYear\", \n",
    "    \"movieAvgRating\", \n",
    "    \"movieRatingStddev\", \n",
    "    \"userAvgRating\", \n",
    "    \"userRatingStddev\"\n",
    "    ]\n",
    "numeric_int_cols = [\n",
    "    \"movieRatingCount\", \"userRatingCount\"\n",
    "]\n",
    "# 定义了一组分类特征的列名，这些列代表不同的电影或用户的类型\n",
    "genre_cols = [\n",
    "    'userGenre1', 'userGenre2','userGenre3', 'userGenre4', 'userGenre5', \n",
    "    'movieGenre1', 'movieGenre2', 'movieGenre3'\n",
    "]\n",
    "# 定义了一个词汇表，将电影类型映射到唯一的索引\n",
    "genre_vocab = {key: idx for idx, key in enumerate([\n",
    "    'N/A',\n",
    "    'Film-Noir', 'Action', 'Adventure', \n",
    "    'Horror', 'Romance', 'War', 'Comedy', \n",
    "    'Western', 'Documentary','Sci-Fi', \n",
    "    'Drama', 'Thriller', 'Crime', 'Fantasy', \n",
    "    'Animation', 'IMAX', 'Mystery', 'Children', 'Musical'\n",
    "    ])}\n",
    "\n",
    "def genre2idx(gener):\n",
    "    idx = [genre_vocab[g] for g in gener] # 使用词汇表将类型转换为索引\n",
    "\n",
    "    return np.array(idx)"
   ]
  },
  {
   "cell_type": "code",
   "execution_count": 3,
   "metadata": {
    "ExecuteTime": {
     "end_time": "2024-05-24T06:57:56.709926900Z",
     "start_time": "2024-05-24T06:57:56.693936400Z"
    },
    "collapsed": false
   },
   "outputs": [
    {
     "data": {
      "text/plain": [
       "{'N/A': 0,\n",
       " 'Film-Noir': 1,\n",
       " 'Action': 2,\n",
       " 'Adventure': 3,\n",
       " 'Horror': 4,\n",
       " 'Romance': 5,\n",
       " 'War': 6,\n",
       " 'Comedy': 7,\n",
       " 'Western': 8,\n",
       " 'Documentary': 9,\n",
       " 'Sci-Fi': 10,\n",
       " 'Drama': 11,\n",
       " 'Thriller': 12,\n",
       " 'Crime': 13,\n",
       " 'Fantasy': 14,\n",
       " 'Animation': 15,\n",
       " 'IMAX': 16,\n",
       " 'Mystery': 17,\n",
       " 'Children': 18,\n",
       " 'Musical': 19}"
      ]
     },
     "execution_count": 3,
     "metadata": {},
     "output_type": "execute_result"
    }
   ],
   "source": [
    "genre_vocab"
   ]
  },
  {
   "cell_type": "code",
   "execution_count": 4,
   "metadata": {
    "ExecuteTime": {
     "end_time": "2024-08-19T07:55:46.796414Z",
     "start_time": "2024-08-19T07:55:46.788455900Z"
    },
    "collapsed": false
   },
   "outputs": [
    {
     "data": {
      "text/plain": [
       "array([[1, 4, 7],\n",
       "       [2, 5, 8],\n",
       "       [3, 6, 9]])"
      ]
     },
     "execution_count": 4,
     "metadata": {},
     "output_type": "execute_result"
    }
   ],
   "source": [
    "#写一个np.stack的例子\n",
    "a = np.array([1,2,3])\n",
    "b = np.array([4,5,6])\n",
    "c = np.array([7,8,9])\n",
    "d = np.stack([a,b,c], axis=1)\n",
    "d"
   ]
  },
  {
   "cell_type": "code",
   "execution_count": 5,
   "metadata": {
    "ExecuteTime": {
     "end_time": "2024-08-19T07:56:21.436854600Z",
     "start_time": "2024-08-19T07:56:21.431792600Z"
    }
   },
   "outputs": [],
   "source": [
    "def collate_fn(batch):\n",
    "    # 定义了一个辅助函数，用于从一批数据中提取特定键的值，并转换为NumPy数组\n",
    "    collate = lambda key: np.array([b[key] for b in batch])\n",
    "    # 提取基本特征并转换为PyTorch张量\n",
    "    userId = torch.LongTensor(collate(\"userId\")).to(device)  # 将用户ID转换为长整型张量并移至指定设备\n",
    "    movieId = torch.LongTensor(collate(\"movieId\")).to(device)  # 将电影ID转换为长整型张量并移至指定设备\n",
    "    label = torch.FloatTensor(collate(\"label\")).to(device)  # 将标签转换为浮点型张量并移至指定设备\n",
    "    data_dict = {\n",
    "        \"label\": label,  # 存储标签数据\n",
    "        \"userId\": userId,  # 存储用户ID数据\n",
    "        \"movieId\": movieId,  # 存储电影ID数据\n",
    "    }\n",
    "\n",
    "    # numerical\n",
    "    num_int_features = np.stack([collate(key) for key in numeric_int_cols], axis=-1).astype(np.int64)  # 堆叠整型数值特征并转换为int64类型\n",
    "    num_float_features = np.stack([collate(key) for key in numeric_float_cols], axis=-1).astype(np.float32)  # 堆叠浮点型数值特征并转换为float32类型\n",
    "    data_dict.update({\"int_features\": torch.LongTensor(num_int_features).to(device)})  # 将整型特征转换为张量并添加到字典，tensor有2列\n",
    "    data_dict.update({\"float_features\": torch.FloatTensor(num_float_features).to(device)})  # 将浮点型特征转换为张量并添加到字典，tensor有5列\n",
    "\n",
    "    # categorical\n",
    "    categorical_features = {key: torch.LongTensor(genre2idx(collate(key).tolist())).to(device) for key in genre_cols}  # 将类别特征转换为索引，再转为张量\n",
    "    data_dict.update(categorical_features)  # 将类别特征添加到数据字典中\n",
    "\n",
    "    return data_dict  # 返回处理后的数据字典\n",
    "    \n",
    "\n",
    "# 设置批处理大小为12\n",
    "batch_size = 12\n",
    "# 创建训练数据加载器，启用随机打乱，使用自定义的collate_fn函数\n",
    "train_dl = DataLoader(train_ds, batch_size=batch_size, shuffle=True, collate_fn=collate_fn)\n",
    "# 创建测试数据加载器，不启用随机打乱，使用自定义的collate_fn函数\n",
    "test_dl = DataLoader(test_ds, batch_size=batch_size, shuffle=False, collate_fn=collate_fn)"
   ]
  },
  {
   "cell_type": "code",
   "execution_count": 6,
   "metadata": {
    "ExecuteTime": {
     "end_time": "2024-08-19T07:56:52.118255200Z",
     "start_time": "2024-08-19T07:56:52.084612900Z"
    },
    "collapsed": false
   },
   "outputs": [
    {
     "name": "stdout",
     "output_type": "stream",
     "text": [
      "torch.Size([32, 1, 10])\n",
      "torch.Size([32, 10, 1])\n"
     ]
    },
    {
     "data": {
      "text/plain": [
       "torch.Size([32, 1, 1])"
      ]
     },
     "execution_count": 6,
     "metadata": {},
     "output_type": "execute_result"
    }
   ],
   "source": [
    "input = torch.randn(32, 10)\n",
    "input=input.unsqueeze(-2)\n",
    "print(input.shape)\n",
    "mat2 = torch.randn(32, 10)\n",
    "mat2=mat2.unsqueeze(-1)\n",
    "print(mat2.shape)\n",
    "res = torch.bmm(input, mat2) # 矩阵乘法\n",
    "res.size()"
   ]
  },
  {
   "cell_type": "code",
   "execution_count": 7,
   "metadata": {
    "ExecuteTime": {
     "end_time": "2024-08-19T08:03:35.887977600Z",
     "start_time": "2024-08-19T08:03:35.874650600Z"
    }
   },
   "outputs": [
    {
     "name": "stdout",
     "output_type": "stream",
     "text": [
      "DeepFM(\n",
      "  (embedding_user): Embedding(30001, 10)\n",
      "  (embedding_item): Embedding(1001, 10)\n",
      "  (embedding_item_genre): Embedding(20, 10)\n",
      "  (embedding_user_genre): Embedding(20, 10)\n",
      "  (deep): Sequential(\n",
      "    (0): Linear(in_features=27, out_features=64, bias=True)\n",
      "    (1): ReLU()\n",
      "    (2): Linear(in_features=64, out_features=64, bias=True)\n",
      "    (3): ReLU()\n",
      "  )\n",
      "  (wide): Sequential(\n",
      "    (0): Linear(in_features=31110, out_features=1, bias=True)\n",
      "    (1): Sigmoid()\n",
      "  )\n",
      ")\n"
     ]
    }
   ],
   "source": [
    "class DeepFM(nn.Module):\n",
    "    def __init__(self, config):\n",
    "        super().__init__()  # 调用父类初始化方法\n",
    "        self.config = config  # 保存配置参数\n",
    "        self.num_users = config['num_users']  # 用户数量，30001\n",
    "        self.num_items = config['num_items']  # 物品数量，1001\n",
    "        self.latent_dim = config['latent_dim']  # 隐向量维度，10\n",
    "        self.num_geners = config['num_genre']  # 电影类型数量，20\n",
    "\n",
    "        self.embedding_user = nn.Embedding(num_embeddings=self.num_users, embedding_dim=self.latent_dim)  # 用户嵌入层\n",
    "        self.embedding_item = nn.Embedding(num_embeddings=self.num_items, embedding_dim=self.latent_dim)  # 物品嵌入层\n",
    "        self.embedding_item_genre = nn.Embedding(num_embeddings=self.num_geners, embedding_dim=self.latent_dim)  # 电影类型嵌入层\n",
    "        self.embedding_user_genre = nn.Embedding(num_embeddings=self.num_geners, embedding_dim=self.latent_dim)  # 用户喜欢类型嵌入层\n",
    "\n",
    "        self.deep = nn.Sequential(  # 深度网络部分\n",
    "            nn.Linear(\n",
    "                in_features=len(numeric_float_cols) + len(numeric_int_cols) + self.latent_dim * 2, # 输入特征维度,总和是27\n",
    "                out_features=64),  # 第一层全连接，输入为数值特征和嵌入特征\n",
    "            nn.ReLU(),  # ReLU激活函数\n",
    "            nn.Linear(in_features=64, out_features=64),  # 第二层全连接\n",
    "            nn.ReLU(),  # ReLU激活函数\n",
    "        )\n",
    "\n",
    "        self.wide = nn.Sequential(  # 宽度网络部分\n",
    "            nn.Linear(in_features=64 + 4 + self.num_users + self.num_items + self.num_geners * 2, out_features=1),  # 全连接层，输出为1\n",
    "            nn.Sigmoid(),  # Sigmoid激活函数，输出范围为[0,1]\n",
    "        )\n",
    "\n",
    "    \n",
    "    def dot_layer(self, x, y):\n",
    "        # 计算两个嵌入向量的点积\n",
    "        z=torch.bmm(x.unsqueeze(-2), y.unsqueeze(-1)).squeeze(-1)  # 批量矩阵乘法，计算点积\n",
    "        return z\n",
    "\n",
    "\n",
    "    def forward(self, batch):\n",
    "        # 获取嵌入向量\n",
    "        item_embeddings = self.embedding_item(batch[\"movieId\"])  # 电影嵌入，(batch_size, 1)-->(batch_size, 10)\n",
    "        user_embeddings = self.embedding_user(batch[\"userId\"])  # 用户嵌入，(batch_size, 1)-->(batch_size, 10)\n",
    "        item_genre_embeddings = self.embedding_item_genre(batch[\"movieGenre1\"])  # 电影类型嵌入，只用了1个\n",
    "        user_genre_embeddings = self.embedding_user_genre(batch[\"userGenre1\"])  # 用户喜欢类型嵌入，只用了1个\n",
    "\n",
    "        # FM层的一阶项\n",
    "        fm_first_order = torch.cat([\n",
    "            F.one_hot(batch[\"movieId\"], self.num_items).float(),  # 电影ID的one-hot编码\n",
    "            F.one_hot(batch[\"userId\"], self.num_users).float(),  # 用户ID的one-hot编码\n",
    "            F.one_hot(batch[\"userGenre1\"], self.num_geners).float(),  # 用户喜欢类型的one-hot编码\n",
    "            F.one_hot(batch[\"movieGenre1\"], self.num_geners).float(),  # 电影类型的one-hot编码\n",
    "            ], dim=-1)  # 拼接所有one-hot编码，总维度30001+1001+20=31022\n",
    "\n",
    "        # FM部分，交叉不同类别特征的嵌入\n",
    "        product_item_user = self.dot_layer(item_embeddings, user_embeddings)  # 电影和用户嵌入的交互\n",
    "        product_item_genre_user_genre = self.dot_layer(item_genre_embeddings, user_genre_embeddings)  # 电影类型和用户喜欢类型的交互\n",
    "        product_item_genre_user = self.dot_layer(item_genre_embeddings, user_embeddings)  # 电影类型和用户的交互\n",
    "        product_user_genre_item = self.dot_layer(item_embeddings, user_genre_embeddings)  # 电影和用户喜欢类型的交互\n",
    "\n",
    "        # 深度网络特征\n",
    "        deep_inputs = torch.concat([batch[\"int_features\"], batch[\"float_features\"], item_embeddings, user_embeddings], dim=1)  # 拼接整型特征、浮点型特征和嵌入向量\n",
    "        deep_features = self.deep(deep_inputs)  # 通过深度网络处理\n",
    "\n",
    "        # 拼接所有特征\n",
    "        concated_features = torch.concat([fm_first_order, product_item_user, product_item_genre_user_genre, product_item_genre_user, product_user_genre_item, deep_features], dim=1)  # 31042+1+1+1+1+64=31110\n",
    "        \n",
    "        # 输出层\n",
    "        output = self.wide(concated_features)  # 通过宽度网络得到最终输出\n",
    "\n",
    "        return output  # 返回预测结果\n",
    "    \n",
    "config = {  # 模型配置参数\n",
    "    \"num_users\": 30001,  # 用户数量\n",
    "    \"num_items\": 1001,  # 物品数量\n",
    "    \"latent_dim\": 10,  # 隐向量维度\n",
    "    \"num_genre\": len(genre_vocab),  # 电影类型数量\n",
    "}\n",
    "\n",
    "model = DeepFM(config)  # 创建DeepFM模型实例\n",
    "\n",
    "# torch.save(model, \"./DeepFM_model.pth\")  # 保存模型（已注释）\n",
    "print(model)  # 打印模型结构"
   ]
  },
  {
   "cell_type": "code",
   "execution_count": 8,
   "metadata": {},
   "outputs": [
    {
     "data": {
      "text/plain": [
       "31022"
      ]
     },
     "execution_count": 8,
     "metadata": {},
     "output_type": "execute_result"
    }
   ],
   "source": [
    "30001+1001+20"
   ]
  },
  {
   "cell_type": "code",
   "execution_count": 9,
   "metadata": {},
   "outputs": [
    {
     "data": {
      "text/plain": [
       "31110"
      ]
     },
     "execution_count": 9,
     "metadata": {},
     "output_type": "execute_result"
    }
   ],
   "source": [
    "30001+1001+20+20+64+4"
   ]
  },
  {
   "cell_type": "code",
   "execution_count": 10,
   "metadata": {
    "ExecuteTime": {
     "end_time": "2024-05-17T12:58:53.215088800Z",
     "start_time": "2024-05-17T12:58:53.204095200Z"
    }
   },
   "outputs": [],
   "source": [
    "from tqdm.auto import tqdm\n",
    "from sklearn.metrics import average_precision_score, roc_auc_score, accuracy_score\n",
    "\n",
    "num_epochs = 5\n",
    "lr = 0.001\n",
    "\n",
    "criterion = nn.BCELoss() #二进制交叉熵损失函数\n",
    "optimizer = torch.optim.Adam(model.parameters(), lr=lr)\n",
    "\n",
    "@torch.no_grad()\n",
    "def evaluate(model, dl, criterion):\n",
    "    # 遍历dl，计算loss和accuracy、auc\n",
    "    model.eval()\n",
    "    losses = []\n",
    "    truth = []\n",
    "    prediction = []\n",
    "    for batch in dl:\n",
    "        labels = batch[\"label\"]\n",
    "        outputs = model(batch)\n",
    "        loss = criterion(outputs.reshape(-1), labels)\n",
    "        losses.append(loss.item())\n",
    "        truth.append(labels.cpu().numpy())\n",
    "        prediction.append(outputs.cpu().numpy())\n",
    "\n",
    "    # compute metrics\n",
    "    loss = np.mean(losses)\n",
    "    truth = np.concatenate(truth)\n",
    "    prediction = np.concatenate(prediction)\n",
    "\n",
    "    accuracy = accuracy_score(truth, prediction > 0.5)\n",
    "    auc_roc = roc_auc_score(truth, prediction)\n",
    "    auc_pr = average_precision_score(truth, prediction)\n",
    "    return loss, accuracy, auc_roc, auc_pr\n",
    "\n",
    "def train(model, train_dl, val_dl, criterion, optimizer):\n",
    "    model.to(device)\n",
    "    for epoch in tqdm(range(num_epochs)):\n",
    "        model.train()\n",
    "        for batch in train_dl:\n",
    "            labels = batch[\"label\"]\n",
    "            \n",
    "            outputs = model(batch)\n",
    "            loss = criterion(outputs.reshape(-1), labels)\n",
    "            optimizer.zero_grad()\n",
    "            loss.backward()\n",
    "            optimizer.step()\n",
    "        val_loss, val_acc, val_auc_roc, val_auc_pr = evaluate(model, val_dl, criterion)\n",
    "        print(f\"Epoch: {epoch}, val_loss: {val_loss:.4f}, val_acc: {val_acc:.4f}, val_auc_roc: {val_auc_roc:.4f}, val_auc_pr: {val_auc_pr:.4f}\")\n",
    "\n",
    "    return\n"
   ]
  },
  {
   "cell_type": "code",
   "execution_count": 11,
   "metadata": {
    "ExecuteTime": {
     "end_time": "2024-05-17T12:58:53.430965Z",
     "start_time": "2024-05-17T12:58:53.212091600Z"
    }
   },
   "outputs": [
    {
     "data": {
      "application/vnd.jupyter.widget-view+json": {
       "model_id": "46f2e876c95f4aed844f7ea6476c93a3",
       "version_major": 2,
       "version_minor": 0
      },
      "text/plain": [
       "  0%|          | 0/5 [00:00<?, ?it/s]"
      ]
     },
     "metadata": {},
     "output_type": "display_data"
    },
    {
     "name": "stdout",
     "output_type": "stream",
     "text": [
      "Epoch: 0, val_loss: 0.6121, val_acc: 0.6684, val_auc_roc: 0.7285, val_auc_pr: 0.7609\n",
      "Epoch: 1, val_loss: 0.5965, val_acc: 0.6789, val_auc_roc: 0.7445, val_auc_pr: 0.7762\n",
      "Epoch: 2, val_loss: 0.5863, val_acc: 0.6865, val_auc_roc: 0.7483, val_auc_pr: 0.7787\n",
      "Epoch: 3, val_loss: 0.5864, val_acc: 0.6857, val_auc_roc: 0.7483, val_auc_pr: 0.7781\n",
      "Epoch: 4, val_loss: 0.6004, val_acc: 0.6807, val_auc_roc: 0.7403, val_auc_pr: 0.7701\n"
     ]
    }
   ],
   "source": [
    "train(model, train_dl, test_dl, criterion, optimizer)"
   ]
  },
  {
   "cell_type": "code",
   "execution_count": 12,
   "metadata": {},
   "outputs": [
    {
     "name": "stdout",
     "output_type": "stream",
     "text": [
      "Predicted good rating: 81.25%  | Actual rating label:  Bad Rating\n",
      "Predicted good rating: 60.10%  | Actual rating label:  Bad Rating\n",
      "Predicted good rating: 57.03%  | Actual rating label:  Good Rating\n",
      "Predicted good rating: 28.08%  | Actual rating label:  Good Rating\n",
      "Predicted good rating: 8.40%  | Actual rating label:  Good Rating\n",
      "Predicted good rating: 79.06%  | Actual rating label:  Good Rating\n",
      "Predicted good rating: 63.24%  | Actual rating label:  Good Rating\n",
      "Predicted good rating: 77.32%  | Actual rating label:  Good Rating\n",
      "Predicted good rating: 72.07%  | Actual rating label:  Good Rating\n",
      "Predicted good rating: 69.66%  | Actual rating label:  Bad Rating\n",
      "Predicted good rating: 13.54%  | Actual rating label:  Bad Rating\n",
      "Predicted good rating: 74.21%  | Actual rating label:  Bad Rating\n"
     ]
    }
   ],
   "source": [
    "with torch.no_grad():\n",
    "    # predict\n",
    "    model.eval()\n",
    "    for batch in test_dl:\n",
    "        labels = batch[\"label\"]\n",
    "        outputs = model(batch)\n",
    "        break\n",
    "\n",
    "for output, label in zip(outputs[:12, 0], labels[:12]):\n",
    "    print(\"Predicted good rating: {:.2%}\".format(output),\n",
    "          \" | Actual rating label: \",\n",
    "          (\"Good Rating\" if bool(label) else \"Bad Rating\"))\n"
   ]
  }
 ],
 "metadata": {
  "kernelspec": {
   "display_name": "Python 3",
   "language": "python",
   "name": "python3"
  },
  "language_info": {
   "codemirror_mode": {
    "name": "ipython",
    "version": 3
   },
   "file_extension": ".py",
   "mimetype": "text/x-python",
   "name": "python",
   "nbconvert_exporter": "python",
   "pygments_lexer": "ipython3",
   "version": "3.12.3"
  },
  "orig_nbformat": 4
 },
 "nbformat": 4,
 "nbformat_minor": 2
}
