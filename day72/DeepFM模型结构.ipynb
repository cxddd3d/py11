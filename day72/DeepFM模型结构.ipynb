{
 "cells": [
  {
   "metadata": {},
   "cell_type": "markdown",
   "source": [
    "# 模型概述\n",
    "DeepFM = FM部分（低阶特征交互） + DNN部分（高阶特征组合）\n",
    "共享嵌入层，端到端训练，无需特征工程\n",
    "\n",
    "# 核心结构\n",
    "## 1. 输入层\n",
    "特征类型\t特征列表\t维度\n",
    "数值特征\treleaseYear, movieAvgRating, movieRatingStddev, userAvgRating, userRatingStddev\t5\n",
    "整型特征\tmovieRatingCount, userRatingCount\t2\n",
    "类别特征\tuserId, movieId, userGenre1, movieGenre1\t4\n",
    "## 2. 嵌入层\n",
    "嵌入层\t输入维度\t输出维度\t说明\n",
    "embedding_user\t30001\t10\t用户ID嵌入\n",
    "embedding_item\t1001\t10\t电影ID嵌入\n",
    "embedding_user_genre\t20\t10\t用户类型嵌入\n",
    "embedding_item_genre\t20\t10\t电影类型嵌入\n",
    "## 3. FM部分（因子分解机）\n",
    "一阶项\n",
    "\n",
    "python\n",
    "one_hot(userId) + one_hot(movieId) + one_hot(userGenre1) + one_hot(movieGenre1)\n",
    "总维度: 30001 + 1001 + 20 + 20 = 31042\n",
    "二阶交互项（点积计算）\n",
    "\n",
    "电影×用户 → dot(item_emb, user_emb)\n",
    "\n",
    "电影类型×用户类型 → dot(item_genre_emb, user_genre_emb)\n",
    "\n",
    "电影类型×用户 → dot(item_genre_emb, user_emb)\n",
    "\n",
    "电影×用户类型 → dot(item_emb, user_genre_emb)\n",
    "→ 输出4维\n",
    "\n",
    "## 4. DNN部分（深度神经网络）\n",
    "输入 = 数值特征(7) + 嵌入特征(20) = 27维\n",
    "Sequential(\n",
    "  Linear(27, 64) → ReLU(),\n",
    "  Linear(64, 64) → ReLU()\n",
    ")\n",
    "→ 输出64维\n",
    "## 5. 输出层\n",
    "输入 = FM一阶(31042) + FM二阶(4) + DNN(64) = 31110维\n",
    "Sequential(\n",
    "  Linear(31110, 1),\n",
    "  Sigmoid()  # 输出概率值\n",
    ")"
   ],
   "id": "83690db36a194737"
  }
 ],
 "metadata": {
  "kernelspec": {
   "display_name": "Python 3",
   "language": "python",
   "name": "python3"
  },
  "language_info": {
   "codemirror_mode": {
    "name": "ipython",
    "version": 2
   },
   "file_extension": ".py",
   "mimetype": "text/x-python",
   "name": "python",
   "nbconvert_exporter": "python",
   "pygments_lexer": "ipython2",
   "version": "2.7.6"
  }
 },
 "nbformat": 4,
 "nbformat_minor": 5
}
