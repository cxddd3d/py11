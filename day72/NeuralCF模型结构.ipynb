{
 "cells": [
  {
   "metadata": {},
   "cell_type": "markdown",
   "source": [
    "# 1. MLP（多层感知机）\n",
    "嵌入层：\n",
    "包含用户嵌入层（embedding_user）和物品嵌入层（embedding_item），将用户 ID 和物品 ID 分别映射到维度为latent_dim的隐向量。\n",
    "交互层：\n",
    "先将用户隐向量和物品隐向量在最后一个维度拼接，得到维度为2*latent_dim的向量。\n",
    "接着通过两层全连接网络：\n",
    "第一层：输入维度2*latent_dim，输出维度 10，激活函数为 ReLU。\n",
    "第二层：输入维度 10，输出维度 10，激活函数为 ReLU。\n",
    "输出层：\n",
    "全连接层：输入维度 10，输出维度 1。\n",
    "经过 Sigmoid 函数将输出映射到 0-1 之间，得到预测评分。\n",
    "# 2. GMF（广义矩阵分解）\n",
    "嵌入层：\n",
    "包含用户嵌入层（embedding_user）和物品嵌入层（embedding_item），将用户 ID 和物品 ID 分别映射到维度为latent_dim的隐向量。\n",
    "交互层：\n",
    "对用户隐向量和物品隐向量做元素级乘法（内积），得到维度为latent_dim的向量。\n",
    "输出层：\n",
    "全连接层：输入维度latent_dim，输出维度 1。\n",
    "经过 Sigmoid 函数将输出映射到 0-1 之间，得到预测评分。\n",
    "# 3. NeuMF（神经矩阵分解）\n",
    "嵌入层：\n",
    "MLP 分支：用户嵌入层（embedding_user_mlp）和物品嵌入层（embedding_item_mlp），映射到维度为latent_dim_mlp的隐向量。\n",
    "GMF 分支：用户嵌入层（embedding_user_mf）和物品嵌入层（embedding_item_mf），映射到维度为latent_dim_mf的隐向量。\n",
    "交互层：\n",
    "MLP 分支：将用户和物品隐向量拼接（维度2*latent_dim_mlp），通过与 MLP 模型相同的两层全连接网络（输出维度 10）。\n",
    "GMF 分支：对用户和物品隐向量做元素级乘法（维度latent_dim_mf）。\n",
    "融合：将 MLP 分支输出和 GMF 分支输出在最后一个维度拼接，得到维度为10 + latent_dim_mf的向量。\n",
    "输出层：\n",
    "全连接层：输入维度10 + latent_dim_mf，输出维度 1。\n",
    "经过 Sigmoid 函数将输出映射到 0-1 之间，得到预测评分。\n",
    "# 总结\n",
    "GMF 基于矩阵分解思想，通过隐向量内积捕获线性交互关系。\n",
    "MLP 利用神经网络捕获用户和物品的非线性交互关系。\n",
    "NeuMF 是 GMF 和 MLP 的融合模型，同时捕获线性和非线性交互，通过双嵌入层分别处理两个分支的特征，最终融合输出。"
   ],
   "id": "91f5730a71fc791a"
  }
 ],
 "metadata": {
  "kernelspec": {
   "display_name": "Python 3",
   "language": "python",
   "name": "python3"
  },
  "language_info": {
   "codemirror_mode": {
    "name": "ipython",
    "version": 2
   },
   "file_extension": ".py",
   "mimetype": "text/x-python",
   "name": "python",
   "nbconvert_exporter": "python",
   "pygments_lexer": "ipython2",
   "version": "2.7.6"
  }
 },
 "nbformat": 4,
 "nbformat_minor": 5
}
