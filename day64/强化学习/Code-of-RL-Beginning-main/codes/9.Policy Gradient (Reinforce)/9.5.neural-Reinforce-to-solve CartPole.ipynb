{
 "cells": [
  {
   "cell_type": "code",
   "id": "2d980dfd-813f-426d-91c3-1e71cf39aa29",
   "metadata": {
    "ExecuteTime": {
     "end_time": "2025-08-08T13:44:06.389399Z",
     "start_time": "2025-08-08T13:44:03.992531Z"
    }
   },
   "source": [
    "import gym\n",
    "import torch\n",
    "import torch.nn as nn\n",
    "import torch.nn.functional as F\n",
    "from scipy.special import softmax\n",
    "import numpy as np\n",
    "import os\n",
    "\n",
    "import matplotlib.pyplot as plt\n",
    "from tqdm import tqdm\n",
    "\n",
    "import draw\n",
    "import utils"
   ],
   "outputs": [
    {
     "name": "stderr",
     "output_type": "stream",
     "text": [
      "Gym has been unmaintained since 2022 and does not support NumPy 2.0 amongst other critical functionality.\n",
      "Please upgrade to Gymnasium, the maintained drop-in replacement of Gym, or contact the authors of your software and request that they upgrade.\n",
      "See the migration guide at https://gymnasium.farama.org/introduction/migration_guide/ for additional information.\n"
     ]
    }
   ],
   "execution_count": 1
  },
  {
   "cell_type": "code",
   "id": "8e1c97c1-600f-450f-91d8-a01e2d2bb775",
   "metadata": {
    "ExecuteTime": {
     "end_time": "2025-08-08T13:44:06.393407Z",
     "start_time": "2025-08-08T13:44:06.390407Z"
    }
   },
   "source": [
    "# !pip install -i https://pypi.tuna.tsinghua.edu.cn/simple gym==0.25.2\n",
    "# !pip install -i https://pypi.tuna.tsinghua.edu.cn/simple pygame==2.5.2\n",
    "# !pip install  moviepy"
   ],
   "outputs": [],
   "execution_count": 2
  },
  {
   "cell_type": "code",
   "id": "e098e422-6333-47de-ac33-f4c2dbee52c3",
   "metadata": {
    "ExecuteTime": {
     "end_time": "2025-08-08T13:44:06.401925Z",
     "start_time": "2025-08-08T13:44:06.394918Z"
    }
   },
   "source": [
    "from base64 import b64encode  # 导入base64编码函数，用于视频编码\n",
    "from IPython.display import display, HTML  # 导入display和HTML函数，用于在Jupyter中显示内容\n",
    "# from moviepy.editor import ImageSequenceClip  # 导入ImageSequenceClip（已注释），用于创建视频剪辑\n",
    "\n",
    "# 录制CartPole环境的视频\n",
    "def record_video(agent, env_name='CartPole-v0', video_dir='video'):  # 定义录制视频的函数，参数为智能体、环境名称和视频保存目录\n",
    "    env = gym.make(env_name)  # 创建指定名称的gym环境\n",
    "    env = gym.wrappers.RecordVideo(env, video_dir, episode_trigger=lambda x: True)  # 使用RecordVideo包装器记录每个回合的视频\n",
    "    state = env.reset()  # 重置环境并获取初始状态\n",
    "    done = False  # 初始化终止标志为False\n",
    "    cnt = 0  # 初始化步数计数器\n",
    "    while not done:  # 当回合未结束时循环\n",
    "        action = agent.take_action(state)  # 智能体根据当前状态选择动作\n",
    "        state, _, done, _ = env.step(action)  # 执行动作，获取新状态和是否终止的信息\n",
    "        cnt = cnt+1  # 步数加1\n",
    "    print(cnt)  # 打印总步数\n",
    "    env.close()  # 关闭环境\n",
    "\n",
    "def display_video(file_path):  # 定义显示视频的函数，参数为视频文件路径\n",
    "    video = open(file_path, \"rb\").read()  # 以二进制模式读取视频文件\n",
    "    encoded_video = b64encode(video).decode(\"ascii\")  # 将视频内容编码为base64字符串\n",
    "    display(HTML(data=f\"\"\"  # 使用HTML显示视频\n",
    "        <video width=\"640\" height=\"480\" controls>  <!-- 创建视频元素，设置宽高和控制栏 -->\n",
    "            <source src=\"data:video/mp4;base64,{encoded_video}\" type=\"video/mp4\" />  <!-- 设置视频源为base64编码的数据 -->\n",
    "        </video>\n",
    "    \"\"\"))"
   ],
   "outputs": [],
   "execution_count": 3
  },
  {
   "cell_type": "code",
   "id": "c9fa4566-a8de-4dbc-bb30-189c31a128d0",
   "metadata": {
    "ExecuteTime": {
     "end_time": "2025-08-08T13:44:06.407327Z",
     "start_time": "2025-08-08T13:44:06.403327Z"
    }
   },
   "source": [
    "class PolicyNet(torch.nn.Module):\n",
    "    \"\"\"\n",
    "    输入状态，输出是策略值，action_dim是2\n",
    "    \"\"\"\n",
    "    def __init__(self, state_dim, hidden_dim, action_dim):\n",
    "        super(PolicyNet, self).__init__()\n",
    "        self.fc1 = torch.nn.Linear(state_dim, 128)\n",
    "        self.fc2 = torch.nn.Linear(128, action_dim)\n",
    "\n",
    "    def forward(self, x):\n",
    "        x = F.relu(self.fc1(x))\n",
    "        return F.softmax(self.fc2(x), dim=-1)"
   ],
   "outputs": [],
   "execution_count": 4
  },
  {
   "cell_type": "code",
   "id": "ffbbd90e-b0b2-47ba-a9e3-a0e3fdaa1118",
   "metadata": {
    "ExecuteTime": {
     "end_time": "2025-08-08T13:44:06.416628Z",
     "start_time": "2025-08-08T13:44:06.408840Z"
    }
   },
   "source": [
    "class REINFORCE:\n",
    "    def __init__(self, state_dim, hidden_dim, action_dim, learning_rate, gamma, device = torch.device(\"cpu\")):\n",
    "        self.action_dim = action_dim  # 动作空间维度\n",
    "        self.state_dim =state_dim  # 状态空间维度\n",
    "        self.policy_net = PolicyNet(state_dim, hidden_dim, action_dim).to(device)  # 创建策略网络并移至指定设备\n",
    "        self.device = device  # 计算设备（CPU或GPU）\n",
    "        \n",
    "        self.optimizer = torch.optim.Adam(self.policy_net.parameters(), lr=learning_rate)  # 使用Adam优化器\n",
    "        self.gamma = gamma  # 折扣因子\n",
    "        self.epsilon = 1  # 探索率，初始值为1\n",
    "\n",
    "    def save_model(self, path):\n",
    "        torch.save(self.policy_net.state_dict(), path)  # 保存模型参数\n",
    "\n",
    "    def load_model(self, path):\n",
    "        self.policy_net.load_state_dict(torch.load(path, map_location=self.device))  # 加载模型参数\n",
    "        \n",
    "    def save_model(self, path):\n",
    "        torch.save(self.policy_net, path)  # 保存整个模型\n",
    "    def load_model(self, path):\n",
    "        self.policy_net = torch.load(path)  # 加载整个模型\n",
    "        \n",
    "    def take_action(self, state): \n",
    "        if np.random.rand() < self.epsilon:  # 以epsilon的概率随机选择动作（探索）\n",
    "            return np.random.choice(self.action_dim)  # 随机选择一个动作\n",
    "        else:\n",
    "            input = torch.tensor(state, dtype=torch.float).to(self.device)  # 将状态转换为张量并移至设备\n",
    "            output = self.policy_net(input)  # 通过策略网络获取动作概率分布\n",
    "            now_frame_probabilities  = output.detach().cpu().numpy()  # 将概率分布转换为numpy数组\n",
    "            action = np.random.choice(self.action_dim, p=now_frame_probabilities)  # 根据概率分布采样动作\n",
    "            return action  # 返回选择的动作\n",
    "    \n",
    "    def update(self, transition_dict):\n",
    "        reward_list = transition_dict['rewards']  # 获取奖励列表\n",
    "        state_list = transition_dict['states']  # 获取状态列表\n",
    "        action_list = transition_dict['actions']  # 获取动作列表\n",
    "        G = 0  # 初始化累积奖励为0\n",
    "        self.optimizer.zero_grad()  # 清空梯度\n",
    "        for i in reversed(range(len(reward_list))):  # 从最后一步算起\n",
    "            reward = reward_list[i]  # 获取当前步骤的奖励\n",
    "            state = state_list[i]  # 获取当前步骤的状态\n",
    "            action = action_list[i]  # 获取当前步骤的动作\n",
    "            G = self.gamma * G + reward  # 计算折扣累积奖励\n",
    "            input = torch.tensor(state, dtype=torch.float).to(self.device)  # 将状态转换为张量并移至设备\n",
    "            log_prob = torch.log(self.policy_net(input)[action])  # 对所选动作的概率求对数，用于计算梯度\n",
    "            loss = log_prob * G  # 计算损失函数，G为正时鼓励该动作，G为负时惩罚该动作\n",
    "            loss = -loss  # 梯度上升（最大化期望回报），需要将损失取负\n",
    "            loss.backward()  # 反向传播计算梯度\n",
    "        self.optimizer.step()  # 更新网络参数"
   ],
   "outputs": [],
   "execution_count": 5
  },
  {
   "cell_type": "code",
   "id": "034cd99f-d895-4914-9b50-88487b91231a",
   "metadata": {
    "ExecuteTime": {
     "end_time": "2025-08-08T13:44:06.424941Z",
     "start_time": "2025-08-08T13:44:06.418635Z"
    }
   },
   "source": [
    "def train():\n",
    "    env = gym.make('CartPole-v0')  # 创建CartPole-v0环境\n",
    "    agent = REINFORCE(state_dim = 4,  # 创建REINFORCE智能体，状态维度为4\n",
    "              hidden_dim= 128,  # 隐藏层维度为128\n",
    "              action_dim = 2,  # 动作维度为2\n",
    "              learning_rate = 0.001,  # 学习率设为0.001\n",
    "              gamma = 0.98)  # 折扣因子设为0.98\n",
    "\n",
    "    print(agent.policy_net)  # 打印策略网络结构\n",
    "    return_list = []  # 初始化回报列表，用于记录每个回合的累积奖励\n",
    "    agent.epsilon = 0  # 将探索率设为0，即完全依赖策略网络选择动作\n",
    "    num_episodes = 3000  # 设置训练回合数为300\n",
    "    pbar = tqdm(range(num_episodes))  # 创建进度条\n",
    "    for i in pbar:# 10000  # 循环训练指定回合数\n",
    "        episode_return = 0  # 初始化当前回合的累积奖励为0\n",
    "        transition_dict = {  # 初始化转移字典，用于存储轨迹数据\n",
    "            'states': [],  # 状态列表\n",
    "            'actions': [],  # 动作列表\n",
    "            'next_states': [],  # 下一状态列表\n",
    "            'rewards': [],  # 奖励列表\n",
    "            'dones': []  # 终止标志列表\n",
    "        }\n",
    "        state = env.reset()  # 重置环境，获取初始状态\n",
    "        done = False  # 初始化终止标志为False\n",
    "        cnt = 0  # 初始化步数计数器为0\n",
    "        while not done:  # 当回合未结束时循环\n",
    "            cnt = cnt + 1  # 步数计数器加1\n",
    "            # print(state)  # (注释掉的代码)打印当前状态\n",
    "            action = agent.take_action(state) ########  # 智能体根据当前状态选择动作\n",
    "            # print(action)  # (注释掉的代码)打印选择的动作\n",
    "            next_state, reward, done, _ = env.step(action)  # 执行动作，获取下一状态、奖励、终止标志和其他信息\n",
    "            transition_dict['states'].append(state)  # 将当前状态添加到状态列表\n",
    "            transition_dict['actions'].append(action)  # 将当前动作添加到动作列表\n",
    "            transition_dict['next_states'].append(next_state)  # 将下一状态添加到下一状态列表\n",
    "            transition_dict['rewards'].append(reward)  # 将奖励添加到奖励列表\n",
    "            transition_dict['dones'].append(done)  # 将终止标志添加到终止标志列表\n",
    "            state = next_state  # 更新当前状态为下一状态\n",
    "            episode_return += reward  # 累加奖励\n",
    "        return_list.append(episode_return)  # 将当前回合的累积奖励添加到回报列表\n",
    "        agent.update(transition_dict)  # 使用收集的轨迹数据更新智能体的策略网络\n",
    "        if (i + 1) % 10 == 0:  # 每10个回合\n",
    "            pbar.set_postfix({  # 更新进度条显示的信息\n",
    "                'episode':\n",
    "                '%d' % i,  # 显示当前回合数\n",
    "                'return':\n",
    "                '%.3f' % np.mean(return_list[-10:]),  # 显示最近10个回合的平均回报\n",
    "                'cnt': cnt  # 显示最后一个回合的步数\n",
    "            })\n",
    "        pbar.update(1)  # 更新进度条\n",
    "\n",
    "        if(i % 100==0):  # 每100个回合\n",
    "            agent.save_model('./models/'+f\"{i}.pth\")  # 保存模型到指定路径\n",
    "\n",
    "    print(sum(return_list)/len(return_list))  # 打印所有回合的平均回报\n",
    "    agent.save_model('./models/'+f\"{num_episodes}.pth\")  # 保存最终模型\n",
    "    return agent  # 返回训练好的智能体"
   ],
   "outputs": [],
   "execution_count": 6
  },
  {
   "cell_type": "code",
   "id": "f80548e1-b51d-487a-aac7-efee3a7ffc68",
   "metadata": {
    "ExecuteTime": {
     "end_time": "2025-08-08T13:47:37.262485Z",
     "start_time": "2025-08-08T13:44:06.425946Z"
    }
   },
   "source": [
    "training_agent = train()"
   ],
   "outputs": [
    {
     "name": "stderr",
     "output_type": "stream",
     "text": [
      "C:\\Users\\HDS\\AppData\\Roaming\\Python\\Python312\\site-packages\\gym\\envs\\registration.py:593: UserWarning: \u001B[33mWARN: The environment CartPole-v0 is out of date. You should consider upgrading to version `v1`.\u001B[0m\n",
      "  logger.warn(\n",
      "C:\\Users\\HDS\\AppData\\Roaming\\Python\\Python312\\site-packages\\gym\\core.py:317: DeprecationWarning: \u001B[33mWARN: Initializing wrapper in old step API which returns one bool instead of two. It is recommended to set `new_step_api=True` to use new step API. This will be the default behaviour in future.\u001B[0m\n",
      "  deprecation(\n",
      "C:\\Users\\HDS\\AppData\\Roaming\\Python\\Python312\\site-packages\\gym\\wrappers\\step_api_compatibility.py:39: DeprecationWarning: \u001B[33mWARN: Initializing environment in old step API which returns one bool instead of two. It is recommended to set `new_step_api=True` to use new step API. This will be the default behaviour in future.\u001B[0m\n",
      "  deprecation(\n"
     ]
    },
    {
     "name": "stdout",
     "output_type": "stream",
     "text": [
      "PolicyNet(\n",
      "  (fc1): Linear(in_features=4, out_features=128, bias=True)\n",
      "  (fc2): Linear(in_features=128, out_features=2, bias=True)\n",
      ")\n"
     ]
    },
    {
     "name": "stderr",
     "output_type": "stream",
     "text": [
      "  0%|          | 0/3000 [00:00<?, ?it/s]C:\\Users\\HDS\\AppData\\Roaming\\Python\\Python312\\site-packages\\gym\\utils\\passive_env_checker.py:241: DeprecationWarning: `np.bool8` is a deprecated alias for `np.bool_`.  (Deprecated NumPy 1.24)\n",
      "  if not isinstance(terminated, (bool, np.bool8)):\n",
      "100%|██████████| 3000/3000 [03:29<00:00, 14.31it/s, episode=2999, return=200.000, cnt=200]"
     ]
    },
    {
     "name": "stdout",
     "output_type": "stream",
     "text": [
      "177.664\n"
     ]
    },
    {
     "name": "stderr",
     "output_type": "stream",
     "text": [
      "\n"
     ]
    }
   ],
   "execution_count": 7
  },
  {
   "cell_type": "code",
   "id": "e0618e01-0939-4ce0-becc-7646658751e5",
   "metadata": {
    "ExecuteTime": {
     "end_time": "2025-08-08T13:47:38.486183Z",
     "start_time": "2025-08-08T13:47:37.263502Z"
    }
   },
   "source": [
    "record_video(training_agent)\n",
    "display_video('./video/rl-video-episode-0.mp4')"
   ],
   "outputs": [
    {
     "name": "stderr",
     "output_type": "stream",
     "text": [
      "C:\\Users\\HDS\\AppData\\Roaming\\Python\\Python312\\site-packages\\gym\\envs\\registration.py:593: UserWarning: \u001B[33mWARN: The environment CartPole-v0 is out of date. You should consider upgrading to version `v1`.\u001B[0m\n",
      "  logger.warn(\n",
      "C:\\Users\\HDS\\AppData\\Roaming\\Python\\Python312\\site-packages\\gym\\core.py:317: DeprecationWarning: \u001B[33mWARN: Initializing wrapper in old step API which returns one bool instead of two. It is recommended to set `new_step_api=True` to use new step API. This will be the default behaviour in future.\u001B[0m\n",
      "  deprecation(\n",
      "C:\\Users\\HDS\\AppData\\Roaming\\Python\\Python312\\site-packages\\gym\\wrappers\\step_api_compatibility.py:39: DeprecationWarning: \u001B[33mWARN: Initializing environment in old step API which returns one bool instead of two. It is recommended to set `new_step_api=True` to use new step API. This will be the default behaviour in future.\u001B[0m\n",
      "  deprecation(\n",
      "C:\\Users\\HDS\\AppData\\Roaming\\Python\\Python312\\site-packages\\gym\\wrappers\\record_video.py:78: UserWarning: \u001B[33mWARN: Overwriting existing videos at D:\\python11\\day64\\强化学习\\Code-of-RL-Beginning-main\\codes\\9.Policy Gradient (Reinforce)\\video folder (try specifying a different `video_folder` for the `RecordVideo` wrapper if this is not desired)\u001B[0m\n",
      "  logger.warn(\n",
      "C:\\Users\\HDS\\AppData\\Roaming\\Python\\Python312\\site-packages\\gym\\wrappers\\monitoring\\video_recorder.py:78: DeprecationWarning: \u001B[33mWARN: Recording ability for environment CartPole-v0 initialized with `render_mode=None` is marked as deprecated and will be removed in the future.\u001B[0m\n",
      "  logger.deprecation(\n",
      "C:\\Users\\HDS\\AppData\\Roaming\\Python\\Python312\\site-packages\\gym\\core.py:43: DeprecationWarning: \u001B[33mWARN: The argument mode in render method is deprecated; use render_mode during environment initialization instead.\n",
      "See here for more information: https://www.gymlibrary.ml/content/api/\u001B[0m\n",
      "  deprecation(\n",
      "C:\\Users\\HDS\\AppData\\Roaming\\Python\\Python312\\site-packages\\pygame\\pkgdata.py:25: UserWarning: pkg_resources is deprecated as an API. See https://setuptools.pypa.io/en/latest/pkg_resources.html. The pkg_resources package is slated for removal as early as 2025-11-30. Refrain from using this package or pin to Setuptools<81.\n",
      "  from pkg_resources import resource_stream, resource_exists\n",
      "C:\\Users\\HDS\\AppData\\Roaming\\Python\\Python312\\site-packages\\gym\\wrappers\\monitoring\\video_recorder.py:428: DeprecationWarning: 'pkgutil.find_loader' is deprecated and slated for removal in Python 3.14; use importlib.util.find_spec() instead\n",
      "  elif pkgutil.find_loader(\"imageio_ffmpeg\"):\n",
      "C:\\Users\\HDS\\AppData\\Roaming\\Python\\Python312\\site-packages\\gym\\utils\\passive_env_checker.py:241: DeprecationWarning: `np.bool8` is a deprecated alias for `np.bool_`.  (Deprecated NumPy 1.24)\n",
      "  if not isinstance(terminated, (bool, np.bool8)):\n",
      "C:\\Users\\HDS\\AppData\\Roaming\\Python\\Python312\\site-packages\\gym\\core.py:43: DeprecationWarning: \u001B[33mWARN: The argument mode in render method is deprecated; use render_mode during environment initialization instead.\n",
      "See here for more information: https://www.gymlibrary.ml/content/api/\u001B[0m\n",
      "  deprecation(\n"
     ]
    },
    {
     "name": "stdout",
     "output_type": "stream",
     "text": [
      "200\n"
     ]
    },
    {
     "data": {
      "text/plain": [
       "<IPython.core.display.HTML object>"
      ],
      "text/html": [
       "  # 使用HTML显示视频\n",
       "        <video width=\"640\" height=\"480\" controls>  <!-- 创建视频元素，设置宽高和控制栏 -->\n",
       "            <source src=\"data:video/mp4;base64,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\" type=\"video/mp4\" />  <!-- 设置视频源为base64编码的数据 -->\n",
       "        </video>\n",
       "    "
      ]
     },
     "metadata": {},
     "output_type": "display_data"
    }
   ],
   "execution_count": 8
  },
  {
   "cell_type": "code",
   "id": "97dd53a0-155c-4c65-a695-a36bc718a15b",
   "metadata": {
    "ExecuteTime": {
     "end_time": "2025-08-08T13:47:38.866487Z",
     "start_time": "2025-08-08T13:47:38.487494Z"
    }
   },
   "source": [
    "agent123 = REINFORCE(state_dim = 4, \n",
    "          hidden_dim= 128, \n",
    "          action_dim = 2, \n",
    "          learning_rate = 0.001, \n",
    "          gamma = 0.98)\n",
    "agent123.epsilon = 0\n",
    "agent123.load_model('./models/3000.pth')\n",
    "record_video(agent123)\n",
    "display_video('./video/rl-video-episode-0.mp4')"
   ],
   "outputs": [
    {
     "ename": "UnpicklingError",
     "evalue": "Weights only load failed. This file can still be loaded, to do so you have two options, \u001B[1mdo those steps only if you trust the source of the checkpoint\u001B[0m. \n\t(1) In PyTorch 2.6, we changed the default value of the `weights_only` argument in `torch.load` from `False` to `True`. Re-running `torch.load` with `weights_only` set to `False` will likely succeed, but it can result in arbitrary code execution. Do it only if you got the file from a trusted source.\n\t(2) Alternatively, to load with `weights_only=True` please check the recommended steps in the following error message.\n\tWeightsUnpickler error: Unsupported global: GLOBAL __main__.PolicyNet was not an allowed global by default. Please use `torch.serialization.add_safe_globals([__main__.PolicyNet])` or the `torch.serialization.safe_globals([__main__.PolicyNet])` context manager to allowlist this global if you trust this class/function.\n\nCheck the documentation of torch.load to learn more about types accepted by default with weights_only https://pytorch.org/docs/stable/generated/torch.load.html.",
     "output_type": "error",
     "traceback": [
      "\u001B[31m---------------------------------------------------------------------------\u001B[39m",
      "\u001B[31mUnpicklingError\u001B[39m                           Traceback (most recent call last)",
      "\u001B[36mCell\u001B[39m\u001B[36m \u001B[39m\u001B[32mIn[9]\u001B[39m\u001B[32m, line 7\u001B[39m\n\u001B[32m      1\u001B[39m agent123 = REINFORCE(state_dim = \u001B[32m4\u001B[39m, \n\u001B[32m      2\u001B[39m           hidden_dim= \u001B[32m128\u001B[39m, \n\u001B[32m      3\u001B[39m           action_dim = \u001B[32m2\u001B[39m, \n\u001B[32m      4\u001B[39m           learning_rate = \u001B[32m0.001\u001B[39m, \n\u001B[32m      5\u001B[39m           gamma = \u001B[32m0.98\u001B[39m)\n\u001B[32m      6\u001B[39m agent123.epsilon = \u001B[32m0\u001B[39m\n\u001B[32m----> \u001B[39m\u001B[32m7\u001B[39m \u001B[43magent123\u001B[49m\u001B[43m.\u001B[49m\u001B[43mload_model\u001B[49m\u001B[43m(\u001B[49m\u001B[33;43m'\u001B[39;49m\u001B[33;43m./models/3000.pth\u001B[39;49m\u001B[33;43m'\u001B[39;49m\u001B[43m)\u001B[49m\n\u001B[32m      8\u001B[39m record_video(agent123)\n\u001B[32m      9\u001B[39m display_video(\u001B[33m'\u001B[39m\u001B[33m./video/rl-video-episode-0.mp4\u001B[39m\u001B[33m'\u001B[39m)\n",
      "\u001B[36mCell\u001B[39m\u001B[36m \u001B[39m\u001B[32mIn[5]\u001B[39m\u001B[32m, line 21\u001B[39m, in \u001B[36mREINFORCE.load_model\u001B[39m\u001B[34m(self, path)\u001B[39m\n\u001B[32m     20\u001B[39m \u001B[38;5;28;01mdef\u001B[39;00m\u001B[38;5;250m \u001B[39m\u001B[34mload_model\u001B[39m(\u001B[38;5;28mself\u001B[39m, path):\n\u001B[32m---> \u001B[39m\u001B[32m21\u001B[39m     \u001B[38;5;28mself\u001B[39m.policy_net = \u001B[43mtorch\u001B[49m\u001B[43m.\u001B[49m\u001B[43mload\u001B[49m\u001B[43m(\u001B[49m\u001B[43mpath\u001B[49m\u001B[43m)\u001B[49m\n",
      "\u001B[36mFile \u001B[39m\u001B[32m~\\AppData\\Roaming\\Python\\Python312\\site-packages\\torch\\serialization.py:1524\u001B[39m, in \u001B[36mload\u001B[39m\u001B[34m(f, map_location, pickle_module, weights_only, mmap, **pickle_load_args)\u001B[39m\n\u001B[32m   1516\u001B[39m                 \u001B[38;5;28;01mreturn\u001B[39;00m _load(\n\u001B[32m   1517\u001B[39m                     opened_zipfile,\n\u001B[32m   1518\u001B[39m                     map_location,\n\u001B[32m   (...)\u001B[39m\u001B[32m   1521\u001B[39m                     **pickle_load_args,\n\u001B[32m   1522\u001B[39m                 )\n\u001B[32m   1523\u001B[39m             \u001B[38;5;28;01mexcept\u001B[39;00m pickle.UnpicklingError \u001B[38;5;28;01mas\u001B[39;00m e:\n\u001B[32m-> \u001B[39m\u001B[32m1524\u001B[39m                 \u001B[38;5;28;01mraise\u001B[39;00m pickle.UnpicklingError(_get_wo_message(\u001B[38;5;28mstr\u001B[39m(e))) \u001B[38;5;28;01mfrom\u001B[39;00m\u001B[38;5;250m \u001B[39m\u001B[38;5;28;01mNone\u001B[39;00m\n\u001B[32m   1525\u001B[39m         \u001B[38;5;28;01mreturn\u001B[39;00m _load(\n\u001B[32m   1526\u001B[39m             opened_zipfile,\n\u001B[32m   1527\u001B[39m             map_location,\n\u001B[32m   (...)\u001B[39m\u001B[32m   1530\u001B[39m             **pickle_load_args,\n\u001B[32m   1531\u001B[39m         )\n\u001B[32m   1532\u001B[39m \u001B[38;5;28;01mif\u001B[39;00m mmap:\n",
      "\u001B[31mUnpicklingError\u001B[39m: Weights only load failed. This file can still be loaded, to do so you have two options, \u001B[1mdo those steps only if you trust the source of the checkpoint\u001B[0m. \n\t(1) In PyTorch 2.6, we changed the default value of the `weights_only` argument in `torch.load` from `False` to `True`. Re-running `torch.load` with `weights_only` set to `False` will likely succeed, but it can result in arbitrary code execution. Do it only if you got the file from a trusted source.\n\t(2) Alternatively, to load with `weights_only=True` please check the recommended steps in the following error message.\n\tWeightsUnpickler error: Unsupported global: GLOBAL __main__.PolicyNet was not an allowed global by default. Please use `torch.serialization.add_safe_globals([__main__.PolicyNet])` or the `torch.serialization.safe_globals([__main__.PolicyNet])` context manager to allowlist this global if you trust this class/function.\n\nCheck the documentation of torch.load to learn more about types accepted by default with weights_only https://pytorch.org/docs/stable/generated/torch.load.html."
     ]
    }
   ],
   "execution_count": 9
  }
 ],
 "metadata": {
  "kernelspec": {
   "display_name": "Python 3",
   "language": "python",
   "name": "python3"
  },
  "language_info": {
   "codemirror_mode": {
    "name": "ipython",
    "version": 3
   },
   "file_extension": ".py",
   "mimetype": "text/x-python",
   "name": "python",
   "nbconvert_exporter": "python",
   "pygments_lexer": "ipython3",
   "version": "3.12.3"
  }
 },
 "nbformat": 4,
 "nbformat_minor": 5
}
